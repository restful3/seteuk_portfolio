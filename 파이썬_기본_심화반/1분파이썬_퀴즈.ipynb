{
 "cells": [
  {
   "cell_type": "code",
   "execution_count": 1,
   "id": "52c12699-204f-4a1a-85fd-10ac06c30c8e",
   "metadata": {},
   "outputs": [
    {
     "data": {
      "text/plain": [
       "3.14"
      ]
     },
     "execution_count": 1,
     "metadata": {},
     "output_type": "execute_result"
    }
   ],
   "source": [
    "float('3.14')"
   ]
  },
  {
   "cell_type": "code",
   "execution_count": 2,
   "id": "1e74d8b9-2318-45a3-af9e-6f2fa3bf978d",
   "metadata": {},
   "outputs": [
    {
     "ename": "ValueError",
     "evalue": "invalid literal for int() with base 10: '3.14'",
     "output_type": "error",
     "traceback": [
      "\u001b[0;31m---------------------------------------------------------------------------\u001b[0m",
      "\u001b[0;31mValueError\u001b[0m                                Traceback (most recent call last)",
      "Cell \u001b[0;32mIn[2], line 1\u001b[0m\n\u001b[0;32m----> 1\u001b[0m \u001b[38;5;28;43mint\u001b[39;49m\u001b[43m(\u001b[49m\u001b[38;5;124;43m'\u001b[39;49m\u001b[38;5;124;43m3.14\u001b[39;49m\u001b[38;5;124;43m'\u001b[39;49m\u001b[43m)\u001b[49m\n",
      "\u001b[0;31mValueError\u001b[0m: invalid literal for int() with base 10: '3.14'"
     ]
    }
   ],
   "source": [
    "int('3.14')"
   ]
  },
  {
   "cell_type": "code",
   "execution_count": 3,
   "id": "4b54f4f5-1225-460a-a67d-cccd6013e63b",
   "metadata": {},
   "outputs": [
    {
     "data": {
      "text/plain": [
       "3"
      ]
     },
     "execution_count": 3,
     "metadata": {},
     "output_type": "execute_result"
    }
   ],
   "source": [
    "int(3.14)"
   ]
  },
  {
   "cell_type": "code",
   "execution_count": 4,
   "id": "035dd2fc-f1d8-472e-8f8e-bad1c9c1d585",
   "metadata": {},
   "outputs": [
    {
     "data": {
      "text/plain": [
       "3"
      ]
     },
     "execution_count": 4,
     "metadata": {},
     "output_type": "execute_result"
    }
   ],
   "source": [
    "int(float('3.14'))"
   ]
  },
  {
   "cell_type": "code",
   "execution_count": 6,
   "id": "19ee327c-812d-426a-9438-a66ca4966f59",
   "metadata": {},
   "outputs": [
    {
     "name": "stdout",
     "output_type": "stream",
     "text": [
      "파이썬은 쉬워요\n"
     ]
    }
   ],
   "source": [
    "print('파이썬은', end=' ')\n",
    "print('쉬워요')"
   ]
  },
  {
   "cell_type": "code",
   "execution_count": 8,
   "id": "6d79f8fc-0087-4410-89f4-f398f82e0109",
   "metadata": {},
   "outputs": [
    {
     "data": {
      "text/plain": [
       "'Hello? Let me introduce myself. My name is Seungmin Jung. I am 15 years old. There are'"
      ]
     },
     "execution_count": 8,
     "metadata": {},
     "output_type": "execute_result"
    }
   ],
   "source": [
    "text = \"hELLO? lET ME INTRODUCE MYSELF. mY NAME IS sEUNGMIN jUNG. i AM 15 YEARS OLD. tHERE ARE\"\n",
    "text.swapcase()"
   ]
  },
  {
   "cell_type": "code",
   "execution_count": 9,
   "id": "280d3434-3dc8-41dc-9acf-028f7089731e",
   "metadata": {},
   "outputs": [
    {
     "name": "stdout",
     "output_type": "stream",
     "text": [
      "문자열이 'Hello'로 시작합니다.\n"
     ]
    }
   ],
   "source": [
    "# ① startsfrom() 을 사용하여 특정 문자로 시작하는지 확인\n",
    "text = \"Hello, world!\"\n",
    "if text.startswith(\"Hello\"):\n",
    "    print(\"문자열이 'Hello'로 시작합니다.\")\n",
    "else:\n",
    "    print(\"문자열이 'Hello'로 시작하지 않습니다.\")\n"
   ]
  },
  {
   "cell_type": "code",
   "execution_count": 10,
   "id": "3e1a19e2-1fd0-420f-b773-e40b156bd88a",
   "metadata": {},
   "outputs": [
    {
     "name": "stdout",
     "output_type": "stream",
     "text": [
      "제거 전:    Hello, world!   \n",
      "제거 후: Hello, world!\n"
     ]
    }
   ],
   "source": [
    "# ② strip()을 사용하여 문자열 앞뒤의 공백 제거\n",
    "text = \"   Hello, world!   \"\n",
    "stripped_text = text.strip()\n",
    "print(\"제거 전:\", text)\n",
    "print(\"제거 후:\", stripped_text)"
   ]
  },
  {
   "cell_type": "code",
   "execution_count": 11,
   "id": "8d239be4-3ee7-4ca6-ad32-40fa3f60f284",
   "metadata": {},
   "outputs": [
    {
     "name": "stdout",
     "output_type": "stream",
     "text": [
      "바뀐 문장: I like oranges\n"
     ]
    }
   ],
   "source": [
    "# ③ replace()를 사용하여 잘못된 단어 바꾸기\n",
    "text = \"I like apples\"\n",
    "new_text = text.replace(\"apples\", \"oranges\")\n",
    "print(\"바뀐 문장:\", new_text)"
   ]
  },
  {
   "cell_type": "code",
   "execution_count": 12,
   "id": "8a4038e2-b1c5-4c4a-9c58-066fde6d4b72",
   "metadata": {},
   "outputs": [
    {
     "name": "stdout",
     "output_type": "stream",
     "text": [
      "'world'의 위치: 7\n"
     ]
    }
   ],
   "source": [
    "# ④ find()를 사용하여 특정 단어 위치 찾기\n",
    "text = \"Hello, world!\"\n",
    "position = text.find(\"world\")\n",
    "print(\"'world'의 위치:\", position)"
   ]
  },
  {
   "cell_type": "code",
   "execution_count": 13,
   "id": "ad366246-4d08-4a69-841d-870df0659edb",
   "metadata": {},
   "outputs": [
    {
     "data": {
      "text/plain": [
       "[1, 2, 'a', 'c']"
      ]
     },
     "execution_count": 13,
     "metadata": {},
     "output_type": "execute_result"
    }
   ],
   "source": [
    "tmp_list = [1, 2, 'a', 'c']\n",
    "tmp_list"
   ]
  },
  {
   "cell_type": "code",
   "execution_count": 14,
   "id": "0385ed6f-8249-4486-a3c0-c004a75a522e",
   "metadata": {},
   "outputs": [
    {
     "name": "stdout",
     "output_type": "stream",
     "text": [
      "remove() 사용 후: {1, 2, 4, 5}\n"
     ]
    }
   ],
   "source": [
    "# 세트 생성\n",
    "my_set = {1, 2, 3, 4, 5}\n",
    "\n",
    "# 값을 삭제하기 위해 remove() 사용\n",
    "my_set.remove(3)\n",
    "print(\"remove() 사용 후:\", my_set)  # 3이 삭제된 결과 출력"
   ]
  },
  {
   "cell_type": "code",
   "execution_count": 15,
   "id": "203f51ec-e5c1-4942-9f55-2d168163c67a",
   "metadata": {},
   "outputs": [
    {
     "name": "stdout",
     "output_type": "stream",
     "text": [
      "clear() 사용 후: set()\n"
     ]
    }
   ],
   "source": [
    "\n",
    "# 모든 값을 지우기 위해 clear() 사용\n",
    "my_set.clear()\n",
    "print(\"clear() 사용 후:\", my_set)  # 세트가 비어있는지 확인"
   ]
  },
  {
   "cell_type": "code",
   "execution_count": 16,
   "id": "9852c871-41d5-4fff-9178-f665aeb931c3",
   "metadata": {},
   "outputs": [
    {
     "name": "stdout",
     "output_type": "stream",
     "text": [
      "discard() 사용 후: {1, 3, 4, 5}\n"
     ]
    }
   ],
   "source": [
    "# discard()를 사용하여 값 제거\n",
    "my_set = {1, 2, 3, 4, 5}\n",
    "my_set.discard(2)\n",
    "print(\"discard() 사용 후:\", my_set)  # 2가 삭제된 결과 출력"
   ]
  },
  {
   "cell_type": "code",
   "execution_count": 18,
   "id": "927680d2-8b8a-4ab4-a3bb-6f9343558382",
   "metadata": {},
   "outputs": [],
   "source": [
    "my_set = {1, 2, 3, 4, 5}"
   ]
  },
  {
   "cell_type": "code",
   "execution_count": 19,
   "id": "81913dad-b1bc-4094-aac7-f1a2814a476a",
   "metadata": {},
   "outputs": [
    {
     "ename": "KeyError",
     "evalue": "6",
     "output_type": "error",
     "traceback": [
      "\u001b[0;31m---------------------------------------------------------------------------\u001b[0m",
      "\u001b[0;31mKeyError\u001b[0m                                  Traceback (most recent call last)",
      "Cell \u001b[0;32mIn[19], line 1\u001b[0m\n\u001b[0;32m----> 1\u001b[0m \u001b[43mmy_set\u001b[49m\u001b[38;5;241;43m.\u001b[39;49m\u001b[43mremove\u001b[49m\u001b[43m(\u001b[49m\u001b[38;5;241;43m6\u001b[39;49m\u001b[43m)\u001b[49m  \u001b[38;5;66;03m# KeyError: 6\u001b[39;00m\n",
      "\u001b[0;31mKeyError\u001b[0m: 6"
     ]
    }
   ],
   "source": [
    "my_set.remove(6)  # KeyError: 6"
   ]
  },
  {
   "cell_type": "code",
   "execution_count": 20,
   "id": "5573ed40-8c24-45b5-add8-e4e2846a135b",
   "metadata": {},
   "outputs": [],
   "source": [
    "my_set.discard(6)  # KeyError: 6"
   ]
  },
  {
   "cell_type": "code",
   "execution_count": 21,
   "id": "50357888-bcd0-4bc3-aac7-f32762e67355",
   "metadata": {},
   "outputs": [],
   "source": [
    "dictionary = {'k1':'v1', 'k2':'v2', 'k3':'v3'}\n",
    "dictionary['k1'] = 'v0'\n",
    "dictionary['k4'] = 'v4'"
   ]
  },
  {
   "cell_type": "code",
   "execution_count": 24,
   "id": "b230a8cf-6f90-4c91-bcf7-7bbe8674f79e",
   "metadata": {},
   "outputs": [
    {
     "data": {
      "text/plain": [
       "['v0', 'v2', 'v3', 'v4']"
      ]
     },
     "execution_count": 24,
     "metadata": {},
     "output_type": "execute_result"
    }
   ],
   "source": [
    "list(dictionary.values())"
   ]
  },
  {
   "cell_type": "code",
   "execution_count": 25,
   "id": "b88be8e9-0978-49b8-b978-8052290dc602",
   "metadata": {},
   "outputs": [
    {
     "data": {
      "text/plain": [
       "{'k1': 'v0', 'k2': 'v2', 'k3': 'v3', 'k4': 'v4'}"
      ]
     },
     "execution_count": 25,
     "metadata": {},
     "output_type": "execute_result"
    }
   ],
   "source": [
    "dictionary"
   ]
  },
  {
   "cell_type": "code",
   "execution_count": 27,
   "id": "a003f277-8f26-4a37-b4ad-16532e015e34",
   "metadata": {},
   "outputs": [
    {
     "data": {
      "text/plain": [
       "['k1', 'k2', 'k3', 'k4']"
      ]
     },
     "execution_count": 27,
     "metadata": {},
     "output_type": "execute_result"
    }
   ],
   "source": [
    "list(dictionary.keys())"
   ]
  },
  {
   "cell_type": "code",
   "execution_count": 28,
   "id": "f2325156-d474-4bb0-90ca-db88befa36de",
   "metadata": {},
   "outputs": [
    {
     "name": "stdout",
     "output_type": "stream",
     "text": [
      "k1 v0\n",
      "k2 v2\n",
      "k3 v3\n",
      "k4 v4\n"
     ]
    }
   ],
   "source": [
    "for k, v in dictionary.items():\n",
    "    print(k, v)"
   ]
  },
  {
   "cell_type": "code",
   "execution_count": 34,
   "id": "80a763b2-3fd0-423e-8e96-88ca092c6705",
   "metadata": {},
   "outputs": [
    {
     "data": {
      "text/plain": [
       "['k1', 'k2', 'k3', 'k4']"
      ]
     },
     "execution_count": 34,
     "metadata": {},
     "output_type": "execute_result"
    }
   ],
   "source": [
    "list(dictionary)"
   ]
  },
  {
   "cell_type": "code",
   "execution_count": 32,
   "id": "9c69fe5e-475e-46d4-9c5d-17f9e3c42197",
   "metadata": {},
   "outputs": [
    {
     "data": {
      "text/plain": [
       "{}"
      ]
     },
     "execution_count": 32,
     "metadata": {},
     "output_type": "execute_result"
    }
   ],
   "source": [
    "a = dict()\n",
    "a"
   ]
  },
  {
   "cell_type": "code",
   "execution_count": 68,
   "id": "ce3d3854-c836-41b2-ac2f-52b8315bbf2a",
   "metadata": {},
   "outputs": [
    {
     "data": {
      "text/plain": [
       "1000000"
      ]
     },
     "execution_count": 68,
     "metadata": {},
     "output_type": "execute_result"
    }
   ],
   "source": [
    "import random\n",
    "\n",
    "num = 1000000\n",
    "# 0부터 9까지의 정수를 중복을 허용하여 100개 랜덤으로 생성하여 리스트에 저장\n",
    "random_numbers = [random.randint(0, 9) for _ in range(num)]\n",
    "\n",
    "# 결과 출력\n",
    "len(random_numbers)"
   ]
  },
  {
   "cell_type": "code",
   "execution_count": 69,
   "id": "6323e733-27b1-4ab7-b391-c4026cadcbf4",
   "metadata": {},
   "outputs": [
    {
     "name": "stdout",
     "output_type": "stream",
     "text": [
      "CPU times: user 17 ms, sys: 0 ns, total: 17 ms\n",
      "Wall time: 16.9 ms\n"
     ]
    },
    {
     "data": {
      "text/plain": [
       "10"
      ]
     },
     "execution_count": 69,
     "metadata": {},
     "output_type": "execute_result"
    }
   ],
   "source": [
    "%%time\n",
    "\n",
    "my_dic = dict.fromkeys(random_numbers)\n",
    "my_list = list(my_dic)\n",
    "len(my_list)"
   ]
  },
  {
   "cell_type": "code",
   "execution_count": 70,
   "id": "44e58c61-9b2e-4dd6-a750-ccdd1da2d491",
   "metadata": {},
   "outputs": [
    {
     "name": "stdout",
     "output_type": "stream",
     "text": [
      "CPU times: user 76.2 ms, sys: 0 ns, total: 76.2 ms\n",
      "Wall time: 75.5 ms\n"
     ]
    },
    {
     "data": {
      "text/plain": [
       "10"
      ]
     },
     "execution_count": 70,
     "metadata": {},
     "output_type": "execute_result"
    }
   ],
   "source": [
    "%%time\n",
    "\n",
    "tmp_list = []\n",
    "\n",
    "for v in random_numbers:\n",
    "    if v in tmp_list:\n",
    "        pass\n",
    "    else:\n",
    "        tmp_list.append(v)\n",
    "len(tmp_list)"
   ]
  },
  {
   "cell_type": "code",
   "execution_count": 62,
   "id": "55400904-5fb2-4af8-afa1-33e7d3cc95bb",
   "metadata": {},
   "outputs": [
    {
     "data": {
      "text/plain": [
       "True"
      ]
     },
     "execution_count": 62,
     "metadata": {},
     "output_type": "execute_result"
    }
   ],
   "source": [
    "my_list == tmp_list"
   ]
  },
  {
   "cell_type": "code",
   "execution_count": 59,
   "id": "7fe97110-b132-4015-a95d-bf8bb7bad1e3",
   "metadata": {},
   "outputs": [
    {
     "data": {
      "text/plain": [
       "[6,\n",
       " 2,\n",
       " 9,\n",
       " 2,\n",
       " 5,\n",
       " 3,\n",
       " 1,\n",
       " 3,\n",
       " 6,\n",
       " 3,\n",
       " 9,\n",
       " 8,\n",
       " 5,\n",
       " 1,\n",
       " 5,\n",
       " 1,\n",
       " 1,\n",
       " 5,\n",
       " 4,\n",
       " 3,\n",
       " 4,\n",
       " 4,\n",
       " 1,\n",
       " 3,\n",
       " 6,\n",
       " 4,\n",
       " 6,\n",
       " 1,\n",
       " 1,\n",
       " 0,\n",
       " 0,\n",
       " 2,\n",
       " 3,\n",
       " 0,\n",
       " 9,\n",
       " 9,\n",
       " 5,\n",
       " 9,\n",
       " 0,\n",
       " 1,\n",
       " 9,\n",
       " 0,\n",
       " 4,\n",
       " 3,\n",
       " 6,\n",
       " 5,\n",
       " 0,\n",
       " 4,\n",
       " 2,\n",
       " 9,\n",
       " 4,\n",
       " 0,\n",
       " 5,\n",
       " 3,\n",
       " 0,\n",
       " 3,\n",
       " 6,\n",
       " 0,\n",
       " 1,\n",
       " 6,\n",
       " 1,\n",
       " 1,\n",
       " 3,\n",
       " 0,\n",
       " 6,\n",
       " 6,\n",
       " 7,\n",
       " 4,\n",
       " 8,\n",
       " 0,\n",
       " 5,\n",
       " 3,\n",
       " 0,\n",
       " 6,\n",
       " 5,\n",
       " 9,\n",
       " 9,\n",
       " 6,\n",
       " 5,\n",
       " 9,\n",
       " 9,\n",
       " 7,\n",
       " 7,\n",
       " 1,\n",
       " 0,\n",
       " 8,\n",
       " 6,\n",
       " 6,\n",
       " 1,\n",
       " 3,\n",
       " 9,\n",
       " 3,\n",
       " 9,\n",
       " 0,\n",
       " 7,\n",
       " 6,\n",
       " 8,\n",
       " 1,\n",
       " 2,\n",
       " 1,\n",
       " 0,\n",
       " 9,\n",
       " 0,\n",
       " 9,\n",
       " 2,\n",
       " 5,\n",
       " 6,\n",
       " 8,\n",
       " 3,\n",
       " 9,\n",
       " 6,\n",
       " 1,\n",
       " 9,\n",
       " 5,\n",
       " 1,\n",
       " 2,\n",
       " 0,\n",
       " 6,\n",
       " 6,\n",
       " 8,\n",
       " 7,\n",
       " 9,\n",
       " 9,\n",
       " 7,\n",
       " 5,\n",
       " 8,\n",
       " 0,\n",
       " 7,\n",
       " 6,\n",
       " 3,\n",
       " 0,\n",
       " 4,\n",
       " 0,\n",
       " 0,\n",
       " 1,\n",
       " 7,\n",
       " 8,\n",
       " 4,\n",
       " 6,\n",
       " 9,\n",
       " 9,\n",
       " 2,\n",
       " 8,\n",
       " 5,\n",
       " 0,\n",
       " 1,\n",
       " 0,\n",
       " 2,\n",
       " 8,\n",
       " 8,\n",
       " 3,\n",
       " 1,\n",
       " 0,\n",
       " 9,\n",
       " 4,\n",
       " 7,\n",
       " 7,\n",
       " 1,\n",
       " 1,\n",
       " 4,\n",
       " 3,\n",
       " 2,\n",
       " 3,\n",
       " 0,\n",
       " 0,\n",
       " 1,\n",
       " 4,\n",
       " 2,\n",
       " 1,\n",
       " 1,\n",
       " 8,\n",
       " 9,\n",
       " 4,\n",
       " 3,\n",
       " 0,\n",
       " 8,\n",
       " 6,\n",
       " 1,\n",
       " 7,\n",
       " 5,\n",
       " 4,\n",
       " 7,\n",
       " 8,\n",
       " 1,\n",
       " 3,\n",
       " 6,\n",
       " 4,\n",
       " 5,\n",
       " 7,\n",
       " 6,\n",
       " 5,\n",
       " 8,\n",
       " 0,\n",
       " 6,\n",
       " 4,\n",
       " 1,\n",
       " 2,\n",
       " 1,\n",
       " 9,\n",
       " 4,\n",
       " 6,\n",
       " 0,\n",
       " 9,\n",
       " 6,\n",
       " 8,\n",
       " 7,\n",
       " 4,\n",
       " 0,\n",
       " 3,\n",
       " 6,\n",
       " 7,\n",
       " 3,\n",
       " 7,\n",
       " 7,\n",
       " 1,\n",
       " 0,\n",
       " 2,\n",
       " 1,\n",
       " 5,\n",
       " 7,\n",
       " 5,\n",
       " 6,\n",
       " 8,\n",
       " 4,\n",
       " 7,\n",
       " 6,\n",
       " 6,\n",
       " 6,\n",
       " 6,\n",
       " 7,\n",
       " 3,\n",
       " 3,\n",
       " 1,\n",
       " 2,\n",
       " 7,\n",
       " 0,\n",
       " 0,\n",
       " 1,\n",
       " 1,\n",
       " 9,\n",
       " 8,\n",
       " 5,\n",
       " 2,\n",
       " 4,\n",
       " 7,\n",
       " 1,\n",
       " 5,\n",
       " 2,\n",
       " 9,\n",
       " 8,\n",
       " 9,\n",
       " 7,\n",
       " 1,\n",
       " 4,\n",
       " 8,\n",
       " 4,\n",
       " 3,\n",
       " 1,\n",
       " 3,\n",
       " 9,\n",
       " 7,\n",
       " 9,\n",
       " 0,\n",
       " 7,\n",
       " 8,\n",
       " 1,\n",
       " 2,\n",
       " 8,\n",
       " 9,\n",
       " 6,\n",
       " 7,\n",
       " 6,\n",
       " 7,\n",
       " 3,\n",
       " 0,\n",
       " 5,\n",
       " 8,\n",
       " 7,\n",
       " 1,\n",
       " 1,\n",
       " 3,\n",
       " 8,\n",
       " 4,\n",
       " 5,\n",
       " 2,\n",
       " 5,\n",
       " 9,\n",
       " 3,\n",
       " 3,\n",
       " 6,\n",
       " 4,\n",
       " 7,\n",
       " 5,\n",
       " 4,\n",
       " 8,\n",
       " 0,\n",
       " 1,\n",
       " 6,\n",
       " 4,\n",
       " 1,\n",
       " 5,\n",
       " 1,\n",
       " 8,\n",
       " 8,\n",
       " 4,\n",
       " 1,\n",
       " 1,\n",
       " 6,\n",
       " 2,\n",
       " 1,\n",
       " 0,\n",
       " 6,\n",
       " 4,\n",
       " 0,\n",
       " 3,\n",
       " 1,\n",
       " 3,\n",
       " 0,\n",
       " 8,\n",
       " 5,\n",
       " 1,\n",
       " 3,\n",
       " 4,\n",
       " 4,\n",
       " 3,\n",
       " 0,\n",
       " 3,\n",
       " 8,\n",
       " 6,\n",
       " 0,\n",
       " 6,\n",
       " 6,\n",
       " 5,\n",
       " 4,\n",
       " 7,\n",
       " 9,\n",
       " 6,\n",
       " 2,\n",
       " 2,\n",
       " 2,\n",
       " 3,\n",
       " 4,\n",
       " 6,\n",
       " 6,\n",
       " 9,\n",
       " 3,\n",
       " 3,\n",
       " 0,\n",
       " 8,\n",
       " 6,\n",
       " 9,\n",
       " 4,\n",
       " 7,\n",
       " 4,\n",
       " 3,\n",
       " 4,\n",
       " 4,\n",
       " 8,\n",
       " 3,\n",
       " 1,\n",
       " 8,\n",
       " 3,\n",
       " 5,\n",
       " 0,\n",
       " 6,\n",
       " 9,\n",
       " 0,\n",
       " 8,\n",
       " 7,\n",
       " 2,\n",
       " 8,\n",
       " 6,\n",
       " 9,\n",
       " 7,\n",
       " 0,\n",
       " 5,\n",
       " 1,\n",
       " 5,\n",
       " 0,\n",
       " 6,\n",
       " 2,\n",
       " 3,\n",
       " 1,\n",
       " 3,\n",
       " 4,\n",
       " 1,\n",
       " 3,\n",
       " 2,\n",
       " 2,\n",
       " 4,\n",
       " 9,\n",
       " 6,\n",
       " 7,\n",
       " 6,\n",
       " 1,\n",
       " 1,\n",
       " 8,\n",
       " 8,\n",
       " 0,\n",
       " 2,\n",
       " 7,\n",
       " 1,\n",
       " 2,\n",
       " 0,\n",
       " 1,\n",
       " 5,\n",
       " 9,\n",
       " 9,\n",
       " 3,\n",
       " 4,\n",
       " 9,\n",
       " 6,\n",
       " 1,\n",
       " 4,\n",
       " 9,\n",
       " 0,\n",
       " 4,\n",
       " 2,\n",
       " 1,\n",
       " 6,\n",
       " 9,\n",
       " 7,\n",
       " 1,\n",
       " 4,\n",
       " 8,\n",
       " 2,\n",
       " 5,\n",
       " 9,\n",
       " 1,\n",
       " 5,\n",
       " 6,\n",
       " 3,\n",
       " 0,\n",
       " 4,\n",
       " 1,\n",
       " 6,\n",
       " 8,\n",
       " 7,\n",
       " 7,\n",
       " 4,\n",
       " 9,\n",
       " 5,\n",
       " 1,\n",
       " 8,\n",
       " 1,\n",
       " 4,\n",
       " 1,\n",
       " 8,\n",
       " 0,\n",
       " 3,\n",
       " 3,\n",
       " 2,\n",
       " 8,\n",
       " 5,\n",
       " 3,\n",
       " 1,\n",
       " 4,\n",
       " 4,\n",
       " 7,\n",
       " 8,\n",
       " 1,\n",
       " 5,\n",
       " 4,\n",
       " 5,\n",
       " 5,\n",
       " 8,\n",
       " 2,\n",
       " 9,\n",
       " 3,\n",
       " 9,\n",
       " 4,\n",
       " 9,\n",
       " 6,\n",
       " 9,\n",
       " 6,\n",
       " 2,\n",
       " 1,\n",
       " 9,\n",
       " 9,\n",
       " 5,\n",
       " 8,\n",
       " 1,\n",
       " 8,\n",
       " 9,\n",
       " 5,\n",
       " 0,\n",
       " 9,\n",
       " 6,\n",
       " 1,\n",
       " 7,\n",
       " 0,\n",
       " 3,\n",
       " 7,\n",
       " 1,\n",
       " 5,\n",
       " 4,\n",
       " 0,\n",
       " 1,\n",
       " 6,\n",
       " 6,\n",
       " 4,\n",
       " 4,\n",
       " 6,\n",
       " 5,\n",
       " 8,\n",
       " 1,\n",
       " 0,\n",
       " 0,\n",
       " 0,\n",
       " 0,\n",
       " 9,\n",
       " 1,\n",
       " 1,\n",
       " 8,\n",
       " 5,\n",
       " 1,\n",
       " 9,\n",
       " 1,\n",
       " 6,\n",
       " 2,\n",
       " 7,\n",
       " 9,\n",
       " 0,\n",
       " 8,\n",
       " 1,\n",
       " 2,\n",
       " 2,\n",
       " 3,\n",
       " 8,\n",
       " 5,\n",
       " 7,\n",
       " 0,\n",
       " 6,\n",
       " 4,\n",
       " 8,\n",
       " 0,\n",
       " 0,\n",
       " 6,\n",
       " 4,\n",
       " 9,\n",
       " 9,\n",
       " 4,\n",
       " 0,\n",
       " 9,\n",
       " 2,\n",
       " 5,\n",
       " 8,\n",
       " 6,\n",
       " 0,\n",
       " 3,\n",
       " 0,\n",
       " 5,\n",
       " 7,\n",
       " 6,\n",
       " 8,\n",
       " 8,\n",
       " 5,\n",
       " 9,\n",
       " 6,\n",
       " 9,\n",
       " 7,\n",
       " 6,\n",
       " 4,\n",
       " 3,\n",
       " 6,\n",
       " 4,\n",
       " 6,\n",
       " 3,\n",
       " 4,\n",
       " 3,\n",
       " 7,\n",
       " 0,\n",
       " 5,\n",
       " 0,\n",
       " 8,\n",
       " 3,\n",
       " 1,\n",
       " 1,\n",
       " 3,\n",
       " 6,\n",
       " 8,\n",
       " 2,\n",
       " 6,\n",
       " 9,\n",
       " 4,\n",
       " 5,\n",
       " 5,\n",
       " 1,\n",
       " 6,\n",
       " 3,\n",
       " 8,\n",
       " 7,\n",
       " 8,\n",
       " 2,\n",
       " 5,\n",
       " 4,\n",
       " 5,\n",
       " 4,\n",
       " 7,\n",
       " 7,\n",
       " 6,\n",
       " 7,\n",
       " 2,\n",
       " 1,\n",
       " 9,\n",
       " 7,\n",
       " 6,\n",
       " 3,\n",
       " 6,\n",
       " 9,\n",
       " 3,\n",
       " 6,\n",
       " 9,\n",
       " 0,\n",
       " 9,\n",
       " 5,\n",
       " 8,\n",
       " 4,\n",
       " 8,\n",
       " 1,\n",
       " 0,\n",
       " 9,\n",
       " 5,\n",
       " 6,\n",
       " 2,\n",
       " 5,\n",
       " 2,\n",
       " 0,\n",
       " 0,\n",
       " 1,\n",
       " 3,\n",
       " 3,\n",
       " 4,\n",
       " 7,\n",
       " 1,\n",
       " 2,\n",
       " 4,\n",
       " 2,\n",
       " 0,\n",
       " 0,\n",
       " 1,\n",
       " 2,\n",
       " 5,\n",
       " 0,\n",
       " 0,\n",
       " 6,\n",
       " 0,\n",
       " 9,\n",
       " 7,\n",
       " 3,\n",
       " 5,\n",
       " 9,\n",
       " 3,\n",
       " 4,\n",
       " 8,\n",
       " 9,\n",
       " 3,\n",
       " 7,\n",
       " 5,\n",
       " 2,\n",
       " 1,\n",
       " 9,\n",
       " 8,\n",
       " 4,\n",
       " 0,\n",
       " 4,\n",
       " 9,\n",
       " 5,\n",
       " 2,\n",
       " 6,\n",
       " 3,\n",
       " 4,\n",
       " 1,\n",
       " 3,\n",
       " 9,\n",
       " 5,\n",
       " 9,\n",
       " 4,\n",
       " 5,\n",
       " 4,\n",
       " 9,\n",
       " 8,\n",
       " 7,\n",
       " 6,\n",
       " 5,\n",
       " 1,\n",
       " 5,\n",
       " 8,\n",
       " 4,\n",
       " 4,\n",
       " 6,\n",
       " 2,\n",
       " 8,\n",
       " 0,\n",
       " 3,\n",
       " 2,\n",
       " 4,\n",
       " 2,\n",
       " 7,\n",
       " 0,\n",
       " 5,\n",
       " 9,\n",
       " 6,\n",
       " 1,\n",
       " 9,\n",
       " 1,\n",
       " 1,\n",
       " 6,\n",
       " 2,\n",
       " 3,\n",
       " 6,\n",
       " 7,\n",
       " 4,\n",
       " 5,\n",
       " 0,\n",
       " 0,\n",
       " 3,\n",
       " 7,\n",
       " 7,\n",
       " 5,\n",
       " 5,\n",
       " 4,\n",
       " 8,\n",
       " 4,\n",
       " 3,\n",
       " 7,\n",
       " 0,\n",
       " 3,\n",
       " 8,\n",
       " 9,\n",
       " 7,\n",
       " 3,\n",
       " 2,\n",
       " 0,\n",
       " 8,\n",
       " 6,\n",
       " 7,\n",
       " 3,\n",
       " 6,\n",
       " 4,\n",
       " 0,\n",
       " 4,\n",
       " 7,\n",
       " 1,\n",
       " 7,\n",
       " 1,\n",
       " 7,\n",
       " 9,\n",
       " 4,\n",
       " 3,\n",
       " 2,\n",
       " 5,\n",
       " 9,\n",
       " 6,\n",
       " 9,\n",
       " 7,\n",
       " 0,\n",
       " 8,\n",
       " 6,\n",
       " 6,\n",
       " 1,\n",
       " 4,\n",
       " 3,\n",
       " 6,\n",
       " 1,\n",
       " 8,\n",
       " 6,\n",
       " 3,\n",
       " 4,\n",
       " 9,\n",
       " 4,\n",
       " 5,\n",
       " 4,\n",
       " 6,\n",
       " 5,\n",
       " 7,\n",
       " 4,\n",
       " 7,\n",
       " 3,\n",
       " 9,\n",
       " 3,\n",
       " 1,\n",
       " 8,\n",
       " 4,\n",
       " 7,\n",
       " 0,\n",
       " 6,\n",
       " 3,\n",
       " 4,\n",
       " 6,\n",
       " 7,\n",
       " 6,\n",
       " 7,\n",
       " 7,\n",
       " 1,\n",
       " 4,\n",
       " 6,\n",
       " 0,\n",
       " 3,\n",
       " 5,\n",
       " 1,\n",
       " 1,\n",
       " 1,\n",
       " 0,\n",
       " 8,\n",
       " 3,\n",
       " 7,\n",
       " 6,\n",
       " 8,\n",
       " 5,\n",
       " 6,\n",
       " 0,\n",
       " 6,\n",
       " 9,\n",
       " 0,\n",
       " 9,\n",
       " 5,\n",
       " 2,\n",
       " 4,\n",
       " 9,\n",
       " 5,\n",
       " 0,\n",
       " 5,\n",
       " 1,\n",
       " 7,\n",
       " 7,\n",
       " 7,\n",
       " 7,\n",
       " 7,\n",
       " 6,\n",
       " 7,\n",
       " 2,\n",
       " 7,\n",
       " 5,\n",
       " 5,\n",
       " 1,\n",
       " 3,\n",
       " 2,\n",
       " 7,\n",
       " 4,\n",
       " 7,\n",
       " 4,\n",
       " 0,\n",
       " 3,\n",
       " 2,\n",
       " 5,\n",
       " 9,\n",
       " 3,\n",
       " 2,\n",
       " 6,\n",
       " 5,\n",
       " 4,\n",
       " 9,\n",
       " 8,\n",
       " 2,\n",
       " 7,\n",
       " 6,\n",
       " 1,\n",
       " 2,\n",
       " 7,\n",
       " 3,\n",
       " 8,\n",
       " 3,\n",
       " 0,\n",
       " 8,\n",
       " 3,\n",
       " 6,\n",
       " 0,\n",
       " 5,\n",
       " 1,\n",
       " 1,\n",
       " 6,\n",
       " 9,\n",
       " 2,\n",
       " 0,\n",
       " 0,\n",
       " 1,\n",
       " 9,\n",
       " 2,\n",
       " 5,\n",
       " 0,\n",
       " 1,\n",
       " 7,\n",
       " 7,\n",
       " 2,\n",
       " 6,\n",
       " 6,\n",
       " 5,\n",
       " 6,\n",
       " 4,\n",
       " 6,\n",
       " 2,\n",
       " 6,\n",
       " 3,\n",
       " 0,\n",
       " 2,\n",
       " 8,\n",
       " 2,\n",
       " 1,\n",
       " 2,\n",
       " 8,\n",
       " 5,\n",
       " 6,\n",
       " 2,\n",
       " 8,\n",
       " 5,\n",
       " 5,\n",
       " 8,\n",
       " 5,\n",
       " 0,\n",
       " 3,\n",
       " 7,\n",
       " 0,\n",
       " 4,\n",
       " 4,\n",
       " 0,\n",
       " 0,\n",
       " 9,\n",
       " 1,\n",
       " 7,\n",
       " 3,\n",
       " 6,\n",
       " 9,\n",
       " 1,\n",
       " 4,\n",
       " 3,\n",
       " 8,\n",
       " 9,\n",
       " 8,\n",
       " 5,\n",
       " 0,\n",
       " 1,\n",
       " 4,\n",
       " 2,\n",
       " 3,\n",
       " 4,\n",
       " 5,\n",
       " 2,\n",
       " 8,\n",
       " 6,\n",
       " 2,\n",
       " 0,\n",
       " 0,\n",
       " 5,\n",
       " 5,\n",
       " 8,\n",
       " 1,\n",
       " 0,\n",
       " 3,\n",
       " 6,\n",
       " 8,\n",
       " 7,\n",
       " 2,\n",
       " 6,\n",
       " 4,\n",
       " 3,\n",
       " 1,\n",
       " 0,\n",
       " 1,\n",
       " 4,\n",
       " 6,\n",
       " 0,\n",
       " 1,\n",
       " 3,\n",
       " 1,\n",
       " 3,\n",
       " 7,\n",
       " 0,\n",
       " 8,\n",
       " 2,\n",
       " 8,\n",
       " 9,\n",
       " 2,\n",
       " 0,\n",
       " 6,\n",
       " 7,\n",
       " 0,\n",
       " 3,\n",
       " 3,\n",
       " 9,\n",
       " 7,\n",
       " 8,\n",
       " 5,\n",
       " 1,\n",
       " 2,\n",
       " 2,\n",
       " 5,\n",
       " 8,\n",
       " 3,\n",
       " 3,\n",
       " 5,\n",
       " 0,\n",
       " 9,\n",
       " 3,\n",
       " 1,\n",
       " 3,\n",
       " 2,\n",
       " 8,\n",
       " 3,\n",
       " 8,\n",
       " ...]"
      ]
     },
     "execution_count": 59,
     "metadata": {},
     "output_type": "execute_result"
    }
   ],
   "source": [
    "my_list"
   ]
  },
  {
   "cell_type": "code",
   "execution_count": 58,
   "id": "4bcc43ac-c18d-4153-9ded-639799d09da4",
   "metadata": {},
   "outputs": [
    {
     "data": {
      "text/plain": [
       "[6, 2, 9, 5, 3, 1, 8, 4, 0, 7]"
      ]
     },
     "execution_count": 58,
     "metadata": {},
     "output_type": "execute_result"
    }
   ],
   "source": [
    "tmp_list"
   ]
  },
  {
   "cell_type": "code",
   "execution_count": 71,
   "id": "c3dbc50e-203c-484c-b9b9-979873e634d6",
   "metadata": {},
   "outputs": [
    {
     "name": "stdin",
     "output_type": "stream",
     "text": [
      "문자열을 입력하세요 (종료하려면 'q' 입력):  ㅇㄹㄴ래먀노ㅓㄹ미나어리ㅏㅁㄴㅇ\n"
     ]
    },
    {
     "name": "stdout",
     "output_type": "stream",
     "text": [
      "입력된 문자열: ㅇㄹㄴ래먀노ㅓㄹ미나어리ㅏㅁㄴㅇ\n"
     ]
    },
    {
     "name": "stdin",
     "output_type": "stream",
     "text": [
      "문자열을 입력하세요 (종료하려면 'q' 입력):  asldkfjlskajflksadf\n"
     ]
    },
    {
     "name": "stdout",
     "output_type": "stream",
     "text": [
      "입력된 문자열: asldkfjlskajflksadf\n"
     ]
    },
    {
     "name": "stdin",
     "output_type": "stream",
     "text": [
      "문자열을 입력하세요 (종료하려면 'q' 입력):  q\n"
     ]
    },
    {
     "name": "stdout",
     "output_type": "stream",
     "text": [
      "프로그램을 종료합니다.\n"
     ]
    }
   ],
   "source": [
    "# 사용자로부터 문자열을 입력받아 출력하는 프로그램\n",
    "while True:\n",
    "    # 사용자로부터 문자열을 입력 받음\n",
    "    user_input = input(\"문자열을 입력하세요 (종료하려면 'q' 입력): \")\n",
    "    \n",
    "    # 사용자가 'q'를 입력하면 반복문 종료\n",
    "    if user_input == 'q':\n",
    "        print(\"프로그램을 종료합니다.\")\n",
    "        break\n",
    "    \n",
    "    # 입력된 문자열을 출력\n",
    "    print(\"입력된 문자열:\", user_input)"
   ]
  },
  {
   "cell_type": "code",
   "execution_count": null,
   "id": "99ecaf2d-3d32-4eb9-a1d9-93b47d24e62f",
   "metadata": {},
   "outputs": [],
   "source": []
  }
 ],
 "metadata": {
  "kernelspec": {
   "display_name": "Python 3 (ipykernel)",
   "language": "python",
   "name": "python3"
  },
  "language_info": {
   "codemirror_mode": {
    "name": "ipython",
    "version": 3
   },
   "file_extension": ".py",
   "mimetype": "text/x-python",
   "name": "python",
   "nbconvert_exporter": "python",
   "pygments_lexer": "ipython3",
   "version": "3.10.14"
  }
 },
 "nbformat": 4,
 "nbformat_minor": 5
}
