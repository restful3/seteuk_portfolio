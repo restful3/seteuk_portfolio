{
 "cells": [
  {
   "cell_type": "markdown",
   "id": "02ae574e",
   "metadata": {},
   "source": [
    "# 파이썬이란?\n",
    "- 파이썬의 유래\n",
    "    - 파이썬(Python)은 1990년 안스테르담의 [귀도 반 로섬(Guido van Rossum)](https://joone.net/tag/%EA%B7%80%EB%8F%84-%EB%B0%98-%EB%A1%9C%EC%84%AC/)이 개발한 인터프리터 언어\n",
    "    <img src=\"./images/fig_01_01.png\" width=300>\n",
    "\n",
    "        - [인터프리터 언어](https://just-my-blog.tistory.com/31) : 인터프리터 언어는 개발자가 작성한 코드(원시 코드)를 기계어로 변환하는 과정없이 한줄씩 해석하여 명령을 바로 처리하는 프로그래밍 언어\n",
    "\n",
    "    <img src=\"./images/fig_01_02.png\" width=500>\n",
    "    \n",
    "        - 귀도는 파이썬이란 이름을 자신이 좋아하는 코미디 쇼인 '몬티 파이썬의 날아다니는 서커스' 에서 따왔다고 한다.\n",
    "    - 파이썬의 사전적 의미는 '고대 신화에 나오는 파르나소스 산의 동굴에 살던 큰 뱀'\n",
    "        - 아폴로 신이 델파이에서 파이썬을 퇴치 했다는 이야기가 전해지고 있다.\n",
    "        - 대부분 파이썬의 책 표지와 아이콘이 뱀 모양으로 그려져 있는 이유  \n",
    "        \n",
    "<img src=\"./images/fig_01_03.png\" width=500>        "
   ]
  },
  {
   "cell_type": "markdown",
   "id": "46825c60",
   "metadata": {},
   "source": [
    "# 파이썬의 특징\n",
    "\n",
    "## 파이썬은 인간다운 언어이다\n",
    "- 파이썬은 일반 프로그래밍 언어와 다르게 컴퓨터의 사고 체계에 맞추어 프로그래밍을 하려고 애쓸 필요 없이, 사람이 생각하는 방식을 그대로 표현할 수 있는 언어이다."
   ]
  },
  {
   "cell_type": "code",
   "execution_count": 3,
   "id": "cface1fa",
   "metadata": {},
   "outputs": [
    {
     "name": "stdout",
     "output_type": "stream",
     "text": [
      "4가 있습니다.\n"
     ]
    }
   ],
   "source": [
    "if 4 in [1, 2 ,3, 4]: \n",
    "    print(\"4가 있습니다.\")"
   ]
  },
  {
   "cell_type": "markdown",
   "id": "d1650a2f",
   "metadata": {},
   "source": [
    "| **만약 4가 1, 2, 3, 4 중에 있으면 4를 출력 하세요**"
   ]
  },
  {
   "cell_type": "markdown",
   "id": "402c09d8",
   "metadata": {},
   "source": [
    "- 영어 문장을 읽는 것과 같은 방식"
   ]
  },
  {
   "cell_type": "markdown",
   "id": "4898c375",
   "metadata": {},
   "source": [
    "## 문법이 쉬워 빠르게 배울 수 있다\n",
    "- 파이썬은 문법 자체가 아주 쉽고 간결해 사람의 사고 체계와 매우 닮아있다.\n",
    "\n",
    "## 무료이지만 강력하다\n",
    "- 파이썬은 오픈소스이다. (무료이다.)\n",
    "    - 오픈 소스란 저작권자가 소스 코드를 공개하여 누구나 별다른 제한 없이 사용 가능한 소프트웨어\n",
    "- 시스템 프로그래밍이나 하드웨어 제어와 같은 매우 복잡하고 반복 연산이 많은 프로그램은 파이썬과 어울리지 않는다. \n",
    "- 하지만 파이썬은 이러한 약점을 극복할 수 있게끔 다른 언어로 만든 프로그램을 파이썬 프로그램에 포함시킬 수 있다. \n",
    "- 'C와 파이썬은 찰떡궁합'\n",
    "    - 프로그램 전반의 뼈대는 파이썬으로 \n",
    "    - 빠른 실행 속도가 필요한 부분은 C로\n",
    "\n",
    "## 간결하다\n",
    "- 파이썬은 다른 언어와 다르게 단락을 구분하는 괄호({}) 문자를 사용하지 않는다.\n",
    "- 파이썬 프로그램은 줄(들여쓰기)을 맞추지 않으면 실행되지 않는다. \n",
    "- 이렇듯 줄을 맞추어 코드를 작성하는 행위는 가독성에 크게 도움이 된다.\n",
    "    - 공동작업과 유지보수에 유리\n",
    "- 파이썬은 컴퓨터 프로그래밍 교육을 위해 많이 사용하지만, 공동 작업과 유지보수가 매우 쉽고 편하다는 이유로 기업의 실무를 위해서도 많이 사용한다. \n",
    "    - 대표적인 예로는 구글, 인스타그램, 드롭박스 등이 있다.\n",
    "- 다음은 파이썬 코드의 간결함을 보여주는 예\n",
    "\n",
    "**C언어**\n",
    "\n",
    "```c\n",
    "#include <stdio.h>\n",
    "#include <string.h>\n",
    "\n",
    "int main() {\n",
    "    char *languages[] = {\"python\", \"perl\", \"c\", \"java\"};\n",
    "    int i;\n",
    "\n",
    "    for (i = 0; i < sizeof(languages) / sizeof(languages[0]); i++) {\n",
    "        if (strcmp(languages[i], \"python\") == 0 || strcmp(languages[i], \"perl\") == 0) {\n",
    "            printf(\"%-6s need interpreter\\n\", languages[i]);\n",
    "        } else if (strcmp(languages[i], \"c\") == 0 || strcmp(languages[i], \"java\") == 0) {\n",
    "            printf(\"%-6s need compiler\\n\", languages[i]);\n",
    "        } else {\n",
    "            printf(\"should not reach here\\n\");\n",
    "        }\n",
    "    }\n",
    "\n",
    "    return 0;\n",
    "}\n",
    "```\n",
    "\n",
    "**python**\n",
    "\n",
    "```python\n",
    "\n",
    "languages = ['python', 'perl', 'c', 'java']\n",
    "\n",
    "for lang in languages :\n",
    "    if lang in ['python', 'perl'] :\n",
    "        print(\"%6s need interpreter\" % lang)\n",
    "    elif lang in ['c', 'java'] :\n",
    "        print(\"%6s need compiler\" % lang)\n",
    "    else :\n",
    "        print(\"should not reach here\")\n",
    "\n",
    "```\n",
    "\n"
   ]
  },
  {
   "cell_type": "markdown",
   "id": "ee2fbef6",
   "metadata": {},
   "source": [
    "## 프로그래밍을 즐기게 해 준다\n",
    "- 부수적인 다른 개념이나 제한 사항등에 신경 쓸 필요 없이 만들고자 하는 것에만 집중 하게 해준다.\n",
    "\n",
    "## 개발 속도가 빠르다\n",
    "- 파이썬의 빠른 개발 속도를 두고 유행처럼 퍼진 말이다.\n",
    "- **Life is too short, You need python.**"
   ]
  },
  {
   "cell_type": "markdown",
   "id": "7698734d",
   "metadata": {},
   "source": [
    "# 파이썬으로 무엇을 할 수 있을까?\n",
    "\n",
    "## 파이썬으로 할 수 있는 일\n",
    "### 웹프로그래밍\n",
    "- 웹 프로그래밍에 많이 활용된다.\n",
    "- [django](https://www.djangoproject.com/), [flask](https://flask.palletsprojects.com/en/3.0.x/), [strealit](https://streamlit.io/)\n",
    "\n",
    "### 인공지능과 머신러닝\n",
    "- 인공지능 분야의 발전은 파이썬의 인기를 올리는 주요 원인 중 하나\n",
    "- 많은 인공지능 라이브러리나 소프트웨어가 파이썬을 기반으로 만들어져 있다.\n",
    "    - 파이토치, 텐서플로우, sklearn, opencv, matplotlib, keras\n",
    "\n",
    "### 수치 연산 프로그래밍\n",
    "- 파이썬은 수치 연산에 적합 하지는 않다.\n",
    "    - 속도가 느림\n",
    "- 넘파이는 C로 핵심 연산 부분이 작성되어, 높은 편의성과 함께 빠른 수치 연산을 가능하게 한다.\n",
    "\n",
    "<img src=\"./images/fig_01_04.png\" width=500>\n",
    "\n",
    "### 데이터 분석\n",
    "- R이란 언어와 함께 데이터 분석에 가장 많이 쓰이는 언어\n",
    "    - R은 통계학 관련 학계나 업계에서 주로 쓰임\n",
    "    - 통계학 관련 방대한 라이브러리가 공유되고 있음\n",
    "- numpy, pandas, matplotlib 등과 함께, 데이터 처리, 통계 분석, 시각화 수행\n",
    "\n",
    "<img src=\"./images/fig_01_05.png\" width=500>\n",
    "\n",
    "### 데이터베이스 프로그래밍\n",
    "- Sybase, informix, Oracle, MySQL, PostgreSQL 등 대부분의 데이터베이스에 접근 가능한 라이브러리가 공유됨\n",
    "- pickle을 통해 파이썬 상의 자료나 객체를 파일로 간단히 저장하고 불러 올 수 있음\n",
    "\n",
    "### 시스템 유틸리티 제작하기\n",
    "- 운영체제(리눅스, 맥, 윈도우)의 시스템 명령어를 사용할 수 있는 도구 제공\n",
    "- 파일관리, 로그 분석, 시스템 모니터링 등 유틸리티 제작 가능 \n",
    "\n",
    "### GUI 프로그래밍\n",
    "- GUI(Graphic User Interface) 프로그래밍 이란, 화면에 윈도우 창을 만들고, 그 창에 버튼이나 동작 시킬수 있는 메뉴를 표시하는 것\n",
    "- Tkinter를 사용 몇줄의 코드로 작성 가능\n",
    "\n",
    "<img src=\"./images/fig_01_06.png\" width=500>\n",
    "\n",
    "### C/C++와 결합\n",
    "- 파이썬은 접착(glue)언어\n",
    "- 다른 언어와 결합해 사용하기 용이\n",
    "- C/C++과 결합하여, 편의성과 성능을 모두 확보 할 수 있다.\n",
    "    - numpy 처럼\n",
    "    \n",
    "### 사물 인터넷\n",
    "- IoT분야에서도 폭 넓게 사용되고 있다.\n",
    "- 라즈베리파이 (리눅스 기반의 초소형 컴퓨터)를 사용 홈시어터나 매우 작은 게임기 등 다양한 IoT 용도로 사용 가능 한 프로그램이 파이썬 기반으로 공개 되어 있다.\n",
    "\n",
    "<img src=\"./images/fig_01_07.png\" width=500>\n",
    "\n",
    "\n",
    "## 파이썬으로 할 수 없는 일\n",
    "### 시스템과 밀접한 프로그래밍 영역\n",
    "- 리눅스 같은 운영체제, 엄청난 횟수의 반복과 연산이 필요한 프로그램 또는 데이터 압축 알고리즘 개발 프로그램 등을 만드는 것은 어렵다.\n",
    "- 대단히 빠른 속도를 요구하거나 하드웨어를 직접 건드려야 하는 프로그램에는 어울리지 않는다.\n",
    "\n",
    "### 모바일 프로그래밍\n",
    "- 파이썬은 구글이 많이 애용하는 언어지만 Android용 네이티브 앱을 개발하는 것은 아직 어렵다.\n",
    "- IOS 앱을 개발하는 것도 아직까지는 어렵다."
   ]
  },
  {
   "cell_type": "markdown",
   "id": "66ee1877",
   "metadata": {},
   "source": [
    "# 파이썬 설치하기\n",
    "\n",
    "- [파이썬 홈페이지](https://www.python.org/)\n",
    "\n",
    "## 윈도우에서 파이썬 설치하기\n",
    "\n",
    "- [파이썬 공식 홈페이지의 다운로드 페이지](https://www.python.org/downloads/)에서 윈도우용 파이썬다운로드\n",
    "- 3.x로 시작하는 가장 최신 다운로드\n",
    "    - 너무 최신이면 호환성 문제가 생길 수 있음\n",
    "    - 메인으로 사용하려는 라이브러리와 문제가 없는지 살필 것\n",
    "\n",
    "<img src=\"./images/fig_01_08.png\" width=500>\n",
    "\n",
    "- 설치 파일 실행, Install Now 클릭\n",
    "- Add python exe to PATH 옵션을 선택 해 어디서나 파이썬이 실행 되도록 한다\n",
    "\n",
    "<img src=\"./images/fig_01_09.png\" width=500>\n",
    "\n",
    "- 설치 후 Close 클릭 \n",
    "- 정상 설치 되었다면 시작 메뉴에서 python 검색 시 보여야\n",
    "\n",
    "<img src=\"./images/fig_01_10.png\" width=500>\n",
    "\n",
    "## 맥에서 파이썬 설치하기\n",
    "\n",
    "- 동일하게 파이썬 공식 홈페이지에서 맥용 파이썬 설치 파일 다운로드\n",
    "\n",
    "<img src=\"./images/fig_01_11.png\" width=500>\n",
    "\n",
    "- 다운 받은 실행 파일 설치\n",
    "- 설치가 완료 되었다면 터미널을 열어 아래와 같이 python3 를 실행 하여 버전 확인\n",
    "    - 맥에는 기본 python 2.7이 깔려 있어, python 이라고 실행하면 기존 설치된 것이 실행 됨\n",
    "\n",
    "<img src=\"./images/fig_01_12.png\" width=500>"
   ]
  },
  {
   "cell_type": "markdown",
   "id": "f5c47784",
   "metadata": {},
   "source": [
    "# 파이썬 둘러보기\n",
    "\n",
    "- '백문이 불여 일타'\n",
    "\n",
    "## 파이썬 기초 실습 준비하기\n",
    "\n",
    "- 시작 메뉴에서 Python-3.xxx 를 찾아 실행\n",
    "\n",
    "<img src=\"./images/fig_01_13.png\" width=500>\n",
    "\n",
    "- 다음과 같은 화면이 표시\n",
    "\n",
    "<img src=\"./images/fig_01_14.png\" width=500>\n",
    "\n",
    "<img src=\"./images/fig_01_15.png\" width=500>\n",
    "\n",
    "- 위와 같은 창을 '파이썬 대화형 인터프리터' 라고 함\n",
    "    - 인터프리터 : 사용자가 입력한 소스 코드를 실행하는 환경 \n",
    "    - '>>>' 는 프롬프트(prompt)라고 함\n",
    "- 대화형의 의미는\n",
    "\n",
    "<img src=\"./images/fig_01_16.png\" width=500>\n",
    "\n",
    "- 입력에 따른 결괏값이 바로 출력 되는 것을 의미\n",
    "- 입력과 출력이 번갈아 나와 마치 대화 처럼 느껴지기 때문에 \n",
    "    - 파이썬 대화형 인터프리터를 간단히 파이썬 셀 이라고 부른다\n",
    "- 대화형 인터프리터 종료를 하려면 Ctrl+Z 를 누른후 엔터\n",
    "    - 맥에서는 Ctrl+D\n",
    "- 아니면 다음과 같이 exit(), quit() 명령어 입력\n",
    "\n",
    "<img src=\"./images/fig_01_17.png\" width=500>\n",
    "\n",
    "- sys 모듈을 통해 종료 도 가능\n",
    "\n",
    "<img src=\"./images/fig_01_18.png\" width=500>"
   ]
  },
  {
   "cell_type": "markdown",
   "id": "f59b62a4",
   "metadata": {},
   "source": [
    "## 파이썬 기초 문법 따라 해 보기\n",
    "\n",
    "- 파이썬 대화형 인터프리터(파이썬 셀)을 실행 하여 파이썬 기초 문법을 따라해 보자"
   ]
  },
  {
   "cell_type": "markdown",
   "id": "eb7dd3c9",
   "metadata": {},
   "source": [
    "**사칙연산**\n",
    "- 1 더하기 2"
   ]
  },
  {
   "cell_type": "code",
   "execution_count": 5,
   "id": "1cceb3ad",
   "metadata": {},
   "outputs": [
    {
     "data": {
      "text/plain": [
       "3"
      ]
     },
     "execution_count": 5,
     "metadata": {},
     "output_type": "execute_result"
    }
   ],
   "source": [
    "1+2"
   ]
  },
  {
   "cell_type": "markdown",
   "id": "5433eaad",
   "metadata": {},
   "source": [
    "- 나눗셈과 곱셈"
   ]
  },
  {
   "cell_type": "code",
   "execution_count": 6,
   "id": "80bfe8e9",
   "metadata": {},
   "outputs": [
    {
     "data": {
      "text/plain": [
       "1.25"
      ]
     },
     "execution_count": 6,
     "metadata": {},
     "output_type": "execute_result"
    }
   ],
   "source": [
    "3/2.4"
   ]
  },
  {
   "cell_type": "code",
   "execution_count": 7,
   "id": "0947c44b",
   "metadata": {},
   "outputs": [
    {
     "data": {
      "text/plain": [
       "27"
      ]
     },
     "execution_count": 7,
     "metadata": {},
     "output_type": "execute_result"
    }
   ],
   "source": [
    "3*9"
   ]
  },
  {
   "cell_type": "markdown",
   "id": "ac70d8df",
   "metadata": {},
   "source": [
    "**변수에 숫자 대입하고 계산하기**"
   ]
  },
  {
   "cell_type": "code",
   "execution_count": 8,
   "id": "bf415d5c",
   "metadata": {},
   "outputs": [
    {
     "data": {
      "text/plain": [
       "3"
      ]
     },
     "execution_count": 8,
     "metadata": {},
     "output_type": "execute_result"
    }
   ],
   "source": [
    "a=1\n",
    "b=2\n",
    "a+b"
   ]
  },
  {
   "cell_type": "markdown",
   "id": "15cadb43",
   "metadata": {},
   "source": [
    "**변수에 문자 대입하고 출력하기**"
   ]
  },
  {
   "cell_type": "code",
   "execution_count": 5,
   "id": "d91f12c7",
   "metadata": {},
   "outputs": [
    {
     "name": "stdout",
     "output_type": "stream",
     "text": [
      "Python1\n"
     ]
    }
   ],
   "source": [
    "a = 'Python1'\n",
    "print(a)"
   ]
  },
  {
   "cell_type": "code",
   "execution_count": 6,
   "id": "6681710d",
   "metadata": {},
   "outputs": [
    {
     "data": {
      "text/plain": [
       "'Python3'"
      ]
     },
     "execution_count": 6,
     "metadata": {},
     "output_type": "execute_result"
    }
   ],
   "source": [
    "a = 'Python3'\n",
    "a"
   ]
  },
  {
   "cell_type": "markdown",
   "id": "4540358d",
   "metadata": {},
   "source": [
    "**조건문 if**"
   ]
  },
  {
   "cell_type": "code",
   "execution_count": 11,
   "id": "07da08d2",
   "metadata": {},
   "outputs": [
    {
     "name": "stdout",
     "output_type": "stream",
     "text": [
      "a는 1보다 큽니다\n"
     ]
    }
   ],
   "source": [
    "a = 3\n",
    "if a > 1:\n",
    "    print('a는 1보다 큽니다')"
   ]
  },
  {
   "cell_type": "markdown",
   "id": "7dabfb15",
   "metadata": {},
   "source": [
    "- if a>1: 다음 문장은 스페이스바 4개 또는 tab으로 들여쓰기 해야\n",
    "    - 주피터 노트북은 자동으로 해줌"
   ]
  },
  {
   "cell_type": "markdown",
   "id": "233e9247",
   "metadata": {},
   "source": [
    "**반복문 for**"
   ]
  },
  {
   "cell_type": "code",
   "execution_count": 12,
   "id": "d6a57758",
   "metadata": {},
   "outputs": [
    {
     "name": "stdout",
     "output_type": "stream",
     "text": [
      "1\n",
      "2\n",
      "3\n"
     ]
    }
   ],
   "source": [
    "for a in [1, 2, 3]:\n",
    "    print(a)"
   ]
  },
  {
   "cell_type": "markdown",
   "id": "f72eca57",
   "metadata": {},
   "source": [
    "- for 문으로 반복 실행 가능\n",
    "- 대괄호 안에 있는 값을 하나씩 출력"
   ]
  },
  {
   "cell_type": "markdown",
   "id": "f81ac7d7",
   "metadata": {},
   "source": [
    "**반복문 while**"
   ]
  },
  {
   "cell_type": "code",
   "execution_count": 13,
   "id": "52f63bd6",
   "metadata": {},
   "outputs": [
    {
     "name": "stdout",
     "output_type": "stream",
     "text": [
      "1\n",
      "2\n",
      "3\n"
     ]
    }
   ],
   "source": [
    "i = 0\n",
    "while i<3:\n",
    "    i = i+1\n",
    "    print(i)"
   ]
  },
  {
   "cell_type": "markdown",
   "id": "e175f601",
   "metadata": {},
   "source": [
    "- while(~동안) 문은 일정한 조건을 만족하는 동안 반복 실행\n",
    "- i의 값이 3보다 작은 동안 i 출력"
   ]
  },
  {
   "cell_type": "markdown",
   "id": "d74b0465",
   "metadata": {},
   "source": [
    "**함수**"
   ]
  },
  {
   "cell_type": "code",
   "execution_count": 14,
   "id": "f12bbb48",
   "metadata": {},
   "outputs": [],
   "source": [
    "def add(a, b):\n",
    "    return a+b"
   ]
  },
  {
   "cell_type": "markdown",
   "id": "a9b2c71b",
   "metadata": {},
   "source": [
    "- 파이썬에서는 함수 정의 시 def 예약어 사용\n",
    "    - 예약어 : 프로그래밍 언어에서 이미 문법적인 용도로 사용되고 있는 단어\n",
    "- 위에서 add는 함수 이름\n",
    "- 괄호 사이에 파라미터로 입력값 받음\n",
    "- 출력은 return 다음 으로 오는 값\n",
    "    - return은 함수에서 값을 반환할 때 사용"
   ]
  },
  {
   "cell_type": "markdown",
   "id": "06756a38",
   "metadata": {},
   "source": [
    "# 파이썬과 에디터\n",
    "\n",
    "- 대화형 인터프리터는 간단한 예제를 풀때는 편리하지만 여러줄의 복잡한 소스 코드는 다루기 어렵다\n",
    "- 또한 작성한 코드를 저장 할 수 없다.\n",
    "- 에디터(editor)란 소스코드를 편집 할 수 있는 프로그래밍 도구\n",
    "\n",
    "## IDLE 에디터로 파이썬 프로그램 작성하기\n",
    "\n",
    "- 파이썬 IDLE(Integrated Development Environment, 통합 개발 환경)은 파이썬 프로그래밍을 도와주는 통합 개발 환경\n",
    "- 시작 메뉴에서 idle 검색 후 실행\n",
    "\n",
    "<img src=\"./images/fig_01_19.png\" width=500>\n",
    "\n",
    "- IDLE 셸 실행\n",
    "\n",
    "<img src=\"./images/fig_01_20.png\" width=500>\n",
    "\n",
    "- IDLE 셸은 IDLE 에디터에서 실행한 프로그램의 결과가 표시되는 창\n",
    "- 파이썬 셸과 동일한 기능 제공\n",
    "- 단, IDLE 셸에서 들여쓰기를 표시하는 방법이 기존 파이썬 셸과 달라, 이 책에서는 IDLE 에디터로 작성한 프로그램의 실행 결과를 표시하는 용도로만 사용\n",
    "    - >>> 로 시작하는 예제는 IDLE 셸이 아닌 파이썬 셸로 실행 해야 한다\n",
    "- IDLE 실행\n",
    "    - IDEL 셸 창 메뉴에서 File --> New File 선택\n",
    "\n",
    "<img src=\"./images/fig_01_21.png\" width=500>\n",
    "\n",
    "- 다음과 창이 뜨는데, 이것이 IDLE 에디터 임\n",
    "\n",
    "<img src=\"./images/fig_01_22.png\" width=500>\n",
    "\n",
    "- IDLE 에디터에서 다음과 같이 파이썬 프로그램 작성 해 보자\n",
    "\n",
    "<img src=\"./images/fig_01_23.png\" width=500>\n",
    "\n",
    "- 첫줄의 # hello.py 은 주석\n",
    "- 파이썬은 # 으로 시작하는 문장은 주석으로 간주, 프로그래밍에서는 영향이 없음"
   ]
  },
  {
   "cell_type": "markdown",
   "id": "dc27fe1b",
   "metadata": {},
   "source": [
    "**여러 줄짜리 주석 작성 법**\n",
    "- 주석을 여러 줄 넣고 싶다면 다음과 같이 작성 한다.\n",
    "- 큰 따음표나 작은 따음표를 3개(\"\"\") 사용해 감싼다."
   ]
  },
  {
   "cell_type": "code",
   "execution_count": 8,
   "id": "fb0ead34",
   "metadata": {},
   "outputs": [
    {
     "name": "stdout",
     "output_type": "stream",
     "text": [
      "hello\n"
     ]
    }
   ],
   "source": [
    "'''\n",
    "Author : EungYoung Park\n",
    "Date : 2024-03-08\n",
    "이 프로그램은 Hello World를 출력하는 프로그램이다\n",
    "'''\n",
    "\n",
    "print('hello') # 주석입니다."
   ]
  },
  {
   "cell_type": "markdown",
   "id": "8edeb54f",
   "metadata": {},
   "source": [
    "- 작성한 프로그램 실행\n",
    "- IDLE 에디터 창 메뉴, Run --> Run Module 선택 (단축키 : F6)\n",
    "\n",
    "<img src=\"./images/fig_01_24.png\" width=500>\n",
    "\n",
    "- 실행하면 먼저 저장 하라는 대화 상자 팝업\n",
    "- 확인 선택, 다른 이름으로 저장\n",
    "- C드라이브의 원하는 폴더를 만들어 원하는 이름으로 저장\n",
    "- 파일 이름은 반드시 .py 확장자를 붙여야 한다.\n",
    "\n",
    "<img src=\"./images/fig_01_25.png\" width=500>\n",
    "\n",
    "- 파일 저장 후 프로그램 실행\n",
    "\n",
    "<img src=\"./images/fig_01_26.png\" width=500>\n",
    "\n",
    "- 다음과 같이 표시\n",
    "\n",
    "<img src=\"./images/fig_01_27.png\" width=500>"
   ]
  },
  {
   "cell_type": "markdown",
   "id": "15e63280",
   "metadata": {},
   "source": [
    "**파이썬 셸과 IDLE 에디터의 차이점**"
   ]
  },
  {
   "cell_type": "markdown",
   "id": "c05bffc3",
   "metadata": {},
   "source": [
    "- 파이썬 셸은 변수 확인 시 print를 쓰거나 안써도 되지만 (주피터 노트북도 동일)"
   ]
  },
  {
   "cell_type": "code",
   "execution_count": 17,
   "id": "850a060f",
   "metadata": {},
   "outputs": [
    {
     "data": {
      "text/plain": [
       "'python'"
      ]
     },
     "execution_count": 17,
     "metadata": {},
     "output_type": "execute_result"
    }
   ],
   "source": [
    "a = 'python'\n",
    "a"
   ]
  },
  {
   "cell_type": "markdown",
   "id": "a9b2f923",
   "metadata": {},
   "source": [
    "- IDLE 에디터는 반드시 print 함수를 써야 한다"
   ]
  },
  {
   "cell_type": "code",
   "execution_count": 18,
   "id": "983dad9d",
   "metadata": {},
   "outputs": [
    {
     "name": "stdout",
     "output_type": "stream",
     "text": [
      "python\n"
     ]
    }
   ],
   "source": [
    "a = 'python'\n",
    "print(a)"
   ]
  },
  {
   "cell_type": "markdown",
   "id": "7e16ee15",
   "metadata": {},
   "source": [
    "## 명령 프롬프트 창에서 파이썬 프로그램 실행하기\n",
    "\n",
    "- IDLE 에디터로 작성한 py 파일을 명렁 프롬프트 창에서 실행 \n",
    "\n",
    "- 명렁 프롬프트를 win+R 을 눌러, cmd를 입력하여 실행 한다.\n",
    "\n",
    "<img src=\"./images/fig_01_28.png\" width=500>\n",
    "\n",
    "<img src=\"./images/fig_01_29.png\" width=500>\n",
    "\n",
    "- 파이썬 파일을 저장한 위치로 cd 명령어를 사용 이동한다\n",
    "\n",
    "<img src=\"./images/fig_01_30.png\" width=500>\n",
    "\n",
    "<img src=\"./images/fig_01_31.png\" width=500>\n",
    "\n",
    "- python 파일이름.py 형식으로 해당 파이썬 파일을 실행 한다.\n",
    "\n",
    "<img src=\"./images/fig_01_32.png\" width=500>\n",
    "\n",
    "- 프롬프트 창에서 결과를 확인 한다.\n",
    "\n",
    "<img src=\"./images/fig_01_33.png\" width=500>\n",
    "\n",
    "\n",
    "## 추천하는 에디터\n",
    "\n",
    "- 파이썬에서는 위에 소개한 IDLE 보다 더 기능이 많은 에디터를 사용한다.\n",
    "\n",
    "**비주얼 스튜디오 코드**\n",
    "\n",
    "- Visual studio code는 파이참과 함께 가장 많이 쓰이는 대표적 에디터 \n",
    "- 다양한 언어에서도 개발에 활용 되고 있다.\n",
    "- 설치 후, 파이썬 익스텐션 등을 설치 해야 한다.\n",
    "\n",
    "<img src=\"./images/fig_01_34.png\" width=500>\n",
    "\n",
    "**파이참**\n",
    "- 파이썬에 최적화된 에디터\n",
    "- 별도 익스텐션 설치 불필요"
   ]
  },
  {
   "cell_type": "markdown",
   "id": "fb402993",
   "metadata": {},
   "source": [
    "# 주피터 노트북 사용법"
   ]
  },
  {
   "cell_type": "markdown",
   "id": "f155932d",
   "metadata": {},
   "source": [
    "## 아나콘다 설치\n",
    "- [아나콘다](https://www.anaconda.com/download)\n",
    "- [설치 안내 블로그](https://icedhotchoco.tistory.com/entry/Anaconda-Jupyter)\n",
    "\n",
    "## 아나콘다 가상환경\n",
    "- [가상환경 생성](https://sdc-james.gitbook.io/onebook/2./2.1./2.1.1./2-conda-virtual-environments)"
   ]
  },
  {
   "cell_type": "markdown",
   "id": "54631cc4",
   "metadata": {},
   "source": [
    "## 주피터 노트북 설치\n",
    "- [주피터노트북 설치](https://taehooh.tistory.com/48)"
   ]
  },
  {
   "cell_type": "markdown",
   "id": "f26e6e62",
   "metadata": {},
   "source": [
    "## 주피터 노트북 사용법\n",
    "- [사용법 안내](https://marketer-coding-school.tistory.com/entry/3-%EC%A3%BC%ED%94%BC%ED%84%B0-%EB%85%B8%ED%8A%B8%EB%B6%81Jupyter-notebook-%EC%8B%9C%EC%9E%91%ED%95%98%EA%B8%B0)\n",
    "- [간단 사용법](https://273k.tistory.com/entry/0-Jupyter-Notebook-%EC%9E%85%EB%AC%B8%ED%95%98%EA%B8%B0)"
   ]
  },
  {
   "cell_type": "markdown",
   "id": "9e4d4d2b",
   "metadata": {},
   "source": [
    "# 코랩 사용법\n",
    "- [코랩 입문](https://theorydb.github.io/dev/2019/08/23/dev-ml-colab/)"
   ]
  },
  {
   "cell_type": "markdown",
   "id": "12be76bd",
   "metadata": {},
   "source": [
    "# C언어와 파이썬"
   ]
  },
  {
   "cell_type": "markdown",
   "id": "bc6bc1cf",
   "metadata": {},
   "source": [
    "- 아래는 C 언어와 파이썬으로 작성된 간단한 예제 5가지입니다. \n",
    "- 이 예제들은 C 언어와 파이썬의 문법 및 특징을 비교하며 파이썬의 매력을 느낄 수 있도록 설계되었습니다.\n",
    "\n",
    "1. **인사말 출력하기**:\n",
    "   - C 언어:\n",
    "     ```c\n",
    "     #include <stdio.h>\n",
    "     \n",
    "     int main() {\n",
    "         printf(\"안녕하세요!\\n\");\n",
    "         return 0;\n",
    "     }\n",
    "     ```\n",
    "   - Python:\n",
    "     ```python\n",
    "     print(\"안녕하세요!\")\n",
    "     ```"
   ]
  },
  {
   "cell_type": "code",
   "execution_count": 12,
   "id": "539a1b24",
   "metadata": {
    "scrolled": true
   },
   "outputs": [
    {
     "name": "stdout",
     "output_type": "stream",
     "text": [
      "안녕하세요!\n"
     ]
    }
   ],
   "source": [
    "print(\"안녕하세요!\")"
   ]
  },
  {
   "cell_type": "markdown",
   "id": "74deab01",
   "metadata": {},
   "source": [
    "2. **두 숫자 더하기**:\n",
    "   - C 언어:\n",
    "     ```c\n",
    "     #include <stdio.h>\n",
    "     \n",
    "     int main() {\n",
    "         int num1 = 5;\n",
    "         int num2 = 3;\n",
    "         int result = num1 + num2;\n",
    "         printf(\"두 숫자의 합은: %d\\n\", result);\n",
    "         return 0;\n",
    "     }\n",
    "     ```\n",
    "   - Python:\n",
    "     ```python\n",
    "     num1 = 5\n",
    "     num2 = 3\n",
    "     result = num1 + num2\n",
    "     print(\"두 숫자의 합은:\", result)\n",
    "     ```"
   ]
  },
  {
   "cell_type": "code",
   "execution_count": 16,
   "id": "6147f42d",
   "metadata": {},
   "outputs": [
    {
     "name": "stdout",
     "output_type": "stream",
     "text": [
      "두 숫자의 합은: 8\n"
     ]
    }
   ],
   "source": [
    "num1 = 5\n",
    "num2 = 3\n",
    "result = num1 + num2\n",
    "print(\"두 숫자의 합은:\", result)"
   ]
  },
  {
   "cell_type": "markdown",
   "id": "ef26487b",
   "metadata": {},
   "source": [
    "\n",
    "3. **사용자로부터 입력 받기**:\n",
    "   - C 언어:\n",
    "     ```c\n",
    "     #include <stdio.h>\n",
    "     \n",
    "     int main() {\n",
    "         char name[20];\n",
    "         printf(\"이름을 입력하세요: \");\n",
    "         scanf(\"%s\", name);\n",
    "         printf(\"안녕하세요, %s님!\\n\", name);\n",
    "         return 0;\n",
    "     }\n",
    "     ```\n",
    "   - Python:\n",
    "     ```python\n",
    "     name = input(\"이름을 입력하세요: \")\n",
    "     print(\"안녕하세요,\", name, \"님!\")\n",
    "     ```"
   ]
  },
  {
   "cell_type": "code",
   "execution_count": 18,
   "id": "42f704ae",
   "metadata": {},
   "outputs": [
    {
     "name": "stdout",
     "output_type": "stream",
     "text": [
      "이름은?손오공\n",
      "안녕 손오공 아\n"
     ]
    }
   ],
   "source": [
    "name = input(\"이름은?\")\n",
    "print(\"안녕\", name, '아')"
   ]
  },
  {
   "cell_type": "markdown",
   "id": "a486998d",
   "metadata": {},
   "source": [
    "\n",
    "4. **반복문을 이용한 숫자 출력**:\n",
    "   - C 언어:\n",
    "     ```c\n",
    "     #include <stdio.h>\n",
    "     \n",
    "     int main() {\n",
    "         for (int i = 1; i <= 5; i++) {\n",
    "             printf(\"%d\\n\", i);\n",
    "         }\n",
    "         return 0;\n",
    "     }\n",
    "     ```\n",
    "   - Python:\n",
    "     ```python\n",
    "     for i in range(1, 6):\n",
    "         print(i)\n",
    "     ```"
   ]
  },
  {
   "cell_type": "code",
   "execution_count": 19,
   "id": "0368f3a7",
   "metadata": {},
   "outputs": [
    {
     "name": "stdout",
     "output_type": "stream",
     "text": [
      "1\n",
      "2\n",
      "3\n",
      "4\n",
      "5\n"
     ]
    }
   ],
   "source": [
    "for i in range(1, 6):\n",
    "    print(i)"
   ]
  },
  {
   "cell_type": "markdown",
   "id": "2e0fd4d4",
   "metadata": {},
   "source": [
    "5. **리스트 활용하기**:\n",
    "   - C 언어:\n",
    "     ```c\n",
    "     #include <stdio.h>\n",
    "     \n",
    "     int main() {\n",
    "         char *fruits[] = {\"사과\", \"바나나\", \"딸기\", \"포도\"};\n",
    "         printf(\"내가 좋아하는 과일:\\n\");\n",
    "         for (int i = 0; i < 4; i++) {\n",
    "             printf(\"%s\\n\", fruits[i]);\n",
    "         }\n",
    "         return 0;\n",
    "     }\n",
    "     ```\n",
    "   - Python:\n",
    "     ```python\n",
    "     fruits = [\"사과\", \"바나나\", \"딸기\", \"포도\"]\n",
    "     print(\"내가 좋아하는 과일:\")\n",
    "     for fruit in fruits:\n",
    "         print(fruit)\n",
    "     ```\n",
    "\n",
    "- 이러한 예제들을 통해 C 언어와 파이썬의 문법 및 특징을 비교하고, 파이썬의 간결함과 편리함을 경험할 수 있을 것입니다."
   ]
  },
  {
   "cell_type": "code",
   "execution_count": null,
   "id": "33869fef",
   "metadata": {},
   "outputs": [],
   "source": []
  },
  {
   "cell_type": "code",
   "execution_count": 14,
   "id": "dddbe0a5",
   "metadata": {},
   "outputs": [
    {
     "data": {
      "text/plain": [
       "10"
      ]
     },
     "execution_count": 14,
     "metadata": {},
     "output_type": "execute_result"
    }
   ],
   "source": [
    "a = 10\n",
    "a"
   ]
  },
  {
   "cell_type": "markdown",
   "id": "ddb6f040",
   "metadata": {},
   "source": [
    "여기 파이썬 입문자들을 위한 가볍게 짤 수 있는 프로그램 문제 10개가 있습니다. 각 문제는 기본적인 파이썬 문법 및 기능을 연습할 수 있는 내용입니다.\n",
    "\n",
    "\n",
    "\n",
    "\n",
    "\n",
    "\n",
    "6. 사용자로부터 정수를 입력받아 해당 정수가 소수인지 여부를 판별하는 프로그램을 작성하세요.\n",
    "\n",
    "7. 사용자로부터 두 개의 문자열을 입력받아 두 문자열이 같은지 여부를 판별하는 프로그램을 작성하세요.\n",
    "\n",
    "\n",
    "9. 1부터 10까지의 숫자 중에서 홀수만 리스트에 저장하고 출력하는 프로그램을 작성하세요.\n",
    "\n",
    "10. \"Hello, World!\" 문자열을 10번 출력하는 프로그램을 작성하세요.\n",
    "\n",
    "이러한 문제들을 풀어보면서 기본적인 파이썬 문법과 기능을 익힐 수 있습니다."
   ]
  },
  {
   "cell_type": "markdown",
   "id": "7b44822e",
   "metadata": {},
   "source": [
    "1. 사용자로부터 이름을 입력받아 환영 메시지를 출력하는 프로그램을 작성하세요."
   ]
  },
  {
   "cell_type": "code",
   "execution_count": 20,
   "id": "6625c84f",
   "metadata": {},
   "outputs": [
    {
     "name": "stdout",
     "output_type": "stream",
     "text": [
      "이름은?송태영\n",
      "환영 합니다 송태영 님\n"
     ]
    }
   ],
   "source": [
    "name = input('이름은?')\n",
    "print(\"환영 합니다\", name, \"님\")"
   ]
  },
  {
   "cell_type": "markdown",
   "id": "ed12feb5",
   "metadata": {},
   "source": [
    "2. 사용자로부터 두 개의 숫자를 입력받아 곱한 결과를 출력하는 프로그램을 작성하세요.\n"
   ]
  },
  {
   "cell_type": "code",
   "execution_count": 21,
   "id": "f9b2ef43",
   "metadata": {},
   "outputs": [],
   "source": [
    "def multi(a, b):\n",
    "    print(a*b)"
   ]
  },
  {
   "cell_type": "code",
   "execution_count": 22,
   "id": "8a82d767",
   "metadata": {},
   "outputs": [
    {
     "name": "stdout",
     "output_type": "stream",
     "text": [
      "30\n"
     ]
    }
   ],
   "source": [
    "multi(3, 10)"
   ]
  },
  {
   "cell_type": "markdown",
   "id": "e94e6b34",
   "metadata": {},
   "source": [
    "3. 사용자로부터 숫자를 입력받아 해당 숫자의 제곱을 출력하는 프로그램을 작성하세요."
   ]
  },
  {
   "cell_type": "code",
   "execution_count": 23,
   "id": "09270aeb",
   "metadata": {},
   "outputs": [],
   "source": [
    "def power(a, b):\n",
    "    print(a**b)"
   ]
  },
  {
   "cell_type": "code",
   "execution_count": 24,
   "id": "066128eb",
   "metadata": {},
   "outputs": [
    {
     "name": "stdout",
     "output_type": "stream",
     "text": [
      "8\n"
     ]
    }
   ],
   "source": [
    "power(2, 3)"
   ]
  },
  {
   "cell_type": "markdown",
   "id": "fea25f9f",
   "metadata": {},
   "source": [
    "4. 1부터 100까지의 숫자 중에서 짝수만 출력하는 프로그램을 작성하세요.\n",
    "- for, range(1,101)\n",
    "- if i%2 == 0:"
   ]
  },
  {
   "cell_type": "code",
   "execution_count": 27,
   "id": "47f24b61",
   "metadata": {
    "scrolled": true
   },
   "outputs": [
    {
     "name": "stdout",
     "output_type": "stream",
     "text": [
      "2\n",
      "4\n",
      "6\n",
      "8\n",
      "10\n",
      "12\n",
      "14\n",
      "16\n",
      "18\n",
      "20\n",
      "22\n",
      "24\n",
      "26\n",
      "28\n",
      "30\n",
      "32\n",
      "34\n",
      "36\n",
      "38\n",
      "40\n",
      "42\n",
      "44\n",
      "46\n",
      "48\n",
      "50\n",
      "52\n",
      "54\n",
      "56\n",
      "58\n",
      "60\n",
      "62\n",
      "64\n",
      "66\n",
      "68\n",
      "70\n",
      "72\n",
      "74\n",
      "76\n",
      "78\n",
      "80\n",
      "82\n",
      "84\n",
      "86\n",
      "88\n",
      "90\n",
      "92\n",
      "94\n",
      "96\n",
      "98\n",
      "100\n"
     ]
    }
   ],
   "source": [
    "for i in range(1, 101):\n",
    "    if i%2 == 0:\n",
    "        print(i)"
   ]
  },
  {
   "cell_type": "markdown",
   "id": "6b65f43c",
   "metadata": {},
   "source": [
    "5. 사용자로부터 문자열을 입력받아 거꾸로 출력하는 프로그램을 작성하세요."
   ]
  },
  {
   "cell_type": "code",
   "execution_count": 31,
   "id": "af3a10c9",
   "metadata": {},
   "outputs": [
    {
     "name": "stdout",
     "output_type": "stream",
     "text": [
      "사용자 입력 문자열abscd\n",
      "abscd\n"
     ]
    },
    {
     "data": {
      "text/plain": [
       "'dcsba'"
      ]
     },
     "execution_count": 31,
     "metadata": {},
     "output_type": "execute_result"
    }
   ],
   "source": [
    "strings = input(\"사용자 입력 문자열\")\n",
    "print(strings)\n",
    "strings[::-1]"
   ]
  },
  {
   "cell_type": "code",
   "execution_count": 37,
   "id": "8a1bd75a",
   "metadata": {},
   "outputs": [
    {
     "data": {
      "text/plain": [
       "'dcsba'"
      ]
     },
     "execution_count": 37,
     "metadata": {},
     "output_type": "execute_result"
    }
   ],
   "source": [
    "strings[::-1]"
   ]
  },
  {
   "cell_type": "code",
   "execution_count": 36,
   "id": "0e1c4c46",
   "metadata": {},
   "outputs": [
    {
     "name": "stdout",
     "output_type": "stream",
     "text": [
      "dcsba"
     ]
    }
   ],
   "source": [
    "for i in range(len(strings), 0, -1):\n",
    "    print(strings[i-1], end='')"
   ]
  },
  {
   "cell_type": "markdown",
   "id": "89f3be96",
   "metadata": {},
   "source": [
    "8. 사용자로부터 숫자를 입력받아 해당 숫자가 홀수인 경우 \"홀수\"를, 짝수인 경우 \"짝수\"를 출력하는 프로그램을 작성하세요."
   ]
  },
  {
   "cell_type": "code",
   "execution_count": 42,
   "id": "4c8e951f",
   "metadata": {},
   "outputs": [
    {
     "name": "stdout",
     "output_type": "stream",
     "text": [
      "11\n",
      "홀수\n"
     ]
    }
   ],
   "source": [
    "num = input()\n",
    "num = int(num)\n",
    "\n",
    "if num%2==0:\n",
    "    print(\"짝수\")\n",
    "if num%2==1:\n",
    "    print(\"홀수\")"
   ]
  },
  {
   "cell_type": "code",
   "execution_count": null,
   "id": "43deeb33",
   "metadata": {},
   "outputs": [],
   "source": []
  }
 ],
 "metadata": {
  "kernelspec": {
   "display_name": "Python 3 (ipykernel)",
   "language": "python",
   "name": "python3"
  },
  "language_info": {
   "codemirror_mode": {
    "name": "ipython",
    "version": 3
   },
   "file_extension": ".py",
   "mimetype": "text/x-python",
   "name": "python",
   "nbconvert_exporter": "python",
   "pygments_lexer": "ipython3",
   "version": "3.10.9"
  },
  "toc": {
   "base_numbering": 1,
   "nav_menu": {},
   "number_sections": true,
   "sideBar": true,
   "skip_h1_title": false,
   "title_cell": "Table of Contents",
   "title_sidebar": "Contents",
   "toc_cell": false,
   "toc_position": {
    "height": "calc(100% - 180px)",
    "left": "10px",
    "top": "150px",
    "width": "319.5px"
   },
   "toc_section_display": true,
   "toc_window_display": false
  }
 },
 "nbformat": 4,
 "nbformat_minor": 5
}
