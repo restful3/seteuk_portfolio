{
 "cells": [
  {
   "cell_type": "markdown",
   "id": "02ae574e",
   "metadata": {},
   "source": [
    "# 파이썬이란?\n",
    "- 파이썬의 유래\n",
    "    - 파이썬(Python)은 1990년 안스테르담의 [귀도 반 로섬(Guido van Rossum)](https://joone.net/tag/%EA%B7%80%EB%8F%84-%EB%B0%98-%EB%A1%9C%EC%84%AC/)이 개발한 인터프리터 언어\n",
    "    <img src=\"./images/fig_01_01.png\" width=300>\n",
    "\n",
    "        - [인터프리터 언어](https://just-my-blog.tistory.com/31) : 인터프리터 언어는 개발자가 작성한 코드(원시 코드)를 기계어로 변환하는 과정없이 한줄씩 해석하여 명령을 바로 처리하는 프로그래밍 언어\n",
    "\n",
    "    <img src=\"./images/fig_01_02.png\" width=500>\n",
    "    \n",
    "        - 귀도는 파이썬이란 이름을 자신이 좋아하는 코미디 쇼인 '몬티 파이썬의 날아다니는 서커스' 에서 따왔다고 한다.\n",
    "    - 파이썬의 사전적 의미는 '고대 신화에 나오는 파르나소스 산의 동굴에 살던 큰 뱀'\n",
    "        - 아폴로 신이 델파이에서 파이썬을 퇴치 했다는 이야기가 전해지고 있다.\n",
    "        - 대부분 파이썬의 책 표지와 아이콘이 뱀 모양으로 그려져 있는 이유  \n",
    "        \n",
    "<img src=\"./images/fig_01_03.png\" width=500>        "
   ]
  },
  {
   "cell_type": "markdown",
   "id": "46825c60",
   "metadata": {},
   "source": [
    "# 파이썬의 특징\n",
    "\n",
    "## 파이썬은 인간다운 언어이다\n",
    "- 파이썬은 일반 프로그래밍 언어와 다르게 컴퓨터의 사고 체계에 맞추어 프로그래밍을 하려고 애쓸 필요 없이, 사람이 생각하는 방식을 그대로 표현할 수 있는 언어이다."
   ]
  },
  {
   "cell_type": "code",
   "execution_count": 3,
   "id": "81deed30",
   "metadata": {},
   "outputs": [
    {
     "name": "stdout",
     "output_type": "stream",
     "text": [
      "4가 있습니다.\n"
     ]
    }
   ],
   "source": [
    "if 4 in [1, 2 ,3, 4]: \n",
    "    print(\"4가 있습니다.\")"
   ]
  },
  {
   "cell_type": "markdown",
   "id": "bc2cd762",
   "metadata": {},
   "source": [
    "| **만약 4가 1, 2, 3, 4 중에 있으면 4를 출력 하세요**"
   ]
  },
  {
   "cell_type": "markdown",
   "id": "0acaff5c",
   "metadata": {},
   "source": [
    "- 영어 문장을 읽는 것과 같은 방식"
   ]
  },
  {
   "cell_type": "markdown",
   "id": "3a569cb7",
   "metadata": {},
   "source": [
    "## 문법이 쉬워 빠르게 배울 수 있다\n",
    "- 파이썬은 문법 자체가 아주 쉽고 간결해 사람의 사고 체계와 매우 닮아있다.\n",
    "\n",
    "## 무료이지만 강력하다\n",
    "- 파이썬은 오픈소스이다. (무료이다.)\n",
    "    - 오픈 소스란 저작권자가 소스 코드를 공개하여 누구나 별다른 제한 없이 사용 가능한 소프트웨어\n",
    "- 시스템 프로그래밍이나 하드웨어 제어와 같은 매우 복잡하고 반복 연산이 많은 프로그램은 파이썬과 어울리지 않는다. \n",
    "- 하지만 파이썬은 이러한 약점을 극복할 수 있게끔 다른 언어로 만든 프로그램을 파이썬 프로그램에 포함시킬 수 있다. \n",
    "- 'C와 파이썬은 찰떡궁합'\n",
    "    - 프로그램 전반의 뼈대는 파이썬으로 \n",
    "    - 빠른 실행 속도가 필요한 부분은 C로\n",
    "\n",
    "## 간결하다\n",
    "- 파이썬은 다른 언어와 다르게 단락을 구분하는 괄호({}) 문자를 사용하지 않는다.\n",
    "- 파이썬 프로그램은 줄을 맞추지 않으면 실행되지 않는다. \n",
    "- 이렇듯 줄을 맞추어 코드를 작성하는 행위는 가독성에 크게 도움이 된다.\n",
    "    - 공동작업과 유지보수에 유리\n",
    "- 파이썬은 컴퓨터 프로그래밍 교육을 위해 많이 사용하지만, 공동 작업과 유지보수가 매우 쉽고 편하다는 이유로 기업의 실무를 위해서도 많이 사용한다. \n",
    "    - 대표적인 예로는 구글, 인스타그램, 드롭박스 등이 있다.\n",
    "- 다음은 파이썬 코드의 간결함을 보여주는 예\n",
    "\n",
    "**C언어**\n",
    "\n",
    "```c\n",
    "#include <stdio.h>\n",
    "#include <string.h>\n",
    "\n",
    "int main() {\n",
    "    char *languages[] = {\"python\", \"perl\", \"c\", \"java\"};\n",
    "    int i;\n",
    "\n",
    "    for (i = 0; i < sizeof(languages) / sizeof(languages[0]); i++) {\n",
    "        if (strcmp(languages[i], \"python\") == 0 || strcmp(languages[i], \"perl\") == 0) {\n",
    "            printf(\"%-6s need interpreter\\n\", languages[i]);\n",
    "        } else if (strcmp(languages[i], \"c\") == 0 || strcmp(languages[i], \"java\") == 0) {\n",
    "            printf(\"%-6s need compiler\\n\", languages[i]);\n",
    "        } else {\n",
    "            printf(\"should not reach here\\n\");\n",
    "        }\n",
    "    }\n",
    "\n",
    "    return 0;\n",
    "}\n",
    "```\n",
    "\n",
    "**python**\n",
    "\n",
    "```python\n",
    "\n",
    "languages = ['python', 'perl', 'c', 'java']\n",
    "\n",
    "for lang in languages :\n",
    "    if lang in ['python', 'perl'] :\n",
    "        print(\"%6s need interpreter\" % lang)\n",
    "    elif lang in ['c', 'java'] :\n",
    "        print(\"%6s need compiler\" % lang)\n",
    "    else :\n",
    "        print(\"should not reach here\")\n",
    "\n",
    "```\n",
    "\n"
   ]
  },
  {
   "cell_type": "markdown",
   "id": "9d984566",
   "metadata": {},
   "source": [
    "## 프로그래밍을 즐기게 해 준다\n",
    "- 부수적인 다른 개념이나 제한 사항등에 신경 쓸 필요 없이 만들고자 하는 것에만 집중 하게 해준다.\n",
    "\n",
    "## 개발 속도가 빠르다\n",
    "- 파이썬의 빠른 개발 속도를 두고 유행처럼 퍼진 말이다.\n",
    "- **Life is too short, You need python.**"
   ]
  },
  {
   "cell_type": "markdown",
   "id": "7698734d",
   "metadata": {},
   "source": [
    "# 파이썬으로 무엇을 할 수 있을까?\n",
    "\n",
    "## 파이썬으로 할 수 있는 일\n",
    "### 웹프로그래밍\n",
    "- 웹 프로그래밍에 (특히 백엔드) 많이 활용된다.\n",
    "- [django](https://www.djangoproject.com/), [flask](https://flask.palletsprojects.com/en/3.0.x/), [strealit](https://streamlit.io/)\n",
    "\n",
    "### 인공지능과 머신러닝\n",
    "- 인공지능 분야의 발전은 파이썬의 인기를 올리는 주요 원인 중 하나\n",
    "- 많은 인공지능 라이브러리나 소프트웨어가 파이썬을 기반으로 만들어져 있다.\n",
    "    - 파이토치, 텐서플로우, sklearn, opencv, matplotlib, keras\n",
    "\n",
    "### 수치 연산 프로그래밍\n",
    "- 파이썬은 수치 연산에 적합 하지는 않다.\n",
    "    - 속도가 느림\n",
    "- 넘파이는 C로 핵심 연산 부분이 작성되어, 높은 편의성과 함께 빠른 수치 연산을 가능하게 한다.\n",
    "\n",
    "<img src=\"./images/fig_01_04.png\" width=500>\n",
    "\n",
    "### 데이터 분석\n",
    "- R이란 언어와 함꼐 데이터 분석에 가장 많이 쓰이는 언어\n",
    "    - R은 통계학 관련 학계나 업계에서 주로 쓰임\n",
    "    - 통계학 관련 방대한 라이브러리가 공유되고 있음\n",
    "- numpy, pandas, matplotlib 등과 함께, 데이터 처리, 통계 분석, 시각화 수행\n",
    "\n",
    "<img src=\"./images/fig_01_05.png\" width=500>\n",
    "\n",
    "### 데이터베이스 프로그래밍\n",
    "- Sybase, informix, Oracle, MySQL, PostgreSQL 등 대부분의 데이터베이스에 접근 가능한 라이브러리가 공유됨\n",
    "- pickle을 통해 파이썬 상의 자료나 객체를 파일로 간단히 저장하고 불러 올 수 있음\n",
    "\n",
    "### 시스템 유틸리티 제작하기\n",
    "- 운영체제(리눅스, 맥, 윈도우)의 시스템 명령어를 사용할 수 있는 도구 제공\n",
    "- 파일관리, 로그 분석, 시스템 모니터링 등 유틸리티 제작 가능 \n",
    "\n",
    "### GUI 프로그래밍\n",
    "- GUI(Graphic User Interface) 프로그래밍 이란, 화면에 윈도우 창을 만들고, 그 창에 버튼이나 동작 시킬수 있는 메뉴를 표시하는 것\n",
    "- Tkinter를 사용 몇줄의 코드로 작성 가능\n",
    "\n",
    "<img src=\"./images/fig_01_06.png\" width=500>\n",
    "\n",
    "### C/C++와 결합\n",
    "- 파이썬은 접착(glue)언어\n",
    "- 다른 언어와 결합해 사용하기 용이\n",
    "- C/C++과 결합하여, 편의성과 성능을 모두 확보 할 수 있다.\n",
    "    - numpy 처럼\n",
    "    \n",
    "### 사물 인터넷\n",
    "- IoT분야에서도 폭 넓게 사용되고 있다.\n",
    "- 라즈베리파이 (리눅스 기반의 초소형 컴퓨터)를 사용 홈시어터나 매우 작은 게임기 등 다양한 IoT 용도로 사용 가능 한 프로그램이 파이썬 기반으로 공개 되어 있다.\n",
    "\n",
    "<img src=\"./images/fig_01_07.png\" width=500>\n",
    "\n",
    "\n",
    "## 파이썬으로 할 수 없는 일\n",
    "### 시스템과 밀접한 프로그래밍 영역\n",
    "- 리눅스 같은 운영체제, 엄청난 횟수의 반복과 연산이 필요한 프로그램 또는 데이터 압축 알고리즘 개발 프로그램 등을 만드는 것은 어렵다.\n",
    "- 대단히 빠른 속도를 요구하거나 하드웨어를 직접 건드려야 하는 프로그램에는 어울리지 않는다.\n",
    "\n",
    "### 모바일 프로그래밍\n",
    "- 파이썬은 구글이 많이 애용하는 언어지만 Android용 네이티브 앱을 개발하는 것은 아직 어렵다.\n",
    "- IOS 앱을 개발하는 것도 아직까지는 어렵다."
   ]
  },
  {
   "cell_type": "markdown",
   "id": "66ee1877",
   "metadata": {},
   "source": [
    "# 파이썬 설치하기\n",
    "\n",
    "## 윈도우에서 파이썬 설치하기\n",
    "\n",
    "<img src=\"./images/fig_01_08.png\" width=500>\n",
    "\n",
    "<img src=\"./images/fig_01_09.png\" width=500>\n",
    "\n",
    "<img src=\"./images/fig_01_10.png\" width=500>\n",
    "\n",
    "## 맥에서 파이썬 설치하기\n",
    "\n",
    "<img src=\"./images/fig_01_11.png\" width=500>\n",
    "\n",
    "<img src=\"./images/fig_01_12.png\" width=500>"
   ]
  },
  {
   "cell_type": "markdown",
   "id": "f5c47784",
   "metadata": {},
   "source": [
    "# 파이썬 둘러보기\n",
    "\n",
    "## 파이썬 기초 실습 준비하기\n",
    "\n",
    "<img src=\"./images/fig_01_13.png\" width=500>\n",
    "\n",
    "<img src=\"./images/fig_01_14.png\" width=500>\n",
    "\n",
    "<img src=\"./images/fig_01_15.png\" width=500>\n",
    "\n",
    "<img src=\"./images/fig_01_16.png\" width=500>\n",
    "\n",
    "<img src=\"./images/fig_01_17.png\" width=500>\n",
    "\n",
    "<img src=\"./images/fig_01_18.png\" width=500>\n",
    "\n"
   ]
  },
  {
   "cell_type": "markdown",
   "id": "3938f50c",
   "metadata": {},
   "source": [
    "## 파이썬 기초 문법 따라 해 보기"
   ]
  },
  {
   "cell_type": "markdown",
   "id": "06756a38",
   "metadata": {},
   "source": [
    "# 파이썬과 에디터\n",
    "\n",
    "## IDLE 에디터로 파이썬 프로그램 작성하기\n",
    "\n",
    "<img src=\"./images/fig_01_19.png\" width=500>\n",
    "\n",
    "<img src=\"./images/fig_01_20.png\" width=500>\n",
    "\n",
    "<img src=\"./images/fig_01_21.png\" width=500>\n",
    "\n",
    "<img src=\"./images/fig_01_22.png\" width=500>\n",
    "\n",
    "<img src=\"./images/fig_01_23.png\" width=500>\n",
    "\n",
    "<img src=\"./images/fig_01_24.png\" width=500>\n",
    "\n",
    "<img src=\"./images/fig_01_25.png\" width=500>\n",
    "\n",
    "<img src=\"./images/fig_01_26.png\" width=500>\n",
    "\n",
    "<img src=\"./images/fig_01_27.png\" width=500>\n",
    "\n",
    "\n",
    "## 명령 프롬프트 창에서 파이썬 프로그램 실행하기\n",
    "\n",
    "<img src=\"./images/fig_01_28.png\" width=500>\n",
    "\n",
    "<img src=\"./images/fig_01_29.png\" width=500>\n",
    "\n",
    "<img src=\"./images/fig_01_30.png\" width=500>\n",
    "\n",
    "<img src=\"./images/fig_01_31.png\" width=500>\n",
    "\n",
    "<img src=\"./images/fig_01_32.png\" width=500>\n",
    "\n",
    "<img src=\"./images/fig_01_33.png\" width=500>\n",
    "\n",
    "\n",
    "## 추천하는 에디터\n",
    "\n",
    "<img src=\"./images/fig_01_34.png\" width=500>"
   ]
  },
  {
   "cell_type": "markdown",
   "id": "fb402993",
   "metadata": {},
   "source": [
    "# 주피터 노트북 사용법"
   ]
  },
  {
   "cell_type": "markdown",
   "id": "ec1e074f",
   "metadata": {},
   "source": [
    "## 아나콘다 설치\n",
    "- [아나콘다](https://www.anaconda.com/download)\n",
    "- [설치 안내 블로그](https://icedhotchoco.tistory.com/entry/Anaconda-Jupyter)\n",
    "\n",
    "## 아나콘다 가상환경\n",
    "- [가상환경 생성](https://sdc-james.gitbook.io/onebook/2./2.1./2.1.1./2-conda-virtual-environments)"
   ]
  },
  {
   "cell_type": "markdown",
   "id": "54631cc4",
   "metadata": {},
   "source": [
    "## 주피터 노트북 설치\n",
    "- [주피터노트북 설치](https://taehooh.tistory.com/48)"
   ]
  },
  {
   "cell_type": "markdown",
   "id": "b56837ec",
   "metadata": {},
   "source": [
    "## 주피터 노트북 사용법\n",
    "- [사용법 안내](https://marketer-coding-school.tistory.com/entry/3-%EC%A3%BC%ED%94%BC%ED%84%B0-%EB%85%B8%ED%8A%B8%EB%B6%81Jupyter-notebook-%EC%8B%9C%EC%9E%91%ED%95%98%EA%B8%B0)\n",
    "- [간단 사용법](https://273k.tistory.com/entry/0-Jupyter-Notebook-%EC%9E%85%EB%AC%B8%ED%95%98%EA%B8%B0)"
   ]
  },
  {
   "cell_type": "markdown",
   "id": "129046c9",
   "metadata": {},
   "source": [
    "# C언어와 파이썬"
   ]
  },
  {
   "cell_type": "markdown",
   "id": "d92e611e",
   "metadata": {},
   "source": [
    "- 아래는 C 언어와 파이썬으로 작성된 간단한 예제 5가지입니다. \n",
    "- 이 예제들은 C 언어와 파이썬의 문법 및 특징을 비교하며 파이썬의 매력을 느낄 수 있도록 설계되었습니다.\n",
    "\n",
    "1. **인사말 출력하기**:\n",
    "   - C 언어:\n",
    "     ```c\n",
    "     #include <stdio.h>\n",
    "     \n",
    "     int main() {\n",
    "         printf(\"안녕하세요!\\n\");\n",
    "         return 0;\n",
    "     }\n",
    "     ```\n",
    "   - Python:\n",
    "     ```python\n",
    "     print(\"안녕하세요!\")\n",
    "     ```"
   ]
  },
  {
   "cell_type": "code",
   "execution_count": 1,
   "id": "07e1b0b9",
   "metadata": {},
   "outputs": [
    {
     "name": "stdout",
     "output_type": "stream",
     "text": [
      "안녕하세요!\n"
     ]
    }
   ],
   "source": []
  },
  {
   "cell_type": "markdown",
   "id": "82b1d597",
   "metadata": {},
   "source": [
    "2. **두 숫자 더하기**:\n",
    "   - C 언어:\n",
    "     ```c\n",
    "     #include <stdio.h>\n",
    "     \n",
    "     int main() {\n",
    "         int num1 = 5;\n",
    "         int num2 = 3;\n",
    "         int result = num1 + num2;\n",
    "         printf(\"두 숫자의 합은: %d\\n\", result);\n",
    "         return 0;\n",
    "     }\n",
    "     ```\n",
    "   - Python:\n",
    "     ```python\n",
    "     num1 = 5\n",
    "     num2 = 3\n",
    "     result = num1 + num2\n",
    "     print(\"두 숫자의 합은:\", result)\n",
    "     ```"
   ]
  },
  {
   "cell_type": "code",
   "execution_count": 2,
   "id": "62786f20",
   "metadata": {},
   "outputs": [
    {
     "name": "stdout",
     "output_type": "stream",
     "text": [
      "두 숫자의 합은: 8\n"
     ]
    }
   ],
   "source": []
  },
  {
   "cell_type": "markdown",
   "id": "97ffbbf0",
   "metadata": {},
   "source": [
    "\n",
    "3. **사용자로부터 입력 받기**:\n",
    "   - C 언어:\n",
    "     ```c\n",
    "     #include <stdio.h>\n",
    "     \n",
    "     int main() {\n",
    "         char name[20];\n",
    "         printf(\"이름을 입력하세요: \");\n",
    "         scanf(\"%s\", name);\n",
    "         printf(\"안녕하세요, %s님!\\n\", name);\n",
    "         return 0;\n",
    "     }\n",
    "     ```\n",
    "   - Python:\n",
    "     ```python\n",
    "     name = input(\"이름을 입력하세요: \")\n",
    "     print(\"안녕하세요,\", name, \"님!\")\n",
    "     ```"
   ]
  },
  {
   "cell_type": "code",
   "execution_count": null,
   "id": "07e41bb3",
   "metadata": {},
   "outputs": [],
   "source": []
  },
  {
   "cell_type": "markdown",
   "id": "692d9724",
   "metadata": {},
   "source": [
    "\n",
    "4. **반복문을 이용한 숫자 출력**:\n",
    "   - C 언어:\n",
    "     ```c\n",
    "     #include <stdio.h>\n",
    "     \n",
    "     int main() {\n",
    "         for (int i = 1; i <= 5; i++) {\n",
    "             printf(\"%d\\n\", i);\n",
    "         }\n",
    "         return 0;\n",
    "     }\n",
    "     ```\n",
    "   - Python:\n",
    "     ```python\n",
    "     for i in range(1, 6):\n",
    "         print(i)\n",
    "     ```"
   ]
  },
  {
   "cell_type": "code",
   "execution_count": 3,
   "id": "38a18b2f",
   "metadata": {},
   "outputs": [
    {
     "name": "stdout",
     "output_type": "stream",
     "text": [
      "1\n",
      "2\n",
      "3\n",
      "4\n",
      "5\n"
     ]
    }
   ],
   "source": []
  },
  {
   "cell_type": "markdown",
   "id": "3b8cd71a",
   "metadata": {},
   "source": [
    "5. **리스트 활용하기**:\n",
    "   - C 언어:\n",
    "     ```c\n",
    "     #include <stdio.h>\n",
    "     \n",
    "     int main() {\n",
    "         char *fruits[] = {\"사과\", \"바나나\", \"딸기\", \"포도\"};\n",
    "         printf(\"내가 좋아하는 과일:\\n\");\n",
    "         for (int i = 0; i < 4; i++) {\n",
    "             printf(\"%s\\n\", fruits[i]);\n",
    "         }\n",
    "         return 0;\n",
    "     }\n",
    "     ```\n",
    "   - Python:\n",
    "     ```python\n",
    "     fruits = [\"사과\", \"바나나\", \"딸기\", \"포도\"]\n",
    "     print(\"내가 좋아하는 과일:\")\n",
    "     for fruit in fruits:\n",
    "         print(fruit)\n",
    "     ```\n",
    "\n",
    "- 이러한 예제들을 통해 C 언어와 파이썬의 문법 및 특징을 비교하고, 파이썬의 간결함과 편리함을 경험할 수 있을 것입니다."
   ]
  },
  {
   "cell_type": "code",
   "execution_count": 4,
   "id": "7055afce",
   "metadata": {},
   "outputs": [
    {
     "name": "stdout",
     "output_type": "stream",
     "text": [
      "내가 좋아하는 과일:\n",
      "사과\n",
      "바나나\n",
      "딸기\n",
      "포도\n"
     ]
    }
   ],
   "source": []
  },
  {
   "cell_type": "code",
   "execution_count": null,
   "id": "88f615f5",
   "metadata": {},
   "outputs": [],
   "source": []
  }
 ],
 "metadata": {
  "kernelspec": {
   "display_name": "Python 3 (ipykernel)",
   "language": "python",
   "name": "python3"
  },
  "language_info": {
   "codemirror_mode": {
    "name": "ipython",
    "version": 3
   },
   "file_extension": ".py",
   "mimetype": "text/x-python",
   "name": "python",
   "nbconvert_exporter": "python",
   "pygments_lexer": "ipython3",
   "version": "3.10.9"
  },
  "toc": {
   "base_numbering": 1,
   "nav_menu": {},
   "number_sections": true,
   "sideBar": true,
   "skip_h1_title": false,
   "title_cell": "Table of Contents",
   "title_sidebar": "Contents",
   "toc_cell": false,
   "toc_position": {
    "height": "calc(100% - 180px)",
    "left": "10px",
    "top": "150px",
    "width": "438.857px"
   },
   "toc_section_display": true,
   "toc_window_display": true
  }
 },
 "nbformat": 4,
 "nbformat_minor": 5
}
