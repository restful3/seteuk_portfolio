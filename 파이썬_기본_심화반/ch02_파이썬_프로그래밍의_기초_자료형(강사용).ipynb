{
 "cells": [
  {
   "cell_type": "markdown",
   "id": "ed038324",
   "metadata": {},
   "source": [
    "# 숫자형\n",
    "- 숫자형은 숫자 형태로 이루어진 자료형\n",
    "\n",
    "| 데이터 유형 |          |\n",
    "|-------------|----------|\n",
    "| 정수        | `x = 10`, `y = -15`   |\n",
    "| 실수        | `a = 3.14`, `b = -0.005` |\n",
    "| 8진수       | `oct_num = 0o10`, `oct_num2 = 0o777` |\n",
    "| 16진수      | `hex_num = 0x1F`, `hex_num2 = 0xABCD` |\n",
    "\n",
    "- 8진수 : \n",
    "    - 8진수는 0부터 7까지의 숫자로 표현되는 수 체계이며, 컴퓨터 과학에서 주로 사용됩니다. \n",
    "    - 10진수에서 8진수로 변환하려면 8로 나누어가며 나머지를 구하면 됩니다. \n",
    "    - 8진수는 주로 파일 권한 설정과 같은 시스템 관련 작업에서 사용됩니다.\n",
    "- 16진수 : \n",
    "    - 16진수는 0부터 9까지의 숫자와 A부터 F까지의 문자를 사용하여 나타내는 수 체계입니다. \n",
    "    - 이진수와 함께 주로 컴퓨터 과학 및 프로그래밍에서 사용되며, 16진수는 이진수로 변환하기가 쉽고 간단하여 메모리 주소, RGB 색상 코드 및 문자 코드와 같은 다양한 데이터를 표현하는 데에 유용하게 사용됩니다. \n",
    "    - 16진수는 10진수에서 16진수로 변환하려면 16으로 나누어가며 나머지를 구하면 됩니다.    "
   ]
  },
  {
   "cell_type": "markdown",
   "id": "37fc4b0a",
   "metadata": {},
   "source": [
    "## 숫자형은 어떻게 만들고 사용할까?"
   ]
  },
  {
   "cell_type": "markdown",
   "id": "e2cc35ff",
   "metadata": {},
   "source": [
    "**정수형**\n",
    "- 정수형(integer)란 정수를 뜻하는 자료형"
   ]
  },
  {
   "cell_type": "code",
   "execution_count": 1,
   "id": "b272d9c6",
   "metadata": {},
   "outputs": [],
   "source": [
    "a = 123"
   ]
  },
  {
   "cell_type": "code",
   "execution_count": 2,
   "id": "36680ab0",
   "metadata": {},
   "outputs": [],
   "source": [
    "a = -178"
   ]
  },
  {
   "cell_type": "code",
   "execution_count": 3,
   "id": "f52e13dc",
   "metadata": {},
   "outputs": [],
   "source": [
    "a = 0"
   ]
  },
  {
   "cell_type": "markdown",
   "id": "3b3ee055",
   "metadata": {},
   "source": [
    "**실수형**\n",
    "- 실수형(floating point) 는 소수점이 포함된 숫자\n",
    "- 이 표현 방식은 실수를 가수와 지수의 형태로 표현합니다. \n",
    "- 여기서 \"가수\"는 소수점 이하의 숫자를 표현하고, \"지수\"는 소수점의 위치를 나타냅니다.\n",
    "- 예를 들어, 3.14를 부동 소수점으로 표현하면 가수는 3.14의 가수 부분이 되고, 지수는 소수점의 위치를 조절하여 정확한 값을 표현"
   ]
  },
  {
   "cell_type": "code",
   "execution_count": 6,
   "id": "e853510e",
   "metadata": {},
   "outputs": [],
   "source": [
    "a = 0.12"
   ]
  },
  {
   "cell_type": "code",
   "execution_count": 7,
   "id": "56675c4b",
   "metadata": {},
   "outputs": [],
   "source": [
    "a = -3.45"
   ]
  },
  {
   "cell_type": "markdown",
   "id": "481c7cec",
   "metadata": {},
   "source": [
    "- 컴퓨터 지수 표현 방식"
   ]
  },
  {
   "cell_type": "code",
   "execution_count": 10,
   "id": "520776f8",
   "metadata": {},
   "outputs": [],
   "source": [
    "a = 1.2e-1 # 1.2*10^-1"
   ]
  },
  {
   "cell_type": "code",
   "execution_count": 11,
   "id": "3af05d6e",
   "metadata": {},
   "outputs": [],
   "source": [
    "a = -3.45e0 # -3.45*10^0"
   ]
  },
  {
   "cell_type": "markdown",
   "id": "8fd4ad14",
   "metadata": {},
   "source": [
    "**8진수와 16진수**\n",
    "\n",
    "- 8진수를 만들기 위해서는 0o 또는 0O(숫자 0과 소문자 o 또는 대문자 O)로 시작"
   ]
  },
  {
   "cell_type": "code",
   "execution_count": 12,
   "id": "d1b85690",
   "metadata": {},
   "outputs": [
    {
     "data": {
      "text/plain": [
       "127"
      ]
     },
     "execution_count": 12,
     "metadata": {},
     "output_type": "execute_result"
    }
   ],
   "source": [
    "a = 0o177\n",
    "a"
   ]
  },
  {
   "cell_type": "markdown",
   "id": "f14222f6",
   "metadata": {},
   "source": [
    "- 16진수를 만들기 위해서는 0x로 시작"
   ]
  },
  {
   "cell_type": "code",
   "execution_count": 13,
   "id": "9e7d4751",
   "metadata": {},
   "outputs": [
    {
     "name": "stdout",
     "output_type": "stream",
     "text": [
      "2303 2748\n"
     ]
    }
   ],
   "source": [
    "a = 0x8ff\n",
    "b = 0xABC\n",
    "print(a, b)"
   ]
  },
  {
   "cell_type": "markdown",
   "id": "b547c9b5",
   "metadata": {},
   "source": [
    "## 숫자형을 활용하기 위한 연산자"
   ]
  },
  {
   "cell_type": "markdown",
   "id": "ea7d4340",
   "metadata": {},
   "source": [
    "**사칙 연산**"
   ]
  },
  {
   "cell_type": "code",
   "execution_count": 14,
   "id": "762e9329",
   "metadata": {},
   "outputs": [
    {
     "data": {
      "text/plain": [
       "7"
      ]
     },
     "execution_count": 14,
     "metadata": {},
     "output_type": "execute_result"
    }
   ],
   "source": [
    "a = 3\n",
    "b = 4\n",
    "a + b"
   ]
  },
  {
   "cell_type": "code",
   "execution_count": 15,
   "id": "4a768b17",
   "metadata": {},
   "outputs": [
    {
     "data": {
      "text/plain": [
       "-1"
      ]
     },
     "execution_count": 15,
     "metadata": {},
     "output_type": "execute_result"
    }
   ],
   "source": [
    "a - b"
   ]
  },
  {
   "cell_type": "code",
   "execution_count": 16,
   "id": "5337f4bc",
   "metadata": {},
   "outputs": [
    {
     "data": {
      "text/plain": [
       "12"
      ]
     },
     "execution_count": 16,
     "metadata": {},
     "output_type": "execute_result"
    }
   ],
   "source": [
    "a * b"
   ]
  },
  {
   "cell_type": "code",
   "execution_count": 17,
   "id": "1846fa9f",
   "metadata": {},
   "outputs": [
    {
     "data": {
      "text/plain": [
       "0.75"
      ]
     },
     "execution_count": 17,
     "metadata": {},
     "output_type": "execute_result"
    }
   ],
   "source": [
    "a / b"
   ]
  },
  {
   "cell_type": "markdown",
   "id": "58f37b28",
   "metadata": {},
   "source": [
    "**x의 y제곱을 나타내는 ** 연산자**"
   ]
  },
  {
   "cell_type": "code",
   "execution_count": 18,
   "id": "0b3eb210",
   "metadata": {},
   "outputs": [
    {
     "data": {
      "text/plain": [
       "81"
      ]
     },
     "execution_count": 18,
     "metadata": {},
     "output_type": "execute_result"
    }
   ],
   "source": [
    "a = 3\n",
    "b = 4\n",
    "a ** b"
   ]
  },
  {
   "cell_type": "markdown",
   "id": "6085bf0f",
   "metadata": {},
   "source": [
    "**문제**\n",
    "- 방금 배운 연산자를 활용 $10\\times18^2+2 \\times 11$를 계산해 보자."
   ]
  },
  {
   "cell_type": "code",
   "execution_count": 1,
   "id": "ebe1cd2e",
   "metadata": {},
   "outputs": [
    {
     "data": {
      "text/plain": [
       "3262"
      ]
     },
     "execution_count": 1,
     "metadata": {},
     "output_type": "execute_result"
    }
   ],
   "source": [
    "10*18**2 + 2*11"
   ]
  },
  {
   "cell_type": "markdown",
   "id": "772e21ac",
   "metadata": {},
   "source": [
    "**나눗셈 후 나머지를 리턴하는 % 연산자**\n",
    "- % 연산자는 나눗셈의 나머지 값을 리턴하는 연산\n",
    "- 7을 3으로 나누면 1"
   ]
  },
  {
   "cell_type": "code",
   "execution_count": 19,
   "id": "02bdad7a",
   "metadata": {},
   "outputs": [
    {
     "data": {
      "text/plain": [
       "1"
      ]
     },
     "execution_count": 19,
     "metadata": {},
     "output_type": "execute_result"
    }
   ],
   "source": [
    "7%3"
   ]
  },
  {
   "cell_type": "markdown",
   "id": "634c370a",
   "metadata": {},
   "source": [
    "- 3을 7로 나누면 3"
   ]
  },
  {
   "cell_type": "code",
   "execution_count": 20,
   "id": "f0edabd6",
   "metadata": {},
   "outputs": [
    {
     "data": {
      "text/plain": [
       "3"
      ]
     },
     "execution_count": 20,
     "metadata": {},
     "output_type": "execute_result"
    }
   ],
   "source": [
    "3%7"
   ]
  },
  {
   "cell_type": "markdown",
   "id": "2b00138a",
   "metadata": {},
   "source": [
    "**나눗셈 후 몫을 리턴하는 // 연산**\n",
    "- 7/4"
   ]
  },
  {
   "cell_type": "code",
   "execution_count": 21,
   "id": "ebf0fbd0",
   "metadata": {},
   "outputs": [
    {
     "data": {
      "text/plain": [
       "1.75"
      ]
     },
     "execution_count": 21,
     "metadata": {},
     "output_type": "execute_result"
    }
   ],
   "source": [
    "7/4"
   ]
  },
  {
   "cell_type": "markdown",
   "id": "73fc611f",
   "metadata": {},
   "source": [
    "- 7를 4로 나눈 몫"
   ]
  },
  {
   "cell_type": "code",
   "execution_count": 22,
   "id": "a4f27e94",
   "metadata": {},
   "outputs": [
    {
     "data": {
      "text/plain": [
       "1"
      ]
     },
     "execution_count": 22,
     "metadata": {},
     "output_type": "execute_result"
    }
   ],
   "source": [
    "7//4"
   ]
  },
  {
   "cell_type": "markdown",
   "id": "ad16a288",
   "metadata": {},
   "source": [
    "**문제**\n",
    "- 14를 3으로 나누었을 때 몫과 나머지를 구하라"
   ]
  },
  {
   "cell_type": "code",
   "execution_count": 2,
   "id": "e9a789f4",
   "metadata": {},
   "outputs": [
    {
     "data": {
      "text/plain": [
       "4"
      ]
     },
     "execution_count": 2,
     "metadata": {},
     "output_type": "execute_result"
    }
   ],
   "source": [
    "14//3"
   ]
  },
  {
   "cell_type": "code",
   "execution_count": 3,
   "id": "0138053c",
   "metadata": {},
   "outputs": [
    {
     "data": {
      "text/plain": [
       "2"
      ]
     },
     "execution_count": 3,
     "metadata": {},
     "output_type": "execute_result"
    }
   ],
   "source": [
    "14%3"
   ]
  },
  {
   "cell_type": "markdown",
   "id": "883ece52",
   "metadata": {},
   "source": [
    "# 문자열 자료형\n",
    "- [소스](https://wikidocs.net/13)\n",
    "- 문자열(string)이란 문자, 단어 등으로 구성된 문자들의 집합\n",
    "\n",
    "    - \"Life is too short. You need Python\"\n",
    "    - \"a\"\n",
    "    - \"123\"\n",
    "\n",
    "- 모든 예문은 큰따움표로 둘러싸여 있다.\n",
    "- \"123\"은 숫자인데 왜 문자열일까?"
   ]
  },
  {
   "cell_type": "markdown",
   "id": "a04a6637",
   "metadata": {},
   "source": [
    "## 문자열을 어떻게 만들고 사용할 까?\n",
    "- 다음과 같이 4가지가 있다\n",
    "\n",
    "**큰따움표로 양쪽 둘러싸기**"
   ]
  },
  {
   "cell_type": "code",
   "execution_count": 27,
   "id": "0d3aca92",
   "metadata": {},
   "outputs": [
    {
     "data": {
      "text/plain": [
       "'Hello world'"
      ]
     },
     "execution_count": 27,
     "metadata": {},
     "output_type": "execute_result"
    }
   ],
   "source": [
    "\"Hello world\""
   ]
  },
  {
   "cell_type": "markdown",
   "id": "c75ad1d5",
   "metadata": {},
   "source": [
    "**작은따움표로 양쪽 둘러싸기**"
   ]
  },
  {
   "cell_type": "code",
   "execution_count": 24,
   "id": "19706045",
   "metadata": {},
   "outputs": [
    {
     "data": {
      "text/plain": [
       "'Python is fun'"
      ]
     },
     "execution_count": 24,
     "metadata": {},
     "output_type": "execute_result"
    }
   ],
   "source": [
    "'Python is fun'"
   ]
  },
  {
   "cell_type": "markdown",
   "id": "37b11466",
   "metadata": {},
   "source": [
    "**큰따움표 3개를 연속으로 써서 양쪽 둘러싸기**"
   ]
  },
  {
   "cell_type": "code",
   "execution_count": 29,
   "id": "7b36bd46",
   "metadata": {},
   "outputs": [
    {
     "data": {
      "text/plain": [
       "'Life is too short. You need python.'"
      ]
     },
     "execution_count": 29,
     "metadata": {},
     "output_type": "execute_result"
    }
   ],
   "source": [
    "\"\"\"Life is too short. You need python.\"\"\""
   ]
  },
  {
   "cell_type": "markdown",
   "id": "93aef468",
   "metadata": {},
   "source": [
    "**작은따움표 3개를 연속으로 써서 양쪽 둘러싸기**"
   ]
  },
  {
   "cell_type": "code",
   "execution_count": 30,
   "id": "bb141b14",
   "metadata": {},
   "outputs": [
    {
     "data": {
      "text/plain": [
       "'Life is too short. You need python.'"
      ]
     },
     "execution_count": 30,
     "metadata": {},
     "output_type": "execute_result"
    }
   ],
   "source": [
    "'''Life is too short. You need python.'''"
   ]
  },
  {
   "cell_type": "markdown",
   "id": "f0f096c3",
   "metadata": {},
   "source": [
    "## 문자열 안에 작은따움표나 큰따움표를 포함시키고 싶을 때\n",
    "**1.문자열에 작은따움표 포함하기**\n",
    "\n",
    "- Python's favorite food is perl"
   ]
  },
  {
   "cell_type": "code",
   "execution_count": 31,
   "id": "2e9d1570",
   "metadata": {},
   "outputs": [
    {
     "data": {
      "text/plain": [
       "\"Python's favorite food is perl\""
      ]
     },
     "execution_count": 31,
     "metadata": {},
     "output_type": "execute_result"
    }
   ],
   "source": [
    "food = \"Python's favorite food is perl\"\n",
    "food"
   ]
  },
  {
   "cell_type": "code",
   "execution_count": 32,
   "id": "bbdec04e",
   "metadata": {},
   "outputs": [
    {
     "ename": "SyntaxError",
     "evalue": "unterminated string literal (detected at line 1) (1974562179.py, line 1)",
     "output_type": "error",
     "traceback": [
      "\u001b[0;36m  Cell \u001b[0;32mIn[32], line 1\u001b[0;36m\u001b[0m\n\u001b[0;31m    'Python's favorite food is perl'\u001b[0m\n\u001b[0m                                   ^\u001b[0m\n\u001b[0;31mSyntaxError\u001b[0m\u001b[0;31m:\u001b[0m unterminated string literal (detected at line 1)\n"
     ]
    }
   ],
   "source": [
    "'Python's favorite food is perl'"
   ]
  },
  {
   "cell_type": "markdown",
   "id": "6ef7df00",
   "metadata": {},
   "source": [
    "**2.문자열에 큰따움표 포함하기**\n",
    "- \"Python is very easy.\" he says."
   ]
  },
  {
   "cell_type": "code",
   "execution_count": 34,
   "id": "509c1c80",
   "metadata": {},
   "outputs": [
    {
     "data": {
      "text/plain": [
       "'\"Python is very easy.\" he says.'"
      ]
     },
     "execution_count": 34,
     "metadata": {},
     "output_type": "execute_result"
    }
   ],
   "source": [
    "say = '\"Python is very easy.\" he says.'\n",
    "say"
   ]
  },
  {
   "cell_type": "markdown",
   "id": "5d1fd4bf",
   "metadata": {},
   "source": [
    "**3.역슬래시를 사용 작은따움표와 큰따움표를 문자열에 포함시키기**\n",
    "- 역슬래쉬 뒤의 \"나 ' 는 문자열을 둘러싸는 기호가 아니라 문자 그 자체가 된다.\n",
    "    - 역슬래쉬는 많은 프로그래밍 언어에서 이스케이프(escape) 문자입니다. \n",
    "    - 이스케이프 문자는 특수한 기능을 가진 문자를 일반 문자로 해석하도록 지시합니다. \n",
    "    - 즉, 그 다음에 오는 문자를 특별한 의미를 갖지 않고 그대로 문자열로 처리하도록 합니다."
   ]
  },
  {
   "cell_type": "code",
   "execution_count": 35,
   "id": "f359614d",
   "metadata": {},
   "outputs": [
    {
     "data": {
      "text/plain": [
       "\"Python's favorite food is perl\""
      ]
     },
     "execution_count": 35,
     "metadata": {},
     "output_type": "execute_result"
    }
   ],
   "source": [
    "food = 'Python\\'s favorite food is perl'\n",
    "food"
   ]
  },
  {
   "cell_type": "code",
   "execution_count": 37,
   "id": "ad86262b",
   "metadata": {},
   "outputs": [
    {
     "data": {
      "text/plain": [
       "'\"Pythons is very easy.\" he says.'"
      ]
     },
     "execution_count": 37,
     "metadata": {},
     "output_type": "execute_result"
    }
   ],
   "source": [
    "say = \"\\\"Pythons is very easy.\\\" he says.\"\n",
    "say"
   ]
  },
  {
   "cell_type": "markdown",
   "id": "5df4f440",
   "metadata": {},
   "source": [
    "## 여러 줄인 문자열을 변수에 대입하고 싶을 때\n",
    "\n",
    "- 다음과 같이 여러줄을 변수에 대입하고자 한다면 어떻게 해야 할까.\n",
    "\n",
    "Life is too short\n",
    "You need python\n",
    "\n",
    "\n",
    "**1.줄을 바꾸기 위한 이스케이프 코드 \\n 삽입**"
   ]
  },
  {
   "cell_type": "code",
   "execution_count": 39,
   "id": "8b890d8c",
   "metadata": {},
   "outputs": [
    {
     "name": "stdout",
     "output_type": "stream",
     "text": [
      "Life is too short\n",
      "You need python\n"
     ]
    }
   ],
   "source": [
    "multiline = \"Life is too short\\nYou need python\"\n",
    "print(multiline)"
   ]
  },
  {
   "cell_type": "markdown",
   "id": "90c8be21",
   "metadata": {},
   "source": [
    "**2.연속된 작은따움표 3개 또는 큰따움표 3개 사용하기**"
   ]
  },
  {
   "cell_type": "code",
   "execution_count": 5,
   "id": "db07afe4",
   "metadata": {},
   "outputs": [
    {
     "name": "stdout",
     "output_type": "stream",
     "text": [
      "Life is too short\n",
      "You need python\n"
     ]
    }
   ],
   "source": [
    "multiline = '''Life is too short\n",
    "You need python'''\n",
    "print(multiline)"
   ]
  },
  {
   "cell_type": "code",
   "execution_count": 6,
   "id": "21db1a8c",
   "metadata": {},
   "outputs": [
    {
     "name": "stdout",
     "output_type": "stream",
     "text": [
      "Life is too short\n",
      "You need python\n"
     ]
    }
   ],
   "source": [
    "multiline = \"\"\"Life is too short\n",
    "You need python\"\"\"\n",
    "print(multiline)"
   ]
  },
  {
   "cell_type": "markdown",
   "id": "7977d654",
   "metadata": {},
   "source": [
    "**이스케이프 코드**\n",
    "\n",
    "- 이스케이프 코드란 프로그래밍 할 때 사용할 수 있도록 미리 정해 놓은 '문자 조합'\n",
    "- 주로 출력물을 보기 좋게 정렬하는 용도\n",
    "\n",
    "| 코드  | 설명                                 |\n",
    "|:------|:-------------------------------------|\n",
    "| \\n    | 문자열 안에서 줄을 바꿀 때 사용      |\n",
    "| \\t    | 문자열 사이에 탭 간격을 줄 때 사용  |\n",
    "| \\\\    | \\를 그대로 표현할 때 사용            |\n",
    "| \\'    | 작은따옴표(')를 그대로 표현할 때 사용 |\n",
    "| \\\"    | 큰따옴표(\")를 그대로 표현할 때 사용 |\n",
    "| \\r    | 캐리지 리턴(줄 바꿈 문자)           |\n",
    "| \\f    | 폼 피드(줄 바꿈 문자)               |\n",
    "| \\a    | 벨 소리(출력할 때 PC 스피커에서 '삑' 소리가 난다) |\n",
    "| \\b    | 백 스페이스                         |\n",
    "| \\000  | 널 문자                             |\n",
    "\n",
    "- \\n, \\t, \\\\, \\', \\\" 는 자주 사용되니 기억해 두자\n",
    "\n",
    "## 문자열 연산하기\n",
    "- 문자열을 더하거나 곱해보자\n",
    "\n",
    "**문자열 더해서 연결하기**"
   ]
  },
  {
   "cell_type": "code",
   "execution_count": 9,
   "id": "ce49e94a",
   "metadata": {},
   "outputs": [
    {
     "data": {
      "text/plain": [
       "'Python is fun!'"
      ]
     },
     "execution_count": 9,
     "metadata": {},
     "output_type": "execute_result"
    }
   ],
   "source": [
    "head = \"Python\"\n",
    "tail = \" is fun!\"\n",
    "head + tail"
   ]
  },
  {
   "cell_type": "markdown",
   "id": "0b11a6c3",
   "metadata": {},
   "source": [
    "**문자열 곱하기**"
   ]
  },
  {
   "cell_type": "code",
   "execution_count": 43,
   "id": "25eecdd2",
   "metadata": {},
   "outputs": [
    {
     "data": {
      "text/plain": [
       "'PythonPython'"
      ]
     },
     "execution_count": 43,
     "metadata": {},
     "output_type": "execute_result"
    }
   ],
   "source": [
    "a = \"Python\"\n",
    "a * 2"
   ]
  },
  {
   "cell_type": "markdown",
   "id": "7d87c366",
   "metadata": {},
   "source": [
    "**문자열 곱하기 응용**\n",
    "\n",
    "- 다음을 실행해 보자\n",
    "\n",
    "```python\n",
    "\n",
    "print(\"=\" * 50)\n",
    "print(\"My Program\")\n",
    "print(\"=\" * 50)\n",
    "\n",
    "```"
   ]
  },
  {
   "cell_type": "code",
   "execution_count": 10,
   "id": "0fb2eddd",
   "metadata": {},
   "outputs": [
    {
     "name": "stdout",
     "output_type": "stream",
     "text": [
      "==================================================\n",
      "My Program\n",
      "==================================================\n"
     ]
    }
   ],
   "source": [
    "print(\"=\" * 50)\n",
    "print(\"My Program\")\n",
    "print(\"=\" * 50)"
   ]
  },
  {
   "cell_type": "markdown",
   "id": "075c5f26",
   "metadata": {},
   "source": [
    "**문자열 길이 구하기**\n",
    "- 문자열의 길이는 다음과 같이 len 함수를 사용하면 구할 수 있다. \n",
    "- len 함수는 print 함수처럼 파이썬의 기본 내장 함수로, 별다른 설정 없이 바로 사용할 수 있다.\n",
    "\n",
    "> 문자열의 길이에는 공백 문자도 포함된다."
   ]
  },
  {
   "cell_type": "code",
   "execution_count": 11,
   "id": "a7c375c7",
   "metadata": {},
   "outputs": [
    {
     "data": {
      "text/plain": [
       "17"
      ]
     },
     "execution_count": 11,
     "metadata": {},
     "output_type": "execute_result"
    }
   ],
   "source": [
    "a = \"Life is too short\"\n",
    "len(a)"
   ]
  },
  {
   "cell_type": "markdown",
   "id": "41608095",
   "metadata": {},
   "source": [
    "**문제**\n",
    "- \"You need python\" 이라는 문장을 문자열로 만들고, 길이를 구해보자."
   ]
  },
  {
   "cell_type": "code",
   "execution_count": null,
   "id": "52c71a67",
   "metadata": {},
   "outputs": [],
   "source": []
  },
  {
   "cell_type": "markdown",
   "id": "9ecfb7c3",
   "metadata": {},
   "source": [
    "## 문자열 인덱싱과 슬라이싱\n",
    "- 인덱싱(indexing)이란 무엇인가를 ‘가리킨다’, 슬라이싱(slicing)은 무엇인가를 ‘잘라 낸다’라는 의미이다. \n",
    "- 이런 의미를 생각하면서 다음 내용을 살펴보자.\n",
    "\n",
    "**문자열 인덱싱**"
   ]
  },
  {
   "cell_type": "code",
   "execution_count": 45,
   "id": "f0a1714f",
   "metadata": {},
   "outputs": [],
   "source": [
    "a = \"Life is too short, You need Python\""
   ]
  },
  {
   "cell_type": "markdown",
   "id": "271a9b85",
   "metadata": {},
   "source": [
    "- 위 코드에서 변수 a에 저장한 문자열의 각 문자마다 번호를 매겨 보면 다음과 같다.\n",
    "\n",
    "<img src=\"https://wikidocs.net/images/page/13/02_2_indexing.png\">\n",
    "\n",
    "- \"Life is too short, You need Python\" 문자열에서 L은 첫 번째 자리를 뜻하는 숫자 0, i는 1 이런 식으로 계속 번호를 붙인 것이다. \n",
    "- 즉, 중간에 있는 short의 s는 12가 된다."
   ]
  },
  {
   "cell_type": "code",
   "execution_count": 46,
   "id": "de5be74d",
   "metadata": {},
   "outputs": [
    {
     "data": {
      "text/plain": [
       "'e'"
      ]
     },
     "execution_count": 46,
     "metadata": {},
     "output_type": "execute_result"
    }
   ],
   "source": [
    "a[3]"
   ]
  },
  {
   "cell_type": "markdown",
   "id": "ffde2ffe",
   "metadata": {},
   "source": [
    "- a[3]이 뜻하는 것은 a라는 문자열의 네 번째 문자 e를 말한다. \n",
    "- 프로그래밍을 처음 접하는 독자라면 a[3]에서 숫자 3이 왜 네 번째 문자를 뜻하는지 의아할 수도 있다. \n",
    "- 사실 이 부분이 헷갈릴 수 있는 부분인데, 다음과 같이 생각하면 쉽게 알 수 있을 것이다.\n",
    "\n",
    "**\"파이썬은 0부터 숫자를 센다.\"**\n",
    "\n",
    "- 따라서 파이썬은 위 문자열을 다음과 같이 바라보고 있다.\n",
    "\n",
    "> a[0]:'L', a[1]:'i', a[2]:'f', a[3]:'e', a[4]:' ', ...\n",
    "\n",
    "- 0부터 숫자를 센다는 것이 처음에는 익숙하지 않겠지만, 계속 사용하다 보면 자연스러워질 것이다. \n",
    "- 위 예에서 볼 수 있듯이 a[번호]는 문자열 안의 특정한 값을 뽑아 내는 역할을 한다. 이러한 작업을 **‘인덱싱’** 이라고 한다."
   ]
  },
  {
   "cell_type": "markdown",
   "id": "2f8b91a7",
   "metadata": {},
   "source": [
    "**문자열 인덱싱 활용하기**"
   ]
  },
  {
   "cell_type": "code",
   "execution_count": 47,
   "id": "487b210c",
   "metadata": {},
   "outputs": [],
   "source": [
    "a = \"Life is too short, You need Python\""
   ]
  },
  {
   "cell_type": "code",
   "execution_count": 48,
   "id": "de817e24",
   "metadata": {},
   "outputs": [
    {
     "data": {
      "text/plain": [
       "'L'"
      ]
     },
     "execution_count": 48,
     "metadata": {},
     "output_type": "execute_result"
    }
   ],
   "source": [
    "a[0]"
   ]
  },
  {
   "cell_type": "code",
   "execution_count": 49,
   "id": "8cff98c9",
   "metadata": {},
   "outputs": [
    {
     "data": {
      "text/plain": [
       "'s'"
      ]
     },
     "execution_count": 49,
     "metadata": {},
     "output_type": "execute_result"
    }
   ],
   "source": [
    "a[12]"
   ]
  },
  {
   "cell_type": "code",
   "execution_count": 50,
   "id": "350dba89",
   "metadata": {},
   "outputs": [
    {
     "data": {
      "text/plain": [
       "'n'"
      ]
     },
     "execution_count": 50,
     "metadata": {},
     "output_type": "execute_result"
    }
   ],
   "source": [
    "a[-1]"
   ]
  },
  {
   "cell_type": "markdown",
   "id": "5661044b",
   "metadata": {},
   "source": [
    "- a[-1]이 뜻하는 것은 뭘까?\n",
    "    - 문자열을 뒤에서부터 읽기 위해 -(빼기) 기호를 붙인 것\n",
    "    - a[-1]은 뒤에서부터 세어 첫 번째가 되는 문자를 말한다. \n",
    "    - a의 값은 \"Life is too short, You need Python\" 문자열이므로 뒤에서부터 첫 번째 문자는 가장 마지막 문자 'n'이다.\n",
    "    - 뒤에서부터 첫 번째 문자를 표시할 때도 0부터 세어 ‘a[-0]이라고 해야 하지 않을까?’라는 의문이 들 수도 있겠지만, 잘 생각해 보자. \n",
    "    - 0과 -0은 똑같은 것이기 때문에 a[-0]은 a[0]과 똑같은 값을 보여 준다."
   ]
  },
  {
   "cell_type": "code",
   "execution_count": 51,
   "id": "49f8e6da",
   "metadata": {},
   "outputs": [
    {
     "data": {
      "text/plain": [
       "'L'"
      ]
     },
     "execution_count": 51,
     "metadata": {},
     "output_type": "execute_result"
    }
   ],
   "source": [
    "a[-0]"
   ]
  },
  {
   "cell_type": "code",
   "execution_count": 52,
   "id": "811440f2",
   "metadata": {},
   "outputs": [
    {
     "data": {
      "text/plain": [
       "'o'"
      ]
     },
     "execution_count": 52,
     "metadata": {},
     "output_type": "execute_result"
    }
   ],
   "source": [
    "a[-2]"
   ]
  },
  {
   "cell_type": "code",
   "execution_count": 53,
   "id": "2a4c3bc9",
   "metadata": {},
   "outputs": [
    {
     "data": {
      "text/plain": [
       "'y'"
      ]
     },
     "execution_count": 53,
     "metadata": {},
     "output_type": "execute_result"
    }
   ],
   "source": [
    "a[-5]"
   ]
  },
  {
   "cell_type": "markdown",
   "id": "c576678a",
   "metadata": {},
   "source": [
    "**문자열 슬라이싱**\n",
    "- 그렇다면 \"Life is too short, You need Python\" 문자열에서 단순히 한 문자만을 뽑아 내는 것이 아니라 ‘Life’ 또는 ‘You’와 같은 단어를 뽑아 내는 방법은 없을까?"
   ]
  },
  {
   "cell_type": "code",
   "execution_count": 14,
   "id": "3a77044d",
   "metadata": {},
   "outputs": [
    {
     "data": {
      "text/plain": [
       "'Life'"
      ]
     },
     "execution_count": 14,
     "metadata": {},
     "output_type": "execute_result"
    }
   ],
   "source": [
    "a = \"Life is too short, You need Python\"\n",
    "b = a[0] + a[1] + a[2] + a[3]\n",
    "b"
   ]
  },
  {
   "cell_type": "markdown",
   "id": "9a775f26",
   "metadata": {},
   "source": [
    "- 위와 같이 단순하게 접근할 수도 있지만 파이썬에서는 더 좋은 방법을 제공한다. 바로 슬라이싱(slicing) 기법이다. \n",
    "- 위 예는 슬라이싱 기법으로 다음과 같이 간단하게 처리할 수 있다.\n",
    "\n",
    "> 인덱싱 기법과 슬라이싱 기법은 뒤에서 배울 자료형인 리스트나 튜플에서도 사용할 수 있다."
   ]
  },
  {
   "cell_type": "code",
   "execution_count": 15,
   "id": "19a5c3ac",
   "metadata": {},
   "outputs": [
    {
     "data": {
      "text/plain": [
       "'Life'"
      ]
     },
     "execution_count": 15,
     "metadata": {},
     "output_type": "execute_result"
    }
   ],
   "source": [
    "a[0:4]"
   ]
  },
  {
   "cell_type": "markdown",
   "id": "ef0005be",
   "metadata": {},
   "source": [
    "- a[0:4]는 a 문자열, 즉 \"Life is too short, You need Python\" 문자열에서 자리 번호 0부터 4까지의 문자를 뽑아 낸다는 뜻이다.\n",
    "- 하지만 ‘a[0]은 L, a[1]은 i, a[2]는 f, a[3]은 e이므로 a[0:3]으로도 Life라는 단어를 뽑아 낼 수 있지 않을까?’라는 의문이 생길 것이다. \n",
    "- 다음 예로 확인해 보자."
   ]
  },
  {
   "cell_type": "code",
   "execution_count": 16,
   "id": "5506b5ac",
   "metadata": {},
   "outputs": [
    {
     "data": {
      "text/plain": [
       "'Lif'"
      ]
     },
     "execution_count": 16,
     "metadata": {},
     "output_type": "execute_result"
    }
   ],
   "source": [
    "a[0:3]"
   ]
  },
  {
   "cell_type": "markdown",
   "id": "e1210d18",
   "metadata": {},
   "source": [
    "- 이렇게 되는 이유는 슬라이싱 기법으로 a[시작_번호:끝_번호]를 지정할 때 끝 번호에 해당하는 문자는 포함하지 않기 때문이다. \n",
    "- 즉, a[0:3]을 수식으로 나타내면 다음과 같다.\n",
    "\n",
    "$0 <= a < 3$"
   ]
  },
  {
   "cell_type": "markdown",
   "id": "afceeb64",
   "metadata": {},
   "source": [
    "- 이 수식을 만족하는 것은 a[0], a[1], a[2]이다. \n",
    "- 따라서 a[0:3]은 'Lif', a[0:4]는 'Life'가 되는 것이다. \n",
    "- 이 부분이 문자열 연산에서 가장 혼동하기 쉬운 부분이므로 문제를 많이 풀어 보면서 몸에 익히기 바란다."
   ]
  },
  {
   "cell_type": "markdown",
   "id": "9464b89a",
   "metadata": {},
   "source": [
    "**문자열을 슬라이싱하는 방법**"
   ]
  },
  {
   "cell_type": "code",
   "execution_count": 17,
   "id": "c39e0da3",
   "metadata": {},
   "outputs": [
    {
     "data": {
      "text/plain": [
       "'Life '"
      ]
     },
     "execution_count": 17,
     "metadata": {},
     "output_type": "execute_result"
    }
   ],
   "source": [
    "a[0:5]"
   ]
  },
  {
   "cell_type": "markdown",
   "id": "75e799f2",
   "metadata": {},
   "source": [
    "- 위 예는 a[0] + a[1] + a[2] + a[3] + a[4]와 동일하다. \n",
    "- a[4]는 공백 문자이기 때문에 'Life'가 아닌 'Life '가 출력된다. \n",
    "- 공백 문자 역시 L, i, f, e 와 같은 문자와 동일하게 취급되는 것을 잊지 말자. \n",
    "- 'Life'와 'Life '는 완전히 다른 문자열이다."
   ]
  },
  {
   "cell_type": "markdown",
   "id": "3d9ac908",
   "metadata": {},
   "source": [
    "- 슬라이싱할 때 항상 시작 번호가 0일 필요는 없다."
   ]
  },
  {
   "cell_type": "code",
   "execution_count": 18,
   "id": "06eca782",
   "metadata": {},
   "outputs": [
    {
     "data": {
      "text/plain": [
       "'Li'"
      ]
     },
     "execution_count": 18,
     "metadata": {},
     "output_type": "execute_result"
    }
   ],
   "source": [
    "a[0:2]"
   ]
  },
  {
   "cell_type": "code",
   "execution_count": 19,
   "id": "eb510ac4",
   "metadata": {},
   "outputs": [
    {
     "data": {
      "text/plain": [
       "'is'"
      ]
     },
     "execution_count": 19,
     "metadata": {},
     "output_type": "execute_result"
    }
   ],
   "source": [
    "a[5:7]"
   ]
  },
  {
   "cell_type": "code",
   "execution_count": 20,
   "id": "8bca2c2c",
   "metadata": {},
   "outputs": [
    {
     "data": {
      "text/plain": [
       "'short'"
      ]
     },
     "execution_count": 20,
     "metadata": {},
     "output_type": "execute_result"
    }
   ],
   "source": [
    "a[12:17]"
   ]
  },
  {
   "cell_type": "markdown",
   "id": "7db3a698",
   "metadata": {},
   "source": [
    "- a[시작_번호:끝_번호]에서 끝 번호 부분을 생략하면 시작 번호부터 그 문자열의 끝까지 뽑아 낸다."
   ]
  },
  {
   "cell_type": "code",
   "execution_count": 21,
   "id": "0fbe3e4e",
   "metadata": {},
   "outputs": [
    {
     "data": {
      "text/plain": [
       "'Life is too short, You need Python'"
      ]
     },
     "execution_count": 21,
     "metadata": {},
     "output_type": "execute_result"
    }
   ],
   "source": [
    "a"
   ]
  },
  {
   "cell_type": "code",
   "execution_count": 22,
   "id": "4b56e4a3",
   "metadata": {},
   "outputs": [
    {
     "data": {
      "text/plain": [
       "'You need Python'"
      ]
     },
     "execution_count": 22,
     "metadata": {},
     "output_type": "execute_result"
    }
   ],
   "source": [
    "a[19:]"
   ]
  },
  {
   "cell_type": "markdown",
   "id": "33dbf0c0",
   "metadata": {},
   "source": [
    "- a[시작_번호:끝_번호]에서 시작 번호를 생략하면 문자열의 처음부터 끝 번호까지 뽑아 낸다."
   ]
  },
  {
   "cell_type": "code",
   "execution_count": 62,
   "id": "89c72d6f",
   "metadata": {},
   "outputs": [
    {
     "data": {
      "text/plain": [
       "'Life is too short'"
      ]
     },
     "execution_count": 62,
     "metadata": {},
     "output_type": "execute_result"
    }
   ],
   "source": [
    "a[:17]"
   ]
  },
  {
   "cell_type": "markdown",
   "id": "85ff01ea",
   "metadata": {},
   "source": [
    "- a[시작_번호:끝_번호]에서 시작 번호와 끝 번호를 생략하면 문자열의 처음부터 끝까지 뽑아 낸다."
   ]
  },
  {
   "cell_type": "code",
   "execution_count": 63,
   "id": "34bba27a",
   "metadata": {},
   "outputs": [
    {
     "data": {
      "text/plain": [
       "'Life is too short, You need Python'"
      ]
     },
     "execution_count": 63,
     "metadata": {},
     "output_type": "execute_result"
    }
   ],
   "source": [
    "a[:]"
   ]
  },
  {
   "cell_type": "markdown",
   "id": "3b5292fd",
   "metadata": {},
   "source": [
    "- 슬라이싱에서도 인덱싱과 마찬가지로 -(빼기) 기호를 사용할 수 있다."
   ]
  },
  {
   "cell_type": "code",
   "execution_count": 24,
   "id": "f50c9323",
   "metadata": {},
   "outputs": [
    {
     "data": {
      "text/plain": [
       "'Life is too short, You need Python'"
      ]
     },
     "execution_count": 24,
     "metadata": {},
     "output_type": "execute_result"
    }
   ],
   "source": [
    "a"
   ]
  },
  {
   "cell_type": "code",
   "execution_count": 23,
   "id": "a5bfdc1e",
   "metadata": {},
   "outputs": [
    {
     "data": {
      "text/plain": [
       "'You need'"
      ]
     },
     "execution_count": 23,
     "metadata": {},
     "output_type": "execute_result"
    }
   ],
   "source": [
    "a[19:-7]"
   ]
  },
  {
   "cell_type": "markdown",
   "id": "23df28b6",
   "metadata": {},
   "source": [
    "- a[19:-7]은 a[19]에서 a[-8]까지를 의미한다. 이때에도 a[-7]은 포함하지 않는다."
   ]
  },
  {
   "cell_type": "code",
   "execution_count": 27,
   "id": "fa99ad7f",
   "metadata": {},
   "outputs": [
    {
     "data": {
      "text/plain": [
       "'Life is too short, You need Python'"
      ]
     },
     "execution_count": 27,
     "metadata": {},
     "output_type": "execute_result"
    }
   ],
   "source": [
    "a"
   ]
  },
  {
   "cell_type": "code",
   "execution_count": 31,
   "id": "315910f2",
   "metadata": {},
   "outputs": [
    {
     "data": {
      "text/plain": [
       "'nhy enuY,rh o iei'"
      ]
     },
     "execution_count": 31,
     "metadata": {},
     "output_type": "execute_result"
    }
   ],
   "source": [
    "a[::-2]"
   ]
  },
  {
   "cell_type": "markdown",
   "id": "616174c7",
   "metadata": {},
   "source": [
    "**슬라이싱으로 문자열 나누기**\n",
    "- 자주 사용하는 슬라이싱기법들"
   ]
  },
  {
   "cell_type": "code",
   "execution_count": 66,
   "id": "72db17ba",
   "metadata": {},
   "outputs": [
    {
     "data": {
      "text/plain": [
       "('20230331', 'Rainy')"
      ]
     },
     "execution_count": 66,
     "metadata": {},
     "output_type": "execute_result"
    }
   ],
   "source": [
    "a = \"20230331Rainy\"\n",
    "date = a[:8]\n",
    "weather = a[8:]\n",
    "date, weather"
   ]
  },
  {
   "cell_type": "markdown",
   "id": "546ea053",
   "metadata": {},
   "source": [
    "- 위 예는 문자열 a를 두 부분으로 나누는 기법이다. \n",
    "- 숫자 8을 기준으로 문자열 a를 양쪽으로 한 번씩 슬라이싱했다. \n",
    "- a[:8]은 a[8]을 포함하지 않고 a[8:]은 a[8]을 포함하기 때문에 8을 기준으로 해서 두 부분으로 나눌 수 있는 것이다. \n",
    "- 위 예에서는 \"20230331Rainy\" 문자열을 날짜를 나타내는 부분인 '20230331'과 날씨를 나타내는 부분인 'Rainy'로 나누는 방법을 보여 준다."
   ]
  },
  {
   "cell_type": "markdown",
   "id": "b4d18cdc",
   "metadata": {},
   "source": [
    "- \"20230331Rainy\"를 연도인 2023, 월과 일을 나타내는 0331, 날씨를 나타내는 Rainy까지 세 부분으로 나누는 방법은 다음과 같다."
   ]
  },
  {
   "cell_type": "code",
   "execution_count": 67,
   "id": "d12e414f",
   "metadata": {},
   "outputs": [
    {
     "data": {
      "text/plain": [
       "('2023', '0331', 'Rainy')"
      ]
     },
     "execution_count": 67,
     "metadata": {},
     "output_type": "execute_result"
    }
   ],
   "source": [
    "a = \"20230331Rainy\"\n",
    "year = a[:4]\n",
    "day = a[4:8]\n",
    "weather = a[8:]\n",
    "year, day, weather"
   ]
  },
  {
   "cell_type": "markdown",
   "id": "d3585ff3",
   "metadata": {},
   "source": [
    "- 위 예는 숫자 4와 8로 \"20230331Rainy\" 문자열을 세 부분으로 나누는 방법을 보여 준다.\n",
    "- 인덱싱과 슬라이싱은 프로그래밍할 때 자주 사용하는 기법이므로 꼭 반복해서 연습해 두자."
   ]
  },
  {
   "cell_type": "markdown",
   "id": "9dc8d294",
   "metadata": {},
   "source": [
    "**Pithon 문자열을 Python으로 바꾸려면?**\n",
    "\n",
    "- Pithon 문자열을 Python으로 바꾸려면 어떻게 해야 할까? 제일 먼저 떠오르는 생각은 다음과 같을 것이다."
   ]
  },
  {
   "cell_type": "code",
   "execution_count": 32,
   "id": "7140351d",
   "metadata": {},
   "outputs": [
    {
     "data": {
      "text/plain": [
       "'i'"
      ]
     },
     "execution_count": 32,
     "metadata": {},
     "output_type": "execute_result"
    }
   ],
   "source": [
    "a = \"Pithon\"\n",
    "a[1]"
   ]
  },
  {
   "cell_type": "code",
   "execution_count": 33,
   "id": "3fb77541",
   "metadata": {},
   "outputs": [
    {
     "ename": "TypeError",
     "evalue": "'str' object does not support item assignment",
     "output_type": "error",
     "traceback": [
      "\u001b[0;31m---------------------------------------------------------------------------\u001b[0m",
      "\u001b[0;31mTypeError\u001b[0m                                 Traceback (most recent call last)",
      "Cell \u001b[0;32mIn[33], line 1\u001b[0m\n\u001b[0;32m----> 1\u001b[0m a[\u001b[38;5;241m1\u001b[39m] \u001b[38;5;241m=\u001b[39m \u001b[38;5;124m'\u001b[39m\u001b[38;5;124my\u001b[39m\u001b[38;5;124m'\u001b[39m\n\u001b[1;32m      2\u001b[0m a\n",
      "\u001b[0;31mTypeError\u001b[0m: 'str' object does not support item assignment"
     ]
    }
   ],
   "source": [
    "a[1] = 'y'\n",
    "a"
   ]
  },
  {
   "cell_type": "markdown",
   "id": "9ff57205",
   "metadata": {},
   "source": [
    "- 오류가 나는 이유는 문자열의 요솟값은 바꿀 수 있는 값이 아니기 때문이다\n",
    "    - 그래서 문자열을 ‘변경 불가능한(immutable) 자료형’이라고도 부른다\n",
    "- 하지만 앞에서 배운 슬라이싱 기법을 사용하면 Pithon 문자열을 사용해 Python 문자열을 만들 수 있다. 다음 예를 살펴보자."
   ]
  },
  {
   "cell_type": "code",
   "execution_count": 71,
   "id": "5c0c1b35",
   "metadata": {},
   "outputs": [
    {
     "data": {
      "text/plain": [
       "'P'"
      ]
     },
     "execution_count": 71,
     "metadata": {},
     "output_type": "execute_result"
    }
   ],
   "source": [
    "a = \"Pithon\"\n",
    "a[:1]"
   ]
  },
  {
   "cell_type": "code",
   "execution_count": 72,
   "id": "449fd735",
   "metadata": {},
   "outputs": [
    {
     "data": {
      "text/plain": [
       "'thon'"
      ]
     },
     "execution_count": 72,
     "metadata": {},
     "output_type": "execute_result"
    }
   ],
   "source": [
    "a[2:]"
   ]
  },
  {
   "cell_type": "code",
   "execution_count": 73,
   "id": "cfb3aab8",
   "metadata": {},
   "outputs": [
    {
     "data": {
      "text/plain": [
       "'Python'"
      ]
     },
     "execution_count": 73,
     "metadata": {},
     "output_type": "execute_result"
    }
   ],
   "source": [
    "a[:1] + 'y' + a[2:]"
   ]
  },
  {
   "cell_type": "markdown",
   "id": "3f8fdb38",
   "metadata": {},
   "source": [
    "- 슬라이싱을 사용하면 \"Pithon\" 문자열을 'P' 부분과 'thon' 부분으로 나눌 수 있고, 그 사이에 'y' 문자를 추가하면 'Python'이라는 새로운 문자열을 만들 수 있다."
   ]
  },
  {
   "cell_type": "markdown",
   "id": "de12d1db",
   "metadata": {},
   "source": [
    "## 문자열 포매팅이란?\n",
    "\n",
    "- 문자열에서 또 하나 알아야 할 것으로는 ‘문자열 포매팅(string formatting)’이 있다. \n",
    "- 문자열 포매팅을 공부하기 전에 다음과 같은 문자열을 출력하는 프로그램을 작성했다고 가정해 보자.\n",
    "\n",
    "> \"현재 온도는 18도입니다.\"\n",
    "\n",
    "- 시간이 지나서 20도가 되면 다음 문장을 출력한다.\n",
    "\n",
    "> \"현재 온도는 20도입니다\"\n",
    "\n",
    "- 두 문자열은 모두 같은데 20이라는 숫자와 18이라는 숫자만 다르다. \n",
    "- 이렇게 문자열 안의 특정한 값을 바꿔야 할 경우가 있을 때 이것을 가능하게 해 주는 것이 바로 문자열 포매팅이다.\n",
    "- 쉽게 말해 문자열 포매팅이란 문자열 안에 어떤 값을 삽입하는 방법이다. "
   ]
  },
  {
   "cell_type": "markdown",
   "id": "891430e6",
   "metadata": {},
   "source": [
    "## 문자열 포매팅 따라 하기\n",
    "\n",
    "**1. 숫자 바로 대입**"
   ]
  },
  {
   "cell_type": "code",
   "execution_count": 37,
   "id": "dceffabc",
   "metadata": {},
   "outputs": [
    {
     "data": {
      "text/plain": [
       "'I eat 3 apples.'"
      ]
     },
     "execution_count": 37,
     "metadata": {},
     "output_type": "execute_result"
    }
   ],
   "source": [
    "\"I eat %d apples.\" % 3"
   ]
  },
  {
   "cell_type": "code",
   "execution_count": 45,
   "id": "245c60ae",
   "metadata": {},
   "outputs": [
    {
     "name": "stdout",
     "output_type": "stream",
     "text": [
      "I eat 0 apples.\n",
      "I eat 1 apples.\n",
      "I eat 2 apples.\n",
      "I eat 3 apples.\n",
      "I eat 4 apples.\n",
      "I eat 5 apples.\n",
      "I eat 6 apples.\n",
      "I eat 7 apples.\n",
      "I eat 8 apples.\n",
      "I eat 9 apples.\n"
     ]
    }
   ],
   "source": [
    "for i in range(10):\n",
    "    print(\"I eat %d apples.\" % i)"
   ]
  },
  {
   "cell_type": "markdown",
   "id": "0363abae",
   "metadata": {},
   "source": [
    "- 결괏값을 보면 알겠지만, 위 예제는 문자열 안에 정수 3을 삽입하는 방법을 보여 준다. \n",
    "- 문자열 안의 숫자를 넣고 싶은 자리에 %d 문자를 넣어 주고 삽입할 숫자 3은 가장 뒤에 있는 % 문자 다음에 써 넣었다. \n",
    "- 여기에서 %d는 ‘문자열 포맷 코드’라고 부른다."
   ]
  },
  {
   "cell_type": "markdown",
   "id": "46072c09",
   "metadata": {},
   "source": [
    "**2. 문자열 바로 대입**\n",
    "- 문자열 안에 꼭 숫자만 넣으라는 법은 없다. 이번에는 숫자 대신 문자열을 넣어 보자."
   ]
  },
  {
   "cell_type": "code",
   "execution_count": 38,
   "id": "a0d5c2cb",
   "metadata": {},
   "outputs": [
    {
     "data": {
      "text/plain": [
       "'I eat five apples.'"
      ]
     },
     "execution_count": 38,
     "metadata": {},
     "output_type": "execute_result"
    }
   ],
   "source": [
    "\"I eat %s apples.\" % \"five\""
   ]
  },
  {
   "cell_type": "markdown",
   "id": "f0502fc4",
   "metadata": {},
   "source": [
    "- 문자열 안에 또 다른 문자열을 삽입하기 위해 앞에서 사용한 문자열 포맷 코드 %d가 아닌 %s를 썼다. \n",
    "- 어쩌면 눈치 빠른 학생은 숫자를 넣기 위해서는 %d, 문자열을 넣기 위해서는 %s를 써야 한다는 사실을 눈치챘을 것이다.\n",
    "\n",
    "> 앞에서 배운 것처럼 문자열을 대입할 때는 반드시 큰따옴표나 작은따옴표를 써야 한다."
   ]
  },
  {
   "cell_type": "markdown",
   "id": "d036bd08",
   "metadata": {},
   "source": [
    "**3. 숫자 값을 나타내는 변수로 대입**"
   ]
  },
  {
   "cell_type": "code",
   "execution_count": 76,
   "id": "b511a4e6",
   "metadata": {},
   "outputs": [
    {
     "data": {
      "text/plain": [
       "'I eat 3 apples.'"
      ]
     },
     "execution_count": 76,
     "metadata": {},
     "output_type": "execute_result"
    }
   ],
   "source": [
    "number = 3\n",
    "\"I eat %d apples.\" % number"
   ]
  },
  {
   "cell_type": "markdown",
   "id": "df132ed5",
   "metadata": {},
   "source": [
    "- 1번처럼 숫자를 바로 대입하든, 위 예제처럼 숫자 값을 나타내는 변수를 대입하든 결과는 같다."
   ]
  },
  {
   "cell_type": "markdown",
   "id": "fcd90562",
   "metadata": {},
   "source": [
    "**4. 2개 이상의 값 넣기**\n",
    "- 그렇다면 문자열 안에 1개가 아닌 여러 개의 값을 넣고 싶을 때는 어떻게 해야 할까?"
   ]
  },
  {
   "cell_type": "code",
   "execution_count": 77,
   "id": "6e76bcb8",
   "metadata": {},
   "outputs": [
    {
     "data": {
      "text/plain": [
       "'I ate 10 apples. so I was sick for three days.'"
      ]
     },
     "execution_count": 77,
     "metadata": {},
     "output_type": "execute_result"
    }
   ],
   "source": [
    "number = 10\n",
    "day = \"three\"\n",
    "\"I ate %d apples. so I was sick for %s days.\" % (number, day)"
   ]
  },
  {
   "cell_type": "markdown",
   "id": "d6ad93ad",
   "metadata": {},
   "source": [
    "- 2개 이상의 값을 넣으려면 마지막 % 다음 괄호 안에 쉼표(,)로 구분하여 각각의 값을 넣어 주면 된다."
   ]
  },
  {
   "cell_type": "markdown",
   "id": "6d546cea",
   "metadata": {},
   "source": [
    "## 문자열 포맷 코드\n",
    "- 문자열 포매팅 예제에서는 대입해 넣는 자료형으로 정수와 문자열을 사용했지만, 이 밖에도 다양한 것을 대입할 수 있다. \n",
    "- 문자열 포맷 코드의 종류는 다음과 같다.\n",
    "\n",
    "| 코드 | 설명                   |\n",
    "|:-----|:-----------------------|\n",
    "| %s   | 문자열(String)        |\n",
    "| %c   | 문자 1개(character)   |\n",
    "| %d   | 정수(Integer)         |\n",
    "| %f   | 부동소수(floating-point) |\n",
    "| %o   | 8진수                 |\n",
    "| %x   | 16진수                |\n",
    "| %%   | Literal % (문자 % 자체) |\n",
    "\n"
   ]
  },
  {
   "cell_type": "markdown",
   "id": "3d9a6bde",
   "metadata": {},
   "source": [
    "- 여기에서 재미있는 것은 %s 포맷 코드인데, 이 코드에는 어떤 형태의 값이든 변환해 넣을 수 있다. 무슨 말인지 예를 통해 확인해 보자."
   ]
  },
  {
   "cell_type": "code",
   "execution_count": 78,
   "id": "87263602",
   "metadata": {},
   "outputs": [
    {
     "data": {
      "text/plain": [
       "'I have 3 apples'"
      ]
     },
     "execution_count": 78,
     "metadata": {},
     "output_type": "execute_result"
    }
   ],
   "source": [
    "\"I have %s apples\" % 3"
   ]
  },
  {
   "cell_type": "code",
   "execution_count": 79,
   "id": "bf27664d",
   "metadata": {},
   "outputs": [
    {
     "data": {
      "text/plain": [
       "'rate is 3.234'"
      ]
     },
     "execution_count": 79,
     "metadata": {},
     "output_type": "execute_result"
    }
   ],
   "source": [
    "\"rate is %s\" % 3.234"
   ]
  },
  {
   "cell_type": "markdown",
   "id": "4a554ec8",
   "metadata": {},
   "source": [
    "- 3을 문자열 안에 삽입하려면 %d를 사용해야 하고 3.234를 삽입하려면 %f를 사용해야 한다. \n",
    "- 하지만 %s를 사용하면 %s는 자동으로 % 뒤에 있는 3이나 3.234와 같은 값을 문자열로 바꾸어 대입하기 때문에 이런 것을 생각하지 않아도 된다."
   ]
  },
  {
   "cell_type": "markdown",
   "id": "00780a91",
   "metadata": {},
   "source": [
    "**포매팅 연산자 %d와 %를 같이 쓸 때는 %%를 쓴다**\n",
    "\n",
    "- \"Error is 98%.\" 가 되게 출력해 보자."
   ]
  },
  {
   "cell_type": "code",
   "execution_count": 80,
   "id": "7a511248",
   "metadata": {},
   "outputs": [
    {
     "ename": "ValueError",
     "evalue": "incomplete format",
     "output_type": "error",
     "traceback": [
      "\u001b[0;31m---------------------------------------------------------------------------\u001b[0m",
      "\u001b[0;31mValueError\u001b[0m                                Traceback (most recent call last)",
      "Cell \u001b[0;32mIn[80], line 1\u001b[0m\n\u001b[0;32m----> 1\u001b[0m \u001b[38;5;124;43m\"\u001b[39;49m\u001b[38;5;124;43mError is \u001b[39;49m\u001b[38;5;132;43;01m%d\u001b[39;49;00m\u001b[38;5;124;43m%\u001b[39;49m\u001b[38;5;124;43m.\u001b[39;49m\u001b[38;5;124;43m\"\u001b[39;49m\u001b[43m \u001b[49m\u001b[38;5;241;43m%\u001b[39;49m\u001b[43m \u001b[49m\u001b[38;5;241;43m98\u001b[39;49m\n",
      "\u001b[0;31mValueError\u001b[0m: incomplete format"
     ]
    }
   ],
   "source": [
    "\"Error is %d%.\" % 98"
   ]
  },
  {
   "cell_type": "markdown",
   "id": "98169f17",
   "metadata": {},
   "source": [
    "- 결괏값으로 당연히 \"Error is 98%.\"가 출력될 것이라고 예상하겠지만, 파이썬은 '형식이 불완전하다'라는 오류 메시지를 보여 준다.\n",
    "- 그 이유는 ‘문자열 포맷 코드인 %d와 %가 같은 문자열 안에 존재하는 경우, %를 나타내려면 반드시 %%를 써야 한다’라는 법칙이 있기 때문이다. \n",
    "    -  %가 포맷 코드와 함께 사용될 때는 포맷 코드와 혼동을 방지하기 위해 %를 나타내려면 %%를 사용해야 \n",
    "- 이 점은 꼭 기억해 두어야 한다. 하지만 문자열 안에 %d와 같은 포매팅 연산자가 없으면 %는 홀로 쓰여도 상관없다. \n",
    "- 따라서 위 예를 제대로 실행하려면 다음과 같이 작성해야 한다."
   ]
  },
  {
   "cell_type": "code",
   "execution_count": 81,
   "id": "c0d0d790",
   "metadata": {},
   "outputs": [
    {
     "data": {
      "text/plain": [
       "'Error is 98%.'"
      ]
     },
     "execution_count": 81,
     "metadata": {},
     "output_type": "execute_result"
    }
   ],
   "source": [
    "\"Error is %d%%.\" % 98"
   ]
  },
  {
   "cell_type": "markdown",
   "id": "45b8e0c4",
   "metadata": {},
   "source": [
    "## 포맷 코드와 숫자 함께 사용하기\n",
    "\n",
    "- 앞에서 살펴보았듯이 %d, %s 등과 같은 포맷 코드는 문자열 안에 어떤 값을 삽입할 때 사용한다. 하지만 포맷 코드를 숫자와 함께 사용하면 더 유용하다. 다음 예를 따라해 보자."
   ]
  },
  {
   "cell_type": "markdown",
   "id": "cfe3956c",
   "metadata": {},
   "source": [
    "**1. 정렬과 공백**"
   ]
  },
  {
   "cell_type": "code",
   "execution_count": 46,
   "id": "b8a6437f",
   "metadata": {},
   "outputs": [
    {
     "data": {
      "text/plain": [
       "'        hi'"
      ]
     },
     "execution_count": 46,
     "metadata": {},
     "output_type": "execute_result"
    }
   ],
   "source": [
    " \"%10s\" % \"hi\""
   ]
  },
  {
   "cell_type": "markdown",
   "id": "23ac8f2d",
   "metadata": {},
   "source": [
    "- %10s는 전체 길이가 10개인 문자열 공간에서 대입되는 값을 오른쪽으로 정렬하고 그 앞의 나머지는 공백으로 남겨 두라는 의미이다.\n",
    "\n",
    "<img src=\"https://wikidocs.net/images/page/13/02_2_formating1.png\">"
   ]
  },
  {
   "cell_type": "markdown",
   "id": "1c5a42a2",
   "metadata": {},
   "source": [
    "- 그렇다면 반대쪽인 왼쪽 정렬은 %-10s가 될 것이다."
   ]
  },
  {
   "cell_type": "code",
   "execution_count": 47,
   "id": "20a7afb5",
   "metadata": {},
   "outputs": [
    {
     "data": {
      "text/plain": [
       "'hi        '"
      ]
     },
     "execution_count": 47,
     "metadata": {},
     "output_type": "execute_result"
    }
   ],
   "source": [
    " \"%-10s\" % \"hi\""
   ]
  },
  {
   "cell_type": "code",
   "execution_count": 50,
   "id": "a258c18f",
   "metadata": {},
   "outputs": [
    {
     "data": {
      "text/plain": [
       "'hi        jane'"
      ]
     },
     "execution_count": 50,
     "metadata": {},
     "output_type": "execute_result"
    }
   ],
   "source": [
    "\"%-10sjane\" % 'hi'"
   ]
  },
  {
   "cell_type": "markdown",
   "id": "fff617a6",
   "metadata": {},
   "source": [
    "- hi를 왼쪽으로 정렬하고 나머지는 공백으로 채웠다는 것을 알 수 있다.\n",
    "\n",
    "<img src=\"https://wikidocs.net/images/page/13/02_2_formating2.png\">"
   ]
  },
  {
   "cell_type": "markdown",
   "id": "a1599a41",
   "metadata": {},
   "source": [
    "**2. 소수점 표현하기**"
   ]
  },
  {
   "cell_type": "code",
   "execution_count": 52,
   "id": "94ecd9d4",
   "metadata": {
    "scrolled": true
   },
   "outputs": [
    {
     "data": {
      "text/plain": [
       "'3.4213'"
      ]
     },
     "execution_count": 52,
     "metadata": {},
     "output_type": "execute_result"
    }
   ],
   "source": [
    "\"%0.4f\" % 3.42134234"
   ]
  },
  {
   "cell_type": "markdown",
   "id": "7a79ee28",
   "metadata": {},
   "source": [
    "- 3.42134234를 소수점 네 번째 자리까지만 나타내고 싶은 경우에는 위와 같이 작성한다. %0.4f에서 ‘.’는 소수점 포인트, 그 뒤의 숫자 4는 소수점 뒤에 나올 숫자의 개수를 말한다. 소수점 포인트 앞의 숫자는 문자열의 전체 길이를 의미하는데, %0.4f에서 사용한 숫자 0은 길이에 상관하지 않겠다는 의미이다.\n",
    "\n",
    "> %0.4f는 0을 생략하여 %.4f처럼 사용하기도 한다."
   ]
  },
  {
   "cell_type": "code",
   "execution_count": 56,
   "id": "98799be9",
   "metadata": {},
   "outputs": [
    {
     "data": {
      "text/plain": [
       "'    3.4213'"
      ]
     },
     "execution_count": 56,
     "metadata": {},
     "output_type": "execute_result"
    }
   ],
   "source": [
    "\"%10.4f\" % 3.42134234"
   ]
  },
  {
   "cell_type": "markdown",
   "id": "fc2477eb",
   "metadata": {},
   "source": [
    "- 위는 숫자 3.42134234를 소수점 네 번째 자리까지만 표시하고 전체 길이가 10개인 문자열 공간에서 오른쪽으로 정렬하는 예를 보여 준다.\n",
    "\n",
    "<img src=\"https://wikidocs.net/images/page/13/02_2_formating3.png\">"
   ]
  },
  {
   "cell_type": "markdown",
   "id": "e90daf1a",
   "metadata": {},
   "source": [
    "## format 함수를 사용한 포매팅\n",
    "\n",
    "- 문자열의 format 함수를 사용하면 좀 더 발전된 스타일로 문자열 포맷을 지정할 수 있다. 앞에서 살펴본 문자열 포매팅 예제를 format 함수를 사용해서 바꾸면 다음과 같다."
   ]
  },
  {
   "cell_type": "markdown",
   "id": "17481704",
   "metadata": {},
   "source": [
    "**숫자 바로 대입하기**"
   ]
  },
  {
   "cell_type": "code",
   "execution_count": 90,
   "id": "6b7e90e9",
   "metadata": {},
   "outputs": [
    {
     "data": {
      "text/plain": [
       "'I eat 3 apples'"
      ]
     },
     "execution_count": 90,
     "metadata": {},
     "output_type": "execute_result"
    }
   ],
   "source": [
    "\"I eat {0} apples\".format(3)"
   ]
  },
  {
   "cell_type": "markdown",
   "id": "f59b7672",
   "metadata": {},
   "source": [
    "**문자열 바로 대입하기**"
   ]
  },
  {
   "cell_type": "code",
   "execution_count": 91,
   "id": "78120dbb",
   "metadata": {},
   "outputs": [
    {
     "data": {
      "text/plain": [
       "'I eat five apples'"
      ]
     },
     "execution_count": 91,
     "metadata": {},
     "output_type": "execute_result"
    }
   ],
   "source": [
    "\"I eat {0} apples\".format(\"five\")"
   ]
  },
  {
   "cell_type": "markdown",
   "id": "a90bd3e4",
   "metadata": {},
   "source": [
    "**숫자 값을 가진 변수로 대입하기**"
   ]
  },
  {
   "cell_type": "code",
   "execution_count": 92,
   "id": "634f0388",
   "metadata": {},
   "outputs": [
    {
     "data": {
      "text/plain": [
       "'I eat 3 apples'"
      ]
     },
     "execution_count": 92,
     "metadata": {},
     "output_type": "execute_result"
    }
   ],
   "source": [
    "number = 3\n",
    "\"I eat {0} apples\".format(number)"
   ]
  },
  {
   "cell_type": "markdown",
   "id": "8f14a7af",
   "metadata": {},
   "source": [
    "**2개 이상의 값 넣기**"
   ]
  },
  {
   "cell_type": "code",
   "execution_count": 93,
   "id": "311ee037",
   "metadata": {},
   "outputs": [
    {
     "data": {
      "text/plain": [
       "'I ate 10 apples. so I was sick for three days.'"
      ]
     },
     "execution_count": 93,
     "metadata": {},
     "output_type": "execute_result"
    }
   ],
   "source": [
    "number = 10\n",
    "day = \"three\"\n",
    "\"I ate {0} apples. so I was sick for {1} days.\".format(number, day)"
   ]
  },
  {
   "cell_type": "markdown",
   "id": "566f7acc",
   "metadata": {},
   "source": [
    "- 2개 이상의 값을 넣을 경우, 문자열의 {0}, {1}과 같은 인덱스 항목이 format 함수의 입력값으로 순서에 맞게 바뀐다. \n",
    "- 위 예에서 {0}은 format 함수의 첫 번째 입력값인 number, {1}은 format 함수의 두 번째 입력값인 day로 바뀐다."
   ]
  },
  {
   "cell_type": "markdown",
   "id": "f50aff41",
   "metadata": {},
   "source": [
    "**이름으로 넣기**"
   ]
  },
  {
   "cell_type": "code",
   "execution_count": 94,
   "id": "a03d4dc8",
   "metadata": {},
   "outputs": [
    {
     "data": {
      "text/plain": [
       "'I ate 10 apples. so I was sick for 3 days.'"
      ]
     },
     "execution_count": 94,
     "metadata": {},
     "output_type": "execute_result"
    }
   ],
   "source": [
    "\"I ate {number} apples. so I was sick for {day} days.\".format(number=10, day=3)"
   ]
  },
  {
   "cell_type": "markdown",
   "id": "00c497fb",
   "metadata": {},
   "source": [
    "- {0}, {1}과 같은 인덱스 항목 대신 더 편리한 {name} 형태를 사용하는 방법도 있다. {name} 형태를 사용할 경우, format 함수에는 반드시 name=value와 같은 형태의 입력값이 있어야 한다. 위 예는 문자열의 {number}, {day}가 format 함수의 입력값인 number=10, day=3 값으로 각각 바뀌는 것을 보여 주고 있다."
   ]
  },
  {
   "cell_type": "markdown",
   "id": "5380dc32",
   "metadata": {},
   "source": [
    "**인덱스와 이름을 혼용해서 넣기**"
   ]
  },
  {
   "cell_type": "code",
   "execution_count": 95,
   "id": "3d5a3cb9",
   "metadata": {},
   "outputs": [
    {
     "data": {
      "text/plain": [
       "'I ate 10 apples. so I was sick for 3 days.'"
      ]
     },
     "execution_count": 95,
     "metadata": {},
     "output_type": "execute_result"
    }
   ],
   "source": [
    "\"I ate {0} apples. so I was sick for {day} days.\".format(10, day=3)"
   ]
  },
  {
   "cell_type": "markdown",
   "id": "a968e9fd",
   "metadata": {},
   "source": [
    "- 인덱스 항목과 name=value 형태를 혼용하는 것도 가능하다."
   ]
  },
  {
   "cell_type": "markdown",
   "id": "4c0c67b6",
   "metadata": {},
   "source": [
    "**왼쪽 정렬**"
   ]
  },
  {
   "cell_type": "code",
   "execution_count": 66,
   "id": "35e942c0",
   "metadata": {},
   "outputs": [
    {
     "data": {
      "text/plain": [
       "'hi        '"
      ]
     },
     "execution_count": 66,
     "metadata": {},
     "output_type": "execute_result"
    }
   ],
   "source": [
    "\"{0:<10}\".format(\"hi\")"
   ]
  },
  {
   "cell_type": "markdown",
   "id": "45c29535",
   "metadata": {},
   "source": [
    "- :<10 표현식을 사용하면 치환되는 문자열을 왼쪽으로 정렬하고 문자열의 총 자릿수를 10으로 맞출 수 있다."
   ]
  },
  {
   "cell_type": "markdown",
   "id": "5ca030a6",
   "metadata": {},
   "source": [
    "**오른쪽 정렬**"
   ]
  },
  {
   "cell_type": "code",
   "execution_count": 67,
   "id": "c62c7487",
   "metadata": {},
   "outputs": [
    {
     "data": {
      "text/plain": [
       "'        hi'"
      ]
     },
     "execution_count": 67,
     "metadata": {},
     "output_type": "execute_result"
    }
   ],
   "source": [
    " \"{0:>10}\".format(\"hi\")"
   ]
  },
  {
   "cell_type": "markdown",
   "id": "24385fba",
   "metadata": {},
   "source": [
    "- 오른쪽 정렬은 :< 대신 :>을 사용하면 된다. 화살표의 방향을 생각하면 어느 쪽으로 정렬되는지 바로 알 수 있을 것이다."
   ]
  },
  {
   "cell_type": "markdown",
   "id": "0700cdb0",
   "metadata": {},
   "source": [
    "**가운데 정렬**"
   ]
  },
  {
   "cell_type": "code",
   "execution_count": 73,
   "id": "f28a47a1",
   "metadata": {},
   "outputs": [
    {
     "data": {
      "text/plain": [
       "'    hi    '"
      ]
     },
     "execution_count": 73,
     "metadata": {},
     "output_type": "execute_result"
    }
   ],
   "source": [
    "\"{0:^10}\".format(\"hi\")"
   ]
  },
  {
   "cell_type": "markdown",
   "id": "ea0a8b45",
   "metadata": {},
   "source": [
    "- :^를 사용하면 가운데 정렬도 가능하다."
   ]
  },
  {
   "cell_type": "markdown",
   "id": "c83c2e21",
   "metadata": {},
   "source": [
    "**공백 채우기**"
   ]
  },
  {
   "cell_type": "code",
   "execution_count": 77,
   "id": "ac8f9460",
   "metadata": {},
   "outputs": [
    {
     "data": {
      "text/plain": [
       "'====hi===='"
      ]
     },
     "execution_count": 77,
     "metadata": {},
     "output_type": "execute_result"
    }
   ],
   "source": [
    "\"{0:=^10}\".format(\"hi\")"
   ]
  },
  {
   "cell_type": "code",
   "execution_count": 101,
   "id": "193ed1aa",
   "metadata": {},
   "outputs": [
    {
     "data": {
      "text/plain": [
       "'hi!!!!!!!!'"
      ]
     },
     "execution_count": 101,
     "metadata": {},
     "output_type": "execute_result"
    }
   ],
   "source": [
    "\"{0:!<10}\".format(\"hi\")"
   ]
  },
  {
   "cell_type": "markdown",
   "id": "38f54b2b",
   "metadata": {},
   "source": [
    "- 정렬할 때 공백 문자 대신 지정한 문자 값으로 채워 넣을 수도 있다. 채워 넣을 문자 값은 정렬 문자 <, >, ^ 바로 앞에 넣어야 한다. 위 예에서 첫 번째 예제는 가운데(^)로 정렬하고 빈 공간을 =로 채웠고, 두 번째 예제는 왼쪽(<)으로 정렬하고 빈 공간을 !로 채웠다."
   ]
  },
  {
   "cell_type": "markdown",
   "id": "3eaa60f7",
   "metadata": {},
   "source": [
    "**소수점 표현하기**"
   ]
  },
  {
   "cell_type": "code",
   "execution_count": 78,
   "id": "cf2370c5",
   "metadata": {},
   "outputs": [
    {
     "data": {
      "text/plain": [
       "'3.4213'"
      ]
     },
     "execution_count": 78,
     "metadata": {},
     "output_type": "execute_result"
    }
   ],
   "source": [
    "y = 3.42134234\n",
    "\"{0:0.4f}\".format(y)"
   ]
  },
  {
   "cell_type": "markdown",
   "id": "899dbe3d",
   "metadata": {},
   "source": [
    "- 위는 format 함수를 사용해 소수점을 4자리까지만 표현하는 방법을 보여 준다. 앞에서 살펴보았던 표현식 0.4f를 그대로 사용한 것을 알 수 있다."
   ]
  },
  {
   "cell_type": "code",
   "execution_count": 89,
   "id": "87c1e6c0",
   "metadata": {},
   "outputs": [
    {
     "data": {
      "text/plain": [
       "'    3.4213'"
      ]
     },
     "execution_count": 89,
     "metadata": {},
     "output_type": "execute_result"
    }
   ],
   "source": [
    "\"{0:10.4f}\".format(y)"
   ]
  },
  {
   "cell_type": "markdown",
   "id": "d5eb39b0",
   "metadata": {},
   "source": [
    "- 위와 같이 자릿수를 10으로 맞출 수도 있다. 이 또한 앞에서 살펴본 10.4f의 표현식을 그대로 사용한 것을 알 수 있다."
   ]
  },
  {
   "cell_type": "markdown",
   "id": "9cb5879d",
   "metadata": {},
   "source": [
    "**{ 또는 } 문자 표현하기**"
   ]
  },
  {
   "cell_type": "code",
   "execution_count": 86,
   "id": "aac7d8b5",
   "metadata": {},
   "outputs": [
    {
     "data": {
      "text/plain": [
       "'{ and }'"
      ]
     },
     "execution_count": 86,
     "metadata": {},
     "output_type": "execute_result"
    }
   ],
   "source": [
    "\"{{ and }}\".format()"
   ]
  },
  {
   "cell_type": "markdown",
   "id": "d5474cda",
   "metadata": {},
   "source": [
    "- format 함수를 사용해 문자열을 포매팅할 경우, {}와 같은 중괄호 문자를 포매팅 문자가 아닌 문자 그대로 사용하고 싶은 경우에는 위 예의 {{}}처럼 2개를 연속해서 사용하면 된다."
   ]
  },
  {
   "cell_type": "markdown",
   "id": "06720fff",
   "metadata": {},
   "source": [
    "## f 문자열 포매팅\n",
    "\n",
    "- 파이썬 3.6 버전부터는 f 문자열 포매팅 기능을 사용할 수 있다. 파이썬 3.6 미만 버전에서는 사용할 수 없는 기능이므로 주의해야 한다.\n",
    "- 다음과 같이 문자열 앞에 f 접두사를 붙이면 f 문자열 포매팅 기능을 사용할 수 있다."
   ]
  },
  {
   "cell_type": "code",
   "execution_count": 91,
   "id": "f97e9899",
   "metadata": {},
   "outputs": [
    {
     "data": {
      "text/plain": [
       "'나의 이름은 홍길동입니다. 나이는 30입니다.'"
      ]
     },
     "execution_count": 91,
     "metadata": {},
     "output_type": "execute_result"
    }
   ],
   "source": [
    "name = '홍길동'\n",
    "age = 30\n",
    "f'나의 이름은 {name}입니다. 나이는 {age}입니다.'"
   ]
  },
  {
   "cell_type": "code",
   "execution_count": 93,
   "id": "ab9bfcc6",
   "metadata": {},
   "outputs": [
    {
     "name": "stdout",
     "output_type": "stream",
     "text": [
      "10살 입니다.\n",
      "11살 입니다.\n",
      "12살 입니다.\n",
      "13살 입니다.\n",
      "14살 입니다.\n",
      "15살 입니다.\n",
      "16살 입니다.\n",
      "17살 입니다.\n",
      "18살 입니다.\n",
      "19살 입니다.\n",
      "20살 입니다.\n"
     ]
    }
   ],
   "source": [
    "for age in range(10, 21):\n",
    "    print(f'{age}살 입니다.')"
   ]
  },
  {
   "cell_type": "markdown",
   "id": "32f67636",
   "metadata": {},
   "source": [
    "- f 문자열 포매팅은 위와 같이 name, age와 같은 변숫값을 생성한 후에 그 값을 참조할 수 있다. 또한 f 문자열 포매팅은 표현식을 지원하기 때문에 다음과 같은 것도 가능하다.\n",
    "\n",
    "> 표현식이란 중괄호 안의 변수를 계산식과 함께 사용하는 것을 말한다."
   ]
  },
  {
   "cell_type": "code",
   "execution_count": 94,
   "id": "785ed5a6",
   "metadata": {},
   "outputs": [
    {
     "data": {
      "text/plain": [
       "'나는 내년이면 31살이 된다.'"
      ]
     },
     "execution_count": 94,
     "metadata": {},
     "output_type": "execute_result"
    }
   ],
   "source": [
    "age = 30\n",
    "f'나는 내년이면 {age + 1}살이 된다.'"
   ]
  },
  {
   "cell_type": "markdown",
   "id": "5e2662c1",
   "metadata": {},
   "source": [
    "- 딕셔너리는 f 문자열 포매팅에서 다음과 같이 사용할 수 있다."
   ]
  },
  {
   "cell_type": "code",
   "execution_count": 95,
   "id": "7e2a9a80",
   "metadata": {},
   "outputs": [
    {
     "data": {
      "text/plain": [
       "'나의 이름은 홍길동입니다. 나이는 30입니다.'"
      ]
     },
     "execution_count": 95,
     "metadata": {},
     "output_type": "execute_result"
    }
   ],
   "source": [
    "d = {'name':'홍길동', 'age':30}\n",
    "f'나의 이름은 {d[\"name\"]}입니다. 나이는 {d[\"age\"]}입니다.'"
   ]
  },
  {
   "cell_type": "markdown",
   "id": "69ead6c1",
   "metadata": {},
   "source": [
    "> 딕셔너리는 Key와 Value라는 것을 한 쌍으로 가지는 자료형이다. 02-5에서 자세히 알아본다."
   ]
  },
  {
   "cell_type": "markdown",
   "id": "1a7e19ad",
   "metadata": {},
   "source": [
    "- 정렬은 다음과 같이 할 수 있다."
   ]
  },
  {
   "cell_type": "code",
   "execution_count": 96,
   "id": "7890d44a",
   "metadata": {},
   "outputs": [
    {
     "data": {
      "text/plain": [
       "'hi        '"
      ]
     },
     "execution_count": 96,
     "metadata": {},
     "output_type": "execute_result"
    }
   ],
   "source": [
    "f'{\"hi\":<10}'  # 왼쪽 정렬"
   ]
  },
  {
   "cell_type": "code",
   "execution_count": 97,
   "id": "2ed73e0d",
   "metadata": {},
   "outputs": [
    {
     "data": {
      "text/plain": [
       "'        hi'"
      ]
     },
     "execution_count": 97,
     "metadata": {},
     "output_type": "execute_result"
    }
   ],
   "source": [
    "f'{\"hi\":>10}'  # 오른쪽 정렬"
   ]
  },
  {
   "cell_type": "code",
   "execution_count": 98,
   "id": "4be65d62",
   "metadata": {},
   "outputs": [
    {
     "data": {
      "text/plain": [
       "'    hi    '"
      ]
     },
     "execution_count": 98,
     "metadata": {},
     "output_type": "execute_result"
    }
   ],
   "source": [
    "f'{\"hi\":^10}'  # 가운데 정렬"
   ]
  },
  {
   "cell_type": "markdown",
   "id": "557df721",
   "metadata": {},
   "source": [
    "- 공백 채우기는 다음과 같이 할 수 있다."
   ]
  },
  {
   "cell_type": "code",
   "execution_count": 111,
   "id": "59c02d13",
   "metadata": {},
   "outputs": [
    {
     "data": {
      "text/plain": [
       "'====hi===='"
      ]
     },
     "execution_count": 111,
     "metadata": {},
     "output_type": "execute_result"
    }
   ],
   "source": [
    "f'{\"hi\":=^10}'  # 가운데 정렬하고 '=' 문자로 공백 채우기"
   ]
  },
  {
   "cell_type": "code",
   "execution_count": 112,
   "id": "3e46ae07",
   "metadata": {},
   "outputs": [
    {
     "data": {
      "text/plain": [
       "'hi!!!!!!!!'"
      ]
     },
     "execution_count": 112,
     "metadata": {},
     "output_type": "execute_result"
    }
   ],
   "source": [
    "f'{\"hi\":!<10}'  # 왼쪽 정렬하고 '!' 문자로 공백 채우기"
   ]
  },
  {
   "cell_type": "markdown",
   "id": "e0b443a3",
   "metadata": {},
   "source": [
    "- 소수점은 다음과 같이 표현할 수 있다."
   ]
  },
  {
   "cell_type": "code",
   "execution_count": 99,
   "id": "4322bc83",
   "metadata": {},
   "outputs": [
    {
     "data": {
      "text/plain": [
       "'3.4213'"
      ]
     },
     "execution_count": 99,
     "metadata": {},
     "output_type": "execute_result"
    }
   ],
   "source": [
    "y = 3.42134234\n",
    "f'{y:0.4f}'  # 소수점 4자리까지만 표현"
   ]
  },
  {
   "cell_type": "code",
   "execution_count": 103,
   "id": "6306c211",
   "metadata": {},
   "outputs": [
    {
     "data": {
      "text/plain": [
       "'    3.4213'"
      ]
     },
     "execution_count": 103,
     "metadata": {},
     "output_type": "execute_result"
    }
   ],
   "source": [
    "f'{y:10.4f}'  # 소수점 4자리까지 표현하고 총 자리수를 10으로 맞춤"
   ]
  },
  {
   "cell_type": "markdown",
   "id": "204e0f6c",
   "metadata": {},
   "source": [
    "- f 문자열에서 {}를 문자 그대로 표시하려면 다음과 같이 2개를 동시에 사용해야 한다."
   ]
  },
  {
   "cell_type": "code",
   "execution_count": 116,
   "id": "125a5359",
   "metadata": {},
   "outputs": [
    {
     "data": {
      "text/plain": [
       "'{ and }'"
      ]
     },
     "execution_count": 116,
     "metadata": {},
     "output_type": "execute_result"
    }
   ],
   "source": [
    "f'{{ and }}'"
   ]
  },
  {
   "cell_type": "markdown",
   "id": "10a0bc47",
   "metadata": {},
   "source": [
    "**문제**\n",
    "- format 함수 또는 f 문자열 포메팅을 사용, 다음 문자열을 출력해 보자\n",
    "\n",
    "> !!!python!!!"
   ]
  },
  {
   "cell_type": "code",
   "execution_count": 104,
   "id": "193b47a3",
   "metadata": {},
   "outputs": [
    {
     "data": {
      "text/plain": [
       "'!!!python!!!'"
      ]
     },
     "execution_count": 104,
     "metadata": {},
     "output_type": "execute_result"
    }
   ],
   "source": [
    "f\"{'python':!^12}\""
   ]
  },
  {
   "cell_type": "markdown",
   "id": "f7bff641",
   "metadata": {},
   "source": [
    "## 문자열 관련 함수들\n",
    "- 문자열 자료형은 자체적으로 함수를 가지고 있다. 이들 함수를 다른 말로 ‘문자열 내장 함수’라고 한다. 이 내장 함수를 사용하려면 문자열 변수 이름 뒤에 ‘.’를 붙인 후 함수 이름을 써 주면 된다. 이제 문자열의 내장 함수에 대해서 알아보자."
   ]
  },
  {
   "cell_type": "markdown",
   "id": "90571382",
   "metadata": {},
   "source": [
    "**문자 개수 세기 - count**"
   ]
  },
  {
   "cell_type": "code",
   "execution_count": 105,
   "id": "c2b70b2c",
   "metadata": {},
   "outputs": [
    {
     "data": {
      "text/plain": [
       "2"
      ]
     },
     "execution_count": 105,
     "metadata": {},
     "output_type": "execute_result"
    }
   ],
   "source": [
    "a = \"hobby\"\n",
    "a.count('b')"
   ]
  },
  {
   "cell_type": "markdown",
   "id": "e7934029",
   "metadata": {},
   "source": [
    "- count 함수로 문자열 중 문자 b의 개수를 리턴했다."
   ]
  },
  {
   "cell_type": "markdown",
   "id": "42f625e2",
   "metadata": {},
   "source": [
    "**위치 알려 주기 1 - find**"
   ]
  },
  {
   "cell_type": "code",
   "execution_count": 109,
   "id": "cbecc416",
   "metadata": {},
   "outputs": [
    {
     "data": {
      "text/plain": [
       "2"
      ]
     },
     "execution_count": 109,
     "metadata": {},
     "output_type": "execute_result"
    }
   ],
   "source": [
    "a = \"Python is the best choice\"\n",
    "a.find('t')"
   ]
  },
  {
   "cell_type": "code",
   "execution_count": 110,
   "id": "fe7f48d0",
   "metadata": {},
   "outputs": [
    {
     "data": {
      "text/plain": [
       "-1"
      ]
     },
     "execution_count": 110,
     "metadata": {},
     "output_type": "execute_result"
    }
   ],
   "source": [
    "a.find('k')"
   ]
  },
  {
   "cell_type": "markdown",
   "id": "8d0486e5",
   "metadata": {},
   "source": [
    "- find 함수로 문자열 중 문자 b가 처음으로 나온 위치를 반환했다. 만약 찾는 문자나 문자열이 존재하지 않는다면 -1을 반환한다.\n",
    "\n",
    "> 파이썬은 숫자를 0부터 세기 때문에 b의 위치는 15가 아닌 14가 된다."
   ]
  },
  {
   "cell_type": "markdown",
   "id": "f6b367b9",
   "metadata": {},
   "source": [
    "**위치 알려 주기 2 - index**"
   ]
  },
  {
   "cell_type": "code",
   "execution_count": 123,
   "id": "2e6f87e9",
   "metadata": {},
   "outputs": [
    {
     "data": {
      "text/plain": [
       "8"
      ]
     },
     "execution_count": 123,
     "metadata": {},
     "output_type": "execute_result"
    }
   ],
   "source": [
    "a = \"Life is too short\"\n",
    "a.index('t')"
   ]
  },
  {
   "cell_type": "code",
   "execution_count": 124,
   "id": "b874d8f9",
   "metadata": {},
   "outputs": [
    {
     "data": {
      "text/plain": [
       "8"
      ]
     },
     "execution_count": 124,
     "metadata": {},
     "output_type": "execute_result"
    }
   ],
   "source": [
    "a.find('t')"
   ]
  },
  {
   "cell_type": "code",
   "execution_count": 125,
   "id": "e1edf31b",
   "metadata": {},
   "outputs": [
    {
     "ename": "ValueError",
     "evalue": "substring not found",
     "output_type": "error",
     "traceback": [
      "\u001b[0;31m---------------------------------------------------------------------------\u001b[0m",
      "\u001b[0;31mValueError\u001b[0m                                Traceback (most recent call last)",
      "Cell \u001b[0;32mIn[125], line 1\u001b[0m\n\u001b[0;32m----> 1\u001b[0m \u001b[43ma\u001b[49m\u001b[38;5;241;43m.\u001b[39;49m\u001b[43mindex\u001b[49m\u001b[43m(\u001b[49m\u001b[38;5;124;43m'\u001b[39;49m\u001b[38;5;124;43mk\u001b[39;49m\u001b[38;5;124;43m'\u001b[39;49m\u001b[43m)\u001b[49m\n",
      "\u001b[0;31mValueError\u001b[0m: substring not found"
     ]
    }
   ],
   "source": [
    "a.index('k')"
   ]
  },
  {
   "cell_type": "code",
   "execution_count": 126,
   "id": "bfa444a2",
   "metadata": {},
   "outputs": [
    {
     "data": {
      "text/plain": [
       "-1"
      ]
     },
     "execution_count": 126,
     "metadata": {},
     "output_type": "execute_result"
    }
   ],
   "source": [
    "a.find('k')"
   ]
  },
  {
   "cell_type": "markdown",
   "id": "fb8e4ea7",
   "metadata": {},
   "source": [
    "- index 함수로 문자열 중 문자 t가 맨 처음으로 나온 위치를 반환했다. 만약 찾는 문자나 문자열이 존재하지 않는다면 오류가 발생한다. 앞의 find 함수와 다른 점은 문자열 안에 존재하지 않는 문자를 찾으면 오류가 발생한다는 것이다."
   ]
  },
  {
   "cell_type": "markdown",
   "id": "07704565",
   "metadata": {},
   "source": [
    "**문자열 삽입 - join**"
   ]
  },
  {
   "cell_type": "code",
   "execution_count": 117,
   "id": "deafdcb9",
   "metadata": {},
   "outputs": [
    {
     "data": {
      "text/plain": [
       "'000-1111-2222'"
      ]
     },
     "execution_count": 117,
     "metadata": {},
     "output_type": "execute_result"
    }
   ],
   "source": [
    "p = '00011112222'\n",
    "p1 = p[:3]\n",
    "p2 = p[3:7]\n",
    "p3 = p[7:]\n",
    "\n",
    "'-'.join([p1, p2, p3])"
   ]
  },
  {
   "cell_type": "code",
   "execution_count": 116,
   "id": "8ff5c9b2",
   "metadata": {},
   "outputs": [
    {
     "data": {
      "text/plain": [
       "'010-1111-2222'"
      ]
     },
     "execution_count": 116,
     "metadata": {},
     "output_type": "execute_result"
    }
   ],
   "source": [
    "\"-\".join(['010', '1111', '2222'])"
   ]
  },
  {
   "cell_type": "code",
   "execution_count": 115,
   "id": "7b259baf",
   "metadata": {},
   "outputs": [
    {
     "data": {
      "text/plain": [
       "'a b c d'"
      ]
     },
     "execution_count": 115,
     "metadata": {},
     "output_type": "execute_result"
    }
   ],
   "source": [
    "\" \".join('abcd')"
   ]
  },
  {
   "cell_type": "markdown",
   "id": "41063d50",
   "metadata": {},
   "source": [
    "- join 함수로 abcd 문자열의 각각의 문자 사이에 ‘,’를 삽입했다.\n",
    "\n",
    "- join 함수는 문자열뿐만 아니라 앞으로 배울 리스트나 튜플도 입력으로 사용할 수 있다(리스트와 튜플은 곧 배울 내용이므로 여기에서는 잠시 눈으로만 살펴보자). join 함수의 입력으로 리스트를 사용하는 예는 다음과 같다."
   ]
  },
  {
   "cell_type": "code",
   "execution_count": 128,
   "id": "cce21c34",
   "metadata": {},
   "outputs": [
    {
     "data": {
      "text/plain": [
       "'a,b,c,d'"
      ]
     },
     "execution_count": 128,
     "metadata": {},
     "output_type": "execute_result"
    }
   ],
   "source": [
    "\",\".join(['a', 'b', 'c', 'd'])"
   ]
  },
  {
   "cell_type": "markdown",
   "id": "95dc5f9f",
   "metadata": {},
   "source": [
    "**소문자를 대문자로 바꾸기 - upper**"
   ]
  },
  {
   "cell_type": "code",
   "execution_count": 130,
   "id": "f1653b04",
   "metadata": {},
   "outputs": [
    {
     "data": {
      "text/plain": [
       "'HI'"
      ]
     },
     "execution_count": 130,
     "metadata": {},
     "output_type": "execute_result"
    }
   ],
   "source": [
    "a = \"hi\"\n",
    "a.upper()"
   ]
  },
  {
   "cell_type": "markdown",
   "id": "a490dc34",
   "metadata": {},
   "source": [
    "- upper 함수는 소문자를 대문자로 바꾸어 준다. 만약 문자열이 이미 대문자라면 아무런 변화도 일어나지 않을 것이다."
   ]
  },
  {
   "cell_type": "markdown",
   "id": "c55d504c",
   "metadata": {},
   "source": [
    "**대문자를 소문자로 바꾸기 - lower**"
   ]
  },
  {
   "cell_type": "code",
   "execution_count": 132,
   "id": "93af897f",
   "metadata": {},
   "outputs": [
    {
     "data": {
      "text/plain": [
       "'hi'"
      ]
     },
     "execution_count": 132,
     "metadata": {},
     "output_type": "execute_result"
    }
   ],
   "source": [
    "a = \"HI\"\n",
    "a.lower()"
   ]
  },
  {
   "cell_type": "markdown",
   "id": "a78144c8",
   "metadata": {},
   "source": [
    "- lower 함수는 대문자를 소문자로 바꾸어 준다."
   ]
  },
  {
   "cell_type": "markdown",
   "id": "6cec1db0",
   "metadata": {},
   "source": [
    "**왼쪽 공백 지우기 - lstrip**"
   ]
  },
  {
   "cell_type": "code",
   "execution_count": 133,
   "id": "734f3e67",
   "metadata": {},
   "outputs": [
    {
     "data": {
      "text/plain": [
       "'hi '"
      ]
     },
     "execution_count": 133,
     "metadata": {},
     "output_type": "execute_result"
    }
   ],
   "source": [
    "a = \" hi \"\n",
    "a.lstrip()"
   ]
  },
  {
   "cell_type": "markdown",
   "id": "39c29fcc",
   "metadata": {},
   "source": [
    "- lstrip 함수는 문자열 중 가장 왼쪽에 있는 한 칸 이상의 연속된 공백들을 모두 지운다. lstrip에서 l은 left를 의미한다."
   ]
  },
  {
   "cell_type": "markdown",
   "id": "dbd6fa17",
   "metadata": {},
   "source": [
    "**오른쪽 공백 지우기 - rstrip**"
   ]
  },
  {
   "cell_type": "code",
   "execution_count": 134,
   "id": "936dc9a5",
   "metadata": {},
   "outputs": [
    {
     "data": {
      "text/plain": [
       "' hi'"
      ]
     },
     "execution_count": 134,
     "metadata": {},
     "output_type": "execute_result"
    }
   ],
   "source": [
    "a= \" hi \"\n",
    "a.rstrip()"
   ]
  },
  {
   "cell_type": "markdown",
   "id": "66791854",
   "metadata": {},
   "source": [
    "- rstrip 함수는 문자열 중 가장 오른쪽에 있는 한 칸 이상의 연속된 공백을 모두 지운다. rstrip에서 r은 right를 의미한다."
   ]
  },
  {
   "cell_type": "markdown",
   "id": "35de69dd",
   "metadata": {},
   "source": [
    "**양쪽 공백 지우기 - strip**"
   ]
  },
  {
   "cell_type": "code",
   "execution_count": 121,
   "id": "85b7c8fb",
   "metadata": {},
   "outputs": [
    {
     "data": {
      "text/plain": [
       "' hi'"
      ]
     },
     "execution_count": 121,
     "metadata": {},
     "output_type": "execute_result"
    }
   ],
   "source": [
    "a = \" hi=====\"\n",
    "a.strip('=')"
   ]
  },
  {
   "cell_type": "markdown",
   "id": "de507143",
   "metadata": {},
   "source": [
    "- strip 함수는 문자열 양쪽에 있는 한 칸 이상의 연속된 공백을 모두 지운다."
   ]
  },
  {
   "cell_type": "markdown",
   "id": "23967560",
   "metadata": {},
   "source": [
    "**문자열 바꾸기 - replace**"
   ]
  },
  {
   "cell_type": "code",
   "execution_count": 124,
   "id": "3d32ec44",
   "metadata": {},
   "outputs": [],
   "source": [
    "a = \"Life is too short\"\n",
    "b = a.replace(\"Life\", \"Your leg\")"
   ]
  },
  {
   "cell_type": "code",
   "execution_count": 125,
   "id": "3f87071f",
   "metadata": {},
   "outputs": [
    {
     "data": {
      "text/plain": [
       "'Life is too short'"
      ]
     },
     "execution_count": 125,
     "metadata": {},
     "output_type": "execute_result"
    }
   ],
   "source": [
    "a"
   ]
  },
  {
   "cell_type": "code",
   "execution_count": 126,
   "id": "2763ea1f",
   "metadata": {},
   "outputs": [
    {
     "data": {
      "text/plain": [
       "'Your leg is too short'"
      ]
     },
     "execution_count": 126,
     "metadata": {},
     "output_type": "execute_result"
    }
   ],
   "source": [
    "b"
   ]
  },
  {
   "cell_type": "markdown",
   "id": "301c3871",
   "metadata": {},
   "source": [
    "- replace 함수는 replace(바뀔_문자열, 바꿀_문자열)처럼 사용해서 문자열 안의 특정한 값을 다른 값으로 치환해 준다."
   ]
  },
  {
   "cell_type": "markdown",
   "id": "4e0d62b7",
   "metadata": {},
   "source": [
    "**문자열 나누기 - split**"
   ]
  },
  {
   "cell_type": "code",
   "execution_count": 130,
   "id": "e36cb2e3",
   "metadata": {},
   "outputs": [
    {
     "data": {
      "text/plain": [
       "['Life', 'is', 'too', 'short']"
      ]
     },
     "execution_count": 130,
     "metadata": {},
     "output_type": "execute_result"
    }
   ],
   "source": [
    "a = \"Life is too short\"\n",
    "a.split()"
   ]
  },
  {
   "cell_type": "code",
   "execution_count": 129,
   "id": "628f6dda",
   "metadata": {},
   "outputs": [
    {
     "data": {
      "text/plain": [
       "['a', 'b', 'c', 'd']"
      ]
     },
     "execution_count": 129,
     "metadata": {},
     "output_type": "execute_result"
    }
   ],
   "source": [
    "b = \"a:b:c:d\"\n",
    "b.split(':')"
   ]
  },
  {
   "cell_type": "markdown",
   "id": "516113a5",
   "metadata": {},
   "source": [
    "- split 함수는 a.split()처럼 괄호 안에 아무 값도 넣어 주지 않으면 공백([Space]], [Tab], [Enter])을 기준으로 문자열을 나누어 준다. 만약 b.split(':')처럼 괄호 안에 특정 값이 있을 경우에는 괄호 안의 값을 구분자로 해서 문자열을 나누어 준다. 이렇게 나눈 값은 리스트에 하나씩 들어간다. ['Life', 'is', 'too', 'short']나 ['a', 'b', 'c', 'd']가 리스트인데, 02-3에서 자세히 알아볼 것이므로 여기에서는 너무 신경 쓰지 않아도 된다."
   ]
  },
  {
   "cell_type": "markdown",
   "id": "187687bf",
   "metadata": {},
   "source": [
    "**착각하기 쉬운 문자열 함수**\n",
    "- 소문자를 대문자로 바꾸어 주는 다음의 예를 보자."
   ]
  },
  {
   "cell_type": "code",
   "execution_count": 131,
   "id": "a25d6bcb",
   "metadata": {},
   "outputs": [
    {
     "data": {
      "text/plain": [
       "'HI'"
      ]
     },
     "execution_count": 131,
     "metadata": {},
     "output_type": "execute_result"
    }
   ],
   "source": [
    "a = 'hi'\n",
    "a.upper()"
   ]
  },
  {
   "cell_type": "markdown",
   "id": "197db9b6",
   "metadata": {},
   "source": [
    "- 이와 같이 실행한 후에 a 변수의 값은 'HI'로 변했을까? 아니면 'hi' 값을 유지할까? 다음과 같이 확인해 보자."
   ]
  },
  {
   "cell_type": "code",
   "execution_count": 132,
   "id": "11b58426",
   "metadata": {},
   "outputs": [
    {
     "data": {
      "text/plain": [
       "'hi'"
      ]
     },
     "execution_count": 132,
     "metadata": {},
     "output_type": "execute_result"
    }
   ],
   "source": [
    "a"
   ]
  },
  {
   "cell_type": "markdown",
   "id": "ff72c296",
   "metadata": {},
   "source": [
    "- a.upper()를 수행하더라도 a 변수의 값은 변하지 않았다. 왜냐하면 a.upper()를 실행하면 upper 함수는 a 변수의 값 자체를 변경하는 것이 아니라 대문자로 바꾼 값을 리턴하기 때문이다. 문자열은 이전에도 잠깐 언급했지만 자체의 값을 변경할 수 없는 immutable 자료형이다. 따라서 a 값을 'HI' 로 바꾸고 싶다면 다음과 같이 대입문을 사용해야 한다."
   ]
  },
  {
   "cell_type": "code",
   "execution_count": 134,
   "id": "e463b42d",
   "metadata": {},
   "outputs": [
    {
     "data": {
      "text/plain": [
       "'HI'"
      ]
     },
     "execution_count": 134,
     "metadata": {},
     "output_type": "execute_result"
    }
   ],
   "source": [
    "a = a.upper()\n",
    "a"
   ]
  },
  {
   "cell_type": "markdown",
   "id": "dc77a56a",
   "metadata": {},
   "source": [
    "- upper 뿐만 아니라 lower, join, lstrip, rstrip, strip, replace, split 함수는 모두 이와 같은 규칙이 적용되어 문자열 자체의 값이 변경되는 것이 아니라 변경된 값을 리턴한다는 사실에 주의하자."
   ]
  },
  {
   "cell_type": "markdown",
   "id": "b72dc282",
   "metadata": {},
   "source": [
    "**문제**\n",
    "\n",
    "- 문자열 \"hello world\"를 대문자로 변환하여 출력하세요."
   ]
  },
  {
   "cell_type": "code",
   "execution_count": 135,
   "id": "62c42d08",
   "metadata": {},
   "outputs": [
    {
     "data": {
      "text/plain": [
       "'HELLO WORLD'"
      ]
     },
     "execution_count": 135,
     "metadata": {},
     "output_type": "execute_result"
    }
   ],
   "source": [
    "a = \"hello world\"\n",
    "a.upper()"
   ]
  },
  {
   "cell_type": "markdown",
   "id": "de60b495",
   "metadata": {},
   "source": [
    "- 문자열 \"Hello World\"를 소문자로 변환하여 출력하세요."
   ]
  },
  {
   "cell_type": "code",
   "execution_count": 137,
   "id": "f6b6bbfe",
   "metadata": {},
   "outputs": [
    {
     "data": {
      "text/plain": [
       "'hello world'"
      ]
     },
     "execution_count": 137,
     "metadata": {},
     "output_type": "execute_result"
    }
   ],
   "source": [
    "a = \"Hello World\"\n",
    "a.lower()"
   ]
  },
  {
   "cell_type": "markdown",
   "id": "2a5519c6",
   "metadata": {},
   "source": [
    "- 문자열 \"apple,banana,grape\"을 쉼표(,)를 기준으로 분리하여 리스트로 출력하세요."
   ]
  },
  {
   "cell_type": "code",
   "execution_count": 138,
   "id": "429802ec",
   "metadata": {},
   "outputs": [
    {
     "data": {
      "text/plain": [
       "['apple', 'banana', 'grape']"
      ]
     },
     "execution_count": 138,
     "metadata": {},
     "output_type": "execute_result"
    }
   ],
   "source": [
    "\"apple,banana,grape\".split(',')"
   ]
  },
  {
   "cell_type": "markdown",
   "id": "a82cd9a5",
   "metadata": {},
   "source": [
    "- 문자열 \" Python \"의 양쪽 공백을 제거하여 출력하세요."
   ]
  },
  {
   "cell_type": "code",
   "execution_count": 139,
   "id": "f65789ac",
   "metadata": {},
   "outputs": [
    {
     "data": {
      "text/plain": [
       "'Python'"
      ]
     },
     "execution_count": 139,
     "metadata": {},
     "output_type": "execute_result"
    }
   ],
   "source": [
    "\" Python \".strip()"
   ]
  },
  {
   "cell_type": "markdown",
   "id": "4ee58e91",
   "metadata": {},
   "source": [
    "- 문자열 \"Python \"의 오른쪽 공백을 제거하여 출력하세요."
   ]
  },
  {
   "cell_type": "code",
   "execution_count": 140,
   "id": "0904fdd2",
   "metadata": {},
   "outputs": [
    {
     "data": {
      "text/plain": [
       "'Python'"
      ]
     },
     "execution_count": 140,
     "metadata": {},
     "output_type": "execute_result"
    }
   ],
   "source": [
    "\"Python \".rstrip()"
   ]
  },
  {
   "cell_type": "markdown",
   "id": "594df173",
   "metadata": {},
   "source": [
    "- 문자열 \"I like apples\"에서 \"apples\"를 \"bananas\"로 대체하여 출력하세요."
   ]
  },
  {
   "cell_type": "code",
   "execution_count": 141,
   "id": "429e6493",
   "metadata": {},
   "outputs": [
    {
     "data": {
      "text/plain": [
       "'I like bananas'"
      ]
     },
     "execution_count": 141,
     "metadata": {},
     "output_type": "execute_result"
    }
   ],
   "source": [
    "\"I like apples\".replace('apples', 'bananas')"
   ]
  },
  {
   "cell_type": "markdown",
   "id": "76b4c3fd",
   "metadata": {},
   "source": [
    "- 문자열 결합하기: 주어진 리스트의 문자열들을 하나의 문장으로 결합합니다.\n",
    "\n",
    "```python\n",
    "words = [\"파이썬\", \"문자열\", \"내장함수들을\", \"배울\", \"수\", \"있는\", \"예제\"]\n",
    "```"
   ]
  },
  {
   "cell_type": "code",
   "execution_count": 142,
   "id": "d7da69fe",
   "metadata": {},
   "outputs": [
    {
     "data": {
      "text/plain": [
       "'파이썬 문자열 내장함수들을 배울 수 있는 예제'"
      ]
     },
     "execution_count": 142,
     "metadata": {},
     "output_type": "execute_result"
    }
   ],
   "source": [
    "words = [\"파이썬\", \"문자열\", \"내장함수들을\", \"배울\", \"수\", \"있는\", \"예제\"]\n",
    "' '.join(words)"
   ]
  },
  {
   "cell_type": "markdown",
   "id": "dd6a2084",
   "metadata": {},
   "source": [
    "# 리스트 자료형\n",
    "\n",
    "- [소스](https://wikidocs.net/14)\n",
    "- 지금까지 우리는 숫자와 문자열에 대해서 알아보았다. 하지만 숫자와 문자열만으로 프로그래밍을 하기에는 부족한 점이 많다. 예를 들어 1부터 10까지의 숫자 중 홀수의 모음인 1, 3, 5, 7, 9의 집합을 생각해 보자. 이런 숫자의 모음을 숫자나 문자열로 표현하기는 어렵다. 파이썬에는 이러한 불편함을 해소할 수 있는 자료형이 존재한다. 이것이 바로 지금부터 공부할 리스트(list)이다."
   ]
  },
  {
   "cell_type": "markdown",
   "id": "1a630e1c",
   "metadata": {},
   "source": [
    "## 리스트는 어떻게 만들고 사용할까?\n",
    "\n",
    "- 리스트를 사용하면 1, 3, 5, 7, 9의 숫자 모음을 다음과 같이 간단하게 표현할 수 있다."
   ]
  },
  {
   "cell_type": "code",
   "execution_count": 1,
   "id": "5fa625ce",
   "metadata": {},
   "outputs": [
    {
     "data": {
      "text/plain": [
       "[1, 3, 5, 7, 9]"
      ]
     },
     "execution_count": 1,
     "metadata": {},
     "output_type": "execute_result"
    }
   ],
   "source": [
    "odd = [1, 3, 5, 7, 9]\n",
    "odd"
   ]
  },
  {
   "cell_type": "markdown",
   "id": "cb92b89b",
   "metadata": {},
   "source": [
    "- 리스트를 만들 때는 위에서 보는 것과 같이 대괄호([])로 감싸 주고 각 요솟값은 쉼표(,)로 구분해 준다.\n",
    "\n",
    "> 리스트명 = [요소1, 요소2, 요소3, ...]"
   ]
  },
  {
   "cell_type": "markdown",
   "id": "e0475c8a",
   "metadata": {},
   "source": [
    "- 여러 가지 리스트의 생김새는 다음과 같다."
   ]
  },
  {
   "cell_type": "code",
   "execution_count": 143,
   "id": "d5b821a7",
   "metadata": {},
   "outputs": [],
   "source": [
    "a = []\n",
    "b = [1, 2, 3]\n",
    "c = ['Life', 'is', 'too', 'short']\n",
    "d = [1, 2, 'Life', 'is']\n",
    "e = [1, 2, ['Life', 'is']]"
   ]
  },
  {
   "cell_type": "markdown",
   "id": "142528bd",
   "metadata": {},
   "source": [
    "- 비어 있는 리스트는 a = list()로 생성할 수 있다."
   ]
  },
  {
   "cell_type": "markdown",
   "id": "d0974a32",
   "metadata": {},
   "source": [
    "- 리스트는 a처럼 아무것도 포함하지 않아 비어 있는 리스트([])일 수도 있고, b처럼 숫자를 요솟값으로 가질 수도 있으며, c처럼 문자열을 요솟값으로 가질 수도 있다. 또한 d처럼 숫자와 문자열을 함께 요솟값으로 가질 수도 있고, e처럼 리스트 자체를 요솟값으로 가질 수도 있다. 즉, 리스트 안에는 어떠한 자료형도 포함할 수 있다.\n",
    "\n",
    "<img src='https://wikidocs.net/images/page/14/02_3_list.png'>"
   ]
  },
  {
   "cell_type": "markdown",
   "id": "311ea397",
   "metadata": {},
   "source": [
    "## 리스트의 인덱싱과 슬라이싱\n",
    "\n",
    "- 리스트도 문자열처럼 인덱싱과 슬라이싱이 가능하다. 말로 설명하는 것보다 직접 예를 실행해 보면서 리스트의 기본 구조를 이해하는 것이 쉽다. 대화형 인터프리터로 따라 하면서 확실하게 이해하자.\n"
   ]
  },
  {
   "cell_type": "markdown",
   "id": "9a634c59",
   "metadata": {},
   "source": [
    "**리스트의 인덱싱**\n",
    "- 리스트 역시 문자열처럼 인덱싱을 적용할 수 있다. 먼저 a 변수에 [1, 2, 3] 값을 설정한다.\n",
    "\n"
   ]
  },
  {
   "cell_type": "code",
   "execution_count": 4,
   "id": "1ad155ac",
   "metadata": {},
   "outputs": [
    {
     "data": {
      "text/plain": [
       "[1, 2, 3]"
      ]
     },
     "execution_count": 4,
     "metadata": {},
     "output_type": "execute_result"
    }
   ],
   "source": [
    "a = [1, 2, 3]\n",
    "a"
   ]
  },
  {
   "cell_type": "markdown",
   "id": "4d444304",
   "metadata": {},
   "source": [
    "- a[0]은 리스트 a의 첫 번째 요솟값을 말한다.\n"
   ]
  },
  {
   "cell_type": "code",
   "execution_count": 5,
   "id": "2e415788",
   "metadata": {},
   "outputs": [
    {
     "data": {
      "text/plain": [
       "1"
      ]
     },
     "execution_count": 5,
     "metadata": {},
     "output_type": "execute_result"
    }
   ],
   "source": [
    "a[0]"
   ]
  },
  {
   "cell_type": "markdown",
   "id": "d2807fc2",
   "metadata": {},
   "source": [
    "- 다음 예는 리스트의 첫 번째 요소인 a[0]과 세 번째 요소인 a[2]의 값을 더한 것이다.\n",
    "\n"
   ]
  },
  {
   "cell_type": "code",
   "execution_count": 6,
   "id": "ad919464",
   "metadata": {},
   "outputs": [
    {
     "data": {
      "text/plain": [
       "4"
      ]
     },
     "execution_count": 6,
     "metadata": {},
     "output_type": "execute_result"
    }
   ],
   "source": [
    "a[0] + a[2]"
   ]
  },
  {
   "cell_type": "markdown",
   "id": "60a759ac",
   "metadata": {},
   "source": [
    "- 이것은 1 + 3으로 해석되어 값 4를 출력한다.\n",
    "\n",
    "- 문자열을 공부할 때 이미 살펴보았지만, 파이썬은 숫자를 0부터 세기 때문에 a[1]이 리스트 a의 첫 번째 요소가 아니라 a[0]이 리스트 a의 첫 번째 요소라는 것을 명심하자. \n",
    "- a[-1]은 문자열에서와 마찬가지로 리스트 a의 마지막 요솟값을 말한다.\n",
    "\n"
   ]
  },
  {
   "cell_type": "code",
   "execution_count": 7,
   "id": "a2da8e3d",
   "metadata": {},
   "outputs": [
    {
     "data": {
      "text/plain": [
       "3"
      ]
     },
     "execution_count": 7,
     "metadata": {},
     "output_type": "execute_result"
    }
   ],
   "source": [
    "a[-1]"
   ]
  },
  {
   "cell_type": "markdown",
   "id": "6a27e2a7",
   "metadata": {},
   "source": [
    "- 이번에는 다음 예처럼 리스트 a를 숫자 1, 2, 3과 또 다른 리스트인 ['a', 'b', 'c']를 포함하도록 만들어 보자.\n",
    "\n"
   ]
  },
  {
   "cell_type": "code",
   "execution_count": 8,
   "id": "cc47ab6f",
   "metadata": {},
   "outputs": [
    {
     "data": {
      "text/plain": [
       "[1, 2, 3, ['a', 'b', 'c']]"
      ]
     },
     "execution_count": 8,
     "metadata": {},
     "output_type": "execute_result"
    }
   ],
   "source": [
    "a = [1, 2, 3, ['a', 'b', 'c']]\n",
    "a"
   ]
  },
  {
   "cell_type": "code",
   "execution_count": 9,
   "id": "c7b0034a",
   "metadata": {},
   "outputs": [
    {
     "data": {
      "text/plain": [
       "1"
      ]
     },
     "execution_count": 9,
     "metadata": {},
     "output_type": "execute_result"
    }
   ],
   "source": [
    "a[0]"
   ]
  },
  {
   "cell_type": "code",
   "execution_count": 11,
   "id": "865a7b75",
   "metadata": {},
   "outputs": [
    {
     "data": {
      "text/plain": [
       "['a', 'b', 'c']"
      ]
     },
     "execution_count": 11,
     "metadata": {},
     "output_type": "execute_result"
    }
   ],
   "source": [
    "a[-1]"
   ]
  },
  {
   "cell_type": "code",
   "execution_count": 13,
   "id": "58811046",
   "metadata": {},
   "outputs": [
    {
     "data": {
      "text/plain": [
       "['a', 'b', 'c']"
      ]
     },
     "execution_count": 13,
     "metadata": {},
     "output_type": "execute_result"
    }
   ],
   "source": [
    "a[3]"
   ]
  },
  {
   "cell_type": "markdown",
   "id": "45b86c8c",
   "metadata": {},
   "source": [
    "- 예상한 대로 a[-1]은 마지막 요솟값 ['a', 'b', 'c']를 나타낸다. a[3]은 리스트 a의 네 번째 요소를 나타내기 때문에 마지막 요소를 나타내는 a[-1]과 동일한 결괏값을 보여 준다.\n",
    "\n",
    "- 그렇다면 리스트 a에 포함된 ['a', 'b', 'c'] 리스트에서 'a' 값을 인덱싱을 사용해 끄집어 낼 수 있는 방법은 없을까? 다음 예를 살펴보자."
   ]
  },
  {
   "cell_type": "code",
   "execution_count": 14,
   "id": "a12f2091",
   "metadata": {},
   "outputs": [
    {
     "data": {
      "text/plain": [
       "'a'"
      ]
     },
     "execution_count": 14,
     "metadata": {},
     "output_type": "execute_result"
    }
   ],
   "source": [
    "a[-1][0]"
   ]
  },
  {
   "cell_type": "markdown",
   "id": "e7fde4bf",
   "metadata": {},
   "source": [
    "- 위와 같이 하면 'a'를 끄집어 낼 수 있다. a[-1]이 ['a', 'b', 'c'] 리스트라는 것은 이미 설명했다. 바로 이 리스트에서 첫 번째 요소를 불러오기 위해 [0]을 붙여 준 것이다.\n",
    "\n",
    "- 다음 예도 마찬가지 경우이므로 어렵지 않게 이해할 수 있을 것이다.\n",
    "\n"
   ]
  },
  {
   "cell_type": "code",
   "execution_count": 15,
   "id": "4067ee3a",
   "metadata": {},
   "outputs": [
    {
     "data": {
      "text/plain": [
       "'b'"
      ]
     },
     "execution_count": 15,
     "metadata": {},
     "output_type": "execute_result"
    }
   ],
   "source": [
    "a[-1][1]"
   ]
  },
  {
   "cell_type": "code",
   "execution_count": 16,
   "id": "efa16f26",
   "metadata": {},
   "outputs": [
    {
     "data": {
      "text/plain": [
       "'c'"
      ]
     },
     "execution_count": 16,
     "metadata": {},
     "output_type": "execute_result"
    }
   ],
   "source": [
    "a[-1][2]"
   ]
  },
  {
   "cell_type": "markdown",
   "id": "b5f81909",
   "metadata": {},
   "source": [
    "**삼중 리스트에서 인덱싱하기**\n",
    "- 조금 복잡하지만, 리스트를 다음과 같이 작성할 수도 있다.\n",
    "\n"
   ]
  },
  {
   "cell_type": "code",
   "execution_count": 17,
   "id": "aa0d952a",
   "metadata": {},
   "outputs": [],
   "source": [
    "a = [1, 2, ['a', 'b', ['Life', 'is']]]"
   ]
  },
  {
   "cell_type": "markdown",
   "id": "933ac423",
   "metadata": {},
   "source": [
    "- 리스트 a 안에 ['a', 'b', ['Life', 'is']] 리스트가 포함되어 있고 그 리스트 안에 다시 ['Life', 'is'] 리스트가 포함되어 있다. 즉, 삼중 구조의 리스트인 것이다.\n",
    "\n",
    "- 이 경우, 'Life' 문자열만 끄집어 내려면 다음과 같이 해야 한다.\n"
   ]
  },
  {
   "cell_type": "code",
   "execution_count": 18,
   "id": "4c056e85",
   "metadata": {},
   "outputs": [
    {
     "data": {
      "text/plain": [
       "'Life'"
      ]
     },
     "execution_count": 18,
     "metadata": {},
     "output_type": "execute_result"
    }
   ],
   "source": [
    "a[2][2][0]"
   ]
  },
  {
   "cell_type": "markdown",
   "id": "1e0c4f3f",
   "metadata": {},
   "source": [
    "- 위 예는 리스트 a의 세 번째 요소인 리스트 ['a', 'b', ['Life', 'is']]에서 세 번째 요소인 리스트 ['Life', 'is']의 첫 번째 요소를 나타낸다.\n",
    "\n",
    "- 리스트를 다중으로 중첩해서 사용하는 것은 혼란스럽기 때문에 자주 사용하지는 않는다."
   ]
  },
  {
   "cell_type": "markdown",
   "id": "389b56e1",
   "metadata": {},
   "source": [
    "**리스트의 슬라이싱**\n",
    "- 문자열과 마찬가지로 리스트에서도 슬라이싱 기법을 적용할 수 있다. 슬라이싱은 ‘잘라 낸다’라는 뜻이라고 했다. 리스트의 슬라이싱에 대해서 살펴보자.\n",
    "\n"
   ]
  },
  {
   "cell_type": "code",
   "execution_count": 19,
   "id": "af3dda7e",
   "metadata": {},
   "outputs": [
    {
     "data": {
      "text/plain": [
       "[1, 2]"
      ]
     },
     "execution_count": 19,
     "metadata": {},
     "output_type": "execute_result"
    }
   ],
   "source": [
    "a = [1, 2, 3, 4, 5]\n",
    "a[0:2]"
   ]
  },
  {
   "cell_type": "markdown",
   "id": "d3bbe50e",
   "metadata": {},
   "source": [
    "- 앞의 예를 문자열에서 슬라이싱했던 예와 비교해 보자.\n",
    "\n"
   ]
  },
  {
   "cell_type": "code",
   "execution_count": 20,
   "id": "63250fe3",
   "metadata": {},
   "outputs": [
    {
     "data": {
      "text/plain": [
       "'12'"
      ]
     },
     "execution_count": 20,
     "metadata": {},
     "output_type": "execute_result"
    }
   ],
   "source": [
    "a = \"12345\"\n",
    "a[0:2]"
   ]
  },
  {
   "cell_type": "markdown",
   "id": "244a1206",
   "metadata": {},
   "source": [
    "- 2가지가 완전히 동일하게 사용되었다는 것을 눈치챘을 것이다. 문자열에서 했던 것과 사용법이 완전히 동일하다.\n",
    "\n",
    "- 몇 가지 예를 더 살펴보자."
   ]
  },
  {
   "cell_type": "code",
   "execution_count": 21,
   "id": "12779cc0",
   "metadata": {},
   "outputs": [],
   "source": [
    "a = [1, 2, 3, 4, 5]\n",
    "b = a[:2]\n",
    "c = a[2:]"
   ]
  },
  {
   "cell_type": "code",
   "execution_count": 22,
   "id": "8cea197e",
   "metadata": {},
   "outputs": [
    {
     "data": {
      "text/plain": [
       "[1, 2]"
      ]
     },
     "execution_count": 22,
     "metadata": {},
     "output_type": "execute_result"
    }
   ],
   "source": [
    "b"
   ]
  },
  {
   "cell_type": "code",
   "execution_count": 23,
   "id": "6207bfde",
   "metadata": {},
   "outputs": [
    {
     "data": {
      "text/plain": [
       "[3, 4, 5]"
      ]
     },
     "execution_count": 23,
     "metadata": {},
     "output_type": "execute_result"
    }
   ],
   "source": [
    "c"
   ]
  },
  {
   "cell_type": "markdown",
   "id": "bc9022aa",
   "metadata": {},
   "source": [
    "- b 변수는 리스트 a의 첫 번째 요소부터 두 번째 요소인 a[1]까지 나타내는 리스트이다. 물론 a[2] 값인 3은 포함되지 않는다. c라는 변수는 리스트 a의 세 번째 요소부터 끝까지 나타내는 리스트이다.\n",
    "\n",
    "\n"
   ]
  },
  {
   "cell_type": "markdown",
   "id": "83c35042",
   "metadata": {},
   "source": [
    "**문제**\n",
    "- a = [1,2 3, 4, 5] 리스트에서, 슬라이싱 기법을 사용하여 리스트 [2, 3] 을 만들어 보자"
   ]
  },
  {
   "cell_type": "code",
   "execution_count": 24,
   "id": "93f87ee3",
   "metadata": {},
   "outputs": [
    {
     "data": {
      "text/plain": [
       "[2, 3]"
      ]
     },
     "execution_count": 24,
     "metadata": {},
     "output_type": "execute_result"
    }
   ],
   "source": []
  },
  {
   "cell_type": "markdown",
   "id": "b60595e2",
   "metadata": {},
   "source": [
    "**중첩된 리스트에서 슬라이싱하기**\n",
    "- 리스트가 포함된 중첩 리스트 역시 슬라이싱 방법은 똑같이 적용된다.\n",
    "\n"
   ]
  },
  {
   "cell_type": "code",
   "execution_count": 163,
   "id": "a2c82bd3",
   "metadata": {},
   "outputs": [
    {
     "data": {
      "text/plain": [
       "[3, ['a', 'b', 'c'], 4]"
      ]
     },
     "execution_count": 163,
     "metadata": {},
     "output_type": "execute_result"
    }
   ],
   "source": [
    "a = [1, 2, 3, ['a', 'b', 'c'], 4, 5]\n",
    "a[2:5]"
   ]
  },
  {
   "cell_type": "code",
   "execution_count": 164,
   "id": "12135ddc",
   "metadata": {
    "scrolled": false
   },
   "outputs": [
    {
     "data": {
      "text/plain": [
       "['a', 'b']"
      ]
     },
     "execution_count": 164,
     "metadata": {},
     "output_type": "execute_result"
    }
   ],
   "source": [
    "a[3][:2]"
   ]
  },
  {
   "cell_type": "markdown",
   "id": "60716df7",
   "metadata": {},
   "source": [
    "- 위 예에서 a[3]은 ['a', 'b', 'c']를 나타낸다. 따라서 a[3][:2]는 ['a', 'b', 'c']의 첫 번째 요소부터 세 번째 요소 직전까지의 값, 즉 ['a', 'b']를 나타내는 리스트가 된다.\n"
   ]
  },
  {
   "cell_type": "markdown",
   "id": "187cfd30",
   "metadata": {},
   "source": [
    "## 리스트 연산하기\n",
    "- 리스트 역시 +를 사용해서 더할 수 있고 *를 사용해서 반복할 수 있다. 문자열과 마찬가지로 리스트에서도 되는지 직접 확인해 보자.\n"
   ]
  },
  {
   "cell_type": "markdown",
   "id": "920800e6",
   "metadata": {},
   "source": [
    "**리스트 더하기(+)**"
   ]
  },
  {
   "cell_type": "code",
   "execution_count": 165,
   "id": "37fde225",
   "metadata": {},
   "outputs": [
    {
     "data": {
      "text/plain": [
       "[1, 2, 3, 4, 5, 6]"
      ]
     },
     "execution_count": 165,
     "metadata": {},
     "output_type": "execute_result"
    }
   ],
   "source": [
    "a = [1, 2, 3]\n",
    "b = [4, 5, 6]\n",
    "a + b"
   ]
  },
  {
   "cell_type": "markdown",
   "id": "0997165f",
   "metadata": {},
   "source": [
    "- 리스트 사이에서 +는 2개의 리스트를 합치는 기능을 한다. 문자열에서 \"abc\" + \"def\" = \"abcdef\"가 되는 것과 같은 이치이다.\n",
    "\n"
   ]
  },
  {
   "cell_type": "markdown",
   "id": "9de075bf",
   "metadata": {},
   "source": [
    "**리스트 반복하기(*)**"
   ]
  },
  {
   "cell_type": "code",
   "execution_count": 166,
   "id": "8b5a1389",
   "metadata": {},
   "outputs": [
    {
     "data": {
      "text/plain": [
       "[1, 2, 3, 1, 2, 3, 1, 2, 3]"
      ]
     },
     "execution_count": 166,
     "metadata": {},
     "output_type": "execute_result"
    }
   ],
   "source": [
    "a = [1, 2, 3]\n",
    "a * 3"
   ]
  },
  {
   "cell_type": "markdown",
   "id": "f0cb47d8",
   "metadata": {},
   "source": [
    "- 위에서 볼 수 있듯이 [1, 2, 3] 리스트가 세 번 반복되어 새로운 리스트를 만들어 낸다. 문자열에서 \"abc\" * 3 = \"abcabcabc\" 가 되는 것과 같은 이치이다.\n",
    "\n"
   ]
  },
  {
   "cell_type": "markdown",
   "id": "5c36463f",
   "metadata": {},
   "source": [
    "**리스트 길이 구하기**\n",
    "- 리스트 길이를 구하기 위해서는 다음처럼 len 함수를 사용해야 한다.\n",
    "\n"
   ]
  },
  {
   "cell_type": "code",
   "execution_count": 26,
   "id": "6e90d6be",
   "metadata": {},
   "outputs": [
    {
     "data": {
      "text/plain": [
       "3"
      ]
     },
     "execution_count": 26,
     "metadata": {},
     "output_type": "execute_result"
    }
   ],
   "source": [
    "a = [1, 2, 3]\n",
    "len(a)"
   ]
  },
  {
   "cell_type": "markdown",
   "id": "85dfc1b1",
   "metadata": {},
   "source": [
    "- len은 문자열, 리스트 외에 앞으로 배울 튜플과 딕셔너리에도 사용할 수 있는 함수이다. 실습에서 자주 사용하므로 잘 기억해 두자.\n",
    "\n",
    "\n"
   ]
  },
  {
   "cell_type": "markdown",
   "id": "31b8cb75",
   "metadata": {},
   "source": [
    "**초보자가 범하기 쉬운 리스트 연산 오류**\n",
    "- 다음 소스 코드를 입력했을 때 결괏값은 어떻게 나올까?\n",
    "\n"
   ]
  },
  {
   "cell_type": "code",
   "execution_count": 28,
   "id": "96be53cf",
   "metadata": {},
   "outputs": [
    {
     "ename": "TypeError",
     "evalue": "unsupported operand type(s) for +: 'int' and 'str'",
     "output_type": "error",
     "traceback": [
      "\u001b[0;31m---------------------------------------------------------------------------\u001b[0m",
      "\u001b[0;31mTypeError\u001b[0m                                 Traceback (most recent call last)",
      "Cell \u001b[0;32mIn[28], line 2\u001b[0m\n\u001b[1;32m      1\u001b[0m a \u001b[38;5;241m=\u001b[39m [\u001b[38;5;241m1\u001b[39m, \u001b[38;5;241m2\u001b[39m, \u001b[38;5;241m3\u001b[39m]\n\u001b[0;32m----> 2\u001b[0m \u001b[43ma\u001b[49m\u001b[43m[\u001b[49m\u001b[38;5;241;43m2\u001b[39;49m\u001b[43m]\u001b[49m\u001b[43m \u001b[49m\u001b[38;5;241;43m+\u001b[39;49m\u001b[43m \u001b[49m\u001b[38;5;124;43m\"\u001b[39;49m\u001b[38;5;124;43mhi\u001b[39;49m\u001b[38;5;124;43m\"\u001b[39;49m\n",
      "\u001b[0;31mTypeError\u001b[0m: unsupported operand type(s) for +: 'int' and 'str'"
     ]
    }
   ],
   "source": [
    "a = [1, 2, 3]\n",
    "a[2] + \"hi\""
   ]
  },
  {
   "cell_type": "markdown",
   "id": "94a9adbf",
   "metadata": {},
   "source": [
    "- a[2]의 값인 3과 문자열 hi가 더해져서 3hi가 출력될 것이라고 생각할 수 있다. "
   ]
  },
  {
   "cell_type": "markdown",
   "id": "7a1cb246",
   "metadata": {},
   "source": [
    "- 하지만 다음 결과를 살펴보니 오류가 발생했다. 오류의 원인은 무엇일까?\n",
    "- a[2]에 저장된 값은 3이라는 정수인데 \"hi\"는 문자열이다. 정수와 문자열은 당연히 서로 더할 수 없기 때문에 오류가 발생한 것이다.\n",
    "\n",
    "- 만약 숫자와 문자열을 더해서 '3hi'를 만들고 싶다면 다음처럼 숫자 3을 문자 '3'으로 바꾸어야 한다."
   ]
  },
  {
   "cell_type": "code",
   "execution_count": 32,
   "id": "b8a71894",
   "metadata": {},
   "outputs": [
    {
     "data": {
      "text/plain": [
       "'3hi'"
      ]
     },
     "execution_count": 32,
     "metadata": {},
     "output_type": "execute_result"
    }
   ],
   "source": [
    "str(a[2]) + \"hi\""
   ]
  },
  {
   "cell_type": "markdown",
   "id": "056d731d",
   "metadata": {},
   "source": [
    "## 리스트의 수정과 삭제\n",
    "- 리스트는 값을 수정하거나 삭제할 수 있다.\n",
    "\n"
   ]
  },
  {
   "cell_type": "markdown",
   "id": "311516d9",
   "metadata": {},
   "source": [
    "**리스트의 값 수정하기**\n"
   ]
  },
  {
   "cell_type": "code",
   "execution_count": 33,
   "id": "8942796e",
   "metadata": {},
   "outputs": [
    {
     "data": {
      "text/plain": [
       "[1, 2, 4]"
      ]
     },
     "execution_count": 33,
     "metadata": {},
     "output_type": "execute_result"
    }
   ],
   "source": [
    "a = [1, 2, 3]\n",
    "a[2] = 4\n",
    "a"
   ]
  },
  {
   "cell_type": "markdown",
   "id": "64f3033a",
   "metadata": {},
   "source": [
    "- a[2]의 요솟값 3이 4로 바뀌었다.\n"
   ]
  },
  {
   "cell_type": "markdown",
   "id": "3276da3b",
   "metadata": {},
   "source": [
    "**del 함수를 사용해 리스트 요소 삭제하기**"
   ]
  },
  {
   "cell_type": "code",
   "execution_count": 34,
   "id": "d9ab98e9",
   "metadata": {},
   "outputs": [
    {
     "data": {
      "text/plain": [
       "[1, 3]"
      ]
     },
     "execution_count": 34,
     "metadata": {},
     "output_type": "execute_result"
    }
   ],
   "source": [
    "a = [1, 2, 3]\n",
    "del a[1]\n",
    "a"
   ]
  },
  {
   "cell_type": "markdown",
   "id": "b32f9016",
   "metadata": {},
   "source": [
    "- del a[x]는 x번째 요솟값을 삭제한다. 위에서는 a 리스트에서 a[1]을 삭제했다. \n",
    "- del 함수는 파이썬이 자체적으로 가지고 있는 삭제 함수이며 다음과 같이 사용한다.\n",
    "\n",
    "> del 객체\n",
    "\n",
    "- 객체란 파이썬에서 사용되는 모든 자료형을 말한다.\n",
    "- 다음처럼 슬라이싱 기법을 사용하여 리스트의 요소 여러 개를 한꺼번에 삭제할 수도 있다.\n"
   ]
  },
  {
   "cell_type": "code",
   "execution_count": 35,
   "id": "4a1783d0",
   "metadata": {},
   "outputs": [
    {
     "data": {
      "text/plain": [
       "[1, 2]"
      ]
     },
     "execution_count": 35,
     "metadata": {},
     "output_type": "execute_result"
    }
   ],
   "source": [
    "a = [1, 2, 3, 4, 5]\n",
    "del a[2:]\n",
    "a"
   ]
  },
  {
   "cell_type": "markdown",
   "id": "d3dc230a",
   "metadata": {},
   "source": [
    "- a[2:]에 해당하는 리스트의 요소들이 삭제되었다.\n",
    "\n",
    "- 리스트의 요소를 삭제하는 방법에는 2가지가 더 있다. 바로 리스트의 remove와 pop 함수를 사용하는 것인데, 이는 리스트 관련 함수에서 설명한다."
   ]
  },
  {
   "cell_type": "markdown",
   "id": "8888a7d4",
   "metadata": {},
   "source": [
    "## 리스트 관련 함수\n",
    "- 문자열과 마찬가지로 리스트 변수 이름 뒤에 ‘.’를 붙여 여러 가지 리스트 관련 함수를 사용할 수 있다. 유용하게 사용하는 리스트 관련 함수 몇 가지만 알아보자.\n",
    "\n",
    "**리스트에 요소 추가하기 - append**\n",
    "- append의 사전적 의미는 ‘덧붙이다, 첨부하다’이다. 이 뜻을 안다면 다음 예가 바로 이해될 것이다. append(x)는 리스트의 맨 마지막에 x를 추가하는 함수이다.\n"
   ]
  },
  {
   "cell_type": "code",
   "execution_count": 42,
   "id": "a24b548f",
   "metadata": {},
   "outputs": [
    {
     "data": {
      "text/plain": [
       "[1, 2, 3, 4]"
      ]
     },
     "execution_count": 42,
     "metadata": {},
     "output_type": "execute_result"
    }
   ],
   "source": [
    "a = [1, 2, 3]\n",
    "a.append(4)\n",
    "a"
   ]
  },
  {
   "cell_type": "markdown",
   "id": "8defd89b",
   "metadata": {},
   "source": [
    "- 리스트 안에는 어떤 자료형도 추가할 수 있다. 다음 예는 리스트에 다시 리스트를 추가한 결과이다.\n",
    "\n"
   ]
  },
  {
   "cell_type": "code",
   "execution_count": 37,
   "id": "175af916",
   "metadata": {},
   "outputs": [
    {
     "data": {
      "text/plain": [
       "[1, 2, 3, 4, [5, 6]]"
      ]
     },
     "execution_count": 37,
     "metadata": {},
     "output_type": "execute_result"
    }
   ],
   "source": [
    "a.append([5, 6])\n",
    "a"
   ]
  },
  {
   "cell_type": "code",
   "execution_count": 43,
   "id": "79f72436",
   "metadata": {},
   "outputs": [],
   "source": [
    "a = a + [5, 6]"
   ]
  },
  {
   "cell_type": "code",
   "execution_count": 44,
   "id": "c42d5337",
   "metadata": {},
   "outputs": [
    {
     "data": {
      "text/plain": [
       "[1, 2, 3, 4, 5, 6]"
      ]
     },
     "execution_count": 44,
     "metadata": {},
     "output_type": "execute_result"
    }
   ],
   "source": [
    "a"
   ]
  },
  {
   "cell_type": "markdown",
   "id": "fadedd62",
   "metadata": {},
   "source": [
    "**리스트 정렬 - sort**\n",
    "- sort 함수는 리스트의 요소를 순서대로 정렬해 준다.\n",
    "\n"
   ]
  },
  {
   "cell_type": "code",
   "execution_count": 45,
   "id": "07ce3c6c",
   "metadata": {},
   "outputs": [
    {
     "data": {
      "text/plain": [
       "[1, 2, 3, 4]"
      ]
     },
     "execution_count": 45,
     "metadata": {},
     "output_type": "execute_result"
    }
   ],
   "source": [
    "a = [1, 4, 3, 2]\n",
    "a.sort()\n",
    "a"
   ]
  },
  {
   "cell_type": "markdown",
   "id": "0d49e5ff",
   "metadata": {},
   "source": [
    "**리스트 뒤집기 - reverse**\n",
    "- reverse 함수는 리스트를 역순으로 뒤집어 준다. 이때 리스트 요소들을 순서대로 정렬한 다음 다시 역순으로 정렬하는 것이 아니라 현재의 리스트를 그대로 거꾸로 뒤집는다.\n",
    "\n"
   ]
  },
  {
   "cell_type": "code",
   "execution_count": 46,
   "id": "086a4982",
   "metadata": {},
   "outputs": [
    {
     "data": {
      "text/plain": [
       "['b', 'c', 'a']"
      ]
     },
     "execution_count": 46,
     "metadata": {},
     "output_type": "execute_result"
    }
   ],
   "source": [
    "a = ['a', 'c', 'b']\n",
    "a.reverse()\n",
    "a"
   ]
  },
  {
   "cell_type": "markdown",
   "id": "d812435e",
   "metadata": {},
   "source": [
    "**인덱스 반환 - index**\n",
    "- index(x) 함수는 리스트에 x 값이 있으면 x의 인덱스 값(위칫값)을 리턴한다.\n"
   ]
  },
  {
   "cell_type": "code",
   "execution_count": 50,
   "id": "a04fa44f",
   "metadata": {},
   "outputs": [
    {
     "data": {
      "text/plain": [
       "2"
      ]
     },
     "execution_count": 50,
     "metadata": {},
     "output_type": "execute_result"
    }
   ],
   "source": [
    "a = [1, 2, 3]\n",
    "a.index(3)"
   ]
  },
  {
   "cell_type": "code",
   "execution_count": 51,
   "id": "e9c05aef",
   "metadata": {},
   "outputs": [
    {
     "data": {
      "text/plain": [
       "0"
      ]
     },
     "execution_count": 51,
     "metadata": {},
     "output_type": "execute_result"
    }
   ],
   "source": [
    "a.index(1)"
   ]
  },
  {
   "cell_type": "markdown",
   "id": "e8070e31",
   "metadata": {},
   "source": [
    "- 위 예에서 리스트 a에 있는 숫자 3의 위치는 a[2]이므로 2, 숫자 1의 위치는 a[0]이므로 0을 리턴한다.\n",
    "\n",
    "- 다음 예에서 값 0은 a 리스트에 존재하지 않기 때문에 오류가 발생한다.\n"
   ]
  },
  {
   "cell_type": "code",
   "execution_count": 52,
   "id": "3c1463f7",
   "metadata": {},
   "outputs": [
    {
     "ename": "ValueError",
     "evalue": "0 is not in list",
     "output_type": "error",
     "traceback": [
      "\u001b[0;31m---------------------------------------------------------------------------\u001b[0m",
      "\u001b[0;31mValueError\u001b[0m                                Traceback (most recent call last)",
      "Cell \u001b[0;32mIn[52], line 1\u001b[0m\n\u001b[0;32m----> 1\u001b[0m \u001b[43ma\u001b[49m\u001b[38;5;241;43m.\u001b[39;49m\u001b[43mindex\u001b[49m\u001b[43m(\u001b[49m\u001b[38;5;241;43m0\u001b[39;49m\u001b[43m)\u001b[49m\n",
      "\u001b[0;31mValueError\u001b[0m: 0 is not in list"
     ]
    }
   ],
   "source": [
    "a.index(0)"
   ]
  },
  {
   "cell_type": "markdown",
   "id": "333cdc85",
   "metadata": {},
   "source": [
    "**리스트에 요소 삽입 - insert**\n",
    "- insert(a, b)는 리스트의 a번째 위치에 b를 삽입하는 함수이다. 파이썬은 숫자를 0부터 센다는 것을 반드시 기억하자.\n",
    "\n"
   ]
  },
  {
   "cell_type": "code",
   "execution_count": 53,
   "id": "278e5603",
   "metadata": {},
   "outputs": [
    {
     "data": {
      "text/plain": [
       "[4, 1, 2, 3]"
      ]
     },
     "execution_count": 53,
     "metadata": {},
     "output_type": "execute_result"
    }
   ],
   "source": [
    "a = [1, 2, 3]\n",
    "a.insert(0, 4)\n",
    "a"
   ]
  },
  {
   "cell_type": "markdown",
   "id": "bca07ce7",
   "metadata": {},
   "source": [
    "- 위 예는 0번째 자리, 즉 첫 번째 요소인 a[0] 위치에 값 4를 삽입하라는 뜻이다.\n"
   ]
  },
  {
   "cell_type": "code",
   "execution_count": 57,
   "id": "eab55ef4",
   "metadata": {},
   "outputs": [
    {
     "data": {
      "text/plain": [
       "[4, 1, 2, 5, 5, 3, 5, 15]"
      ]
     },
     "execution_count": 57,
     "metadata": {},
     "output_type": "execute_result"
    }
   ],
   "source": [
    "a.insert(4, 5)\n",
    "a"
   ]
  },
  {
   "cell_type": "markdown",
   "id": "edd1cc8e",
   "metadata": {},
   "source": [
    "- 위 예는 리스트 a의 a[3], 즉 네 번째 요소 위치에 값 5를 삽입하라는 뜻이다.\n",
    "\n"
   ]
  },
  {
   "cell_type": "markdown",
   "id": "2fb3dc2d",
   "metadata": {},
   "source": [
    "**리스트 요소 제거 - remove**\n",
    "- remove(x)는 리스트에서 첫 번째로 나오는 x를 삭제하는 함수이다.\n",
    "\n"
   ]
  },
  {
   "cell_type": "code",
   "execution_count": 62,
   "id": "75b2f290",
   "metadata": {},
   "outputs": [
    {
     "data": {
      "text/plain": [
       "[1, 2, 1, 2, 3]"
      ]
     },
     "execution_count": 62,
     "metadata": {},
     "output_type": "execute_result"
    }
   ],
   "source": [
    "a = [1, 2, 3, 1, 2, 3]\n",
    "a.remove(3)\n",
    "a"
   ]
  },
  {
   "cell_type": "markdown",
   "id": "42e9f59b",
   "metadata": {},
   "source": [
    "- a가 3이라는 값을 2개 가지고 있을 경우, 첫 번째 3만 제거되는 것을 알 수 있다.\n",
    "\n"
   ]
  },
  {
   "cell_type": "code",
   "execution_count": 63,
   "id": "fc0e4ff2",
   "metadata": {},
   "outputs": [
    {
     "data": {
      "text/plain": [
       "[1, 2, 1, 2]"
      ]
     },
     "execution_count": 63,
     "metadata": {},
     "output_type": "execute_result"
    }
   ],
   "source": [
    "a.remove(3)\n",
    "a"
   ]
  },
  {
   "cell_type": "markdown",
   "id": "8e3f516b",
   "metadata": {},
   "source": [
    "**리스트 요소 끄집어 내기 - pop**\n",
    "- pop()은 리스트의 맨 마지막 요소를 리턴하고 그 요소는 삭제한다.\n",
    "\n"
   ]
  },
  {
   "cell_type": "code",
   "execution_count": 65,
   "id": "2332b7cb",
   "metadata": {},
   "outputs": [
    {
     "data": {
      "text/plain": [
       "3"
      ]
     },
     "execution_count": 65,
     "metadata": {},
     "output_type": "execute_result"
    }
   ],
   "source": [
    "a = [1, 2, 3]\n",
    "a.pop()"
   ]
  },
  {
   "cell_type": "code",
   "execution_count": 66,
   "id": "6513cc59",
   "metadata": {},
   "outputs": [
    {
     "data": {
      "text/plain": [
       "[1, 2]"
      ]
     },
     "execution_count": 66,
     "metadata": {},
     "output_type": "execute_result"
    }
   ],
   "source": [
    "a"
   ]
  },
  {
   "cell_type": "markdown",
   "id": "394cee4d",
   "metadata": {},
   "source": [
    "- a.pop(1)은 a[1]의 값을 끄집어 내어 리턴한다. 다시 a를 출력해 보면 끄집어 낸 값이 삭제된 것을 확인할 수 있다.\n",
    "\n"
   ]
  },
  {
   "cell_type": "markdown",
   "id": "6b163b9c",
   "metadata": {},
   "source": [
    "**리스트에 포함된 요소 x의 개수 세기 - count**\n",
    "- count(x)는 리스트 안에 x가 몇 개 있는지 조사하여 그 개수를 리턴하는 함수이다.\n",
    "\n"
   ]
  },
  {
   "cell_type": "code",
   "execution_count": 67,
   "id": "9dd465aa",
   "metadata": {},
   "outputs": [
    {
     "data": {
      "text/plain": [
       "2"
      ]
     },
     "execution_count": 67,
     "metadata": {},
     "output_type": "execute_result"
    }
   ],
   "source": [
    "a = [1, 2, 3, 1]\n",
    "a.count(1)"
   ]
  },
  {
   "cell_type": "markdown",
   "id": "37964ccf",
   "metadata": {},
   "source": [
    "- 1이라는 값이 리스트 a에 2개 들어 있으므로 2를 리턴한다.\n",
    "\n"
   ]
  },
  {
   "cell_type": "markdown",
   "id": "9d047fe5",
   "metadata": {},
   "source": [
    "**리스트 확장 - extend**\n",
    "- extend(x)에서 x에는 리스트만 올 수 있으며 원래의 a 리스트에 x 리스트를 더하게 된다.\n",
    "\n"
   ]
  },
  {
   "cell_type": "code",
   "execution_count": 71,
   "id": "9a847142",
   "metadata": {},
   "outputs": [
    {
     "data": {
      "text/plain": [
       "[1, 2, 3, [4, 5]]"
      ]
     },
     "execution_count": 71,
     "metadata": {},
     "output_type": "execute_result"
    }
   ],
   "source": [
    "a = [1, 2, 3]\n",
    "a.append([4, 5])\n",
    "a"
   ]
  },
  {
   "cell_type": "code",
   "execution_count": 72,
   "id": "04138cb9",
   "metadata": {},
   "outputs": [
    {
     "data": {
      "text/plain": [
       "[1, 2, 3, 4, 5]"
      ]
     },
     "execution_count": 72,
     "metadata": {},
     "output_type": "execute_result"
    }
   ],
   "source": [
    "a = [1, 2, 3]\n",
    "a.extend([4, 5])\n",
    "a"
   ]
  },
  {
   "cell_type": "code",
   "execution_count": 73,
   "id": "ec2c2536",
   "metadata": {},
   "outputs": [
    {
     "data": {
      "text/plain": [
       "[1, 2, 3, 4, 5, 6, 7]"
      ]
     },
     "execution_count": 73,
     "metadata": {},
     "output_type": "execute_result"
    }
   ],
   "source": [
    "b = [6, 7]\n",
    "a.extend(b)\n",
    "a"
   ]
  },
  {
   "cell_type": "code",
   "execution_count": 90,
   "id": "545c41ff",
   "metadata": {},
   "outputs": [
    {
     "data": {
      "text/plain": [
       "[1, 2, 3, 4, 5]"
      ]
     },
     "execution_count": 90,
     "metadata": {},
     "output_type": "execute_result"
    }
   ],
   "source": [
    "a = [1, 2, 3]\n",
    "# a = a + [4, 5]\n",
    "a += [4, 5]\n",
    "a"
   ]
  },
  {
   "cell_type": "code",
   "execution_count": 88,
   "id": "fb315689",
   "metadata": {},
   "outputs": [
    {
     "data": {
      "text/plain": [
       "[1, 2, 3, 4, 5]"
      ]
     },
     "execution_count": 88,
     "metadata": {},
     "output_type": "execute_result"
    }
   ],
   "source": [
    "a"
   ]
  },
  {
   "cell_type": "markdown",
   "id": "7cc9ad37",
   "metadata": {},
   "source": [
    "- a.extend([4, 5])는 a += [4, 5]와 동일하다.\n",
    "\n",
    "> a += [4, 5]는 a = a + [4, 5]와 동일한 표현식이다.\n",
    "\n"
   ]
  },
  {
   "cell_type": "markdown",
   "id": "70165e45",
   "metadata": {},
   "source": [
    "**문제**"
   ]
  },
  {
   "cell_type": "markdown",
   "id": "7b7c5e10",
   "metadata": {},
   "source": [
    "- 리스트 [\"apple\", \"banana\", \"grape\"]를 생성하고, 세 번째 요소를 인덱싱하여 출력하세요."
   ]
  },
  {
   "cell_type": "code",
   "execution_count": 91,
   "id": "a50e7fa6",
   "metadata": {},
   "outputs": [
    {
     "data": {
      "text/plain": [
       "'grape'"
      ]
     },
     "execution_count": 91,
     "metadata": {},
     "output_type": "execute_result"
    }
   ],
   "source": [
    "a =  [\"apple\", \"banana\", \"grape\"]\n",
    "a[2]"
   ]
  },
  {
   "cell_type": "markdown",
   "id": "38a4942f",
   "metadata": {},
   "source": [
    "- 리스트 [1, 2, 3, 4, 5]를 생성하고, 두 번째부터 네 번째까지의 요소를 슬라이싱하여 출력하세요."
   ]
  },
  {
   "cell_type": "code",
   "execution_count": 93,
   "id": "d9c09bc0",
   "metadata": {},
   "outputs": [
    {
     "data": {
      "text/plain": [
       "[2, 3, 4]"
      ]
     },
     "execution_count": 93,
     "metadata": {},
     "output_type": "execute_result"
    }
   ],
   "source": [
    "a = [1, 2, 3, 4, 5]\n",
    "a[1:4]"
   ]
  },
  {
   "cell_type": "markdown",
   "id": "66511eb2",
   "metadata": {},
   "source": [
    "- 리스트 [\"apple\", \"banana\", \"grape\"]에 \"orange\"를 추가하세요."
   ]
  },
  {
   "cell_type": "code",
   "execution_count": 94,
   "id": "2e02e39d",
   "metadata": {},
   "outputs": [
    {
     "data": {
      "text/plain": [
       "['apple', 'banana', 'grape', 'orange']"
      ]
     },
     "execution_count": 94,
     "metadata": {},
     "output_type": "execute_result"
    }
   ],
   "source": [
    "a = [\"apple\", \"banana\", \"grape\"]\n",
    "a.append( \"orange\")\n",
    "a"
   ]
  },
  {
   "cell_type": "markdown",
   "id": "f53c3210",
   "metadata": {},
   "source": [
    "- 리스트 [1, 2, 3, 4, 5]에서 세 번째 요소를 10으로 수정하세요."
   ]
  },
  {
   "cell_type": "code",
   "execution_count": 95,
   "id": "519ba1ff",
   "metadata": {},
   "outputs": [
    {
     "data": {
      "text/plain": [
       "[1, 2, 10, 4, 5]"
      ]
     },
     "execution_count": 95,
     "metadata": {},
     "output_type": "execute_result"
    }
   ],
   "source": [
    "a =  [1, 2, 3, 4, 5]\n",
    "a[2] =10\n",
    "a"
   ]
  },
  {
   "cell_type": "markdown",
   "id": "cac01ff6",
   "metadata": {},
   "source": [
    "- 리스트 [1, 2, 3, 4, 5]에서 네 번째 요소를 삭제하세요."
   ]
  },
  {
   "cell_type": "code",
   "execution_count": 96,
   "id": "afdf7be3",
   "metadata": {},
   "outputs": [
    {
     "data": {
      "text/plain": [
       "[1, 2, 3, 5]"
      ]
     },
     "execution_count": 96,
     "metadata": {},
     "output_type": "execute_result"
    }
   ],
   "source": [
    "a = [1, 2, 3, 4, 5]\n",
    "del a[3]\n",
    "a"
   ]
  },
  {
   "cell_type": "markdown",
   "id": "b4f53d9d",
   "metadata": {},
   "source": [
    "- 정수로 이루어진 리스트 [3, 1, 4, 2, 5]를 생성하고, 이를 오름차순으로 정렬한 결과를 출력하세요."
   ]
  },
  {
   "cell_type": "code",
   "execution_count": 99,
   "id": "644a1f01",
   "metadata": {},
   "outputs": [
    {
     "data": {
      "text/plain": [
       "[5, 4, 3, 2, 1]"
      ]
     },
     "execution_count": 99,
     "metadata": {},
     "output_type": "execute_result"
    }
   ],
   "source": [
    "a = [3, 1, 4, 2, 5]\n",
    "a.sort(reverse=True)\n",
    "a"
   ]
  },
  {
   "cell_type": "markdown",
   "id": "ef8a8e94",
   "metadata": {},
   "source": [
    "- 문자열로 이루어진 리스트 [\"apple\", \"banana\", \"grape\"]를 생성하고, 이를 역순으로 뒤집은 결과를 출력하세요."
   ]
  },
  {
   "cell_type": "code",
   "execution_count": 100,
   "id": "f757d3b2",
   "metadata": {},
   "outputs": [
    {
     "data": {
      "text/plain": [
       "['grape', 'banana', 'apple']"
      ]
     },
     "execution_count": 100,
     "metadata": {},
     "output_type": "execute_result"
    }
   ],
   "source": [
    "a =  [\"apple\", \"banana\", \"grape\"]\n",
    "a.reverse()\n",
    "a"
   ]
  },
  {
   "cell_type": "markdown",
   "id": "dc55a253",
   "metadata": {},
   "source": [
    "- 정수로 이루어진 리스트 [1, 2, 3, 4, 5]에서 값이 3인 요소의 인덱스를 찾아 출력하세요.\n"
   ]
  },
  {
   "cell_type": "code",
   "execution_count": 101,
   "id": "a4762fcd",
   "metadata": {},
   "outputs": [
    {
     "data": {
      "text/plain": [
       "2"
      ]
     },
     "execution_count": 101,
     "metadata": {},
     "output_type": "execute_result"
    }
   ],
   "source": [
    "a = [1, 2, 3, 4, 5]\n",
    "a.index(3)"
   ]
  },
  {
   "cell_type": "markdown",
   "id": "d8f6094b",
   "metadata": {},
   "source": [
    "- 정수로 이루어진 리스트 [1, 2, 3, 5]에 값이 4인 요소를 숫자의 순서에 맞게 삽입하여 결과를 출력하세요.\n"
   ]
  },
  {
   "cell_type": "code",
   "execution_count": 102,
   "id": "bc2fcb68",
   "metadata": {},
   "outputs": [
    {
     "data": {
      "text/plain": [
       "[1, 2, 3, 4, 5]"
      ]
     },
     "execution_count": 102,
     "metadata": {},
     "output_type": "execute_result"
    }
   ],
   "source": [
    "a = [1, 2, 3, 5]\n",
    "a.insert(3 , 4)\n",
    "a"
   ]
  },
  {
   "cell_type": "markdown",
   "id": "82bb2865",
   "metadata": {},
   "source": [
    "- 정수로 이루어진 리스트 [1, 2, 3, 4, 5]에서 값이 3인 요소를 제거하여 결과를 출력하세요.\n"
   ]
  },
  {
   "cell_type": "code",
   "execution_count": 103,
   "id": "c24a88dc",
   "metadata": {},
   "outputs": [
    {
     "data": {
      "text/plain": [
       "[1, 2, 4, 5]"
      ]
     },
     "execution_count": 103,
     "metadata": {},
     "output_type": "execute_result"
    }
   ],
   "source": [
    "a = [1, 2, 3, 4, 5]\n",
    "a.remove(3)\n",
    "a"
   ]
  },
  {
   "cell_type": "markdown",
   "id": "33265a3f",
   "metadata": {},
   "source": [
    "- 정수로 이루어진 리스트 [1, 2, 3, 4, 5]에서 세 번째 요소를 제거하고 반환한 후, 결과를 출력하세요.\n"
   ]
  },
  {
   "cell_type": "code",
   "execution_count": 104,
   "id": "3ec3f482",
   "metadata": {},
   "outputs": [
    {
     "data": {
      "text/plain": [
       "[1, 2, 4, 5]"
      ]
     },
     "execution_count": 104,
     "metadata": {},
     "output_type": "execute_result"
    }
   ],
   "source": [
    "a =  [1, 2, 3, 4, 5]\n",
    "del a[2]\n",
    "a"
   ]
  },
  {
   "cell_type": "markdown",
   "id": "c0acde75",
   "metadata": {},
   "source": [
    "- 정수로 이루어진 리스트 [1, 2, 2, 3, 2, 4, 2, 5]에서 값이 2인 요소의 개수를 계산하여 출력하세요.\n"
   ]
  },
  {
   "cell_type": "code",
   "execution_count": 105,
   "id": "a552a3dd",
   "metadata": {},
   "outputs": [
    {
     "data": {
      "text/plain": [
       "4"
      ]
     },
     "execution_count": 105,
     "metadata": {},
     "output_type": "execute_result"
    }
   ],
   "source": [
    "a = [1, 2, 2, 3, 2, 4, 2, 5]\n",
    "a.count(2)"
   ]
  },
  {
   "cell_type": "markdown",
   "id": "f857640e",
   "metadata": {},
   "source": [
    "- 리스트 [1, 2, 3]과 [4, 5, 6]을 합쳐서 출력하세요."
   ]
  },
  {
   "cell_type": "code",
   "execution_count": 106,
   "id": "ba776f44",
   "metadata": {},
   "outputs": [
    {
     "data": {
      "text/plain": [
       "[1, 2, 3, 4, 5, 6]"
      ]
     },
     "execution_count": 106,
     "metadata": {},
     "output_type": "execute_result"
    }
   ],
   "source": [
    "[1, 2, 3] + [4, 5, 6]"
   ]
  },
  {
   "cell_type": "markdown",
   "id": "3cbaeea5",
   "metadata": {},
   "source": [
    "# 튜플 자료형\n",
    "\n",
    "- 튜플(tuple)은 몇 가지 점을 제외하곤 리스트와 거의 비슷하며 리스트와 다른 점은 다음과 같다.\n",
    "    - 리스트는 [], 튜플은 ()으로 둘러싼다.\n",
    "    - 리스트는 요솟값의 생성, 삭제, 수정이 가능하지만, 튜플은 요솟값을 바꿀 수 없다."
   ]
  },
  {
   "cell_type": "markdown",
   "id": "582a3e12",
   "metadata": {},
   "source": [
    "## 튜플은 어떻게 만들까?\n",
    "- 튜플은 다음과 같이 여러 가지 모습으로 생성할 수 있다."
   ]
  },
  {
   "cell_type": "code",
   "execution_count": 107,
   "id": "f10cc2ca",
   "metadata": {},
   "outputs": [],
   "source": [
    "t1 = ()\n",
    "t2 = (1,)\n",
    "t3 = (1, 2, 3)\n",
    "t4 = 1, 2, 3\n",
    "t5 = ('a', 'b', ('ab', 'cd'))"
   ]
  },
  {
   "cell_type": "markdown",
   "id": "4a7d0029",
   "metadata": {},
   "source": [
    "- 모습은 리스트와 거의 비슷하지만, 튜플에서는 리스트와 다른 2가지 차이점을 찾아볼 수 있다. t2 = (1,)처럼 단지 1개의 요소만을 가질 때는 요소 뒤에 쉼표(,)를 반드시 붙여야 한다는 것과 t4 = 1, 2, 3처럼 소괄호(())를 생략해도 된다는 점이다.\n",
    "\n",
    "- 얼핏 보면 튜플과 리스트는 비슷한 역할을 하지만, 프로그래밍을 할 때 튜플과 리스트는 구별해서 사용하는 것이 유리하다. 튜플과 리스트의 가장 큰 차이는 요솟값을 변화시킬 수 있는지의 여부이다. 즉, 리스트의 요솟값은 변화가 가능하고 튜플의 요솟값은 변화가 불가능하다. 따라서 프로그램이 실행되는 동안 요솟값이 항상 변하지 않기를 바란다거나 값이 바뀔까 걱정하고 싶지 않다면 주저하지 말고 튜플을 사용해야 한다. 이와 반대로 수시로 그 값을 변화시켜야할 경우라면 리스트를 사용해야 한다. 실제 프로그램에서는 값이 변경되는 형태의 변수가 훨씬 많기 때문에 평균적으로 튜플보다 리스트를 더 많이 사용한다."
   ]
  },
  {
   "cell_type": "markdown",
   "id": "e1764249",
   "metadata": {},
   "source": [
    "## 튜플의 요솟값을 지우거나 변경하려고 하면 어떻게 될까?\n",
    "- 앞에서 설명했듯이 튜플의 요솟값은 한 번 정하면 지우거나 변경할 수 없다. 다음에 소개하는 두 예를 살펴보면 무슨 말인지 알 수 있을 것이다."
   ]
  },
  {
   "cell_type": "markdown",
   "id": "c7672553",
   "metadata": {},
   "source": [
    "### 1. 튜플 요솟값을 삭제하려 할 때"
   ]
  },
  {
   "cell_type": "code",
   "execution_count": 113,
   "id": "acf157f6",
   "metadata": {},
   "outputs": [
    {
     "ename": "TypeError",
     "evalue": "'tuple' object doesn't support item deletion",
     "output_type": "error",
     "traceback": [
      "\u001b[0;31m---------------------------------------------------------------------------\u001b[0m",
      "\u001b[0;31mTypeError\u001b[0m                                 Traceback (most recent call last)",
      "Cell \u001b[0;32mIn[113], line 2\u001b[0m\n\u001b[1;32m      1\u001b[0m t1 \u001b[38;5;241m=\u001b[39m (\u001b[38;5;241m1\u001b[39m, \u001b[38;5;241m2\u001b[39m, \u001b[38;5;124m'\u001b[39m\u001b[38;5;124ma\u001b[39m\u001b[38;5;124m'\u001b[39m, \u001b[38;5;124m'\u001b[39m\u001b[38;5;124mb\u001b[39m\u001b[38;5;124m'\u001b[39m)\n\u001b[0;32m----> 2\u001b[0m \u001b[38;5;28;01mdel\u001b[39;00m t1[\u001b[38;5;241m0\u001b[39m]\n",
      "\u001b[0;31mTypeError\u001b[0m: 'tuple' object doesn't support item deletion"
     ]
    }
   ],
   "source": [
    "t1 = (1, 2, 'a', 'b')\n",
    "del t1[0]"
   ]
  },
  {
   "cell_type": "markdown",
   "id": "5166988e",
   "metadata": {},
   "source": [
    "- 튜플의 요소를 리스트처럼 del 함수로 지우려고 한 예이다. 튜플은 요솟값을 지울 수 없다는 오류 메시지를 확인할 수 있다.\n",
    "\n"
   ]
  },
  {
   "cell_type": "markdown",
   "id": "8eb6ec39",
   "metadata": {},
   "source": [
    "### 2. 튜플 요솟값을 변경하려 할 때\n"
   ]
  },
  {
   "cell_type": "code",
   "execution_count": 3,
   "id": "92c83718",
   "metadata": {},
   "outputs": [
    {
     "ename": "TypeError",
     "evalue": "'tuple' object does not support item assignment",
     "output_type": "error",
     "traceback": [
      "\u001b[0;31m---------------------------------------------------------------------------\u001b[0m",
      "\u001b[0;31mTypeError\u001b[0m                                 Traceback (most recent call last)",
      "Cell \u001b[0;32mIn[3], line 2\u001b[0m\n\u001b[1;32m      1\u001b[0m t1 \u001b[38;5;241m=\u001b[39m (\u001b[38;5;241m1\u001b[39m, \u001b[38;5;241m2\u001b[39m, \u001b[38;5;124m'\u001b[39m\u001b[38;5;124ma\u001b[39m\u001b[38;5;124m'\u001b[39m, \u001b[38;5;124m'\u001b[39m\u001b[38;5;124mb\u001b[39m\u001b[38;5;124m'\u001b[39m)\n\u001b[0;32m----> 2\u001b[0m t1[\u001b[38;5;241m0\u001b[39m] \u001b[38;5;241m=\u001b[39m \u001b[38;5;124m'\u001b[39m\u001b[38;5;124mc\u001b[39m\u001b[38;5;124m'\u001b[39m\n",
      "\u001b[0;31mTypeError\u001b[0m: 'tuple' object does not support item assignment"
     ]
    }
   ],
   "source": [
    "t1 = (1, 2, 'a', 'b')\n",
    "t1[0] = 'c'"
   ]
  },
  {
   "cell_type": "markdown",
   "id": "c394a7f8",
   "metadata": {},
   "source": [
    "- 튜플의 요솟값을 변경하려고 해도 오류가 발생하는 것을 확인할 수 있다.\n"
   ]
  },
  {
   "cell_type": "markdown",
   "id": "0ffda8a1",
   "metadata": {},
   "source": [
    "## 튜플 다루기\n",
    "- 튜플은 요솟값을 변화시킬 수 없다는 점만 제외하면 리스트와 완전히 동일하므로 간단하게만 살펴보자. 다음 예제는 서로 연관되어 있으므로 차례대로 수행해 보기 바란다.\n",
    "\n"
   ]
  },
  {
   "cell_type": "markdown",
   "id": "66720bc1",
   "metadata": {},
   "source": [
    "### 인덱싱하기\n"
   ]
  },
  {
   "cell_type": "code",
   "execution_count": 115,
   "id": "1a93e86c",
   "metadata": {},
   "outputs": [
    {
     "data": {
      "text/plain": [
       "1"
      ]
     },
     "execution_count": 115,
     "metadata": {},
     "output_type": "execute_result"
    }
   ],
   "source": [
    "t1 = (1, 2, 'a', 'b')\n",
    "t1[0]"
   ]
  },
  {
   "cell_type": "code",
   "execution_count": 116,
   "id": "a8381960",
   "metadata": {},
   "outputs": [
    {
     "data": {
      "text/plain": [
       "'b'"
      ]
     },
     "execution_count": 116,
     "metadata": {},
     "output_type": "execute_result"
    }
   ],
   "source": [
    "t1[3]"
   ]
  },
  {
   "cell_type": "markdown",
   "id": "2272f7ae",
   "metadata": {},
   "source": [
    "- 문자열, 리스트와 마찬가지로 t1[0], t1[3]처럼 인덱싱이 가능하다."
   ]
  },
  {
   "cell_type": "markdown",
   "id": "91bf4cfa",
   "metadata": {},
   "source": [
    "### 슬라이싱하기\n"
   ]
  },
  {
   "cell_type": "code",
   "execution_count": 117,
   "id": "524e17c4",
   "metadata": {},
   "outputs": [
    {
     "data": {
      "text/plain": [
       "(2, 'a', 'b')"
      ]
     },
     "execution_count": 117,
     "metadata": {},
     "output_type": "execute_result"
    }
   ],
   "source": [
    "t1 = (1, 2, 'a', 'b')\n",
    "t1[1:]"
   ]
  },
  {
   "cell_type": "markdown",
   "id": "4b4bb307",
   "metadata": {},
   "source": [
    "- t1[1]부터 튜플의 마지막 요소까지 슬라이싱하는 예이다.\n",
    "\n"
   ]
  },
  {
   "cell_type": "markdown",
   "id": "3a43e473",
   "metadata": {},
   "source": [
    "### 튜플 더하기\n"
   ]
  },
  {
   "cell_type": "code",
   "execution_count": 118,
   "id": "6e800e77",
   "metadata": {},
   "outputs": [
    {
     "data": {
      "text/plain": [
       "(1, 2, 'a', 'b', 3, 4)"
      ]
     },
     "execution_count": 118,
     "metadata": {},
     "output_type": "execute_result"
    }
   ],
   "source": [
    "t1 = (1, 2, 'a', 'b')\n",
    "t2 = (3, 4)\n",
    "t3 = t1 + t2\n",
    "t3"
   ]
  },
  {
   "cell_type": "markdown",
   "id": "eeeaf879",
   "metadata": {},
   "source": [
    "- 튜플을 더하는 방법을 보여 주는 예이다. 이때도 t1, t2 튜플의 요솟값이 바뀌는 것은 아니다. 다만, t1, t2 튜플을 더하여 새로운 튜플 t3를 생성한 것이다.\n",
    "\n"
   ]
  },
  {
   "cell_type": "markdown",
   "id": "60013a64",
   "metadata": {},
   "source": [
    "### 튜플 곱하기\n"
   ]
  },
  {
   "cell_type": "code",
   "execution_count": 119,
   "id": "5c652828",
   "metadata": {},
   "outputs": [
    {
     "data": {
      "text/plain": [
       "(3, 4, 3, 4, 3, 4)"
      ]
     },
     "execution_count": 119,
     "metadata": {},
     "output_type": "execute_result"
    }
   ],
   "source": [
    "t2 = (3, 4)\n",
    "t3 = t2 * 3\n",
    "t3"
   ]
  },
  {
   "cell_type": "markdown",
   "id": "e972de4e",
   "metadata": {},
   "source": [
    "- 튜플의 곱하기(반복) 예를 보여 준다.\n",
    "\n"
   ]
  },
  {
   "cell_type": "markdown",
   "id": "9e000df0",
   "metadata": {},
   "source": [
    "### 튜플 길이 구하기\n"
   ]
  },
  {
   "cell_type": "code",
   "execution_count": 120,
   "id": "edcf1d90",
   "metadata": {},
   "outputs": [
    {
     "data": {
      "text/plain": [
       "4"
      ]
     },
     "execution_count": 120,
     "metadata": {},
     "output_type": "execute_result"
    }
   ],
   "source": [
    "t1 = (1, 2, 'a', 'b')\n",
    "len(t1)"
   ]
  },
  {
   "cell_type": "markdown",
   "id": "fe3451d4",
   "metadata": {},
   "source": [
    "- 튜플의 길이를 구하는 예이다.\n",
    "\n",
    "> 튜플은 요솟값을 변경할수 없기 때문에 sort, insert, remove, pop과 같은 내장 함수가 없다.\n",
    "\n"
   ]
  },
  {
   "cell_type": "markdown",
   "id": "b071405e",
   "metadata": {},
   "source": [
    "**문제**\n",
    "- (1, 2, 3)이라는 튜플에 값 4를 추가하여 (1, 2, 3, 4) 라는 새로운 튜플을 만들어 보자"
   ]
  },
  {
   "cell_type": "code",
   "execution_count": null,
   "id": "af869caa",
   "metadata": {},
   "outputs": [],
   "source": []
  },
  {
   "cell_type": "markdown",
   "id": "e5eea2ef",
   "metadata": {},
   "source": [
    "# 딕셔너리 자료형\n",
    "\n",
    "- 사람은 누구든지 \"이름\" = \"홍길동\", \"생일\" = \"몇 월 며칠\" 등과 같은 방식으로 그 사람이 가진 정보를 나타낼 수 있다. 파이썬은 영리하게도 이러한 대응 관계를 나타낼 수 있는 딕셔너리(dictionary) 자료형을 가지고 있다. 이번에는 이 자료형에 대해 알아보자.\n",
    "\n",
    "> 요즘 사용하는 대부분의 언어도 이러한 대응 관계를 나타내는 자료형을 가지고 있는데 이를 딕셔너리라고 하고, ‘연관 배열(associative array)’또는 ‘해시(hash)’라고도 한다.\n",
    "\n"
   ]
  },
  {
   "cell_type": "markdown",
   "id": "69b2d7f8",
   "metadata": {},
   "source": [
    "## 딕셔너리란?\n",
    "- 딕셔너리는 단어 그대로 ‘사전’이라는 뜻이다. 즉 \"people\"이라는 단어에 \"사람\", \"baseball\"이라는 단어에 \"야구\"라는 뜻이 부합되듯이 딕셔너리는 Key와 Value를 한 쌍으로 가지는 자료형이다. 예컨대 Key가 \"baseball\"이라면 Value는 \"야구\"가 될 것이다.\n",
    "\n",
    "<img src=\"https://wikidocs.net/images/page/16/02_5_baseball.png\">\n",
    "\n",
    "- 딕셔너리는 리스트나 튜플처럼 순차적으로(sequential) 해당 요솟값을 구하지 않고 Key를 통해 Value를 얻는다. 이것이 바로 딕셔너리의 가장 큰 특징이다. baseball이라는 단어의 뜻을 찾기 위해 사전의 내용을 순차적으로 모두 검색하는 것이 아니라 baseball이라는 단어가 있는 곳만 펼쳐 보는 것이다.\n",
    "\n"
   ]
  },
  {
   "cell_type": "markdown",
   "id": "e5dae400",
   "metadata": {},
   "source": [
    "## 딕셔너리는 어떻게 만들까?\n",
    "- 다음은 딕셔너리의 기본 모습이다.\n",
    "\n",
    "```python\n",
    "{Key1: Value1, Key2: Value2, Key3: Value3, ...}\n",
    "```\n",
    "\n",
    "- Key와 Value의 쌍 여러 개가 {}로 둘러싸여 있다. 각각의 요소는 Key: Value 형태로 이루어져 있고 쉼표(,)로 구분되어 있다.\n",
    "\n",
    "- 다음 딕셔너리의 예를 살펴보자.\n",
    "\n"
   ]
  },
  {
   "cell_type": "code",
   "execution_count": 129,
   "id": "ae911ece",
   "metadata": {},
   "outputs": [],
   "source": [
    "dic = {'name': 'pey', 'phone': '010-9999-1234', 'birth': '1118'}"
   ]
  },
  {
   "cell_type": "code",
   "execution_count": 130,
   "id": "24eb525b",
   "metadata": {},
   "outputs": [
    {
     "data": {
      "text/plain": [
       "{'name': 'pey', 'phone': '010-9999-1234', 'birth': '1118'}"
      ]
     },
     "execution_count": 130,
     "metadata": {},
     "output_type": "execute_result"
    }
   ],
   "source": [
    "dic"
   ]
  },
  {
   "cell_type": "markdown",
   "id": "f5161736",
   "metadata": {},
   "source": [
    "- 위에서 Key는 각각 'name', 'phone', 'birth', 각각의 Key에 해당하는 Value는 'pey', '010-9999-1234', '1118'이 된다.\n",
    "\n",
    "- 딕셔너리 dic의 정보\n",
    "\n",
    "|  key  |   value     |\n",
    "|-------|-------------|\n",
    "| name  |   pey       |\n",
    "| phone | 010-9999-1234 |\n",
    "| birth |   1118      |\n",
    "\n",
    "\n",
    "- 다음은 Key로 정숫값 1, Value로 문자열 'hi'를 사용한 예이다.\n",
    "\n"
   ]
  },
  {
   "cell_type": "code",
   "execution_count": 134,
   "id": "b9e7fd83",
   "metadata": {},
   "outputs": [],
   "source": [
    "a = {1: 'hi'}"
   ]
  },
  {
   "cell_type": "code",
   "execution_count": 136,
   "id": "4821072f",
   "metadata": {},
   "outputs": [
    {
     "data": {
      "text/plain": [
       "{1: 'hi'}"
      ]
     },
     "execution_count": 136,
     "metadata": {},
     "output_type": "execute_result"
    }
   ],
   "source": [
    "a"
   ]
  },
  {
   "cell_type": "markdown",
   "id": "f2cc537f",
   "metadata": {},
   "source": [
    "- 또한 다음 예처럼 Value에 리스트도 넣을 수 있다.\n",
    "\n"
   ]
  },
  {
   "cell_type": "code",
   "execution_count": 127,
   "id": "34a862ec",
   "metadata": {},
   "outputs": [],
   "source": [
    "a = {'a': [1, 2, 3]}"
   ]
  },
  {
   "cell_type": "code",
   "execution_count": 128,
   "id": "808cb489",
   "metadata": {},
   "outputs": [
    {
     "data": {
      "text/plain": [
       "{'a': [1, 2, 3]}"
      ]
     },
     "execution_count": 128,
     "metadata": {},
     "output_type": "execute_result"
    }
   ],
   "source": [
    "a"
   ]
  },
  {
   "cell_type": "markdown",
   "id": "596454f4",
   "metadata": {},
   "source": [
    "## 딕셔너리 쌍 추가, 삭제하기\n",
    "- 딕셔너리 쌍을 추가 또는 삭제하는 방법을 살펴보자. 먼저 딕셔너리에 쌍을 추가해 보자.\n",
    "\n",
    "### 딕셔너리 쌍 추가하기\n"
   ]
  },
  {
   "cell_type": "code",
   "execution_count": 141,
   "id": "1370186f",
   "metadata": {},
   "outputs": [
    {
     "data": {
      "text/plain": [
       "{1: 'a', 2: 'b'}"
      ]
     },
     "execution_count": 141,
     "metadata": {},
     "output_type": "execute_result"
    }
   ],
   "source": [
    "a = {1: 'a'}\n",
    "a[2] = 'b'\n",
    "a"
   ]
  },
  {
   "cell_type": "markdown",
   "id": "de4de991",
   "metadata": {},
   "source": [
    "- {1: 'a'} 딕셔너리에 a[2] = 'b'와 같이 입력하면 딕셔너리 a에 Key와 Value가 각각 2와 'b'인 {2: 'b'} 딕셔너리 쌍이 추가된다.\n",
    "\n"
   ]
  },
  {
   "cell_type": "code",
   "execution_count": 142,
   "id": "89c20713",
   "metadata": {},
   "outputs": [
    {
     "data": {
      "text/plain": [
       "{1: 'a', 2: 'b', 'name': 'pey'}"
      ]
     },
     "execution_count": 142,
     "metadata": {},
     "output_type": "execute_result"
    }
   ],
   "source": [
    "a['name'] = 'pey'\n",
    "a"
   ]
  },
  {
   "cell_type": "markdown",
   "id": "4cde3ba7",
   "metadata": {},
   "source": [
    "- 딕셔너리 a에 {'name': 'pey'} 쌍이 추가되었다.\n",
    "\n"
   ]
  },
  {
   "cell_type": "code",
   "execution_count": 143,
   "id": "5a2df664",
   "metadata": {},
   "outputs": [
    {
     "data": {
      "text/plain": [
       "{1: 'a', 2: 'b', 'name': 'pey', 3: [1, 2, 3]}"
      ]
     },
     "execution_count": 143,
     "metadata": {},
     "output_type": "execute_result"
    }
   ],
   "source": [
    "a[3] = [1, 2, 3]\n",
    "a"
   ]
  },
  {
   "cell_type": "markdown",
   "id": "5924e52f",
   "metadata": {},
   "source": [
    "- Key는 3, Value는 [1, 2, 3]을 가지는 한 쌍이 또 추가되었다.\n",
    "\n"
   ]
  },
  {
   "cell_type": "markdown",
   "id": "875de575",
   "metadata": {},
   "source": [
    "### 딕셔너리 요소 삭제하기\n"
   ]
  },
  {
   "cell_type": "code",
   "execution_count": 144,
   "id": "95df6834",
   "metadata": {},
   "outputs": [
    {
     "data": {
      "text/plain": [
       "{2: 'b', 'name': 'pey', 3: [1, 2, 3]}"
      ]
     },
     "execution_count": 144,
     "metadata": {},
     "output_type": "execute_result"
    }
   ],
   "source": [
    "del a[1]\n",
    "a"
   ]
  },
  {
   "cell_type": "markdown",
   "id": "0f929c8a",
   "metadata": {},
   "source": [
    "- 위 예제는 딕셔너리 요소를 지우는 방법을 보여 준다. del 함수를 사용해서 del a[key]를 입력하면 지정한 Key에 해당하는 {Key: Value} 쌍이 삭제된다.\n",
    "\n"
   ]
  },
  {
   "cell_type": "markdown",
   "id": "b92bc0d6",
   "metadata": {},
   "source": [
    "## 딕셔너리를 사용하는 방법\n"
   ]
  },
  {
   "cell_type": "markdown",
   "id": "1aa44cb8",
   "metadata": {},
   "source": [
    "- ‘딕셔너리는 주로 어떤 것을 표현하는 데 사용할까?’라는 의문이 들 것이다. 예를 들어 4명의 사람이 있다고 가정하고 각자의 특기를 표현할 수 있는 좋은 방법에 대해서 생각해 보자. 리스트나 문자열로는 표현하기가 매우 까다로울 것이다. 하지만 파이썬의 딕셔너리를 사용하면 이 상황을 표현하기가 정말 쉽다.\n",
    "\n",
    "- 다음 예를 살펴보자.\n",
    "\n",
    "```python\n",
    "\n",
    "{\"김연아\": \"피겨스케이팅\", \"류현진\": \"야구\", \"손흥민\": \"축구\", \"귀도\": \"파이썬\"}\n",
    "\n",
    "```\n",
    "\n",
    "- 사람 이름과 특기를 한 쌍으로 묶은 딕셔너리이다. 정말 간편하지 않은가?\n",
    "\n",
    "- 지금껏 우리는 딕셔너리를 만드는 방법만 살펴보았는데, 딕셔너리를 제대로 활용하기 위해 알아야 할 것이 더 있다. 지금부터 하나씩 알아보자.\n",
    "\n"
   ]
  },
  {
   "cell_type": "code",
   "execution_count": 148,
   "id": "5512a3db",
   "metadata": {},
   "outputs": [
    {
     "data": {
      "text/plain": [
       "'파이썬'"
      ]
     },
     "execution_count": 148,
     "metadata": {},
     "output_type": "execute_result"
    }
   ],
   "source": [
    "a = {\"김연아\": \"피겨스케이팅\", \"류현진\": \"야구\", \"손흥민\": \"축구\", \"귀도\": \"파이썬\"}\n",
    "a['귀도']"
   ]
  },
  {
   "cell_type": "markdown",
   "id": "38258b47",
   "metadata": {},
   "source": [
    "### 딕셔너리에서 Key를 사용해 Value 얻기\n"
   ]
  },
  {
   "cell_type": "code",
   "execution_count": 149,
   "id": "297e7793",
   "metadata": {},
   "outputs": [
    {
     "data": {
      "text/plain": [
       "10"
      ]
     },
     "execution_count": 149,
     "metadata": {},
     "output_type": "execute_result"
    }
   ],
   "source": [
    "grade = {'pey': 10, 'julliet': 99}\n",
    "grade['pey']"
   ]
  },
  {
   "cell_type": "code",
   "execution_count": 150,
   "id": "9be732e3",
   "metadata": {},
   "outputs": [
    {
     "data": {
      "text/plain": [
       "99"
      ]
     },
     "execution_count": 150,
     "metadata": {},
     "output_type": "execute_result"
    }
   ],
   "source": [
    "grade['julliet']"
   ]
  },
  {
   "cell_type": "markdown",
   "id": "93af274c",
   "metadata": {},
   "source": [
    "- 리스트나 튜플, 문자열은 요솟값을 얻고자 할 때 인덱싱이나 슬라이싱 기법 중 하나를 사용했다. 하지만 딕셔너리는 단 1가지 방법뿐이다. 그것은 바로 Key를 사용해서 Value를 구하는 방법이다. 위 예에서 'pey'라는 Key의 Value를 얻기 위해 grade['pey']를 사용한 것처럼 어떤 Key의 Value를 얻기 위해서는 '딕셔너리_변수_이름[Key]'를 사용해야 한다.\n",
    "\n",
    "- 몇 가지 예를 더 살펴보자.\n",
    "\n"
   ]
  },
  {
   "cell_type": "code",
   "execution_count": 151,
   "id": "e3f99cf2",
   "metadata": {},
   "outputs": [
    {
     "data": {
      "text/plain": [
       "'a'"
      ]
     },
     "execution_count": 151,
     "metadata": {},
     "output_type": "execute_result"
    }
   ],
   "source": [
    "a = {1:'a', 2:'b'}\n",
    "a[1]"
   ]
  },
  {
   "cell_type": "code",
   "execution_count": 152,
   "id": "30d0ee31",
   "metadata": {},
   "outputs": [
    {
     "data": {
      "text/plain": [
       "'b'"
      ]
     },
     "execution_count": 152,
     "metadata": {},
     "output_type": "execute_result"
    }
   ],
   "source": [
    "a[2]"
   ]
  },
  {
   "cell_type": "markdown",
   "id": "1e062d9b",
   "metadata": {},
   "source": [
    "- 먼저 a 변수에 {1: 'a', 2: 'b'} 딕셔너리를 대입하였다. 위 예에서 볼 수 있듯이 a[1]은 'a' 값을 리턴한다. 여기에서 a[1]이 의미하는 것은 리스트나 튜플의 a[1]과는 전혀 다르다. 딕셔너리 변수에서 [] 안의 숫자 1은 두 번째 요소를 나타내는 것이 아니라 Key에 해당하는 1을 나타낸다. 앞에서도 말했듯이 딕셔너리는 리스트나 튜플에 있는 인덱싱 방법을 적용할 수 없다. 따라서 a[1]은 딕셔너리 {1: 'a', 2: 'b'}에서 Key가 1인 것의 Value인 'a'를 리턴한다. a[2] 역시 마찬가지이다.\n",
    "\n",
    "- 이번에는 a라는 변수에 앞의 예에서 사용한 딕셔너리의 Key와 Value를 뒤집어 놓은 딕셔너리를 대입해 보자.\n",
    "\n"
   ]
  },
  {
   "cell_type": "code",
   "execution_count": 21,
   "id": "83cb0943",
   "metadata": {},
   "outputs": [
    {
     "data": {
      "text/plain": [
       "1"
      ]
     },
     "execution_count": 21,
     "metadata": {},
     "output_type": "execute_result"
    }
   ],
   "source": [
    "a = {'a': 1, 'b': 2}\n",
    "a['a']"
   ]
  },
  {
   "cell_type": "code",
   "execution_count": 22,
   "id": "80fc278c",
   "metadata": {},
   "outputs": [
    {
     "data": {
      "text/plain": [
       "2"
      ]
     },
     "execution_count": 22,
     "metadata": {},
     "output_type": "execute_result"
    }
   ],
   "source": [
    "a['b']"
   ]
  },
  {
   "cell_type": "markdown",
   "id": "ecbb459b",
   "metadata": {},
   "source": [
    "- 역시 a['a'], a['b']처럼 Key를 사용해서 Value를 얻을 수 있다. 정리하면, 딕셔너리 a는 a[Key]로 Key에 해당하는 Value를 얻는다.\n",
    "\n",
    "- 다음 예는 이전에 한 번 언급한 딕셔너리인데, Key를 사용해서 Value를 얻는 방법을 잘 보여 준다.\n",
    "\n"
   ]
  },
  {
   "cell_type": "code",
   "execution_count": 156,
   "id": "ba1938c2",
   "metadata": {},
   "outputs": [
    {
     "data": {
      "text/plain": [
       "'pey'"
      ]
     },
     "execution_count": 156,
     "metadata": {},
     "output_type": "execute_result"
    }
   ],
   "source": [
    "dic = {'name':'pey', 'phone':'010-9999-1234', 'birth': '1118'}\n",
    "dic['name']"
   ]
  },
  {
   "cell_type": "code",
   "execution_count": 157,
   "id": "1a726dd2",
   "metadata": {},
   "outputs": [
    {
     "data": {
      "text/plain": [
       "'010-9999-1234'"
      ]
     },
     "execution_count": 157,
     "metadata": {},
     "output_type": "execute_result"
    }
   ],
   "source": [
    "dic['phone']"
   ]
  },
  {
   "cell_type": "code",
   "execution_count": 158,
   "id": "c3f7cffd",
   "metadata": {},
   "outputs": [
    {
     "data": {
      "text/plain": [
       "'1118'"
      ]
     },
     "execution_count": 158,
     "metadata": {},
     "output_type": "execute_result"
    }
   ],
   "source": [
    "dic['birth']"
   ]
  },
  {
   "cell_type": "markdown",
   "id": "bc1a817a",
   "metadata": {},
   "source": [
    " ### 딕셔너리 만들 때 주의할 사항\n",
    "- 딕셔너리에서 Key는 고유한 값이므로 중복되는 Key 값을 설정해 놓으면 하나를 제외한 나머지 것들이 모두 무시된다는 점에 주의해야 한다. 다음 예에서 볼 수 있듯이 동일한 Key가 2개 존재할 경우, 1: 'a' 쌍이 무시된다.\n",
    "\n"
   ]
  },
  {
   "cell_type": "code",
   "execution_count": 159,
   "id": "9203b091",
   "metadata": {},
   "outputs": [
    {
     "data": {
      "text/plain": [
       "{1: 'b'}"
      ]
     },
     "execution_count": 159,
     "metadata": {},
     "output_type": "execute_result"
    }
   ],
   "source": [
    "a = {1:'a', 1:'b'}\n",
    "a"
   ]
  },
  {
   "cell_type": "markdown",
   "id": "5eb910f8",
   "metadata": {},
   "source": [
    "- 이렇게 Key가 중복되었을 때 1개를 제외한 나머지 Key: Value 값이 모두 무시되는 이유는 Key를 통해서 Value를 얻는 딕셔너리의 특징 때문이다. 즉, 딕셔너리에는 동일한 Key가 중복으로 존재할 수 없다.\n",
    "\n",
    "- 또 1가지 주의해야 할 점은 Key에 리스트는 쓸 수 없다는 것이다. 하지만 튜플은 Key로 쓸 수 있다. 딕셔너리의 Key로 쓸 수 있느냐, 없느냐는 Key가 변하는(mutable) 값인지, 변하지 않는(immutable) 값인지에 달려 있다. 리스트는 그 값이 변할 수 있기 때문에 Key로 쓸 수 없다. 다음 예처럼 리스트를 Key로 설정하면 리스트를 키 값으로 사용할 수 없다는 오류가 발생한다.\n",
    "\n"
   ]
  },
  {
   "cell_type": "code",
   "execution_count": 160,
   "id": "9d1183b1",
   "metadata": {},
   "outputs": [
    {
     "data": {
      "text/plain": [
       "{(1, 2): 'hi'}"
      ]
     },
     "execution_count": 160,
     "metadata": {},
     "output_type": "execute_result"
    }
   ],
   "source": [
    "a = {(1,2) : 'hi'}\n",
    "a"
   ]
  },
  {
   "cell_type": "code",
   "execution_count": 161,
   "id": "80b59465",
   "metadata": {},
   "outputs": [
    {
     "ename": "TypeError",
     "evalue": "unhashable type: 'list'",
     "output_type": "error",
     "traceback": [
      "\u001b[0;31m---------------------------------------------------------------------------\u001b[0m",
      "\u001b[0;31mTypeError\u001b[0m                                 Traceback (most recent call last)",
      "Cell \u001b[0;32mIn[161], line 1\u001b[0m\n\u001b[0;32m----> 1\u001b[0m a \u001b[38;5;241m=\u001b[39m {[\u001b[38;5;241m1\u001b[39m,\u001b[38;5;241m2\u001b[39m] : \u001b[38;5;124m'\u001b[39m\u001b[38;5;124mhi\u001b[39m\u001b[38;5;124m'\u001b[39m}\n\u001b[1;32m      2\u001b[0m a\n",
      "\u001b[0;31mTypeError\u001b[0m: unhashable type: 'list'"
     ]
    }
   ],
   "source": [
    "a = {[1,2] : 'hi'}\n",
    "a"
   ]
  },
  {
   "cell_type": "markdown",
   "id": "cb6c4719",
   "metadata": {},
   "source": [
    "- 단, Value에는 변하는 값이든, 변하지 않는 값이든 아무 값이나 넣을 수 있다.\n",
    "\n"
   ]
  },
  {
   "cell_type": "markdown",
   "id": "daf28ba1",
   "metadata": {},
   "source": [
    "## 딕셔너리 관련 함수\n",
    "- 딕셔너리를 자유자재로 사용하기 위해 딕셔너리가 자체적으로 가지고 있는 관련 함수를 사용해 보자.\n",
    "\n",
    "### Key 리스트 만들기 - keys\n"
   ]
  },
  {
   "cell_type": "markdown",
   "id": "e7f154e3",
   "metadata": {},
   "source": [
    "iterate"
   ]
  },
  {
   "cell_type": "code",
   "execution_count": 163,
   "id": "74fba85c",
   "metadata": {
    "scrolled": true
   },
   "outputs": [
    {
     "data": {
      "text/plain": [
       "dict_keys(['name', 'phone', 'birth'])"
      ]
     },
     "execution_count": 163,
     "metadata": {},
     "output_type": "execute_result"
    }
   ],
   "source": [
    "a = {'name': 'pey', 'phone': '010-9999-1234', 'birth': '1118'}\n",
    "a.keys()"
   ]
  },
  {
   "cell_type": "markdown",
   "id": "7e0b7fd9",
   "metadata": {},
   "source": [
    "- a.keys()는 딕셔너리 a의 Key만을 모아 dict_keys 객체를 리턴한다.\n",
    "\n",
    "\n"
   ]
  },
  {
   "cell_type": "markdown",
   "id": "3cb6df4c",
   "metadata": {},
   "source": [
    "**파이썬 3.0 이후 버전의 keys 함수, 어떻게 달라졌나?**\n",
    "- 파이썬 2.7 버전까지는 a.keys() 함수를 호출하면 dict_keys가 아닌 리스트를 리턴한다. 리스트를 리턴하기 위해서는 메모리 낭비가 발생하는데, 파이썬 3.0 이후 버전에서는 이러한 메모리 낭비를 줄이기 위해 dict_keys 객체를 리턴하도록 변경되었다. 다음에 소개할 dict_values, dict_items 역시 파이썬 3.0 이후 버전에서 추가된 것들이다. 만약 3.0 이후 버전에서 리턴값으로 리스트가 필요한 경우에는 list(a.keys())를 사용하면 된다. dict_keys, dict_values, dict_items 객체는 리스트로 변환하지 않더라도 기본적인 반복 구문(예: for 문)에서 사용할 수 있다.\n",
    "\n"
   ]
  },
  {
   "cell_type": "markdown",
   "id": "b719d950",
   "metadata": {},
   "source": [
    "- dict_keys 객체는 다음과 같이 사용할 수 있다. 리스트를 사용하는 것과 별 차이는 없지만, 리스트 고유의 append, insert, pop, remove, sort 함수는 수행할 수 없다.\n",
    "\n"
   ]
  },
  {
   "cell_type": "code",
   "execution_count": 168,
   "id": "bca7b7c3",
   "metadata": {},
   "outputs": [
    {
     "name": "stdout",
     "output_type": "stream",
     "text": [
      "name\n",
      "phone\n",
      "birth\n"
     ]
    }
   ],
   "source": [
    "for k in a.keys():\n",
    "    print(k)"
   ]
  },
  {
   "cell_type": "markdown",
   "id": "5e66f005",
   "metadata": {},
   "source": [
    "> - print(k)를 입력할 때 들여쓰기를 하지 않으면 오류가 발생하므로 주의하자.\n",
    "> - for 문 등 반복 구문에 대해서는 03장에서 자세히 살펴본다.\n",
    "\n",
    "- dict_keys 객체를 리스트로 변환하려면 다음과 같이 하면 된다.\n",
    "\n"
   ]
  },
  {
   "cell_type": "code",
   "execution_count": 169,
   "id": "b640a794",
   "metadata": {},
   "outputs": [
    {
     "data": {
      "text/plain": [
       "['name', 'phone', 'birth']"
      ]
     },
     "execution_count": 169,
     "metadata": {},
     "output_type": "execute_result"
    }
   ],
   "source": [
    "list(a.keys())"
   ]
  },
  {
   "cell_type": "markdown",
   "id": "4b5c0175",
   "metadata": {},
   "source": [
    "### Value 리스트 만들기 - values\n"
   ]
  },
  {
   "cell_type": "code",
   "execution_count": 170,
   "id": "8ffb0348",
   "metadata": {},
   "outputs": [
    {
     "data": {
      "text/plain": [
       "dict_values(['pey', '010-9999-1234', '1118'])"
      ]
     },
     "execution_count": 170,
     "metadata": {},
     "output_type": "execute_result"
    }
   ],
   "source": [
    "a.values()"
   ]
  },
  {
   "cell_type": "markdown",
   "id": "69f9d6ad",
   "metadata": {},
   "source": [
    "- Key를 얻는 것과 마찬가지 방법으로 Value만 얻고 싶다면 values 함수를 사용하면 된다. values 함수를 호출하면 dict_values 객체를 리턴한다.\n",
    "\n"
   ]
  },
  {
   "cell_type": "markdown",
   "id": "46b24213",
   "metadata": {},
   "source": [
    "### Key, Value 쌍 얻기 - items\n"
   ]
  },
  {
   "cell_type": "code",
   "execution_count": 171,
   "id": "b4936c7e",
   "metadata": {},
   "outputs": [
    {
     "data": {
      "text/plain": [
       "dict_items([('name', 'pey'), ('phone', '010-9999-1234'), ('birth', '1118')])"
      ]
     },
     "execution_count": 171,
     "metadata": {},
     "output_type": "execute_result"
    }
   ],
   "source": [
    "a.items()"
   ]
  },
  {
   "cell_type": "markdown",
   "id": "e7a3842a",
   "metadata": {},
   "source": [
    "- items 함수는 Key와 Value의 쌍을 튜플로 묶은 값을 dict_items 객체로 리턴한다.\n",
    "\n"
   ]
  },
  {
   "cell_type": "code",
   "execution_count": 173,
   "id": "9f0f81ec",
   "metadata": {},
   "outputs": [
    {
     "name": "stdout",
     "output_type": "stream",
     "text": [
      "name pey\n",
      "phone 010-9999-1234\n",
      "birth 1118\n"
     ]
    }
   ],
   "source": [
    "for k, v in a.items():\n",
    "    print(k, v)"
   ]
  },
  {
   "cell_type": "markdown",
   "id": "264ea3f8",
   "metadata": {},
   "source": [
    "### Key: Value 쌍 모두 지우기 - clear\n"
   ]
  },
  {
   "cell_type": "code",
   "execution_count": 174,
   "id": "6d7e3e80",
   "metadata": {},
   "outputs": [
    {
     "data": {
      "text/plain": [
       "{}"
      ]
     },
     "execution_count": 174,
     "metadata": {},
     "output_type": "execute_result"
    }
   ],
   "source": [
    "a.clear()\n",
    "a"
   ]
  },
  {
   "cell_type": "markdown",
   "id": "65199c8a",
   "metadata": {},
   "source": [
    "- clear 함수는 딕셔너리 안의 모든 요소를 삭제한다.\n",
    "\n",
    "> - 빈 리스트를 [], 빈 튜플을 ()로 표현하는 것과 마찬가지로 빈 딕셔너리도 {}로 표현한다.\n",
    "\n"
   ]
  },
  {
   "cell_type": "markdown",
   "id": "79b084fe",
   "metadata": {},
   "source": [
    "### Key로 Value 얻기 - get\n"
   ]
  },
  {
   "cell_type": "code",
   "execution_count": 175,
   "id": "0b12aedf",
   "metadata": {},
   "outputs": [
    {
     "data": {
      "text/plain": [
       "'pey'"
      ]
     },
     "execution_count": 175,
     "metadata": {},
     "output_type": "execute_result"
    }
   ],
   "source": [
    "a = {'name': 'pey', 'phone': '010-9999-1234', 'birth': '1118'}\n",
    "a.get('name')"
   ]
  },
  {
   "cell_type": "code",
   "execution_count": 177,
   "id": "021747f8",
   "metadata": {},
   "outputs": [
    {
     "data": {
      "text/plain": [
       "'pey'"
      ]
     },
     "execution_count": 177,
     "metadata": {},
     "output_type": "execute_result"
    }
   ],
   "source": [
    "a.get('name')"
   ]
  },
  {
   "cell_type": "code",
   "execution_count": 43,
   "id": "00f90719",
   "metadata": {},
   "outputs": [
    {
     "data": {
      "text/plain": [
       "'010-9999-1234'"
      ]
     },
     "execution_count": 43,
     "metadata": {},
     "output_type": "execute_result"
    }
   ],
   "source": [
    "a.get('phone')"
   ]
  },
  {
   "cell_type": "markdown",
   "id": "464aa61f",
   "metadata": {},
   "source": [
    "- get(x) 함수는 x라는 Key에 대응되는 Value를 리턴한다. 앞에서 살펴보았듯이 a.get('name')은 a['name']을 사용했을 때와 동일한 결괏값을 리턴한다.\n",
    "\n",
    "- 다만, 다음 예제에서 볼 수 있듯이 a['nokey']처럼 딕셔너리에 존재하지 않는 키로 값을 가져오려고 할 경우, a['nokey'] 방식은 오류를 발생시키고 a.get('nokey') 방식은 None을 리턴한다는 차이가 있다. 어떤 것을 사용할 것인지는 여러분의 선택에 달려 있다.\n",
    "\n",
    "> - 여기에서 None은 ‘거짓’이라는 뜻이라고만 알아 두자.\n",
    "\n"
   ]
  },
  {
   "cell_type": "code",
   "execution_count": 178,
   "id": "7cb02dac",
   "metadata": {},
   "outputs": [
    {
     "name": "stdout",
     "output_type": "stream",
     "text": [
      "None\n"
     ]
    }
   ],
   "source": [
    "a = {'name':'pey', 'phone':'010-9999-1234', 'birth': '1118'}\n",
    "print(a.get('nokey'))"
   ]
  },
  {
   "cell_type": "code",
   "execution_count": 179,
   "id": "5cbdadd4",
   "metadata": {},
   "outputs": [
    {
     "ename": "SyntaxError",
     "evalue": "unterminated string literal (detected at line 1) (440620461.py, line 1)",
     "output_type": "error",
     "traceback": [
      "\u001b[0;36m  Cell \u001b[0;32mIn[179], line 1\u001b[0;36m\u001b[0m\n\u001b[0;31m    print(a['nokey’])\u001b[0m\n\u001b[0m            ^\u001b[0m\n\u001b[0;31mSyntaxError\u001b[0m\u001b[0;31m:\u001b[0m unterminated string literal (detected at line 1)\n"
     ]
    }
   ],
   "source": [
    "print(a['nokey’])"
   ]
  },
  {
   "cell_type": "markdown",
   "id": "36a0364c",
   "metadata": {},
   "source": [
    "- 딕셔너리 안에 찾으려는 Key가 없을 경우, 미리 정해 둔 디폴트 값을 대신 가져오게 하고 싶을 때는 get(x, '디폴트 값')을 사용하면 편리하다.\n",
    "\n"
   ]
  },
  {
   "cell_type": "code",
   "execution_count": 182,
   "id": "1771ccf3",
   "metadata": {},
   "outputs": [
    {
     "data": {
      "text/plain": [
       "'foo'"
      ]
     },
     "execution_count": 182,
     "metadata": {},
     "output_type": "execute_result"
    }
   ],
   "source": [
    "a.get('nokey', 'foo')"
   ]
  },
  {
   "cell_type": "markdown",
   "id": "e2fb9c88",
   "metadata": {},
   "source": [
    "- 딕셔너리 a에는 'nokey'에 해당하는 Key가 없다. 따라서 디폴트 값인 'foo'를 리턴한다.\n",
    "\n"
   ]
  },
  {
   "cell_type": "markdown",
   "id": "a129590a",
   "metadata": {},
   "source": [
    "### 해당 Key가 딕셔너리 안에 있는지 조사하기 - in\n"
   ]
  },
  {
   "cell_type": "code",
   "execution_count": 184,
   "id": "6c4cb39e",
   "metadata": {},
   "outputs": [
    {
     "data": {
      "text/plain": [
       "True"
      ]
     },
     "execution_count": 184,
     "metadata": {},
     "output_type": "execute_result"
    }
   ],
   "source": [
    "a = {'name':'pey', 'phone':'010-9999-1234', 'birth': '1118'}\n",
    "'name' in a"
   ]
  },
  {
   "cell_type": "code",
   "execution_count": 185,
   "id": "b13dbc27",
   "metadata": {},
   "outputs": [
    {
     "data": {
      "text/plain": [
       "False"
      ]
     },
     "execution_count": 185,
     "metadata": {},
     "output_type": "execute_result"
    }
   ],
   "source": [
    "'email' in a"
   ]
  },
  {
   "cell_type": "markdown",
   "id": "2f3f9e3b",
   "metadata": {},
   "source": [
    "- 'name' 문자열은 a 딕셔너리의 Key 중 하나이다. 따라서 'name' in a를 호출하면 참(True)을 리턴한다. 이와 반대로 'email'은 a 딕셔너리 안에 존재하지 않는 Key이므로 거짓(False)을 리턴한다.\n",
    "\n"
   ]
  },
  {
   "cell_type": "markdown",
   "id": "c5dfd3e0",
   "metadata": {},
   "source": [
    "**문제**\n",
    "\n",
    "- 다음 표를 딕셔너리로 만드시오\n",
    "\n",
    "|  항목  |   값      |\n",
    "|-------|-------------|\n",
    "| name  |   홍길동       |\n",
    "| phone | 010-2222-3333 |\n",
    "| birth |   1128      |\n",
    "| age |   30      |\n"
   ]
  },
  {
   "cell_type": "code",
   "execution_count": 187,
   "id": "acac97ce",
   "metadata": {},
   "outputs": [
    {
     "data": {
      "text/plain": [
       "{'name': '홍길동', 'phone': '010-2222-3333', 'birth': '1128', 'age': 30}"
      ]
     },
     "execution_count": 187,
     "metadata": {},
     "output_type": "execute_result"
    }
   ],
   "source": []
  },
  {
   "cell_type": "markdown",
   "id": "9fae70fd",
   "metadata": {},
   "source": [
    "# 집합 자료형\n",
    "- 집합(set)은 집합에 관련된 것을 쉽게 처리하기 위해 만든 자료형이다.\n",
    "\n"
   ]
  },
  {
   "cell_type": "markdown",
   "id": "d3967999",
   "metadata": {},
   "source": [
    "## 집합 자료형은 어떻게 만들까?\n",
    "- 집합 자료형은 다음과 같이 set 키워드를 사용해 만들 수 있다.\n",
    "\n"
   ]
  },
  {
   "cell_type": "code",
   "execution_count": 188,
   "id": "da8e8943",
   "metadata": {},
   "outputs": [
    {
     "data": {
      "text/plain": [
       "{1, 2, 3}"
      ]
     },
     "execution_count": 188,
     "metadata": {},
     "output_type": "execute_result"
    }
   ],
   "source": [
    "s1 = set([1, 2, 3])\n",
    "s1"
   ]
  },
  {
   "cell_type": "markdown",
   "id": "b071a436",
   "metadata": {},
   "source": [
    "- 위와 같이 set()의 괄호 안에 리스트를 입력하여 만들거나 다음과 같이 문자열을 입력하여 만들 수도 있다.\n",
    "\n"
   ]
  },
  {
   "cell_type": "code",
   "execution_count": 189,
   "id": "f9e156fa",
   "metadata": {},
   "outputs": [
    {
     "data": {
      "text/plain": [
       "{'H', 'e', 'l', 'o'}"
      ]
     },
     "execution_count": 189,
     "metadata": {},
     "output_type": "execute_result"
    }
   ],
   "source": [
    "s2 = set(\"Hello\")\n",
    "s2"
   ]
  },
  {
   "cell_type": "markdown",
   "id": "7a8c8b95",
   "metadata": {},
   "source": [
    "> 비어 있는 집합 자료형은 s = set()로 만들 수 있다.\n",
    "\n"
   ]
  },
  {
   "cell_type": "markdown",
   "id": "0cdbdab2",
   "metadata": {},
   "source": [
    "## 집합 자료형의 특징\n"
   ]
  },
  {
   "cell_type": "markdown",
   "id": "44406c31",
   "metadata": {},
   "source": [
    "- 그런데 위에서 살펴본 set(\"Hello\")의 결과가 좀 이상하지 않은가? 분명 \"Hello\" 문자열로 set 자료형을 만들었는데 생성된 자료형에는 l 문자가 하나 빠져 있고 순서도 뒤죽박죽이다. 그 이유는 set에 다음과 같은 2가지 특징이 있기 때문이다.\n",
    "\n",
    "    - 중복을 허용하지 않는다.\n",
    "    - 순서가 없다(Unordered).\n",
    "> set은 중복을 허용하지 않는 특징 때문에 데이터의 중복을 제거하기 위한 필터로 종종 사용된다.\n",
    "\n",
    "- 리스트나 튜플은 순서가 있기(ordered) 때문에 인덱싱을 통해 요솟값을 얻을 수 있지만, set 자료형은 순서가 없기(unordered) 때문에 인덱싱을 통해 요솟값을 얻을 수 없다. 이는 마치 02-5에서 살펴본 딕셔너리와 비슷하다. 딕셔너리 역시 순서가 없는 자료형이므로 인덱싱을 지원하지 않는다.\n",
    "\n",
    "- 만약 set 자료형에 저장된 값을 인덱싱으로 접근하려면 다음과 같이 리스트나 튜플로 변환한 후에 해야 한다.\n",
    "\n"
   ]
  },
  {
   "cell_type": "code",
   "execution_count": 191,
   "id": "6176f867",
   "metadata": {},
   "outputs": [
    {
     "data": {
      "text/plain": [
       "[1, 2, 3]"
      ]
     },
     "execution_count": 191,
     "metadata": {},
     "output_type": "execute_result"
    }
   ],
   "source": [
    "s1 = set([1, 2, 3, 2, 3, 1])\n",
    "l1 = list(s1)\n",
    "l1"
   ]
  },
  {
   "cell_type": "code",
   "execution_count": 192,
   "id": "9f9df205",
   "metadata": {},
   "outputs": [
    {
     "data": {
      "text/plain": [
       "1"
      ]
     },
     "execution_count": 192,
     "metadata": {},
     "output_type": "execute_result"
    }
   ],
   "source": [
    "l1[0]"
   ]
  },
  {
   "cell_type": "code",
   "execution_count": 193,
   "id": "ae16bc7c",
   "metadata": {},
   "outputs": [
    {
     "data": {
      "text/plain": [
       "(1, 2, 3)"
      ]
     },
     "execution_count": 193,
     "metadata": {},
     "output_type": "execute_result"
    }
   ],
   "source": [
    "t1 = tuple(s1)\n",
    "t1"
   ]
  },
  {
   "cell_type": "code",
   "execution_count": 194,
   "id": "8ca4ec72",
   "metadata": {},
   "outputs": [
    {
     "data": {
      "text/plain": [
       "1"
      ]
     },
     "execution_count": 194,
     "metadata": {},
     "output_type": "execute_result"
    }
   ],
   "source": [
    "t1[0]"
   ]
  },
  {
   "cell_type": "markdown",
   "id": "906e624b",
   "metadata": {},
   "source": [
    "## 교집합, 합집합, 차집합 구하기\n",
    "- set 자료형을 정말 유용하게 사용하는 경우는 교집합, 합집합, 차집합을 구할 때이다.\n",
    "\n",
    "- 먼저 다음과 같이 2개의 set 자료형을 만든 후 따라 해 보자. s1에는 1부터 6까지의 값, s2에는 4부터 9까지의 값을 주었다.\n",
    "\n"
   ]
  },
  {
   "cell_type": "code",
   "execution_count": 202,
   "id": "7ed9c495",
   "metadata": {},
   "outputs": [],
   "source": [
    "s1 = set([1, 2, 3, 4, 5, 6])\n",
    "s2 = set([4, 5, 6, 7, 8, 9])"
   ]
  },
  {
   "cell_type": "markdown",
   "id": "131a67cd",
   "metadata": {},
   "source": [
    "### 교집합 구하기\n",
    "- s1과 s2의 교집합을 구해 보자. 다음과 같이 ‘&’를 이용하면 교집합을 간단히 구할 수 있다.\n",
    "\n"
   ]
  },
  {
   "cell_type": "code",
   "execution_count": 203,
   "id": "cb51c5d6",
   "metadata": {},
   "outputs": [
    {
     "data": {
      "text/plain": [
       "{4, 5, 6}"
      ]
     },
     "execution_count": 203,
     "metadata": {},
     "output_type": "execute_result"
    }
   ],
   "source": [
    "s1 & s2"
   ]
  },
  {
   "cell_type": "markdown",
   "id": "30e2605b",
   "metadata": {},
   "source": [
    "- 또는 다음과 같이 intersection 함수를 사용해도 결과는 동일하다.\n"
   ]
  },
  {
   "cell_type": "code",
   "execution_count": 207,
   "id": "c6c9f9e0",
   "metadata": {},
   "outputs": [
    {
     "data": {
      "text/plain": [
       "{4, 5, 6}"
      ]
     },
     "execution_count": 207,
     "metadata": {},
     "output_type": "execute_result"
    }
   ],
   "source": [
    "s1.intersection(s2)"
   ]
  },
  {
   "cell_type": "markdown",
   "id": "d41471cc",
   "metadata": {},
   "source": [
    "- s2.intersection(s1)을 사용해도 결과는 동일하다.\n",
    "\n"
   ]
  },
  {
   "cell_type": "code",
   "execution_count": 208,
   "id": "6d9be2c0",
   "metadata": {},
   "outputs": [
    {
     "data": {
      "text/plain": [
       "{4, 5, 6}"
      ]
     },
     "execution_count": 208,
     "metadata": {},
     "output_type": "execute_result"
    }
   ],
   "source": [
    "s2.intersection(s1)"
   ]
  },
  {
   "cell_type": "markdown",
   "id": "3dceeaa1",
   "metadata": {},
   "source": [
    "### 합집합 구하기\n",
    "- 이번에는 합집합을 구해 보자. ‘|’를 사용하면 합집합을 구할 수 있다. 이때 4, 5, 6처럼 중복해서 포함된 값은 1개씩만 표현된다.\n",
    "\n"
   ]
  },
  {
   "cell_type": "code",
   "execution_count": 211,
   "id": "5f38c57a",
   "metadata": {},
   "outputs": [
    {
     "data": {
      "text/plain": [
       "{1, 2, 3, 4, 5, 6, 7, 8, 9}"
      ]
     },
     "execution_count": 211,
     "metadata": {},
     "output_type": "execute_result"
    }
   ],
   "source": [
    "s1 | s2"
   ]
  },
  {
   "cell_type": "code",
   "execution_count": 212,
   "id": "d81cd775",
   "metadata": {},
   "outputs": [
    {
     "data": {
      "text/plain": [
       "{1, 2, 3, 4, 5, 6, 7, 8, 9}"
      ]
     },
     "execution_count": 212,
     "metadata": {},
     "output_type": "execute_result"
    }
   ],
   "source": [
    "s1.union(s2)"
   ]
  },
  {
   "cell_type": "markdown",
   "id": "3243aa87",
   "metadata": {},
   "source": [
    "- s2.union(s1)을 사용해도 결과는 동일하다.\n",
    "\n"
   ]
  },
  {
   "cell_type": "markdown",
   "id": "e9062634",
   "metadata": {},
   "source": [
    "### 차집합 구하기\n",
    "- 마지막으로 차집합을 구해 보자. -(빼기)를 사용하면 차집합을 구할 수 있다.\n",
    "\n"
   ]
  },
  {
   "cell_type": "code",
   "execution_count": 213,
   "id": "13ba4d09",
   "metadata": {},
   "outputs": [
    {
     "data": {
      "text/plain": [
       "{1, 2, 3}"
      ]
     },
     "execution_count": 213,
     "metadata": {},
     "output_type": "execute_result"
    }
   ],
   "source": [
    "s1 - s2"
   ]
  },
  {
   "cell_type": "code",
   "execution_count": 215,
   "id": "afb45424",
   "metadata": {},
   "outputs": [
    {
     "data": {
      "text/plain": [
       "{7, 8, 9}"
      ]
     },
     "execution_count": 215,
     "metadata": {},
     "output_type": "execute_result"
    }
   ],
   "source": [
    "s2 - s1"
   ]
  },
  {
   "cell_type": "markdown",
   "id": "7f8ecd4c",
   "metadata": {},
   "source": [
    "- difference 함수를 사용해도 차집합을 구할 수 있다.\n",
    "\n"
   ]
  },
  {
   "cell_type": "code",
   "execution_count": 216,
   "id": "ebe53cc0",
   "metadata": {},
   "outputs": [
    {
     "data": {
      "text/plain": [
       "{1, 2, 3}"
      ]
     },
     "execution_count": 216,
     "metadata": {},
     "output_type": "execute_result"
    }
   ],
   "source": [
    "s1.difference(s2)"
   ]
  },
  {
   "cell_type": "code",
   "execution_count": 217,
   "id": "5d5fe3f2",
   "metadata": {},
   "outputs": [
    {
     "data": {
      "text/plain": [
       "{7, 8, 9}"
      ]
     },
     "execution_count": 217,
     "metadata": {},
     "output_type": "execute_result"
    }
   ],
   "source": [
    "s2.difference(s1)"
   ]
  },
  {
   "cell_type": "markdown",
   "id": "6e2da06e",
   "metadata": {},
   "source": [
    "## 집합 자료형 관련 함수\n"
   ]
  },
  {
   "cell_type": "markdown",
   "id": "561c423e",
   "metadata": {},
   "source": [
    "### 값 1개 추가하기 - add\n",
    "- 이미 만들어진 set 자료형에 값을 추가할 수 있다. 1개의 값만 추가add할 때는 다음과 같이 하면 된다.\n",
    "\n"
   ]
  },
  {
   "cell_type": "code",
   "execution_count": 221,
   "id": "14e2a6e9",
   "metadata": {},
   "outputs": [
    {
     "data": {
      "text/plain": [
       "{1, 2, 3, 4}"
      ]
     },
     "execution_count": 221,
     "metadata": {},
     "output_type": "execute_result"
    }
   ],
   "source": [
    "s1 = set([1, 2, 3])\n",
    "s1.add(4)\n",
    "s1"
   ]
  },
  {
   "cell_type": "markdown",
   "id": "92677201",
   "metadata": {},
   "source": [
    "### 값 여러 개 추가하기 - update\n",
    "- 여러 개의 값을 한꺼번에 추가(update)할 때는 다음과 같이 하면 된다.\n",
    "\n"
   ]
  },
  {
   "cell_type": "code",
   "execution_count": 222,
   "id": "74ef9269",
   "metadata": {},
   "outputs": [
    {
     "data": {
      "text/plain": [
       "{1, 2, 3, 4, 5, 6}"
      ]
     },
     "execution_count": 222,
     "metadata": {},
     "output_type": "execute_result"
    }
   ],
   "source": [
    "s1 = set([1, 2, 3])\n",
    "s1.update([4, 5, 6])\n",
    "s1"
   ]
  },
  {
   "cell_type": "markdown",
   "id": "2a670870",
   "metadata": {},
   "source": [
    "### 특정 값 제거하기 - remove\n",
    "- 특정 값을 제거하고 싶을 때는 다음과 같이 하면 된다.\n",
    "\n"
   ]
  },
  {
   "cell_type": "code",
   "execution_count": 223,
   "id": "0db598fb",
   "metadata": {},
   "outputs": [
    {
     "data": {
      "text/plain": [
       "{1, 3}"
      ]
     },
     "execution_count": 223,
     "metadata": {},
     "output_type": "execute_result"
    }
   ],
   "source": [
    "s1 = set([1, 2, 3])\n",
    "s1.remove(2)\n",
    "s1"
   ]
  },
  {
   "cell_type": "markdown",
   "id": "4dc7b137",
   "metadata": {},
   "source": [
    "# 불 자료형\n",
    "\n",
    "- 불(bool) 자료형이란 참(True)과 거짓(False)을 나타내는 자료형이다. 불 자료형은 다음 2가지 값만을 가질 수 있다.\n",
    "\n",
    "- True: 참을 의미한다.\n",
    "- False: 거짓을 의미한다.\n",
    "> True나 False는 파이썬의 예약어로, true, false와 같이 작성하면 안 되고 첫 문자를 항상 대문자로 작성해야 한다.\n",
    "\n"
   ]
  },
  {
   "cell_type": "markdown",
   "id": "70d17095",
   "metadata": {},
   "source": [
    "## 불 자료형은 어떻게 사용할까?\n",
    "- 다음과 같이 변수 a에는 True, 변수 b에는 False를 지정해 보자.\n",
    "\n"
   ]
  },
  {
   "cell_type": "code",
   "execution_count": 229,
   "id": "85745e6a",
   "metadata": {},
   "outputs": [],
   "source": [
    "a = True\n",
    "b = False"
   ]
  },
  {
   "cell_type": "markdown",
   "id": "132c26d7",
   "metadata": {},
   "source": [
    "- 따옴표로 감싸지 않은 문자열을 변수에 지정해서 오류가 발생할 것 같지만, 잘 실행된다. type 함수를 변수 a와 b에 사용하면 두 변수의 자료형이 bool로 지정된 것을 확인할 수 있다\n",
    "\n"
   ]
  },
  {
   "cell_type": "code",
   "execution_count": 230,
   "id": "cdd2bbe9",
   "metadata": {},
   "outputs": [
    {
     "data": {
      "text/plain": [
       "bool"
      ]
     },
     "execution_count": 230,
     "metadata": {},
     "output_type": "execute_result"
    }
   ],
   "source": [
    "type(a)"
   ]
  },
  {
   "cell_type": "code",
   "execution_count": 231,
   "id": "29c973f9",
   "metadata": {},
   "outputs": [
    {
     "data": {
      "text/plain": [
       "bool"
      ]
     },
     "execution_count": 231,
     "metadata": {},
     "output_type": "execute_result"
    }
   ],
   "source": [
    "type(b)"
   ]
  },
  {
   "cell_type": "markdown",
   "id": "25a571e2",
   "metadata": {},
   "source": [
    "> type(x)는 x의 자료형을 확인하는 파이썬의 내장 함수이다.\n",
    "- 불 자료형은 조건문의 리턴값으로도 사용된다. 조건문에 대해서는 if 문에서 자세히 배우겠지만 잠시 살펴보고 넘어가자.\n",
    "\n"
   ]
  },
  {
   "cell_type": "code",
   "execution_count": 232,
   "id": "2cedf69c",
   "metadata": {},
   "outputs": [
    {
     "data": {
      "text/plain": [
       "True"
      ]
     },
     "execution_count": 232,
     "metadata": {},
     "output_type": "execute_result"
    }
   ],
   "source": [
    "1 == 1"
   ]
  },
  {
   "cell_type": "markdown",
   "id": "d3521d07",
   "metadata": {},
   "source": [
    "- 1 == 1 은 ‘1과 1이 같은가?’를 묻는 조건문이다. 이런 조건문은 결과로 True 또는 False에 해당하는 불 자료형을 리턴한다. 1과 1은 같으므로 True를 리턴한다.\n",
    "\n"
   ]
  },
  {
   "cell_type": "code",
   "execution_count": 233,
   "id": "def99dd7",
   "metadata": {},
   "outputs": [
    {
     "data": {
      "text/plain": [
       "True"
      ]
     },
     "execution_count": 233,
     "metadata": {},
     "output_type": "execute_result"
    }
   ],
   "source": [
    "2 > 1"
   ]
  },
  {
   "cell_type": "markdown",
   "id": "e0856cec",
   "metadata": {},
   "source": [
    "- 2는 1보다 크므로 2 > 1 조건문은 참이다. 즉, True를 리턴한다.\n",
    "\n"
   ]
  },
  {
   "cell_type": "code",
   "execution_count": 234,
   "id": "0201fd64",
   "metadata": {},
   "outputs": [
    {
     "data": {
      "text/plain": [
       "False"
      ]
     },
     "execution_count": 234,
     "metadata": {},
     "output_type": "execute_result"
    }
   ],
   "source": [
    "2 < 1"
   ]
  },
  {
   "cell_type": "markdown",
   "id": "895d60fe",
   "metadata": {},
   "source": [
    "- 2는 1보다 작지 않으므로 2 < 1 조건문은 거짓이다. 즉, False를 리턴한다.\n",
    "\n"
   ]
  },
  {
   "cell_type": "code",
   "execution_count": 241,
   "id": "44f55d01",
   "metadata": {},
   "outputs": [
    {
     "name": "stdout",
     "output_type": "stream",
     "text": [
      "False\n"
     ]
    }
   ],
   "source": [
    "a = 0\n",
    "if a:\n",
    "    print('True')\n",
    "else:\n",
    "    print('False')"
   ]
  },
  {
   "cell_type": "markdown",
   "id": "48962035",
   "metadata": {},
   "source": [
    "## 자료형의 참과 거짓\n",
    "- ‘자료형에 참과 거짓이 있다?’라는 말이 조금 이상하게 들리겠지만, 참과 거짓은 분명히 있다. 이는 매우 중요한 특징이며 실제로도 자주 쓰인다.\n",
    "\n",
    "- 자료형의 참과 거짓을 구분하는 기준은 다음과 같다.\n",
    "\n",
    "|   값    | 참 or 거짓 |\n",
    "|---------|------------|\n",
    "| \"python\" |     참      |\n",
    "| \"\"      |     거짓     |\n",
    "| [1, 2, 3] |    참      |\n",
    "| []      |     거짓     |\n",
    "| (1, 2, 3) |    참      |\n",
    "| ()      |     거짓     |\n",
    "| {'a': 1} |     참      |\n",
    "| {}      |     거짓     |\n",
    "|   1     |     참      |\n",
    "|   0     |     거짓     |\n",
    "|  None   |     거짓     |\n"
   ]
  },
  {
   "cell_type": "markdown",
   "id": "fb86384b",
   "metadata": {},
   "source": [
    "- 문자열, 리스트, 튜플, 딕셔너리 등의 값이 비어 있으면(\"\", [], (), {}) 거짓이 되고 비어 있지 않으면 참이 된다. 숫자에서는 그 값이 0일 때 거짓이 된다. 위 표를 보면 None이 있는데, 이것에 대해서는 뒷부분에서 배우므로 아직은 신경 쓰지 말자. 그저 None은 거짓을 뜻한다는 것만 알아 두자.\n",
    "\n",
    "- 다음 예를 보고 자료형의 참과 거짓이 프로그램에서 어떻게 쓰이는지 간단히 알아보자.\n",
    "\n"
   ]
  },
  {
   "cell_type": "code",
   "execution_count": 242,
   "id": "6008afe4",
   "metadata": {},
   "outputs": [
    {
     "name": "stdout",
     "output_type": "stream",
     "text": [
      "4\n",
      "3\n",
      "2\n",
      "1\n"
     ]
    }
   ],
   "source": [
    "a = [1, 2, 3, 4]\n",
    "\n",
    "while a:\n",
    "    print(a.pop())"
   ]
  },
  {
   "cell_type": "markdown",
   "id": "2b976fce",
   "metadata": {},
   "source": [
    "- 먼저 a = [1, 2, 3, 4]라는 리스트를 만들었다. while 문은 03장에서 자세히 다루지만, 간단히 알아보면 다음과 같다. 조건문이 참인 동안 조건문 안에 있는 문장을 반복해서 수행한다.\n",
    "\n",
    "```python\n",
    "\n",
    "while 조건문:\n",
    "    수행할_문장\n",
    "    \n",
    "```\n",
    "\n",
    "- 즉, 위 예를 보면 a가 참인 경우, a.pop()를 계속 실행하여 출력하라는 의미이다. a.pop() 함수는 리스트 a의 마지막 요소를 끄집어 내는 함수이므로 리스트 안에 요소가 존재하는 한(a가 참인 동안) 마지막 요소를 계속 끄집어 낼 것이다. 결국 더 이상 끄집어 낼 것이 없으면 a가 빈 리스트([])가 되어 거짓이 된다. 따라서 while 문에서 조건문이 거짓이 되므로 while 문을 빠져나가게 된다. 이는 파이썬 프로그래밍에서 매우 자주 사용하는 기법 중 하나이다.\n",
    "\n",
    "- 위 예가 너무 복잡하다고 생각하는 독자는 다음 예를 보면 쉽게 이해될 것이다.\n",
    "\n"
   ]
  },
  {
   "cell_type": "code",
   "execution_count": 243,
   "id": "21936fb8",
   "metadata": {},
   "outputs": [
    {
     "name": "stdout",
     "output_type": "stream",
     "text": [
      "거짓\n"
     ]
    }
   ],
   "source": [
    "if []:\n",
    "    print(\"참\")\n",
    "else:\n",
    "    print(\"거짓\")"
   ]
  },
  {
   "cell_type": "markdown",
   "id": "58eecfae",
   "metadata": {},
   "source": [
    "- []는 앞의 표에서 볼 수 있듯이 비어 있는 리스트이므로 거짓이다. 따라서 \"거짓\"이라는 문자열이 출력된다. if 문에 대해서 잘 모르는 독자라도 위 문장을 해석하는 데는 무리가 없을 것이다.\n",
    "\n",
    "> if 문에 대해서는 03장에서 자세히 다룬다.\n",
    "\n",
    "- 다른 예도 하나만 더 살펴보자."
   ]
  },
  {
   "cell_type": "code",
   "execution_count": 244,
   "id": "af90151b",
   "metadata": {},
   "outputs": [
    {
     "name": "stdout",
     "output_type": "stream",
     "text": [
      "참\n"
     ]
    }
   ],
   "source": [
    "if [1, 2, 3]:\n",
    "    print(\"참\")\n",
    "else:\n",
    "    print(\"거짓\")"
   ]
  },
  {
   "cell_type": "markdown",
   "id": "05a7ab97",
   "metadata": {},
   "source": [
    "- 이 소스 코드를 해석해 보면 다음과 같다\n",
    "\n",
    "> 만약 [1, 2, 3]이 참이면 \"참\"이라는 문자열을 출력하고, 그렇지 않으면 \"거짓\"이라는 문자열을 출력하라.\n",
    "\n",
    "- [1, 2, 3]은 요솟값이 있는 리스트이므로 참이다. 따라서 \"참\"을 출력한다.\n",
    "\n",
    "## 불 연산\n",
    "- 자료형에 참과 거짓이 있다는 것을 이제 알게 되었다. bool 함수를 사용하면 자료형의 참과 거짓을 보다 정확하게 식별할 수 있다.\n",
    "\n",
    "- 다음 예제를 따라 해 보자.\n",
    "\n"
   ]
  },
  {
   "cell_type": "code",
   "execution_count": 245,
   "id": "6c94fc09",
   "metadata": {},
   "outputs": [
    {
     "data": {
      "text/plain": [
       "True"
      ]
     },
     "execution_count": 245,
     "metadata": {},
     "output_type": "execute_result"
    }
   ],
   "source": [
    "bool('python')"
   ]
  },
  {
   "cell_type": "markdown",
   "id": "a77f648c",
   "metadata": {},
   "source": [
    "- 'python' 문자열은 비어 있지 않으므로 bool 연산의 결과로 불 자료형인 True를 리턴한다.\n",
    "\n"
   ]
  },
  {
   "cell_type": "code",
   "execution_count": 246,
   "id": "e8cc975a",
   "metadata": {},
   "outputs": [
    {
     "data": {
      "text/plain": [
       "False"
      ]
     },
     "execution_count": 246,
     "metadata": {},
     "output_type": "execute_result"
    }
   ],
   "source": [
    "bool('')"
   ]
  },
  {
   "cell_type": "markdown",
   "id": "16fdc017",
   "metadata": {},
   "source": [
    "- '' 문자열은 비어 있으므로 bool 연산의 결과로 불 자료형인 False를 리턴한다.\n",
    "\n",
    "- 앞에서 알아본 몇 가지 예제를 더 수행해 보자.\n",
    "\n"
   ]
  },
  {
   "cell_type": "code",
   "execution_count": 247,
   "id": "4681c025",
   "metadata": {},
   "outputs": [
    {
     "data": {
      "text/plain": [
       "True"
      ]
     },
     "execution_count": 247,
     "metadata": {},
     "output_type": "execute_result"
    }
   ],
   "source": [
    "bool([1, 2, 3])"
   ]
  },
  {
   "cell_type": "code",
   "execution_count": 248,
   "id": "04bbfd46",
   "metadata": {},
   "outputs": [
    {
     "data": {
      "text/plain": [
       "False"
      ]
     },
     "execution_count": 248,
     "metadata": {},
     "output_type": "execute_result"
    }
   ],
   "source": [
    "bool([])"
   ]
  },
  {
   "cell_type": "code",
   "execution_count": 86,
   "id": "26038499",
   "metadata": {},
   "outputs": [
    {
     "data": {
      "text/plain": [
       "False"
      ]
     },
     "execution_count": 86,
     "metadata": {},
     "output_type": "execute_result"
    }
   ],
   "source": [
    "bool(0)"
   ]
  },
  {
   "cell_type": "code",
   "execution_count": 249,
   "id": "9e4e0359",
   "metadata": {},
   "outputs": [
    {
     "data": {
      "text/plain": [
       "True"
      ]
     },
     "execution_count": 249,
     "metadata": {},
     "output_type": "execute_result"
    }
   ],
   "source": [
    "bool(3)"
   ]
  },
  {
   "cell_type": "markdown",
   "id": "7d9c74d2",
   "metadata": {},
   "source": [
    "- 앞에서 알아본 것과 동일한 참과 거짓에 대한 결과를 리턴하는 것을 확인할 수 있다.\n",
    "\n",
    "- 지금까지 파이썬의 가장 기본이 되는 자료형인 숫자, 문자열, 리스트, 튜플, 딕셔너리, 집합, 불에 대해서 알아보았다. 여기까지 잘 따라온 독자라면 파이썬에 대해서 대략 50% 정도 습득했다고 보아도 된다. 그만큼 자료형은 중요하고 프로그램의 근간이 되기 때문에 확실하게 해 놓지 않으면 좋은 프로그램을 만들 수 없다. 이 책의 예제만 따라 하지 말고 직접 여러 가지 예들을 테스트해 보면서 02-1~02-7에 나오는 자료형에 익숙해지기 바란다.\n",
    "\n"
   ]
  },
  {
   "cell_type": "markdown",
   "id": "4ca99b91",
   "metadata": {},
   "source": [
    "# 자료형의 값을 저장하는 공간, 변수\n",
    "\n",
    "- 지금부터 설명할 내용은 프로그래밍 초보자가 쉽게 이해하기 어려울 수 있는 부분이므로 당장 이해되지 않는다면 그냥 읽고 지나가도 된다. 파이썬에 대해서 공부하다 보면 자연스럽게 알게 될 것이다.\n",
    "\n",
    "## 변수는 어떻게 만들까?\n",
    "- 우리는 앞에서 이미 변수를 사용해 왔다. 다음 예와 같은 a, b, c를 ‘변수’라고 한다.\n",
    "\n"
   ]
  },
  {
   "cell_type": "code",
   "execution_count": 88,
   "id": "f333b0ac",
   "metadata": {},
   "outputs": [],
   "source": [
    "a = 1\n",
    "b = \"python\"\n",
    "c = [1, 2, 3]"
   ]
  },
  {
   "cell_type": "markdown",
   "id": "232ec2f4",
   "metadata": {},
   "source": [
    "- 변수를 만들 때는 위 예처럼 =(assignment) 기호를 사용한다.\n",
    "\n",
    "```python\n",
    "변수_이름 = 변수에_저장할_값\n",
    "```\n",
    "\n",
    "- 다른 프로그래밍 언어인 C나 JAVA에서는 변수를 만들 때 자료형의 타입을 직접 지정해야 한다. 하지만 파이썬은 변수에 저장된 값을 스스로 판단하여 자료형의 타입을 지정하기 때문에 더 편리하다.\n",
    "\n",
    "## 변수란?\n",
    "\n",
    "- 파이썬에서 사용하는 변수는 객체를 가리키는 것이라고도 말할 수 있다. 객체란 우리가 지금까지 보아 온 자료형의 데이터(값)와 같은 것을 의미하는 말이다(객체에 대해서는 05-1절에서 자세하게 공부한다).\n",
    "\n",
    "```python\n",
    "a = [1, 2, 3]\n",
    "```\n",
    "\n",
    "- 만약 위 코드처럼 a = [1, 2, 3]이라고 하면 [1, 2, 3] 값을 가지는 리스트 데이터(객체)가 자동으로 메모리에 생성되고 변수 a는 [1, 2, 3] 리스트가 저장된 메모리의 주소를 가리키게 된다.\n",
    "\n",
    "> 메모리란 컴퓨터가 프로그램에서 사용하는 데이터를 기억하는 공간을 말한다.\n",
    "\n",
    "- a 변수가 가리키는 메모리의 주소는 다음과 같이 확인할 수 있다."
   ]
  },
  {
   "cell_type": "code",
   "execution_count": 89,
   "id": "101f6762",
   "metadata": {},
   "outputs": [
    {
     "data": {
      "text/plain": [
       "140336425188672"
      ]
     },
     "execution_count": 89,
     "metadata": {},
     "output_type": "execute_result"
    }
   ],
   "source": [
    "a = [1, 2, 3]\n",
    "id(a)"
   ]
  },
  {
   "cell_type": "markdown",
   "id": "d9e5f384",
   "metadata": {},
   "source": [
    "- id는 변수가 가리키고 있는 객체의 주소 값을 리턴하는 파이썬의 내장 함수이다. 즉, 여기에서 필자가 만든 변수 a가 가리키는 [1, 2, 3] 리스트의 주소 값은 4303029896이라는 것을 알 수 있다.\n",
    "\n",
    "\n",
    "<img src='https://wikidocs.net/images/page/18/02_8_memory.png'>"
   ]
  },
  {
   "cell_type": "markdown",
   "id": "2406fbdd",
   "metadata": {},
   "source": [
    "## 리스트를 복사하고자 할 때\n",
    "- 이번에는 리스트 자료형에서 가장 혼동하기 쉬운 ‘복사’에 대해 설명한다. 다음 예를 통해 알아보자.\n",
    "\n"
   ]
  },
  {
   "cell_type": "code",
   "execution_count": 90,
   "id": "d8330988",
   "metadata": {},
   "outputs": [],
   "source": [
    "a = [1, 2, 3]\n",
    "b = a"
   ]
  },
  {
   "cell_type": "markdown",
   "id": "9be06bf2",
   "metadata": {},
   "source": [
    "- b 변수에 a 변수를 대입하면 어떻게 될까? b와 a는 같은 걸까, 다른 걸까? 결론부터 말하면 b는 a와 완전히 동일하다고 할 수 있다. 다만 [1, 2, 3]이라는 리스트 객체를 참조하는 변수가 a 변수 1개에서 b 변수가 추가되어 2개로 늘어났다는 차이만 있을 뿐이다.\n",
    "\n",
    "- id 함수를 사용하면 이러한 사실을 확인할 수 있다.\n",
    "\n"
   ]
  },
  {
   "cell_type": "code",
   "execution_count": 91,
   "id": "d8979f27",
   "metadata": {},
   "outputs": [
    {
     "data": {
      "text/plain": [
       "140336941509312"
      ]
     },
     "execution_count": 91,
     "metadata": {},
     "output_type": "execute_result"
    }
   ],
   "source": [
    "id(a)"
   ]
  },
  {
   "cell_type": "code",
   "execution_count": 92,
   "id": "3f4c2a5e",
   "metadata": {},
   "outputs": [
    {
     "data": {
      "text/plain": [
       "140336941509312"
      ]
     },
     "execution_count": 92,
     "metadata": {},
     "output_type": "execute_result"
    }
   ],
   "source": [
    "id(b)"
   ]
  },
  {
   "cell_type": "markdown",
   "id": "66dd4255",
   "metadata": {},
   "source": [
    "- id(a)의 값이 id(b)의 값과 동일하다는 것을 확인할 수 있다. 즉, a가 가리키는 대상과 b가 가리키는 대상이 동일하다는 것을 알 수 있다. 동일한 객체를 가리키고 있는지에 대해서 판단하는 파이썬 명령어 is를 다음과 같이 실행해도 역시 참을 리턴해 준다.\n",
    "\n"
   ]
  },
  {
   "cell_type": "code",
   "execution_count": 93,
   "id": "60d5f337",
   "metadata": {},
   "outputs": [
    {
     "data": {
      "text/plain": [
       "True"
      ]
     },
     "execution_count": 93,
     "metadata": {},
     "output_type": "execute_result"
    }
   ],
   "source": [
    "a is b "
   ]
  },
  {
   "cell_type": "markdown",
   "id": "93bd777d",
   "metadata": {},
   "source": [
    "- 이제 다음 예를 계속 수행해 보자.\n",
    "\n"
   ]
  },
  {
   "cell_type": "code",
   "execution_count": 94,
   "id": "dc31fbe8",
   "metadata": {},
   "outputs": [
    {
     "data": {
      "text/plain": [
       "[1, 4, 3]"
      ]
     },
     "execution_count": 94,
     "metadata": {},
     "output_type": "execute_result"
    }
   ],
   "source": [
    "a[1] = 4\n",
    "a"
   ]
  },
  {
   "cell_type": "code",
   "execution_count": 95,
   "id": "b0787dc0",
   "metadata": {},
   "outputs": [
    {
     "data": {
      "text/plain": [
       "[1, 4, 3]"
      ]
     },
     "execution_count": 95,
     "metadata": {},
     "output_type": "execute_result"
    }
   ],
   "source": [
    "b"
   ]
  },
  {
   "cell_type": "markdown",
   "id": "2074cd4b",
   "metadata": {},
   "source": [
    "- a 리스트의 두 번째 요소를 값 4로 바꾸었더니 a만 바뀌는 것이 아니라 b도 똑같이 바뀌었다. 그 이유는 앞에서 살펴본 것처럼 a, b 모두 동일한 리스트를 가리키고 있기 때문이다.\n",
    "\n",
    "- 그렇다면 b 변수를 생성할 때 a 변수의 값을 가져오면서 a와는 다른 주소를 가리키도록 만들 수는 없을까? 다음 2가지 방법이 있다."
   ]
  },
  {
   "cell_type": "markdown",
   "id": "fe73dfda",
   "metadata": {},
   "source": [
    "### 1. [:] 이용하기\n",
    "- 첫 번째 방법은 다음과 같이 리스트 전체를 가리키는 [:]을 사용해서 복사하는 것이다.\n",
    "\n"
   ]
  },
  {
   "cell_type": "code",
   "execution_count": 98,
   "id": "b7a3d725",
   "metadata": {},
   "outputs": [
    {
     "data": {
      "text/plain": [
       "[1, 4, 3]"
      ]
     },
     "execution_count": 98,
     "metadata": {},
     "output_type": "execute_result"
    }
   ],
   "source": [
    "a = [1, 2, 3]\n",
    "b = a[:]\n",
    "a[1] = 4\n",
    "a"
   ]
  },
  {
   "cell_type": "code",
   "execution_count": 99,
   "id": "6aa373d4",
   "metadata": {},
   "outputs": [
    {
     "data": {
      "text/plain": [
       "[1, 2, 3]"
      ]
     },
     "execution_count": 99,
     "metadata": {},
     "output_type": "execute_result"
    }
   ],
   "source": [
    "b"
   ]
  },
  {
   "cell_type": "markdown",
   "id": "87adf43b",
   "metadata": {},
   "source": [
    "- 위 예에서 볼 수 있듯이 a 리스트 값을 바꾸더라도 b 리스트에는 아무런 영향이 없다.\n",
    "\n"
   ]
  },
  {
   "cell_type": "markdown",
   "id": "cdc0949c",
   "metadata": {},
   "source": [
    "### 2. copy 모듈 이용하기\n",
    "- 두 번째 방법은 copy 모듈을 사용하는 것이다. 다음 예를 보면 from copy import copy라는 처음 보는 형태의 문장이 나오는데, 이것은 뒤에 설명할 파이썬 모듈 부분에서 자세히 다룬다. 여기에서는 단순히 copy 함수를 쓰기 위해서 사용하는 것이라고만 알아 두자.\n",
    "\n"
   ]
  },
  {
   "cell_type": "code",
   "execution_count": 100,
   "id": "1019951d",
   "metadata": {},
   "outputs": [],
   "source": [
    "from copy import copy\n",
    "a = [1, 2, 3]\n",
    "b = copy(a)"
   ]
  },
  {
   "cell_type": "markdown",
   "id": "4f5587f6",
   "metadata": {},
   "source": [
    "- 위 예에서 b = copy(a)는 b = a[:]과 동일하다.\n",
    "\n",
    "- 두 변수의 값은 같지만, 서로 다른 객체를 가리키고 있는지 다음과 같이 확인해 보자.\n",
    "\n"
   ]
  },
  {
   "cell_type": "code",
   "execution_count": 101,
   "id": "d7a39347",
   "metadata": {},
   "outputs": [
    {
     "data": {
      "text/plain": [
       "False"
      ]
     },
     "execution_count": 101,
     "metadata": {},
     "output_type": "execute_result"
    }
   ],
   "source": [
    "b is a"
   ]
  },
  {
   "cell_type": "markdown",
   "id": "ce52166c",
   "metadata": {},
   "source": [
    "- 위 예에서 b is a가 False를 리턴하므로 b와 a가 가리키는 객체는 서로 다르다는 것을 알 수 있다.\n",
    "\n",
    "\n",
    "**copy 함수 사용하기**\n",
    "- 다음처럼 리스트 자료형의 자체 함수인 copy 함수를 사용해도 copy 모듈을 사용하는 것과 동일한 결과를 얻을 수 있다.\n"
   ]
  },
  {
   "cell_type": "code",
   "execution_count": 102,
   "id": "ee6e615c",
   "metadata": {},
   "outputs": [
    {
     "data": {
      "text/plain": [
       "False"
      ]
     },
     "execution_count": 102,
     "metadata": {},
     "output_type": "execute_result"
    }
   ],
   "source": [
    "a = [1, 2, 3]\n",
    "b = a.copy()\n",
    "b is a"
   ]
  },
  {
   "cell_type": "markdown",
   "id": "48fe15ef",
   "metadata": {},
   "source": [
    "## 변수를 만드는 여러 가지 방법\n",
    "- 다음과 같이 튜플로 a, b에 값을 대입할 수 있다.\n",
    "\n"
   ]
  },
  {
   "cell_type": "code",
   "execution_count": 103,
   "id": "dd01cf73",
   "metadata": {},
   "outputs": [],
   "source": [
    "a, b = ('python', 'life')"
   ]
  },
  {
   "cell_type": "markdown",
   "id": "ac3b292a",
   "metadata": {},
   "source": [
    "- 이 방법은 다음 예문과 완전히 동일하다.\n",
    "\n"
   ]
  },
  {
   "cell_type": "code",
   "execution_count": 104,
   "id": "1c8c8864",
   "metadata": {},
   "outputs": [],
   "source": [
    "(a, b) = 'python', 'life'"
   ]
  },
  {
   "cell_type": "markdown",
   "id": "da35abc3",
   "metadata": {},
   "source": [
    "- 튜플 부분에서도 언급했지만, 튜플은 괄호를 생략해도 된다.\n",
    "\n",
    "- 다음처럼 리스트로 변수를 만들 수도 있다.\n",
    "\n"
   ]
  },
  {
   "cell_type": "code",
   "execution_count": 105,
   "id": "feb34487",
   "metadata": {},
   "outputs": [],
   "source": [
    "[a, b] = ['python', 'life']"
   ]
  },
  {
   "cell_type": "markdown",
   "id": "7fad0728",
   "metadata": {},
   "source": [
    "- 또한 여러 개의 변수에 같은 값을 대입할 수도 있다.\n",
    "\n"
   ]
  },
  {
   "cell_type": "code",
   "execution_count": 106,
   "id": "41abd4d6",
   "metadata": {},
   "outputs": [],
   "source": [
    "a = b = 'python'"
   ]
  },
  {
   "cell_type": "markdown",
   "id": "a9c242f8",
   "metadata": {},
   "source": [
    "- 파이썬에서는 위 방법을 사용하여 두 변수의 값을 매우 간단하게 바꿀 수 있다.\n",
    "\n"
   ]
  },
  {
   "cell_type": "code",
   "execution_count": 107,
   "id": "80187cfb",
   "metadata": {},
   "outputs": [
    {
     "data": {
      "text/plain": [
       "5"
      ]
     },
     "execution_count": 107,
     "metadata": {},
     "output_type": "execute_result"
    }
   ],
   "source": [
    "a = 3\n",
    "b = 5\n",
    "a, b = b, a\n",
    "a"
   ]
  },
  {
   "cell_type": "code",
   "execution_count": 108,
   "id": "9d4bfd4e",
   "metadata": {},
   "outputs": [
    {
     "data": {
      "text/plain": [
       "3"
      ]
     },
     "execution_count": 108,
     "metadata": {},
     "output_type": "execute_result"
    }
   ],
   "source": [
    "b"
   ]
  },
  {
   "cell_type": "markdown",
   "id": "bc8427ff",
   "metadata": {},
   "source": [
    "- 처음에 a에 값 3, b에는 값 5가 대입되어 있었지만 a, b = b, a 문장을 수행한 후에는 그 값이 서로 바뀌었다는 것을 확인할 수 있다."
   ]
  },
  {
   "cell_type": "markdown",
   "id": "6a96d634",
   "metadata": {},
   "source": [
    "**문제**\n",
    "- 다음 예제를 실행 후 그 결과를 설명해 보자\n",
    "\n",
    "```python\n",
    "a = [1, 2, 3]\n",
    "b = [1, 2, 3]\n",
    "a is b\n",
    "```"
   ]
  },
  {
   "cell_type": "code",
   "execution_count": null,
   "id": "7fbea048",
   "metadata": {},
   "outputs": [],
   "source": []
  },
  {
   "cell_type": "markdown",
   "id": "fd479e0c",
   "metadata": {},
   "source": [
    "# 되새김 문제"
   ]
  },
  {
   "cell_type": "markdown",
   "id": "3e6988b8",
   "metadata": {},
   "source": [
    "## 평균 점수 구하기\n",
    "- 홍길동 씨의 과목별 점수는 다음과 같다.\n",
    "- 홍길동 씨의 평균 점수를 구해보자\n",
    "\n",
    "|  과목   |   점수     |\n",
    "|-------|-------------|\n",
    "| 국어  |   80       |\n",
    "| 영어 |   75  |\n",
    "| 수학 |   55  |\n"
   ]
  },
  {
   "cell_type": "code",
   "execution_count": null,
   "id": "a521111b",
   "metadata": {},
   "outputs": [],
   "source": []
  },
  {
   "cell_type": "markdown",
   "id": "8c55954d",
   "metadata": {},
   "source": [
    "## 홀수, 짝수 판별하기\n",
    "- 자연수 13이 홀수인지, 짝수인지 판별할 수 있는 방법에 대해 말해보고 구현해 보자."
   ]
  },
  {
   "cell_type": "code",
   "execution_count": null,
   "id": "344632b1",
   "metadata": {},
   "outputs": [],
   "source": []
  },
  {
   "cell_type": "markdown",
   "id": "67cc54de",
   "metadata": {},
   "source": [
    "## 주민등록번호 나누기\n",
    "- 홍길동 씨의 주민등록 번호는 881120-1068234 이다\n",
    "- 홍길동 씨의 주민등록번호를 연월일(YYYYMMDD) 부분과\n",
    "- 그 뒤 숫자(num) 부분으로 나누어 출력해 보자"
   ]
  },
  {
   "cell_type": "code",
   "execution_count": 112,
   "id": "c9b19855",
   "metadata": {},
   "outputs": [],
   "source": [
    "pin = '881120-1068234'"
   ]
  },
  {
   "cell_type": "code",
   "execution_count": null,
   "id": "705a1842",
   "metadata": {},
   "outputs": [],
   "source": []
  },
  {
   "cell_type": "markdown",
   "id": "ae077c08",
   "metadata": {},
   "source": [
    "## 주민등록번호 인덱싱\n",
    "- 주민등록번호 뒷자리의 맨 첫 번쨰 숫자는 성별을 나타낸다\n",
    "- 주민등록번호에서 성별을 나타내는 숫자를 출력해 보자"
   ]
  },
  {
   "cell_type": "code",
   "execution_count": 113,
   "id": "52c416fb",
   "metadata": {},
   "outputs": [],
   "source": [
    "pin = '881120-1068234'"
   ]
  },
  {
   "cell_type": "code",
   "execution_count": null,
   "id": "c7e0f82c",
   "metadata": {},
   "outputs": [],
   "source": []
  },
  {
   "cell_type": "markdown",
   "id": "86069589",
   "metadata": {},
   "source": [
    "## 문자열 바꾸기\n",
    "- 다음과 같이 문자열 a:b:c:d 가 있다\n",
    "- 문자열의 replace 함수를 사용, a#b#c#d 로 바꾸어 출력해 보자"
   ]
  },
  {
   "cell_type": "code",
   "execution_count": 114,
   "id": "09be0805",
   "metadata": {},
   "outputs": [],
   "source": [
    "a = \"a:b:c:d\""
   ]
  },
  {
   "cell_type": "code",
   "execution_count": null,
   "id": "c0990104",
   "metadata": {},
   "outputs": [],
   "source": []
  },
  {
   "cell_type": "markdown",
   "id": "ce3daaae",
   "metadata": {},
   "source": [
    "## 리스트 역순 정렬하기\n",
    "- [1, 3, 5, 4, 2] 리스트를 [5, 4, 3, 2, 1] 로 만들어 보자"
   ]
  },
  {
   "cell_type": "code",
   "execution_count": 115,
   "id": "3adf36f1",
   "metadata": {},
   "outputs": [],
   "source": [
    "a = [1, 3, 5, 4, 2]"
   ]
  },
  {
   "cell_type": "code",
   "execution_count": null,
   "id": "5a6674de",
   "metadata": {},
   "outputs": [],
   "source": []
  },
  {
   "cell_type": "markdown",
   "id": "b9b56103",
   "metadata": {},
   "source": [
    "## 리스트를 문자열로 만들기\n",
    "- ['Life', 'is', 'too', 'short'] 리스트를 \n",
    "- Life is too short 문자열로 만들어 출력해 보자"
   ]
  },
  {
   "cell_type": "code",
   "execution_count": 116,
   "id": "9240dceb",
   "metadata": {},
   "outputs": [],
   "source": [
    "a = ['Life', 'is', 'too', 'short']"
   ]
  },
  {
   "cell_type": "code",
   "execution_count": null,
   "id": "c02b3666",
   "metadata": {},
   "outputs": [],
   "source": []
  },
  {
   "cell_type": "markdown",
   "id": "d0a4675c",
   "metadata": {},
   "source": [
    "## 튜플 더하기\n",
    "- (1, 2, 3, 4) 튜플에 5를 추가, (1, 2, 3, 4, 5)를 만든 후 출력해 보자"
   ]
  },
  {
   "cell_type": "code",
   "execution_count": 117,
   "id": "508f71b1",
   "metadata": {},
   "outputs": [],
   "source": [
    "a = (1, 2, 3, 4)"
   ]
  },
  {
   "cell_type": "code",
   "execution_count": null,
   "id": "4078c5d8",
   "metadata": {},
   "outputs": [],
   "source": []
  },
  {
   "cell_type": "markdown",
   "id": "3aa8b7b9",
   "metadata": {},
   "source": [
    "## 딕셔너리의 키\n",
    "- 다음과 같은 빈 딕셔너리 a 가 있다."
   ]
  },
  {
   "cell_type": "code",
   "execution_count": 118,
   "id": "77bf62b3",
   "metadata": {},
   "outputs": [
    {
     "data": {
      "text/plain": [
       "{}"
      ]
     },
     "execution_count": 118,
     "metadata": {},
     "output_type": "execute_result"
    }
   ],
   "source": [
    "a = dict()\n",
    "a"
   ]
  },
  {
   "cell_type": "markdown",
   "id": "837e5008",
   "metadata": {},
   "source": [
    "- 다음 중 오류가 발생하는 경우를 고르고, 이유를 설명해 보자\n",
    "\n",
    "```python\n",
    "\n",
    "a['name'] = 'python'\n",
    "a[('a',)] = 'python'\n",
    "a[[1]] = 'python'\n",
    "a[250] = 'python'\n",
    "\n",
    "```"
   ]
  },
  {
   "cell_type": "code",
   "execution_count": null,
   "id": "38746a16",
   "metadata": {},
   "outputs": [],
   "source": []
  },
  {
   "cell_type": "markdown",
   "id": "188933a0",
   "metadata": {},
   "source": [
    "## 딕셔너리 값 추출하기\n",
    "- 딕셔너리 a에서 'B'에 해당하는 값을 추출(pop)해 별도의 변수에 담고(b)\n",
    "- b와 a를 출력해 보자"
   ]
  },
  {
   "cell_type": "code",
   "execution_count": 123,
   "id": "8fd49650",
   "metadata": {},
   "outputs": [],
   "source": [
    "a = {'A':90, 'B':80, 'C':70}"
   ]
  },
  {
   "cell_type": "code",
   "execution_count": null,
   "id": "929da866",
   "metadata": {},
   "outputs": [],
   "source": []
  },
  {
   "cell_type": "markdown",
   "id": "b562bce0",
   "metadata": {},
   "source": [
    "## 리스트에서 중복 제거하기\n",
    "- a리스트에서 중복 숫자를 제거해 보자\n",
    "- 힌트 : set "
   ]
  },
  {
   "cell_type": "code",
   "execution_count": 125,
   "id": "bc002639",
   "metadata": {},
   "outputs": [],
   "source": [
    "a = [1, 1, 1, 2, 2, 3, 3, 3, 4, 4, 5]"
   ]
  },
  {
   "cell_type": "code",
   "execution_count": null,
   "id": "df50e65e",
   "metadata": {},
   "outputs": [],
   "source": []
  },
  {
   "cell_type": "markdown",
   "id": "1810f0b6",
   "metadata": {},
   "source": [
    "## 파이썬 변수\n",
    "- 파이썬은 다음처럼 동일한 값에 여러개의 변수를 선언 할 수 있다.\n",
    "- 다음과 같이 a, b 변수를 선언 후, a의 두번째 요솟값을 변경하면 b의 값은 어떻게 되나?"
   ]
  },
  {
   "cell_type": "code",
   "execution_count": null,
   "id": "ccc0e15b",
   "metadata": {},
   "outputs": [],
   "source": [
    "a = b = [1, 2, 3]\n",
    "a[1] = 4\n",
    "b"
   ]
  }
 ],
 "metadata": {
  "kernelspec": {
   "display_name": "Python 3 (ipykernel)",
   "language": "python",
   "name": "python3"
  },
  "language_info": {
   "codemirror_mode": {
    "name": "ipython",
    "version": 3
   },
   "file_extension": ".py",
   "mimetype": "text/x-python",
   "name": "python",
   "nbconvert_exporter": "python",
   "pygments_lexer": "ipython3",
   "version": "3.10.9"
  },
  "toc": {
   "base_numbering": 1,
   "nav_menu": {},
   "number_sections": true,
   "sideBar": true,
   "skip_h1_title": false,
   "title_cell": "Table of Contents",
   "title_sidebar": "Contents",
   "toc_cell": false,
   "toc_position": {
    "height": "calc(100% - 180px)",
    "left": "10px",
    "top": "150px",
    "width": "219.429px"
   },
   "toc_section_display": true,
   "toc_window_display": false
  }
 },
 "nbformat": 4,
 "nbformat_minor": 5
}
