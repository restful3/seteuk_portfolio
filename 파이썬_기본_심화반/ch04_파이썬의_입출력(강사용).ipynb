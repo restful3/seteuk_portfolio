{
 "cells": [
  {
   "cell_type": "markdown",
   "id": "638fa879-4ccf-4b7e-be6f-18dc1bbe6028",
   "metadata": {},
   "source": [
    "- 지금까지 공부한 내용을 바탕으로 함수, 입출력, 파일 처리 방법 등에 대해서 알아보자. 입출력은 프로그래밍 설계와 관련이 있다. 프로그래머는 프로그램을 만들기 전에 어떤 식으로 동작하게 할 것인지 설계부터 하는데, 이때 가장 중요한 부분이 바로 입출력이다. 특정 프로그램만 사용하는 함수를 만들 것인지, 모든 프로그램이 공통으로 사용하는 함수를 만들 것인지, 더 나아가 오픈 API로 공개하여 외부 프로그램도 사용할 수 있게 만들 것인지가 모두 입출력과 관련 있다."
   ]
  },
  {
   "cell_type": "markdown",
   "id": "a4a427a3-d3ec-4961-8475-ff96b05ca461",
   "metadata": {},
   "source": [
    "# 함수\n",
    "- 파이썬에서 함수를 이해하는 것은 매우 중요하다. 먼저 함수란 무엇인지 알아보자.\n",
    "\n",
    "## 함수란 무엇인가?\n",
    "- 함수를 설명하기 전에 믹서를 생각해 보자. 우리는 믹서에 과일을 넣는다. 그리고 믹서를 사용해서 과일을 갈아 과일 주스를 만든다. 우리가 믹서에 넣는 과일은 ‘입력’, 과일 주스는 ‘출력(결괏값)’이 된다.\n",
    "\n",
    "- 그렇다면 믹서는 무엇일까?\n",
    "\n",
    "<img src=\"https://wikidocs.net/images/page/24/04_1_mixer.png\">\n",
    "\n",
    "> 믹서는 과일을 입력받아 주스를 출력하는 함수와 같다.\n",
    "\n",
    "- 우리가 배우려는 함수가 바로 믹서와 비슷하다. 입력값을 가지고 어떤 일을 수행한 후 그 결과물을 내어 놓는 것이 바로 함수가 하는 일이다. 우리는 어려서부터 함수에 대해 공부했지만, 함수에 관해 깊이 생각해 본 적은 별로 없을 것이다.\n",
    "- 예를 들어 $y=2x+3$도 함수이다. 하지만 이를 수학 시간에 배운 직선 그래프로만 알고 있을 뿐, 입력값(x)에 따라 출력값(y)이 변하는 함수라는 사실에 대해서는 관심을 두지 않았을 것이다.\n",
    "\n",
    "- 이제 우리는 함수에 대해 좀 더 생각해 봐야 한다. 프로그래밍에서 함수는 정말 중요하기 때문이다. 파이썬 함수의 세계로 깊이 들어가 보자.\n",
    "\n",
    "## 함수를 사용하는 이유는 무엇일까?\n",
    "- 프로그래밍을 하다 보면 똑같은 내용을 반복해서 작성하고 있는 자신을 발견할 때가 종종 있다. 이때가 바로 함수가 필요한 때이다. 즉, 반복되는 부분이 있을 경우, ‘반복적으로 사용되는 가치 있는 부분’을 한 뭉치로 묶어 ‘어떤 입력값을 주었을 때 어떤 결괏값을 리턴해 준다’라는 식의 함수로 작성하는 것이다.\n",
    "\n",
    "- 함수를 사용하는 또 다른 이유는 자신이 작성한 프로그램을 기능 단위의 함수로 분리해 놓으면 프로그램 흐름을 일목요연하게 볼 수 있기 때문이다. 마치 공장에서 원재료가 여러 공정을 거쳐 하나의 완제품이 되는 것처럼 프로그램에서도 입력한 값이 여러 함수를 거치면서 원하는 결괏값을 내는 것을 볼 수 있다. 이렇게 되면 프로그램 흐름도 잘 파악할 수 있고 오류가 어디에서 나는지도 쉽게 알아차릴 수 있다.\n",
    "\n",
    "## 파이썬 함수의 구조\n",
    "- 파이썬 함수의 구조는 다음과 같다.\n",
    "```python\n",
    "def 함수_이름(매개변수):\n",
    "    수행할_문장1\n",
    "    수행할_문장2\n",
    "    ...\n",
    "```    \n",
    "- def는 함수를 만들 때 사용하는 예약어이며, 함수 이름은 함수를 만드는 사람이 임의로 만들 수 있다. 함수 이름 뒤 괄호 안의 매개변수는 이 함수에 입력으로 전달되는 값을 받는 변수이다. 이렇게 함수를 정의한 후 if, while, for 문 등과 마찬가지로 함수에서 수행할 문장을 입력한다.\n",
    "\n",
    "- 간단하지만 많은 것을 설명해 주는 다음 예를 살펴보자.\n",
    "\n"
   ]
  },
  {
   "cell_type": "code",
   "execution_count": 1,
   "id": "aab86339-3b91-4e50-85fe-b606f586ba06",
   "metadata": {},
   "outputs": [],
   "source": [
    "def add(a, b): \n",
    "    return a + b"
   ]
  },
  {
   "cell_type": "markdown",
   "id": "82ea1afc-5896-4c37-995b-89b5ea3d95bc",
   "metadata": {},
   "source": [
    "- 위 함수는 다음과 같이 풀이된다.\n",
    "> 이 함수의 이름은 add이고 입력으로 2개의 값을 받으며 리턴값(출력값)은 2개의 입력값을 더한 값이다.\n",
    "- 여기에서 return은 함수의 결괏값(리턴값)을 리턴하는 명령어이다. 먼저 다음과 같이 add 함수를 만들자."
   ]
  },
  {
   "cell_type": "code",
   "execution_count": 2,
   "id": "2d704acc-2277-4dd4-b8af-603b3d610469",
   "metadata": {},
   "outputs": [],
   "source": [
    "def add(a, b): \n",
    "    return a + b"
   ]
  },
  {
   "cell_type": "markdown",
   "id": "b5696cc9-9096-44c7-9180-a83bc7eeca78",
   "metadata": {},
   "source": [
    "- 이제 직접 add 함수를 사용해 보자."
   ]
  },
  {
   "cell_type": "code",
   "execution_count": 3,
   "id": "5703d7e6-01ca-4ac4-ab87-14d818b89c85",
   "metadata": {},
   "outputs": [
    {
     "name": "stdout",
     "output_type": "stream",
     "text": [
      "7\n"
     ]
    }
   ],
   "source": [
    "a = 3\n",
    "b = 4\n",
    "c = add(a, b)  # add(3, 4)의 리턴값을 c에 대입\n",
    "print(c)"
   ]
  },
  {
   "cell_type": "markdown",
   "id": "7f22de68-974e-4155-8434-7af9270f29ae",
   "metadata": {},
   "source": [
    "- 변수 a에 3, b에 4를 대입한 후 앞에서 만든 add 함수에 a와 b를 입력값으로 넣어 준다. 그리고 변수 c에 add 함수의 리턴값을 대입하면 print(c)로 c의 값을 확인할 수 있다.\n",
    "\n",
    "## 매개변수와 인수\n",
    "- 매개변수(parameter)와 인수(arguments)는 혼용해서 사용하는 용어이므로 잘 기억해 두자. 매개변수는 함수에 입력으로 전달된 값을 받는 변수, 인수는 함수를 호출할 때 전달하는 입력값을 의미한다."
   ]
  },
  {
   "cell_type": "code",
   "execution_count": 4,
   "id": "85910de9-91a9-490d-93e0-941420e1cc92",
   "metadata": {},
   "outputs": [
    {
     "name": "stdout",
     "output_type": "stream",
     "text": [
      "7\n"
     ]
    }
   ],
   "source": [
    "def add(a, b):  # a, b는 매개변수\n",
    "    return a+b\n",
    "\n",
    "print(add(3, 4))  # 3, 4는 인수"
   ]
  },
  {
   "cell_type": "markdown",
   "id": "9b9b119a-3a70-4cba-9775-4f260c4e46a3",
   "metadata": {},
   "source": [
    "**같은 의미를 가진 여러 가지 용어에 주의하자**\n",
    "\n",
    "- 프로그래밍을 공부할 때 어려운 부분 중 하나가 용어의 혼용이라고 할 수 있다. 우리는 공부하면서 원서를 보기도 하고 누군가의 번역본을 보기도 하면서 의미는 같지만 표현이 다른 용어를 자주 만나게 된다. 한 예로 입력값을 다른 말로 함수의 인수, 파라미터, 매개변수 등으로 말하기도 하고, 함수의 리턴값을 결괏값, 출력값, 반환값, 돌려 주는 값 등으로 말하기도 한다. 이렇듯 많은 용어가 여러 가지 다른 말로 표현되지만 의미는 동일한 경우가 많다. 따라서 이런 용어를 기억해 놓아야 머리가 덜 아플 것이다.\n",
    "\n",
    ">이 책에서는 함수를 사용할 때 입력값, 리턴값이라는 용어로 통일하여 사용한다.\n",
    "\n"
   ]
  },
  {
   "cell_type": "markdown",
   "id": "2588b983-0e37-4701-a76e-a8926be51fd7",
   "metadata": {},
   "source": [
    "## 입력값과 리턴값에 따른 함수의 형태\n",
    "- 함수는 들어온 입력값을 받은 후 어떤 처리를 하여 적절한 값을 리턴해 준다.\n",
    "\n",
    "<img src=\"https://wikidocs.net/images/page/24/04_1_function1.png\" width=300>\n",
    "\n",
    "- 함수의 형태는 입력값과 리턴값의 존재 유무에 따라 4가지 유형으로 나뉜다. 자세히 알아보자.\n",
    "\n",
    "### 일반적인 함수\n",
    "- 입력값이 있고 리턴값이 있는 함수가 일반적인 함수이다. 앞으로 여러분이 프로그래밍을 할 때 만들 함수는 대부분 다음과 비슷한 형태일 것이다.\n",
    "\n",
    "```python\n",
    "def 함수_이름(매개변수):\n",
    "    수행할_문장\n",
    "    ...\n",
    "    return 리턴값\n",
    "```\n",
    "\n",
    "- 다음은 일반적인 함수의 전형적인 예이다.\n",
    "\n"
   ]
  },
  {
   "cell_type": "code",
   "execution_count": 5,
   "id": "9713826b-d64f-4904-8ab0-404364c8b636",
   "metadata": {},
   "outputs": [],
   "source": [
    "def add(a, b): \n",
    "    result = a + b \n",
    "    return result"
   ]
  },
  {
   "cell_type": "markdown",
   "id": "380ce56c-bfaf-407a-ba13-240cef165384",
   "metadata": {},
   "source": [
    "- add 함수는 2개의 입력값을 받아 서로 더한 결괏값을 리턴한다.\n",
    "\n",
    "- 이 함수를 사용하는 방법은 다음과 같다. 입력값으로 3과 4를 주고 리턴값을 받아 보자.\n",
    "\n"
   ]
  },
  {
   "cell_type": "code",
   "execution_count": 6,
   "id": "babb812b-8be1-4cf0-83e0-8a16d671b855",
   "metadata": {},
   "outputs": [
    {
     "name": "stdout",
     "output_type": "stream",
     "text": [
      "7\n"
     ]
    }
   ],
   "source": [
    "a = add(3, 4)\n",
    "print(a)"
   ]
  },
  {
   "cell_type": "markdown",
   "id": "ab798eba-a2eb-4421-9ce1-03b784a71eab",
   "metadata": {},
   "source": [
    "- 이처럼 입력값과 리턴값이 있는 함수의 사용법을 정리하면 다음과 같다.\n",
    "\n",
    "> 리턴값을_받을_변수 = 함수_이름(입력_인수1, 입력_인수2, ...)\n",
    "\n",
    "\n",
    "### 입력값이 없는 함수\n",
    "- 입력값이 없는 함수가 존재할까? 당연히 존재한다. 다음과 같이 작성해 보자.\n",
    "\n"
   ]
  },
  {
   "cell_type": "code",
   "execution_count": 7,
   "id": "255e9c81-b3a8-4688-a20a-5f6d67e938ef",
   "metadata": {},
   "outputs": [],
   "source": [
    "def say(): \n",
    "    return 'Hi' "
   ]
  },
  {
   "cell_type": "markdown",
   "id": "d87e67e8-7ef1-4788-ba64-ed5c5a3a9b6e",
   "metadata": {},
   "source": [
    "- say라는 이름의 함수를 만들었다. 그런데 매개변수 부분을 나타내는 함수 이름 뒤의 괄호 안이 비어 있다. 이 함수는 어떻게 사용하는 것일까?\n",
    "\n",
    "- 다음을 직접 입력해 보자.\n",
    "\n"
   ]
  },
  {
   "cell_type": "code",
   "execution_count": 8,
   "id": "ee51c534-3a2d-4c14-b5d8-e01de4acd510",
   "metadata": {},
   "outputs": [
    {
     "name": "stdout",
     "output_type": "stream",
     "text": [
      "Hi\n"
     ]
    }
   ],
   "source": [
    "a = say()\n",
    "print(a)"
   ]
  },
  {
   "cell_type": "markdown",
   "id": "3a4dfcb3-4fa4-4765-ba27-7df33b2aa899",
   "metadata": {},
   "source": [
    "- 위 함수를 쓰기 위해서는 say()처럼 괄호 안에 아무런 값도 넣지 않아야 한다. 이 함수는 입력값은 없지만, 리턴값으로 \"Hi\"라는 문자열을 리턴한다. 즉, a = say()처럼 작성하면 a에 \"Hi\"라는 문자열이 대입되는 것이다.\n",
    "\n",
    "- 이처럼 입력값이 없고 리턴값만 있는 함수는 다음과 같이 사용한다.\n",
    "\n",
    "> 리턴값을_받을_변수 = 함수_이름()\n"
   ]
  },
  {
   "cell_type": "markdown",
   "id": "6cbe314c-ac6a-4a7c-992d-33f5a3d75b3f",
   "metadata": {},
   "source": [
    "### 리턴값이 없는 함수\n",
    "- 리턴값이 없는 함수 역시 존재한다. 다음 예를 살펴보자.\n",
    "\n"
   ]
  },
  {
   "cell_type": "code",
   "execution_count": 9,
   "id": "590b4a83-f1d8-4618-909f-0c934cf3a289",
   "metadata": {},
   "outputs": [],
   "source": [
    "def add(a, b): \n",
    "    print(\"%d, %d의 합은 %d입니다.\" % (a, b, a+b))"
   ]
  },
  {
   "cell_type": "markdown",
   "id": "ef5156ce-98c2-4d46-8e51-cbb3d066db11",
   "metadata": {},
   "source": [
    "- 리턴값이 없는 함수는 호출해도 리턴되는 값이 없기 때문에 다음과 같이 사용한다.\n",
    "\n"
   ]
  },
  {
   "cell_type": "code",
   "execution_count": 10,
   "id": "5674121c-8d52-4b54-ad36-fb006f18eb89",
   "metadata": {},
   "outputs": [
    {
     "name": "stdout",
     "output_type": "stream",
     "text": [
      "3, 4의 합은 7입니다.\n"
     ]
    }
   ],
   "source": [
    "add(3, 4)"
   ]
  },
  {
   "cell_type": "markdown",
   "id": "5303cd4c-2f78-4797-b31e-2a681e4c9eef",
   "metadata": {},
   "source": [
    "- 즉, 리턴값이 없는 함수는 다음과 같이 사용한다.\n",
    "\n",
    "> 함수_이름(입력_인수1, 입력_인수2, ...)\n"
   ]
  },
  {
   "cell_type": "markdown",
   "id": "0461260b-1535-4245-8a49-86bbb0789bfa",
   "metadata": {},
   "source": [
    "- 아마도 여러분은 ‘3, 4의 합은 7입니다.’라는 문장을 출력했는데 왜 리턴값이 없다는 것인지 의아하게 생각할 수도 있다. 이 부분을 초보자들이 혼란스러워하는데, print 문은 함수의 구성 요소 중 하나인 ‘수행할_문장’에 해당하는 부분일 뿐이다. 리턴값은 당연히 없다. 리턴값은 오직 return 명령어로만 돌려받을 수 있다.\n",
    "\n",
    "- 이를 확인해 보자. 리턴받을 값을 a 변수에 대입하고 a 값을 출력해 보면 리턴값이 있는지, 없는지 알 수 있다.\n",
    "\n"
   ]
  },
  {
   "cell_type": "code",
   "execution_count": 11,
   "id": "3afa0a9e-25a6-4400-ba29-4b6ae9d1b17f",
   "metadata": {},
   "outputs": [
    {
     "name": "stdout",
     "output_type": "stream",
     "text": [
      "3, 4의 합은 7입니다.\n"
     ]
    }
   ],
   "source": [
    "a = add(3, 4)"
   ]
  },
  {
   "cell_type": "code",
   "execution_count": 12,
   "id": "3e7e8a74-1458-4ffa-a27e-fbf80272f505",
   "metadata": {},
   "outputs": [
    {
     "name": "stdout",
     "output_type": "stream",
     "text": [
      "None\n"
     ]
    }
   ],
   "source": [
    "print(a)"
   ]
  },
  {
   "cell_type": "markdown",
   "id": "9a867240-653b-4de6-a197-f218dfaa885f",
   "metadata": {},
   "source": [
    "- a 값으로 None이 출력되었다. None이란 ‘거짓을 나타내는 자료형’이라고 언급한 적이 있다. add 함수처럼 리턴값이 없을 때 a = add(3, 4)처럼 쓰면 함수 add는 리턴값으로 a 변수에 None을 리턴한다. None을 리턴한다는 것은 리턴값이 없다는 것이다.\n",
    "\n"
   ]
  },
  {
   "cell_type": "markdown",
   "id": "46e3535b-234f-4d95-91ec-40e5940eee24",
   "metadata": {},
   "source": [
    "### 입력값도, 리턴값도 없는 함수\n",
    "- 입력값도, 리턴값도 없는 함수 역시 존재한다. 다음 예를 살펴보자.\n",
    "\n"
   ]
  },
  {
   "cell_type": "code",
   "execution_count": 13,
   "id": "53924a1f-2cee-417c-bab4-4d23d9959649",
   "metadata": {},
   "outputs": [],
   "source": [
    "def say(): \n",
    "    print('Hi')"
   ]
  },
  {
   "cell_type": "markdown",
   "id": "edd113e0-3552-4e80-ad1b-0fd50c056f2c",
   "metadata": {},
   "source": [
    "- 입력 인수를 받는 매개변수도 없고 return 문도 없으니 입력값도, 리턴값도 없는 함수이다.\n",
    "\n",
    "- 이 함수를 사용하는 방법은 단 1가지이다."
   ]
  },
  {
   "cell_type": "code",
   "execution_count": 14,
   "id": "43e1d197-e4b7-438e-a004-f9cf68c02021",
   "metadata": {},
   "outputs": [
    {
     "name": "stdout",
     "output_type": "stream",
     "text": [
      "Hi\n"
     ]
    }
   ],
   "source": [
    "say()"
   ]
  },
  {
   "cell_type": "markdown",
   "id": "ea883a51-978c-442c-9bfb-95ae5169fd81",
   "metadata": {},
   "source": [
    "- 즉, 입력값도, 리턴값도 없는 함수는 다음과 같이 사용한다.\n",
    "\n",
    "> 함수_이름()\n"
   ]
  },
  {
   "cell_type": "markdown",
   "id": "841d96d4-3cb2-4943-9bd0-763b18237760",
   "metadata": {},
   "source": [
    "### [문제] : 홀수 짝수 판별하기\n",
    "- 주어진 자연수가 홀수 인지, 짝수인지 판별하는 함수 is_odd 를 작성해 보자\n",
    "- is_odd 함수는, 홀수면 True, 짝수면 False를 리턴 해야 한다."
   ]
  },
  {
   "cell_type": "code",
   "execution_count": 1,
   "id": "b7576f13-85ed-4cbc-a487-171ed39cf4fe",
   "metadata": {},
   "outputs": [],
   "source": [
    "def is_odd(n):\n",
    "    if n%2 == 1: # 홀수\n",
    "        return True\n",
    "    else:\n",
    "        return False"
   ]
  },
  {
   "cell_type": "code",
   "execution_count": 3,
   "id": "83c6c305-9565-47af-b286-79869f215788",
   "metadata": {},
   "outputs": [
    {
     "data": {
      "text/plain": [
       "False"
      ]
     },
     "execution_count": 3,
     "metadata": {},
     "output_type": "execute_result"
    }
   ],
   "source": [
    "is_odd(2)"
   ]
  },
  {
   "cell_type": "markdown",
   "id": "db900811-67c9-4fdd-96f8-3a55d2574adb",
   "metadata": {},
   "source": [
    "## 매개변수를 지정하여 호출하기\n",
    "- 함수를 호출할 때 매개변수를 지정할 수도 있다. 다음 예를 살펴보자.\n",
    "\n"
   ]
  },
  {
   "cell_type": "code",
   "execution_count": 15,
   "id": "eebcc548-0804-440c-bab0-5f76168bd31c",
   "metadata": {},
   "outputs": [],
   "source": [
    "def sub(a, b):\n",
    "    return a - b"
   ]
  },
  {
   "cell_type": "markdown",
   "id": "d5bed56b-d225-451e-9114-d0b83aed8a8c",
   "metadata": {},
   "source": [
    "- 2개의 숫자를 입력받은 후 첫 번째 수에서 두 번째 수를 뺄셈하여 리턴하는 sub 함수이다. 이 함수는 다음과 같이 매개변수를 지정하여 사용할 수 있다.\n",
    "\n"
   ]
  },
  {
   "cell_type": "code",
   "execution_count": 16,
   "id": "70a4f5fc-9888-41f2-bd0d-f07e14068976",
   "metadata": {},
   "outputs": [
    {
     "name": "stdout",
     "output_type": "stream",
     "text": [
      "4\n"
     ]
    }
   ],
   "source": [
    "result = sub(a=7, b=3)  # a에 7, b에 3을 전달\n",
    "print(result)"
   ]
  },
  {
   "cell_type": "markdown",
   "id": "071d01d8-bca1-4930-889f-fd88ad1fccfd",
   "metadata": {},
   "source": [
    "- 매개변수를 지정하면 다음과 같이 순서에 상관없이 사용할 수 있다는 장점이 있다.\n",
    "\n"
   ]
  },
  {
   "cell_type": "code",
   "execution_count": 17,
   "id": "e7c25141-551d-4b6d-a756-b404a72b00d8",
   "metadata": {},
   "outputs": [
    {
     "name": "stdout",
     "output_type": "stream",
     "text": [
      "-2\n"
     ]
    }
   ],
   "source": [
    "result = sub(b=5, a=3)  # b에 5, a에 3을 전달\n",
    "print(result)"
   ]
  },
  {
   "cell_type": "markdown",
   "id": "3d503d15-2e2c-419b-8f84-15d04408d864",
   "metadata": {},
   "source": [
    "## 입력값이 몇 개가 될지 모를 때는 어떻게 해야 할까?\n",
    "- 입력값이 여러 개일 때 그 입력값을 모두 더해 주는 함수를 생각해 보자. 하지만 몇 개가 입력될지 모를 때는 어떻게 해야 할까? 아마도 난감할 것이다. 파이썬은 이런 문제를 해결하기 위해 다음과 같은 방법을 제공한다.\n",
    "\n",
    "```python\n",
    "def 함수_이름(*매개변수):\n",
    "    수행할_문장\n",
    "    ...\n",
    "```    "
   ]
  },
  {
   "cell_type": "markdown",
   "id": "e400f033-e0ca-42dd-acff-386e64f4d6a9",
   "metadata": {},
   "source": [
    "- 일반적으로 볼 수 있는 함수 형태에서 괄호 안의 매개변수 부분이 *매개변수로 바뀌었다.\n"
   ]
  },
  {
   "cell_type": "markdown",
   "id": "e518c075-3fe2-40fb-adde-a3bfeab14407",
   "metadata": {},
   "source": [
    "### 여러 개의 입력값을 받는 함수 만들기\n",
    "- 다음 예를 통해 여러 개의 입력값을 모두 더하는 함수를 직접 만들어 보자. 예를 들어 add_many(1, 2)이면 3, add_many(1, 2, 3)이면 6, add_many(1, 2, 3, 4, 5, 6, 7, 8, 9, 10)이면 55를 리턴하는 함수를 만들어 보자."
   ]
  },
  {
   "cell_type": "code",
   "execution_count": 18,
   "id": "3405aab8-1233-436e-966c-9b38ad7d857d",
   "metadata": {},
   "outputs": [],
   "source": [
    "def add_many(*args): \n",
    "    result = 0 \n",
    "    for i in args: \n",
    "        result = result + i   # *args에 입력받은 모든 값을 더한다.\n",
    "    return result "
   ]
  },
  {
   "cell_type": "markdown",
   "id": "d186c838-61b7-4d96-8795-b66dce6c6770",
   "metadata": {},
   "source": [
    "- 위에서 만든 add_many 함수는 입력값이 몇 개이든 상관없다. *args처럼 매개변수 이름 앞에 *을 붙이면 입력값을 전부 모아 튜플로 만들어 주기 때문이다. 만약 add_many(1, 2, 3)처럼 이 함수를 쓰면 args는 (1, 2, 3)이 되고 add_many(1, 2, 3, 4, 5, 6, 7, 8, 9, 10)처럼 쓰면 args는 (1, 2, 3, 4, 5, 6, 7, 8, 9, 10)이 된다. 여기에서 *args는 임의로 정한 변수 이름이다. *pey, *python처럼 아무 이름이나 써도 된다.\n",
    "\n",
    "> args는 인수를 뜻하는 영어 단어 arguments의 약자이며 관례적으로 자주 사용한다.\n",
    "\n",
    "- 작성한 add_many 함수를 다음과 같이 사용해 보자.\n",
    "\n"
   ]
  },
  {
   "cell_type": "code",
   "execution_count": 19,
   "id": "fc66f43c-211a-4150-a607-cc5ab452c5fe",
   "metadata": {},
   "outputs": [
    {
     "name": "stdout",
     "output_type": "stream",
     "text": [
      "6\n"
     ]
    }
   ],
   "source": [
    "result = add_many(1,2,3)\n",
    "print(result)"
   ]
  },
  {
   "cell_type": "code",
   "execution_count": 20,
   "id": "34200376-8652-4eec-976a-0c07497db612",
   "metadata": {},
   "outputs": [
    {
     "name": "stdout",
     "output_type": "stream",
     "text": [
      "55\n"
     ]
    }
   ],
   "source": [
    "result = add_many(1,2,3,4,5,6,7,8,9,10)\n",
    "print(result)"
   ]
  },
  {
   "cell_type": "markdown",
   "id": "d2107014-44fd-4752-9c4f-ec92c8404fac",
   "metadata": {},
   "source": [
    "- add_many(1, 2, 3)으로 함수를 호출하면 6을 리턴하고 add_many(1, 2, 3, 4, 5, 6, 7, 8, 9, 10)으로 함수를 호출하면 55를 리턴하는 것을 확인할 수 있다.\n",
    "\n",
    "- 여러 개의 입력을 처리할 때 def add_many(*args)처럼 함수의 매개변수로 *args 하나만 사용할 수 있는 것은 아니다. 다음 예를 살펴보자."
   ]
  },
  {
   "cell_type": "code",
   "execution_count": 21,
   "id": "c6f91be6-93dd-4dae-9702-29cb28d9f356",
   "metadata": {},
   "outputs": [],
   "source": [
    "def add_mul(choice, *args): \n",
    "    if choice == \"add\":   # 매개변수 choice에 \"add\"를 입력받았을 때\n",
    "        result = 0 \n",
    "        for i in args: \n",
    "            result = result + i \n",
    "    elif choice == \"mul\":   # 매개변수 choice에 \"mul\"을 입력받았을 때\n",
    "        result = 1 \n",
    "        for i in args: \n",
    "            result = result * i \n",
    "    return result "
   ]
  },
  {
   "cell_type": "markdown",
   "id": "b884caf2-18ce-4cad-8bcf-771d17c92dd2",
   "metadata": {},
   "source": [
    ">인터프리터에서 작성하기에 소스 코드가 너무 많다면 에디터를 사용해도 된다.\n",
    "\n",
    "- add_mul 함수는 여러 개의 입력값을 의미하는 *args 매개변수 앞에 choice 매개변수가 추가되어 있다.\n",
    "\n",
    "- 이 함수는 다음과 같이 사용할 수 있다.\n",
    "\n"
   ]
  },
  {
   "cell_type": "code",
   "execution_count": 22,
   "id": "77baf5a9-e9b8-499d-947f-95bc1418510c",
   "metadata": {},
   "outputs": [
    {
     "data": {
      "text/plain": [
       "15"
      ]
     },
     "execution_count": 22,
     "metadata": {},
     "output_type": "execute_result"
    }
   ],
   "source": [
    "add_mul('add', 1,2,3,4,5)"
   ]
  },
  {
   "cell_type": "code",
   "execution_count": 23,
   "id": "a623f90d-0692-4c13-9f42-fb6da8cc8bab",
   "metadata": {},
   "outputs": [
    {
     "data": {
      "text/plain": [
       "120"
      ]
     },
     "execution_count": 23,
     "metadata": {},
     "output_type": "execute_result"
    }
   ],
   "source": [
    "add_mul('mul', 1,2,3,4,5)"
   ]
  },
  {
   "cell_type": "markdown",
   "id": "8ab5bef2-fe52-4cee-ab26-181c105b6aca",
   "metadata": {},
   "source": [
    "- 매개변수 choice에 'add'가 입력된 경우 *args에 입력되는 모든 값을 더해서 15를 리턴하고 'mul'이 입력된 경우 *args에 입력되는 모든 값을 곱해 120을 리턴한다.\n",
    "\n"
   ]
  },
  {
   "cell_type": "markdown",
   "id": "3de52b3c-cbcc-444b-be39-a1ea23a34ed1",
   "metadata": {},
   "source": [
    "### 키워드 매개변수, kwargs\n",
    "- 이번에는 키워드 매개변수에 대해 알아보자. 키워드 매개변수를 사용할 때는 매개변수 앞에 별 2개(**)를 붙인다. 역시 이것도 예제로 알아보자. 먼저 다음과 같은 함수를 작성해 보자.\n",
    "\n"
   ]
  },
  {
   "cell_type": "code",
   "execution_count": 24,
   "id": "519c396b-eaae-4617-be54-dc015d701ac7",
   "metadata": {},
   "outputs": [],
   "source": [
    "def print_kwargs(**kwargs):\n",
    "    print(kwargs)"
   ]
  },
  {
   "cell_type": "markdown",
   "id": "142c1862-cb17-4afa-926e-42a6c45179e3",
   "metadata": {},
   "source": [
    "- print_kwargs는 입력받은 매개변수 kwargs를 출력하는 단순한 함수이다. 이제 이 함수를 다음과 같이 사용해 보자."
   ]
  },
  {
   "cell_type": "code",
   "execution_count": 25,
   "id": "54637a08-0aa6-4378-b014-a583995c69c7",
   "metadata": {},
   "outputs": [
    {
     "name": "stdout",
     "output_type": "stream",
     "text": [
      "{'a': 1}\n"
     ]
    }
   ],
   "source": [
    " print_kwargs(a=1)"
   ]
  },
  {
   "cell_type": "code",
   "execution_count": 26,
   "id": "267a1114-7101-4a66-b693-e2d9336e38cd",
   "metadata": {},
   "outputs": [
    {
     "name": "stdout",
     "output_type": "stream",
     "text": [
      "{'name': 'foo', 'age': 3}\n"
     ]
    }
   ],
   "source": [
    "print_kwargs(name='foo', age=3)"
   ]
  },
  {
   "cell_type": "markdown",
   "id": "71ff3d4c-5cd4-43a3-86d9-58480af59e5c",
   "metadata": {},
   "source": [
    "- 함수의 입력값으로 a=1이 사용되면 kwargs는 {'a': 1}이라는 딕셔너리가 되고 입력값으로 name='foo', age=3이 사용되면 kwargs는 {'age': 3, 'name': 'foo'}라는 딕셔너리가 된다. 즉, **kwargs처럼 매개변수 이름 앞에 **을 붙이면 매개변수 kwargs는 딕셔너리가 되고 모든 Key=Value 형태의 입력값이 그 딕셔너리에 저장된다는 것을 알 수 있다.\n",
    "\n",
    "> kwargs는 ‘keyword arguments’의 약자이며 args와 마찬가지로 관례적으로 사용한다.\n",
    "\n"
   ]
  },
  {
   "cell_type": "code",
   "execution_count": 32,
   "id": "2f335618-0624-43d9-be7b-6bbfaf92fb31",
   "metadata": {},
   "outputs": [
    {
     "name": "stdout",
     "output_type": "stream",
     "text": [
      "{'a': 1, 'b': 2}\n"
     ]
    }
   ],
   "source": [
    "tmp_dict = {'a':1, 'b': 2}\n",
    "print_kwargs(**tmp_dict)"
   ]
  },
  {
   "cell_type": "markdown",
   "id": "b3fafecd-aebb-48aa-b278-3f75087cd880",
   "metadata": {},
   "source": [
    "- 딕셔너리를 넘겨 줄 때는, '\\**' 를 붙여 딕셔너리를 풀어 준다."
   ]
  },
  {
   "cell_type": "markdown",
   "id": "6caf30d1-648d-4b29-a6aa-4e9ba34f642d",
   "metadata": {},
   "source": [
    "### [문제] : 모든 입력의 평균값 구하기\n",
    "- 입력으로 들어오는 모든 수의 평균값을 계산해 주는 함수를 작성해 보자. (함수명 : avg_numbers)\n",
    "- 입력으로 들어오는 수의 개수는 정해져 있지 않다.\n",
    "\n",
    "- 실행 예\n",
    "```python\n",
    "avg_numbers(1, 2) \n",
    ">>> 1.5\n",
    "avg_numbers(1,2,3,4,5)\n",
    ">>> 3.0\n",
    "```"
   ]
  },
  {
   "cell_type": "code",
   "execution_count": 10,
   "id": "2a8e0176-71e7-4a87-910e-1b789edf4ced",
   "metadata": {},
   "outputs": [],
   "source": []
  },
  {
   "cell_type": "markdown",
   "id": "e23b54b2-1991-4926-972f-151e7741aaab",
   "metadata": {},
   "source": [
    "## 함수의 리턴값은 언제나 하나이다\n",
    "- 먼저 다음 함수를 만들어 보자.\n",
    "\n"
   ]
  },
  {
   "cell_type": "code",
   "execution_count": 33,
   "id": "5305fc60-f161-45e5-b865-3472d8a4c5d9",
   "metadata": {},
   "outputs": [],
   "source": [
    "def add_and_mul(a,b): \n",
    "    return a+b, a*b"
   ]
  },
  {
   "cell_type": "markdown",
   "id": "037d556f-fbe3-4f77-a0de-09a87de1323e",
   "metadata": {},
   "source": [
    "- add_and_mul은 2개의 입력 인수를 받아 더한 값과 곱한 값을 리턴하는 함수이다.\n",
    "\n",
    "- 이 함수를 다음과 같이 호출하면 어떻게 될까?\n",
    "\n"
   ]
  },
  {
   "cell_type": "code",
   "execution_count": 34,
   "id": "029e3d19-d20f-4147-8526-53a7b5d08567",
   "metadata": {},
   "outputs": [],
   "source": [
    "result = add_and_mul(3,4)"
   ]
  },
  {
   "cell_type": "markdown",
   "id": "e17387c9-143d-47a6-b2a8-c943ccaef55a",
   "metadata": {},
   "source": [
    "- 리턴값은 a+b와 a*b인데, 리턴값을 받아들이는 변수는 result 하나만 쓰였으므로 오류가 발생하지 않을까? 당연한 의문이다. 하지만 오류는 발생하지 않는다. 그 이유는 함수의 리턴값은 2개가 아니라 언제나 1개라는 데 있다. add_and_mul 함수의 리턴값 a+b와 a*b는 튜플값 하나인 (a+b, a*b)로 리턴된다.\n",
    "\n",
    "- 따라서 result 변수는 다음과 같은 값을 가지게 된다.\n",
    "\n"
   ]
  },
  {
   "cell_type": "code",
   "execution_count": 35,
   "id": "09272201-1592-45b1-8d31-6cbe910aacf3",
   "metadata": {},
   "outputs": [
    {
     "data": {
      "text/plain": [
       "(7, 12)"
      ]
     },
     "execution_count": 35,
     "metadata": {},
     "output_type": "execute_result"
    }
   ],
   "source": [
    "result"
   ]
  },
  {
   "cell_type": "markdown",
   "id": "3d9e0a98-b436-4c27-8dd7-4173d2952b27",
   "metadata": {},
   "source": [
    "- 즉, 결괏값으로 (7, 12)라는 튜플 값을 가지게 되는 것이다.\n",
    "\n",
    "- 만약 이 하나의 튜플 값을 2개의 값으로 분리하여 받고 싶다면 함수를 다음과 같이 호출하면 된다.\n",
    "\n"
   ]
  },
  {
   "cell_type": "code",
   "execution_count": 37,
   "id": "86c48ed8-0805-42d7-bd20-0da0f19d2781",
   "metadata": {},
   "outputs": [
    {
     "name": "stdout",
     "output_type": "stream",
     "text": [
      "7 12\n"
     ]
    }
   ],
   "source": [
    "result1, result2 = add_and_mul(3, 4)\n",
    "print(result1, result2)"
   ]
  },
  {
   "cell_type": "markdown",
   "id": "404254df-7a43-42ce-acef-f7cc11164c62",
   "metadata": {},
   "source": [
    "- 이렇게 호출하면 result1, result2 = (7, 12)가 되어 result1은 7, result2는 12가 된다.\n",
    "\n",
    "- 또 다음과 같은 의문이 생길 수도 있다."
   ]
  },
  {
   "cell_type": "code",
   "execution_count": 38,
   "id": "665784f7-111d-4f8c-bdfd-71f4546d7755",
   "metadata": {},
   "outputs": [],
   "source": [
    "def add_and_mul(a,b): \n",
    "    return a+b \n",
    "    return a*b "
   ]
  },
  {
   "cell_type": "markdown",
   "id": "776020ef-a651-4fb1-b1af-613646b7125e",
   "metadata": {},
   "source": [
    "- 위와 같이 return 문을 2번 사용하면 2개의 리턴값을 돌려 주지 않을까? 하지만 기대하는 결과는 나오지 않는다.\n",
    "\n",
    "- 그 이유는 add_and_mul 함수를 호출해 보면 알 수 있다.\n",
    "\n"
   ]
  },
  {
   "cell_type": "code",
   "execution_count": 39,
   "id": "bddfa941-bb7e-4062-84cb-8c0eb85da2da",
   "metadata": {},
   "outputs": [
    {
     "data": {
      "text/plain": [
       "5"
      ]
     },
     "execution_count": 39,
     "metadata": {},
     "output_type": "execute_result"
    }
   ],
   "source": [
    "add_and_mul(2, 3)"
   ]
  },
  {
   "cell_type": "markdown",
   "id": "cdd9905b-2055-45ed-864a-c00733bb21da",
   "metadata": {},
   "source": [
    "- add_and_mul(2, 3)의 리턴값은 5 하나뿐이다. 두 번째 return 문인 return a * b는 실행되지 않았다는 뜻이다. 즉, 함수는 return 문을 만나는 순간, 리턴값을 돌려 준 다음 함수를 빠져나가게 된다.\n",
    "\n",
    "- 따라서 이 함수는 다음과 완전히 동일하다.\n",
    "\n"
   ]
  },
  {
   "cell_type": "code",
   "execution_count": 40,
   "id": "e295a386-4a02-4edd-8563-233c93808ce1",
   "metadata": {},
   "outputs": [],
   "source": [
    "def add_and_mul(a,b): \n",
    "    return a+b "
   ]
  },
  {
   "cell_type": "markdown",
   "id": "f107ec95-3608-4809-8f86-0e233a0b1002",
   "metadata": {},
   "source": [
    "- 즉 함수는 return문을 만나는 순간 결괏값을 돌려준 다음 함수를 빠져나가게 된다.\n",
    "\n"
   ]
  },
  {
   "cell_type": "markdown",
   "id": "f6f36f30-d4a1-43e8-bbf4-17e174165b34",
   "metadata": {},
   "source": [
    "### return의 또 다른 쓰임새\n",
    "- 특별한 상황일 때 함수를 빠져나가고 싶다면 return을 단독으로 써서 함수를 즉시 빠져나갈 수 있다. 다음 예를 살펴보자.\n",
    "\n"
   ]
  },
  {
   "cell_type": "code",
   "execution_count": 41,
   "id": "ebcafc6d-824a-4f99-9d1e-9b8faad6c9f2",
   "metadata": {},
   "outputs": [],
   "source": [
    "def say_nick(nick): \n",
    "    if nick == \"바보\": \n",
    "        return \n",
    "    print(\"나의 별명은 %s 입니다.\" % nick)"
   ]
  },
  {
   "cell_type": "markdown",
   "id": "9d93c671-36a3-41e9-9c83-873d639d20ad",
   "metadata": {},
   "source": [
    "- 위는 매개변수 nick으로 별명을 입력받아 출력하는 함수이다. 이 함수 역시 리턴값은 없다. 이때 문자열을 출력한다는 것과 리턴값이 있다는 것은 전혀 다른 말이므로 혼동하지 말자. 함수의 리턴값은 오로지 return 문에 의해서만 생성된다.\n",
    "\n",
    "- 만약 입력값으로 '바보'라는 값이 들어오면 문자열을 출력하지 않고 함수를 즉시 빠져나간다.\n",
    "\n"
   ]
  },
  {
   "cell_type": "code",
   "execution_count": 42,
   "id": "c8772248-8cc5-4d6f-9400-775e2d7d3b59",
   "metadata": {},
   "outputs": [
    {
     "name": "stdout",
     "output_type": "stream",
     "text": [
      "나의 별명은 야호 입니다.\n"
     ]
    }
   ],
   "source": [
    "say_nick('야호')"
   ]
  },
  {
   "cell_type": "code",
   "execution_count": 43,
   "id": "62114841-5b89-4c4f-9a4c-dd9638fa560d",
   "metadata": {},
   "outputs": [],
   "source": [
    "say_nick('바보')"
   ]
  },
  {
   "cell_type": "markdown",
   "id": "542febe4-dfd0-4d9b-a5bf-f98a421520fd",
   "metadata": {},
   "source": [
    "- 이처럼 리턴값이 없는 함수에서 return으로 함수를 빠져나가는 방법은 실제 프로그래밍에서 자주 사용한다.\n"
   ]
  },
  {
   "cell_type": "markdown",
   "id": "07bde70c-45e3-423e-96e3-a3df857f3000",
   "metadata": {},
   "source": [
    "## 매개변수에 초깃값 미리 설정하기\n"
   ]
  },
  {
   "cell_type": "markdown",
   "id": "8ac35f0b-38df-4c9d-8801-0b95464d96e9",
   "metadata": {},
   "source": [
    "- 이번에는 조금 다른 형태로 함수의 인수를 전달하는 방법에 대해서 알아보자. 다음은 매개변수에 초깃값을 미리 설정해 주는 경우이다."
   ]
  },
  {
   "cell_type": "code",
   "execution_count": 44,
   "id": "f94952b2-11fc-47a9-8731-3a3499628681",
   "metadata": {},
   "outputs": [],
   "source": [
    "def say_myself(name, age, man=True): \n",
    "    print(\"나의 이름은 %s 입니다.\" % name) \n",
    "    print(\"나이는 %d살입니다.\" % age) \n",
    "    if man: \n",
    "        print(\"남자입니다.\")\n",
    "    else: \n",
    "        print(\"여자입니다.\")"
   ]
  },
  {
   "cell_type": "markdown",
   "id": "562e154d-be20-4c1a-b152-421ceda51fc6",
   "metadata": {},
   "source": [
    "- 위 함수를 보면 매개변수가 name, age, man=True이다. 그런데 낯선 것이 나왔다. man=True처럼 매개변수에 미리 값을 넣어 준 것이다. 이것이 바로 함수의 매개변수에 초깃값을 설정하는 방법이다.\n",
    "\n",
    "- say_myself 함수는 다음처럼 2가지 방법으로 사용할 수 있다.\n",
    "\n"
   ]
  },
  {
   "cell_type": "code",
   "execution_count": 45,
   "id": "b45a6dff-ef04-427d-8af7-597c9c674412",
   "metadata": {},
   "outputs": [
    {
     "name": "stdout",
     "output_type": "stream",
     "text": [
      "나의 이름은 박응용 입니다.\n",
      "나이는 27살입니다.\n",
      "남자입니다.\n"
     ]
    }
   ],
   "source": [
    "say_myself(\"박응용\", 27)"
   ]
  },
  {
   "cell_type": "code",
   "execution_count": 46,
   "id": "fff697bc-9511-40de-ad7a-6e507fa21be5",
   "metadata": {},
   "outputs": [
    {
     "name": "stdout",
     "output_type": "stream",
     "text": [
      "나의 이름은 박응용 입니다.\n",
      "나이는 27살입니다.\n",
      "남자입니다.\n"
     ]
    }
   ],
   "source": [
    "say_myself(\"박응용\", 27, True)"
   ]
  },
  {
   "cell_type": "markdown",
   "id": "7137787e-edb9-46a5-9f4c-1b59f7d0e2ea",
   "metadata": {},
   "source": [
    "- 입력값으로 (\"박응용\", 27)처럼 2개를 주면 name에는 \"박응용\", age에는 27이 대입된다. 그리고 man이라는 변수에는 입력값을 주지 않았지만, man은 초깃값 True를 갖게 된다.\n",
    "- 따라서 위 예에서 say_myself 함수를 사용한 2가지 방법은 모두 다음처럼 동일한 결과를 출력한다.\n",
    "- 이제 초깃값이 설정된 부분을 False로 바꿔 호출해 보자."
   ]
  },
  {
   "cell_type": "code",
   "execution_count": 47,
   "id": "0b51073d-8fbd-4530-9173-531cd8c1b40e",
   "metadata": {},
   "outputs": [
    {
     "name": "stdout",
     "output_type": "stream",
     "text": [
      "나의 이름은 박응선 입니다.\n",
      "나이는 27살입니다.\n",
      "여자입니다.\n"
     ]
    }
   ],
   "source": [
    "say_myself(\"박응선\", 27, False)"
   ]
  },
  {
   "cell_type": "markdown",
   "id": "ae5cc924-5436-41e1-bb0d-e4fe4eb9ca00",
   "metadata": {},
   "source": [
    "- man 변수에 False 값이 대입되어 다음과 같은 결과가 출력된다.\n",
    "- 함수의 매개변수에 초깃값을 설정할 때 주의할 것이 하나 있다. 만약 위에서 살펴본 say_myself 함수를 다음과 같이 만들면 어떻게 될까?\n",
    "\n"
   ]
  },
  {
   "cell_type": "code",
   "execution_count": 48,
   "id": "7527ed4d-b380-4dc2-9958-dbe7e1cdcd5c",
   "metadata": {},
   "outputs": [
    {
     "ename": "SyntaxError",
     "evalue": "non-default argument follows default argument (2767377560.py, line 1)",
     "output_type": "error",
     "traceback": [
      "\u001b[0;36m  Cell \u001b[0;32mIn[48], line 1\u001b[0;36m\u001b[0m\n\u001b[0;31m    def say_myself(name, man=True, age):\u001b[0m\n\u001b[0m                                   ^\u001b[0m\n\u001b[0;31mSyntaxError\u001b[0m\u001b[0;31m:\u001b[0m non-default argument follows default argument\n"
     ]
    }
   ],
   "source": [
    "def say_myself(name, man=True, age): \n",
    "    print(\"나의 이름은 %s 입니다.\" % name) \n",
    "    print(\"나이는 %d살입니다.\" % age) \n",
    "    if man: \n",
    "        print(\"남자입니다.\") \n",
    "    else: \n",
    "        print(\"여자입니다.\")"
   ]
  },
  {
   "cell_type": "markdown",
   "id": "fad37888-54d0-42f8-b013-cd629a2f8ff3",
   "metadata": {},
   "source": [
    "- 이전 함수와 바뀐 부분은 초깃값을 설정한 매개변수의 위치이다. 결론을 미리 말하면 이것은 함수를 실행할 때 오류가 발생한다.\n",
    "- 얼핏 생각하기에 위 함수를 호출하려면 다음과 같이 하면 될 것 같다.\n",
    "```python\n",
    "say_myself(\"박응용\", 27)\n",
    "```\n",
    "- 위와 같이 함수를 호출한다면 name 변수에는 \"박응용\"이 들어갈 것이다. 하지만 파이썬 인터프리터는 27을 man 매개변수와 age 매개변수 중 어느 곳에 대입해야 할지 판단하기 어려우므로 이러한 상황에서는 오류가 발생한다.\n",
    "\n",
    "- 오류 메시지는 다음과 같다.\n",
    "\n",
    "> SyntaxError: non-default argument follows default argument\n",
    "\n",
    "- 위 오류 메시지는 ‘초깃값이 없는 매개변수(age)는 초깃값이 있는 매개변수(man) 뒤에 사용할 수 없다’라는 뜻이다. 즉, 매개변수로 (name, age, man=True)는 되지만, (name, man=True, age)는 안 된다는 것이다. 초기화하고 싶은 매개변수는 항상 뒤쪽에 놓아야 한다는 것을 잊지 말자.\n",
    "\n",
    "## 함수 안에서 선언한 변수의 효력 범위\n",
    "- 함수 안에서 사용할 변수의 이름을 함수 밖에서도 동일하게 사용한다면 어떻게 될까? 이런 궁금증이 생겼던 독자라면 이번에 확실하게 답을 찾을 수 있을 것이다.\n",
    "\n",
    "- 다음 예를 살펴보자.\n"
   ]
  },
  {
   "cell_type": "code",
   "execution_count": 3,
   "id": "a20a6528-029a-4849-adf2-07c0cf58c844",
   "metadata": {},
   "outputs": [
    {
     "name": "stdout",
     "output_type": "stream",
     "text": [
      "1\n"
     ]
    }
   ],
   "source": [
    "a = 1\n",
    "def vartest(a):\n",
    "    a = a +1\n",
    "\n",
    "vartest(a)\n",
    "print(a)"
   ]
  },
  {
   "cell_type": "markdown",
   "id": "9c9963df-d5c5-4cb7-ab2d-4f79ffcf9601",
   "metadata": {},
   "source": [
    "- 먼저 a라는 변수를 생성하고 1을 대입했다. 그리고 입력으로 들어온 값에 1을 더해 주고 결괏값은 리턴하지 않는 vartest 함수를 선언했다. 그리고 vartest 함수에 입력값으로 a를 주었다. 마지막으로 a의 값을 print(a)로 출력했다. 과연 어떤 값이 출력될까?\n",
    "\n",
    "- vartest 함수에서 매개변수 a의 값에 1을 더했으므로 2가 출력될 것 같지만, 프로그램 소스를 작성해서 실행해 보면 결괏값은 1이 나온다. 그 이유는 함수 안에서 사용하는 매개변수는 함수 안에서만 사용하는 ‘함수만의 변수’이기 때문이다. 즉, def vartest(a)에서 입력값을 전달받는 매개변수 a는 함수 안에서만 사용하는 변수일 뿐, 함수 밖의 변수 a와는 전혀 상관없다는 뜻이다.\n",
    "\n",
    "- 따라서 vartest 함수는 다음처럼 매개변수 이름을 hello로 바꾸어도 이전의 vartest 함수와 완전히 동일하게 동작한다.\n",
    "\n"
   ]
  },
  {
   "cell_type": "code",
   "execution_count": 4,
   "id": "b1271b9b-6565-45f5-ad93-94a8ae694342",
   "metadata": {},
   "outputs": [
    {
     "name": "stdout",
     "output_type": "stream",
     "text": [
      "10\n"
     ]
    }
   ],
   "source": [
    "a = 10\n",
    "def vartest(hello):\n",
    "    hello = hello + 1\n",
    "\n",
    "vartest(a)\n",
    "print(a)"
   ]
  },
  {
   "cell_type": "markdown",
   "id": "75990cb6-edf9-4f34-9bf2-2b2e13eb4a2b",
   "metadata": {},
   "source": [
    "- 즉, 함수 안에서 사용하는 매개변수는 함수 밖의 변수 이름과는 전혀 상관없다는 뜻이다.\n",
    "\n",
    "- 다음 예를 보면 더욱 분명하게 이해할 수 있을 것이다."
   ]
  },
  {
   "cell_type": "code",
   "execution_count": 5,
   "id": "7197d7a4-f475-4726-abd5-4b19d304e5a3",
   "metadata": {},
   "outputs": [
    {
     "name": "stdout",
     "output_type": "stream",
     "text": [
      "20\n"
     ]
    }
   ],
   "source": [
    "a = 20\n",
    "def vartest(a):\n",
    "    a = a + 1\n",
    "\n",
    "vartest(3)\n",
    "print(a)"
   ]
  },
  {
   "cell_type": "markdown",
   "id": "62d55248-a90e-4a35-b78a-72b767ad497d",
   "metadata": {},
   "source": [
    "- 위 프로그램 소스를 에디터로 작성해서 실행하면 어떻게 될까? 오류가 발생할 것이라고 생각한 독자는 모든 것을 이해한 독자이다. vartest(3)을 수행하면 vartest 함수 안에서 a는 4가 되지만, 함수를 호출하고 난 후 print(a) 문장은 오류가 발생하게 된다. 그 이유는 print(a)에서 사용한 a 변수는 어디에도 선언되지 않았기 때문이다. 다시 한번 말하지만, 함수 안에서 선언한 매개변수는 함수 안에서만 사용될 뿐, 함수 밖에서는 사용되지 않는다. 이것을 이해하는 것은 매우 중요하다.\n",
    "\n"
   ]
  },
  {
   "cell_type": "markdown",
   "id": "4a05e070-98f2-4ae9-b6c8-7d0dd2824c7d",
   "metadata": {},
   "source": [
    "## 함수 안에서 함수 밖의 변수를 변경하는 방법\n",
    "- 그렇다면 vartest라는 함수를 사용해서 함수 밖의 변수 a를 1만큼 증가할 수 있는 방법은 없을까? 이 질문에는 2가지 해결 방법이 있다.\n",
    "\n",
    "### 1. return 사용하기"
   ]
  },
  {
   "cell_type": "code",
   "execution_count": 6,
   "id": "9b61bf28-0976-47dd-98bf-284ced79e270",
   "metadata": {},
   "outputs": [
    {
     "name": "stdout",
     "output_type": "stream",
     "text": [
      "2\n"
     ]
    }
   ],
   "source": [
    "a = 1 \n",
    "def vartest(a): \n",
    "    a = a +1 \n",
    "    return a\n",
    "\n",
    "a = vartest(a) \n",
    "print(a)"
   ]
  },
  {
   "cell_type": "markdown",
   "id": "032474b7-9748-44e7-ad14-b27f09550530",
   "metadata": {},
   "source": [
    "- 첫 번째 방법은 return을 사용하는 방법이다. vartest 함수는 입력으로 들어온 값에 1을 더한 값을 리턴하도록 변경했다. 따라서 a = vartest(a)라고 작성하면 a에는 vartest 함수의 리턴값이 대입된다.\n",
    "\n",
    "- 여기에서도 물론 vartest 함수 안의 a 매개변수는 함수 밖의 a와는 다른 것이다.\n",
    "\n",
    "### 2. global 명령어 사용하기\n"
   ]
  },
  {
   "cell_type": "code",
   "execution_count": 7,
   "id": "b5900982-a971-46d1-b651-dc1a6c8fc4f6",
   "metadata": {},
   "outputs": [
    {
     "name": "stdout",
     "output_type": "stream",
     "text": [
      "2\n"
     ]
    }
   ],
   "source": [
    "a = 1 \n",
    "def vartest(): \n",
    "    global a \n",
    "    a = a+1\n",
    "\n",
    "vartest() \n",
    "print(a)"
   ]
  },
  {
   "cell_type": "markdown",
   "id": "aa8e4f2e-9c3b-4cdc-ad1d-fd52b815c09e",
   "metadata": {},
   "source": [
    "- 두 번째 방법은 global 명령어를 사용하는 방법이다. 위 예에서 볼 수 있듯이 vartest 함수 안의 global a 문장은 함수 안에서 함수 밖의 a 변수를 직접 사용하겠다는 뜻이다. 하지만 프로그래밍을 할 때 global 명령어는 사용하지 않는 것이 좋다. 함수는 독립적으로 존재하는 것이 좋기 때문이다. 외부 변수에 종속적인 함수는 그다지 좋은 함수가 아니다. 따라서 되도록 global 명령어를 사용하는 이 방법은 피하고 첫 번째 방법을 사용하기를 권한다.\n",
    "\n"
   ]
  },
  {
   "cell_type": "markdown",
   "id": "4dcd19ad-9d36-4c5d-a7ef-6350f7777c2b",
   "metadata": {},
   "source": [
    "## lambda 예약어\n",
    "- lambda는 함수를 생성할 때 사용하는 예약어로, def와 동일한 역할을 한다. 보통 함수를 한 줄로 간결하게 만들 때 사용한다. 우리말로는 ‘람다’라고 읽고 def를 사용해야 할 정도로 복잡하지 않거나 def를 사용할 수 없는 곳에 주로 쓰인다.\n",
    "\n",
    "- 사용법은 다음과 같다.\n",
    "\n",
    "> 함수_이름 = lambda 매개변수1, 매개변수2, ... : 매개변수를_이용한_표현식\n",
    "\n",
    "- 한번 직접 만들어 보자.\n",
    "\n"
   ]
  },
  {
   "cell_type": "code",
   "execution_count": 55,
   "id": "cca6f9d0-de18-441f-8d78-d456ce7d746c",
   "metadata": {},
   "outputs": [
    {
     "data": {
      "text/plain": [
       "7"
      ]
     },
     "execution_count": 55,
     "metadata": {},
     "output_type": "execute_result"
    }
   ],
   "source": [
    "add = lambda a, b: a+b\n",
    "result = add(3, 4)\n",
    "result"
   ]
  },
  {
   "cell_type": "markdown",
   "id": "2b4d0328-0eba-4591-9c48-a9ba3296d963",
   "metadata": {},
   "source": [
    "> lambda로 만든 함수는 return 명령어가 없어도 표현식의 결괏값을 리턴한다.\n",
    "\n",
    "- add는 2개의 인수를 받아 서로 더한 값을 리턴하는 lambda 함수이다. 위 예제는 def를 사용한 다음 함수와 하는 일이 완전히 동일하다.\n",
    "\n"
   ]
  },
  {
   "cell_type": "code",
   "execution_count": 56,
   "id": "f21343bc-0250-4b6d-a1ef-bb40028941fa",
   "metadata": {},
   "outputs": [
    {
     "name": "stdout",
     "output_type": "stream",
     "text": [
      "7\n"
     ]
    }
   ],
   "source": [
    "def add(a, b):\n",
    "    return a+b\n",
    "result = add(3, 4)\n",
    "print(result)"
   ]
  },
  {
   "attachments": {},
   "cell_type": "markdown",
   "id": "e59c4a22-2678-49b3-88c5-c15bad27571d",
   "metadata": {},
   "source": [
    "# 사용자 입출력\n",
    "- 우리들이 사용하는 대부분의 완성된 프로그램은 사용자 입력에 따라 그에 맞는 출력을 내보낸다. 대표적인 예로 게시판에 글을 작성한 후 [확인] 버튼을 눌러야만(입력) 우리가 작성한 글이 게시판에 올라가는(출력) 것을 들 수 있다.\n",
    "\n",
    "<img src=\"https://wikidocs.net/images/page/25/04_2_io.png\">\n",
    "\n",
    "- 우리는 이미 함수 부분에서 입출력이 어떤 의미를 가지는지 알아보았다. 지금부터는 좀 더 다양한 입출력 방법에 대해서 알아보자.\n",
    "\n",
    "## 사용자 입력 활용하기\n",
    "- 사용자가 입력한 값을 어떤 변수에 대입하고 싶을 때는 어떻게 해야 할까?\n",
    "\n",
    "### input 사용하기"
   ]
  },
  {
   "cell_type": "code",
   "execution_count": 10,
   "id": "7004ea47-cfd7-460f-991c-18b4d48baede",
   "metadata": {},
   "outputs": [
    {
     "name": "stdin",
     "output_type": "stream",
     "text": [
      " sdfsfsdf\n"
     ]
    }
   ],
   "source": [
    "a = input() #  Life is too short, you need python"
   ]
  },
  {
   "cell_type": "markdown",
   "id": "8cfd4244-26bc-4f25-ba52-160be8987560",
   "metadata": {},
   "source": [
    "- input은 사용자가 키보드로 입력한 모든 것을 문자열로 저장한다.\n",
    "\n",
    "### 프롬프트를 띄워 사용자 입력받기\n",
    "- 사용자에게 입력받을 때 ‘숫자를 입력하세요’나 ‘이름을 입력하세요’라는 안내 문구 또는 질문을 보여 주고 싶을 때가 있다. 그럴 때는 input()의 괄호 안에 안내 문구를 입력하여 프롬프트를 띄워 주면 된다."
   ]
  },
  {
   "cell_type": "code",
   "execution_count": 11,
   "id": "c007d3e7-a3fc-4aa9-a8a2-0d5b853c2c4c",
   "metadata": {},
   "outputs": [
    {
     "name": "stdin",
     "output_type": "stream",
     "text": [
      "안내_문구 sdfsdfsdfsdf\n"
     ]
    },
    {
     "data": {
      "text/plain": [
       "'sdfsdfsdfsdf'"
      ]
     },
     "execution_count": 11,
     "metadata": {},
     "output_type": "execute_result"
    }
   ],
   "source": [
    "input(\"안내_문구\")"
   ]
  },
  {
   "cell_type": "markdown",
   "id": "8fae3a8f-e408-45ec-a2ef-871e8e9f7d31",
   "metadata": {},
   "source": [
    "- 다음 예를 직접 입력해 보자."
   ]
  },
  {
   "cell_type": "code",
   "execution_count": 13,
   "id": "c767ee0d-586a-4536-b161-78e91ac4f2d3",
   "metadata": {},
   "outputs": [
    {
     "name": "stdin",
     "output_type": "stream",
     "text": [
      "숫자를 입력하세요:  sdfsfdsadf\n"
     ]
    }
   ],
   "source": [
    "number = input(\"숫자를 입력하세요: \")"
   ]
  },
  {
   "cell_type": "markdown",
   "id": "8259c7f9-fd7c-4014-accc-0933c39819d7",
   "metadata": {},
   "source": [
    "- 괄호 안에 입력한 문구가 프롬프트로 나타난다.\n",
    "\n",
    "- ‘숫자를 입력하세요’라는 프롬프트에 3을 입력하면 변수 number에 값 3이 대입된다. print (number)로 출력해서 제대로 입력되었는지 확인해 보자."
   ]
  },
  {
   "cell_type": "code",
   "execution_count": 15,
   "id": "0d233cdc-10d1-44a0-8c33-fe6ee7832cfd",
   "metadata": {},
   "outputs": [
    {
     "name": "stdin",
     "output_type": "stream",
     "text": [
      "숫자를 입력하세요:  sfsfasdf\n"
     ]
    },
    {
     "name": "stdout",
     "output_type": "stream",
     "text": [
      "sfsfasdf\n"
     ]
    }
   ],
   "source": [
    "number = input(\"숫자를 입력하세요: \")\n",
    "print(number)"
   ]
  },
  {
   "cell_type": "markdown",
   "id": "5137073b-d71d-4a49-9e51-f8ff62d29aa0",
   "metadata": {},
   "source": [
    "- input은 입력되는 모든 것을 문자열로 취급하기 때문에 number는 숫자가 아닌 문자열이라는 것에 주의하자.\n"
   ]
  },
  {
   "cell_type": "code",
   "execution_count": 16,
   "id": "1778b94e-e9b6-4c76-b6d6-10a447121c1a",
   "metadata": {},
   "outputs": [
    {
     "data": {
      "text/plain": [
       "str"
      ]
     },
     "execution_count": 16,
     "metadata": {},
     "output_type": "execute_result"
    }
   ],
   "source": [
    "type(number)"
   ]
  },
  {
   "cell_type": "markdown",
   "id": "5a8ac3fe-7523-48ff-b979-ba359afa51cc",
   "metadata": {},
   "source": [
    "### [문제] : 프로그램 오류 수정하기 1\n",
    "- 다음은 2개의 숫자를 입력받아 더한 후 리턴하는 프로그램이다.\n",
    "- 이 프로그램을 실행해 보고, 오류를 수정 하라.\n",
    "\n",
    "```python\n",
    "input1 = input('첫 번째 숫자를 입력하세요:')\n",
    "input2 = input('두 번째 숫자를 입력하세요:')\n",
    "total = input1 + input2\n",
    "print(f'두 수의 합은 {total} 입니다')\n",
    "```"
   ]
  },
  {
   "cell_type": "code",
   "execution_count": null,
   "id": "5f500861-e602-4892-96b2-a2ebc9154b04",
   "metadata": {},
   "outputs": [],
   "source": []
  },
  {
   "cell_type": "markdown",
   "id": "41fa025f-20ea-4702-894b-4aabde03b5e0",
   "metadata": {},
   "source": [
    "## print 자세히 알기\n",
    "- 지금까지 우리가 사용한 print 문의 용도는 데이터를 출력하는 것이었다. 데이터를 출력하는 print 문의 사용 예는 다음과 같다.\n",
    "\n"
   ]
  },
  {
   "cell_type": "code",
   "execution_count": 18,
   "id": "28c3dd75-c88f-4ea5-a47d-d853c62d8610",
   "metadata": {},
   "outputs": [
    {
     "name": "stdout",
     "output_type": "stream",
     "text": [
      "123\n"
     ]
    }
   ],
   "source": [
    "a = 123\n",
    "print(a)"
   ]
  },
  {
   "cell_type": "code",
   "execution_count": 19,
   "id": "8506a106-c6e7-4f67-a4ae-df534f2a6a98",
   "metadata": {},
   "outputs": [
    {
     "name": "stdout",
     "output_type": "stream",
     "text": [
      "Python\n"
     ]
    }
   ],
   "source": [
    "a = \"Python\"\n",
    "print(a)"
   ]
  },
  {
   "cell_type": "code",
   "execution_count": 20,
   "id": "c476b2b1-997e-445f-8015-f8b1723671b5",
   "metadata": {},
   "outputs": [
    {
     "name": "stdout",
     "output_type": "stream",
     "text": [
      "[1, 2, 3]\n"
     ]
    }
   ],
   "source": [
    "a = [1, 2, 3]\n",
    "print(a)"
   ]
  },
  {
   "cell_type": "markdown",
   "id": "62eec801-3453-49d3-890e-680221f8e3aa",
   "metadata": {},
   "source": [
    "- 이제 print 문으로 할 수 있는 일에 대해서 좀 더 자세하게 알아보자.\n",
    "\n",
    "### 큰따옴표로 둘러싸인 문자열은 + 연산과 동일하다\n"
   ]
  },
  {
   "cell_type": "code",
   "execution_count": 21,
   "id": "3102f9a0-f9cc-4351-891c-c3bd2da48497",
   "metadata": {},
   "outputs": [
    {
     "name": "stdout",
     "output_type": "stream",
     "text": [
      "lifeistoo short\n"
     ]
    }
   ],
   "source": [
    "print(\"life\" \"is\" \"too short\")  # 1번"
   ]
  },
  {
   "cell_type": "code",
   "execution_count": 22,
   "id": "032cf37e-ba36-432b-9245-e7c0f2ad7153",
   "metadata": {},
   "outputs": [
    {
     "name": "stdout",
     "output_type": "stream",
     "text": [
      "lifeistoo short\n"
     ]
    }
   ],
   "source": [
    "print(\"life\"+\"is\"+\"too short\")  # 2번"
   ]
  },
  {
   "cell_type": "markdown",
   "id": "8b6d43fe-6b03-4e31-b019-e4395795cd92",
   "metadata": {},
   "source": [
    "### 문자열 띄어쓰기는 쉼표로 한다\n"
   ]
  },
  {
   "cell_type": "code",
   "execution_count": 23,
   "id": "103d88a0-8196-4057-b438-cd4fc0a9a2cf",
   "metadata": {},
   "outputs": [
    {
     "name": "stdout",
     "output_type": "stream",
     "text": [
      "life is too short\n"
     ]
    }
   ],
   "source": [
    "print(\"life\", \"is\", \"too short\")"
   ]
  },
  {
   "cell_type": "markdown",
   "id": "e1e0cded-0b59-4ca0-87c7-dd9d85f4828a",
   "metadata": {},
   "source": [
    "- 쉼표(,)를 사용하면 문자열을 띄어 쓸 수 있다.\n"
   ]
  },
  {
   "cell_type": "markdown",
   "id": "b7c4b703-c603-4d41-8335-0018b99c1c81",
   "metadata": {},
   "source": [
    "### 한 줄에 결괏값 출력하기\n",
    "- 03-3에서 for 문을 공부할 때 만들었던 구구단 프로그램에서 보았듯이 한 줄에 결괏값을 계속 이어서 출력하려면 매개변수 end를 사용해 끝 문자를 지정해야 한다.\n",
    "- end 옵션이 기본으로 개행(\\n) 이다"
   ]
  },
  {
   "cell_type": "code",
   "execution_count": 26,
   "id": "5569a91b-e49b-4ec6-9b5f-9fe6a195c419",
   "metadata": {},
   "outputs": [
    {
     "name": "stdout",
     "output_type": "stream",
     "text": [
      "0 1 2 3 4 5 6 7 8 9 "
     ]
    }
   ],
   "source": [
    "for i in range(10):\n",
    "     print(i, end=' ')"
   ]
  },
  {
   "cell_type": "markdown",
   "id": "d9aab9ed-f724-4dea-a9a8-0e5f995cd241",
   "metadata": {},
   "source": [
    "### [문제] : 출력 결과가 다른 것은?\n",
    "- 다음 중 출력 결과가 다른 하나를 골라 보자\n",
    "\n",
    "1. ```python\n",
    "   print(\"you\" \"need\" \"python\") \n",
    "   ```\n",
    "2. ```python\n",
    "   print(\"you\"+\"need\"+\"python\") \n",
    "   ```\n",
    "3. ```python\n",
    "   print(\"you\", \"need\", \"python\") \n",
    "   ```\n",
    "4. ```python\n",
    "   print(\"\".join([\"you\", \"need\", \"python\"])) \n",
    "   ```"
   ]
  },
  {
   "cell_type": "code",
   "execution_count": null,
   "id": "520730a7-64fe-408c-bab5-137e0ea64421",
   "metadata": {},
   "outputs": [],
   "source": []
  },
  {
   "cell_type": "markdown",
   "id": "0446f2fe-5851-41ee-b06d-7a121d6008bf",
   "metadata": {},
   "source": [
    "# 파일 읽고 쓰기\n",
    "- 우리는 이 책에서 이제까지 값을 ‘입력’받을 때는 사용자가 직접 입력하는 방식을 사용했고 ‘출력’할 때는 모니터 화면에 결괏값을 출력하는 방식을 사용했다. 하지만 입출력 방법이 꼭 이것만 있는 것은 아니다. 이번에는 파일을 통한 입출력 방법에 대해 알아보자. 여기에서는 파일을 새로 만든 다음 프로그램이 만든 결괏값을 새 파일에 적어 본다. 또 파일에 적은 내용을 읽고 새로운 내용을 추가하는 방법도 알아본다."
   ]
  },
  {
   "cell_type": "markdown",
   "id": "f78120d9-5941-4520-8533-89d8ec719ab8",
   "metadata": {},
   "source": [
    "## 파일 생성하기\n",
    "- 다음 코드를 IDLE 에디터로 작성하여 실행해 보자."
   ]
  },
  {
   "cell_type": "code",
   "execution_count": 32,
   "id": "502ab0ec-9c31-4525-b3c3-2e5d13f8fc56",
   "metadata": {},
   "outputs": [],
   "source": [
    "f = open(\"새파일.txt\", 'w')\n",
    "f.close()"
   ]
  },
  {
   "cell_type": "markdown",
   "id": "bff906d8-0295-440e-9c22-ad62518184ac",
   "metadata": {},
   "source": [
    "- 프로그램을 실행한 디렉터리에 새로운 파일이 하나 생성된 것을 확인할 수 있을 것이다. 파일을 생성하기 위해 파이썬 내장 함수 open을 사용했다. open 함수는 다음과 같이 ‘파일 이름’과 ‘파일 열기 모드’를 입력값으로 받고 결괏값으로 파일 객체를 리턴한다.\n",
    "\n",
    "> 파일_객체 = open(파일_이름, 파일_열기_모드)\n",
    "\n",
    "- 파일 열기 모드에는 다음과 같은 것들이 있다.\n",
    "\n",
    "| 파일열기모드 | 설명                               |\n",
    "|--------------|------------------------------------|\n",
    "| r            | 읽기 모드: 파일을 읽기만 할 때 사용한다. |\n",
    "| w            | 쓰기 모드: 파일에 내용을 쓸 때 사용한다. |\n",
    "| a            | 추가 모드: 파일의 마지막에 새로운 내용을 추가할 때 사용한다. |\n",
    "\n",
    "- 파일을 쓰기 모드로 열면 해당 파일이 이미 존재할 경우 원래 있던 내용이 모두 사라지고 해당 파일이 존재하지 않으면 새로운 파일이 생성된다. 위 예에서는 디렉터리에 파일이 없는 상태에서 ‘새파일.txt’ 파일을 쓰기 모드인 'w'로 열었기 때문에 ‘새파일.txt’라는 이름의 새로운 파일이 현재 디렉터리에 생성되었다.\n",
    "\n",
    "- 만약 ‘새파일.txt’ 파일을 C:/doit 디렉터리에 생성하고 싶다면 다음과 같이 작성해야 한다.\n",
    "\n",
    "```python\n",
    "f = open(\"C:/doit/새파일.txt\", 'w')\n",
    "f.close()\n",
    "```\n",
    "\n",
    "- 위 예에서 f.close()는 열려 있는 파일 객체를 닫아 주는 역할을 한다. 사실 이 문장은 생략해도 된다. 프로그램을 종료할 때 파이썬 프로그램이 열려 있는 파일의 객체를 자동으로 닫아 주기 때문이다. 하지만 close()를 사용해서 열려 있는 파일을 직접 닫아 주는 것이 좋다. 쓰기모드로 열었던 파일을 닫지 않고 다시 사용하려고 하면 오류가 발생하기 때문이다.\n",
    "\n",
    "\n",
    "**파일 경로와 슬래시(/)**\n",
    "- 파이썬 코드에서 파일 경로를 표시할 때 \"C:/doit/새파일.txt\"처럼 슬래시(/)를 사용할 수 있다. 만약 역슬래시(\\)를 사용한다면 \"C:\\\\doit\\\\새파일.txt\"처럼 역슬래시를 2개 사용하거나 r\"C:\\doit\\새파일.txt\"와 같이 문자열 앞에 r 문자(raw string)를 덧붙여 사용해야 한다. 왜냐하면 \"C:\\note\\test.txt\"처럼 파일 경로에 \\n과 같은 이스케이프 문자가 있을 경우, 줄바꿈 문자로 해석되어 의도했던 파일 경로와 달라지기 때문이다.\n",
    "\n"
   ]
  },
  {
   "cell_type": "markdown",
   "id": "cf550418-514f-49ad-b12a-9f08b6c1c9c8",
   "metadata": {},
   "source": [
    "## 파일을 쓰기 모드로 열어 내용 쓰기\n",
    "- 위 예에서는 파일을 쓰기 모드로 열기만 했을 뿐, 정작 아무것도 쓰지는 않았다. 이번에는 문자열 데이터를 파일에 직접 써 보자."
   ]
  },
  {
   "cell_type": "code",
   "execution_count": 34,
   "id": "3a26a281-bcd5-431f-a484-6bde9e99d8b1",
   "metadata": {},
   "outputs": [],
   "source": [
    "f = open(\"새파일.txt\", 'w', encoding='utf-8')\n",
    "for i in range(1, 11):\n",
    "    data = \"%d번째 줄입니다.\\n\" % i\n",
    "    f.write(data)\n",
    "f.close()"
   ]
  },
  {
   "cell_type": "markdown",
   "id": "f77b52e0-d925-4829-9a0f-9bb394a7541a",
   "metadata": {},
   "source": [
    "- 위 프로그램을 다음과 비교해 보자.\n",
    "\n"
   ]
  },
  {
   "cell_type": "code",
   "execution_count": 35,
   "id": "e4dde02f-37ec-4aa2-977d-85705cf3654f",
   "metadata": {},
   "outputs": [
    {
     "name": "stdout",
     "output_type": "stream",
     "text": [
      "1번째 줄입니다.\n",
      "\n",
      "2번째 줄입니다.\n",
      "\n",
      "3번째 줄입니다.\n",
      "\n",
      "4번째 줄입니다.\n",
      "\n",
      "5번째 줄입니다.\n",
      "\n",
      "6번째 줄입니다.\n",
      "\n",
      "7번째 줄입니다.\n",
      "\n",
      "8번째 줄입니다.\n",
      "\n",
      "9번째 줄입니다.\n",
      "\n",
      "10번째 줄입니다.\n",
      "\n"
     ]
    }
   ],
   "source": [
    "for i in range(1, 11):\n",
    "    data = \"%d번째 줄입니다.\\n\" % i\n",
    "    print(data)"
   ]
  },
  {
   "attachments": {},
   "cell_type": "markdown",
   "id": "ac01a276-ba37-4378-8ead-0d4c9af53a5d",
   "metadata": {},
   "source": [
    "- 두 프로그램의 다른 점은 data를 출력하는 방법이다. 첫 번째는 모니터 화면 대신 파일에 데이터를 적는 방법, 두 번째는 우리가 계속 사용해 왔던 모니터 화면에 데이터를 출력하는 방법이다. 두 방법의 차이점은 print 함수 대신 파일 객체 f의 write 함수를 사용한 것 말고는 없으므로 바로 눈에 들어올 것이다.\n",
    "\n",
    "- 디렉터리를 살펴보면 ‘새파일.txt’ 파일이 생성된 것을 볼 수 있다. 파일 안에는 어떤 내용이 담겨 있는지 확인해 보자.\n",
    "\n",
    "<img src=\"https://wikidocs.net/images/page/26/04_3_file1.png\">\n",
    "\n",
    "- 모니터 화면에 출력될 내용이 고스란히 파일에 들어 있는 것을 볼 수 있다.\n",
    "\n",
    "## 파일을 읽는 여러 가지 방법\n",
    "- 파이썬에는 파일을 읽는 방법이 여러 가지 있다. 이번에는 그 방법을 자세히 알아보자.\n",
    "\n",
    "### readline 함수 이용하기\n",
    "- 첫 번째는 readline 함수를 사용하는 것이다. 다음 예를 살펴보자.\n",
    "\n"
   ]
  },
  {
   "cell_type": "code",
   "execution_count": 36,
   "id": "6fdc50fb-3421-4850-ba5c-9228cd47d030",
   "metadata": {},
   "outputs": [
    {
     "name": "stdout",
     "output_type": "stream",
     "text": [
      "1번째 줄입니다.\n",
      "\n"
     ]
    }
   ],
   "source": [
    "f = open(\"새파일.txt\", 'r', encoding='utf-8')\n",
    "line = f.readline()\n",
    "print(line)\n",
    "f.close()"
   ]
  },
  {
   "cell_type": "markdown",
   "id": "f4a3e7a9-488a-413d-8d8e-345591111c0a",
   "metadata": {},
   "source": [
    "- 위는 ‘새파일.txt’ 파일을 읽기 모드로 연 후 readline()을 사용해서 파일의 첫 번째 줄을 읽어 출력하는 예제이다. 앞에서 만든 새파일.txt 파일을 수정하거나 지우지 않았다면 위 프로그램을 실행했을 때 새파일.txt 파일의 가장 첫 번째 줄이 화면에 출력될 것이다.\n",
    "\n",
    "- 만약 모든 줄을 읽어 화면에 출력하고 싶다면 다음과 같이 작성하면 된다.\n",
    "\n"
   ]
  },
  {
   "cell_type": "code",
   "execution_count": 37,
   "id": "e7b07a02-fabb-45f6-8309-d851b7b8d50e",
   "metadata": {},
   "outputs": [
    {
     "name": "stdout",
     "output_type": "stream",
     "text": [
      "1번째 줄입니다.\n",
      "\n",
      "2번째 줄입니다.\n",
      "\n",
      "3번째 줄입니다.\n",
      "\n",
      "4번째 줄입니다.\n",
      "\n",
      "5번째 줄입니다.\n",
      "\n",
      "6번째 줄입니다.\n",
      "\n",
      "7번째 줄입니다.\n",
      "\n",
      "8번째 줄입니다.\n",
      "\n",
      "9번째 줄입니다.\n",
      "\n",
      "10번째 줄입니다.\n",
      "\n"
     ]
    }
   ],
   "source": [
    "f = open(\"새파일.txt\", 'r')\n",
    "while True:\n",
    "    line = f.readline()\n",
    "    if not line: break\n",
    "    print(line)\n",
    "f.close()"
   ]
  },
  {
   "cell_type": "markdown",
   "id": "0e3eeaee-a51f-48fd-8d41-160c0d4877bd",
   "metadata": {},
   "source": [
    "- while True: 무한 루프 안에서 f.readline()을 사용해 파일을 계속 한 줄씩 읽어 들인다. 만약 더 이상 읽을 줄이 없으면 break를 수행한다(readline()은 더 이상 읽을 줄이 없을 경우, 빈 문자열('')을 리턴한다).\n",
    "\n",
    "> 한 줄씩 읽어 출력할 때 줄 끝에 \\n 문자가 있으므로 빈 줄도 같이 출력된다.\n",
    "\n",
    "- 앞의 프로그램을 다음과 비교해 보자.\n",
    "\n",
    "```python\n",
    "while True:\n",
    "    data = input()\n",
    "    if not data: break\n",
    "    print(data)\n",
    "```    \n",
    "- 위 예는 사용자의 입력을 받아 그 내용을 출력하는 경우이다. 파일을 읽어서 출력하는 예제와 비교해 보자. 입력을 받는 방식만 다르다는 것을 바로 알 수 있을 것이다. 두 번째 예는 키보드를 사용한 입력 방법, 첫 번째 예는 파일을 사용한 입력 방법이다.\n",
    "\n",
    "### readlines 함수 사용하기\n",
    "- 두 번째 방법은 readlines 함수를 사용하는 것이다. 다음 예를 살펴보자.\n",
    "\n"
   ]
  },
  {
   "cell_type": "code",
   "execution_count": 40,
   "id": "b84ba583-da44-46c1-9d82-e7c982c915e5",
   "metadata": {},
   "outputs": [
    {
     "name": "stdout",
     "output_type": "stream",
     "text": [
      "1번째 줄입니다.\n",
      "\n",
      "2번째 줄입니다.\n",
      "\n",
      "3번째 줄입니다.\n",
      "\n",
      "4번째 줄입니다.\n",
      "\n",
      "5번째 줄입니다.\n",
      "\n",
      "6번째 줄입니다.\n",
      "\n",
      "7번째 줄입니다.\n",
      "\n",
      "8번째 줄입니다.\n",
      "\n",
      "9번째 줄입니다.\n",
      "\n",
      "10번째 줄입니다.\n",
      "\n"
     ]
    }
   ],
   "source": [
    "f = open(\"새파일.txt\", 'r')\n",
    "lines = f.readlines()\n",
    "for line in lines:\n",
    "    print(line)\n",
    "f.close()"
   ]
  },
  {
   "cell_type": "markdown",
   "id": "71c9ec8b-50a5-4817-a0bf-842ee1a8a76a",
   "metadata": {},
   "source": [
    "- readlines 함수는 파일의 모든 줄을 읽어서 각각의 줄을 요소로 가지는 리스트를 리턴한다. 따라서 위 예에서 lines는 리스트 [\"1번째 줄입니다.\\n\", \"2번째 줄입니다.\\n\", ..., \"10번째 줄입니다.\\n\"]가 된다. f.readlines()는 f.readline()와 달리 s가 하나 더 붙어 있다는 것에 유의하자.\n",
    "\n",
    "**줄 바꿈(\\n) 문자 제거하기**\n",
    "- 파일을 읽을 때 줄 끝의 줄 바꿈(\\n) 문자를 제거하고 사용해야 할 경우가 많다. 다음처럼 strip 함수를 사용하면 줄 바꿈 문자를 제거할 수 있다.\n",
    "\n",
    "\n"
   ]
  },
  {
   "cell_type": "code",
   "execution_count": 41,
   "id": "7cc2d385-8d78-466d-9948-37d4116e5dfa",
   "metadata": {},
   "outputs": [
    {
     "name": "stdout",
     "output_type": "stream",
     "text": [
      "1번째 줄입니다.\n",
      "2번째 줄입니다.\n",
      "3번째 줄입니다.\n",
      "4번째 줄입니다.\n",
      "5번째 줄입니다.\n",
      "6번째 줄입니다.\n",
      "7번째 줄입니다.\n",
      "8번째 줄입니다.\n",
      "9번째 줄입니다.\n",
      "10번째 줄입니다.\n"
     ]
    }
   ],
   "source": [
    "f = open(\"새파일.txt\", 'r')\n",
    "lines = f.readlines()\n",
    "for line in lines:\n",
    "    line = line.strip()  # 줄 끝의 줄 바꿈 문자를 제거한다.\n",
    "    print(line)\n",
    "f.close()"
   ]
  },
  {
   "cell_type": "markdown",
   "id": "ea8e0411-b440-4204-9d9a-d2489272e15f",
   "metadata": {},
   "source": [
    "### read 함수 사용하기\n",
    "- 세 번째는 read 함수를 사용하는 방법이다. 다음 예를 살펴보자.\n",
    "\n"
   ]
  },
  {
   "cell_type": "code",
   "execution_count": 42,
   "id": "eff9028e-0efa-40fd-8747-37a57e3b73a1",
   "metadata": {},
   "outputs": [
    {
     "name": "stdout",
     "output_type": "stream",
     "text": [
      "1번째 줄입니다.\n",
      "2번째 줄입니다.\n",
      "3번째 줄입니다.\n",
      "4번째 줄입니다.\n",
      "5번째 줄입니다.\n",
      "6번째 줄입니다.\n",
      "7번째 줄입니다.\n",
      "8번째 줄입니다.\n",
      "9번째 줄입니다.\n",
      "10번째 줄입니다.\n",
      "\n"
     ]
    }
   ],
   "source": [
    "f = open(\"새파일.txt\", 'r')\n",
    "data = f.read()\n",
    "print(data)\n",
    "f.close()"
   ]
  },
  {
   "cell_type": "markdown",
   "id": "5e17ef0e-d2f4-4e31-b933-0d4865bb58d7",
   "metadata": {},
   "source": [
    "- f.read()는 파일의 내용 전체를 문자열로 리턴한다. 따라서 위 예의 data는 파일의 전체 내용이다."
   ]
  },
  {
   "cell_type": "markdown",
   "id": "d2d944dd-12c3-4030-8d15-fd0bbbed3b86",
   "metadata": {},
   "source": [
    "### 파일 객체를 for 문과 함께 사용하기\n",
    "- 네 번째는 파일 객체를 for 문과 함께 사용하는 방법이다.\n",
    "\n"
   ]
  },
  {
   "cell_type": "code",
   "execution_count": 43,
   "id": "594e6870-4797-435e-a0c4-6c259fc3b163",
   "metadata": {},
   "outputs": [
    {
     "name": "stdout",
     "output_type": "stream",
     "text": [
      "1번째 줄입니다.\n",
      "\n",
      "2번째 줄입니다.\n",
      "\n",
      "3번째 줄입니다.\n",
      "\n",
      "4번째 줄입니다.\n",
      "\n",
      "5번째 줄입니다.\n",
      "\n",
      "6번째 줄입니다.\n",
      "\n",
      "7번째 줄입니다.\n",
      "\n",
      "8번째 줄입니다.\n",
      "\n",
      "9번째 줄입니다.\n",
      "\n",
      "10번째 줄입니다.\n",
      "\n"
     ]
    }
   ],
   "source": [
    "f = open(\"새파일.txt\", 'r')\n",
    "for line in f:\n",
    "    print(line)\n",
    "f.close()"
   ]
  },
  {
   "cell_type": "markdown",
   "id": "ead2bd67-897f-4fc5-92c1-fa27aa90158a",
   "metadata": {},
   "source": [
    "- 파일 객체(f)는 기본적으로 위와 같이 for 문과 함께 사용하여 파일을 줄 단위로 읽을 수 있다.\n",
    "\n"
   ]
  },
  {
   "cell_type": "markdown",
   "id": "7b9687b7-8d59-452d-bd09-3c2d43c36071",
   "metadata": {},
   "source": [
    "### [문제] : 프로그램 오류 수정하기2\n",
    "- 다음은 파일(test.txt)에 \"Life is too short\" 문자열을 저장한 후 다시 그 파일을 읽어 출력하는 프로그램이다.\n",
    "\n",
    "```python\n",
    "f1 = open('test.txt', 'w')\n",
    "f1.write(\"Life is too short\")\n",
    "\n",
    "f2 = open(\"test.txt\", 'r')\n",
    "print(f2.read())\n",
    "\n",
    "```\n",
    "\n",
    "- 이 프로그램은 우리가 예상한 것과 같이 \"Life is too short\"라는 문장을 출력하지 않는다.\n",
    "- 그 이유를 설명하고 프로그램을 수정해 보자"
   ]
  },
  {
   "cell_type": "code",
   "execution_count": null,
   "id": "a4d949c7-38b8-45e7-aade-9fdb4773a057",
   "metadata": {},
   "outputs": [],
   "source": []
  },
  {
   "cell_type": "markdown",
   "id": "08a52161-4292-4940-af29-ed76add0be18",
   "metadata": {},
   "source": [
    "## 파일에 새로운 내용 추가하기\n",
    "- 쓰기 모드('w')로 파일을 열 때 이미 존재하는 파일을 열면 그 파일의 내용이 모두 사라지게 된다. 하지만 원래 있던 값을 유지하면서 단지 새로운 값만 추가해야 할 경우도 있다. 이런 경우에는 파일을 추가 모드('a')로 열면 된다. IDLE 에디터로 다음 소스 코드를 작성해 보자.\n",
    "\n"
   ]
  },
  {
   "cell_type": "code",
   "execution_count": 45,
   "id": "eca71f5f-5251-4291-b531-29a5b5e326b0",
   "metadata": {},
   "outputs": [],
   "source": [
    "f = open(\"새파일.txt\",'a')\n",
    "for i in range(11, 20):\n",
    "    data = \"%d번째 줄입니다.\\n\" % i\n",
    "    f.write(data)\n",
    "f.close()"
   ]
  },
  {
   "cell_type": "markdown",
   "id": "bda5d5f5-9bc7-481f-b97d-c6f64c33755f",
   "metadata": {},
   "source": [
    "- 위는 새파일.txt 파일을 추가 모드('a')로 열고 write를 사용해서 결괏값을 기존 파일에 추가해 적는 예이다. 여기에서 추가 모드로 파일을 열었기 때문에 새파일.txt 파일이 원래 가지고 있던 내용 바로 다음부터 결괏값을 적기 시작한다.\n",
    "\n",
    "- 새파일.txt 파일을 열어 보면 원래 있던 내용 뒤에 새로운 내용이 추가된 것을 확인할 수 있다.\n",
    "\n",
    "<img src=\"https://wikidocs.net/images/page/26/04_3_file2.png\">"
   ]
  },
  {
   "cell_type": "markdown",
   "id": "7277eb5e-231a-4d7f-854e-951e0d8549c0",
   "metadata": {},
   "source": [
    "### [문제] : 사용자 입력 저장하기\n",
    "- 사용자의 입력을 파일(test.txt)에 저장하는 프로그램을 작성해 보자\n",
    "- 프로그램을 다시 실행 하더라도, 기존에 작성한 내용을 유지하고 새로 입력한 내용을 추가 해야 한다.\n",
    "- 각 입력은 별도의 행으로 입력 되어 있어야 한다."
   ]
  },
  {
   "cell_type": "code",
   "execution_count": null,
   "id": "4bfd51b7-f010-4a01-8d47-a9e78686039f",
   "metadata": {},
   "outputs": [],
   "source": []
  },
  {
   "cell_type": "markdown",
   "id": "bf1a939e-fb9d-46b0-be28-d8a92ddbe705",
   "metadata": {},
   "source": [
    "## with 문과 함께 사용하기\n",
    "- 지금까지 살펴본 예제를 보면 항상 다음과 같은 방식으로 파일을 열고 닫은 것을 알 수 있다.\n",
    "\n",
    "```python\n",
    "f = open(\"foo.txt\", 'w')\n",
    "f.write(\"Life is too short, you need python\")\n",
    "f.close()\n",
    "```\n",
    "\n",
    "- 파일을 열면(open) 항상 닫아(close) 주어야 한다. 이렇게 파일을 열고 닫는 것을 자동으로 처리할 수 있다면 편리하지 않을까? 파이썬의 with 문이 바로 이런 역할을 해 준다. 다음 예는 with 문을 사용해서 위 예제를 다시 작성한 모습이다.\n",
    "\n",
    "```python\n",
    "with open(\"foo.txt\", \"w\") as f:\n",
    "    f.write(\"Life is too short, you need python\")\n",
    "```\n",
    "- 위와 같이 with 문을 사용하면 with 블록(with 문에 속해 있는 문장)을 벗어나는 순간, 열린 파일 객체 f가 자동으로 닫힌다."
   ]
  },
  {
   "cell_type": "markdown",
   "id": "220a3c90-b224-4af1-a0a8-6bc578a4c4db",
   "metadata": {},
   "source": [
    "### [문제] : 파일의 문자열 바꾸기\n",
    "\n",
    "- 다음과 같은 내용을 가진 test2.txt 파일이 있다.\n",
    "    - Life is too short\n",
    "    - you need java\n",
    "- with 문을 사용해, test2.txt를 불러 들여, body 라는 변수에 위 문자열을 담는다 (파일 읽기 모드)\n",
    "- body의 'java'를 'python'으로 변경 한다.\n",
    "- with 문을 사용해, test3.txt 파일에 변경한 body를 저장한다. (파일 쓰기 모드)"
   ]
  },
  {
   "cell_type": "code",
   "execution_count": null,
   "id": "e5efc187-9675-419b-b559-5b9d62ef23ca",
   "metadata": {},
   "outputs": [],
   "source": []
  }
 ],
 "metadata": {
  "kernelspec": {
   "display_name": "Python 3 (ipykernel)",
   "language": "python",
   "name": "python3"
  },
  "language_info": {
   "codemirror_mode": {
    "name": "ipython",
    "version": 3
   },
   "file_extension": ".py",
   "mimetype": "text/x-python",
   "name": "python",
   "nbconvert_exporter": "python",
   "pygments_lexer": "ipython3",
   "version": "3.10.14"
  }
 },
 "nbformat": 4,
 "nbformat_minor": 5
}
