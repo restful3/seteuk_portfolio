{
 "cells": [
  {
   "cell_type": "markdown",
   "id": "e531c094-aa6b-4e4f-817c-0cd59e40ede8",
   "metadata": {},
   "source": [
    "# 7번"
   ]
  },
  {
   "cell_type": "code",
   "execution_count": 1,
   "id": "a725a2f5-d1f6-4d2d-b8bb-3229a0b99327",
   "metadata": {},
   "outputs": [
    {
     "name": "stdout",
     "output_type": "stream",
     "text": [
      "naver;kakao;sk;samsung\n"
     ]
    }
   ],
   "source": [
    "print(\"naver;kakao;sk;samsung\")"
   ]
  },
  {
   "cell_type": "code",
   "execution_count": 5,
   "id": "6d75c870-e1f3-46fd-bc59-a62241518577",
   "metadata": {},
   "outputs": [
    {
     "name": "stdout",
     "output_type": "stream",
     "text": [
      "a;b;c\n"
     ]
    }
   ],
   "source": [
    "print('a', 'b', 'c', sep=';')"
   ]
  },
  {
   "cell_type": "markdown",
   "id": "02080b61-0efd-40d0-8875-087d88858e75",
   "metadata": {},
   "source": [
    "# 9번"
   ]
  },
  {
   "cell_type": "code",
   "execution_count": 6,
   "id": "e6a60297-b79a-40d6-84dd-31b747ad48df",
   "metadata": {},
   "outputs": [
    {
     "name": "stdout",
     "output_type": "stream",
     "text": [
      "first\n",
      "second\n"
     ]
    }
   ],
   "source": [
    "print(\"first\");print(\"second\")"
   ]
  },
  {
   "cell_type": "code",
   "execution_count": 9,
   "id": "345552bf-b6ba-470b-b23c-553eb85e3b44",
   "metadata": {},
   "outputs": [
    {
     "name": "stdout",
     "output_type": "stream",
     "text": [
      "a,b,"
     ]
    }
   ],
   "source": [
    "print('a', end=',')\n",
    "print('b', end=',')"
   ]
  },
  {
   "cell_type": "markdown",
   "id": "c895ed87-cf39-4db8-9ae7-3892ac9fab34",
   "metadata": {},
   "source": [
    "# 81번"
   ]
  },
  {
   "cell_type": "code",
   "execution_count": 10,
   "id": "4bedab7c-7c89-4387-9348-ea9ffa9694d4",
   "metadata": {},
   "outputs": [],
   "source": [
    "a, b, *c = (0, 1, 2, 3, 4, 5)"
   ]
  },
  {
   "cell_type": "code",
   "execution_count": 11,
   "id": "1559d9a3-5b41-4877-a4b9-a87d2972db1f",
   "metadata": {},
   "outputs": [
    {
     "data": {
      "text/plain": [
       "[2, 3, 4, 5]"
      ]
     },
     "execution_count": 11,
     "metadata": {},
     "output_type": "execute_result"
    }
   ],
   "source": [
    "c"
   ]
  },
  {
   "cell_type": "code",
   "execution_count": 16,
   "id": "44a62ece-57d9-4842-a366-7df707a3ae03",
   "metadata": {},
   "outputs": [],
   "source": [
    "*valid_score, _, _ = [8.8, 8.9, 8.7, 9.2, 9.3, 9.7, 9.9, 9.5, 7.8, 9.4]"
   ]
  },
  {
   "cell_type": "code",
   "execution_count": 17,
   "id": "ab7ca94a-2878-47df-a85d-8f7810f94900",
   "metadata": {},
   "outputs": [
    {
     "data": {
      "text/plain": [
       "[8.8, 8.9, 8.7, 9.2, 9.3, 9.7, 9.9, 9.5]"
      ]
     },
     "execution_count": 17,
     "metadata": {},
     "output_type": "execute_result"
    }
   ],
   "source": [
    "valid_score"
   ]
  },
  {
   "cell_type": "markdown",
   "id": "757ae195-e1ff-4fce-af49-59fcd087c1a6",
   "metadata": {},
   "source": [
    "## 99번"
   ]
  },
  {
   "cell_type": "code",
   "execution_count": 18,
   "id": "09b59954-825d-4f0d-aaa8-d0e79a5738e9",
   "metadata": {},
   "outputs": [],
   "source": [
    "keys = (\"apple\", \"pear\", \"peach\")\n",
    "vals = (300, 250, 400)"
   ]
  },
  {
   "cell_type": "code",
   "execution_count": 20,
   "id": "52b6c114-a22f-466f-b7fc-3c8c82d18729",
   "metadata": {},
   "outputs": [],
   "source": [
    "result = {}\n",
    "for k, v in zip(keys, vals):\n",
    "    result[k] = v"
   ]
  },
  {
   "cell_type": "code",
   "execution_count": 21,
   "id": "77076410-7901-4ff3-bf22-d49c5771cd33",
   "metadata": {},
   "outputs": [
    {
     "data": {
      "text/plain": [
       "{'apple': 300, 'pear': 250, 'peach': 400}"
      ]
     },
     "execution_count": 21,
     "metadata": {},
     "output_type": "execute_result"
    }
   ],
   "source": [
    "result"
   ]
  },
  {
   "cell_type": "code",
   "execution_count": null,
   "id": "1d6911b1-e47b-4fdf-9d40-9451caec02cb",
   "metadata": {},
   "outputs": [],
   "source": []
  }
 ],
 "metadata": {
  "kernelspec": {
   "display_name": "Python 3 (ipykernel)",
   "language": "python",
   "name": "python3"
  },
  "language_info": {
   "codemirror_mode": {
    "name": "ipython",
    "version": 3
   },
   "file_extension": ".py",
   "mimetype": "text/x-python",
   "name": "python",
   "nbconvert_exporter": "python",
   "pygments_lexer": "ipython3",
   "version": "3.10.14"
  }
 },
 "nbformat": 4,
 "nbformat_minor": 5
}
