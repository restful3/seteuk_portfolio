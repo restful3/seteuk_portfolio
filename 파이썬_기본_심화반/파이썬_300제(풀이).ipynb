{
 "cells": [
  {
   "cell_type": "markdown",
   "id": "e531c094-aa6b-4e4f-817c-0cd59e40ede8",
   "metadata": {},
   "source": [
    "# 7번"
   ]
  },
  {
   "cell_type": "code",
   "execution_count": 1,
   "id": "a725a2f5-d1f6-4d2d-b8bb-3229a0b99327",
   "metadata": {},
   "outputs": [
    {
     "name": "stdout",
     "output_type": "stream",
     "text": [
      "naver;kakao;sk;samsung\n"
     ]
    }
   ],
   "source": [
    "print(\"naver;kakao;sk;samsung\")"
   ]
  },
  {
   "cell_type": "code",
   "execution_count": 5,
   "id": "6d75c870-e1f3-46fd-bc59-a62241518577",
   "metadata": {},
   "outputs": [
    {
     "name": "stdout",
     "output_type": "stream",
     "text": [
      "a;b;c\n"
     ]
    }
   ],
   "source": [
    "print('a', 'b', 'c', sep=';')"
   ]
  },
  {
   "cell_type": "markdown",
   "id": "02080b61-0efd-40d0-8875-087d88858e75",
   "metadata": {},
   "source": [
    "# 9번"
   ]
  },
  {
   "cell_type": "code",
   "execution_count": 6,
   "id": "e6a60297-b79a-40d6-84dd-31b747ad48df",
   "metadata": {},
   "outputs": [
    {
     "name": "stdout",
     "output_type": "stream",
     "text": [
      "first\n",
      "second\n"
     ]
    }
   ],
   "source": [
    "print(\"first\");print(\"second\")"
   ]
  },
  {
   "cell_type": "code",
   "execution_count": 9,
   "id": "345552bf-b6ba-470b-b23c-553eb85e3b44",
   "metadata": {},
   "outputs": [
    {
     "name": "stdout",
     "output_type": "stream",
     "text": [
      "a,b,"
     ]
    }
   ],
   "source": [
    "print('a', end=',')\n",
    "print('b', end=',')"
   ]
  },
  {
   "cell_type": "markdown",
   "id": "c895ed87-cf39-4db8-9ae7-3892ac9fab34",
   "metadata": {},
   "source": [
    "# 81번"
   ]
  },
  {
   "cell_type": "code",
   "execution_count": 10,
   "id": "4bedab7c-7c89-4387-9348-ea9ffa9694d4",
   "metadata": {},
   "outputs": [],
   "source": [
    "a, b, *c = (0, 1, 2, 3, 4, 5)"
   ]
  },
  {
   "cell_type": "code",
   "execution_count": 11,
   "id": "1559d9a3-5b41-4877-a4b9-a87d2972db1f",
   "metadata": {},
   "outputs": [
    {
     "data": {
      "text/plain": [
       "[2, 3, 4, 5]"
      ]
     },
     "execution_count": 11,
     "metadata": {},
     "output_type": "execute_result"
    }
   ],
   "source": [
    "c"
   ]
  },
  {
   "cell_type": "code",
   "execution_count": 16,
   "id": "44a62ece-57d9-4842-a366-7df707a3ae03",
   "metadata": {},
   "outputs": [],
   "source": [
    "*valid_score, _, _ = [8.8, 8.9, 8.7, 9.2, 9.3, 9.7, 9.9, 9.5, 7.8, 9.4]"
   ]
  },
  {
   "cell_type": "code",
   "execution_count": 17,
   "id": "ab7ca94a-2878-47df-a85d-8f7810f94900",
   "metadata": {},
   "outputs": [
    {
     "data": {
      "text/plain": [
       "[8.8, 8.9, 8.7, 9.2, 9.3, 9.7, 9.9, 9.5]"
      ]
     },
     "execution_count": 17,
     "metadata": {},
     "output_type": "execute_result"
    }
   ],
   "source": [
    "valid_score"
   ]
  },
  {
   "cell_type": "markdown",
   "id": "757ae195-e1ff-4fce-af49-59fcd087c1a6",
   "metadata": {},
   "source": [
    "## 99번"
   ]
  },
  {
   "cell_type": "code",
   "execution_count": 18,
   "id": "09b59954-825d-4f0d-aaa8-d0e79a5738e9",
   "metadata": {},
   "outputs": [],
   "source": [
    "keys = (\"apple\", \"pear\", \"peach\")\n",
    "vals = (300, 250, 400)"
   ]
  },
  {
   "cell_type": "code",
   "execution_count": 20,
   "id": "52b6c114-a22f-466f-b7fc-3c8c82d18729",
   "metadata": {},
   "outputs": [],
   "source": [
    "result = {}\n",
    "for k, v in zip(keys, vals):\n",
    "    result[k] = v"
   ]
  },
  {
   "cell_type": "code",
   "execution_count": 21,
   "id": "77076410-7901-4ff3-bf22-d49c5771cd33",
   "metadata": {},
   "outputs": [
    {
     "data": {
      "text/plain": [
       "{'apple': 300, 'pear': 250, 'peach': 400}"
      ]
     },
     "execution_count": 21,
     "metadata": {},
     "output_type": "execute_result"
    }
   ],
   "source": [
    "result"
   ]
  },
  {
   "cell_type": "markdown",
   "id": "0326e50e-3abc-49e4-8985-0fb48b2fd194",
   "metadata": {},
   "source": [
    "# 252"
   ]
  },
  {
   "cell_type": "code",
   "execution_count": 1,
   "id": "b484185a-2485-48ea-8d51-7bb9a0554c8c",
   "metadata": {},
   "outputs": [],
   "source": [
    "class Human:\n",
    "    pass"
   ]
  },
  {
   "cell_type": "markdown",
   "id": "85abf088-35ea-4d39-a91b-7f443ef03765",
   "metadata": {},
   "source": [
    "# 253"
   ]
  },
  {
   "cell_type": "code",
   "execution_count": 2,
   "id": "80bc051d-1e5d-4e20-9cfa-01d08da0be1e",
   "metadata": {},
   "outputs": [],
   "source": [
    "areum = Human()"
   ]
  },
  {
   "cell_type": "markdown",
   "id": "51c69add-ab85-483b-9709-2146367a8e13",
   "metadata": {},
   "source": [
    "# 254"
   ]
  },
  {
   "cell_type": "code",
   "execution_count": 4,
   "id": "68be0797-6820-4220-b2fc-b61e1462cc66",
   "metadata": {},
   "outputs": [],
   "source": [
    "class Human:\n",
    "    def __init__(self):\n",
    "        print('응애응애')"
   ]
  },
  {
   "cell_type": "code",
   "execution_count": 6,
   "id": "0aef1042-2c39-49aa-9ef6-b68d882611f4",
   "metadata": {},
   "outputs": [
    {
     "name": "stdout",
     "output_type": "stream",
     "text": [
      "응애응애\n"
     ]
    }
   ],
   "source": [
    "areum = Human()"
   ]
  },
  {
   "cell_type": "markdown",
   "id": "2c36d40a-1b13-44ed-a1b2-8b51bee4f33a",
   "metadata": {},
   "source": [
    "# 255"
   ]
  },
  {
   "cell_type": "code",
   "execution_count": 7,
   "id": "5522d47d-e472-469c-89f2-28b14764ffc6",
   "metadata": {},
   "outputs": [],
   "source": [
    "class Human:\n",
    "    def __init__(self, 이름, 나이, 성별):\n",
    "        self.이름 = 이름\n",
    "        self.나이 = 나이\n",
    "        self.성별 = 성별"
   ]
  },
  {
   "cell_type": "code",
   "execution_count": 9,
   "id": "67cb0d06-bbcf-4fb4-af3c-b87ce822337f",
   "metadata": {},
   "outputs": [],
   "source": [
    "areum = Human('유관순', 20, '여성')"
   ]
  },
  {
   "cell_type": "code",
   "execution_count": 10,
   "id": "f9630dd0-b314-405f-9088-b7074e6686ff",
   "metadata": {},
   "outputs": [
    {
     "data": {
      "text/plain": [
       "('유관순', 20, '여성')"
      ]
     },
     "execution_count": 10,
     "metadata": {},
     "output_type": "execute_result"
    }
   ],
   "source": [
    "areum.이름, areum.나이, areum.성별"
   ]
  },
  {
   "cell_type": "markdown",
   "id": "502498c3-2014-42b5-9e60-0a6f2094ee33",
   "metadata": {},
   "source": [
    "# 256\n",
    "- 이름: 조아름, 나이: 25, 성별: 여자"
   ]
  },
  {
   "cell_type": "code",
   "execution_count": 12,
   "id": "ef430e3a-6ca0-4dc7-b632-7bdeb29f54fe",
   "metadata": {},
   "outputs": [],
   "source": [
    "areum = Human('조아름', 25, '여자')"
   ]
  },
  {
   "cell_type": "code",
   "execution_count": 13,
   "id": "1b91c313-7ac7-496e-9635-0945f2eb9d37",
   "metadata": {},
   "outputs": [
    {
     "data": {
      "text/plain": [
       "('조아름', 25, '여자')"
      ]
     },
     "execution_count": 13,
     "metadata": {},
     "output_type": "execute_result"
    }
   ],
   "source": [
    "areum.이름, areum.나이, areum.성별"
   ]
  },
  {
   "cell_type": "code",
   "execution_count": 14,
   "id": "7243c179-230a-4b80-bc68-a30792c25d29",
   "metadata": {},
   "outputs": [
    {
     "name": "stdout",
     "output_type": "stream",
     "text": [
      "이름 : 조아름, 나이 : 25, 성별 : 여자\n"
     ]
    }
   ],
   "source": [
    "print(f'이름 : {areum.이름}, 나이 : {areum.나이}, 성별 : {areum.성별}')"
   ]
  },
  {
   "cell_type": "markdown",
   "id": "97c63c7f-5b6a-48b1-a3c1-b9a12a06b90c",
   "metadata": {},
   "source": [
    "# 257\n",
    "- who() 메서드 만들기"
   ]
  },
  {
   "cell_type": "code",
   "execution_count": 15,
   "id": "b7916fcc-e3e9-458e-9955-bbf6bbb2e8d2",
   "metadata": {},
   "outputs": [],
   "source": [
    "class Human:\n",
    "    def __init__(self, 이름, 나이, 성별):\n",
    "        self.이름 = 이름\n",
    "        self.나이 = 나이\n",
    "        self.성별 = 성별\n",
    "        \n",
    "    def who(self):\n",
    "        print(f'이름 : {self.이름}, 나이 : {self.나이}, 성별 : {self.성별}')"
   ]
  },
  {
   "cell_type": "code",
   "execution_count": 16,
   "id": "e9697aea-fb56-4b86-b693-884fc1307df5",
   "metadata": {},
   "outputs": [],
   "source": [
    "areum = Human('조아름', 25, '여자')"
   ]
  },
  {
   "cell_type": "code",
   "execution_count": 17,
   "id": "fa99d213-1397-49b3-8057-ca3999c00ea9",
   "metadata": {},
   "outputs": [
    {
     "name": "stdout",
     "output_type": "stream",
     "text": [
      "이름 : 조아름, 나이 : 25, 성별 : 여자\n"
     ]
    }
   ],
   "source": [
    "areum.who()"
   ]
  },
  {
   "cell_type": "markdown",
   "id": "9eabf58a-74a8-4941-bcdc-24e6fab36a02",
   "metadata": {},
   "source": [
    "# 258 클래스 메소드 - 2\n",
    "- 사람 (Human) 클래스에 (이름, 나이, 성별)을 받는 setInfo 메소드를 추가하세요."
   ]
  },
  {
   "cell_type": "code",
   "execution_count": 20,
   "id": "3e76b0ba-706f-4406-8d8a-1d5ddfa89800",
   "metadata": {},
   "outputs": [],
   "source": [
    "class Human:\n",
    "    def __init__(self, 이름, 나이, 성별):\n",
    "        self.이름 = 이름\n",
    "        self.나이 = 나이\n",
    "        self.성별 = 성별\n",
    "        \n",
    "    def who(self):\n",
    "        print(f'이름 : {self.이름}, 나이 : {self.나이}, 성별 : {self.성별}')\n",
    "\n",
    "    def setInfo(self, 이름, 나이, 성별):\n",
    "        self.이름 = 이름\n",
    "        self.나이 = 나이\n",
    "        self.성별 = 성별"
   ]
  },
  {
   "cell_type": "code",
   "execution_count": 21,
   "id": "2890143b-6288-4b7f-b213-ac45f6ccd52f",
   "metadata": {},
   "outputs": [],
   "source": [
    "areum = Human(\"모름\", 0, \"모름\")"
   ]
  },
  {
   "cell_type": "code",
   "execution_count": 22,
   "id": "e0ea8ee7-26b1-46b4-9723-bf9f3273575b",
   "metadata": {},
   "outputs": [
    {
     "name": "stdout",
     "output_type": "stream",
     "text": [
      "이름 : 모름, 나이 : 0, 성별 : 모름\n"
     ]
    }
   ],
   "source": [
    "areum.who()"
   ]
  },
  {
   "cell_type": "code",
   "execution_count": 23,
   "id": "ca20c971-61bb-41cc-a393-0d3b9789be60",
   "metadata": {},
   "outputs": [],
   "source": [
    "areum.setInfo('조아름', 25, '여자')"
   ]
  },
  {
   "cell_type": "code",
   "execution_count": 24,
   "id": "6e5ef938-46a7-4498-872c-f13670eaeff3",
   "metadata": {},
   "outputs": [
    {
     "name": "stdout",
     "output_type": "stream",
     "text": [
      "이름 : 조아름, 나이 : 25, 성별 : 여자\n"
     ]
    }
   ],
   "source": [
    "areum.who()"
   ]
  },
  {
   "cell_type": "code",
   "execution_count": null,
   "id": "dd122c6b-555f-4633-b768-e4b33e35d231",
   "metadata": {},
   "outputs": [],
   "source": []
  }
 ],
 "metadata": {
  "kernelspec": {
   "display_name": "Python 3 (ipykernel)",
   "language": "python",
   "name": "python3"
  },
  "language_info": {
   "codemirror_mode": {
    "name": "ipython",
    "version": 3
   },
   "file_extension": ".py",
   "mimetype": "text/x-python",
   "name": "python",
   "nbconvert_exporter": "python",
   "pygments_lexer": "ipython3",
   "version": "3.10.14"
  }
 },
 "nbformat": 4,
 "nbformat_minor": 5
}
