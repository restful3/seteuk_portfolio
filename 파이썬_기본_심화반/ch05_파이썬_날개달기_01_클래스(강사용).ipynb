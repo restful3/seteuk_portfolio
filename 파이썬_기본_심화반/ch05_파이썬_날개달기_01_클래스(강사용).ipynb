{
 "cells": [
  {
   "cell_type": "markdown",
   "id": "6a6a71c4-5b01-4628-b354-c5dbe0ecb016",
   "metadata": {},
   "source": [
    "# 클래스는 왜 필요한가?\n",
    "\n",
    "프로그래머들이 가장 많이 사용하는 프로그래밍 언어 중 하나인 C 언어에는 클래스가 없다. 이 말은 굳이 클래스가 없어도 프로그램을 충분히 만들 수 있다는 뜻이다. 파이썬으로 잘 만든 프로그램을 살펴봐도 클래스를 사용하지 않고 작성한 것이 매우 많다. 즉, 클래스는 지금까지 공부한 함수나 자료형처럼 프로그램 작성을 위해 꼭 필요한 요소는 아니다.\n",
    "\n",
    "하지만 프로그램을 작성할 때 클래스를 적재적소에 사용하면 프로그래머가 얻을 수 있는 이익은 많다. 예제를 통해 한번 생각해 보자.\n",
    "\n",
    "# 계산기 프로그램을 만들며 클래스 알아보기\n",
    "\n",
    "여러분 모두 계산기를 사용해 보았을 것이다. 계산기에 숫자 3을 입력하고 +를 입력한 후 4를 입력하면 결괏값으로 7을 보여 준다. 다시 한번 +를 입력한 후 3을 입력하면 기존 결괏값 7에 3을 더해 10을 보여 준다. 즉, 계산기는 이전에 계산한 결괏값을 항상 메모리 어딘가에 저장하고 있어야 한다.\n",
    "\n",
    "<img src=\"https://wikidocs.net/images/page/28/calc.png\">\n",
    "\n",
    "> 계산기는 이전에 계산한 결괏값을 기억하고 있어야 한다.\n",
    "\n",
    "이런 내용을 우리가 앞에서 익힌 함수를 이용해 구현해 보자. 계산기의 ‘더하기’ 기능을 구현한 파이썬 코드는 다음과 같다."
   ]
  },
  {
   "cell_type": "code",
   "execution_count": 63,
   "id": "1bc730e5-1682-4baa-b4f7-b2198b8e6a2c",
   "metadata": {},
   "outputs": [],
   "source": [
    "result = 0\n",
    "\n",
    "def add(num):\n",
    "    global result\n",
    "    result += num  # 결괏값(result)에 입력값(num) 더하기\n",
    "    return result  # 결괏값 리턴"
   ]
  },
  {
   "cell_type": "markdown",
   "id": "98ad826a-b4d6-42d9-b9be-b009ff300bd8",
   "metadata": {},
   "source": [
    "입력값을 이전에 계산한 결괏값에 더한 후 리턴하는 add 함수를 위와 같이 작성했다. 이전에 계산한 결괏값을 유지하기 위해서 result 전역 변수(global)를 사용했다. 프로그램을 실행하면 예상한 대로 다음과 같은 결괏값이 출력된다."
   ]
  },
  {
   "cell_type": "code",
   "execution_count": 64,
   "id": "2219a5fb-5a5f-4663-b78e-2d6c7af7c3f7",
   "metadata": {},
   "outputs": [
    {
     "name": "stdout",
     "output_type": "stream",
     "text": [
      "3\n",
      "7\n"
     ]
    }
   ],
   "source": [
    "print(add(3))\n",
    "print(add(4))"
   ]
  },
  {
   "cell_type": "markdown",
   "id": "8875f936-fa0d-4e2e-8933-b91adcf46ff3",
   "metadata": {},
   "source": [
    "그런데 만일 한 프로그램에서 2대의 계산기가 필요한 상황이 발생하면 어떻게 해야 할까? 각 계산기는 각각의 결괏값을 유지해야 하므로 위와 같이 add 함수 하나만으로는 결괏값을 따로 유지할 수 없다.\n",
    "\n",
    "이런 상황을 해결하려면 다음과 같이 함수를 각각 따로 만들어야 한다."
   ]
  },
  {
   "cell_type": "code",
   "execution_count": 65,
   "id": "dcb2c88f-4a0b-49a7-ae20-970cd2f2ef70",
   "metadata": {},
   "outputs": [],
   "source": [
    "result1 = 0\n",
    "result2 = 0\n",
    "\n",
    "def add1(num):  # 계산기1\n",
    "    global result1\n",
    "    result1 += num\n",
    "    return result1\n",
    "\n",
    "def add2(num):  # 계산기2\n",
    "    global result2\n",
    "    result2 += num\n",
    "    return result2"
   ]
  },
  {
   "cell_type": "code",
   "execution_count": 66,
   "id": "f2ebe5da-779f-439a-81d9-1bb7095d2052",
   "metadata": {},
   "outputs": [
    {
     "name": "stdout",
     "output_type": "stream",
     "text": [
      "3\n",
      "7\n",
      "3\n",
      "10\n"
     ]
    }
   ],
   "source": [
    "print(add1(3))\n",
    "print(add1(4))\n",
    "print(add2(3))\n",
    "print(add2(7))"
   ]
  },
  {
   "cell_type": "markdown",
   "id": "2092c550-f435-4f0f-b400-637be66c16e0",
   "metadata": {},
   "source": [
    "똑같은 일을 하는 add1과 add2 함수를 만들고 각 함수에서 계산한 결괏값을 유지하면서 저장하는 전역 변수 result1과 result2를 정의했다.\n",
    "\n",
    "결괏값은 다음과 같이 의도한 대로 출력된다."
   ]
  },
  {
   "cell_type": "markdown",
   "id": "e5242c8d-273b-4b9f-84a8-969f2de25c31",
   "metadata": {},
   "source": [
    "계산기 1의 결괏값이 계산기 2에 아무런 영향을 끼치지 않는다는 것을 확인할 수 있다. 하지만 계산기가 3개, 5개, 10개로 점점 더 많이 필요해진다면 어떻게 해야 할까? 그때마다 전역 변수와 함수를 추가할 것인가? 여기에 계산기마다 빼기나 곱하기와 같은 기능을 추가해야 한다면 상황은 점점 더 어려워질 것이다.\n",
    "\n",
    "아직 클래스에 대해 배우지 않았지만, 위와 같은 경우에 클래스를 사용하면 다음과 같이 간단하게 해결할 수 있다.\n",
    "\n",
    "> 다음 예시 클래스를 아직은 이해하지 못해도 좋다. 곧 자세하게 배울 것이다. 여기에서는 클래스 개념만 어렴풋이 이해하면 된다."
   ]
  },
  {
   "cell_type": "code",
   "execution_count": 9,
   "id": "956a0a4c-d111-455c-b391-de7e58e176b0",
   "metadata": {},
   "outputs": [],
   "source": [
    "class Calculator:\n",
    "    def __init__(self):\n",
    "        self.result = 0\n",
    "\n",
    "    def add(self, num):\n",
    "        self.result += num\n",
    "        return self.result"
   ]
  },
  {
   "cell_type": "markdown",
   "id": "868d7c70-97b2-4dcb-b9d0-713cad505edb",
   "metadata": {},
   "source": [
    "프로그램을 실행하면 함수 2개를 사용했을 때와 동일한 결과가 출력된다."
   ]
  },
  {
   "cell_type": "code",
   "execution_count": 10,
   "id": "6c980b8f-0bf2-489e-9dd0-c6b7e555c20f",
   "metadata": {},
   "outputs": [
    {
     "name": "stdout",
     "output_type": "stream",
     "text": [
      "3\n",
      "7\n",
      "3\n",
      "10\n"
     ]
    }
   ],
   "source": [
    "cal1 = Calculator()\n",
    "cal2 = Calculator()\n",
    "\n",
    "print(cal1.add(3))\n",
    "print(cal1.add(4))\n",
    "print(cal2.add(3))\n",
    "print(cal2.add(7))"
   ]
  },
  {
   "cell_type": "markdown",
   "id": "3967bb04-6676-4867-aea8-897ea4e52402",
   "metadata": {},
   "source": [
    "Calculator 클래스로 만든 별개의 계산기 cal1, cal2(파이썬에서는 이것을 ‘객체’라고 부른다)가 각각의 역할을 수행한다. 그리고 계산기의 결괏값 역시 다른 계산기의 결괏값과 상관없이 독립적인 값을 유지한다. 이렇게 클래스를 사용하면 계산기 대수가 늘어나도 객체를 생성하면 되므로 함수만 사용할 때보다 간단하게 프로그램을 작성할 수 있다. 빼기 기능을 더하고 싶다면 Calculator 클래스에 다음과 같이 빼기 기능을 가진 함수를 추가하면 된다."
   ]
  },
  {
   "cell_type": "code",
   "execution_count": 12,
   "id": "6698c46d-498e-400c-a82c-83c536346051",
   "metadata": {},
   "outputs": [],
   "source": [
    "class Calculator:\n",
    "    def __init__(self):\n",
    "        self.result = 0\n",
    "\n",
    "    def add(self, num):\n",
    "        self.result += num\n",
    "        return self.result\n",
    "\n",
    "    # 빼기 기능 추가\n",
    "    def sub(self, num): \n",
    "        self.result -= num\n",
    "        return self.result"
   ]
  },
  {
   "cell_type": "markdown",
   "id": "031a8a56-e49f-48d8-9dd5-c8b190ded354",
   "metadata": {},
   "source": [
    "클래스의 이점은 이것만이 아니다. 하지만 이 예시 하나만으로도 ‘도대체 왜 클래스가 필요한 것일까?’라는 근본적인 물음에 답이 되었을 것이다.\n",
    "\n",
    "# 클래스와 객체\n",
    "클래스를 가장 잘 설명해 주는 다음 그림을 살펴보자. 과자를 만드는 과자 틀과 이를 사용해 만든 과자이다.\n",
    "\n",
    "<img src=\"https://wikidocs.net/images/page/28/05_1_cookie3.png\">\n",
    "\n",
    "- 과자 틀 = 클래스\n",
    "- 과자 틀로 찍어 낸 과자 = 객체\n",
    "\n",
    "여기에서 설명할 클래스는 과자 틀과 비슷하다. 클래스(class)란 똑같은 무언가를 계속 만들어 낼 수 있는 설계 도면(과자 틀), 객체(object)란 클래스로 만든 피조물(과자 틀로 찍어 낸 과자)을 뜻한다.\n",
    "\n",
    "클래스로 만든 객체에는 중요한 특징이 있다. 바로 객체마다 고유한 성격을 가진다는 것이다. 과자 틀로 만든 과자에 구멍을 뚫거나 조금 베어 먹더라도 다른 과자에는 아무런 영향이 없는 것과 마찬가지로 동일한 클래스로 만든 객체들은 서로 전혀 영향을 주지 않는다.\n",
    "\n",
    "다음은 파이썬 클래스의 가장 간단한 예이다.\n",
    "\n"
   ]
  },
  {
   "cell_type": "code",
   "execution_count": 67,
   "id": "c2ca7971-839f-4b75-85b7-8f23426e550e",
   "metadata": {},
   "outputs": [],
   "source": [
    "class Cookie:\n",
    "    pass"
   ]
  },
  {
   "cell_type": "markdown",
   "id": "84923c5f-7f0f-421f-92c4-8c3e8d3f8630",
   "metadata": {},
   "source": [
    "위에서 작성한 Cookie 클래스는 아무런 기능도 가지고 있지 않은 껍질뿐인 클래스이다. 하지만 이렇게 껍질뿐인 클래스도 객체를 생성하는 기능이 있다. ‘과자 틀’로 ‘과자’를 만드는 것처럼 말이다.\n",
    "\n",
    "객체는 클래스로 만들고 1개의 클래스는 무수히 많은 객체를 만들어 낼 수 있다. 위에서 만든 Cookie 클래스의 객체를 만드는 방법은 다음과 같다."
   ]
  },
  {
   "cell_type": "code",
   "execution_count": 68,
   "id": "80232ec3-c212-496a-9c7a-f9bc6a77707f",
   "metadata": {},
   "outputs": [],
   "source": [
    "a = Cookie()\n",
    "b = Cookie()"
   ]
  },
  {
   "cell_type": "code",
   "execution_count": 71,
   "id": "8167bfef-483e-49fe-9802-2a1224080703",
   "metadata": {},
   "outputs": [
    {
     "data": {
      "text/plain": [
       "136588759174736"
      ]
     },
     "execution_count": 71,
     "metadata": {},
     "output_type": "execute_result"
    }
   ],
   "source": [
    "id(b)"
   ]
  },
  {
   "cell_type": "markdown",
   "id": "ead5d7e2-d215-409f-be62-2d29db925fcd",
   "metadata": {},
   "source": [
    "Cookie()의 결괏값을 리턴받은 a와 b가 바로 객체이다. 마치 함수를 사용해서 그 결괏값을 리턴받는 모습과 비슷하다.\n",
    "\n",
    "**객체와 인스턴스의 차이**\n",
    "\n",
    "클래스로 만든 객체를 ‘인스턴스’라고도 한다. 그렇다면 객체와 인스턴스의 차이는 무엇일까? 이렇게 생각해 보자. a = Cookie()로 만든 a는 객체이다. 그리고 a 객체는 Cookie의 인스턴스이다. 즉, 인스턴스라는 말은 특정 객체(a)가 어떤 클래스(Cookie)의 객체인지를 관계 위주로 설명할 때 사용한다. ‘a는 인스턴스’보다 ‘a는 객체’라는 표현이 어울리며 ‘a는 Cookie의 객체’보다 ‘a는 Cookie의 인스턴스’라는 표현이 훨씬 잘 어울린다.\n",
    "\n",
    "간단히 말해, 모든 인스턴스는 객체입니다. 그러나 우리가 이 객체를 \"인스턴스\"라고 부르는 이유는 그 객체가 특정 클래스의 예제라는 점을 명확히 하기 위해서입니다.\n",
    "\n",
    "# 사칙 연산 클래스 만들기\n",
    "‘백견(百見)이 불여일타(一打)’라고 했다. 클래스를 직접 만들며 배워 보자. 여기에서는 사칙 연산을 하는 클래스를 만들어 볼 것이다. 사칙 연산은 더하기, 빼기, 곱하기, 나누기를 말한다.\n",
    "\n",
    "#  클래스를 어떻게 만들지 먼저 구상하기\n",
    "클래스는 무작정 만드는 것보다 클래스로 만든 객체를 중심으로 어떤 식으로 동작하게 할지 미리 구상한 후 생각한 것을 하나씩 만들면서 완성해 나가는 것이 좋다.\n",
    "\n",
    "<img src=\"https://wikidocs.net/images/page/28/05_1_class1.png\">\n",
    "\n",
    "사칙 연산 가능을 가진 FourCal 클래스가 다음처럼 동작한다고 가정해 보자.\n",
    "\n",
    "먼저 a = FourCal()를 입력해서 a라는 객체를 만든다.\n",
    "\n",
    "```python\n",
    ">>> a = FourCal()\n",
    "```\n",
    "\n",
    "그런 다음 a.setdata(4, 2)처럼 입력해서 숫자 4와 2를 a에 지정해 준다.\n",
    "\n",
    "```python\n",
    ">>> a.setdata(4, 2)\n",
    "```\n",
    "\n",
    "a.add()를 수행하면 두 수를 합한 결과(4 + 2)를 리턴한다.\n",
    "\n",
    "\n",
    "```python\n",
    ">>> a.add()\n",
    "6\n",
    "```\n",
    "\n",
    "a.mul()을 수행하면 두 수를 곱한 결과(4 * 2)를 리턴한다.\n",
    "\n",
    "\n",
    "```python\n",
    ">>> a.mul()\n",
    "8\n",
    "```\n",
    "\n",
    "a.sub()를 수행하면 두 수를 뺀 결과(4 - 2)를 리턴한다.\n",
    "\n",
    "```python\n",
    ">>> a.sub()\n",
    "2\n",
    "```\n",
    "\n",
    "a.div()를 수행하면 두 수를 나눈 결과(4 / 2)를 리턴한다.\n",
    "\n",
    "```python\n",
    ">>> a.div()\n",
    "2\n",
    "```\n",
    "\n",
    "이렇게 동작하는 FourCal 클래스를 만드는 것이 바로 우리의 목표이다.\n",
    "\n",
    "# 클래스 구조 만들기\n",
    "그러면 지금부터 앞에서 구상한 것처럼 동작하는 클래스를 만들어 보자. 제일 먼저 할 일은 a = FourCal()처럼 객체를 만들 수 있게 하는 것이다. 일단은 아무런 기능이 없어도 되기 때문에 매우 간단하게 만들 수 있다. 다음을 따라 해 보자."
   ]
  },
  {
   "cell_type": "code",
   "execution_count": 75,
   "id": "6779adb8-7a07-4cf9-8f67-c28e426f797a",
   "metadata": {},
   "outputs": [],
   "source": [
    "class FourCal:\n",
    "    pass"
   ]
  },
  {
   "cell_type": "markdown",
   "id": "e25e5a29-075e-454e-96cc-0f4d5f97a3d0",
   "metadata": {},
   "source": [
    "먼저 대화형 인터프리터에서 pass라는 문장만을 포함한 FourCal 클래스를 만든다. 현재 상태에서 FourCal 클래스는 아무 변수나 함수도 포함하지 않지만, 우리가 원하는 객체 a를 만들 수 있는 기능은 가지고 있다. 한번 확인해 보자.\n",
    "\n",
    "> pass는 아무것도 수행하지 않는 문법으로, 임시로 코드를 작성할 때 주로 사용한다."
   ]
  },
  {
   "cell_type": "code",
   "execution_count": 77,
   "id": "548a087c-5dc0-4d96-8293-32e3db19a198",
   "metadata": {},
   "outputs": [
    {
     "data": {
      "text/plain": [
       "__main__.FourCal"
      ]
     },
     "execution_count": 77,
     "metadata": {},
     "output_type": "execute_result"
    }
   ],
   "source": [
    "a = FourCal()\n",
    "type(a)"
   ]
  },
  {
   "cell_type": "markdown",
   "id": "c874d19a-cb59-4ccb-9427-d1980c7eeca4",
   "metadata": {},
   "source": [
    "위와 같이 a = FourCal()로 a 객체를 먼저 만든 후 type(a)로 a 객체가 어떤 타입인지 알아보았다. 역시 객체 a가 FourCal 클래스의 인스턴스라는 것을 알 수 있다.\n",
    "\n",
    ">type은 파이썬이 자체로 가지고 있는 내장 함수로, 객체의 타입을 출력한다.\n",
    "\n",
    "# 객체에 연산할 숫자 지정하기\n",
    "하지만 생성된 객체 a는 아직 아무런 기능도 하지 못한다. 이제 더하기, 빼기, 곱하기, 나누기 등의 기능을 하는 객체를 만들어야 한다. 그런데 이러한 기능을 갖춘 객체를 만들려면 먼저 사칙 연산을 할 때 사용할 2개의 숫자를 a 객체에게 알려 주어야 한다. 다음과 같이 연산을 수행할 대상(4, 2)을 객체에 지정할 수 있게 만들어 보자.\n",
    "\n",
    "```python\n",
    "a.setdata(4, 2)\n",
    "```\n",
    "\n",
    "위 문장이 동작하려면 다음과 같이 FourCal 클래스를 다시 정의해야 한다."
   ]
  },
  {
   "cell_type": "code",
   "execution_count": 78,
   "id": "1b96a8e0-7610-4aed-b7a7-0ab51dc1720f",
   "metadata": {},
   "outputs": [],
   "source": [
    "class FourCal:\n",
    "    def setdata(self, first, second):\n",
    "        self.first = first\n",
    "        self.second = second"
   ]
  },
  {
   "cell_type": "markdown",
   "id": "dbe6c799-2711-4a22-b708-f2ccdef60b55",
   "metadata": {},
   "source": [
    "앞에서 만든 FourCal 클래스에서 pass 문장을 삭제하고 그 대신 setdata 함수를 정의했다. 클래스 안에 구현된 함수는 다른 말로 메서드(method)라고 부른다. 앞으로 클래스 내부의 함수는 항상 메서드라고 표현할 테니 메서드라는 용어를 기억해 두자.\n",
    "\n",
    "일반적인 함수를 만들 때는 다음과 같이 소스 코드를 작성한다.\n",
    "\n",
    "```python\n",
    "def 함수_이름(매개변수):\n",
    "    수행할_문장\n",
    "    ...\n",
    "```\n",
    "\n",
    "메서드도 클래스에 포함되어 있다는 점만 제외하면 일반 함수와 다를 것이 없다.\n",
    "\n",
    "setdata 메서드를 다시 보면 다음과 같다.\n",
    "\n",
    "```python\n",
    "def setdata(self, first, second):   # 메서드의 매개변수\n",
    "    self.first = first              # 메서드의 수행문\n",
    "    self.second = second            # 메서드의 수행문\n",
    "```\n",
    "\n",
    "## setdata 메서드의 매개변수\n",
    "\n",
    "setdata 메서드를 좀 더 자세히 살펴보자. setdata 메서드는 매개변수로 self, first, second 3개의 입력값을 받는다. 그런데 일반 함수와 달리, 메서드의 첫 번째 매개변수 self는 특별한 의미를 가진다.\n",
    "\n",
    "다음과 같이 a 객체를 만들고 a 객체를 통해 setdata 메서드를 호출해 보자."
   ]
  },
  {
   "cell_type": "code",
   "execution_count": 79,
   "id": "e3bb1e95-55ab-4d39-985b-6bbb9ba40585",
   "metadata": {},
   "outputs": [],
   "source": [
    "a = FourCal()\n",
    "a.setdata(4, 2)"
   ]
  },
  {
   "cell_type": "markdown",
   "id": "570b2f66-37cd-4611-994d-3dc6d9c416b7",
   "metadata": {},
   "source": [
    "> 객체를 이용해 클래스의 메서드를 호출하려면 a.setdata(4, 2)와 같이 도트(.) 연산자를 사용하면 된다.\n",
    "\n",
    "그런데 뭔가 좀 이상하지 않은가? setdata 메서드에는 self, first, second 총 3개의 매개변수가 필요한데 실제로는 a.setdata(4, 2)처럼 2개의 값만 전달했다. 왜 그럴까? a.setdata(4, 2)처럼 호출하면 setdata 메서드의 첫 번째 매개변수 self에는 setdata 메서드를 호출한 객체 a가 자동으로 전달되기 때문이다. 다음 그림을 보면 객체를 호출할 때 입력한 값이 메서드에 어떻게 전달되는지 쉽게 이해할 수 있을 것이다.\n",
    "\n",
    "<img src=\"https://wikidocs.net/images/page/28/05_1_class2.png\">\n",
    "\n",
    "파이썬 메서드의 첫 번째 매개변수 이름은 관례적으로 self를 사용한다. 객체를 호출할 때 호출한 객체 자신이 전달되기 때문에 self라는 이름을 사용한 것이다. 물론 self말고 다른 이름을 사용해도 상관없다.\n",
    "\n",
    ">메서드의 첫 번째 매개변수 self를 명시적으로 구현하는 것은 파이썬만의 독특한 특징이다. 예를 들어 자바와 같은 언어는 첫 번째 매개변수 self가 필요없다.\n",
    "\n",
    "**메서드를 호출하는 또 다른 방법**\n",
    "\n",
    "잘 사용하지는 않지만, 다음과 같이 클래스를 이용해 메서드를 호출할 수도 있다.\n",
    "\n",
    "```python\n",
    ">>> a = FourCal()\n",
    ">>> FourCal.setdata(a, 4, 2)\n",
    "```\n",
    "위와 같이 ‘클래스명.메서드’ 형태로 호출할 때는 객체 a를 첫 번째 매개변수 self에 꼭 전달해야 한다. 반면 다음처럼 ‘객체.메서드’ 형태로 호출할 때는 self를 반드시 생략해서 호출해야 한다.\n",
    "\n",
    "```python\n",
    ">>> a = FourCal()\n",
    ">>> a.setdata(4, 2)\n",
    "```\n",
    "\n",
    "## setdata 메서드의 수행문\n",
    "\n",
    "이제 setdata 메서드의 수행문에 대해 알아보자.\n",
    "\n",
    "```python\n",
    "def setdata(self, first, second):   # 메서드의 매개변수\n",
    "    self.first = first              # 메서드의 수행문\n",
    "    self.second = second            # 메서드의 수행문\n",
    "```\n",
    "    \n",
    "a.setdata(4, 2)처럼 호출하면 setdata 메서드의 매개변수 first, second에는 각각 값 4와 2가 전달되어 setdata 메서드의 수행문이 다음과 같이 해석된다.\n",
    "\n",
    "```python\n",
    "self.first = 4\n",
    "self.second = 2\n",
    "```\n",
    "\n",
    "self는 전달된 객체 a이므로 다시 다음과 같이 해석된다.\n",
    "\n",
    "```python\n",
    "a.first = 4\n",
    "a.second = 2\n",
    "```\n",
    "\n",
    "a.first = 4라는 문장이 수행되면 a 객체에 객체변수 first가 생성되고 4라는 값이 저장된다. 이와 마찬가지로 a.second = 2라는 문장이 수행되면 a 객체에 객체변수 second가 생성되고 2라는 값이 저장된다.\n",
    "\n",
    "객체에 생성되는 객체만의 변수를 ‘객체변수’ 또는 ‘속성’이라고 부른다.\n",
    "\n",
    "다음과 같이 확인해 보자."
   ]
  },
  {
   "cell_type": "code",
   "execution_count": 87,
   "id": "7acc0ab0-45cd-423b-a267-9531efc41ffc",
   "metadata": {},
   "outputs": [
    {
     "data": {
      "text/plain": [
       "(4, 2)"
      ]
     },
     "execution_count": 87,
     "metadata": {},
     "output_type": "execute_result"
    }
   ],
   "source": [
    "a = FourCal()\n",
    "a.setdata(4, 2)\n",
    "a.first, a.second"
   ]
  },
  {
   "cell_type": "markdown",
   "id": "a6b4a63b-e5f9-4f5d-a8e7-3bafd86a0602",
   "metadata": {},
   "source": [
    "a 객체에 객체변수 first와 second가 생성된 것을 확인할 수 있다.\n",
    "\n",
    "이번에는 다음과 같이 a, b 객체를 만들어 보자."
   ]
  },
  {
   "cell_type": "code",
   "execution_count": 88,
   "id": "687c9cc1-eb66-4829-ad22-801bf11150a6",
   "metadata": {},
   "outputs": [],
   "source": [
    "a = FourCal()\n",
    "b = FourCal()"
   ]
  },
  {
   "cell_type": "markdown",
   "id": "4f9cd3f4-e045-45cd-8494-d664604ad3d5",
   "metadata": {},
   "source": [
    "그리고 a 객체의 객체변수 first를 다음과 같이 생성한다."
   ]
  },
  {
   "cell_type": "code",
   "execution_count": 89,
   "id": "9510ba56-12aa-4daa-92c4-c0224275731a",
   "metadata": {},
   "outputs": [
    {
     "data": {
      "text/plain": [
       "4"
      ]
     },
     "execution_count": 89,
     "metadata": {},
     "output_type": "execute_result"
    }
   ],
   "source": [
    "a.setdata(4, 2)\n",
    "a.first"
   ]
  },
  {
   "cell_type": "markdown",
   "id": "85ca1961-cdd1-4dca-bddd-517772e04083",
   "metadata": {},
   "source": [
    "이번에는 b 객체의 객체변수 first를 다음과 같이 생성한다."
   ]
  },
  {
   "cell_type": "code",
   "execution_count": 90,
   "id": "9a57d26f-9506-41f7-ad79-3e9a909cd103",
   "metadata": {},
   "outputs": [
    {
     "data": {
      "text/plain": [
       "3"
      ]
     },
     "execution_count": 90,
     "metadata": {},
     "output_type": "execute_result"
    }
   ],
   "source": [
    "b.setdata(3, 7)\n",
    "b.first"
   ]
  },
  {
   "cell_type": "markdown",
   "id": "652f3137-ec73-4aeb-b309-483c2c9655b9",
   "metadata": {},
   "source": [
    "자, 이제 여러분에게 매우 중요한 질문을 1가지 하겠다. 위와 같이 진행하면 b 객체의 객체변수 first에는 값 3이 저장된다는 것을 확인할 수 있었다. 그렇다면 a 객체의 first에 저장된 값도 3으로 변할까, 아니면 원래대로 값 4를 유지할까?\n",
    "\n",
    "다음과 같이 그 결과를 확인해 보자."
   ]
  },
  {
   "cell_type": "code",
   "execution_count": 92,
   "id": "9f429746-2d2d-4325-bf2b-b85c8cc0870e",
   "metadata": {},
   "outputs": [
    {
     "data": {
      "text/plain": [
       "4"
      ]
     },
     "execution_count": 92,
     "metadata": {},
     "output_type": "execute_result"
    }
   ],
   "source": [
    "a.first"
   ]
  },
  {
   "cell_type": "markdown",
   "id": "601375f5-2787-49c2-88f3-94493c329a7e",
   "metadata": {},
   "source": [
    "a 객체의 first 값은 b 객체의 first 값에 영향받지 않고 원래 값을 유지하고 있다는 것을 확인할 수 있다. 이 예제를 통해 여러분에게 강조하고 싶은 점이 바로 이것이다. 클래스로 만든 객체의 객체변수는 다른 객체의 객체변수에 상관없이 독립적인 값을 유지한다. 클래스에서는 이 부분을 이해하는 것이 가장 중요하다.\n",
    "\n",
    "<img src=\"https://wikidocs.net/images/page/28/05_1_cookie2.png\">\n",
    "\n",
    "다음은 현재까지 완성된 FourCal 클래스이다.\n",
    "\n"
   ]
  },
  {
   "cell_type": "code",
   "execution_count": 93,
   "id": "235dd0bd-3872-454f-9c0a-0ba408a42fe5",
   "metadata": {},
   "outputs": [],
   "source": [
    "class FourCal:\n",
    "    def setdata(self, first, second):\n",
    "        self.first = first\n",
    "        self.second = second"
   ]
  },
  {
   "cell_type": "markdown",
   "id": "81eff718-f984-482d-8098-d01815c81567",
   "metadata": {},
   "source": [
    "지금까지 살펴본 내용이 바로 이 4줄의 소스 코드를 설명하기 위한 것이었다. 앞에서 설명한 것들이 이해되지 않는다면 다시 한번 읽어 보기 바란다. 이 부분을 이해하지 못하면 다음으로 넘어갈 수 없기 때문이다."
   ]
  },
  {
   "cell_type": "markdown",
   "id": "b16c8a50-d548-4d89-a1de-3dab8ddb99e1",
   "metadata": {},
   "source": [
    "# 더하기 기능 만들기\n",
    "\n",
    "자! 2개의 숫자 값을 설정해 주었으므로 2개의 숫자를 더하는 기능을 방금 만든 클래스에 추가해 보자. 우리는 다음과 같이 더하기 기능을 갖춘 클래스를 만들어야 한다.\n",
    "\n",
    "```python\n",
    ">>> a = FourCal()\n",
    ">>> a.setdata(4, 2)\n",
    ">>> a.add()\n",
    "6\n",
    "```"
   ]
  },
  {
   "cell_type": "code",
   "execution_count": 96,
   "id": "ce880561-faa8-4c11-97bf-3f1a87814f6a",
   "metadata": {},
   "outputs": [],
   "source": [
    "class FourCal:\n",
    "    def setdata(self, first, second):\n",
    "        self.first = first\n",
    "        self.second = second\n",
    "    def add(self):\n",
    "        result = self.first + self.second\n",
    "        return result"
   ]
  },
  {
   "cell_type": "markdown",
   "id": "2f227e3b-1b5f-4d95-9f9b-381f7f876656",
   "metadata": {},
   "source": [
    "> 05장에서는 대화형 인터프리터에서 FourCal 클래스를 계속 수정할 것이다. 그러나 클래스를 수정하는 데 있어 코드가 많아 조금 불편할 수 있다. 이 불편함은 IDLE 에디터를 사용해 FourCal 클래스를 작성하고 IDLE 에디터에서 작성한 코드를 복사한 후 대화형 인터프리터에 붙여넣기하여 해결할 수 있다."
   ]
  },
  {
   "cell_type": "markdown",
   "id": "1d408e04-ea13-450a-922a-8be63be70da8",
   "metadata": {},
   "source": [
    "add 메서드를 새롭게 추가했다. 이제 클래스를 사용해 보자."
   ]
  },
  {
   "cell_type": "code",
   "execution_count": 97,
   "id": "0041303f-ce35-4e12-a704-11ab53f3417d",
   "metadata": {},
   "outputs": [],
   "source": [
    "a = FourCal()\n",
    "a.setdata(4, 2)"
   ]
  },
  {
   "cell_type": "markdown",
   "id": "2f70783f-3cc7-4496-ae59-703fbec8f576",
   "metadata": {},
   "source": [
    "위와 같이 호출하면 앞에서 살펴보았듯이 a 객체의 first, second 객체변수에는 각각 값 4와 2가 저장될 것이다.\n",
    "\n",
    "이제 add 메서드를 호출해 보자."
   ]
  },
  {
   "cell_type": "code",
   "execution_count": 98,
   "id": "4ebb0554-f7a1-4fae-bf44-cc3a2ad5cb80",
   "metadata": {},
   "outputs": [
    {
     "data": {
      "text/plain": [
       "6"
      ]
     },
     "execution_count": 98,
     "metadata": {},
     "output_type": "execute_result"
    }
   ],
   "source": [
    "a.add()"
   ]
  },
  {
   "cell_type": "markdown",
   "id": "0cd53523-ceb4-443b-a8e7-26ce7256f413",
   "metadata": {},
   "source": [
    "a.add()라고 호출하면 add 메서드가 호출되어 값 6이 출력될 것이다. 어떤 과정을 거쳐 값 6이 출력되는지 add 메서드를 따로 떼어 내 자세히 살펴보자.\n",
    "\n",
    "```python\n",
    "def add(self):\n",
    "    result = self.first + self.second\n",
    "    return result\n",
    "```\n",
    "\n",
    "add 메서드의 매개변수는 self, 리턴값은 result이다. 리턴값인 result를 계산하는 부분은 다음과 같다.\n",
    "\n",
    "```python\n",
    "result = self.first + self.second\n",
    "```\n",
    "a.add()와 같이 a 객체에 의해 add 메서드가 수행되면 add 메서드의 self에는 객체 a가 자동으로 입력되므로 이 내용은 다음과 같이 해석된다.\n",
    "\n",
    "```python\n",
    "result = a.first + a.second\n",
    "```\n",
    "\n",
    "a.first와 a.second는 add 메서드가 호출되기 전에 a.setdata(4, 2) 문장에서 a.first = 4, a.second = 2로 설정된다. 따라서 위 문장은 다시 다음과 같이 해석된다.\n",
    "\n",
    "```python\n",
    "result = 4 + 2\n",
    "```\n",
    "\n",
    "따라서 다음과 같이 a.add()를 호출하면 6을 리턴한다."
   ]
  },
  {
   "cell_type": "code",
   "execution_count": 31,
   "id": "74fbfd74-4900-489d-bae5-9460a15c3b7b",
   "metadata": {},
   "outputs": [
    {
     "data": {
      "text/plain": [
       "6"
      ]
     },
     "execution_count": 31,
     "metadata": {},
     "output_type": "execute_result"
    }
   ],
   "source": [
    "a.add()"
   ]
  },
  {
   "cell_type": "markdown",
   "id": "3de19957-0e3a-4bf4-82c9-163900e3f078",
   "metadata": {},
   "source": [
    "여기까지 모두 이해한 독자라면 클래스에 대해 80% 이상을 안 것이다. 파이썬의 클래스는 그다지 어렵지 않다."
   ]
  },
  {
   "cell_type": "markdown",
   "id": "33581dd6-bad2-42d7-83d1-84ff9eff3cbd",
   "metadata": {},
   "source": [
    "# 곱하기, 빼기, 나누기 기능 만들기\n",
    "\n",
    "이번에는 곱하기, 빼기, 나누기 등을 할 수 있도록 프로그램을 개선해 보자."
   ]
  },
  {
   "cell_type": "code",
   "execution_count": 99,
   "id": "0ee6496b-69b9-42b8-bb0f-588c4e173af1",
   "metadata": {},
   "outputs": [],
   "source": [
    "class FourCal:\n",
    "    def setdata(self, first, second):\n",
    "        self.first = first\n",
    "        self.second = second\n",
    "    def add(self):\n",
    "        result = self.first + self.second\n",
    "        return result\n",
    "    def mul(self):\n",
    "        result = self.first * self.second\n",
    "        return result\n",
    "    def sub(self):\n",
    "        result = self.first - self.second\n",
    "        return result\n",
    "    def div(self):\n",
    "        result = self.first / self.second\n",
    "        return result"
   ]
  },
  {
   "cell_type": "markdown",
   "id": "a479066b-2fe4-4a9a-91e3-d7ba6c269171",
   "metadata": {},
   "source": [
    "mul, sub, div 모두 add 메서드에서 배운 것과 동일한 방법이므로 따로 설명하지는 않겠다.\n",
    "\n",
    "지금까지 우리가 목표로 한 사칙 연산 기능을 가진 클래스를 만들어 보았다."
   ]
  },
  {
   "cell_type": "markdown",
   "id": "d33a92ad-b060-4f25-b56c-eb08abecc5f5",
   "metadata": {},
   "source": [
    "# 생성자\n",
    "이번에는 우리가 만든 FourCal 클래스를 다음과 같이 사용해 보자."
   ]
  },
  {
   "cell_type": "code",
   "execution_count": 105,
   "id": "c581452b-93a8-466b-87a2-cf4b82f21123",
   "metadata": {},
   "outputs": [
    {
     "ename": "AttributeError",
     "evalue": "'FourCal' object has no attribute 'first'",
     "output_type": "error",
     "traceback": [
      "\u001b[0;31m---------------------------------------------------------------------------\u001b[0m",
      "\u001b[0;31mAttributeError\u001b[0m                            Traceback (most recent call last)",
      "Cell \u001b[0;32mIn[105], line 2\u001b[0m\n\u001b[1;32m      1\u001b[0m a \u001b[38;5;241m=\u001b[39m FourCal()\n\u001b[0;32m----> 2\u001b[0m \u001b[43ma\u001b[49m\u001b[38;5;241;43m.\u001b[39;49m\u001b[43madd\u001b[49m\u001b[43m(\u001b[49m\u001b[43m)\u001b[49m\n",
      "Cell \u001b[0;32mIn[99], line 6\u001b[0m, in \u001b[0;36mFourCal.add\u001b[0;34m(self)\u001b[0m\n\u001b[1;32m      5\u001b[0m \u001b[38;5;28;01mdef\u001b[39;00m \u001b[38;5;21madd\u001b[39m(\u001b[38;5;28mself\u001b[39m):\n\u001b[0;32m----> 6\u001b[0m     result \u001b[38;5;241m=\u001b[39m \u001b[38;5;28;43mself\u001b[39;49m\u001b[38;5;241;43m.\u001b[39;49m\u001b[43mfirst\u001b[49m \u001b[38;5;241m+\u001b[39m \u001b[38;5;28mself\u001b[39m\u001b[38;5;241m.\u001b[39msecond\n\u001b[1;32m      7\u001b[0m     \u001b[38;5;28;01mreturn\u001b[39;00m result\n",
      "\u001b[0;31mAttributeError\u001b[0m: 'FourCal' object has no attribute 'first'"
     ]
    }
   ],
   "source": [
    "a = FourCal()\n",
    "a.add()"
   ]
  },
  {
   "cell_type": "markdown",
   "id": "2dc043d5-3c85-4387-9433-44032cf5ac3f",
   "metadata": {},
   "source": [
    "FourCal 클래스의 인스턴스 a에 setdata 메서드를 수행하지 않고 add 메서드를 먼저 수행하면 ‘AttributeError: 'FourCal' object has no attribute 'first'’오류가 발생한다. setdata 메서드를 수행해야 객체 a의 객체변수 first와 second가 생성되기 때문이다. 이렇게 객체에 first, second와 같은 초깃값을 설정해야 할 필요가 있을 때는 setdata와 같은 메서드를 호출하여 초깃값을 설정하기보다 생성자를 구현하는 것이 안전한 방법이다.\n",
    "\n",
    "생성자(constructor)란 객체가 생성될 때 자동으로 호출되는 메서드를 의미한다. 파이썬 메서드명으로 __init__를 사용하면 이 메서드는 생성자가 된다.\n",
    "\n",
    "다음과 같이 FourCal 클래스에 생성자를 추가해 보자.\n",
    "\n",
    ">__init__ 메서드의 init 앞뒤로 붙은 __는 밑줄(_) 2개를 붙여 쓴 것이다."
   ]
  },
  {
   "cell_type": "code",
   "execution_count": 124,
   "id": "505c8024-463a-41cf-8d80-3c0db218f4d6",
   "metadata": {},
   "outputs": [],
   "source": [
    "class FourCal:\n",
    "    def __init__(self, first, second):\n",
    "        self.first = first\n",
    "        self.second = second    \n",
    "    def setdata(self, first, second):\n",
    "        self.first = first\n",
    "        self.second = second\n",
    "    def add(self):\n",
    "        result = self.first + self.second\n",
    "        return result\n",
    "    def mul(self):\n",
    "        result = self.first * self.second\n",
    "        return result\n",
    "    def sub(self):\n",
    "        result = self.first - self.second\n",
    "        return result\n",
    "    def div(self):\n",
    "        result = self.first / self.second\n",
    "        return result"
   ]
  },
  {
   "cell_type": "markdown",
   "id": "0bdc8e55-083e-4de4-adf8-986703efed1d",
   "metadata": {},
   "source": [
    "새롭게 추가된 생성자 __init__ 메서드만 따로 떼어 내서 살펴보자.\n",
    "\n",
    "```python\n",
    "def __init__(self, first, second):\n",
    "    self.first = first\n",
    "    self.second = second\n",
    "```\n",
    "\n",
    "__init__ 메서드는 setdata 메서드와 이름만 다르고 모든 게 동일하다. 단, 메서드 이름을 __init__로 했기 때문에 생성자로 인식되어 객체가 생성되는 시점에 자동으로 호출된다는 차이가 있다.\n",
    "\n",
    "이제 다음처럼 a 객체를 생성해 보자."
   ]
  },
  {
   "cell_type": "code",
   "execution_count": 111,
   "id": "d5acece1-b659-41ba-8efd-29175b01cd13",
   "metadata": {},
   "outputs": [
    {
     "ename": "TypeError",
     "evalue": "FourCal.__init__() missing 2 required positional arguments: 'first' and 'second'",
     "output_type": "error",
     "traceback": [
      "\u001b[0;31m---------------------------------------------------------------------------\u001b[0m",
      "\u001b[0;31mTypeError\u001b[0m                                 Traceback (most recent call last)",
      "Cell \u001b[0;32mIn[111], line 1\u001b[0m\n\u001b[0;32m----> 1\u001b[0m a \u001b[38;5;241m=\u001b[39m \u001b[43mFourCal\u001b[49m\u001b[43m(\u001b[49m\u001b[43m)\u001b[49m\n",
      "\u001b[0;31mTypeError\u001b[0m: FourCal.__init__() missing 2 required positional arguments: 'first' and 'second'"
     ]
    }
   ],
   "source": [
    "a = FourCal()"
   ]
  },
  {
   "cell_type": "markdown",
   "id": "6f415ceb-1e95-495e-98df-76bfe2d310b8",
   "metadata": {},
   "source": [
    "a = FourCal()을 수행할 때 생성자 __init__가 호출되어 위와 같은 오류가 발생했다. 오류가 발생한 이유는 생성자의 매개변수 first와 second에 해당하는 값이 전달되지 않았기 때문이다.\n",
    "\n",
    "이 오류를 해결하려면 다음처럼 first와 second에 해당하는 값을 전달하여 객체를 생성해야 한다."
   ]
  },
  {
   "cell_type": "code",
   "execution_count": 112,
   "id": "4148ce3f-0e93-4890-80dd-e5af97a87795",
   "metadata": {},
   "outputs": [],
   "source": [
    "a = FourCal(4, 2)"
   ]
  },
  {
   "cell_type": "code",
   "execution_count": 113,
   "id": "12aa638e-f79a-4c17-b343-77265759e846",
   "metadata": {},
   "outputs": [
    {
     "data": {
      "text/plain": [
       "6"
      ]
     },
     "execution_count": 113,
     "metadata": {},
     "output_type": "execute_result"
    }
   ],
   "source": [
    "a.add()"
   ]
  },
  {
   "cell_type": "markdown",
   "id": "1761d872-8dff-4d47-b5ba-db69961cdf1c",
   "metadata": {},
   "source": [
    "위와 같이 수행하면 __init__ 메서드의 매개변수에는 각각 다음과 같은 값이 전달된다.\n",
    "\n",
    "| 매개변수 | 값          |\n",
    "|----------|-------------|\n",
    "| self     | 생성되는 객체 |\n",
    "| first    | 4           |\n",
    "| second   | 2           |\n",
    "\n",
    ">__init__ 메서드도 다른 메서드와 마찬가지로 첫 번째 매개변수 self에 생성되는 객체가 자동으로 전달된다는 점을 기억하자.\n",
    "\n",
    "따라서 __init__ 메서드가 호출되면 setdata 메서드를 호출했을 때와 마찬가지로 first와 second라는 객체변수가 생성될 것이다.\n",
    "\n",
    "다음과 같이 객체변수의 값을 확인해 보자."
   ]
  },
  {
   "cell_type": "code",
   "execution_count": 114,
   "id": "80e2e16d-75a8-45d2-a82c-d2136058d9bf",
   "metadata": {},
   "outputs": [
    {
     "data": {
      "text/plain": [
       "4"
      ]
     },
     "execution_count": 114,
     "metadata": {},
     "output_type": "execute_result"
    }
   ],
   "source": [
    "a = FourCal(4, 2)\n",
    "a.first"
   ]
  },
  {
   "cell_type": "code",
   "execution_count": 115,
   "id": "02cdcb79-3ec0-43e3-954c-22ca8b0f69a4",
   "metadata": {},
   "outputs": [
    {
     "data": {
      "text/plain": [
       "2"
      ]
     },
     "execution_count": 115,
     "metadata": {},
     "output_type": "execute_result"
    }
   ],
   "source": [
    "a.second"
   ]
  },
  {
   "cell_type": "markdown",
   "id": "c75c2a27-7f22-4303-bab9-c9df6db37125",
   "metadata": {},
   "source": [
    "add나 div 등과 같은 메서드도 잘 동작하는지 확인해 보자."
   ]
  },
  {
   "cell_type": "code",
   "execution_count": 116,
   "id": "7cc78b8c-ead4-41a7-a746-f575f05c8216",
   "metadata": {},
   "outputs": [
    {
     "data": {
      "text/plain": [
       "6"
      ]
     },
     "execution_count": 116,
     "metadata": {},
     "output_type": "execute_result"
    }
   ],
   "source": [
    "a = FourCal(4, 2)\n",
    "a.add()"
   ]
  },
  {
   "cell_type": "code",
   "execution_count": 117,
   "id": "5f0ab7e3-55f5-4f56-bbce-6793baae9261",
   "metadata": {},
   "outputs": [
    {
     "data": {
      "text/plain": [
       "2.0"
      ]
     },
     "execution_count": 117,
     "metadata": {},
     "output_type": "execute_result"
    }
   ],
   "source": [
    "a.div()"
   ]
  },
  {
   "cell_type": "markdown",
   "id": "d251bb3f-93cf-432c-880b-87c153b49eac",
   "metadata": {},
   "source": [
    "이상 없이 잘 동작하는 것을 확인할 수 있다.\n",
    "\n",
    "# 클래스의 상속\n",
    "\n",
    "상속(Inheritance)이란 ‘물려받다’라는 뜻으로, ‘재산을 상속받다’라고 할 때의 상속과 같은 의미이다. 클래스에도 이 개념을 적용할 수 있다. 어떤 클래스를 만들 때 다른 클래스의 기능을 물려받을 수 있게 만드는 것이다. 이번에는 상속 개념을 사용하여 우리가 만든 FourCal 클래스에 \n",
    " 값을 구할 수 있는 기능을 추가해 보자.\n",
    "\n",
    "앞에서 FourCal 클래스는 이미 만들어 놓았으므로 FourCal 클래스를 상속하는 MoreFourCal 클래스는 다음과 같이 간단하게 만들 수 있다."
   ]
  },
  {
   "cell_type": "code",
   "execution_count": 125,
   "id": "5023d0ae-c71a-4ce5-9de3-44f2509a6197",
   "metadata": {},
   "outputs": [],
   "source": [
    "class MoreFourCal(FourCal):\n",
    "    pass"
   ]
  },
  {
   "cell_type": "markdown",
   "id": "3cef537f-3200-4163-9139-3a0085494b32",
   "metadata": {},
   "source": [
    "클래스를 상속하기 위해서는 다음처럼 클래스 이름 뒤 괄호 안에 상속할 클래스 이름을 넣어주면 된다.\n",
    "\n",
    "```python\n",
    "class 클래스_이름(상속할_클래스_이름)\n",
    "```\n",
    "\n",
    "MoreFourCal 클래스는 FourCal 클래스를 상속했으므로 FourCal 클래스의 모든 기능을 사용할 수 있다.\n",
    "\n",
    "다음과 같이 확인해 보자."
   ]
  },
  {
   "cell_type": "code",
   "execution_count": 126,
   "id": "a8f2751e-7edd-4e6b-b43b-621c69462c14",
   "metadata": {},
   "outputs": [],
   "source": [
    "a = MoreFourCal(4, 2)"
   ]
  },
  {
   "cell_type": "code",
   "execution_count": 127,
   "id": "985754bf-9d63-4a6c-96a5-fc9239db935b",
   "metadata": {},
   "outputs": [
    {
     "data": {
      "text/plain": [
       "6"
      ]
     },
     "execution_count": 127,
     "metadata": {},
     "output_type": "execute_result"
    }
   ],
   "source": [
    "a.add()"
   ]
  },
  {
   "cell_type": "code",
   "execution_count": 128,
   "id": "c2149935-a90c-46b1-a7fe-4a6bf68e5c06",
   "metadata": {},
   "outputs": [
    {
     "data": {
      "text/plain": [
       "8"
      ]
     },
     "execution_count": 128,
     "metadata": {},
     "output_type": "execute_result"
    }
   ],
   "source": [
    "a.mul()"
   ]
  },
  {
   "cell_type": "code",
   "execution_count": 129,
   "id": "c1611a4b-2f40-4abb-9989-5448b5b5b21b",
   "metadata": {},
   "outputs": [
    {
     "data": {
      "text/plain": [
       "2"
      ]
     },
     "execution_count": 129,
     "metadata": {},
     "output_type": "execute_result"
    }
   ],
   "source": [
    "a.sub()"
   ]
  },
  {
   "cell_type": "code",
   "execution_count": 130,
   "id": "cb66192f-db1e-4267-bc4e-e0cbb1c7fa6c",
   "metadata": {},
   "outputs": [
    {
     "data": {
      "text/plain": [
       "2.0"
      ]
     },
     "execution_count": 130,
     "metadata": {},
     "output_type": "execute_result"
    }
   ],
   "source": [
    "a.div()"
   ]
  },
  {
   "cell_type": "markdown",
   "id": "b417130f-b80b-4ca1-83d1-1d4af815e887",
   "metadata": {},
   "source": [
    "상속받은 FourCal 클래스의 기능을 모두 사용할 수 있다는 것을 확인할 수 있다.\n",
    "\n",
    "**상속 기능은 왜 쓰는 걸까?**\n",
    "\n",
    "보통 상속은 기존 클래스를 변경하지 않고 기능을 추가하거나 기존 기능을 변경하려고 할 때 사용한다. ‘클래스에 기능을 추가하고 싶으면 기존 클래스를 수정하면 되는데 왜 굳이 상속을 받아서 처리해야 하지?’라는 의문이 들 수도 있다. 하지만 기존 클래스가 라이브러리 형태로 제공되거나 수정이 허용되지 않는 상황이라면 상속을 사용해야 한다.\n",
    "\n",
    "이제 원래 목적인 $a^b$을 계산하는 MoreFourCal 클래스를 만들어 보자."
   ]
  },
  {
   "cell_type": "code",
   "execution_count": 131,
   "id": "9ffdfa83-7582-4abc-8a2d-56a9603d3e17",
   "metadata": {},
   "outputs": [],
   "source": [
    "class MoreFourCal(FourCal):\n",
    "    def pow(self):\n",
    "        result = self.first ** self.second\n",
    "        return result"
   ]
  },
  {
   "cell_type": "markdown",
   "id": "fa6f2c9f-411d-41a8-9cd9-9868f2ffc189",
   "metadata": {},
   "source": [
    "pass 문장은 삭제하고 위와 같이 두 수의 거듭제곱을 구할 수 있는 pow 메서드를 추가했다. 그리고 다음과 같이 pow 메서드를 수행해 보자."
   ]
  },
  {
   "cell_type": "code",
   "execution_count": 132,
   "id": "8fbc23f3-ce2a-4023-90f2-5e9c0a86bad6",
   "metadata": {},
   "outputs": [
    {
     "data": {
      "text/plain": [
       "16"
      ]
     },
     "execution_count": 132,
     "metadata": {},
     "output_type": "execute_result"
    }
   ],
   "source": [
    "a = MoreFourCal(4, 2)\n",
    "a.pow()"
   ]
  },
  {
   "cell_type": "code",
   "execution_count": 133,
   "id": "27b84cae-1914-488d-8d38-299341654db1",
   "metadata": {},
   "outputs": [
    {
     "data": {
      "text/plain": [
       "6"
      ]
     },
     "execution_count": 133,
     "metadata": {},
     "output_type": "execute_result"
    }
   ],
   "source": [
    "a.add()"
   ]
  },
  {
   "cell_type": "markdown",
   "id": "0d60fe09-2014-4b86-aabf-5ea885e156df",
   "metadata": {},
   "source": [
    "MoreFourCal 클래스로 만든 a 객체에 값 4와 2를 지정한 후 pow 메서드를 호출하면 4의 2제곱($4^2$)인 16을 리턴하는 것을 확인할 수 있다. 상속받은 기능인 add 메서드도 잘 동작한다.\n",
    "\n",
    "상속은 MoreFourCal 클래스처럼 기존 클래스(FourCal)는 그대로 놔둔 채 클래스의 기능을 확장할 때 주로 사용한다.\n",
    "\n",
    "# 메서드 오버라이딩\n",
    "\n",
    "이번에는 FourCal 클래스를 다음과 같이 실행해 보자."
   ]
  },
  {
   "cell_type": "code",
   "execution_count": 134,
   "id": "6b606f1e-b278-41f5-8784-9aa9f369d096",
   "metadata": {},
   "outputs": [
    {
     "ename": "ZeroDivisionError",
     "evalue": "division by zero",
     "output_type": "error",
     "traceback": [
      "\u001b[0;31m---------------------------------------------------------------------------\u001b[0m",
      "\u001b[0;31mZeroDivisionError\u001b[0m                         Traceback (most recent call last)",
      "Cell \u001b[0;32mIn[134], line 2\u001b[0m\n\u001b[1;32m      1\u001b[0m a \u001b[38;5;241m=\u001b[39m FourCal(\u001b[38;5;241m4\u001b[39m, \u001b[38;5;241m0\u001b[39m)\n\u001b[0;32m----> 2\u001b[0m \u001b[43ma\u001b[49m\u001b[38;5;241;43m.\u001b[39;49m\u001b[43mdiv\u001b[49m\u001b[43m(\u001b[49m\u001b[43m)\u001b[49m\n",
      "Cell \u001b[0;32mIn[124], line 18\u001b[0m, in \u001b[0;36mFourCal.div\u001b[0;34m(self)\u001b[0m\n\u001b[1;32m     17\u001b[0m \u001b[38;5;28;01mdef\u001b[39;00m \u001b[38;5;21mdiv\u001b[39m(\u001b[38;5;28mself\u001b[39m):\n\u001b[0;32m---> 18\u001b[0m     result \u001b[38;5;241m=\u001b[39m \u001b[38;5;28;43mself\u001b[39;49m\u001b[38;5;241;43m.\u001b[39;49m\u001b[43mfirst\u001b[49m\u001b[43m \u001b[49m\u001b[38;5;241;43m/\u001b[39;49m\u001b[43m \u001b[49m\u001b[38;5;28;43mself\u001b[39;49m\u001b[38;5;241;43m.\u001b[39;49m\u001b[43msecond\u001b[49m\n\u001b[1;32m     19\u001b[0m     \u001b[38;5;28;01mreturn\u001b[39;00m result\n",
      "\u001b[0;31mZeroDivisionError\u001b[0m: division by zero"
     ]
    }
   ],
   "source": [
    "a = FourCal(4, 0)\n",
    "a.div()"
   ]
  },
  {
   "cell_type": "markdown",
   "id": "e637af89-69fe-48d4-9f63-5f7f1e937737",
   "metadata": {},
   "source": [
    "FourCal 클래스의 객체 a에 값 4와 0을 지정하고 div 메서드를 호출하면 4를 0으로 나누려고 하므로 ZeroDivisionError 오류가 발생한다. 0으로 나눌 때 오류가 아닌 값 0을 리턴받고 싶다면 어떻게 해야 할까?\n",
    "\n",
    "다음과 같이 FourCal 클래스를 상속하는 SafeFourCal 클래스를 만들어 보자."
   ]
  },
  {
   "cell_type": "code",
   "execution_count": 137,
   "id": "bb6a3347-cecd-4d74-aec7-822faddc5a2f",
   "metadata": {},
   "outputs": [],
   "source": [
    "class SafeFourCal(FourCal):\n",
    "    def div(self):\n",
    "        if self.second == 0:  # 나누는 값이 0인 경우 0을 리턴하도록 수정\n",
    "            return 0\n",
    "        else:\n",
    "            return self.first / self.second"
   ]
  },
  {
   "cell_type": "markdown",
   "id": "2076795e-5ed7-480d-9537-70412ca4a8fa",
   "metadata": {},
   "source": [
    "FourCal 클래스에 있는 div 메서드를 동일한 이름으로 다시 작성했다. 이렇게 부모 클래스(상속한 클래스)에 있는 메서드를 동일한 이름으로 다시 만드는 것을 메서드 오버라이딩(method overriding)이라고 한다. 이렇게 메서드를 오버라이딩하면 부모 클래스의 메서드 대신 오버라이딩한 메서드가 호출된다.\n",
    "\n",
    "SafeFourCal 클래스에 오버라이딩한 div 메서드는 나누는 값이 0인 경우에는 0을 리턴하도록 수정했다. 이제 다시 앞에서 수행한 예제를 FourCal 클래스 대신 SafeFourCal 클래스를 사용하여 수행해 보자."
   ]
  },
  {
   "cell_type": "code",
   "execution_count": 138,
   "id": "9745f033-b135-40a2-a2dc-d9956d31a0ba",
   "metadata": {},
   "outputs": [
    {
     "data": {
      "text/plain": [
       "0"
      ]
     },
     "execution_count": 138,
     "metadata": {},
     "output_type": "execute_result"
    }
   ],
   "source": [
    "a = SafeFourCal(4, 0)\n",
    "a.div()"
   ]
  },
  {
   "cell_type": "markdown",
   "id": "7040c91f-a220-49bc-8aaa-b70de3a92494",
   "metadata": {},
   "source": [
    "FourCal 클래스와 달리 ZeroDivisionError가 발생하지 않고 의도한 대로 0이 리턴되는 것을 확인할 수 있다.\n",
    "\n",
    "# 클래스변수\n",
    "객체변수는 다른 객체들의 영향을 받지 않고 독립적으로 그 값을 유지한다는 점을 이미 알아보았다. 이번에는 객체변수와는 성격이 다른 클래스변수에 대해 알아보자.\n",
    "\n",
    "다음 클래스를 작성해 보자."
   ]
  },
  {
   "cell_type": "code",
   "execution_count": 54,
   "id": "4da578e1-c1bd-45e8-b502-438e27d545af",
   "metadata": {},
   "outputs": [],
   "source": [
    "class Family:\n",
    "    lastname = \"김\""
   ]
  },
  {
   "cell_type": "markdown",
   "id": "30d66c9d-c460-4028-97d1-0e914e7565a3",
   "metadata": {},
   "source": [
    "Family 클래스에 선언한 lastname이 바로 클래스변수이다. 클래스변수는 클래스 안에 함수를 선언하는 것과 마찬가지로 클래스 안에 변수를 선언하여 생성한다.\n",
    "\n",
    "이제 Family 클래스를 다음과 같이 사용해 보자."
   ]
  },
  {
   "cell_type": "code",
   "execution_count": 55,
   "id": "a82f4625-8b5b-4a9e-90a1-a85514320ae0",
   "metadata": {},
   "outputs": [
    {
     "data": {
      "text/plain": [
       "'김'"
      ]
     },
     "execution_count": 55,
     "metadata": {},
     "output_type": "execute_result"
    }
   ],
   "source": [
    "Family.lastname"
   ]
  },
  {
   "cell_type": "markdown",
   "id": "3149392e-7726-4f7a-9a31-2c3c2c43e137",
   "metadata": {},
   "source": [
    "클래스변수는 위 예와 같이 클래스_이름.클래스변수로 사용할 수 있다.\n",
    "\n",
    "또는 다음과 같이 Family 클래스로 만든 객체를 이용해도 클래스변수를 사용할 수 있다."
   ]
  },
  {
   "cell_type": "code",
   "execution_count": 56,
   "id": "9fe4dfbd-785c-45a1-b891-deeed74235b0",
   "metadata": {},
   "outputs": [
    {
     "data": {
      "text/plain": [
       "'김'"
      ]
     },
     "execution_count": 56,
     "metadata": {},
     "output_type": "execute_result"
    }
   ],
   "source": [
    "a = Family()\n",
    "b = Family()\n",
    "a.lastname"
   ]
  },
  {
   "cell_type": "code",
   "execution_count": 57,
   "id": "ac09040d-8833-48d9-9806-c1b34eb9c789",
   "metadata": {},
   "outputs": [
    {
     "data": {
      "text/plain": [
       "'김'"
      ]
     },
     "execution_count": 57,
     "metadata": {},
     "output_type": "execute_result"
    }
   ],
   "source": [
    "b.lastname"
   ]
  },
  {
   "cell_type": "markdown",
   "id": "123fa7cf-c4f1-4e3a-a3f3-2946a6f4cddc",
   "metadata": {},
   "source": [
    "만약 Family 클래스의 lastname을 \"박\"이라는 문자열로 바꾸면 어떻게 될까? 다음과 같이 확인해 보자."
   ]
  },
  {
   "cell_type": "code",
   "execution_count": 58,
   "id": "c9f6d3aa-82ec-4502-9e23-39a21761a9b5",
   "metadata": {},
   "outputs": [
    {
     "data": {
      "text/plain": [
       "'박'"
      ]
     },
     "execution_count": 58,
     "metadata": {},
     "output_type": "execute_result"
    }
   ],
   "source": [
    "Family.lastname = \"박\"\n",
    "a.lastname"
   ]
  },
  {
   "cell_type": "code",
   "execution_count": 59,
   "id": "ab2f016f-41c9-417f-af5b-0bd6d853f2d6",
   "metadata": {},
   "outputs": [
    {
     "data": {
      "text/plain": [
       "'박'"
      ]
     },
     "execution_count": 59,
     "metadata": {},
     "output_type": "execute_result"
    }
   ],
   "source": [
    "b.lastname"
   ]
  },
  {
   "cell_type": "markdown",
   "id": "a8846d0c-12e7-421e-8dc6-02730001e712",
   "metadata": {},
   "source": [
    "클래스변수의 값을 변경했더니 클래스로 만든 객체의 lastname 값도 모두 변경된다는 것을 확인할 수 있다. 즉, 클래스변수는 객체변수와 달리 클래스로 만든 모든 객체에 공유된다는 특징이 있다.\n",
    "\n",
    "클래스변수를 가장 늦게 설명하는 이유는 클래스에서 객체변수가 클래스변수보다 훨씬 중요하기 때문이다. 실무에서 프로그래밍할 때도 클래스변수보다 객체변수를 사용하는 비율이 훨씬 높다.\n",
    "\n",
    "**클래스변수와 동일한 이름의 객체변수를 생성하면?**\n",
    "\n",
    "위의 예제에서 a.lastname을 다음처럼 변경하면 어떻게 될까?"
   ]
  },
  {
   "cell_type": "code",
   "execution_count": 60,
   "id": "9d5cb8e8-d5cb-4c08-a9c6-9b0ce477d1ce",
   "metadata": {},
   "outputs": [
    {
     "data": {
      "text/plain": [
       "'최'"
      ]
     },
     "execution_count": 60,
     "metadata": {},
     "output_type": "execute_result"
    }
   ],
   "source": [
    "a.lastname = \"최\"\n",
    "a.lastname"
   ]
  },
  {
   "cell_type": "markdown",
   "id": "cec98b84-4bfa-4760-ba8e-8d0b33c73657",
   "metadata": {},
   "source": [
    "이렇게 하면 Family 클래스의 lastname이 바뀌는 것이 아니라 a 객체에 lastname이라는 객체변수가 새롭게 생성된다. 즉, 객체변수는 클래스변수와 동일한 이름으로 생성할 수 있다.\n",
    "\n",
    "a.lastname 객체변수를 생성하더라도 Family 클래스의 lastname과는 상관없다는 것을 다음과 같이 확인할 수 있다."
   ]
  },
  {
   "cell_type": "code",
   "execution_count": 61,
   "id": "70c74f02-51a9-40c8-a6aa-ceb973995c5d",
   "metadata": {},
   "outputs": [
    {
     "data": {
      "text/plain": [
       "'박'"
      ]
     },
     "execution_count": 61,
     "metadata": {},
     "output_type": "execute_result"
    }
   ],
   "source": [
    "Family.lastname"
   ]
  },
  {
   "cell_type": "code",
   "execution_count": 62,
   "id": "5f5dfbba-cf15-4405-bd6a-e16f88e9161d",
   "metadata": {},
   "outputs": [
    {
     "data": {
      "text/plain": [
       "'박'"
      ]
     },
     "execution_count": 62,
     "metadata": {},
     "output_type": "execute_result"
    }
   ],
   "source": [
    "b.lastname"
   ]
  },
  {
   "cell_type": "markdown",
   "id": "d479a84c-7bca-4ca1-a08a-f55b3ea43492",
   "metadata": {},
   "source": [
    "Family 클래스의 lastname 값은 변하지 않았다."
   ]
  },
  {
   "cell_type": "code",
   "execution_count": 141,
   "id": "860024fa-bec7-4b92-a58e-f47db6718641",
   "metadata": {},
   "outputs": [],
   "source": [
    "lst = [1, 2]"
   ]
  },
  {
   "cell_type": "code",
   "execution_count": 142,
   "id": "4881e585-b8df-4f40-8fef-0fa03ca3c78b",
   "metadata": {},
   "outputs": [
    {
     "data": {
      "text/plain": [
       "[1, 2]"
      ]
     },
     "execution_count": 142,
     "metadata": {},
     "output_type": "execute_result"
    }
   ],
   "source": [
    "lst"
   ]
  },
  {
   "cell_type": "code",
   "execution_count": 147,
   "id": "ae93df0d-d8e4-41a3-a1e5-fb285589a1ad",
   "metadata": {},
   "outputs": [
    {
     "ename": "IndexError",
     "evalue": "list index out of range",
     "output_type": "error",
     "traceback": [
      "\u001b[0;31m---------------------------------------------------------------------------\u001b[0m",
      "\u001b[0;31mIndexError\u001b[0m                                Traceback (most recent call last)",
      "Cell \u001b[0;32mIn[147], line 1\u001b[0m\n\u001b[0;32m----> 1\u001b[0m \u001b[43mlst\u001b[49m\u001b[43m[\u001b[49m\u001b[38;5;241;43m999\u001b[39;49m\u001b[43m]\u001b[49m\n",
      "\u001b[0;31mIndexError\u001b[0m: list index out of range"
     ]
    }
   ],
   "source": [
    "lst[999]"
   ]
  },
  {
   "cell_type": "code",
   "execution_count": null,
   "id": "bf24423f-85e8-41f4-8fbf-26bf7dba9262",
   "metadata": {},
   "outputs": [],
   "source": []
  }
 ],
 "metadata": {
  "kernelspec": {
   "display_name": "Python 3 (ipykernel)",
   "language": "python",
   "name": "python3"
  },
  "language_info": {
   "codemirror_mode": {
    "name": "ipython",
    "version": 3
   },
   "file_extension": ".py",
   "mimetype": "text/x-python",
   "name": "python",
   "nbconvert_exporter": "python",
   "pygments_lexer": "ipython3",
   "version": "3.10.14"
  }
 },
 "nbformat": 4,
 "nbformat_minor": 5
}
