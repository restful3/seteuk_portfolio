{
 "cells": [
  {
   "cell_type": "markdown",
   "id": "8fdd300f-e32f-42a5-96c1-57b019731503",
   "metadata": {},
   "source": [
    "# 예외 처리\n",
    "프로그램을 만들다 보면 수없이 많은 오류를 만나게 된다. 물론 오류가 발생하는 이유는 프로그램이 잘못 동작하는 것을 막기 위한 파이썬의 배려이다. 이번에는 파이썬에서 오류를 처리하는 방법에 대해서 알아보자.\n",
    "\n",
    "## 오류는 언제 발생하는가?\n",
    "오류를 처리하는 방법을 공부하기 전에 어떤 상황에서 오류가 발생하는지 한번 알아보자. 오타를 입력했을 때 발생하는 구문 오류 같은 것이 아닌 실제 프로그램에서 자주 발생하는 오류를 중심으로 살펴보자.\n",
    "\n",
    "0으로 다른 숫자를 나누는 경우를 생각해 보자. 이 역시 자주 발생하는 오류이다."
   ]
  },
  {
   "cell_type": "code",
   "execution_count": 2,
   "id": "1d7f75e1-2cb5-4613-b4e6-0038ba7b80d4",
   "metadata": {},
   "outputs": [
    {
     "ename": "ZeroDivisionError",
     "evalue": "division by zero",
     "output_type": "error",
     "traceback": [
      "\u001b[0;31m---------------------------------------------------------------------------\u001b[0m",
      "\u001b[0;31mZeroDivisionError\u001b[0m                         Traceback (most recent call last)",
      "Cell \u001b[0;32mIn[2], line 1\u001b[0m\n\u001b[0;32m----> 1\u001b[0m \u001b[38;5;241;43m4\u001b[39;49m\u001b[43m \u001b[49m\u001b[38;5;241;43m/\u001b[39;49m\u001b[43m \u001b[49m\u001b[38;5;241;43m0\u001b[39;49m\n",
      "\u001b[0;31mZeroDivisionError\u001b[0m: division by zero"
     ]
    }
   ],
   "source": [
    "4 / 0"
   ]
  },
  {
   "cell_type": "markdown",
   "id": "c2a161cf-f233-4d07-8692-a98160f90a59",
   "metadata": {},
   "source": [
    "4를 0으로 나누려고 하니 ZeroDivisionError 오류가 발생한다.\n",
    "\n",
    "마지막으로 1가지 예를 더 들어 보자. 다음 오류는 정말 빈번하게 일어난다."
   ]
  },
  {
   "cell_type": "code",
   "execution_count": 3,
   "id": "ef4a8e25-c05c-4bee-8326-ddb0d5f84508",
   "metadata": {},
   "outputs": [
    {
     "ename": "IndexError",
     "evalue": "list index out of range",
     "output_type": "error",
     "traceback": [
      "\u001b[0;31m---------------------------------------------------------------------------\u001b[0m",
      "\u001b[0;31mIndexError\u001b[0m                                Traceback (most recent call last)",
      "Cell \u001b[0;32mIn[3], line 2\u001b[0m\n\u001b[1;32m      1\u001b[0m a \u001b[38;5;241m=\u001b[39m [\u001b[38;5;241m1\u001b[39m, \u001b[38;5;241m2\u001b[39m, \u001b[38;5;241m3\u001b[39m]\n\u001b[0;32m----> 2\u001b[0m \u001b[43ma\u001b[49m\u001b[43m[\u001b[49m\u001b[38;5;241;43m3\u001b[39;49m\u001b[43m]\u001b[49m\n",
      "\u001b[0;31mIndexError\u001b[0m: list index out of range"
     ]
    }
   ],
   "source": [
    "a = [1, 2, 3]\n",
    "a[3]"
   ]
  },
  {
   "cell_type": "markdown",
   "id": "2c93bd3b-1c3a-4341-bb76-ecd41d32586a",
   "metadata": {},
   "source": [
    "a[3]은 a의 네 번째 요솟값을 가리키는데, a 리스트에는 값이 3개밖에 없으므로([1, 2, 3]) 값을 얻을 수 없다. 따라서 IndexError 오류가 발생한다. 파이썬은 이런 오류가 발생하면 프로그램을 중단하고 오류 메시지를 보여 준다.\n",
    "\n"
   ]
  },
  {
   "cell_type": "markdown",
   "id": "aaf702f5-104d-41f7-8cad-530e8864ce20",
   "metadata": {},
   "source": [
    "## 오류 예외 처리 기법\n",
    "이제 유연한 프로그래밍을 위한 오류 처리 방법에 대해 알아보자.\n",
    "\n",
    "### try-except 문\n",
    "다음은 오류를 처리하기 위한 try-except 문의 기본 구조이다.\n",
    "\n",
    "```python\n",
    "try:\n",
    "    ...\n",
    "except [발생오류 [as 오류변수]]:\n",
    "    ...\n",
    "```\n",
    "    \n",
    "try 블록 수행 중 오류가 발생하면 except 블록이 수행된다. 하지만 try 블록에서 오류가 발생하지 않는다면 except 블록은 수행되지 않는다.\n",
    "\n",
    "except 구문을 자세히 살펴보자.\n",
    "\n",
    "> except [발생오류 [as 오류변수]]:\n",
    "\n",
    "위 구문을 보면 []를 사용하는데, 이 기호는 괄호 안의 내용을 생략할 수 있다는 관례적인 표기법이다. 즉, except 구문은 다음 3가지 방법으로 사용할 수 있다.\n",
    "\n",
    "1. try-except만 쓰는 방법\n",
    "\n",
    "```python\n",
    "try:\n",
    "    ...\n",
    "except:\n",
    "    ...\n",
    "```\n",
    "    \n",
    "이 경우에는 오류의 종류에 상관없이 오류가 발생하면 except 블록을 수행한다.\n",
    "\n",
    "2. 발생 오류만 포함한 except 문\n",
    "\n",
    "```python\n",
    "try:\n",
    "    ...\n",
    "except 발생오류:\n",
    "    ...\n",
    "```    \n",
    "\n",
    "이 경우는 오류가 발생했을 때 except 문에 미리 정해 놓은 오류와 동일한 오류일 경우에만 except 블록을 수행한다는 뜻이다.\n",
    "\n",
    "3. 발생 오류와 오류 변수까지 포함한 except 문\n",
    "\n",
    "```python\n",
    "try:\n",
    "    ...\n",
    "except 발생오류 as 오류변수:\n",
    "    ...\n",
    "```    \n",
    "\n",
    "이 경우는 두 번째 경우에서 오류의 내용까지 알고 싶을 때 사용하는 방법이다.\n",
    "\n",
    "이 방법의 예를 들어 보면 다음과 같다."
   ]
  },
  {
   "cell_type": "code",
   "execution_count": 5,
   "id": "37c217c0-0e1c-46e8-a342-b588d856a791",
   "metadata": {},
   "outputs": [
    {
     "name": "stdout",
     "output_type": "stream",
     "text": [
      "division by zero\n"
     ]
    }
   ],
   "source": [
    "try:\n",
    "    4 / 0\n",
    "except ZeroDivisionError as e:\n",
    "    print(e)"
   ]
  },
  {
   "cell_type": "markdown",
   "id": "f6c63725-b075-4eff-88e7-73149a7e02fc",
   "metadata": {},
   "source": [
    "위처럼 4를 0으로 나누려고 하면 ZeroDivisionError가 발생하여 except 블록이 실행되고 오류 변수 e에 담기는 오류 메시지를 출력할 수 있다. 출력되는 오류 메시지는 위와 같다."
   ]
  },
  {
   "cell_type": "markdown",
   "id": "eb2371da-5e0d-4fab-ae17-82733c791664",
   "metadata": {},
   "source": [
    "### try-finally 문\n",
    "try 문에는 finally 절을 사용할 수 있다. finally 절은 try 문 수행 도중 예외 발생 여부에 상관없이 항상 수행된다. 보통 finally 절은 사용한 리소스를 close해야 할 때 많이 사용한다.\n",
    "\n",
    "다음 예를 살펴보자.\n",
    "\n",
    "```python\n",
    "try:\n",
    "    f = open('foo.txt', 'w')\n",
    "    # 무언가를 수행한다.\n",
    "\n",
    "    (... 생략 ...)\n",
    "\n",
    "finally:\n",
    "    f.close()  # 중간에 오류가 발생하더라도 무조건 실행된다.\n",
    "```\n",
    "    \n",
    "foo.txt 파일을 쓰기 모드로 연 후 예외 발생 여부에 상관없이 항상 파일을 닫아 주려면 try-finally 문을 사용하면 된다.\n"
   ]
  },
  {
   "cell_type": "markdown",
   "id": "54c5fc22-88ea-40b2-8bc5-87b8afd62122",
   "metadata": {},
   "source": [
    "### 여러 개의 오류 처리하기\n",
    "try 문 안에서 여러 개의 오류를 처리하려면 다음과 같이 사용해야 한다.\n",
    "\n",
    "```python\n",
    "try:\n",
    "    ...\n",
    "except 발생오류1:\n",
    "   ... \n",
    "except 발생오류2:\n",
    "   ...\n",
    "```\n",
    "    \n",
    "즉, 0으로 나누는 오류와 인덱싱 오류를 다음과 같이 처리할 수 있다.\n",
    "\n"
   ]
  },
  {
   "cell_type": "code",
   "execution_count": 7,
   "id": "93422832-6feb-467a-8f57-a0d3080ebed7",
   "metadata": {},
   "outputs": [
    {
     "name": "stdout",
     "output_type": "stream",
     "text": [
      "인덱싱 할 수 없습니다.\n"
     ]
    }
   ],
   "source": [
    "try:\n",
    "    a = [1,2]\n",
    "    print(a[3])\n",
    "    4/0\n",
    "except ZeroDivisionError:\n",
    "    print(\"0으로 나눌 수 없습니다.\")\n",
    "except IndexError:\n",
    "    print(\"인덱싱 할 수 없습니다.\")"
   ]
  },
  {
   "cell_type": "markdown",
   "id": "771c6b86-f5d8-4178-8f6f-de4f4d61e83f",
   "metadata": {},
   "source": [
    "a는 2개의 요솟값을 가지고 있으므로 a[3]이 IndexError를 발생시켜 \"인덱싱할 수 없습니다.\"라는 문자열을 출력할 것이다. 인덱싱 오류가 먼저 발생했으므로 4 / 0에 따른 ZeroDivisionError 오류는 발생하지 않는다.\n",
    "\n",
    "앞에서 알아본 것과 마찬가지로 오류 메시지도 다음과 같이 확인할 수 있다.\n"
   ]
  },
  {
   "cell_type": "code",
   "execution_count": 8,
   "id": "a359bcfc-6c57-4c67-93b2-bfe70ba223ff",
   "metadata": {},
   "outputs": [
    {
     "name": "stdout",
     "output_type": "stream",
     "text": [
      "list index out of range\n"
     ]
    }
   ],
   "source": [
    "try:\n",
    "    a = [1,2]\n",
    "    print(a[3])\n",
    "    4/0\n",
    "except ZeroDivisionError as e:\n",
    "    print(e)\n",
    "except IndexError as e:\n",
    "    print(e)"
   ]
  },
  {
   "cell_type": "markdown",
   "id": "29c43820-8ec8-4ce8-a2fb-4df674c44a28",
   "metadata": {},
   "source": [
    "\n",
    "프로그램을 실행하면 ‘list index out of range’라는 오류 메시지가 출력될 것이다.\n",
    "\n",
    "다음과 같이 ZerroDivisionError와 IndexError를 함께 처리할 수도 있다."
   ]
  },
  {
   "cell_type": "code",
   "execution_count": 10,
   "id": "f59984a2-c0d3-4948-b81d-14091f193dcd",
   "metadata": {},
   "outputs": [
    {
     "name": "stdout",
     "output_type": "stream",
     "text": [
      "list index out of range\n"
     ]
    }
   ],
   "source": [
    "try:\n",
    "    a = [1,2]\n",
    "    print(a[3])\n",
    "    4/0\n",
    "except (ZeroDivisionError, IndexError) as e:\n",
    "    print(e)"
   ]
  },
  {
   "cell_type": "markdown",
   "id": "c1a99d5f-1c59-43b9-918d-63978fa74b43",
   "metadata": {},
   "source": [
    "2개 이상의 오류를 동일하게 처리하기 위해서는 위와 같이 괄호를 사용하여 함께 묶어 처리하면 된다."
   ]
  },
  {
   "cell_type": "markdown",
   "id": "bdbe0fe3-bf75-4dac-adc0-60417a965ebf",
   "metadata": {},
   "source": [
    "\n",
    "### try-else 문\n",
    "try 문에는 다음처럼 else 절을 사용할 수도 있다.\n",
    "\n",
    "```python\n",
    "try:\n",
    "    ...\n",
    "except [발생오류 [as 오류변수]]:\n",
    "    ...\n",
    "else:  # 오류가 없을 경우에만 수행\n",
    "    ...\n",
    "```\n",
    "    \n",
    "try 문 수행 중 오류가 발생하면 except 절, 오류가 발생하지 않으면 else 절이 수행된다.\n",
    "\n",
    "다음은 try 문에 else 절을 사용한 간단한 예제이다."
   ]
  },
  {
   "cell_type": "code",
   "execution_count": 12,
   "id": "0c61e885-9cf0-41f9-83aa-98a172777761",
   "metadata": {},
   "outputs": [
    {
     "name": "stdin",
     "output_type": "stream",
     "text": [
      "나이를 입력하세요:  ㅁ\n"
     ]
    },
    {
     "name": "stdout",
     "output_type": "stream",
     "text": [
      "입력이 정확하지 않습니다.\n"
     ]
    }
   ],
   "source": [
    "try:\n",
    "    age=int(input('나이를 입력하세요: '))\n",
    "except:\n",
    "    print('입력이 정확하지 않습니다.')\n",
    "else:\n",
    "    if age <= 18:\n",
    "        print('미성년자는 출입금지입니다.')\n",
    "    else:\n",
    "        print('환영합니다.')"
   ]
  },
  {
   "cell_type": "markdown",
   "id": "da81b5c2-4410-447b-b46c-856a21ccf4f3",
   "metadata": {},
   "source": [
    "   만약 '나이를 입력하세요: '라는 질문에 숫자가 아닌 다른 값을 입력하면 오류가 발생하여 '입력이 정확하지 않습니다.'라는 문장을 출력한다. 오류가 없을 경우에만 else 절이 수행된다.\n",
    "\n",
    "## 오류 회피하기\n",
    "코드를 작성하다 보면 특정 오류가 발생할 경우 그냥 통과시켜야 할 때가 있다. 다음 예를 살펴보자."
   ]
  },
  {
   "cell_type": "code",
   "execution_count": 13,
   "id": "90880952-a0fb-4500-8c51-ecbb70d955d9",
   "metadata": {},
   "outputs": [],
   "source": [
    "try:\n",
    "    f = open(\"나없는파일\", 'r')\n",
    "except FileNotFoundError:\n",
    "    pass"
   ]
  },
  {
   "cell_type": "markdown",
   "id": "227c4944-241e-4635-b63c-ce4b4c79c05c",
   "metadata": {},
   "source": [
    "try 문 안에서 FileNotFoundError가 발생할 경우, pass를 사용하여 오류를 그냥 회피하도록 작성한 예제이다.\n",
    "\n",
    "## 오류 일부러 발생시키기\n",
    "이상하게 들리겠지만, 프로그래밍을 하다 보면 종종 오류를 일부러 발생시켜야 할 경우도 생긴다. 파이썬은 raise 명령어를 사용해 오류를 강제로 발생시킬 수 있다.\n",
    "\n",
    "예를 들어 Bird 클래스를 상속받는 자식 클래스는 반드시 fly라는 함수를 구현하도록 만들고 싶은 경우(강제로 그렇게 하고 싶은 경우)가 있을 수 있다. 다음 예를 살펴보자."
   ]
  },
  {
   "cell_type": "code",
   "execution_count": 14,
   "id": "94c1ca2c-c6d7-42d1-90fc-fafc5eb1e1e9",
   "metadata": {},
   "outputs": [],
   "source": [
    "class Bird:\n",
    "    def fly(self):\n",
    "        raise NotImplementedError"
   ]
  },
  {
   "cell_type": "markdown",
   "id": "b2ef730a-84f5-4956-b744-448046dfb111",
   "metadata": {},
   "source": [
    "Bird 클래스를 상속받는 자식 클래스는 반드시 fly 함수를 구현해야 한다는 의지를 보여 준다. 만약 자식 클래스가 fly 함수를 구현하지 않은 상태로 fly 함수를 호출한다면 어떻게 될까?\n",
    "\n",
    "NotImplementedError는 파이썬에 이미 정의되어 있는 오류로, 꼭 작성해야 하는 부분이 구현되지 않았을 경우 일부러 오류를 발생시키기 위해 사용한다."
   ]
  },
  {
   "cell_type": "code",
   "execution_count": 15,
   "id": "fcd2b40f-c802-4c02-b3e5-5c566cf9931f",
   "metadata": {},
   "outputs": [
    {
     "ename": "NotImplementedError",
     "evalue": "",
     "output_type": "error",
     "traceback": [
      "\u001b[0;31m---------------------------------------------------------------------------\u001b[0m",
      "\u001b[0;31mNotImplementedError\u001b[0m                       Traceback (most recent call last)",
      "Cell \u001b[0;32mIn[15], line 5\u001b[0m\n\u001b[1;32m      2\u001b[0m     \u001b[38;5;28;01mpass\u001b[39;00m\n\u001b[1;32m      4\u001b[0m eagle \u001b[38;5;241m=\u001b[39m Eagle()\n\u001b[0;32m----> 5\u001b[0m \u001b[43meagle\u001b[49m\u001b[38;5;241;43m.\u001b[39;49m\u001b[43mfly\u001b[49m\u001b[43m(\u001b[49m\u001b[43m)\u001b[49m\n",
      "Cell \u001b[0;32mIn[14], line 3\u001b[0m, in \u001b[0;36mBird.fly\u001b[0;34m(self)\u001b[0m\n\u001b[1;32m      2\u001b[0m \u001b[38;5;28;01mdef\u001b[39;00m \u001b[38;5;21mfly\u001b[39m(\u001b[38;5;28mself\u001b[39m):\n\u001b[0;32m----> 3\u001b[0m     \u001b[38;5;28;01mraise\u001b[39;00m \u001b[38;5;167;01mNotImplementedError\u001b[39;00m\n",
      "\u001b[0;31mNotImplementedError\u001b[0m: "
     ]
    }
   ],
   "source": [
    "class Eagle(Bird):\n",
    "    pass\n",
    "\n",
    "eagle = Eagle()\n",
    "eagle.fly()"
   ]
  },
  {
   "cell_type": "markdown",
   "id": "37cba4a0-04b1-4ff5-8a2f-7f72924e2449",
   "metadata": {},
   "source": [
    "\n",
    "Eagle 클래스는 Bird 클래스를 상속받았다. 그런데 Eagle 클래스는 fly 메서드를 오버라이딩하여 구현하지 않았다. 따라서 eagle 객체의 fly 메서드를 수행하는 순간 Bird 클래스의 fly 메서드가 수행되어 NotImplementedError가 발생한다.\n",
    "\n",
    "상속받는 클래스에서 메서드를 재구현하는 것을 ‘메서드 오버라이딩’이라고 한다.\n",
    "\n",
    "NotImplementedError가 발생하지 않게 하려면 다음과 같이 Eagle 클래스에 fly 함수를 구현해야 한다."
   ]
  },
  {
   "cell_type": "code",
   "execution_count": 16,
   "id": "06460a61-f82d-41fa-928b-1300991aafeb",
   "metadata": {},
   "outputs": [
    {
     "name": "stdout",
     "output_type": "stream",
     "text": [
      "very fast\n"
     ]
    }
   ],
   "source": [
    "class Eagle(Bird):\n",
    "    def fly(self):\n",
    "        print(\"very fast\")\n",
    "\n",
    "eagle = Eagle()\n",
    "eagle.fly()"
   ]
  },
  {
   "cell_type": "markdown",
   "id": "58bbe92a-52c9-4164-997e-8343d47f64f0",
   "metadata": {},
   "source": [
    "위 예처럼 fly 함수를 구현한 후 프로그램을 실행하면 오류 없이 다음 문장이 출력된다.\n",
    "\n",
    "## 예외 만들기\n",
    "프로그램을 수행하다가 특수한 경우에만 예외 처리를 하려고 종종 예외를 만들어서 사용한다. 이번에는 직접 예외를 만들어 보자.\n",
    "\n",
    "예외는 다음과 같이 파이썬 내장 클래스인 Exception 클래스를 상속하여 만들 수 있다."
   ]
  },
  {
   "cell_type": "code",
   "execution_count": 17,
   "id": "4c30869a-6b13-480b-9abf-68d7b65c52d0",
   "metadata": {},
   "outputs": [],
   "source": [
    "class MyError(Exception):\n",
    "    pass"
   ]
  },
  {
   "cell_type": "markdown",
   "id": "5f044ec7-cf26-4d5e-b431-9d7ff0bf3d1b",
   "metadata": {},
   "source": [
    "그리고 별명을 출력하는 함수를 다음과 같이 작성해 보자.    "
   ]
  },
  {
   "cell_type": "code",
   "execution_count": 18,
   "id": "15c1f0ef-c399-4177-a0f9-d32bdaea3c0d",
   "metadata": {},
   "outputs": [],
   "source": [
    "def say_nick(nick):\n",
    "    if nick == '바보':\n",
    "        raise MyError()\n",
    "    print(nick)"
   ]
  },
  {
   "cell_type": "markdown",
   "id": "21b636bc-2275-406d-8637-bae1e9e4d0a7",
   "metadata": {},
   "source": [
    "그리고 다음과 같이 say_nick 함수를 호출해 보자."
   ]
  },
  {
   "cell_type": "code",
   "execution_count": 19,
   "id": "a0438216-a4c5-46c7-b16b-15b4c9f24d4b",
   "metadata": {},
   "outputs": [
    {
     "name": "stdout",
     "output_type": "stream",
     "text": [
      "천사\n"
     ]
    },
    {
     "ename": "MyError",
     "evalue": "",
     "output_type": "error",
     "traceback": [
      "\u001b[0;31m---------------------------------------------------------------------------\u001b[0m",
      "\u001b[0;31mMyError\u001b[0m                                   Traceback (most recent call last)",
      "Cell \u001b[0;32mIn[19], line 2\u001b[0m\n\u001b[1;32m      1\u001b[0m say_nick(\u001b[38;5;124m\"\u001b[39m\u001b[38;5;124m천사\u001b[39m\u001b[38;5;124m\"\u001b[39m)\n\u001b[0;32m----> 2\u001b[0m \u001b[43msay_nick\u001b[49m\u001b[43m(\u001b[49m\u001b[38;5;124;43m\"\u001b[39;49m\u001b[38;5;124;43m바보\u001b[39;49m\u001b[38;5;124;43m\"\u001b[39;49m\u001b[43m)\u001b[49m\n",
      "Cell \u001b[0;32mIn[18], line 3\u001b[0m, in \u001b[0;36msay_nick\u001b[0;34m(nick)\u001b[0m\n\u001b[1;32m      1\u001b[0m \u001b[38;5;28;01mdef\u001b[39;00m \u001b[38;5;21msay_nick\u001b[39m(nick):\n\u001b[1;32m      2\u001b[0m     \u001b[38;5;28;01mif\u001b[39;00m nick \u001b[38;5;241m==\u001b[39m \u001b[38;5;124m'\u001b[39m\u001b[38;5;124m바보\u001b[39m\u001b[38;5;124m'\u001b[39m:\n\u001b[0;32m----> 3\u001b[0m         \u001b[38;5;28;01mraise\u001b[39;00m MyError()\n\u001b[1;32m      4\u001b[0m     \u001b[38;5;28mprint\u001b[39m(nick)\n",
      "\u001b[0;31mMyError\u001b[0m: "
     ]
    }
   ],
   "source": [
    "say_nick(\"천사\")\n",
    "say_nick(\"바보\")"
   ]
  },
  {
   "cell_type": "markdown",
   "id": "8ed0981d-f205-4629-8b56-584cec97840e",
   "metadata": {},
   "source": [
    "저장한 후 프로그램을 실행해 보면 다음과 같이 \"천사\"가 한 번 출력된 후 MyError가 발생한다.\n",
    "\n",
    "이번에는 예외 처리 기법을 사용하여 MyError 발생을 예외 처리해 보자.\n"
   ]
  },
  {
   "cell_type": "code",
   "execution_count": 20,
   "id": "70133078-4534-411e-ab7c-c3f2c80e5742",
   "metadata": {},
   "outputs": [
    {
     "name": "stdout",
     "output_type": "stream",
     "text": [
      "천사\n",
      "허용되지 않는 별명입니다.\n"
     ]
    }
   ],
   "source": [
    "try:\n",
    "    say_nick(\"천사\")\n",
    "    say_nick(\"바보\")\n",
    "except MyError:\n",
    "    print(\"허용되지 않는 별명입니다.\")"
   ]
  },
  {
   "cell_type": "markdown",
   "id": "b57fe1e9-21c3-47e3-8f14-9c0a6c8afd38",
   "metadata": {},
   "source": [
    "프로그램을 실행하면 위와 같이 출력된다.\n",
    "\n",
    "만약 오류 메시지를 사용하고 싶다면 다음처럼 예외 처리를 하면 된다.\n"
   ]
  },
  {
   "cell_type": "code",
   "execution_count": 21,
   "id": "f92c826d-883c-4d82-8b45-57757246f240",
   "metadata": {},
   "outputs": [
    {
     "name": "stdout",
     "output_type": "stream",
     "text": [
      "천사\n",
      "\n"
     ]
    }
   ],
   "source": [
    "try:\n",
    "    say_nick(\"천사\")\n",
    "    say_nick(\"바보\")\n",
    "except MyError as e:\n",
    "    print(e)"
   ]
  },
  {
   "cell_type": "markdown",
   "id": "52fcdcbe-4aa6-46c1-ac26-a1bd5224e77c",
   "metadata": {},
   "source": [
    "하지만 프로그램을 실행해 보면 print(e)로 오류 메시지가 출력되지 않는 것을 확인할 수 있다. 오류 메시지를 출력했을 때 오류 메시지가 보이게 하려면 오류 클래스에 다음과 같은 __str__ 메서드를 구현해야 한다. __str__ 메서드는 print(e)처럼 오류 메시지를 print 문으로 출력할 경우에 호출되는 메서드이다."
   ]
  },
  {
   "cell_type": "code",
   "execution_count": 22,
   "id": "dbf763d0-a8fb-4b5d-ae25-bfa0db726963",
   "metadata": {},
   "outputs": [],
   "source": [
    "class MyError(Exception):\n",
    "    def __str__(self):\n",
    "        return \"허용되지 않는 별명입니다.\""
   ]
  },
  {
   "cell_type": "markdown",
   "id": "129aee59-189a-4c91-aaee-d9b04199bade",
   "metadata": {},
   "source": [
    "프로그램을 다시 실행해 보면 \"허용되지 않는 별명입니다.\"라는 오류 메시지가 출력되는 것을 확인할 수 있을 것이다.'"
   ]
  },
  {
   "cell_type": "code",
   "execution_count": 23,
   "id": "d814ad77-8b0e-407e-a505-7cdf4006e256",
   "metadata": {},
   "outputs": [
    {
     "name": "stdout",
     "output_type": "stream",
     "text": [
      "천사\n",
      "허용되지 않는 별명입니다.\n"
     ]
    }
   ],
   "source": [
    "try:\n",
    "    say_nick(\"천사\")\n",
    "    say_nick(\"바보\")\n",
    "except MyError as e:\n",
    "    print(e)"
   ]
  },
  {
   "cell_type": "markdown",
   "id": "d5c4319f-33b6-4923-83b9-f1610cc27b3d",
   "metadata": {},
   "source": [
    "# 내장 함수\n",
    "지금까지 파이썬으로 프로그래밍하기 위해 알아야 하는 것들을 대부분 공부했다. 이제 여러분은 원하는 프로그램을 직접 만들 수 있을 것이다. 하지만 그 전에 먼저 여러분이 만들려는 프로그램이 이미 만들어져 있는지 살펴보기 바란다.\n",
    "\n",
    "물론 공부를 위해서라면 누군가 만들어 놓은 프로그램을 또 만들 수도 있다. 하지만 그런 목적이 아니라면 이미 만들어진 것을 다시 만드는 것은 불필요한 행동이다. 그리고 이미 만들어진 프로그램은 테스트 과정을 수없이 거쳤기 때문에 충분히 검증되어 있다. 따라서 무엇인가 새로운 프로그램을 만들기 전에는 이미 만들어진 것들, 그중에서도 특히 파이썬 배포본에 함께 들어 있는 파이썬 라이브러리를 살펴보는 것이 매우 중요하다.\n",
    "\n",
    "<img src=\"https://wikidocs.net/images/page/32/05_5_reinvent_wheel.png\">\n",
    "\n",
    "\"이미 있는 것을 다시 만드느라 시간을 낭비하지 말라.\"\n",
    "\n",
    "라이브러리를 살펴보기 전에 파이썬 내장(built-in) 함수를 먼저 살펴보자. 우리는 이미 몇 가지 내장 함수를 배웠다. print, del, type 등이 바로 그것이다. 이러한 파이썬 내장 함수는 파이썬 모듈과 달리 import가 필요하지 않기 때문에 아무런 설정 없이 바로 사용할 수 있다.\n",
    "\n",
    "이 책에서는 활용 빈도가 높고 중요한 함수를 중심으로 알파벳 순서대로 간략히 정리했다. 파이썬으로 프로그래밍을 하기 위해 이들 함수를 지금 당장 모두 알아야 하는 것은 아니므로 가벼운 마음으로 천천히 살펴보자."
   ]
  },
  {
   "cell_type": "markdown",
   "id": "be62946e-e7b9-4712-86f6-790929efbbb0",
   "metadata": {},
   "source": [
    "## abs\n",
    "abs(x)는 어떤 숫자를 입력받았을 때 그 숫자의 절댓값을 리턴하는 함수이다."
   ]
  },
  {
   "cell_type": "code",
   "execution_count": 24,
   "id": "d3370210-35a2-443f-a934-22748884e83c",
   "metadata": {},
   "outputs": [
    {
     "data": {
      "text/plain": [
       "3"
      ]
     },
     "execution_count": 24,
     "metadata": {},
     "output_type": "execute_result"
    }
   ],
   "source": [
    "abs(3)"
   ]
  },
  {
   "cell_type": "code",
   "execution_count": 25,
   "id": "6fe9502a-9f0e-42b5-bd3c-f95a06ebf12e",
   "metadata": {},
   "outputs": [
    {
     "data": {
      "text/plain": [
       "3"
      ]
     },
     "execution_count": 25,
     "metadata": {},
     "output_type": "execute_result"
    }
   ],
   "source": [
    "abs(-3)"
   ]
  },
  {
   "cell_type": "code",
   "execution_count": 26,
   "id": "cf02ea37-dad5-4a55-b8ea-d3bc782feb96",
   "metadata": {},
   "outputs": [
    {
     "data": {
      "text/plain": [
       "1.2"
      ]
     },
     "execution_count": 26,
     "metadata": {},
     "output_type": "execute_result"
    }
   ],
   "source": [
    "abs(-1.2)"
   ]
  },
  {
   "cell_type": "markdown",
   "id": "8de984f5-3479-40b7-a36a-7c79d8832c97",
   "metadata": {},
   "source": [
    "## all\n",
    "all(x)는 반복 가능한 데이터 x를 입력값으로 받으며 이 x의 요소가 모두 참이면 True, 거짓이 하나라도 있으면 False를 리턴한다.\n",
    "\n",
    "> 반복 가능한 데이터란 for 문에서 사용할 수 있는 자료형을 의미한다. 리스트, 튜플, 문자열, 딕셔너리, 집합 등이 있다.\n",
    "\n",
    "다음 예를 살펴보자."
   ]
  },
  {
   "cell_type": "code",
   "execution_count": 27,
   "id": "ae0c5956-b40d-4dbc-9189-b328d2e134c9",
   "metadata": {},
   "outputs": [
    {
     "data": {
      "text/plain": [
       "True"
      ]
     },
     "execution_count": 27,
     "metadata": {},
     "output_type": "execute_result"
    }
   ],
   "source": [
    "all([1, 2, 3])"
   ]
  },
  {
   "cell_type": "markdown",
   "id": "f892056b-44d6-44ba-ade4-eb6274f33ddf",
   "metadata": {},
   "source": [
    "리스트 [1, 2, 3]은 모든 요소가 참이므로 True를 리턴한다."
   ]
  },
  {
   "cell_type": "code",
   "execution_count": 28,
   "id": "6404a38a-cb28-42c7-bb80-5f04ee05b7a8",
   "metadata": {},
   "outputs": [
    {
     "data": {
      "text/plain": [
       "False"
      ]
     },
     "execution_count": 28,
     "metadata": {},
     "output_type": "execute_result"
    }
   ],
   "source": [
    "all([1, 2, 3, 0])"
   ]
  },
  {
   "cell_type": "markdown",
   "id": "80bd226e-8246-495e-924f-ff516b525d15",
   "metadata": {},
   "source": [
    "리스트 [1, 2, 3, 0] 중에서 요소 0은 거짓이므로 False를 리턴한다."
   ]
  },
  {
   "cell_type": "code",
   "execution_count": 29,
   "id": "d4ae8208-1ebe-40bc-a8c1-ff847f892ac6",
   "metadata": {},
   "outputs": [
    {
     "data": {
      "text/plain": [
       "True"
      ]
     },
     "execution_count": 29,
     "metadata": {},
     "output_type": "execute_result"
    }
   ],
   "source": [
    "all([])"
   ]
  },
  {
   "cell_type": "markdown",
   "id": "ab31d738-18aa-4c33-847c-0a96b8bba1b7",
   "metadata": {},
   "source": [
    "만약 all의 입력 인수가 빈 값인 경우에는 True를 리턴한다.\n",
    "\n",
    "> 자료형의 참과 거짓은 02-7을 참고하기 바란다.\n",
    "\n",
    "## any\n",
    "any(x)는 반복 가능한 데이터 x를 입력으로 받아 x의 요소 중 하나라도 참이 있으면 True를 리턴하고 x가 모두 거짓일 때만 False를 리턴한다. 즉, all(x)의 반대로 작동한다.\n",
    "\n",
    "다음 예를 살펴보자."
   ]
  },
  {
   "cell_type": "code",
   "execution_count": 30,
   "id": "0a368c5b-04f9-4735-bf8e-d9dbef2e5d1b",
   "metadata": {},
   "outputs": [
    {
     "data": {
      "text/plain": [
       "True"
      ]
     },
     "execution_count": 30,
     "metadata": {},
     "output_type": "execute_result"
    }
   ],
   "source": [
    "any([1, 2, 3, 0])"
   ]
  },
  {
   "cell_type": "markdown",
   "id": "fc4ad003-4ced-48a6-b1bf-62513009ea2f",
   "metadata": {},
   "source": [
    "리스트 [1, 2, 3, 0] 중에서 1, 2, 3이 참이므로 True를 리턴한다."
   ]
  },
  {
   "cell_type": "code",
   "execution_count": 31,
   "id": "c9468b33-a255-4ae3-a184-19e71e636667",
   "metadata": {},
   "outputs": [
    {
     "data": {
      "text/plain": [
       "False"
      ]
     },
     "execution_count": 31,
     "metadata": {},
     "output_type": "execute_result"
    }
   ],
   "source": [
    "any([0, \"\"])"
   ]
  },
  {
   "cell_type": "markdown",
   "id": "1366d768-d948-4aa8-8dda-5dbafb4de4a1",
   "metadata": {},
   "source": [
    "리스트 [0, \"\"]의 요소 0과 \"\"은 모두 거짓이므로 False를 리턴한다.\n",
    "\n"
   ]
  },
  {
   "cell_type": "code",
   "execution_count": 32,
   "id": "23ebeabf-7707-4c6b-bb20-0f541519f606",
   "metadata": {},
   "outputs": [
    {
     "data": {
      "text/plain": [
       "False"
      ]
     },
     "execution_count": 32,
     "metadata": {},
     "output_type": "execute_result"
    }
   ],
   "source": [
    "any([])"
   ]
  },
  {
   "cell_type": "markdown",
   "id": "9ba7c40f-96d0-4607-8c7c-23209247e2d4",
   "metadata": {},
   "source": [
    "만약 any의 입력 인수가 빈 값인 경우에는 False를 리턴한다."
   ]
  },
  {
   "cell_type": "markdown",
   "id": "559befde-ac53-4282-8333-82531ff6ec45",
   "metadata": {},
   "source": [
    "## divmod\n",
    "divmod(a, b)는 2개의 숫자 a, b를 입력으로 받는다. 그리고 a를 b로 나눈 몫과 나머지를 튜플로 리턴한다."
   ]
  },
  {
   "cell_type": "code",
   "execution_count": 33,
   "id": "5fd89131-2222-4081-b540-e9143cc4f075",
   "metadata": {},
   "outputs": [
    {
     "data": {
      "text/plain": [
       "(2, 1)"
      ]
     },
     "execution_count": 33,
     "metadata": {},
     "output_type": "execute_result"
    }
   ],
   "source": [
    "divmod(7, 3)"
   ]
  },
  {
   "cell_type": "markdown",
   "id": "1e5dbe8d-2aea-4ecc-ab93-7c1cab978116",
   "metadata": {},
   "source": [
    "몫을 구하는 연산자 //와 나머지를 구하는 연산자 %를 각각 사용한 결과와 비교해 보자.\n",
    "\n"
   ]
  },
  {
   "cell_type": "code",
   "execution_count": 34,
   "id": "75311fd0-6901-4104-aaf2-6f6c80e90579",
   "metadata": {},
   "outputs": [
    {
     "data": {
      "text/plain": [
       "(2, 1)"
      ]
     },
     "execution_count": 34,
     "metadata": {},
     "output_type": "execute_result"
    }
   ],
   "source": [
    "7 // 3, 7 % 3"
   ]
  },
  {
   "cell_type": "markdown",
   "id": "fc61b10f-36cb-43fa-9965-daabcf46c9b8",
   "metadata": {},
   "source": [
    "## enumerate\n",
    "enumerate는 ‘열거하다’라는 뜻이다. 이 함수는 순서가 있는 데이터(리스트, 튜플, 문자열)를 입력으로 받아 인덱스 값을 포함하는 enumerate 객체를 리턴한다.\n",
    "\n",
    "> 보통 enumerate 함수는 for 문과 함께 사용한다.\n",
    "\n",
    "다음 예를 살펴보자."
   ]
  },
  {
   "cell_type": "code",
   "execution_count": 35,
   "id": "d638d090-6eb8-4976-a8b7-6413ee0f24f1",
   "metadata": {},
   "outputs": [
    {
     "name": "stdout",
     "output_type": "stream",
     "text": [
      "0 body\n",
      "1 foo\n",
      "2 bar\n"
     ]
    }
   ],
   "source": [
    "for i, name in enumerate(['body', 'foo', 'bar']):\n",
    "    print(i, name)"
   ]
  },
  {
   "cell_type": "markdown",
   "id": "d3dc5ce7-532d-4562-a2b9-6a48990f96da",
   "metadata": {},
   "source": [
    "인덱스 값과 함께 body, foo, bar가 순서대로 출력되었다. 즉, enumerate를 for 문과 함께 사용하면 자료형의 현재 순서index와 그 값을 쉽게 알 수 있다.\n",
    "\n",
    "for 문처럼 반복되는 구간에서 객체가 현재 어느 위치에 있는지 알려 주는 인덱스 값이 필요할 때 enumerate 함수를 사용하면 매우 유용하다.\n",
    "\n",
    "## eval\n",
    "eval(expression)은 문자열로 구성된 표현식을 입력으로 받아 해당 문자열을 실행한 결괏값을 리턴하는 함수이다.\n",
    "\n"
   ]
  },
  {
   "cell_type": "code",
   "execution_count": 36,
   "id": "2e907a67-cbb7-4cbb-9011-4d5262614f74",
   "metadata": {},
   "outputs": [
    {
     "data": {
      "text/plain": [
       "3"
      ]
     },
     "execution_count": 36,
     "metadata": {},
     "output_type": "execute_result"
    }
   ],
   "source": [
    "eval('1+2')"
   ]
  },
  {
   "cell_type": "code",
   "execution_count": 37,
   "id": "871f2f95-5a3a-473b-8285-19c803d78720",
   "metadata": {},
   "outputs": [
    {
     "data": {
      "text/plain": [
       "'hia'"
      ]
     },
     "execution_count": 37,
     "metadata": {},
     "output_type": "execute_result"
    }
   ],
   "source": [
    "eval(\"'hi' + 'a'\")"
   ]
  },
  {
   "cell_type": "code",
   "execution_count": 38,
   "id": "09c69aca-a8ff-48ee-a749-c2f2fdb32185",
   "metadata": {},
   "outputs": [
    {
     "data": {
      "text/plain": [
       "(1, 1)"
      ]
     },
     "execution_count": 38,
     "metadata": {},
     "output_type": "execute_result"
    }
   ],
   "source": [
    "eval('divmod(4, 3)')"
   ]
  },
  {
   "cell_type": "markdown",
   "id": "a26e6e45-af22-4ede-a763-e54fcac9ccba",
   "metadata": {},
   "source": [
    "## filter\n",
    "filter란 ‘무엇인가를 걸러 낸다’라는 뜻으로, filter 함수도 이와 비슷한 기능을 한다.\n",
    "\n",
    "```python\n",
    "filter(함수, 반복_가능한_데이터)\n",
    "```\n",
    "\n",
    "filter 함수는 첫 번째 인수로 함수, 두 번째 인수로 그 함수에 차례로 들어갈 반복 가능한 데이터를 받는다. 그리고 반복 가능한 데이터의 요소 순서대로 함수를 호출했을 때 리턴값이 참인 것만 묶어서(걸러 내서) 리턴한다.\n",
    "\n",
    "다음 예를 살펴보자."
   ]
  },
  {
   "cell_type": "code",
   "execution_count": 39,
   "id": "f786b36c-88c0-4b9b-ad9a-3014776e1e97",
   "metadata": {},
   "outputs": [
    {
     "name": "stdout",
     "output_type": "stream",
     "text": [
      "[1, 2, 6]\n"
     ]
    }
   ],
   "source": [
    "def positive(l): \n",
    "    result = [] \n",
    "    for i in l: \n",
    "        if i > 0: \n",
    "            result.append(i) \n",
    "    return result\n",
    "\n",
    "print(positive([1,-3,2,0,-5,6]))"
   ]
  },
  {
   "cell_type": "markdown",
   "id": "2bb5aff0-e8b6-4434-a02e-a0952e2d15e7",
   "metadata": {},
   "source": [
    "위에서 만든 positive는 리스트를 입력으로 받아 각각의 요소를 판별해서 양수 값만 리턴하는 함수이다.\n",
    "\n",
    "filter 함수를 사용하면 위 내용을 다음과 같이 간단하게 작성할 수 있다."
   ]
  },
  {
   "cell_type": "code",
   "execution_count": 41,
   "id": "9f6fdd55-d320-430f-870b-7122a2742c09",
   "metadata": {},
   "outputs": [
    {
     "data": {
      "text/plain": [
       "[1, 2, 6]"
      ]
     },
     "execution_count": 41,
     "metadata": {},
     "output_type": "execute_result"
    }
   ],
   "source": [
    "def positive(x):\n",
    "    return x > 0\n",
    "\n",
    "list(filter(positive, [1, -3, 2, 0, -5, 6]))"
   ]
  },
  {
   "cell_type": "markdown",
   "id": "833534b7-bcbb-4185-8b2b-ae2abd0cae55",
   "metadata": {},
   "source": [
    "filter(positive, [1, -3, 2, 0, -5, 6])은 [1, -3, 2, 0, -5, 6]의 각 요솟값을 순서대로 positive 함수에 적용하여 리턴값이 참인 것만 묶어서 리턴한다. 즉, 1, 2, 6 요소만 x > 0 문장에 참이 되므로 [1, 2, 6]이라는 결괏값이 출력된다.\n",
    "\n",
    "> list 함수는 filter 함수의 리턴값을 리스트로 출력하기 위해 사용했다.\n",
    "\n",
    "이 예제는 lambda를 사용하면 더욱 간단해진다."
   ]
  },
  {
   "cell_type": "code",
   "execution_count": 42,
   "id": "054d087a-7a8b-4b63-8b48-8c754ce7d061",
   "metadata": {},
   "outputs": [
    {
     "data": {
      "text/plain": [
       "[1, 2, 6]"
      ]
     },
     "execution_count": 42,
     "metadata": {},
     "output_type": "execute_result"
    }
   ],
   "source": [
    "list(filter(lambda x: x>0, [1, -3, 2, 0, -5, 6]))"
   ]
  },
  {
   "cell_type": "markdown",
   "id": "02916b91-479c-43aa-b084-07a4788f4d24",
   "metadata": {},
   "source": [
    "### 예제\n",
    "- 다음 리스트에서 300보다 큰 값을 찾아 새로운 리스트로 만들어라"
   ]
  },
  {
   "cell_type": "code",
   "execution_count": 111,
   "id": "8fbd0cc2-a9a4-4984-8ecd-e587ad264a63",
   "metadata": {},
   "outputs": [
    {
     "data": {
      "text/plain": [
       "[400, 500]"
      ]
     },
     "execution_count": 111,
     "metadata": {},
     "output_type": "execute_result"
    }
   ],
   "source": [
    "numbers = [100, 200, 300, 400, 500]\n"
   ]
  },
  {
   "cell_type": "markdown",
   "id": "e26804c4-1971-4b5d-bdc3-20b8a7b76ac9",
   "metadata": {},
   "source": [
    "## id\n",
    "id(object)는 객체를 입력받아 객체의 고유 주솟값(레퍼런스)을 리턴하는 함수이다."
   ]
  },
  {
   "cell_type": "code",
   "execution_count": 43,
   "id": "d2749607-34e0-49e1-b5b7-23aa48dab54c",
   "metadata": {},
   "outputs": [
    {
     "data": {
      "text/plain": [
       "131463438123312"
      ]
     },
     "execution_count": 43,
     "metadata": {},
     "output_type": "execute_result"
    }
   ],
   "source": [
    "a = 3\n",
    "id(3)"
   ]
  },
  {
   "cell_type": "code",
   "execution_count": 44,
   "id": "e3170080-c0f7-46ff-8dda-8403b1499c45",
   "metadata": {},
   "outputs": [
    {
     "data": {
      "text/plain": [
       "131463438123312"
      ]
     },
     "execution_count": 44,
     "metadata": {},
     "output_type": "execute_result"
    }
   ],
   "source": [
    "id(a)"
   ]
  },
  {
   "cell_type": "code",
   "execution_count": 45,
   "id": "712dc2b3-afd1-44cb-b7db-9b54364df924",
   "metadata": {},
   "outputs": [
    {
     "data": {
      "text/plain": [
       "131463438123312"
      ]
     },
     "execution_count": 45,
     "metadata": {},
     "output_type": "execute_result"
    }
   ],
   "source": [
    "b = a\n",
    "id(b)"
   ]
  },
  {
   "cell_type": "markdown",
   "id": "29efa3c2-adfe-42d2-8c22-aeaa24f89bda",
   "metadata": {},
   "source": [
    "## input\n",
    "input([prompt])는 사용자 입력을 받는 함수이다. 입력 인수로 문자열을 전달하면 그 문자열은 프롬프트가 된다.\n",
    "\n",
    "> []는 괄호 안의 내용을 생략할 수 있다는 관례 표기법이라는 것을 기억하자."
   ]
  },
  {
   "cell_type": "code",
   "execution_count": 46,
   "id": "c39c2f35-0bdd-4bfe-a74d-3f22792f2b01",
   "metadata": {},
   "outputs": [
    {
     "name": "stdin",
     "output_type": "stream",
     "text": [
      " hi\n"
     ]
    }
   ],
   "source": [
    "a = input()"
   ]
  },
  {
   "cell_type": "code",
   "execution_count": 47,
   "id": "6524e17e-17d8-4a0d-8f0d-04dd0aea7074",
   "metadata": {},
   "outputs": [
    {
     "data": {
      "text/plain": [
       "'hi'"
      ]
     },
     "execution_count": 47,
     "metadata": {},
     "output_type": "execute_result"
    }
   ],
   "source": [
    "a"
   ]
  },
  {
   "cell_type": "code",
   "execution_count": 48,
   "id": "84db44bf-5b68-43b0-82a1-ed94b06a29c8",
   "metadata": {},
   "outputs": [
    {
     "name": "stdin",
     "output_type": "stream",
     "text": [
      "Enter:  hi\n"
     ]
    }
   ],
   "source": [
    "b = input(\"Enter: \")"
   ]
  },
  {
   "cell_type": "code",
   "execution_count": 49,
   "id": "2033a972-3d9a-4d72-8d28-10ca49749bc2",
   "metadata": {},
   "outputs": [
    {
     "data": {
      "text/plain": [
       "'hi'"
      ]
     },
     "execution_count": 49,
     "metadata": {},
     "output_type": "execute_result"
    }
   ],
   "source": [
    "b"
   ]
  },
  {
   "cell_type": "markdown",
   "id": "0d35350c-2ebd-40d2-a91c-1ac91391ebc5",
   "metadata": {},
   "source": [
    "## int\n",
    "int(x)는 문자열 형태의 숫자나 소수점이 있는 숫자를 정수로 리턴하는 함수이다. 만약 정수가 입력되면 그대로 리턴한다."
   ]
  },
  {
   "cell_type": "code",
   "execution_count": 50,
   "id": "277e58e4-0eff-4250-895a-c4cedd67b10a",
   "metadata": {},
   "outputs": [
    {
     "data": {
      "text/plain": [
       "3"
      ]
     },
     "execution_count": 50,
     "metadata": {},
     "output_type": "execute_result"
    }
   ],
   "source": [
    "int('3')"
   ]
  },
  {
   "cell_type": "code",
   "execution_count": 51,
   "id": "9978d952-d550-4990-9a49-15125abb2477",
   "metadata": {},
   "outputs": [
    {
     "data": {
      "text/plain": [
       "3"
      ]
     },
     "execution_count": 51,
     "metadata": {},
     "output_type": "execute_result"
    }
   ],
   "source": [
    "int(3.4)"
   ]
  },
  {
   "cell_type": "markdown",
   "id": "2ebc8348-4aca-49be-a353-7282ecc2ad12",
   "metadata": {},
   "source": [
    "## len\n",
    "len(s)는 입력값 s의 길이(요소의 전체 개수)를 리턴하는 함수이다."
   ]
  },
  {
   "cell_type": "code",
   "execution_count": 52,
   "id": "d28a2ec1-a102-4c58-be2e-ec22b1e633d7",
   "metadata": {},
   "outputs": [
    {
     "data": {
      "text/plain": [
       "6"
      ]
     },
     "execution_count": 52,
     "metadata": {},
     "output_type": "execute_result"
    }
   ],
   "source": [
    "len(\"python\")"
   ]
  },
  {
   "cell_type": "code",
   "execution_count": 53,
   "id": "c71c7444-33e7-4c4d-8287-45ac92bf4f24",
   "metadata": {},
   "outputs": [
    {
     "data": {
      "text/plain": [
       "3"
      ]
     },
     "execution_count": 53,
     "metadata": {},
     "output_type": "execute_result"
    }
   ],
   "source": [
    "len([1,2,3])"
   ]
  },
  {
   "cell_type": "code",
   "execution_count": 54,
   "id": "3f940819-38ee-4844-b0eb-8fc2cdb937fd",
   "metadata": {},
   "outputs": [
    {
     "data": {
      "text/plain": [
       "2"
      ]
     },
     "execution_count": 54,
     "metadata": {},
     "output_type": "execute_result"
    }
   ],
   "source": [
    "len((1, 'a'))"
   ]
  },
  {
   "cell_type": "markdown",
   "id": "82c93496-d55c-4d7e-a62e-063f8802d80e",
   "metadata": {},
   "source": [
    "## list\n",
    "list(iterable)은 반복 가능한 데이터를 입력받아 리스트로 만들어 리턴하는 함수이다."
   ]
  },
  {
   "cell_type": "code",
   "execution_count": 55,
   "id": "56fbb6c5-2ccc-4cee-ad39-52903dcf388c",
   "metadata": {},
   "outputs": [
    {
     "data": {
      "text/plain": [
       "['p', 'y', 't', 'h', 'o', 'n']"
      ]
     },
     "execution_count": 55,
     "metadata": {},
     "output_type": "execute_result"
    }
   ],
   "source": [
    "list(\"python\")"
   ]
  },
  {
   "cell_type": "code",
   "execution_count": 56,
   "id": "b7e29071-89ff-41ae-ab38-d602a4903436",
   "metadata": {},
   "outputs": [
    {
     "data": {
      "text/plain": [
       "[1, 2, 3]"
      ]
     },
     "execution_count": 56,
     "metadata": {},
     "output_type": "execute_result"
    }
   ],
   "source": [
    "list((1,2,3))"
   ]
  },
  {
   "cell_type": "markdown",
   "id": "3e248148-3fe6-402b-aa10-62d2d138c5ac",
   "metadata": {},
   "source": [
    "list 함수에 리스트를 입력하면 똑같은 리스트를 복사하여 리턴한다."
   ]
  },
  {
   "cell_type": "code",
   "execution_count": 57,
   "id": "09171bdc-3efc-4403-9f79-0a1a5b57a889",
   "metadata": {},
   "outputs": [
    {
     "data": {
      "text/plain": [
       "[1, 2, 3]"
      ]
     },
     "execution_count": 57,
     "metadata": {},
     "output_type": "execute_result"
    }
   ],
   "source": [
    "a = [1, 2, 3]\n",
    "b = list(a)\n",
    "b"
   ]
  },
  {
   "cell_type": "markdown",
   "id": "121440da-c7e5-4725-809e-7d0cb372eb31",
   "metadata": {},
   "source": [
    "## map\n",
    "map(f, iterable)은 함수(f)와 반복 가능한 데이터를 입력으로 받는다. map은 입력받은 데이터의 각 요소에 함수 f를 적용한 결과를 리턴하는 함수이다.\n",
    "\n",
    "다음 예를 살펴보자.\n",
    "\n"
   ]
  },
  {
   "cell_type": "code",
   "execution_count": 58,
   "id": "3ae51b80-24cd-49ac-bb43-b23bff7a2a3d",
   "metadata": {},
   "outputs": [
    {
     "name": "stdout",
     "output_type": "stream",
     "text": [
      "[2, 4, 6, 8]\n"
     ]
    }
   ],
   "source": [
    "def two_times(numberList):\n",
    "    result = []\n",
    "    for number in numberList:\n",
    "        result.append(number*2)\n",
    "    return result\n",
    "\n",
    "result = two_times([1, 2, 3, 4])\n",
    "print(result)"
   ]
  },
  {
   "cell_type": "markdown",
   "id": "698d6373-2a4f-419c-b66d-6db6916205ab",
   "metadata": {},
   "source": [
    "two_times는 리스트를 입력받아 리스트의 각 요소에 2를 곱해 리턴하는 함수이다. 실행 결과는 위와 같다.\n",
    "\n",
    "위 예제는 map 함수를 사용하여 다음처럼 바꿀 수 있다.\n"
   ]
  },
  {
   "cell_type": "code",
   "execution_count": 59,
   "id": "2b6b8128-7285-46bf-af53-541ab3b25fbc",
   "metadata": {},
   "outputs": [
    {
     "data": {
      "text/plain": [
       "[2, 4, 6, 8]"
      ]
     },
     "execution_count": 59,
     "metadata": {},
     "output_type": "execute_result"
    }
   ],
   "source": [
    "def two_times(x): \n",
    "    return x*2\n",
    "\n",
    "list(map(two_times, [1, 2, 3, 4]))"
   ]
  },
  {
   "cell_type": "markdown",
   "id": "08beb46b-3bfe-4e30-866c-63b4c88ba0d9",
   "metadata": {},
   "source": [
    "이 예제를 해석해 보자. 먼저 리스트의 첫 번째 요소인 1이 two_times 함수의 입력값으로 들어가고 1 * 2의 과정을 거쳐서 2가 된다. 다음으로 리스트의 두 번째 요소인 2가 2 * 2의 과정을 거쳐 4가 된다. 따라서 결괏값은 이제 [2, 4]가 된다. 총 4개의 요솟값이 모두 수행되면 [2, 4, 6, 8]이 된다. 이것이 map 함수가 하는 일이다.\n",
    "\n",
    "> map 함수의 결과를 리스트로 출력하기 위해 list 함수를 사용했다. map 함수는 map 객체를 리턴한다.\n",
    "\n",
    "앞의 예는 lambda를 사용하여 다음처럼 간략하게 만들 수 있다."
   ]
  },
  {
   "cell_type": "code",
   "execution_count": 60,
   "id": "2f6256e0-77be-41ea-aa59-3473815884df",
   "metadata": {},
   "outputs": [
    {
     "data": {
      "text/plain": [
       "[2, 4, 6, 8]"
      ]
     },
     "execution_count": 60,
     "metadata": {},
     "output_type": "execute_result"
    }
   ],
   "source": [
    "list(map(lambda a: a*2, [1, 2, 3, 4]))"
   ]
  },
  {
   "cell_type": "markdown",
   "id": "612796be-dcc8-4b14-9469-44922acc10a8",
   "metadata": {},
   "source": [
    "## max\n",
    "max(iterable)은 인수로 반복 가능한 데이터를 입력받아 그 최댓값을 리턴하는 함수이다."
   ]
  },
  {
   "cell_type": "code",
   "execution_count": 61,
   "id": "b5f3f137-7cbf-41fb-ba46-0b14fafe2b2f",
   "metadata": {},
   "outputs": [
    {
     "data": {
      "text/plain": [
       "3"
      ]
     },
     "execution_count": 61,
     "metadata": {},
     "output_type": "execute_result"
    }
   ],
   "source": [
    "max([1, 2, 3])"
   ]
  },
  {
   "cell_type": "code",
   "execution_count": 62,
   "id": "f7e52591-cf5b-45f3-bc64-73b25e31f85d",
   "metadata": {},
   "outputs": [
    {
     "data": {
      "text/plain": [
       "'y'"
      ]
     },
     "execution_count": 62,
     "metadata": {},
     "output_type": "execute_result"
    }
   ],
   "source": [
    "max(\"python\")"
   ]
  },
  {
   "cell_type": "markdown",
   "id": "353594b1-e48d-4fd7-94b2-98bbfe12171f",
   "metadata": {},
   "source": [
    "## min\n",
    "min(iterable)은 max 함수와 반대로, 인수로 반복 가능한 데이터를 입력받아 그 최솟값을 리턴하는 함수이다."
   ]
  },
  {
   "cell_type": "code",
   "execution_count": 63,
   "id": "220836bc-eba9-40a7-8a33-4744933a30ec",
   "metadata": {},
   "outputs": [
    {
     "data": {
      "text/plain": [
       "1"
      ]
     },
     "execution_count": 63,
     "metadata": {},
     "output_type": "execute_result"
    }
   ],
   "source": [
    "min([1, 2, 3])"
   ]
  },
  {
   "cell_type": "code",
   "execution_count": 64,
   "id": "30adcf94-dfea-4431-9f19-bbe9c6ca3de5",
   "metadata": {},
   "outputs": [
    {
     "data": {
      "text/plain": [
       "'h'"
      ]
     },
     "execution_count": 64,
     "metadata": {},
     "output_type": "execute_result"
    }
   ],
   "source": [
    "min(\"python\")"
   ]
  },
  {
   "cell_type": "markdown",
   "id": "3f6a20a0-68c9-46d6-8cb6-8ecb556afbd9",
   "metadata": {},
   "source": [
    "## range\n",
    "range([start,] stop [,step])은 for 문과 함께 자주 사용하는 함수이다. 이 함수는 입력받은 숫자에 해당하는 범위 값을 반복 가능한 객체로 만들어 리턴한다.\n",
    "\n",
    "### 인수가 하나일 경우\n",
    "시작 숫자를 지정해 주지 않으면 range 함수는 0부터 시작한다."
   ]
  },
  {
   "cell_type": "code",
   "execution_count": 65,
   "id": "2e093664-c307-4043-9788-eb72657d069c",
   "metadata": {},
   "outputs": [
    {
     "data": {
      "text/plain": [
       "[0, 1, 2, 3, 4]"
      ]
     },
     "execution_count": 65,
     "metadata": {},
     "output_type": "execute_result"
    }
   ],
   "source": [
    "list(range(5))"
   ]
  },
  {
   "cell_type": "markdown",
   "id": "5bb9a1e0-773b-4651-89eb-df8fde9987f4",
   "metadata": {},
   "source": [
    "### 인수가 2개일 경우\n",
    "입력으로 주어지는 2개의 인수는 시작 숫자와 끝 숫자를 나타낸다. 단, 끝 숫자는 해당 범위에 포함되지 않는다는 것에 주의하자."
   ]
  },
  {
   "cell_type": "code",
   "execution_count": 66,
   "id": "84cfa35a-1cee-4656-904a-dbda1dc734b5",
   "metadata": {},
   "outputs": [
    {
     "data": {
      "text/plain": [
       "[5, 6, 7, 8, 9]"
      ]
     },
     "execution_count": 66,
     "metadata": {},
     "output_type": "execute_result"
    }
   ],
   "source": [
    "list(range(5, 10))"
   ]
  },
  {
   "cell_type": "markdown",
   "id": "26979d6e-8937-4c08-afab-35f22c373d8d",
   "metadata": {},
   "source": [
    "### 인수가 3개일 경우\n",
    "세 번째 인수는 숫자 사이의 거리를 말한다."
   ]
  },
  {
   "cell_type": "code",
   "execution_count": 67,
   "id": "093ba071-a5dd-48f8-b388-75bc9bb22777",
   "metadata": {},
   "outputs": [
    {
     "data": {
      "text/plain": [
       "[1, 3, 5, 7, 9]"
      ]
     },
     "execution_count": 67,
     "metadata": {},
     "output_type": "execute_result"
    }
   ],
   "source": [
    "list(range(1, 10, 2))"
   ]
  },
  {
   "cell_type": "code",
   "execution_count": 68,
   "id": "e2e5bffc-54e5-4151-ad51-ac095fbd69f6",
   "metadata": {},
   "outputs": [
    {
     "data": {
      "text/plain": [
       "[0, -1, -2, -3, -4, -5, -6, -7, -8, -9]"
      ]
     },
     "execution_count": 68,
     "metadata": {},
     "output_type": "execute_result"
    }
   ],
   "source": [
    "list(range(0, -10, -1))"
   ]
  },
  {
   "cell_type": "markdown",
   "id": "f09b5ca3-e55c-4a59-862a-e4c20875657f",
   "metadata": {},
   "source": [
    "## round\n",
    "round(number [,ndigits])는 숫자를 입력받아 반올림해 리턴하는 함수이다.\n",
    "\n",
    "> [,ndigits]는 ndigits가 있을 수도 있고, 없을 수도 있다는 의미이다."
   ]
  },
  {
   "cell_type": "code",
   "execution_count": 69,
   "id": "18705546-31e3-4a71-af52-e0abac70ec8a",
   "metadata": {},
   "outputs": [
    {
     "data": {
      "text/plain": [
       "5"
      ]
     },
     "execution_count": 69,
     "metadata": {},
     "output_type": "execute_result"
    }
   ],
   "source": [
    "round(4.6)"
   ]
  },
  {
   "cell_type": "code",
   "execution_count": 70,
   "id": "ec7e79d9-1979-43ca-95eb-13b8d436ba0b",
   "metadata": {},
   "outputs": [
    {
     "data": {
      "text/plain": [
       "4"
      ]
     },
     "execution_count": 70,
     "metadata": {},
     "output_type": "execute_result"
    }
   ],
   "source": [
    "round(4.2)"
   ]
  },
  {
   "cell_type": "markdown",
   "id": "9eb858fa-2e5e-4752-a666-69c12e56279c",
   "metadata": {},
   "source": [
    "다음과 같이 실수 5.678을 소수점 2자리까지만 반올림하여 표시할 수 있다."
   ]
  },
  {
   "cell_type": "code",
   "execution_count": 71,
   "id": "3dc8f3d8-49ef-4d58-842d-43729af703c7",
   "metadata": {},
   "outputs": [
    {
     "data": {
      "text/plain": [
       "5.68"
      ]
     },
     "execution_count": 71,
     "metadata": {},
     "output_type": "execute_result"
    }
   ],
   "source": [
    "round(5.678, 2)"
   ]
  },
  {
   "cell_type": "markdown",
   "id": "02e79d9c-cd60-46b6-8201-f3b3c51748d3",
   "metadata": {},
   "source": [
    "round 함수의 두 번째 인수는 반올림하여 표시하고 싶은 소수점의 자릿수(ndigits)를 의미한다.\n",
    "\n",
    "## sorted\n",
    "sorted(iterable)는 입력 데이터를 정렬한 후 그 결과를 리스트로 리턴하는 함수이다"
   ]
  },
  {
   "cell_type": "code",
   "execution_count": 72,
   "id": "bb62c371-dd99-4f5a-b6af-02d0ae61686a",
   "metadata": {},
   "outputs": [
    {
     "data": {
      "text/plain": [
       "[1, 2, 3]"
      ]
     },
     "execution_count": 72,
     "metadata": {},
     "output_type": "execute_result"
    }
   ],
   "source": [
    "sorted([3, 1, 2])"
   ]
  },
  {
   "cell_type": "code",
   "execution_count": 73,
   "id": "818a1e57-2588-4332-9df4-e8d17ae98d0f",
   "metadata": {},
   "outputs": [
    {
     "data": {
      "text/plain": [
       "['a', 'b', 'c']"
      ]
     },
     "execution_count": 73,
     "metadata": {},
     "output_type": "execute_result"
    }
   ],
   "source": [
    "sorted(['a', 'c', 'b'])"
   ]
  },
  {
   "cell_type": "code",
   "execution_count": 74,
   "id": "77e85d40-6cc5-434c-8411-04ece5a1617a",
   "metadata": {},
   "outputs": [
    {
     "data": {
      "text/plain": [
       "['e', 'o', 'r', 'z']"
      ]
     },
     "execution_count": 74,
     "metadata": {},
     "output_type": "execute_result"
    }
   ],
   "source": [
    "sorted(\"zero\")"
   ]
  },
  {
   "cell_type": "code",
   "execution_count": 75,
   "id": "270f2bd7-29b8-4b28-8983-bb292813ab6a",
   "metadata": {},
   "outputs": [
    {
     "data": {
      "text/plain": [
       "[1, 2, 3]"
      ]
     },
     "execution_count": 75,
     "metadata": {},
     "output_type": "execute_result"
    }
   ],
   "source": [
    "sorted((3, 2, 1))"
   ]
  },
  {
   "cell_type": "markdown",
   "id": "fcbb2460-a2bd-46a7-8690-91322710cb43",
   "metadata": {},
   "source": [
    "리스트 자료형에도 sort 함수가 있다. 하지만 리스트 자료형의 sort 함수는 리스트 객체 그 자체를 정렬만 할 뿐, 정렬된 결과를 리턴하지는 않는다.\n",
    "\n",
    "## str\n",
    "str(object)는 문자열 형태로 객체를 변환하여 리턴하는 함수이다."
   ]
  },
  {
   "cell_type": "code",
   "execution_count": 76,
   "id": "f91090bb-2916-416f-9bed-9185aa3c8737",
   "metadata": {},
   "outputs": [
    {
     "data": {
      "text/plain": [
       "'3'"
      ]
     },
     "execution_count": 76,
     "metadata": {},
     "output_type": "execute_result"
    }
   ],
   "source": [
    "str(3)"
   ]
  },
  {
   "cell_type": "code",
   "execution_count": 77,
   "id": "eb8ca783-f594-40ba-b204-6c96195e6aa7",
   "metadata": {},
   "outputs": [
    {
     "data": {
      "text/plain": [
       "'hi'"
      ]
     },
     "execution_count": 77,
     "metadata": {},
     "output_type": "execute_result"
    }
   ],
   "source": [
    "str('hi')"
   ]
  },
  {
   "cell_type": "markdown",
   "id": "4b83870b-8af0-4f0d-b8c5-b7d20bbb2952",
   "metadata": {},
   "source": [
    "### str.upper()\n",
    "소문자를 대문자로 바꾸는 함수"
   ]
  },
  {
   "cell_type": "code",
   "execution_count": 89,
   "id": "792f1177-0955-42e2-8304-7c00f17dcf38",
   "metadata": {},
   "outputs": [
    {
     "data": {
      "text/plain": [
       "'HI'"
      ]
     },
     "execution_count": 89,
     "metadata": {},
     "output_type": "execute_result"
    }
   ],
   "source": [
    "str.upper('hi')"
   ]
  },
  {
   "cell_type": "markdown",
   "id": "21520d3c-68eb-4d9b-b863-4901dbbc507f",
   "metadata": {},
   "source": [
    "## sum\n",
    "sum(iterable)은 입력 데이터의 합을 리턴하는 함수이다.\n",
    "\n"
   ]
  },
  {
   "cell_type": "code",
   "execution_count": 78,
   "id": "5b77a2a3-54bd-49b0-ab96-befc5874ed29",
   "metadata": {},
   "outputs": [
    {
     "data": {
      "text/plain": [
       "6"
      ]
     },
     "execution_count": 78,
     "metadata": {},
     "output_type": "execute_result"
    }
   ],
   "source": [
    "sum([1,2,3])"
   ]
  },
  {
   "cell_type": "code",
   "execution_count": 80,
   "id": "1c58792e-06da-4578-a428-561445dd213b",
   "metadata": {},
   "outputs": [
    {
     "data": {
      "text/plain": [
       "15"
      ]
     },
     "execution_count": 80,
     "metadata": {},
     "output_type": "execute_result"
    }
   ],
   "source": [
    "sum((4,5,6))"
   ]
  },
  {
   "cell_type": "markdown",
   "id": "3c679d8f-aa99-4aa5-aba2-e9cf07e3110d",
   "metadata": {},
   "source": [
    "### 예제\n",
    "다음 리스트의 [1, 2, 3, 4, 5, 6, 7, 8, 9] 평균을 구하라"
   ]
  },
  {
   "cell_type": "code",
   "execution_count": 115,
   "id": "91d4876f-41f3-4a9e-aac5-4e0344544359",
   "metadata": {},
   "outputs": [
    {
     "data": {
      "text/plain": [
       "5.0"
      ]
     },
     "execution_count": 115,
     "metadata": {},
     "output_type": "execute_result"
    }
   ],
   "source": [
    "a = [1, 2, 3, 4, 5, 6, 7, 8, 9]\n"
   ]
  },
  {
   "cell_type": "markdown",
   "id": "b98cabec-6190-4724-9003-3aa99998fece",
   "metadata": {},
   "source": [
    "## zip\n",
    "zip(*iterable)은 동일한 개수로 이루어진 데이터들을 묶어서 리턴하는 함수이다.\n",
    "\n",
    "> 여기서 사용한 *iterable은 반복 가능한 데이터를 여러 개 입력할 수 있다는 의미이다.\n",
    "\n",
    "다음 예제로 사용법을 확인해 보자."
   ]
  },
  {
   "cell_type": "code",
   "execution_count": 81,
   "id": "ab1e5196-3cf3-42b1-85ef-e9f0aa7c5fe5",
   "metadata": {},
   "outputs": [
    {
     "data": {
      "text/plain": [
       "[(1, 4), (2, 5), (3, 6)]"
      ]
     },
     "execution_count": 81,
     "metadata": {},
     "output_type": "execute_result"
    }
   ],
   "source": [
    "list(zip([1, 2, 3], [4, 5, 6]))"
   ]
  },
  {
   "cell_type": "code",
   "execution_count": 82,
   "id": "e5483387-590f-49b1-b753-df6de146df90",
   "metadata": {},
   "outputs": [
    {
     "data": {
      "text/plain": [
       "[(1, 4, 7), (2, 5, 8), (3, 6, 9)]"
      ]
     },
     "execution_count": 82,
     "metadata": {},
     "output_type": "execute_result"
    }
   ],
   "source": [
    "list(zip([1, 2, 3], [4, 5, 6], [7, 8, 9]))"
   ]
  },
  {
   "cell_type": "code",
   "execution_count": 83,
   "id": "23e85179-09a8-4f21-b3ff-8f45f897a221",
   "metadata": {},
   "outputs": [
    {
     "data": {
      "text/plain": [
       "[('a', 'd'), ('b', 'e'), ('c', 'f')]"
      ]
     },
     "execution_count": 83,
     "metadata": {},
     "output_type": "execute_result"
    }
   ],
   "source": [
    "list(zip(\"abc\", \"def\"))"
   ]
  },
  {
   "cell_type": "markdown",
   "id": "b16e1fd8-95ea-48d2-87d5-99250d86efcc",
   "metadata": {},
   "source": [
    "for 와 함께 쓰이는 경우가 많다."
   ]
  },
  {
   "cell_type": "code",
   "execution_count": 85,
   "id": "ba1fbcb6-f57a-472d-8d52-440f956feede",
   "metadata": {},
   "outputs": [
    {
     "name": "stdout",
     "output_type": "stream",
     "text": [
      "a 4\n",
      "b 5\n",
      "c 6\n"
     ]
    }
   ],
   "source": [
    "for k, v in zip(['a', 'b', 'c'], [4, 5, 6]):\n",
    "    print(k, v)"
   ]
  },
  {
   "cell_type": "markdown",
   "id": "726d7019-cb1e-46f5-bbb8-58d5913b0dc2",
   "metadata": {},
   "source": [
    "## math.sqrt\n",
    "숫자의 제곱근을 구하는 함수"
   ]
  },
  {
   "cell_type": "code",
   "execution_count": 93,
   "id": "58dbe30d-c354-439e-b563-e4419627a2e6",
   "metadata": {},
   "outputs": [
    {
     "data": {
      "text/plain": [
       "2.0"
      ]
     },
     "execution_count": 93,
     "metadata": {},
     "output_type": "execute_result"
    }
   ],
   "source": [
    "import math\n",
    "\n",
    "math.sqrt(4)"
   ]
  },
  {
   "cell_type": "code",
   "execution_count": 94,
   "id": "8ea49e5d-bb3d-4aa2-9cd6-a5b1d0d27011",
   "metadata": {},
   "outputs": [
    {
     "data": {
      "text/plain": [
       "3.0"
      ]
     },
     "execution_count": 94,
     "metadata": {},
     "output_type": "execute_result"
    }
   ],
   "source": [
    "math.sqrt(9)"
   ]
  },
  {
   "cell_type": "code",
   "execution_count": 95,
   "id": "856808a3-44c4-477e-8d26-3bc2d9d26e62",
   "metadata": {},
   "outputs": [],
   "source": [
    "from math import sqrt"
   ]
  },
  {
   "cell_type": "code",
   "execution_count": 96,
   "id": "539686db-3633-45ae-82c4-c53cfe7605d2",
   "metadata": {},
   "outputs": [
    {
     "data": {
      "text/plain": [
       "4.0"
      ]
     },
     "execution_count": 96,
     "metadata": {},
     "output_type": "execute_result"
    }
   ],
   "source": [
    "sqrt(16)"
   ]
  },
  {
   "cell_type": "markdown",
   "id": "ded51f1d-e62d-4b66-8e88-1ac3b9358794",
   "metadata": {},
   "source": [
    "# 문제"
   ]
  },
  {
   "cell_type": "markdown",
   "id": "b9e04ded-5c54-4a89-8c2a-26352b068d3a",
   "metadata": {},
   "source": [
    "### 문제 1\n",
    "- **문제**: 리스트 `['hello', 'world', 'python', 'is', 'fun']`에서 문자열의 길이가 4 이상인 단어들을 대문자로 변환하여 리스트로 출력하는 코드를 작성하세요."
   ]
  },
  {
   "cell_type": "code",
   "execution_count": 90,
   "id": "b395e0f9-7897-4b8f-9be5-dc775e2d8687",
   "metadata": {},
   "outputs": [
    {
     "name": "stdout",
     "output_type": "stream",
     "text": [
      "['HELLO', 'WORLD', 'PYTHON']\n"
     ]
    }
   ],
   "source": [
    "words = ['hello', 'world', 'python', 'is', 'fun']\n",
    "long_words = filter(lambda x: len(x) >= 4, words)\n",
    "upper_words = list(map(, long_words))\n",
    "print(upper_words)  # 출력: ['HELLO', 'WORLD', 'PYTHON']"
   ]
  },
  {
   "cell_type": "markdown",
   "id": "d947dc91-b6fb-4c36-b620-10f2b462675c",
   "metadata": {},
   "source": [
    "\n",
    "\n",
    "### 문제 2\n",
    "- **문제**: 두 리스트 `[10, 20, 30]`과 `[1, 2, 3]`의 각 요소의 곱을 구하고 그 결과를 리스트로 출력하는 코드를 작성하세요.\n",
    "- **답**:"
   ]
  },
  {
   "cell_type": "code",
   "execution_count": 101,
   "id": "7d80cdb4-cb99-439a-b290-9472476f7b7f",
   "metadata": {},
   "outputs": [
    {
     "name": "stdout",
     "output_type": "stream",
     "text": [
      "[10, 40, 90]\n"
     ]
    }
   ],
   "source": [
    "list1 = [10, 20, 30]\n",
    "list2 = [1, 2, 3]\n",
    "products = list(map(, list1, list2))\n",
    "print(products)  # 출력: [10, 40, 90]"
   ]
  },
  {
   "cell_type": "markdown",
   "id": "e0ae5773-726c-4b0b-921d-1b83280b23d5",
   "metadata": {},
   "source": [
    "### 문제 3\n",
    "- **문제**: 리스트 `[4, 9, 16, 25, 36]`의 요소들을 제곱근으로 변환하고, 그 결과를 정렬하여 리스트로 출력하는 코드를 작성하세요.\n",
    "- **힌트**: 제곱근 구하는 함수는 math.sqrt\n",
    "- **답**:"
   ]
  },
  {
   "cell_type": "code",
   "execution_count": 100,
   "id": "7b774307-1b51-46d6-93da-bd383254c3c6",
   "metadata": {},
   "outputs": [
    {
     "name": "stdout",
     "output_type": "stream",
     "text": [
      "[2.0, 3.0, 4.0, 5.0, 6.0]\n"
     ]
    }
   ],
   "source": [
    "import math\n",
    "numbers = [4, 9, 16, 25, 36]\n",
    "sqrt_numbers = list(map(, numbers))\n",
    "sorted_sqrt_numbers = sorted(sqrt_numbers)\n",
    "print(sorted_sqrt_numbers)  # 출력: [2.0, 3.0, 4.0, 5.0, 6.0]"
   ]
  },
  {
   "cell_type": "markdown",
   "id": "929f5622-4c7e-4c34-bd25-d402ee450fe1",
   "metadata": {},
   "source": [
    "### 문제 4\n",
    "- **문제**: 문자열 리스트 `['123', '456', '789']`에서 각 문자열을 정수로 변환한 후, 각 정수의 제곱을 구하여 리스트로 출력하는 코드를 작성하세요.\n",
    "- **답**:"
   ]
  },
  {
   "cell_type": "code",
   "execution_count": 99,
   "id": "d4e63415-cc7e-4bce-ac75-a0dc04d4f77a",
   "metadata": {},
   "outputs": [
    {
     "name": "stdout",
     "output_type": "stream",
     "text": [
      "[15129, 207936, 622521]\n"
     ]
    }
   ],
   "source": [
    "str_numbers = ['123', '456', '789']\n",
    "int_numbers = list()\n",
    "squared_numbers = list(map(lambda x: x ** 2, int_numbers))\n",
    "print(squared_numbers)  # 출력: [15129, 207936, 622521]"
   ]
  },
  {
   "cell_type": "markdown",
   "id": "8e8795dd-ef9c-4b1b-80a1-494ff6b083ca",
   "metadata": {},
   "source": [
    "### 문제 5\n",
    "- **문제**: 두 리스트 `[3, 6, 9]`과 `[2, 4, 6]`의 요소별로 나눈 몫을 구하고, 각 몫의 합을 출력하는 코드를 작성하세요.\n",
    "- **답**:"
   ]
  },
  {
   "cell_type": "code",
   "execution_count": 102,
   "id": "8e721f91-a54c-4c28-b494-f5b22e266258",
   "metadata": {},
   "outputs": [
    {
     "name": "stdout",
     "output_type": "stream",
     "text": [
      "3\n"
     ]
    }
   ],
   "source": [
    "list1 = [3, 6, 9]\n",
    "list2 = [2, 4, 6]\n",
    "quotients = list(map(lambda x, y: , list1, list2))\n",
    "total_quotients = sum(quotients)\n",
    "print(total_quotients)  # 출력: 4"
   ]
  },
  {
   "cell_type": "markdown",
   "id": "4b7f7908-6c2f-48bd-8c3d-6836fd9590e0",
   "metadata": {},
   "source": [
    "### 문제 6\n",
    "- **문제**: 두 리스트 `[10, 20, 30, 40]`과 `[5, 15, 25, 35]`에서 각 요소의 차이를 구하고, 그 중 최대값을 출력하는 코드를 작성하세요.\n",
    "- **답**:"
   ]
  },
  {
   "cell_type": "code",
   "execution_count": 103,
   "id": "66fe0c06-0555-4fe0-9ded-779cadb57ee6",
   "metadata": {},
   "outputs": [
    {
     "name": "stdout",
     "output_type": "stream",
     "text": [
      "5\n"
     ]
    }
   ],
   "source": [
    "list1 = [10, 20, 30, 40]\n",
    "list2 = [5, 15, 25, 35]\n",
    "differences = list(map(lambda x, y: , list1, list2))\n",
    "max_difference = max(differences)\n",
    "print(max_difference)  # 출력: 5"
   ]
  },
  {
   "cell_type": "markdown",
   "id": "16589141-4180-438e-802b-501a28d1674f",
   "metadata": {},
   "source": [
    "### 문제 7\n",
    "- **문제**: 리스트 `['one', 'two', 'three', 'four']`의 각 문자열의 길이를 구하고, 그 중 최소값을 출력하는 코드를 작성하세요.\n",
    "- **답**:"
   ]
  },
  {
   "cell_type": "code",
   "execution_count": 104,
   "id": "0cdeab99-261f-45f3-b6aa-1b4bf9c6c740",
   "metadata": {},
   "outputs": [
    {
     "name": "stdout",
     "output_type": "stream",
     "text": [
      "3\n"
     ]
    }
   ],
   "source": [
    "words = ['one', 'two', 'three', 'four']\n",
    "lengths = \n",
    "min_length = min(lengths)\n",
    "print(min_length)  # 출력: 3"
   ]
  },
  {
   "cell_type": "markdown",
   "id": "78f3e771-af8d-4dda-95d7-a2bdbbfbb507",
   "metadata": {},
   "source": [
    "### 문제 8\n",
    "- **문제**: 리스트 `[5, 10, 15, 20, 25]`에서 짝수 요소들만 추출하여 역순으로 정렬하는 코드를 작성하세요.\n",
    "- **답**:"
   ]
  },
  {
   "cell_type": "code",
   "execution_count": 105,
   "id": "4edc617a-a6b7-4093-b1e8-9858d76bb5ee",
   "metadata": {},
   "outputs": [
    {
     "name": "stdout",
     "output_type": "stream",
     "text": [
      "[20, 10]\n"
     ]
    }
   ],
   "source": [
    "numbers = [5, 10, 15, 20, 25]\n",
    "even_numbers = \n",
    "sorted_even_numbers = sorted(even_numbers, reverse=True)\n",
    "print(sorted_even_numbers)  # 출력: [20, 10]"
   ]
  },
  {
   "cell_type": "markdown",
   "id": "127c9ca6-4c75-49eb-9020-8a763ff8c51e",
   "metadata": {},
   "source": [
    "### 문제 9\n",
    "- **문제**: 리스트 `['apple', 'banana', 'cherry']`의 각 문자열을 뒤집고, 그 결과를 오름차순으로 정렬하여 출력하는 코드를 작성하세요.\n",
    "- **힌트**: 리스트 x 뒤집기 x[::-1]\n",
    "- **답**:"
   ]
  },
  {
   "cell_type": "code",
   "execution_count": 107,
   "id": "07c35a6e-1fc1-4754-8a48-39c8b2f1e709",
   "metadata": {},
   "outputs": [
    {
     "name": "stdout",
     "output_type": "stream",
     "text": [
      "['ananab', 'elppa', 'yrrehc']\n"
     ]
    }
   ],
   "source": [
    "words = ['apple', 'banana', 'cherry']\n",
    "reversed_words = list(map(lambda x: , words))\n",
    "sorted_reversed_words = sorted(reversed_words)\n",
    "print(sorted_reversed_words)  # 출력: ['ananab', 'elppa', 'yrrehc']"
   ]
  },
  {
   "cell_type": "markdown",
   "id": "051cbb66-588b-4705-ad06-7869aae21d66",
   "metadata": {},
   "source": [
    "### 문제 10\n",
    "- **문제**: 두 리스트 `[1, 2, 3]`과 `[4, 5, 6]`의 요소별로 더한 값을 구하고, 그 값들이 모두 짝수인지 확인하는 코드를 작성하세요.\n",
    "- **답**:"
   ]
  },
  {
   "cell_type": "code",
   "execution_count": 108,
   "id": "8a30170d-d5b0-4c70-a160-ee101c94b7ee",
   "metadata": {},
   "outputs": [
    {
     "name": "stdout",
     "output_type": "stream",
     "text": [
      "False\n"
     ]
    }
   ],
   "source": [
    "list1 = [1, 2, 3]\n",
    "list2 = [4, 5, 6]\n",
    "summed_values = \n",
    "all_even = all(map(lambda x: x % 2 == 0, summed_values))\n",
    "print(all_even)  # 출력: False"
   ]
  },
  {
   "cell_type": "markdown",
   "id": "a460b17a-b955-4857-84bc-1406222988f0",
   "metadata": {},
   "source": [
    "### 문제 11\n",
    "- **문제**: 리스트 `[100, 200, 300, 400, 500]`의 요소 중 300보다 큰 값들을 찾아 그 값들의 평균을 출력하는 코드를 작성하세요.\n",
    "- **답**:"
   ]
  },
  {
   "cell_type": "code",
   "execution_count": 109,
   "id": "7f354eb9-212c-4425-b1d1-1a1012530333",
   "metadata": {},
   "outputs": [
    {
     "name": "stdout",
     "output_type": "stream",
     "text": [
      "450.0\n"
     ]
    }
   ],
   "source": [
    "numbers = [100, 200, 300, 400, 500]\n",
    "greater_than_300 = \n",
    "average = sum(greater_than_300) / len(greater_than_300)\n",
    "print(average)  # 출력: 450.0"
   ]
  },
  {
   "cell_type": "markdown",
   "id": "3380bf52-ae64-4538-a6a5-709b833ab0cb",
   "metadata": {},
   "source": [
    "### 문제 12\n",
    "- **문제**: 리스트 `[1, 4, 9, 16, 25, 36]`의 요소 중 홀수인 값들을 제곱하여 리스트로 출력하는 코드를 작성하세요.\n",
    "- **답**:"
   ]
  },
  {
   "cell_type": "code",
   "execution_count": 112,
   "id": "0dea6b20-a3ad-4928-8bc6-b93c3705a918",
   "metadata": {},
   "outputs": [
    {
     "name": "stdout",
     "output_type": "stream",
     "text": [
      "[1, 81, 625]\n"
     ]
    }
   ],
   "source": [
    "numbers = [1, 4, 9, 16, 25, 36]\n",
    "odd_numbers_squared = \n",
    "print(odd_numbers_squared)  # 출력: [1, 81, 625]"
   ]
  },
  {
   "cell_type": "markdown",
   "id": "aeb1a400-8def-400f-b549-c41a2a37655a",
   "metadata": {},
   "source": [
    "### 문제 13\n",
    "- **문제**: 문자열 리스트 `['10.5', '20.1', '30.6']`에서 각 문자열을 실수로 변환하고, 그 값들의 합을 출력하는 코드를 작성하세요.\n",
    "- **답**:"
   ]
  },
  {
   "cell_type": "code",
   "execution_count": 113,
   "id": "f9e8f7bc-182a-46e5-9ab0-5dc049da48ca",
   "metadata": {},
   "outputs": [
    {
     "name": "stdout",
     "output_type": "stream",
     "text": [
      "61.2\n"
     ]
    }
   ],
   "source": [
    "str_numbers = ['10.5', '20.1', '30.6']\n",
    "float_numbers = \n",
    "total = sum(float_numbers)\n",
    "print(total)  # 출력: 61.2"
   ]
  },
  {
   "cell_type": "markdown",
   "id": "88c8073f-d135-4b12-b4d1-5956fccf90a1",
   "metadata": {},
   "source": [
    "### 문제 14\n",
    "- **문제**: 두 리스트 `[1, 2, 3]`과 `[4, 5, 6]`의 각 요소를 곱한 후, 그 값들의 평균을 출력하는 코드를 작성하세요.\n",
    "- **답**:"
   ]
  },
  {
   "cell_type": "code",
   "execution_count": 114,
   "id": "66223677-b8dd-4ff3-ad35-53011a0f847f",
   "metadata": {},
   "outputs": [
    {
     "name": "stdout",
     "output_type": "stream",
     "text": [
      "10.666666666666666\n"
     ]
    }
   ],
   "source": [
    "list1 = [1, 2, 3]\n",
    "list2 = [4, 5, 6]\n",
    "products = \n",
    "average = sum(products) / len(products)\n",
    "print(average)  # 출력: 10.0"
   ]
  },
  {
   "cell_type": "markdown",
   "id": "b5bde2fa-f47e-4e5f-a269-ebb03d09a784",
   "metadata": {},
   "source": [
    "### 문제 17\n",
    "- **문제**: 리스트 `[1, 2, 3, 4, 5, 6, 7, 8, 9]`에서 짝수만 추출하여 그 값들을 제곱한 리스트를 출력하는 코드를 작성하세요.\n",
    "- **답**:"
   ]
  },
  {
   "cell_type": "code",
   "execution_count": 116,
   "id": "e90f28b2-6e8b-4d69-b65a-c69e91bb0a67",
   "metadata": {},
   "outputs": [
    {
     "name": "stdout",
     "output_type": "stream",
     "text": [
      "[4, 16, 36, 64]\n"
     ]
    }
   ],
   "source": [
    "numbers = [1, 2, 3, 4, 5, 6, 7, 8, 9]\n",
    "even_squares = \n",
    "print(even_squares)  # 출력: [4, 16, 36, 64]"
   ]
  },
  {
   "cell_type": "markdown",
   "id": "5659668c-b597-4d7c-afc6-2a774a695d54",
   "metadata": {},
   "source": [
    "\n",
    "\n",
    "  ```python\n",
    "\n",
    "  ```"
   ]
  }
 ],
 "metadata": {
  "kernelspec": {
   "display_name": "Python 3 (ipykernel)",
   "language": "python",
   "name": "python3"
  },
  "language_info": {
   "codemirror_mode": {
    "name": "ipython",
    "version": 3
   },
   "file_extension": ".py",
   "mimetype": "text/x-python",
   "name": "python",
   "nbconvert_exporter": "python",
   "pygments_lexer": "ipython3",
   "version": "3.10.14"
  }
 },
 "nbformat": 4,
 "nbformat_minor": 5
}
