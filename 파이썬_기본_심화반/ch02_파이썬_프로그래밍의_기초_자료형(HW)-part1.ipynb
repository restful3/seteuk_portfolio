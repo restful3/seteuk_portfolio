{
 "cells": [
  {
   "cell_type": "markdown",
   "id": "ed038324",
   "metadata": {},
   "source": [
    "# 숫자형\n",
    "- 숫자형은 숫자 형태로 이루어진 자료형\n",
    "\n",
    "| 데이터 유형 |          |\n",
    "|-------------|----------|\n",
    "| 정수        | `x = 10`, `y = -15`   |\n",
    "| 실수        | `a = 3.14`, `b = -0.005` |\n",
    "| 8진수       | `oct_num = 0o10`, `oct_num2 = 0o777` |\n",
    "| 16진수      | `hex_num = 0x1F`, `hex_num2 = 0xABCD` |\n",
    "\n",
    "- 8진수 : \n",
    "    - 8진수는 0부터 7까지의 숫자로 표현되는 수 체계이며, 컴퓨터 과학에서 주로 사용됩니다. \n",
    "    - 10진수에서 8진수로 변환하려면 8로 나누어가며 나머지를 구하면 됩니다. \n",
    "    - 8진수는 주로 파일 권한 설정과 같은 시스템 관련 작업에서 사용됩니다.\n",
    "- 16진수 : \n",
    "    - 16진수는 0부터 9까지의 숫자와 A부터 F까지의 문자를 사용하여 나타내는 수 체계입니다. \n",
    "    - 이진수와 함께 주로 컴퓨터 과학 및 프로그래밍에서 사용되며, 16진수는 이진수로 변환하기가 쉽고 간단하여 메모리 주소, RGB 색상 코드 및 문자 코드와 같은 다양한 데이터를 표현하는 데에 유용하게 사용됩니다. \n",
    "    - 16진수는 10진수에서 16진수로 변환하려면 16으로 나누어가며 나머지를 구하면 됩니다.    "
   ]
  },
  {
   "cell_type": "markdown",
   "id": "37fc4b0a",
   "metadata": {},
   "source": [
    "## 숫자형은 어떻게 만들고 사용할까?"
   ]
  },
  {
   "cell_type": "markdown",
   "id": "e2cc35ff",
   "metadata": {},
   "source": [
    "**정수형**\n",
    "- 정수형(integer)란 정수를 뜻하는 자료형"
   ]
  },
  {
   "cell_type": "code",
   "execution_count": 1,
   "id": "b272d9c6",
   "metadata": {},
   "outputs": [],
   "source": [
    "a = 123"
   ]
  },
  {
   "cell_type": "code",
   "execution_count": 2,
   "id": "36680ab0",
   "metadata": {},
   "outputs": [],
   "source": [
    "a = -178"
   ]
  },
  {
   "cell_type": "code",
   "execution_count": 3,
   "id": "f52e13dc",
   "metadata": {},
   "outputs": [],
   "source": [
    "a = 0"
   ]
  },
  {
   "cell_type": "markdown",
   "id": "3b3ee055",
   "metadata": {},
   "source": [
    "**실수형**\n",
    "- 실수형(floating point) 는 소수점이 포함된 숫자\n",
    "- 이 표현 방식은 실수를 가수와 지수의 형태로 표현합니다. \n",
    "- 여기서 \"가수\"는 소수점 이하의 숫자를 표현하고, \"지수\"는 소수점의 위치를 나타냅니다.\n",
    "- 예를 들어, 3.14를 부동 소수점으로 표현하면 가수는 3.14의 가수 부분이 되고, 지수는 소수점의 위치를 조절하여 정확한 값을 표현"
   ]
  },
  {
   "cell_type": "code",
   "execution_count": 6,
   "id": "e853510e",
   "metadata": {},
   "outputs": [],
   "source": [
    "a = 0.12"
   ]
  },
  {
   "cell_type": "code",
   "execution_count": 7,
   "id": "56675c4b",
   "metadata": {},
   "outputs": [],
   "source": [
    "a = -3.45"
   ]
  },
  {
   "cell_type": "markdown",
   "id": "481c7cec",
   "metadata": {},
   "source": [
    "- 컴퓨터 지수 표현 방식"
   ]
  },
  {
   "cell_type": "code",
   "execution_count": 10,
   "id": "520776f8",
   "metadata": {},
   "outputs": [],
   "source": [
    "a =  # 1.2*10^-1"
   ]
  },
  {
   "cell_type": "code",
   "execution_count": 11,
   "id": "3af05d6e",
   "metadata": {},
   "outputs": [],
   "source": [
    "a =  # -3.45*10^0"
   ]
  },
  {
   "cell_type": "markdown",
   "id": "8fd4ad14",
   "metadata": {},
   "source": [
    "**8진수와 16진수**\n",
    "\n",
    "- 8진수를 만들기 위해서는 0o 또는 0O(숫자 0과 소문자 o 또는 대문자 O)로 시작"
   ]
  },
  {
   "cell_type": "code",
   "execution_count": 12,
   "id": "d1b85690",
   "metadata": {},
   "outputs": [
    {
     "data": {
      "text/plain": [
       "127"
      ]
     },
     "execution_count": 12,
     "metadata": {},
     "output_type": "execute_result"
    }
   ],
   "source": [
    "a = \n",
    "a"
   ]
  },
  {
   "cell_type": "markdown",
   "id": "f14222f6",
   "metadata": {},
   "source": [
    "- 16진수를 만들기 위해서는 0x로 시작"
   ]
  },
  {
   "cell_type": "code",
   "execution_count": 13,
   "id": "9e7d4751",
   "metadata": {},
   "outputs": [
    {
     "name": "stdout",
     "output_type": "stream",
     "text": [
      "2303 2748\n"
     ]
    }
   ],
   "source": [
    "a = \n",
    "b = \n",
    "print(a, b)"
   ]
  },
  {
   "cell_type": "markdown",
   "id": "b547c9b5",
   "metadata": {},
   "source": [
    "## 숫자형을 활용하기 위한 연산자"
   ]
  },
  {
   "cell_type": "markdown",
   "id": "ea7d4340",
   "metadata": {},
   "source": [
    "**사칙 연산**"
   ]
  },
  {
   "cell_type": "code",
   "execution_count": 14,
   "id": "762e9329",
   "metadata": {},
   "outputs": [
    {
     "data": {
      "text/plain": [
       "7"
      ]
     },
     "execution_count": 14,
     "metadata": {},
     "output_type": "execute_result"
    }
   ],
   "source": [
    "a = 3\n",
    "b = 4\n"
   ]
  },
  {
   "cell_type": "code",
   "execution_count": 15,
   "id": "4a768b17",
   "metadata": {},
   "outputs": [
    {
     "data": {
      "text/plain": [
       "-1"
      ]
     },
     "execution_count": 15,
     "metadata": {},
     "output_type": "execute_result"
    }
   ],
   "source": []
  },
  {
   "cell_type": "code",
   "execution_count": 16,
   "id": "5337f4bc",
   "metadata": {},
   "outputs": [
    {
     "data": {
      "text/plain": [
       "12"
      ]
     },
     "execution_count": 16,
     "metadata": {},
     "output_type": "execute_result"
    }
   ],
   "source": []
  },
  {
   "cell_type": "code",
   "execution_count": 17,
   "id": "1846fa9f",
   "metadata": {},
   "outputs": [
    {
     "data": {
      "text/plain": [
       "0.75"
      ]
     },
     "execution_count": 17,
     "metadata": {},
     "output_type": "execute_result"
    }
   ],
   "source": []
  },
  {
   "cell_type": "markdown",
   "id": "58f37b28",
   "metadata": {},
   "source": [
    "**x의 y제곱을 나타내는 ** 연산자**"
   ]
  },
  {
   "cell_type": "code",
   "execution_count": 4,
   "id": "0b3eb210",
   "metadata": {},
   "outputs": [
    {
     "data": {
      "text/plain": [
       "81"
      ]
     },
     "execution_count": 4,
     "metadata": {},
     "output_type": "execute_result"
    }
   ],
   "source": [
    "a = 3\n",
    "b = 4\n"
   ]
  },
  {
   "cell_type": "markdown",
   "id": "6085bf0f",
   "metadata": {},
   "source": [
    "**문제**\n",
    "- 방금 배운 연산자를 활용 $10\\times18^2+2 \\times 11$를 계산해 보자."
   ]
  },
  {
   "cell_type": "code",
   "execution_count": null,
   "id": "ebe1cd2e",
   "metadata": {},
   "outputs": [],
   "source": []
  },
  {
   "cell_type": "markdown",
   "id": "772e21ac",
   "metadata": {},
   "source": [
    "**나눗셈 후 나머지를 리턴하는 % 연산자**\n",
    "- % 연산자는 나눗셈의 나머지 값을 리턴하는 연산\n",
    "- 7을 3으로 나누면 1"
   ]
  },
  {
   "cell_type": "code",
   "execution_count": 19,
   "id": "02bdad7a",
   "metadata": {},
   "outputs": [
    {
     "data": {
      "text/plain": [
       "1"
      ]
     },
     "execution_count": 19,
     "metadata": {},
     "output_type": "execute_result"
    }
   ],
   "source": []
  },
  {
   "cell_type": "markdown",
   "id": "634c370a",
   "metadata": {},
   "source": [
    "- 3을 7로 나누면 3"
   ]
  },
  {
   "cell_type": "code",
   "execution_count": 20,
   "id": "f0edabd6",
   "metadata": {},
   "outputs": [
    {
     "data": {
      "text/plain": [
       "3"
      ]
     },
     "execution_count": 20,
     "metadata": {},
     "output_type": "execute_result"
    }
   ],
   "source": []
  },
  {
   "cell_type": "markdown",
   "id": "2b00138a",
   "metadata": {},
   "source": [
    "**나눗셈 후 몫을 리턴하는 // 연산**\n",
    "- 7/4"
   ]
  },
  {
   "cell_type": "code",
   "execution_count": 21,
   "id": "ebf0fbd0",
   "metadata": {},
   "outputs": [
    {
     "data": {
      "text/plain": [
       "1.75"
      ]
     },
     "execution_count": 21,
     "metadata": {},
     "output_type": "execute_result"
    }
   ],
   "source": []
  },
  {
   "cell_type": "markdown",
   "id": "73fc611f",
   "metadata": {},
   "source": [
    "- 7를 4로 나눈 몫"
   ]
  },
  {
   "cell_type": "code",
   "execution_count": 22,
   "id": "a4f27e94",
   "metadata": {},
   "outputs": [
    {
     "data": {
      "text/plain": [
       "1"
      ]
     },
     "execution_count": 22,
     "metadata": {},
     "output_type": "execute_result"
    }
   ],
   "source": []
  },
  {
   "cell_type": "markdown",
   "id": "ad16a288",
   "metadata": {},
   "source": [
    "**문제**\n",
    "- 14를 3으로 나누었을 때 몫과 나머지를 구하라"
   ]
  },
  {
   "cell_type": "code",
   "execution_count": null,
   "id": "78ab143e",
   "metadata": {},
   "outputs": [],
   "source": []
  },
  {
   "cell_type": "markdown",
   "id": "883ece52",
   "metadata": {},
   "source": [
    "# 문자열 자료형\n",
    "- [소스](https://wikidocs.net/13)\n",
    "- 문자열(string)이란 문자, 단어 등으로 구성된 문자들의 집합\n",
    "\n",
    "    - \"Life is too short. You need Python\"\n",
    "    - \"a\"\n",
    "    - \"123\"\n",
    "\n",
    "- 모든 예문은 큰따움표로 둘러싸여 있다.\n",
    "- \"123\"은 숫자인데 왜 문자열일까?"
   ]
  },
  {
   "cell_type": "markdown",
   "id": "a04a6637",
   "metadata": {},
   "source": [
    "## 문자열을 어떻게 만들고 사용할 까?\n",
    "- 다음과 같이 4가지가 있다\n",
    "\n",
    "**큰따움표로 양쪽 둘러싸기**"
   ]
  },
  {
   "cell_type": "code",
   "execution_count": 27,
   "id": "0d3aca92",
   "metadata": {},
   "outputs": [
    {
     "data": {
      "text/plain": [
       "'Hello world'"
      ]
     },
     "execution_count": 27,
     "metadata": {},
     "output_type": "execute_result"
    }
   ],
   "source": []
  },
  {
   "cell_type": "markdown",
   "id": "c75ad1d5",
   "metadata": {},
   "source": [
    "**작은따움표로 양쪽 둘러싸기**"
   ]
  },
  {
   "cell_type": "code",
   "execution_count": 24,
   "id": "19706045",
   "metadata": {},
   "outputs": [
    {
     "data": {
      "text/plain": [
       "'Python is fun'"
      ]
     },
     "execution_count": 24,
     "metadata": {},
     "output_type": "execute_result"
    }
   ],
   "source": []
  },
  {
   "cell_type": "markdown",
   "id": "37b11466",
   "metadata": {},
   "source": [
    "**큰따움표 3개를 연속으로 써서 양쪽 둘러싸기**"
   ]
  },
  {
   "cell_type": "code",
   "execution_count": 29,
   "id": "7b36bd46",
   "metadata": {},
   "outputs": [
    {
     "data": {
      "text/plain": [
       "'Life is too short. You need python.'"
      ]
     },
     "execution_count": 29,
     "metadata": {},
     "output_type": "execute_result"
    }
   ],
   "source": []
  },
  {
   "cell_type": "markdown",
   "id": "93aef468",
   "metadata": {},
   "source": [
    "**작은따움표 3개를 연속으로 써서 양쪽 둘러싸기**"
   ]
  },
  {
   "cell_type": "code",
   "execution_count": 30,
   "id": "bb141b14",
   "metadata": {},
   "outputs": [
    {
     "data": {
      "text/plain": [
       "'Life is too short. You need python.'"
      ]
     },
     "execution_count": 30,
     "metadata": {},
     "output_type": "execute_result"
    }
   ],
   "source": []
  },
  {
   "cell_type": "markdown",
   "id": "f0f096c3",
   "metadata": {},
   "source": [
    "## 문자열 안에 작은따움표나 큰따움표를 포함시키고 싶을 때\n",
    "**1.문자열에 작은따움표 포함하기**\n",
    "\n",
    "- Python's favorite food is perl"
   ]
  },
  {
   "cell_type": "code",
   "execution_count": 31,
   "id": "2e9d1570",
   "metadata": {},
   "outputs": [
    {
     "data": {
      "text/plain": [
       "\"Python's favorite food is perl\""
      ]
     },
     "execution_count": 31,
     "metadata": {},
     "output_type": "execute_result"
    }
   ],
   "source": []
  },
  {
   "cell_type": "code",
   "execution_count": 32,
   "id": "bbdec04e",
   "metadata": {},
   "outputs": [
    {
     "ename": "SyntaxError",
     "evalue": "unterminated string literal (detected at line 1) (1974562179.py, line 1)",
     "output_type": "error",
     "traceback": [
      "\u001b[0;36m  Cell \u001b[0;32mIn[32], line 1\u001b[0;36m\u001b[0m\n\u001b[0;31m    'Python's favorite food is perl'\u001b[0m\n\u001b[0m                                   ^\u001b[0m\n\u001b[0;31mSyntaxError\u001b[0m\u001b[0;31m:\u001b[0m unterminated string literal (detected at line 1)\n"
     ]
    }
   ],
   "source": []
  },
  {
   "cell_type": "markdown",
   "id": "6ef7df00",
   "metadata": {},
   "source": [
    "**2.문자열에 큰따움표 포함하기**\n",
    "- \"Python is very easy.\" he says."
   ]
  },
  {
   "cell_type": "code",
   "execution_count": 34,
   "id": "509c1c80",
   "metadata": {},
   "outputs": [
    {
     "data": {
      "text/plain": [
       "'\"Python is very easy.\" he says.'"
      ]
     },
     "execution_count": 34,
     "metadata": {},
     "output_type": "execute_result"
    }
   ],
   "source": []
  },
  {
   "cell_type": "markdown",
   "id": "5d1fd4bf",
   "metadata": {},
   "source": [
    "**3.역슬래시를 사용 작은따움표와 큰따움표를 문자열에 포함시키기**\n",
    "- 역슬래쉬 뒤의 \"나 ' 는 문자열을 둘러싸는 기호가 아니라 문자 그 자체가 된다.\n",
    "    - 역슬래쉬는 많은 프로그래밍 언어에서 이스케이프(escape) 문자입니다. \n",
    "    - 이스케이프 문자는 특수한 기능을 가진 문자를 일반 문자로 해석하도록 지시합니다. \n",
    "    - 즉, 그 다음에 오는 문자를 특별한 의미를 갖지 않고 그대로 문자열로 처리하도록 합니다."
   ]
  },
  {
   "cell_type": "code",
   "execution_count": 35,
   "id": "f359614d",
   "metadata": {},
   "outputs": [
    {
     "data": {
      "text/plain": [
       "\"Python's favorite food is perl\""
      ]
     },
     "execution_count": 35,
     "metadata": {},
     "output_type": "execute_result"
    }
   ],
   "source": []
  },
  {
   "cell_type": "code",
   "execution_count": 37,
   "id": "ad86262b",
   "metadata": {},
   "outputs": [
    {
     "data": {
      "text/plain": [
       "'\"Pythons is very easy.\" he says.'"
      ]
     },
     "execution_count": 37,
     "metadata": {},
     "output_type": "execute_result"
    }
   ],
   "source": []
  },
  {
   "cell_type": "markdown",
   "id": "5df4f440",
   "metadata": {},
   "source": [
    "## 여러 줄인 문자열을 변수에 대입하고 싶을 때\n",
    "\n",
    "- 다음과 같이 여러줄을 변수에 대입하고자 한다면 어떻게 해야 할까.\n",
    "\n",
    "Life is too short\n",
    "You need python\n",
    "\n",
    "\n",
    "**1.줄을 바꾸기 위한 이스케이프 코드 \\n 삽입**"
   ]
  },
  {
   "cell_type": "code",
   "execution_count": 39,
   "id": "8b890d8c",
   "metadata": {},
   "outputs": [
    {
     "name": "stdout",
     "output_type": "stream",
     "text": [
      "Life is too short\n",
      "You need python\n"
     ]
    }
   ],
   "source": []
  },
  {
   "cell_type": "markdown",
   "id": "90c8be21",
   "metadata": {},
   "source": [
    "**2.연속된 작은따움표 3개 또는 큰따움표ㅕ3개 사용하기**"
   ]
  },
  {
   "cell_type": "code",
   "execution_count": 41,
   "id": "db07afe4",
   "metadata": {},
   "outputs": [
    {
     "name": "stdout",
     "output_type": "stream",
     "text": [
      "Life is too short\n",
      "You need python\n"
     ]
    }
   ],
   "source": []
  },
  {
   "cell_type": "code",
   "execution_count": 40,
   "id": "21db1a8c",
   "metadata": {},
   "outputs": [
    {
     "name": "stdout",
     "output_type": "stream",
     "text": [
      "Life is too short\n",
      "You need python\n"
     ]
    }
   ],
   "source": []
  },
  {
   "cell_type": "markdown",
   "id": "7977d654",
   "metadata": {},
   "source": [
    "**이스케이프 코드**\n",
    "\n",
    "- 이스케이프 코드란 프로그래밍 할 때 사용할 수 있도록 미리 정해 놓은 '문자 조합'\n",
    "- 주로 출력물을 보기 좋게 정렬하는 용도\n",
    "\n",
    "| 코드  | 설명                                 |\n",
    "|:------|:-------------------------------------|\n",
    "| \\n    | 문자열 안에서 줄을 바꿀 때 사용      |\n",
    "| \\t    | 문자열 사이에 탭 간격을 줄 때 사용  |\n",
    "| \\\\    | \\를 그대로 표현할 때 사용            |\n",
    "| \\'    | 작은따옴표(')를 그대로 표현할 때 사용 |\n",
    "| \\\"    | 큰따옴표(\")를 그대로 표현할 때 사용 |\n",
    "| \\r    | 캐리지 리턴(줄 바꿈 문자)           |\n",
    "| \\f    | 폼 피드(줄 바꿈 문자)               |\n",
    "| \\a    | 벨 소리(출력할 때 PC 스피커에서 '삑' 소리가 난다) |\n",
    "| \\b    | 백 스페이스                         |\n",
    "| \\000  | 널 문자                             |\n",
    "\n",
    "- \\n, \\t, \\\\, \\', \\\" 는 자주 사용되니 기억해 두자\n",
    "\n",
    "## 문자열 연산하기\n",
    "- 문자열을 더하거나 곱해보자\n",
    "\n",
    "**문자열 더해서 연결하기**"
   ]
  },
  {
   "cell_type": "code",
   "execution_count": 42,
   "id": "ce49e94a",
   "metadata": {},
   "outputs": [
    {
     "data": {
      "text/plain": [
       "'Python is fun!'"
      ]
     },
     "execution_count": 42,
     "metadata": {},
     "output_type": "execute_result"
    }
   ],
   "source": []
  },
  {
   "cell_type": "markdown",
   "id": "0b11a6c3",
   "metadata": {},
   "source": [
    "**문자열 곱하기**"
   ]
  },
  {
   "cell_type": "code",
   "execution_count": 43,
   "id": "25eecdd2",
   "metadata": {},
   "outputs": [
    {
     "data": {
      "text/plain": [
       "'PythonPython'"
      ]
     },
     "execution_count": 43,
     "metadata": {},
     "output_type": "execute_result"
    }
   ],
   "source": []
  },
  {
   "cell_type": "markdown",
   "id": "7d87c366",
   "metadata": {},
   "source": [
    "**문자열 곱하기 응용**\n",
    "\n",
    "- 다음을 실행해 보자\n",
    "\n",
    "```python\n",
    "\n",
    "print(\"=\" * 50)\n",
    "print(\"My Program\")\n",
    "print(\"=\" * 50)\n",
    "\n",
    "```"
   ]
  },
  {
   "cell_type": "code",
   "execution_count": null,
   "id": "0fb2eddd",
   "metadata": {},
   "outputs": [],
   "source": []
  },
  {
   "cell_type": "markdown",
   "id": "075c5f26",
   "metadata": {},
   "source": [
    "**문자열 길이 구하기**\n",
    "- 문자열의 길이는 다음과 같이 len 함수를 사용하면 구할 수 있다. \n",
    "- len 함수는 print 함수처럼 파이썬의 기본 내장 함수로, 별다른 설정 없이 바로 사용할 수 있다.\n",
    "\n",
    "> 문자열의 길이에는 공백 문자도 포함된다."
   ]
  },
  {
   "cell_type": "code",
   "execution_count": 44,
   "id": "a7c375c7",
   "metadata": {},
   "outputs": [
    {
     "data": {
      "text/plain": [
       "17"
      ]
     },
     "execution_count": 44,
     "metadata": {},
     "output_type": "execute_result"
    }
   ],
   "source": []
  },
  {
   "cell_type": "markdown",
   "id": "41608095",
   "metadata": {},
   "source": [
    "**문제**\n",
    "- \"You need python\" 이라는 문장을 문자열로 만들고, 길이를 구해보자."
   ]
  },
  {
   "cell_type": "code",
   "execution_count": null,
   "id": "52c71a67",
   "metadata": {},
   "outputs": [],
   "source": []
  },
  {
   "cell_type": "markdown",
   "id": "9ecfb7c3",
   "metadata": {},
   "source": [
    "## 문자열 인덱싱과 슬라이싱\n",
    "- 인덱싱(indexing)이란 무엇인가를 ‘가리킨다’, 슬라이싱(slicing)은 무엇인가를 ‘잘라 낸다’라는 의미이다. \n",
    "- 이런 의미를 생각하면서 다음 내용을 살펴보자.\n",
    "\n",
    "**문자열 인덱싱**"
   ]
  },
  {
   "cell_type": "code",
   "execution_count": 45,
   "id": "f0a1714f",
   "metadata": {},
   "outputs": [],
   "source": []
  },
  {
   "cell_type": "markdown",
   "id": "271a9b85",
   "metadata": {},
   "source": [
    "- 위 코드에서 변수 a에 저장한 문자열의 각 문자마다 번호를 매겨 보면 다음과 같다.\n",
    "\n",
    "<img src=\"https://wikidocs.net/images/page/13/02_2_indexing.png\">\n",
    "\n",
    "- \"Life is too short, You need Python\" 문자열에서 L은 첫 번째 자리를 뜻하는 숫자 0, i는 1 이런 식으로 계속 번호를 붙인 것이다. \n",
    "- 즉, 중간에 있는 short의 s는 12가 된다."
   ]
  },
  {
   "cell_type": "code",
   "execution_count": 46,
   "id": "de5be74d",
   "metadata": {},
   "outputs": [
    {
     "data": {
      "text/plain": [
       "'e'"
      ]
     },
     "execution_count": 46,
     "metadata": {},
     "output_type": "execute_result"
    }
   ],
   "source": []
  },
  {
   "cell_type": "markdown",
   "id": "ffde2ffe",
   "metadata": {},
   "source": [
    "- a[3]이 뜻하는 것은 a라는 문자열의 네 번째 문자 e를 말한다. \n",
    "- 프로그래밍을 처음 접하는 독자라면 a[3]에서 숫자 3이 왜 네 번째 문자를 뜻하는지 의아할 수도 있다. \n",
    "- 사실 이 부분이 헷갈릴 수 있는 부분인데, 다음과 같이 생각하면 쉽게 알 수 있을 것이다.\n",
    "\n",
    "**\"파이썬은 0부터 숫자를 센다.\"**\n",
    "\n",
    "- 따라서 파이썬은 위 문자열을 다음과 같이 바라보고 있다.\n",
    "\n",
    "> a[0]:'L', a[1]:'i', a[2]:'f', a[3]:'e', a[4]:' ', ...\n",
    "\n",
    "- 0부터 숫자를 센다는 것이 처음에는 익숙하지 않겠지만, 계속 사용하다 보면 자연스러워질 것이다. \n",
    "- 위 예에서 볼 수 있듯이 a[번호]는 문자열 안의 특정한 값을 뽑아 내는 역할을 한다. 이러한 작업을 **‘인덱싱’** 이라고 한다."
   ]
  },
  {
   "cell_type": "markdown",
   "id": "2f8b91a7",
   "metadata": {},
   "source": [
    "**문자열 인덱싱 활용하기**"
   ]
  },
  {
   "cell_type": "code",
   "execution_count": 47,
   "id": "487b210c",
   "metadata": {},
   "outputs": [],
   "source": []
  },
  {
   "cell_type": "code",
   "execution_count": 48,
   "id": "de817e24",
   "metadata": {},
   "outputs": [
    {
     "data": {
      "text/plain": [
       "'L'"
      ]
     },
     "execution_count": 48,
     "metadata": {},
     "output_type": "execute_result"
    }
   ],
   "source": []
  },
  {
   "cell_type": "code",
   "execution_count": 49,
   "id": "8cff98c9",
   "metadata": {},
   "outputs": [
    {
     "data": {
      "text/plain": [
       "'s'"
      ]
     },
     "execution_count": 49,
     "metadata": {},
     "output_type": "execute_result"
    }
   ],
   "source": []
  },
  {
   "cell_type": "code",
   "execution_count": 50,
   "id": "350dba89",
   "metadata": {},
   "outputs": [
    {
     "data": {
      "text/plain": [
       "'n'"
      ]
     },
     "execution_count": 50,
     "metadata": {},
     "output_type": "execute_result"
    }
   ],
   "source": []
  },
  {
   "cell_type": "markdown",
   "id": "5661044b",
   "metadata": {},
   "source": [
    "- a[-1]이 뜻하는 것은 뭘까?\n",
    "    - 문자열을 뒤에서부터 읽기 위해 -(빼기) 기호를 붙인 것\n",
    "    - a[-1]은 뒤에서부터 세어 첫 번째가 되는 문자를 말한다. \n",
    "    - a의 값은 \"Life is too short, You need Python\" 문자열이므로 뒤에서부터 첫 번째 문자는 가장 마지막 문자 'n'이다.\n",
    "    - 뒤에서부터 첫 번째 문자를 표시할 때도 0부터 세어 ‘a[-0]이라고 해야 하지 않을까?’라는 의문이 들 수도 있겠지만, 잘 생각해 보자. \n",
    "    - 0과 -0은 똑같은 것이기 때문에 a[-0]은 a[0]과 똑같은 값을 보여 준다."
   ]
  },
  {
   "cell_type": "code",
   "execution_count": 51,
   "id": "49f8e6da",
   "metadata": {},
   "outputs": [
    {
     "data": {
      "text/plain": [
       "'L'"
      ]
     },
     "execution_count": 51,
     "metadata": {},
     "output_type": "execute_result"
    }
   ],
   "source": []
  },
  {
   "cell_type": "code",
   "execution_count": 52,
   "id": "811440f2",
   "metadata": {},
   "outputs": [
    {
     "data": {
      "text/plain": [
       "'o'"
      ]
     },
     "execution_count": 52,
     "metadata": {},
     "output_type": "execute_result"
    }
   ],
   "source": []
  },
  {
   "cell_type": "code",
   "execution_count": 53,
   "id": "2a4c3bc9",
   "metadata": {},
   "outputs": [
    {
     "data": {
      "text/plain": [
       "'y'"
      ]
     },
     "execution_count": 53,
     "metadata": {},
     "output_type": "execute_result"
    }
   ],
   "source": []
  },
  {
   "cell_type": "markdown",
   "id": "c576678a",
   "metadata": {},
   "source": [
    "**문자열 슬라이싱**\n",
    "- 그렇다면 \"Life is too short, You need Python\" 문자열에서 단순히 한 문자만을 뽑아 내는 것이 아니라 ‘Life’ 또는 ‘You’와 같은 단어를 뽑아 내는 방법은 없을까?"
   ]
  },
  {
   "cell_type": "code",
   "execution_count": 54,
   "id": "3a77044d",
   "metadata": {},
   "outputs": [
    {
     "data": {
      "text/plain": [
       "'Life'"
      ]
     },
     "execution_count": 54,
     "metadata": {},
     "output_type": "execute_result"
    }
   ],
   "source": []
  },
  {
   "cell_type": "markdown",
   "id": "9a775f26",
   "metadata": {},
   "source": [
    "- 위와 같이 단순하게 접근할 수도 있지만 파이썬에서는 더 좋은 방법을 제공한다. 바로 슬라이싱(slicing) 기법이다. \n",
    "- 위 예는 슬라이싱 기법으로 다음과 같이 간단하게 처리할 수 있다.\n",
    "\n",
    "> 인덱싱 기법과 슬라이싱 기법은 뒤에서 배울 자료형인 리스트나 튜플에서도 사용할 수 있다."
   ]
  },
  {
   "cell_type": "code",
   "execution_count": 55,
   "id": "19a5c3ac",
   "metadata": {},
   "outputs": [
    {
     "data": {
      "text/plain": [
       "'Life'"
      ]
     },
     "execution_count": 55,
     "metadata": {},
     "output_type": "execute_result"
    }
   ],
   "source": []
  },
  {
   "cell_type": "markdown",
   "id": "ef0005be",
   "metadata": {},
   "source": [
    "- a[0:4]는 a 문자열, 즉 \"Life is too short, You need Python\" 문자열에서 자리 번호 0부터 4까지의 문자를 뽑아 낸다는 뜻이다.\n",
    "- 하지만 ‘a[0]은 L, a[1]은 i, a[2]는 f, a[3]은 e이므로 a[0:3]으로도 Life라는 단어를 뽑아 낼 수 있지 않을까?’라는 의문이 생길 것이다. \n",
    "- 다음 예로 확인해 보자."
   ]
  },
  {
   "cell_type": "code",
   "execution_count": 56,
   "id": "5506b5ac",
   "metadata": {},
   "outputs": [
    {
     "data": {
      "text/plain": [
       "'Lif'"
      ]
     },
     "execution_count": 56,
     "metadata": {},
     "output_type": "execute_result"
    }
   ],
   "source": []
  },
  {
   "cell_type": "markdown",
   "id": "e1210d18",
   "metadata": {},
   "source": [
    "- 이렇게 되는 이유는 슬라이싱 기법으로 a[시작_번호:끝_번호]를 지정할 때 끝 번호에 해당하는 문자는 포함하지 않기 때문이다. \n",
    "- 즉, a[0:3]을 수식으로 나타내면 다음과 같다.\n",
    "\n",
    "$0 <= a < 3$"
   ]
  },
  {
   "cell_type": "markdown",
   "id": "afceeb64",
   "metadata": {},
   "source": [
    "- 이 수식을 만족하는 것은 a[0], a[1], a[2]이다. \n",
    "- 따라서 a[0:3]은 'Lif', a[0:4]는 'Life'가 되는 것이다. \n",
    "- 이 부분이 문자열 연산에서 가장 혼동하기 쉬운 부분이므로 문제를 많이 풀어 보면서 몸에 익히기 바란다."
   ]
  },
  {
   "cell_type": "markdown",
   "id": "9464b89a",
   "metadata": {},
   "source": [
    "**문자열을 슬라이싱하는 방법**"
   ]
  },
  {
   "cell_type": "code",
   "execution_count": 57,
   "id": "c39e0da3",
   "metadata": {},
   "outputs": [
    {
     "data": {
      "text/plain": [
       "'Life '"
      ]
     },
     "execution_count": 57,
     "metadata": {},
     "output_type": "execute_result"
    }
   ],
   "source": []
  },
  {
   "cell_type": "markdown",
   "id": "75e799f2",
   "metadata": {},
   "source": [
    "- 위 예는 a[0] + a[1] + a[2] + a[3] + a[4]와 동일하다. \n",
    "- a[4]는 공백 문자이기 때문에 'Life'가 아닌 'Life '가 출력된다. \n",
    "- 공백 문자 역시 L, i, f, e 와 같은 문자와 동일하게 취급되는 것을 잊지 말자. \n",
    "- 'Life'와 'Life '는 완전히 다른 문자열이다."
   ]
  },
  {
   "cell_type": "markdown",
   "id": "3d9ac908",
   "metadata": {},
   "source": [
    "- 슬라이싱할 때 항상 시작 번호가 0일 필요는 없다."
   ]
  },
  {
   "cell_type": "code",
   "execution_count": 58,
   "id": "06eca782",
   "metadata": {},
   "outputs": [
    {
     "data": {
      "text/plain": [
       "'Li'"
      ]
     },
     "execution_count": 58,
     "metadata": {},
     "output_type": "execute_result"
    }
   ],
   "source": []
  },
  {
   "cell_type": "code",
   "execution_count": 59,
   "id": "eb510ac4",
   "metadata": {},
   "outputs": [
    {
     "data": {
      "text/plain": [
       "'is'"
      ]
     },
     "execution_count": 59,
     "metadata": {},
     "output_type": "execute_result"
    }
   ],
   "source": []
  },
  {
   "cell_type": "code",
   "execution_count": 60,
   "id": "8bca2c2c",
   "metadata": {},
   "outputs": [
    {
     "data": {
      "text/plain": [
       "'short'"
      ]
     },
     "execution_count": 60,
     "metadata": {},
     "output_type": "execute_result"
    }
   ],
   "source": []
  },
  {
   "cell_type": "markdown",
   "id": "7db3a698",
   "metadata": {},
   "source": [
    "- a[시작_번호:끝_번호]에서 끝 번호 부분을 생략하면 시작 번호부터 그 문자열의 끝까지 뽑아 낸다."
   ]
  },
  {
   "cell_type": "code",
   "execution_count": 61,
   "id": "4b56e4a3",
   "metadata": {},
   "outputs": [
    {
     "data": {
      "text/plain": [
       "'You need Python'"
      ]
     },
     "execution_count": 61,
     "metadata": {},
     "output_type": "execute_result"
    }
   ],
   "source": []
  },
  {
   "cell_type": "markdown",
   "id": "33dbf0c0",
   "metadata": {},
   "source": [
    "- a[시작_번호:끝_번호]에서 시작 번호를 생략하면 문자열의 처음부터 끝 번호까지 뽑아 낸다."
   ]
  },
  {
   "cell_type": "code",
   "execution_count": 62,
   "id": "89c72d6f",
   "metadata": {},
   "outputs": [
    {
     "data": {
      "text/plain": [
       "'Life is too short'"
      ]
     },
     "execution_count": 62,
     "metadata": {},
     "output_type": "execute_result"
    }
   ],
   "source": []
  },
  {
   "cell_type": "markdown",
   "id": "85ff01ea",
   "metadata": {},
   "source": [
    "- a[시작_번호:끝_번호]에서 시작 번호와 끝 번호를 생략하면 문자열의 처음부터 끝까지 뽑아 낸다."
   ]
  },
  {
   "cell_type": "code",
   "execution_count": 63,
   "id": "34bba27a",
   "metadata": {},
   "outputs": [
    {
     "data": {
      "text/plain": [
       "'Life is too short, You need Python'"
      ]
     },
     "execution_count": 63,
     "metadata": {},
     "output_type": "execute_result"
    }
   ],
   "source": []
  },
  {
   "cell_type": "markdown",
   "id": "3b5292fd",
   "metadata": {},
   "source": [
    "- 슬라이싱에서도 인덱싱과 마찬가지로 -(빼기) 기호를 사용할 수 있다."
   ]
  },
  {
   "cell_type": "code",
   "execution_count": 64,
   "id": "a5bfdc1e",
   "metadata": {},
   "outputs": [
    {
     "data": {
      "text/plain": [
       "'You need'"
      ]
     },
     "execution_count": 64,
     "metadata": {},
     "output_type": "execute_result"
    }
   ],
   "source": []
  },
  {
   "cell_type": "markdown",
   "id": "23df28b6",
   "metadata": {},
   "source": [
    "- a[19:-7]은 a[19]에서 a[-8]까지를 의미한다. 이때에도 a[-7]은 포함하지 않는다."
   ]
  },
  {
   "cell_type": "markdown",
   "id": "616174c7",
   "metadata": {},
   "source": [
    "**슬라이싱으로 문자열 나누기**\n",
    "- 자주 사용하는 슬라이싱기법들"
   ]
  },
  {
   "cell_type": "code",
   "execution_count": 66,
   "id": "72db17ba",
   "metadata": {},
   "outputs": [
    {
     "data": {
      "text/plain": [
       "('20230331', 'Rainy')"
      ]
     },
     "execution_count": 66,
     "metadata": {},
     "output_type": "execute_result"
    }
   ],
   "source": []
  },
  {
   "cell_type": "markdown",
   "id": "546ea053",
   "metadata": {},
   "source": [
    "- 위 예는 문자열 a를 두 부분으로 나누는 기법이다. \n",
    "- 숫자 8을 기준으로 문자열 a를 양쪽으로 한 번씩 슬라이싱했다. \n",
    "- a[:8]은 a[8]을 포함하지 않고 a[8:]은 a[8]을 포함하기 때문에 8을 기준으로 해서 두 부분으로 나눌 수 있는 것이다. \n",
    "- 위 예에서는 \"20230331Rainy\" 문자열을 날짜를 나타내는 부분인 '20230331'과 날씨를 나타내는 부분인 'Rainy'로 나누는 방법을 보여 준다."
   ]
  },
  {
   "cell_type": "markdown",
   "id": "b4d18cdc",
   "metadata": {},
   "source": [
    "- \"20230331Rainy\"를 연도인 2023, 월과 일을 나타내는 0331, 날씨를 나타내는 Rainy까지 세 부분으로 나누는 방법은 다음과 같다."
   ]
  },
  {
   "cell_type": "code",
   "execution_count": 67,
   "id": "d12e414f",
   "metadata": {},
   "outputs": [
    {
     "data": {
      "text/plain": [
       "('2023', '0331', 'Rainy')"
      ]
     },
     "execution_count": 67,
     "metadata": {},
     "output_type": "execute_result"
    }
   ],
   "source": []
  },
  {
   "cell_type": "markdown",
   "id": "d3585ff3",
   "metadata": {},
   "source": [
    "- 위 예는 숫자 4와 8로 \"20230331Rainy\" 문자열을 세 부분으로 나누는 방법을 보여 준다.\n",
    "- 인덱싱과 슬라이싱은 프로그래밍할 때 자주 사용하는 기법이므로 꼭 반복해서 연습해 두자."
   ]
  },
  {
   "cell_type": "markdown",
   "id": "9dc8d294",
   "metadata": {},
   "source": [
    "**Pithon 문자열을 Python으로 바꾸려면?**\n",
    "\n",
    "- Pithon 문자열을 Python으로 바꾸려면 어떻게 해야 할까? 제일 먼저 떠오르는 생각은 다음과 같을 것이다."
   ]
  },
  {
   "cell_type": "code",
   "execution_count": 68,
   "id": "7140351d",
   "metadata": {},
   "outputs": [
    {
     "data": {
      "text/plain": [
       "'i'"
      ]
     },
     "execution_count": 68,
     "metadata": {},
     "output_type": "execute_result"
    }
   ],
   "source": []
  },
  {
   "cell_type": "code",
   "execution_count": 69,
   "id": "3fb77541",
   "metadata": {},
   "outputs": [
    {
     "ename": "TypeError",
     "evalue": "'str' object does not support item assignment",
     "output_type": "error",
     "traceback": [
      "\u001b[0;31m---------------------------------------------------------------------------\u001b[0m",
      "\u001b[0;31mTypeError\u001b[0m                                 Traceback (most recent call last)",
      "Cell \u001b[0;32mIn[69], line 1\u001b[0m\n\u001b[0;32m----> 1\u001b[0m a[\u001b[38;5;241m1\u001b[39m] \u001b[38;5;241m=\u001b[39m \u001b[38;5;124m'\u001b[39m\u001b[38;5;124my\u001b[39m\u001b[38;5;124m'\u001b[39m\n\u001b[1;32m      2\u001b[0m a\n",
      "\u001b[0;31mTypeError\u001b[0m: 'str' object does not support item assignment"
     ]
    }
   ],
   "source": []
  },
  {
   "cell_type": "markdown",
   "id": "9ff57205",
   "metadata": {},
   "source": [
    "- 오류가 나는 이유는 문자열의 요솟값은 바꿀 수 있는 값이 아니기 때문이다\n",
    "    - 그래서 문자열을 ‘변경 불가능한(immutable) 자료형’이라고도 부른다\n",
    "- 하지만 앞에서 배운 슬라이싱 기법을 사용하면 Pithon 문자열을 사용해 Python 문자열을 만들 수 있다. 다음 예를 살펴보자."
   ]
  },
  {
   "cell_type": "code",
   "execution_count": 71,
   "id": "5c0c1b35",
   "metadata": {},
   "outputs": [
    {
     "data": {
      "text/plain": [
       "'P'"
      ]
     },
     "execution_count": 71,
     "metadata": {},
     "output_type": "execute_result"
    }
   ],
   "source": []
  },
  {
   "cell_type": "code",
   "execution_count": 72,
   "id": "449fd735",
   "metadata": {},
   "outputs": [
    {
     "data": {
      "text/plain": [
       "'thon'"
      ]
     },
     "execution_count": 72,
     "metadata": {},
     "output_type": "execute_result"
    }
   ],
   "source": []
  },
  {
   "cell_type": "code",
   "execution_count": 73,
   "id": "cfb3aab8",
   "metadata": {},
   "outputs": [
    {
     "data": {
      "text/plain": [
       "'Python'"
      ]
     },
     "execution_count": 73,
     "metadata": {},
     "output_type": "execute_result"
    }
   ],
   "source": []
  },
  {
   "cell_type": "markdown",
   "id": "3f8fdb38",
   "metadata": {},
   "source": [
    "- 슬라이싱을 사용하면 \"Pithon\" 문자열을 'P' 부분과 'thon' 부분으로 나눌 수 있고, 그 사이에 'y' 문자를 추가하면 'Python'이라는 새로운 문자열을 만들 수 있다."
   ]
  },
  {
   "cell_type": "markdown",
   "id": "de12d1db",
   "metadata": {},
   "source": [
    "## 문자열 포매팅이란?\n",
    "\n",
    "- 문자열에서 또 하나 알아야 할 것으로는 ‘문자열 포매팅(string formatting)’이 있다. \n",
    "- 문자열 포매팅을 공부하기 전에 다음과 같은 문자열을 출력하는 프로그램을 작성했다고 가정해 보자.\n",
    "\n",
    "> \"현재 온도는 18도입니다.\"\n",
    "\n",
    "- 시간이 지나서 20도가 되면 다음 문장을 출력한다.\n",
    "\n",
    "> \"현재 온도는 20도입니다\"\n",
    "\n",
    "- 두 문자열은 모두 같은데 20이라는 숫자와 18이라는 숫자만 다르다. \n",
    "- 이렇게 문자열 안의 특정한 값을 바꿔야 할 경우가 있을 때 이것을 가능하게 해 주는 것이 바로 문자열 포매팅이다.\n",
    "- 쉽게 말해 문자열 포매팅이란 문자열 안에 어떤 값을 삽입하는 방법이다. "
   ]
  },
  {
   "cell_type": "markdown",
   "id": "891430e6",
   "metadata": {},
   "source": [
    "## 문자열 포매팅 따라 하기\n",
    "\n",
    "**1. 숫자 바로 대입**"
   ]
  },
  {
   "cell_type": "code",
   "execution_count": 74,
   "id": "dceffabc",
   "metadata": {},
   "outputs": [
    {
     "data": {
      "text/plain": [
       "'I eat 3 apples.'"
      ]
     },
     "execution_count": 74,
     "metadata": {},
     "output_type": "execute_result"
    }
   ],
   "source": []
  },
  {
   "cell_type": "markdown",
   "id": "0363abae",
   "metadata": {},
   "source": [
    "- 결괏값을 보면 알겠지만, 위 예제는 문자열 안에 정수 3을 삽입하는 방법을 보여 준다. \n",
    "- 문자열 안의 숫자를 넣고 싶은 자리에 %d 문자를 넣어 주고 삽입할 숫자 3은 가장 뒤에 있는 % 문자 다음에 써 넣었다. \n",
    "- 여기에서 %d는 ‘문자열 포맷 코드’라고 부른다."
   ]
  },
  {
   "cell_type": "markdown",
   "id": "46072c09",
   "metadata": {},
   "source": [
    "**2. 문자열 바로 대입**\n",
    "- 문자열 안에 꼭 숫자만 넣으라는 법은 없다. 이번에는 숫자 대신 문자열을 넣어 보자."
   ]
  },
  {
   "cell_type": "code",
   "execution_count": 75,
   "id": "a0d5c2cb",
   "metadata": {},
   "outputs": [
    {
     "data": {
      "text/plain": [
       "'I eat five apples.'"
      ]
     },
     "execution_count": 75,
     "metadata": {},
     "output_type": "execute_result"
    }
   ],
   "source": []
  },
  {
   "cell_type": "markdown",
   "id": "f0502fc4",
   "metadata": {},
   "source": [
    "- 문자열 안에 또 다른 문자열을 삽입하기 위해 앞에서 사용한 문자열 포맷 코드 %d가 아닌 %s를 썼다. \n",
    "- 어쩌면 눈치 빠른 학생은 숫자를 넣기 위해서는 %d, 문자열을 넣기 위해서는 %s를 써야 한다는 사실을 눈치챘을 것이다.\n",
    "\n",
    "> 앞에서 배운 것처럼 문자열을 대입할 때는 반드시 큰따옴표나 작은따옴표를 써야 한다."
   ]
  },
  {
   "cell_type": "markdown",
   "id": "d036bd08",
   "metadata": {},
   "source": [
    "**3. 숫자 값을 나타내는 변수로 대입**"
   ]
  },
  {
   "cell_type": "code",
   "execution_count": 76,
   "id": "b511a4e6",
   "metadata": {},
   "outputs": [
    {
     "data": {
      "text/plain": [
       "'I eat 3 apples.'"
      ]
     },
     "execution_count": 76,
     "metadata": {},
     "output_type": "execute_result"
    }
   ],
   "source": []
  },
  {
   "cell_type": "markdown",
   "id": "df132ed5",
   "metadata": {},
   "source": [
    "- 1번처럼 숫자를 바로 대입하든, 위 예제처럼 숫자 값을 나타내는 변수를 대입하든 결과는 같다."
   ]
  },
  {
   "cell_type": "markdown",
   "id": "fcd90562",
   "metadata": {},
   "source": [
    "**4. 2개 이상의 값 넣기**\n",
    "- 그렇다면 문자열 안에 1개가 아닌 여러 개의 값을 넣고 싶을 때는 어떻게 해야 할까?"
   ]
  },
  {
   "cell_type": "code",
   "execution_count": 77,
   "id": "6e76bcb8",
   "metadata": {},
   "outputs": [
    {
     "data": {
      "text/plain": [
       "'I ate 10 apples. so I was sick for three days.'"
      ]
     },
     "execution_count": 77,
     "metadata": {},
     "output_type": "execute_result"
    }
   ],
   "source": []
  },
  {
   "cell_type": "markdown",
   "id": "d6ad93ad",
   "metadata": {},
   "source": [
    "- 2개 이상의 값을 넣으려면 마지막 % 다음 괄호 안에 쉼표(,)로 구분하여 각각의 값을 넣어 주면 된다."
   ]
  },
  {
   "cell_type": "markdown",
   "id": "6d546cea",
   "metadata": {},
   "source": [
    "## 문자열 포맷 코드\n",
    "- 문자열 포매팅 예제에서는 대입해 넣는 자료형으로 정수와 문자열을 사용했지만, 이 밖에도 다양한 것을 대입할 수 있다. \n",
    "- 문자열 포맷 코드의 종류는 다음과 같다.\n",
    "\n",
    "| 코드 | 설명                   |\n",
    "|:-----|:-----------------------|\n",
    "| %s   | 문자열(String)        |\n",
    "| %c   | 문자 1개(character)   |\n",
    "| %d   | 정수(Integer)         |\n",
    "| %f   | 부동소수(floating-point) |\n",
    "| %o   | 8진수                 |\n",
    "| %x   | 16진수                |\n",
    "| %%   | Literal % (문자 % 자체) |\n",
    "\n"
   ]
  },
  {
   "cell_type": "markdown",
   "id": "3d9a6bde",
   "metadata": {},
   "source": [
    "- 여기에서 재미있는 것은 %s 포맷 코드인데, 이 코드에는 어떤 형태의 값이든 변환해 넣을 수 있다. 무슨 말인지 예를 통해 확인해 보자."
   ]
  },
  {
   "cell_type": "code",
   "execution_count": 78,
   "id": "87263602",
   "metadata": {},
   "outputs": [
    {
     "data": {
      "text/plain": [
       "'I have 3 apples'"
      ]
     },
     "execution_count": 78,
     "metadata": {},
     "output_type": "execute_result"
    }
   ],
   "source": []
  },
  {
   "cell_type": "code",
   "execution_count": 79,
   "id": "bf27664d",
   "metadata": {},
   "outputs": [
    {
     "data": {
      "text/plain": [
       "'rate is 3.234'"
      ]
     },
     "execution_count": 79,
     "metadata": {},
     "output_type": "execute_result"
    }
   ],
   "source": []
  },
  {
   "cell_type": "markdown",
   "id": "4a554ec8",
   "metadata": {},
   "source": [
    "- 3을 문자열 안에 삽입하려면 %d를 사용해야 하고 3.234를 삽입하려면 %f를 사용해야 한다. \n",
    "- 하지만 %s를 사용하면 %s는 자동으로 % 뒤에 있는 3이나 3.234와 같은 값을 문자열로 바꾸어 대입하기 때문에 이런 것을 생각하지 않아도 된다."
   ]
  },
  {
   "cell_type": "markdown",
   "id": "00780a91",
   "metadata": {},
   "source": [
    "**포매팅 연산자 %d와 %를 같이 쓸 때는 %%를 쓴다**\n",
    "\n",
    "- \"Error is 98%.\" 가 되게 출력해 보자."
   ]
  },
  {
   "cell_type": "code",
   "execution_count": 80,
   "id": "7a511248",
   "metadata": {},
   "outputs": [
    {
     "ename": "ValueError",
     "evalue": "incomplete format",
     "output_type": "error",
     "traceback": [
      "\u001b[0;31m---------------------------------------------------------------------------\u001b[0m",
      "\u001b[0;31mValueError\u001b[0m                                Traceback (most recent call last)",
      "Cell \u001b[0;32mIn[80], line 1\u001b[0m\n\u001b[0;32m----> 1\u001b[0m \u001b[38;5;124;43m\"\u001b[39;49m\u001b[38;5;124;43mError is \u001b[39;49m\u001b[38;5;132;43;01m%d\u001b[39;49;00m\u001b[38;5;124;43m%\u001b[39;49m\u001b[38;5;124;43m.\u001b[39;49m\u001b[38;5;124;43m\"\u001b[39;49m\u001b[43m \u001b[49m\u001b[38;5;241;43m%\u001b[39;49m\u001b[43m \u001b[49m\u001b[38;5;241;43m98\u001b[39;49m\n",
      "\u001b[0;31mValueError\u001b[0m: incomplete format"
     ]
    }
   ],
   "source": []
  },
  {
   "cell_type": "markdown",
   "id": "98169f17",
   "metadata": {},
   "source": [
    "- 결괏값으로 당연히 \"Error is 98%.\"가 출력될 것이라고 예상하겠지만, 파이썬은 '형식이 불완전하다'라는 오류 메시지를 보여 준다.\n",
    "- 그 이유는 ‘문자열 포맷 코드인 %d와 %가 같은 문자열 안에 존재하는 경우, %를 나타내려면 반드시 %%를 써야 한다’라는 법칙이 있기 때문이다. \n",
    "    -  %가 포맷 코드와 함께 사용될 때는 포맷 코드와 혼동을 방지하기 위해 %를 나타내려면 %%를 사용해야 \n",
    "- 이 점은 꼭 기억해 두어야 한다. 하지만 문자열 안에 %d와 같은 포매팅 연산자가 없으면 %는 홀로 쓰여도 상관없다. \n",
    "- 따라서 위 예를 제대로 실행하려면 다음과 같이 작성해야 한다."
   ]
  },
  {
   "cell_type": "code",
   "execution_count": 81,
   "id": "c0d0d790",
   "metadata": {},
   "outputs": [
    {
     "data": {
      "text/plain": [
       "'Error is 98%.'"
      ]
     },
     "execution_count": 81,
     "metadata": {},
     "output_type": "execute_result"
    }
   ],
   "source": []
  },
  {
   "cell_type": "markdown",
   "id": "45b8e0c4",
   "metadata": {},
   "source": [
    "## 포맷 코드와 숫자 함께 사용하기\n",
    "\n",
    "- 앞에서 살펴보았듯이 %d, %s 등과 같은 포맷 코드는 문자열 안에 어떤 값을 삽입할 때 사용한다. 하지만 포맷 코드를 숫자와 함께 사용하면 더 유용하다. 다음 예를 따라해 보자."
   ]
  },
  {
   "cell_type": "markdown",
   "id": "cfe3956c",
   "metadata": {},
   "source": [
    "**1. 정렬과 공백**"
   ]
  },
  {
   "cell_type": "code",
   "execution_count": 84,
   "id": "b8a6437f",
   "metadata": {},
   "outputs": [
    {
     "data": {
      "text/plain": [
       "'        hi'"
      ]
     },
     "execution_count": 84,
     "metadata": {},
     "output_type": "execute_result"
    }
   ],
   "source": []
  },
  {
   "cell_type": "markdown",
   "id": "23ac8f2d",
   "metadata": {},
   "source": [
    "- %10s는 전체 길이가 10개인 문자열 공간에서 대입되는 값을 오른쪽으로 정렬하고 그 앞의 나머지는 공백으로 남겨 두라는 의미이다.\n",
    "\n",
    "<img src=\"https://wikidocs.net/images/page/13/02_2_formating1.png\">"
   ]
  },
  {
   "cell_type": "markdown",
   "id": "1c5a42a2",
   "metadata": {},
   "source": [
    "- 그렇다면 반대쪽인 왼쪽 정렬은 %-10s가 될 것이다."
   ]
  },
  {
   "cell_type": "code",
   "execution_count": 87,
   "id": "a258c18f",
   "metadata": {},
   "outputs": [
    {
     "data": {
      "text/plain": [
       "'hi        jane.'"
      ]
     },
     "execution_count": 87,
     "metadata": {},
     "output_type": "execute_result"
    }
   ],
   "source": []
  },
  {
   "cell_type": "markdown",
   "id": "fff617a6",
   "metadata": {},
   "source": [
    "- hi를 왼쪽으로 정렬하고 나머지는 공백으로 채웠다는 것을 알 수 있다.\n",
    "\n",
    "<img src=\"https://wikidocs.net/images/page/13/02_2_formating2.png\">"
   ]
  },
  {
   "cell_type": "markdown",
   "id": "a1599a41",
   "metadata": {},
   "source": [
    "**2. 소수점 표현하기**"
   ]
  },
  {
   "cell_type": "code",
   "execution_count": 88,
   "id": "94ecd9d4",
   "metadata": {
    "scrolled": true
   },
   "outputs": [
    {
     "data": {
      "text/plain": [
       "'3.4213'"
      ]
     },
     "execution_count": 88,
     "metadata": {},
     "output_type": "execute_result"
    }
   ],
   "source": []
  },
  {
   "cell_type": "markdown",
   "id": "7a79ee28",
   "metadata": {},
   "source": [
    "- 3.42134234를 소수점 네 번째 자리까지만 나타내고 싶은 경우에는 위와 같이 작성한다. %0.4f에서 ‘.’는 소수점 포인트, 그 뒤의 숫자 4는 소수점 뒤에 나올 숫자의 개수를 말한다. 소수점 포인트 앞의 숫자는 문자열의 전체 길이를 의미하는데, %0.4f에서 사용한 숫자 0은 길이에 상관하지 않겠다는 의미이다.\n",
    "\n",
    "> %0.4f는 0을 생략하여 %.4f처럼 사용하기도 한다."
   ]
  },
  {
   "cell_type": "code",
   "execution_count": 89,
   "id": "98799be9",
   "metadata": {},
   "outputs": [
    {
     "data": {
      "text/plain": [
       "'    3.4213'"
      ]
     },
     "execution_count": 89,
     "metadata": {},
     "output_type": "execute_result"
    }
   ],
   "source": []
  },
  {
   "cell_type": "markdown",
   "id": "fc2477eb",
   "metadata": {},
   "source": [
    "- 위는 숫자 3.42134234를 소수점 네 번째 자리까지만 표시하고 전체 길이가 10개인 문자열 공간에서 오른쪽으로 정렬하는 예를 보여 준다.\n",
    "\n",
    "<img src=\"https://wikidocs.net/images/page/13/02_2_formating3.png\">"
   ]
  },
  {
   "cell_type": "markdown",
   "id": "e90daf1a",
   "metadata": {},
   "source": [
    "## format 함수를 사용한 포매팅\n",
    "\n",
    "- 문자열의 format 함수를 사용하면 좀 더 발전된 스타일로 문자열 포맷을 지정할 수 있다. 앞에서 살펴본 문자열 포매팅 예제를 format 함수를 사용해서 바꾸면 다음과 같다."
   ]
  },
  {
   "cell_type": "markdown",
   "id": "17481704",
   "metadata": {},
   "source": [
    "**숫자 바로 대입하기**"
   ]
  },
  {
   "cell_type": "code",
   "execution_count": 90,
   "id": "6b7e90e9",
   "metadata": {},
   "outputs": [
    {
     "data": {
      "text/plain": [
       "'I eat 3 apples'"
      ]
     },
     "execution_count": 90,
     "metadata": {},
     "output_type": "execute_result"
    }
   ],
   "source": []
  },
  {
   "cell_type": "markdown",
   "id": "f59b7672",
   "metadata": {},
   "source": [
    "**문자열 바로 대입하기**"
   ]
  },
  {
   "cell_type": "code",
   "execution_count": 91,
   "id": "78120dbb",
   "metadata": {},
   "outputs": [
    {
     "data": {
      "text/plain": [
       "'I eat five apples'"
      ]
     },
     "execution_count": 91,
     "metadata": {},
     "output_type": "execute_result"
    }
   ],
   "source": []
  },
  {
   "cell_type": "markdown",
   "id": "a90bd3e4",
   "metadata": {},
   "source": [
    "**숫자 값을 가진 변수로 대입하기**"
   ]
  },
  {
   "cell_type": "code",
   "execution_count": 92,
   "id": "634f0388",
   "metadata": {},
   "outputs": [
    {
     "data": {
      "text/plain": [
       "'I eat 3 apples'"
      ]
     },
     "execution_count": 92,
     "metadata": {},
     "output_type": "execute_result"
    }
   ],
   "source": []
  },
  {
   "cell_type": "markdown",
   "id": "8f14a7af",
   "metadata": {},
   "source": [
    "**2개 이상의 값 넣기**"
   ]
  },
  {
   "cell_type": "code",
   "execution_count": 93,
   "id": "311ee037",
   "metadata": {},
   "outputs": [
    {
     "data": {
      "text/plain": [
       "'I ate 10 apples. so I was sick for three days.'"
      ]
     },
     "execution_count": 93,
     "metadata": {},
     "output_type": "execute_result"
    }
   ],
   "source": []
  },
  {
   "cell_type": "markdown",
   "id": "566f7acc",
   "metadata": {},
   "source": [
    "- 2개 이상의 값을 넣을 경우, 문자열의 {0}, {1}과 같은 인덱스 항목이 format 함수의 입력값으로 순서에 맞게 바뀐다. \n",
    "- 위 예에서 {0}은 format 함수의 첫 번째 입력값인 number, {1}은 format 함수의 두 번째 입력값인 day로 바뀐다."
   ]
  },
  {
   "cell_type": "markdown",
   "id": "f50aff41",
   "metadata": {},
   "source": [
    "**이름으로 넣기**"
   ]
  },
  {
   "cell_type": "code",
   "execution_count": 94,
   "id": "a03d4dc8",
   "metadata": {},
   "outputs": [
    {
     "data": {
      "text/plain": [
       "'I ate 10 apples. so I was sick for 3 days.'"
      ]
     },
     "execution_count": 94,
     "metadata": {},
     "output_type": "execute_result"
    }
   ],
   "source": []
  },
  {
   "cell_type": "markdown",
   "id": "00c497fb",
   "metadata": {},
   "source": [
    "- {0}, {1}과 같은 인덱스 항목 대신 더 편리한 {name} 형태를 사용하는 방법도 있다. {name} 형태를 사용할 경우, format 함수에는 반드시 name=value와 같은 형태의 입력값이 있어야 한다. 위 예는 문자열의 {number}, {day}가 format 함수의 입력값인 number=10, day=3 값으로 각각 바뀌는 것을 보여 주고 있다."
   ]
  },
  {
   "cell_type": "markdown",
   "id": "5380dc32",
   "metadata": {},
   "source": [
    "**인덱스와 이름을 혼용해서 넣기**"
   ]
  },
  {
   "cell_type": "code",
   "execution_count": 95,
   "id": "3d5a3cb9",
   "metadata": {},
   "outputs": [
    {
     "data": {
      "text/plain": [
       "'I ate 10 apples. so I was sick for 3 days.'"
      ]
     },
     "execution_count": 95,
     "metadata": {},
     "output_type": "execute_result"
    }
   ],
   "source": []
  },
  {
   "cell_type": "markdown",
   "id": "a968e9fd",
   "metadata": {},
   "source": [
    "- 인덱스 항목과 name=value 형태를 혼용하는 것도 가능하다."
   ]
  },
  {
   "cell_type": "markdown",
   "id": "4c0c67b6",
   "metadata": {},
   "source": [
    "**왼쪽 정렬**"
   ]
  },
  {
   "cell_type": "code",
   "execution_count": 96,
   "id": "35e942c0",
   "metadata": {},
   "outputs": [
    {
     "data": {
      "text/plain": [
       "'hi        '"
      ]
     },
     "execution_count": 96,
     "metadata": {},
     "output_type": "execute_result"
    }
   ],
   "source": []
  },
  {
   "cell_type": "markdown",
   "id": "45c29535",
   "metadata": {},
   "source": [
    "- :<10 표현식을 사용하면 치환되는 문자열을 왼쪽으로 정렬하고 문자열의 총 자릿수를 10으로 맞출 수 있다."
   ]
  },
  {
   "cell_type": "markdown",
   "id": "5ca030a6",
   "metadata": {},
   "source": [
    "**오른쪽 정렬**"
   ]
  },
  {
   "cell_type": "code",
   "execution_count": 97,
   "id": "c62c7487",
   "metadata": {},
   "outputs": [
    {
     "data": {
      "text/plain": [
       "'        hi'"
      ]
     },
     "execution_count": 97,
     "metadata": {},
     "output_type": "execute_result"
    }
   ],
   "source": []
  },
  {
   "cell_type": "markdown",
   "id": "24385fba",
   "metadata": {},
   "source": [
    "- 오른쪽 정렬은 :< 대신 :>을 사용하면 된다. 화살표의 방향을 생각하면 어느 쪽으로 정렬되는지 바로 알 수 있을 것이다."
   ]
  },
  {
   "cell_type": "markdown",
   "id": "0700cdb0",
   "metadata": {},
   "source": [
    "**가운데 정렬**"
   ]
  },
  {
   "cell_type": "code",
   "execution_count": 98,
   "id": "f28a47a1",
   "metadata": {},
   "outputs": [
    {
     "data": {
      "text/plain": [
       "'    hi    '"
      ]
     },
     "execution_count": 98,
     "metadata": {},
     "output_type": "execute_result"
    }
   ],
   "source": []
  },
  {
   "cell_type": "markdown",
   "id": "ea0a8b45",
   "metadata": {},
   "source": [
    "- :^를 사용하면 가운데 정렬도 가능하다."
   ]
  },
  {
   "cell_type": "markdown",
   "id": "c83c2e21",
   "metadata": {},
   "source": [
    "**공백 채우기**"
   ]
  },
  {
   "cell_type": "code",
   "execution_count": 100,
   "id": "ac8f9460",
   "metadata": {},
   "outputs": [
    {
     "data": {
      "text/plain": [
       "'====hi===='"
      ]
     },
     "execution_count": 100,
     "metadata": {},
     "output_type": "execute_result"
    }
   ],
   "source": []
  },
  {
   "cell_type": "code",
   "execution_count": 101,
   "id": "193ed1aa",
   "metadata": {},
   "outputs": [
    {
     "data": {
      "text/plain": [
       "'hi!!!!!!!!'"
      ]
     },
     "execution_count": 101,
     "metadata": {},
     "output_type": "execute_result"
    }
   ],
   "source": []
  },
  {
   "cell_type": "markdown",
   "id": "38f54b2b",
   "metadata": {},
   "source": [
    "- 정렬할 때 공백 문자 대신 지정한 문자 값으로 채워 넣을 수도 있다. 채워 넣을 문자 값은 정렬 문자 <, >, ^ 바로 앞에 넣어야 한다. 위 예에서 첫 번째 예제는 가운데(^)로 정렬하고 빈 공간을 =로 채웠고, 두 번째 예제는 왼쪽(<)으로 정렬하고 빈 공간을 !로 채웠다."
   ]
  },
  {
   "cell_type": "markdown",
   "id": "3eaa60f7",
   "metadata": {},
   "source": [
    "**소수점 표현하기**"
   ]
  },
  {
   "cell_type": "code",
   "execution_count": 102,
   "id": "cf2370c5",
   "metadata": {},
   "outputs": [
    {
     "data": {
      "text/plain": [
       "'3.4213'"
      ]
     },
     "execution_count": 102,
     "metadata": {},
     "output_type": "execute_result"
    }
   ],
   "source": []
  },
  {
   "cell_type": "markdown",
   "id": "899dbe3d",
   "metadata": {},
   "source": [
    "- 위는 format 함수를 사용해 소수점을 4자리까지만 표현하는 방법을 보여 준다. 앞에서 살펴보았던 표현식 0.4f를 그대로 사용한 것을 알 수 있다."
   ]
  },
  {
   "cell_type": "code",
   "execution_count": 103,
   "id": "87c1e6c0",
   "metadata": {},
   "outputs": [
    {
     "data": {
      "text/plain": [
       "'    3.4213'"
      ]
     },
     "execution_count": 103,
     "metadata": {},
     "output_type": "execute_result"
    }
   ],
   "source": []
  },
  {
   "cell_type": "markdown",
   "id": "d5eb39b0",
   "metadata": {},
   "source": [
    "- 위와 같이 자릿수를 10으로 맞출 수도 있다. 이 또한 앞에서 살펴본 10.4f의 표현식을 그대로 사용한 것을 알 수 있다."
   ]
  },
  {
   "cell_type": "markdown",
   "id": "9cb5879d",
   "metadata": {},
   "source": [
    "**{ 또는 } 문자 표현하기**"
   ]
  },
  {
   "cell_type": "code",
   "execution_count": 104,
   "id": "aac7d8b5",
   "metadata": {},
   "outputs": [
    {
     "data": {
      "text/plain": [
       "'{ and }'"
      ]
     },
     "execution_count": 104,
     "metadata": {},
     "output_type": "execute_result"
    }
   ],
   "source": []
  },
  {
   "cell_type": "markdown",
   "id": "d5474cda",
   "metadata": {},
   "source": [
    "- format 함수를 사용해 문자열을 포매팅할 경우, {}와 같은 중괄호 문자를 포매팅 문자가 아닌 문자 그대로 사용하고 싶은 경우에는 위 예의 {{}}처럼 2개를 연속해서 사용하면 된다."
   ]
  },
  {
   "cell_type": "markdown",
   "id": "06720fff",
   "metadata": {},
   "source": [
    "## f 문자열 포매팅\n",
    "\n",
    "- 파이썬 3.6 버전부터는 f 문자열 포매팅 기능을 사용할 수 있다. 파이썬 3.6 미만 버전에서는 사용할 수 없는 기능이므로 주의해야 한다.\n",
    "- 다음과 같이 문자열 앞에 f 접두사를 붙이면 f 문자열 포매팅 기능을 사용할 수 있다."
   ]
  },
  {
   "cell_type": "code",
   "execution_count": 105,
   "id": "f97e9899",
   "metadata": {},
   "outputs": [
    {
     "data": {
      "text/plain": [
       "'나의 이름은 홍길동입니다. 나이는 30입니다.'"
      ]
     },
     "execution_count": 105,
     "metadata": {},
     "output_type": "execute_result"
    }
   ],
   "source": []
  },
  {
   "cell_type": "markdown",
   "id": "32f67636",
   "metadata": {},
   "source": [
    "- f 문자열 포매팅은 위와 같이 name, age와 같은 변숫값을 생성한 후에 그 값을 참조할 수 있다. 또한 f 문자열 포매팅은 표현식을 지원하기 때문에 다음과 같은 것도 가능하다.\n",
    "\n",
    "> 표현식이란 중괄호 안의 변수를 계산식과 함께 사용하는 것을 말한다."
   ]
  },
  {
   "cell_type": "code",
   "execution_count": 106,
   "id": "785ed5a6",
   "metadata": {},
   "outputs": [
    {
     "data": {
      "text/plain": [
       "'나는 내년이면 31살이 된다.'"
      ]
     },
     "execution_count": 106,
     "metadata": {},
     "output_type": "execute_result"
    }
   ],
   "source": []
  },
  {
   "cell_type": "markdown",
   "id": "5e2662c1",
   "metadata": {},
   "source": [
    "- 딕셔너리는 f 문자열 포매팅에서 다음과 같이 사용할 수 있다."
   ]
  },
  {
   "cell_type": "code",
   "execution_count": 107,
   "id": "7e2a9a80",
   "metadata": {},
   "outputs": [
    {
     "data": {
      "text/plain": [
       "'나의 이름은 홍길동입니다. 나이는 30입니다.'"
      ]
     },
     "execution_count": 107,
     "metadata": {},
     "output_type": "execute_result"
    }
   ],
   "source": []
  },
  {
   "cell_type": "markdown",
   "id": "69ead6c1",
   "metadata": {},
   "source": [
    "> 딕셔너리는 Key와 Value라는 것을 한 쌍으로 가지는 자료형이다. 02-5에서 자세히 알아본다."
   ]
  },
  {
   "cell_type": "markdown",
   "id": "1a7e19ad",
   "metadata": {},
   "source": [
    "- 정렬은 다음과 같이 할 수 있다."
   ]
  },
  {
   "cell_type": "code",
   "execution_count": 108,
   "id": "7890d44a",
   "metadata": {},
   "outputs": [
    {
     "data": {
      "text/plain": [
       "'hi        '"
      ]
     },
     "execution_count": 108,
     "metadata": {},
     "output_type": "execute_result"
    }
   ],
   "source": [
    "  # 왼쪽 정렬"
   ]
  },
  {
   "cell_type": "code",
   "execution_count": 109,
   "id": "2ed73e0d",
   "metadata": {},
   "outputs": [
    {
     "data": {
      "text/plain": [
       "'        hi'"
      ]
     },
     "execution_count": 109,
     "metadata": {},
     "output_type": "execute_result"
    }
   ],
   "source": [
    "  # 오른쪽 정렬"
   ]
  },
  {
   "cell_type": "code",
   "execution_count": 110,
   "id": "4be65d62",
   "metadata": {},
   "outputs": [
    {
     "data": {
      "text/plain": [
       "'    hi    '"
      ]
     },
     "execution_count": 110,
     "metadata": {},
     "output_type": "execute_result"
    }
   ],
   "source": [
    "  # 가운데 정렬"
   ]
  },
  {
   "cell_type": "markdown",
   "id": "557df721",
   "metadata": {},
   "source": [
    "- 공백 채우기는 다음과 같이 할 수 있다."
   ]
  },
  {
   "cell_type": "code",
   "execution_count": 111,
   "id": "59c02d13",
   "metadata": {},
   "outputs": [
    {
     "data": {
      "text/plain": [
       "'====hi===='"
      ]
     },
     "execution_count": 111,
     "metadata": {},
     "output_type": "execute_result"
    }
   ],
   "source": [
    "  # 가운데 정렬하고 '=' 문자로 공백 채우기"
   ]
  },
  {
   "cell_type": "code",
   "execution_count": 112,
   "id": "3e46ae07",
   "metadata": {},
   "outputs": [
    {
     "data": {
      "text/plain": [
       "'hi!!!!!!!!'"
      ]
     },
     "execution_count": 112,
     "metadata": {},
     "output_type": "execute_result"
    }
   ],
   "source": [
    "  # 왼쪽 정렬하고 '!' 문자로 공백 채우기"
   ]
  },
  {
   "cell_type": "markdown",
   "id": "e0b443a3",
   "metadata": {},
   "source": [
    "- 소수점은 다음과 같이 표현할 수 있다."
   ]
  },
  {
   "cell_type": "code",
   "execution_count": 114,
   "id": "4322bc83",
   "metadata": {},
   "outputs": [
    {
     "data": {
      "text/plain": [
       "'3.4213'"
      ]
     },
     "execution_count": 114,
     "metadata": {},
     "output_type": "execute_result"
    }
   ],
   "source": [
    "y = 3.42134234\n",
    "  # 소수점 4자리까지만 표현"
   ]
  },
  {
   "cell_type": "code",
   "execution_count": 115,
   "id": "6306c211",
   "metadata": {},
   "outputs": [
    {
     "data": {
      "text/plain": [
       "'    3.4213'"
      ]
     },
     "execution_count": 115,
     "metadata": {},
     "output_type": "execute_result"
    }
   ],
   "source": [
    "  # 소수점 4자리까지 표현하고 총 자리수를 10으로 맞춤"
   ]
  },
  {
   "cell_type": "markdown",
   "id": "204e0f6c",
   "metadata": {},
   "source": [
    "- f 문자열에서 {}를 문자 그대로 표시하려면 다음과 같이 2개를 동시에 사용해야 한다."
   ]
  },
  {
   "cell_type": "code",
   "execution_count": 116,
   "id": "125a5359",
   "metadata": {},
   "outputs": [
    {
     "data": {
      "text/plain": [
       "'{ and }'"
      ]
     },
     "execution_count": 116,
     "metadata": {},
     "output_type": "execute_result"
    }
   ],
   "source": []
  },
  {
   "cell_type": "markdown",
   "id": "10a0bc47",
   "metadata": {},
   "source": [
    "**문제**\n",
    "- format 함수 또는 f 문자열 포메팅을 사용, 다음 문자열을 출력해 보자\n",
    "\n",
    "> !!!python!!!"
   ]
  },
  {
   "cell_type": "code",
   "execution_count": 119,
   "id": "193b47a3",
   "metadata": {},
   "outputs": [
    {
     "data": {
      "text/plain": [
       "'!!!python!!!'"
      ]
     },
     "execution_count": 119,
     "metadata": {},
     "output_type": "execute_result"
    }
   ],
   "source": []
  },
  {
   "cell_type": "code",
   "execution_count": null,
   "id": "53f835ac",
   "metadata": {},
   "outputs": [],
   "source": []
  },
  {
   "cell_type": "markdown",
   "id": "f7bff641",
   "metadata": {},
   "source": [
    "## 문자열 관련 함수들\n",
    "- 문자열 자료형은 자체적으로 함수를 가지고 있다. 이들 함수를 다른 말로 ‘문자열 내장 함수’라고 한다. 이 내장 함수를 사용하려면 문자열 변수 이름 뒤에 ‘.’를 붙인 후 함수 이름을 써 주면 된다. 이제 문자열의 내장 함수에 대해서 알아보자."
   ]
  },
  {
   "cell_type": "markdown",
   "id": "90571382",
   "metadata": {},
   "source": [
    "**문자 개수 세기 - count**"
   ]
  },
  {
   "cell_type": "code",
   "execution_count": 120,
   "id": "c2b70b2c",
   "metadata": {},
   "outputs": [
    {
     "data": {
      "text/plain": [
       "2"
      ]
     },
     "execution_count": 120,
     "metadata": {},
     "output_type": "execute_result"
    }
   ],
   "source": [
    "a = \"hobby\"\n"
   ]
  },
  {
   "cell_type": "markdown",
   "id": "e7934029",
   "metadata": {},
   "source": [
    "- count 함수로 문자열 중 문자 b의 개수를 리턴했다."
   ]
  },
  {
   "cell_type": "markdown",
   "id": "42f625e2",
   "metadata": {},
   "source": [
    "**위치 알려 주기 1 - find**"
   ]
  },
  {
   "cell_type": "code",
   "execution_count": 121,
   "id": "cbecc416",
   "metadata": {},
   "outputs": [
    {
     "data": {
      "text/plain": [
       "14"
      ]
     },
     "execution_count": 121,
     "metadata": {},
     "output_type": "execute_result"
    }
   ],
   "source": [
    "a = \"Python is the best choice\"\n"
   ]
  },
  {
   "cell_type": "code",
   "execution_count": 122,
   "id": "fe7f48d0",
   "metadata": {},
   "outputs": [
    {
     "data": {
      "text/plain": [
       "-1"
      ]
     },
     "execution_count": 122,
     "metadata": {},
     "output_type": "execute_result"
    }
   ],
   "source": []
  },
  {
   "cell_type": "markdown",
   "id": "8d0486e5",
   "metadata": {},
   "source": [
    "- find 함수로 문자열 중 문자 b가 처음으로 나온 위치를 반환했다. 만약 찾는 문자나 문자열이 존재하지 않는다면 -1을 반환한다.\n",
    "\n",
    "> 파이썬은 숫자를 0부터 세기 때문에 b의 위치는 15가 아닌 14가 된다."
   ]
  },
  {
   "cell_type": "markdown",
   "id": "f6b367b9",
   "metadata": {},
   "source": [
    "**위치 알려 주기 2 - index**"
   ]
  },
  {
   "cell_type": "code",
   "execution_count": 123,
   "id": "2e6f87e9",
   "metadata": {},
   "outputs": [
    {
     "data": {
      "text/plain": [
       "8"
      ]
     },
     "execution_count": 123,
     "metadata": {},
     "output_type": "execute_result"
    }
   ],
   "source": [
    "a = \"Life is too short\"\n"
   ]
  },
  {
   "cell_type": "code",
   "execution_count": 124,
   "id": "b874d8f9",
   "metadata": {},
   "outputs": [
    {
     "data": {
      "text/plain": [
       "8"
      ]
     },
     "execution_count": 124,
     "metadata": {},
     "output_type": "execute_result"
    }
   ],
   "source": []
  },
  {
   "cell_type": "code",
   "execution_count": 125,
   "id": "e1edf31b",
   "metadata": {},
   "outputs": [
    {
     "ename": "ValueError",
     "evalue": "substring not found",
     "output_type": "error",
     "traceback": [
      "\u001b[0;31m---------------------------------------------------------------------------\u001b[0m",
      "\u001b[0;31mValueError\u001b[0m                                Traceback (most recent call last)",
      "Cell \u001b[0;32mIn[125], line 1\u001b[0m\n\u001b[0;32m----> 1\u001b[0m \u001b[43ma\u001b[49m\u001b[38;5;241;43m.\u001b[39;49m\u001b[43mindex\u001b[49m\u001b[43m(\u001b[49m\u001b[38;5;124;43m'\u001b[39;49m\u001b[38;5;124;43mk\u001b[39;49m\u001b[38;5;124;43m'\u001b[39;49m\u001b[43m)\u001b[49m\n",
      "\u001b[0;31mValueError\u001b[0m: substring not found"
     ]
    }
   ],
   "source": []
  },
  {
   "cell_type": "code",
   "execution_count": 126,
   "id": "bfa444a2",
   "metadata": {},
   "outputs": [
    {
     "data": {
      "text/plain": [
       "-1"
      ]
     },
     "execution_count": 126,
     "metadata": {},
     "output_type": "execute_result"
    }
   ],
   "source": []
  },
  {
   "cell_type": "markdown",
   "id": "fb8e4ea7",
   "metadata": {},
   "source": [
    "- index 함수로 문자열 중 문자 t가 맨 처음으로 나온 위치를 반환했다. 만약 찾는 문자나 문자열이 존재하지 않는다면 오류가 발생한다. 앞의 find 함수와 다른 점은 문자열 안에 존재하지 않는 문자를 찾으면 오류가 발생한다는 것이다."
   ]
  },
  {
   "cell_type": "markdown",
   "id": "07704565",
   "metadata": {},
   "source": [
    "**문자열 삽입 - join**"
   ]
  },
  {
   "cell_type": "code",
   "execution_count": 127,
   "id": "7b259baf",
   "metadata": {},
   "outputs": [
    {
     "data": {
      "text/plain": [
       "'a,b,c,d'"
      ]
     },
     "execution_count": 127,
     "metadata": {},
     "output_type": "execute_result"
    }
   ],
   "source": []
  },
  {
   "cell_type": "markdown",
   "id": "41063d50",
   "metadata": {},
   "source": [
    "- join 함수로 abcd 문자열의 각각의 문자 사이에 ‘,’를 삽입했다.\n",
    "\n",
    "- join 함수는 문자열뿐만 아니라 앞으로 배울 리스트나 튜플도 입력으로 사용할 수 있다(리스트와 튜플은 곧 배울 내용이므로 여기에서는 잠시 눈으로만 살펴보자). join 함수의 입력으로 리스트를 사용하는 예는 다음과 같다."
   ]
  },
  {
   "cell_type": "code",
   "execution_count": 128,
   "id": "cce21c34",
   "metadata": {},
   "outputs": [
    {
     "data": {
      "text/plain": [
       "'a,b,c,d'"
      ]
     },
     "execution_count": 128,
     "metadata": {},
     "output_type": "execute_result"
    }
   ],
   "source": []
  },
  {
   "cell_type": "markdown",
   "id": "95dc5f9f",
   "metadata": {},
   "source": [
    "**소문자를 대문자로 바꾸기 - upper**"
   ]
  },
  {
   "cell_type": "code",
   "execution_count": 130,
   "id": "f1653b04",
   "metadata": {},
   "outputs": [
    {
     "data": {
      "text/plain": [
       "'HI'"
      ]
     },
     "execution_count": 130,
     "metadata": {},
     "output_type": "execute_result"
    }
   ],
   "source": [
    "a = \"hi\"\n"
   ]
  },
  {
   "cell_type": "markdown",
   "id": "a490dc34",
   "metadata": {},
   "source": [
    "- upper 함수는 소문자를 대문자로 바꾸어 준다. 만약 문자열이 이미 대문자라면 아무런 변화도 일어나지 않을 것이다."
   ]
  },
  {
   "cell_type": "markdown",
   "id": "c55d504c",
   "metadata": {},
   "source": [
    "**대문자를 소문자로 바꾸기 - lower**"
   ]
  },
  {
   "cell_type": "code",
   "execution_count": 132,
   "id": "93af897f",
   "metadata": {},
   "outputs": [
    {
     "data": {
      "text/plain": [
       "'hi'"
      ]
     },
     "execution_count": 132,
     "metadata": {},
     "output_type": "execute_result"
    }
   ],
   "source": [
    "a = \"HI\"\n"
   ]
  },
  {
   "cell_type": "markdown",
   "id": "a78144c8",
   "metadata": {},
   "source": [
    "- lower 함수는 대문자를 소문자로 바꾸어 준다."
   ]
  },
  {
   "cell_type": "markdown",
   "id": "6cec1db0",
   "metadata": {},
   "source": [
    "**왼쪽 공백 지우기 - lstrip**"
   ]
  },
  {
   "cell_type": "code",
   "execution_count": 133,
   "id": "734f3e67",
   "metadata": {},
   "outputs": [
    {
     "data": {
      "text/plain": [
       "'hi '"
      ]
     },
     "execution_count": 133,
     "metadata": {},
     "output_type": "execute_result"
    }
   ],
   "source": [
    "a = \" hi \"\n"
   ]
  },
  {
   "cell_type": "markdown",
   "id": "39c29fcc",
   "metadata": {},
   "source": [
    "- lstrip 함수는 문자열 중 가장 왼쪽에 있는 한 칸 이상의 연속된 공백들을 모두 지운다. lstrip에서 l은 left를 의미한다."
   ]
  },
  {
   "cell_type": "markdown",
   "id": "dbd6fa17",
   "metadata": {},
   "source": [
    "**오른쪽 공백 지우기 - rstrip**"
   ]
  },
  {
   "cell_type": "code",
   "execution_count": 134,
   "id": "936dc9a5",
   "metadata": {},
   "outputs": [
    {
     "data": {
      "text/plain": [
       "' hi'"
      ]
     },
     "execution_count": 134,
     "metadata": {},
     "output_type": "execute_result"
    }
   ],
   "source": [
    "a= \" hi \"\n"
   ]
  },
  {
   "cell_type": "markdown",
   "id": "66791854",
   "metadata": {},
   "source": [
    "- rstrip 함수는 문자열 중 가장 오른쪽에 있는 한 칸 이상의 연속된 공백을 모두 지운다. rstrip에서 r은 right를 의미한다."
   ]
  },
  {
   "cell_type": "markdown",
   "id": "35de69dd",
   "metadata": {},
   "source": [
    "**양쪽 공백 지우기 - strip**"
   ]
  },
  {
   "cell_type": "code",
   "execution_count": 135,
   "id": "85b7c8fb",
   "metadata": {},
   "outputs": [
    {
     "data": {
      "text/plain": [
       "'hi'"
      ]
     },
     "execution_count": 135,
     "metadata": {},
     "output_type": "execute_result"
    }
   ],
   "source": [
    "a = \" hi \"\n"
   ]
  },
  {
   "cell_type": "markdown",
   "id": "de507143",
   "metadata": {},
   "source": [
    "- strip 함수는 문자열 양쪽에 있는 한 칸 이상의 연속된 공백을 모두 지운다."
   ]
  },
  {
   "cell_type": "markdown",
   "id": "23967560",
   "metadata": {},
   "source": [
    "**문자열 바꾸기 - replace**"
   ]
  },
  {
   "cell_type": "code",
   "execution_count": 136,
   "id": "3d32ec44",
   "metadata": {},
   "outputs": [
    {
     "data": {
      "text/plain": [
       "'Your leg is too short'"
      ]
     },
     "execution_count": 136,
     "metadata": {},
     "output_type": "execute_result"
    }
   ],
   "source": [
    "a = \"Life is too short\"\n"
   ]
  },
  {
   "cell_type": "markdown",
   "id": "301c3871",
   "metadata": {},
   "source": [
    "- replace 함수는 replace(바뀔_문자열, 바꿀_문자열)처럼 사용해서 문자열 안의 특정한 값을 다른 값으로 치환해 준다."
   ]
  },
  {
   "cell_type": "markdown",
   "id": "4e0d62b7",
   "metadata": {},
   "source": [
    "**문자열 나누기 - split**"
   ]
  },
  {
   "cell_type": "code",
   "execution_count": 137,
   "id": "e36cb2e3",
   "metadata": {},
   "outputs": [
    {
     "data": {
      "text/plain": [
       "['Life', 'is', 'too', 'short']"
      ]
     },
     "execution_count": 137,
     "metadata": {},
     "output_type": "execute_result"
    }
   ],
   "source": [
    "a = \"Life is too short\"\n"
   ]
  },
  {
   "cell_type": "code",
   "execution_count": 138,
   "id": "628f6dda",
   "metadata": {},
   "outputs": [
    {
     "data": {
      "text/plain": [
       "['a', 'b', 'c', 'd']"
      ]
     },
     "execution_count": 138,
     "metadata": {},
     "output_type": "execute_result"
    }
   ],
   "source": [
    "b = \"a:b:c:d\"\n"
   ]
  },
  {
   "cell_type": "markdown",
   "id": "516113a5",
   "metadata": {},
   "source": [
    "- split 함수는 a.split()처럼 괄호 안에 아무 값도 넣어 주지 않으면 공백([Space]], [Tab], [Enter])을 기준으로 문자열을 나누어 준다. 만약 b.split(':')처럼 괄호 안에 특정 값이 있을 경우에는 괄호 안의 값을 구분자로 해서 문자열을 나누어 준다. 이렇게 나눈 값은 리스트에 하나씩 들어간다. ['Life', 'is', 'too', 'short']나 ['a', 'b', 'c', 'd']가 리스트인데, 02-3에서 자세히 알아볼 것이므로 여기에서는 너무 신경 쓰지 않아도 된다."
   ]
  },
  {
   "cell_type": "markdown",
   "id": "187687bf",
   "metadata": {},
   "source": [
    "**착각하기 쉬운 문자열 함수**\n",
    "- 소문자를 대문자로 바꾸어 주는 다음의 예를 보자."
   ]
  },
  {
   "cell_type": "code",
   "execution_count": 139,
   "id": "a25d6bcb",
   "metadata": {},
   "outputs": [
    {
     "data": {
      "text/plain": [
       "'HI'"
      ]
     },
     "execution_count": 139,
     "metadata": {},
     "output_type": "execute_result"
    }
   ],
   "source": [
    "a = 'hi'\n"
   ]
  },
  {
   "cell_type": "markdown",
   "id": "197db9b6",
   "metadata": {},
   "source": [
    "- 이와 같이 실행한 후에 a 변수의 값은 'HI'로 변했을까? 아니면 'hi' 값을 유지할까? 다음과 같이 확인해 보자."
   ]
  },
  {
   "cell_type": "code",
   "execution_count": 140,
   "id": "11b58426",
   "metadata": {},
   "outputs": [
    {
     "data": {
      "text/plain": [
       "'hi'"
      ]
     },
     "execution_count": 140,
     "metadata": {},
     "output_type": "execute_result"
    }
   ],
   "source": []
  },
  {
   "cell_type": "markdown",
   "id": "ff72c296",
   "metadata": {},
   "source": [
    "- a.upper()를 수행하더라도 a 변수의 값은 변하지 않았다. 왜냐하면 a.upper()를 실행하면 upper 함수는 a 변수의 값 자체를 변경하는 것이 아니라 대문자로 바꾼 값을 리턴하기 때문이다. 문자열은 이전에도 잠깐 언급했지만 자체의 값을 변경할 수 없는 immutable 자료형이다. 따라서 a 값을 'HI' 로 바꾸고 싶다면 다음과 같이 대입문을 사용해야 한다."
   ]
  },
  {
   "cell_type": "code",
   "execution_count": 141,
   "id": "e463b42d",
   "metadata": {},
   "outputs": [
    {
     "data": {
      "text/plain": [
       "'HI'"
      ]
     },
     "execution_count": 141,
     "metadata": {},
     "output_type": "execute_result"
    }
   ],
   "source": []
  },
  {
   "cell_type": "markdown",
   "id": "dc77a56a",
   "metadata": {},
   "source": [
    "- upper 뿐만 아니라 lower, join, lstrip, rstrip, strip, replace, split 함수는 모두 이와 같은 규칙이 적용되어 문자열 자체의 값이 변경되는 것이 아니라 변경된 값을 리턴한다는 사실에 주의하자."
   ]
  },
  {
   "cell_type": "markdown",
   "id": "b72dc282",
   "metadata": {},
   "source": [
    "**문제**\n",
    "\n",
    "- 문자열 \"hello world\"를 대문자로 변환하여 출력하세요."
   ]
  },
  {
   "cell_type": "code",
   "execution_count": null,
   "id": "62c42d08",
   "metadata": {},
   "outputs": [],
   "source": []
  },
  {
   "cell_type": "markdown",
   "id": "de60b495",
   "metadata": {},
   "source": [
    "- 문자열 \"Hello World\"를 소문자로 변환하여 출력하세요."
   ]
  },
  {
   "cell_type": "code",
   "execution_count": null,
   "id": "f6b6bbfe",
   "metadata": {},
   "outputs": [],
   "source": []
  },
  {
   "cell_type": "markdown",
   "id": "2a5519c6",
   "metadata": {},
   "source": [
    "- 문자열 \"apple,banana,grape\"을 쉼표(,)를 기준으로 분리하여 리스트로 출력하세요."
   ]
  },
  {
   "cell_type": "code",
   "execution_count": null,
   "id": "429802ec",
   "metadata": {},
   "outputs": [],
   "source": []
  },
  {
   "cell_type": "markdown",
   "id": "a82cd9a5",
   "metadata": {},
   "source": [
    "- 문자열 \" Python \"의 양쪽 공백을 제거하여 출력하세요."
   ]
  },
  {
   "cell_type": "code",
   "execution_count": null,
   "id": "f65789ac",
   "metadata": {},
   "outputs": [],
   "source": []
  },
  {
   "cell_type": "markdown",
   "id": "4ee58e91",
   "metadata": {},
   "source": [
    "- 문자열 \"Python \"의 오른쪽 공백을 제거하여 출력하세요."
   ]
  },
  {
   "cell_type": "code",
   "execution_count": null,
   "id": "0904fdd2",
   "metadata": {},
   "outputs": [],
   "source": []
  },
  {
   "cell_type": "markdown",
   "id": "594df173",
   "metadata": {},
   "source": [
    "- 문자열 \"I like apples\"에서 \"apples\"를 \"bananas\"로 대체하여 출력하세요."
   ]
  },
  {
   "cell_type": "code",
   "execution_count": null,
   "id": "429e6493",
   "metadata": {},
   "outputs": [],
   "source": []
  },
  {
   "cell_type": "markdown",
   "id": "dd6a2084",
   "metadata": {},
   "source": [
    "# 리스트 자료형\n",
    "\n",
    "- [소스](https://wikidocs.net/14)\n",
    "- 지금까지 우리는 숫자와 문자열에 대해서 알아보았다. 하지만 숫자와 문자열만으로 프로그래밍을 하기에는 부족한 점이 많다. 예를 들어 1부터 10까지의 숫자 중 홀수의 모음인 1, 3, 5, 7, 9의 집합을 생각해 보자. 이런 숫자의 모음을 숫자나 문자열로 표현하기는 어렵다. 파이썬에는 이러한 불편함을 해소할 수 있는 자료형이 존재한다. 이것이 바로 지금부터 공부할 리스트(list)이다."
   ]
  },
  {
   "cell_type": "markdown",
   "id": "1a630e1c",
   "metadata": {},
   "source": [
    "## 리스트는 어떻게 만들고 사용할까?\n",
    "\n",
    "- 리스트를 사용하면 1, 3, 5, 7, 9의 숫자 모음을 다음과 같이 간단하게 표현할 수 있다."
   ]
  },
  {
   "cell_type": "code",
   "execution_count": 142,
   "id": "5fa625ce",
   "metadata": {},
   "outputs": [
    {
     "data": {
      "text/plain": [
       "[1, 3, 5, 7, 9]"
      ]
     },
     "execution_count": 142,
     "metadata": {},
     "output_type": "execute_result"
    }
   ],
   "source": []
  },
  {
   "cell_type": "markdown",
   "id": "cb92b89b",
   "metadata": {},
   "source": [
    "- 리스트를 만들 때는 위에서 보는 것과 같이 대괄호([])로 감싸 주고 각 요솟값은 쉼표(,)로 구분해 준다.\n",
    "\n",
    "> 리스트명 = [요소1, 요소2, 요소3, ...]"
   ]
  },
  {
   "cell_type": "markdown",
   "id": "e0475c8a",
   "metadata": {},
   "source": [
    "- 여러 가지 리스트의 생김새는 다음과 같다."
   ]
  },
  {
   "cell_type": "code",
   "execution_count": 143,
   "id": "d5b821a7",
   "metadata": {},
   "outputs": [],
   "source": []
  },
  {
   "cell_type": "markdown",
   "id": "142528bd",
   "metadata": {},
   "source": [
    "- 비어 있는 리스트는 a = list()로 생성할 수 있다."
   ]
  },
  {
   "cell_type": "markdown",
   "id": "d0974a32",
   "metadata": {},
   "source": [
    "- 리스트는 a처럼 아무것도 포함하지 않아 비어 있는 리스트([])일 수도 있고, b처럼 숫자를 요솟값으로 가질 수도 있으며, c처럼 문자열을 요솟값으로 가질 수도 있다. 또한 d처럼 숫자와 문자열을 함께 요솟값으로 가질 수도 있고, e처럼 리스트 자체를 요솟값으로 가질 수도 있다. 즉, 리스트 안에는 어떠한 자료형도 포함할 수 있다.\n",
    "\n",
    "<img src='https://wikidocs.net/images/page/14/02_3_list.png'>"
   ]
  },
  {
   "cell_type": "markdown",
   "id": "311ea397",
   "metadata": {},
   "source": [
    "## 리스트의 인덱싱과 슬라이싱\n",
    "\n",
    "- 리스트도 문자열처럼 인덱싱과 슬라이싱이 가능하다. 말로 설명하는 것보다 직접 예를 실행해 보면서 리스트의 기본 구조를 이해하는 것이 쉽다. 대화형 인터프리터로 따라 하면서 확실하게 이해하자.\n"
   ]
  },
  {
   "cell_type": "markdown",
   "id": "9a634c59",
   "metadata": {},
   "source": [
    "**리스트의 인덱싱**\n",
    "- 리스트 역시 문자열처럼 인덱싱을 적용할 수 있다. 먼저 a 변수에 [1, 2, 3] 값을 설정한다.\n",
    "\n"
   ]
  },
  {
   "cell_type": "code",
   "execution_count": 144,
   "id": "1ad155ac",
   "metadata": {},
   "outputs": [
    {
     "data": {
      "text/plain": [
       "[1, 2, 3]"
      ]
     },
     "execution_count": 144,
     "metadata": {},
     "output_type": "execute_result"
    }
   ],
   "source": []
  },
  {
   "cell_type": "markdown",
   "id": "4d444304",
   "metadata": {},
   "source": [
    "- a[0]은 리스트 a의 첫 번째 요솟값을 말한다.\n"
   ]
  },
  {
   "cell_type": "code",
   "execution_count": 145,
   "id": "2e415788",
   "metadata": {},
   "outputs": [
    {
     "data": {
      "text/plain": [
       "1"
      ]
     },
     "execution_count": 145,
     "metadata": {},
     "output_type": "execute_result"
    }
   ],
   "source": []
  },
  {
   "cell_type": "markdown",
   "id": "d2807fc2",
   "metadata": {},
   "source": [
    "- 다음 예는 리스트의 첫 번째 요소인 a[0]과 세 번째 요소인 a[2]의 값을 더한 것이다.\n",
    "\n"
   ]
  },
  {
   "cell_type": "code",
   "execution_count": 146,
   "id": "ad919464",
   "metadata": {},
   "outputs": [
    {
     "data": {
      "text/plain": [
       "4"
      ]
     },
     "execution_count": 146,
     "metadata": {},
     "output_type": "execute_result"
    }
   ],
   "source": []
  },
  {
   "cell_type": "markdown",
   "id": "60a759ac",
   "metadata": {},
   "source": [
    "- 이것은 1 + 3으로 해석되어 값 4를 출력한다.\n",
    "\n",
    "- 문자열을 공부할 때 이미 살펴보았지만, 파이썬은 숫자를 0부터 세기 때문에 a[1]이 리스트 a의 첫 번째 요소가 아니라 a[0]이 리스트 a의 첫 번째 요소라는 것을 명심하자. \n",
    "- a[-1]은 문자열에서와 마찬가지로 리스트 a의 마지막 요솟값을 말한다.\n",
    "\n"
   ]
  },
  {
   "cell_type": "code",
   "execution_count": 147,
   "id": "a2da8e3d",
   "metadata": {},
   "outputs": [
    {
     "data": {
      "text/plain": [
       "3"
      ]
     },
     "execution_count": 147,
     "metadata": {},
     "output_type": "execute_result"
    }
   ],
   "source": []
  },
  {
   "cell_type": "markdown",
   "id": "6a27e2a7",
   "metadata": {},
   "source": [
    "- 이번에는 다음 예처럼 리스트 a를 숫자 1, 2, 3과 또 다른 리스트인 ['a', 'b', 'c']를 포함하도록 만들어 보자.\n",
    "\n"
   ]
  },
  {
   "cell_type": "code",
   "execution_count": 148,
   "id": "cc47ab6f",
   "metadata": {},
   "outputs": [
    {
     "data": {
      "text/plain": [
       "[1, 2, 3, ['a', 'b', 'c']]"
      ]
     },
     "execution_count": 148,
     "metadata": {},
     "output_type": "execute_result"
    }
   ],
   "source": []
  },
  {
   "cell_type": "code",
   "execution_count": 150,
   "id": "c7b0034a",
   "metadata": {},
   "outputs": [
    {
     "data": {
      "text/plain": [
       "1"
      ]
     },
     "execution_count": 150,
     "metadata": {},
     "output_type": "execute_result"
    }
   ],
   "source": []
  },
  {
   "cell_type": "code",
   "execution_count": 151,
   "id": "865a7b75",
   "metadata": {},
   "outputs": [
    {
     "data": {
      "text/plain": [
       "['a', 'b', 'c']"
      ]
     },
     "execution_count": 151,
     "metadata": {},
     "output_type": "execute_result"
    }
   ],
   "source": []
  },
  {
   "cell_type": "code",
   "execution_count": 152,
   "id": "58811046",
   "metadata": {},
   "outputs": [
    {
     "data": {
      "text/plain": [
       "['a', 'b', 'c']"
      ]
     },
     "execution_count": 152,
     "metadata": {},
     "output_type": "execute_result"
    }
   ],
   "source": []
  },
  {
   "cell_type": "markdown",
   "id": "45b86c8c",
   "metadata": {},
   "source": [
    "- 예상한 대로 a[-1]은 마지막 요솟값 ['a', 'b', 'c']를 나타낸다. a[3]은 리스트 a의 네 번째 요소를 나타내기 때문에 마지막 요소를 나타내는 a[-1]과 동일한 결괏값을 보여 준다.\n",
    "\n",
    "- 그렇다면 리스트 a에 포함된 ['a', 'b', 'c'] 리스트에서 'a' 값을 인덱싱을 사용해 끄집어 낼 수 있는 방법은 없을까? 다음 예를 살펴보자."
   ]
  },
  {
   "cell_type": "code",
   "execution_count": 153,
   "id": "a12f2091",
   "metadata": {},
   "outputs": [
    {
     "data": {
      "text/plain": [
       "'a'"
      ]
     },
     "execution_count": 153,
     "metadata": {},
     "output_type": "execute_result"
    }
   ],
   "source": []
  },
  {
   "cell_type": "markdown",
   "id": "e7fde4bf",
   "metadata": {},
   "source": [
    "- 위와 같이 하면 'a'를 끄집어 낼 수 있다. a[-1]이 ['a', 'b', 'c'] 리스트라는 것은 이미 설명했다. 바로 이 리스트에서 첫 번째 요소를 불러오기 위해 [0]을 붙여 준 것이다.\n",
    "\n",
    "- 다음 예도 마찬가지 경우이므로 어렵지 않게 이해할 수 있을 것이다.\n",
    "\n"
   ]
  },
  {
   "cell_type": "code",
   "execution_count": 154,
   "id": "4067ee3a",
   "metadata": {},
   "outputs": [
    {
     "data": {
      "text/plain": [
       "'b'"
      ]
     },
     "execution_count": 154,
     "metadata": {},
     "output_type": "execute_result"
    }
   ],
   "source": []
  },
  {
   "cell_type": "code",
   "execution_count": 155,
   "id": "efa16f26",
   "metadata": {},
   "outputs": [
    {
     "data": {
      "text/plain": [
       "'c'"
      ]
     },
     "execution_count": 155,
     "metadata": {},
     "output_type": "execute_result"
    }
   ],
   "source": []
  },
  {
   "cell_type": "markdown",
   "id": "b5f81909",
   "metadata": {},
   "source": [
    "**삼중 리스트에서 인덱싱하기**\n",
    "- 조금 복잡하지만, 리스트를 다음과 같이 작성할 수도 있다.\n",
    "\n"
   ]
  },
  {
   "cell_type": "code",
   "execution_count": 156,
   "id": "aa0d952a",
   "metadata": {},
   "outputs": [],
   "source": [
    "a = [1, 2, ['a', 'b', ['Life', 'is']]]"
   ]
  },
  {
   "cell_type": "markdown",
   "id": "933ac423",
   "metadata": {},
   "source": [
    "- 리스트 a 안에 ['a', 'b', ['Life', 'is']] 리스트가 포함되어 있고 그 리스트 안에 다시 ['Life', 'is'] 리스트가 포함되어 있다. 즉, 삼중 구조의 리스트인 것이다.\n",
    "\n",
    "- 이 경우, 'Life' 문자열만 끄집어 내려면 다음과 같이 해야 한다.\n"
   ]
  },
  {
   "cell_type": "code",
   "execution_count": 157,
   "id": "4c056e85",
   "metadata": {},
   "outputs": [
    {
     "data": {
      "text/plain": [
       "'Life'"
      ]
     },
     "execution_count": 157,
     "metadata": {},
     "output_type": "execute_result"
    }
   ],
   "source": []
  },
  {
   "cell_type": "markdown",
   "id": "1e0c4f3f",
   "metadata": {},
   "source": [
    "- 위 예는 리스트 a의 세 번째 요소인 리스트 ['a', 'b', ['Life', 'is']]에서 세 번째 요소인 리스트 ['Life', 'is']의 첫 번째 요소를 나타낸다.\n",
    "\n",
    "- 리스트를 다중으로 중첩해서 사용하는 것은 혼란스럽기 때문에 자주 사용하지는 않는다."
   ]
  },
  {
   "cell_type": "markdown",
   "id": "389b56e1",
   "metadata": {},
   "source": [
    "**리스트의 슬라이싱**\n",
    "- 문자열과 마찬가지로 리스트에서도 슬라이싱 기법을 적용할 수 있다. 슬라이싱은 ‘잘라 낸다’라는 뜻이라고 했다. 리스트의 슬라이싱에 대해서 살펴보자.\n",
    "\n"
   ]
  },
  {
   "cell_type": "code",
   "execution_count": 158,
   "id": "af3dda7e",
   "metadata": {},
   "outputs": [
    {
     "data": {
      "text/plain": [
       "[1, 2]"
      ]
     },
     "execution_count": 158,
     "metadata": {},
     "output_type": "execute_result"
    }
   ],
   "source": []
  },
  {
   "cell_type": "markdown",
   "id": "d3bbe50e",
   "metadata": {},
   "source": [
    "- 앞의 예를 문자열에서 슬라이싱했던 예와 비교해 보자.\n",
    "\n"
   ]
  },
  {
   "cell_type": "code",
   "execution_count": 159,
   "id": "63250fe3",
   "metadata": {},
   "outputs": [
    {
     "data": {
      "text/plain": [
       "'12'"
      ]
     },
     "execution_count": 159,
     "metadata": {},
     "output_type": "execute_result"
    }
   ],
   "source": []
  },
  {
   "cell_type": "markdown",
   "id": "244a1206",
   "metadata": {},
   "source": [
    "- 2가지가 완전히 동일하게 사용되었다는 것을 눈치챘을 것이다. 문자열에서 했던 것과 사용법이 완전히 동일하다.\n",
    "\n",
    "- 몇 가지 예를 더 살펴보자."
   ]
  },
  {
   "cell_type": "code",
   "execution_count": 160,
   "id": "12779cc0",
   "metadata": {},
   "outputs": [],
   "source": []
  },
  {
   "cell_type": "code",
   "execution_count": 161,
   "id": "8cea197e",
   "metadata": {},
   "outputs": [
    {
     "data": {
      "text/plain": [
       "[1, 2]"
      ]
     },
     "execution_count": 161,
     "metadata": {},
     "output_type": "execute_result"
    }
   ],
   "source": []
  },
  {
   "cell_type": "code",
   "execution_count": 162,
   "id": "6207bfde",
   "metadata": {},
   "outputs": [
    {
     "data": {
      "text/plain": [
       "[3, 4, 5]"
      ]
     },
     "execution_count": 162,
     "metadata": {},
     "output_type": "execute_result"
    }
   ],
   "source": []
  },
  {
   "cell_type": "markdown",
   "id": "bc9022aa",
   "metadata": {},
   "source": [
    "- b 변수는 리스트 a의 첫 번째 요소부터 두 번째 요소인 a[1]까지 나타내는 리스트이다. 물론 a[2] 값인 3은 포함되지 않는다. c라는 변수는 리스트 a의 세 번째 요소부터 끝까지 나타내는 리스트이다.\n",
    "\n",
    "\n"
   ]
  },
  {
   "cell_type": "markdown",
   "id": "83c35042",
   "metadata": {},
   "source": [
    "**문제**\n",
    "- a = [1,2 3, 4, 5] 리스트에서, 슬라이싱 기법을 사용하여 리스트 [2, 3] 을 만들어 보자"
   ]
  },
  {
   "cell_type": "code",
   "execution_count": null,
   "id": "93f87ee3",
   "metadata": {},
   "outputs": [],
   "source": []
  },
  {
   "cell_type": "markdown",
   "id": "b60595e2",
   "metadata": {},
   "source": [
    "**중첩된 리스트에서 슬라이싱하기**\n",
    "- 리스트가 포함된 중첩 리스트 역시 슬라이싱 방법은 똑같이 적용된다.\n",
    "\n"
   ]
  },
  {
   "cell_type": "code",
   "execution_count": 163,
   "id": "a2c82bd3",
   "metadata": {},
   "outputs": [
    {
     "data": {
      "text/plain": [
       "[3, ['a', 'b', 'c'], 4]"
      ]
     },
     "execution_count": 163,
     "metadata": {},
     "output_type": "execute_result"
    }
   ],
   "source": []
  },
  {
   "cell_type": "code",
   "execution_count": 164,
   "id": "12135ddc",
   "metadata": {},
   "outputs": [
    {
     "data": {
      "text/plain": [
       "['a', 'b']"
      ]
     },
     "execution_count": 164,
     "metadata": {},
     "output_type": "execute_result"
    }
   ],
   "source": []
  },
  {
   "cell_type": "markdown",
   "id": "60716df7",
   "metadata": {},
   "source": [
    "- 위 예에서 a[3]은 ['a', 'b', 'c']를 나타낸다. 따라서 a[3][:2]는 ['a', 'b', 'c']의 첫 번째 요소부터 세 번째 요소 직전까지의 값, 즉 ['a', 'b']를 나타내는 리스트가 된다.\n"
   ]
  },
  {
   "cell_type": "markdown",
   "id": "187cfd30",
   "metadata": {},
   "source": [
    "## 리스트 연산하기\n",
    "- 리스트 역시 +를 사용해서 더할 수 있고 *를 사용해서 반복할 수 있다. 문자열과 마찬가지로 리스트에서도 되는지 직접 확인해 보자.\n"
   ]
  },
  {
   "cell_type": "markdown",
   "id": "920800e6",
   "metadata": {},
   "source": [
    "**리스트 더하기(+)**"
   ]
  },
  {
   "cell_type": "code",
   "execution_count": 165,
   "id": "37fde225",
   "metadata": {},
   "outputs": [
    {
     "data": {
      "text/plain": [
       "[1, 2, 3, 4, 5, 6]"
      ]
     },
     "execution_count": 165,
     "metadata": {},
     "output_type": "execute_result"
    }
   ],
   "source": []
  },
  {
   "cell_type": "markdown",
   "id": "0997165f",
   "metadata": {},
   "source": [
    "- 리스트 사이에서 +는 2개의 리스트를 합치는 기능을 한다. 문자열에서 \"abc\" + \"def\" = \"abcdef\"가 되는 것과 같은 이치이다.\n",
    "\n"
   ]
  },
  {
   "cell_type": "markdown",
   "id": "9de075bf",
   "metadata": {},
   "source": [
    "**리스트 반복하기(*)**"
   ]
  },
  {
   "cell_type": "code",
   "execution_count": 166,
   "id": "8b5a1389",
   "metadata": {},
   "outputs": [
    {
     "data": {
      "text/plain": [
       "[1, 2, 3, 1, 2, 3, 1, 2, 3]"
      ]
     },
     "execution_count": 166,
     "metadata": {},
     "output_type": "execute_result"
    }
   ],
   "source": []
  },
  {
   "cell_type": "markdown",
   "id": "f0cb47d8",
   "metadata": {},
   "source": [
    "- 위에서 볼 수 있듯이 [1, 2, 3] 리스트가 세 번 반복되어 새로운 리스트를 만들어 낸다. 문자열에서 \"abc\" * 3 = \"abcabcabc\" 가 되는 것과 같은 이치이다.\n",
    "\n"
   ]
  },
  {
   "cell_type": "markdown",
   "id": "5c36463f",
   "metadata": {},
   "source": [
    "**리스트 길이 구하기**\n",
    "- 리스트 길이를 구하기 위해서는 다음처럼 len 함수를 사용해야 한다.\n",
    "\n"
   ]
  },
  {
   "cell_type": "code",
   "execution_count": 167,
   "id": "6e90d6be",
   "metadata": {},
   "outputs": [
    {
     "data": {
      "text/plain": [
       "3"
      ]
     },
     "execution_count": 167,
     "metadata": {},
     "output_type": "execute_result"
    }
   ],
   "source": []
  },
  {
   "cell_type": "markdown",
   "id": "85dfc1b1",
   "metadata": {},
   "source": [
    "- len은 문자열, 리스트 외에 앞으로 배울 튜플과 딕셔너리에도 사용할 수 있는 함수이다. 실습에서 자주 사용하므로 잘 기억해 두자.\n",
    "\n",
    "\n"
   ]
  },
  {
   "cell_type": "markdown",
   "id": "31b8cb75",
   "metadata": {},
   "source": [
    "**초보자가 범하기 쉬운 리스트 연산 오류**\n",
    "- 다음 소스 코드를 입력했을 때 결괏값은 어떻게 나올까?\n",
    "\n"
   ]
  },
  {
   "cell_type": "code",
   "execution_count": null,
   "id": "96be53cf",
   "metadata": {},
   "outputs": [],
   "source": []
  },
  {
   "cell_type": "markdown",
   "id": "94a9adbf",
   "metadata": {},
   "source": [
    "- a[2]의 값인 3과 문자열 hi가 더해져서 3hi가 출력될 것이라고 생각할 수 있다. "
   ]
  },
  {
   "cell_type": "markdown",
   "id": "7a1cb246",
   "metadata": {},
   "source": [
    "- 하지만 다음 결과를 살펴보니 오류가 발생했다. 오류의 원인은 무엇일까?\n",
    "- a[2]에 저장된 값은 3이라는 정수인데 \"hi\"는 문자열이다. 정수와 문자열은 당연히 서로 더할 수 없기 때문에 오류가 발생한 것이다.\n",
    "\n",
    "- 만약 숫자와 문자열을 더해서 '3hi'를 만들고 싶다면 다음처럼 숫자 3을 문자 '3'으로 바꾸어야 한다."
   ]
  },
  {
   "cell_type": "code",
   "execution_count": 169,
   "id": "b8a71894",
   "metadata": {},
   "outputs": [
    {
     "data": {
      "text/plain": [
       "'3hi'"
      ]
     },
     "execution_count": 169,
     "metadata": {},
     "output_type": "execute_result"
    }
   ],
   "source": []
  },
  {
   "cell_type": "markdown",
   "id": "056d731d",
   "metadata": {},
   "source": [
    "## 리스트의 수정과 삭제\n",
    "- 리스트는 값을 수정하거나 삭제할 수 있다.\n",
    "\n"
   ]
  },
  {
   "cell_type": "markdown",
   "id": "311516d9",
   "metadata": {},
   "source": [
    "**리스트의 값 수정하기**\n"
   ]
  },
  {
   "cell_type": "code",
   "execution_count": 170,
   "id": "8942796e",
   "metadata": {},
   "outputs": [
    {
     "data": {
      "text/plain": [
       "[1, 2, 4]"
      ]
     },
     "execution_count": 170,
     "metadata": {},
     "output_type": "execute_result"
    }
   ],
   "source": []
  },
  {
   "cell_type": "markdown",
   "id": "64f3033a",
   "metadata": {},
   "source": [
    "- a[2]의 요솟값 3이 4로 바뀌었다.\n"
   ]
  },
  {
   "cell_type": "markdown",
   "id": "3276da3b",
   "metadata": {},
   "source": [
    "**del 함수를 사용해 리스트 요소 삭제하기**"
   ]
  },
  {
   "cell_type": "code",
   "execution_count": 171,
   "id": "d9ab98e9",
   "metadata": {},
   "outputs": [
    {
     "data": {
      "text/plain": [
       "[1, 3]"
      ]
     },
     "execution_count": 171,
     "metadata": {},
     "output_type": "execute_result"
    }
   ],
   "source": []
  },
  {
   "cell_type": "markdown",
   "id": "b32f9016",
   "metadata": {},
   "source": [
    "- del a[x]는 x번째 요솟값을 삭제한다. 위에서는 a 리스트에서 a[1]을 삭제했다. \n",
    "- del 함수는 파이썬이 자체적으로 가지고 있는 삭제 함수이며 다음과 같이 사용한다.\n",
    "\n",
    "> del 객체\n",
    "\n",
    "- 객체란 파이썬에서 사용되는 모든 자료형을 말한다.\n",
    "- 다음처럼 슬라이싱 기법을 사용하여 리스트의 요소 여러 개를 한꺼번에 삭제할 수도 있다.\n"
   ]
  },
  {
   "cell_type": "code",
   "execution_count": 172,
   "id": "4a1783d0",
   "metadata": {},
   "outputs": [
    {
     "data": {
      "text/plain": [
       "[1, 2]"
      ]
     },
     "execution_count": 172,
     "metadata": {},
     "output_type": "execute_result"
    }
   ],
   "source": []
  },
  {
   "cell_type": "markdown",
   "id": "d3dc230a",
   "metadata": {},
   "source": [
    "- a[2:]에 해당하는 리스트의 요소들이 삭제되었다.\n",
    "\n",
    "- 리스트의 요소를 삭제하는 방법에는 2가지가 더 있다. 바로 리스트의 remove와 pop 함수를 사용하는 것인데, 이는 리스트 관련 함수에서 설명한다."
   ]
  },
  {
   "cell_type": "markdown",
   "id": "8888a7d4",
   "metadata": {},
   "source": [
    "## 리스트 관련 함수\n",
    "- 문자열과 마찬가지로 리스트 변수 이름 뒤에 ‘.’를 붙여 여러 가지 리스트 관련 함수를 사용할 수 있다. 유용하게 사용하는 리스트 관련 함수 몇 가지만 알아보자.\n",
    "\n",
    "**리스트에 요소 추가하기 - append**\n",
    "- append의 사전적 의미는 ‘덧붙이다, 첨부하다’이다. 이 뜻을 안다면 다음 예가 바로 이해될 것이다. append(x)는 리스트의 맨 마지막에 x를 추가하는 함수이다.\n"
   ]
  },
  {
   "cell_type": "code",
   "execution_count": 173,
   "id": "a24b548f",
   "metadata": {},
   "outputs": [
    {
     "data": {
      "text/plain": [
       "[1, 2, 3, 4]"
      ]
     },
     "execution_count": 173,
     "metadata": {},
     "output_type": "execute_result"
    }
   ],
   "source": []
  },
  {
   "cell_type": "markdown",
   "id": "8defd89b",
   "metadata": {},
   "source": [
    "- 리스트 안에는 어떤 자료형도 추가할 수 있다. 다음 예는 리스트에 다시 리스트를 추가한 결과이다.\n",
    "\n"
   ]
  },
  {
   "cell_type": "code",
   "execution_count": 174,
   "id": "175af916",
   "metadata": {},
   "outputs": [
    {
     "data": {
      "text/plain": [
       "[1, 2, 3, 4, [5, 6]]"
      ]
     },
     "execution_count": 174,
     "metadata": {},
     "output_type": "execute_result"
    }
   ],
   "source": []
  },
  {
   "cell_type": "markdown",
   "id": "fadedd62",
   "metadata": {},
   "source": [
    "**리스트 정렬 - sort**\n",
    "- sort 함수는 리스트의 요소를 순서대로 정렬해 준다.\n",
    "\n"
   ]
  },
  {
   "cell_type": "code",
   "execution_count": 175,
   "id": "07ce3c6c",
   "metadata": {},
   "outputs": [
    {
     "data": {
      "text/plain": [
       "[1, 2, 3, 4]"
      ]
     },
     "execution_count": 175,
     "metadata": {},
     "output_type": "execute_result"
    }
   ],
   "source": []
  },
  {
   "cell_type": "markdown",
   "id": "0d49e5ff",
   "metadata": {},
   "source": [
    "**리스트 뒤집기 - reverse**\n",
    "- reverse 함수는 리스트를 역순으로 뒤집어 준다. 이때 리스트 요소들을 순서대로 정렬한 다음 다시 역순으로 정렬하는 것이 아니라 현재의 리스트를 그대로 거꾸로 뒤집는다.\n",
    "\n"
   ]
  },
  {
   "cell_type": "code",
   "execution_count": 176,
   "id": "086a4982",
   "metadata": {},
   "outputs": [
    {
     "data": {
      "text/plain": [
       "['b', 'c', 'a']"
      ]
     },
     "execution_count": 176,
     "metadata": {},
     "output_type": "execute_result"
    }
   ],
   "source": []
  },
  {
   "cell_type": "markdown",
   "id": "d812435e",
   "metadata": {},
   "source": [
    "**인덱스 반환 - index**\n",
    "- index(x) 함수는 리스트에 x 값이 있으면 x의 인덱스 값(위칫값)을 리턴한다.\n"
   ]
  },
  {
   "cell_type": "code",
   "execution_count": 177,
   "id": "a04fa44f",
   "metadata": {},
   "outputs": [
    {
     "data": {
      "text/plain": [
       "2"
      ]
     },
     "execution_count": 177,
     "metadata": {},
     "output_type": "execute_result"
    }
   ],
   "source": []
  },
  {
   "cell_type": "code",
   "execution_count": 178,
   "id": "e9c05aef",
   "metadata": {},
   "outputs": [
    {
     "data": {
      "text/plain": [
       "0"
      ]
     },
     "execution_count": 178,
     "metadata": {},
     "output_type": "execute_result"
    }
   ],
   "source": []
  },
  {
   "cell_type": "markdown",
   "id": "e8070e31",
   "metadata": {},
   "source": [
    "- 위 예에서 리스트 a에 있는 숫자 3의 위치는 a[2]이므로 2, 숫자 1의 위치는 a[0]이므로 0을 리턴한다.\n",
    "\n",
    "- 다음 예에서 값 0은 a 리스트에 존재하지 않기 때문에 오류가 발생한다.\n"
   ]
  },
  {
   "cell_type": "code",
   "execution_count": 179,
   "id": "3c1463f7",
   "metadata": {},
   "outputs": [
    {
     "ename": "ValueError",
     "evalue": "0 is not in list",
     "output_type": "error",
     "traceback": [
      "\u001b[0;31m---------------------------------------------------------------------------\u001b[0m",
      "\u001b[0;31mValueError\u001b[0m                                Traceback (most recent call last)",
      "Cell \u001b[0;32mIn[179], line 1\u001b[0m\n\u001b[0;32m----> 1\u001b[0m \u001b[43ma\u001b[49m\u001b[38;5;241;43m.\u001b[39;49m\u001b[43mindex\u001b[49m\u001b[43m(\u001b[49m\u001b[38;5;241;43m0\u001b[39;49m\u001b[43m)\u001b[49m\n",
      "\u001b[0;31mValueError\u001b[0m: 0 is not in list"
     ]
    }
   ],
   "source": []
  },
  {
   "cell_type": "markdown",
   "id": "333cdc85",
   "metadata": {},
   "source": [
    "**리스트에 요소 삽입 - insert**\n",
    "- insert(a, b)는 리스트의 a번째 위치에 b를 삽입하는 함수이다. 파이썬은 숫자를 0부터 센다는 것을 반드시 기억하자.\n",
    "\n"
   ]
  },
  {
   "cell_type": "code",
   "execution_count": 180,
   "id": "278e5603",
   "metadata": {},
   "outputs": [
    {
     "data": {
      "text/plain": [
       "[4, 1, 2, 3]"
      ]
     },
     "execution_count": 180,
     "metadata": {},
     "output_type": "execute_result"
    }
   ],
   "source": []
  },
  {
   "cell_type": "markdown",
   "id": "bca07ce7",
   "metadata": {},
   "source": [
    "- 위 예는 0번째 자리, 즉 첫 번째 요소인 a[0] 위치에 값 4를 삽입하라는 뜻이다.\n"
   ]
  },
  {
   "cell_type": "code",
   "execution_count": 181,
   "id": "eab55ef4",
   "metadata": {},
   "outputs": [
    {
     "data": {
      "text/plain": [
       "[4, 1, 2, 5, 3]"
      ]
     },
     "execution_count": 181,
     "metadata": {},
     "output_type": "execute_result"
    }
   ],
   "source": []
  },
  {
   "cell_type": "markdown",
   "id": "edd1cc8e",
   "metadata": {},
   "source": [
    "- 위 예는 리스트 a의 a[3], 즉 네 번째 요소 위치에 값 5를 삽입하라는 뜻이다.\n",
    "\n"
   ]
  },
  {
   "cell_type": "markdown",
   "id": "2fb3dc2d",
   "metadata": {},
   "source": [
    "**리스트 요소 제거 - remove**\n",
    "- remove(x)는 리스트에서 첫 번째로 나오는 x를 삭제하는 함수이다.\n",
    "\n"
   ]
  },
  {
   "cell_type": "code",
   "execution_count": 182,
   "id": "75b2f290",
   "metadata": {},
   "outputs": [
    {
     "data": {
      "text/plain": [
       "[1, 2, 1, 2, 3]"
      ]
     },
     "execution_count": 182,
     "metadata": {},
     "output_type": "execute_result"
    }
   ],
   "source": []
  },
  {
   "cell_type": "markdown",
   "id": "42e9f59b",
   "metadata": {},
   "source": [
    "- a가 3이라는 값을 2개 가지고 있을 경우, 첫 번째 3만 제거되는 것을 알 수 있다.\n",
    "\n"
   ]
  },
  {
   "cell_type": "code",
   "execution_count": 183,
   "id": "fc0e4ff2",
   "metadata": {},
   "outputs": [
    {
     "data": {
      "text/plain": [
       "[1, 2, 1, 2]"
      ]
     },
     "execution_count": 183,
     "metadata": {},
     "output_type": "execute_result"
    }
   ],
   "source": []
  },
  {
   "cell_type": "markdown",
   "id": "8e3f516b",
   "metadata": {},
   "source": [
    "**리스트 요소 끄집어 내기 - pop**\n",
    "- pop()은 리스트의 맨 마지막 요소를 리턴하고 그 요소는 삭제한다.\n",
    "\n"
   ]
  },
  {
   "cell_type": "code",
   "execution_count": 184,
   "id": "2332b7cb",
   "metadata": {},
   "outputs": [
    {
     "data": {
      "text/plain": [
       "[1, 2]"
      ]
     },
     "execution_count": 184,
     "metadata": {},
     "output_type": "execute_result"
    }
   ],
   "source": []
  },
  {
   "cell_type": "markdown",
   "id": "394cee4d",
   "metadata": {},
   "source": [
    "- a.pop(1)은 a[1]의 값을 끄집어 내어 리턴한다. 다시 a를 출력해 보면 끄집어 낸 값이 삭제된 것을 확인할 수 있다.\n",
    "\n"
   ]
  },
  {
   "cell_type": "markdown",
   "id": "6b163b9c",
   "metadata": {},
   "source": [
    "**리스트에 포함된 요소 x의 개수 세기 - count**\n",
    "- count(x)는 리스트 안에 x가 몇 개 있는지 조사하여 그 개수를 리턴하는 함수이다.\n",
    "\n"
   ]
  },
  {
   "cell_type": "code",
   "execution_count": 185,
   "id": "9dd465aa",
   "metadata": {},
   "outputs": [
    {
     "data": {
      "text/plain": [
       "2"
      ]
     },
     "execution_count": 185,
     "metadata": {},
     "output_type": "execute_result"
    }
   ],
   "source": []
  },
  {
   "cell_type": "markdown",
   "id": "37964ccf",
   "metadata": {},
   "source": [
    "- 1이라는 값이 리스트 a에 2개 들어 있으므로 2를 리턴한다.\n",
    "\n"
   ]
  },
  {
   "cell_type": "markdown",
   "id": "9d047fe5",
   "metadata": {},
   "source": [
    "**리스트 확장 - extend**\n",
    "- extend(x)에서 x에는 리스트만 올 수 있으며 원래의 a 리스트에 x 리스트를 더하게 된다.\n",
    "\n"
   ]
  },
  {
   "cell_type": "code",
   "execution_count": 186,
   "id": "04138cb9",
   "metadata": {},
   "outputs": [
    {
     "data": {
      "text/plain": [
       "[1, 2, 3, 4, 5]"
      ]
     },
     "execution_count": 186,
     "metadata": {},
     "output_type": "execute_result"
    }
   ],
   "source": []
  },
  {
   "cell_type": "code",
   "execution_count": 188,
   "id": "ec2c2536",
   "metadata": {},
   "outputs": [
    {
     "data": {
      "text/plain": [
       "[1, 2, 3, 4, 5, 6, 7, 6, 7]"
      ]
     },
     "execution_count": 188,
     "metadata": {},
     "output_type": "execute_result"
    }
   ],
   "source": []
  },
  {
   "cell_type": "markdown",
   "id": "7cc9ad37",
   "metadata": {},
   "source": [
    "- a.extend([4, 5])는 a += [4, 5]와 동일하다.\n",
    "\n",
    "> a += [4, 5]는 a = a + [4, 5]와 동일한 표현식이다.\n",
    "\n"
   ]
  },
  {
   "cell_type": "markdown",
   "id": "70165e45",
   "metadata": {},
   "source": [
    "**문제**"
   ]
  },
  {
   "cell_type": "markdown",
   "id": "7b7c5e10",
   "metadata": {},
   "source": [
    "- 리스트 [\"apple\", \"banana\", \"grape\"]를 생성하고, 세 번째 요소를 인덱싱하여 출력하세요."
   ]
  },
  {
   "cell_type": "code",
   "execution_count": null,
   "id": "a50e7fa6",
   "metadata": {},
   "outputs": [],
   "source": []
  },
  {
   "cell_type": "markdown",
   "id": "38a4942f",
   "metadata": {},
   "source": [
    "- 리스트 [1, 2, 3, 4, 5]를 생성하고, 두 번째부터 네 번째까지의 요소를 슬라이싱하여 출력하세요."
   ]
  },
  {
   "cell_type": "code",
   "execution_count": null,
   "id": "d9c09bc0",
   "metadata": {},
   "outputs": [],
   "source": []
  },
  {
   "cell_type": "markdown",
   "id": "66511eb2",
   "metadata": {},
   "source": [
    "- 리스트 [\"apple\", \"banana\", \"grape\"]에 \"orange\"를 추가하세요."
   ]
  },
  {
   "cell_type": "code",
   "execution_count": null,
   "id": "2e02e39d",
   "metadata": {},
   "outputs": [],
   "source": []
  },
  {
   "cell_type": "markdown",
   "id": "f53c3210",
   "metadata": {},
   "source": [
    "- 리스트 [1, 2, 3, 4, 5]에서 세 번째 요소를 10으로 수정하세요."
   ]
  },
  {
   "cell_type": "code",
   "execution_count": null,
   "id": "519ba1ff",
   "metadata": {},
   "outputs": [],
   "source": []
  },
  {
   "cell_type": "markdown",
   "id": "cac01ff6",
   "metadata": {},
   "source": [
    "- 리스트 [1, 2, 3, 4, 5]에서 네 번째 요소를 삭제하세요."
   ]
  },
  {
   "cell_type": "code",
   "execution_count": null,
   "id": "afdf7be3",
   "metadata": {},
   "outputs": [],
   "source": []
  },
  {
   "cell_type": "markdown",
   "id": "b4f53d9d",
   "metadata": {},
   "source": [
    "- 정수로 이루어진 리스트 [3, 1, 4, 2, 5]를 생성하고, 이를 오름차순으로 정렬한 결과를 출력하세요."
   ]
  },
  {
   "cell_type": "code",
   "execution_count": null,
   "id": "644a1f01",
   "metadata": {},
   "outputs": [],
   "source": []
  },
  {
   "cell_type": "markdown",
   "id": "ef8a8e94",
   "metadata": {},
   "source": [
    "- 문자열로 이루어진 리스트 [\"apple\", \"banana\", \"grape\"]를 생성하고, 이를 역순으로 뒤집은 결과를 출력하세요."
   ]
  },
  {
   "cell_type": "code",
   "execution_count": null,
   "id": "f757d3b2",
   "metadata": {},
   "outputs": [],
   "source": []
  },
  {
   "cell_type": "markdown",
   "id": "dc55a253",
   "metadata": {},
   "source": [
    "- 정수로 이루어진 리스트 [1, 2, 3, 4, 5]에서 값이 3인 요소의 인덱스를 찾아 출력하세요.\n"
   ]
  },
  {
   "cell_type": "code",
   "execution_count": null,
   "id": "a4762fcd",
   "metadata": {},
   "outputs": [],
   "source": []
  },
  {
   "cell_type": "markdown",
   "id": "d8f6094b",
   "metadata": {},
   "source": [
    "- 정수로 이루어진 리스트 [1, 2, 3, 5]에 값이 4인 요소를 숫자의 순서에 맞게 삽입하여 결과를 출력하세요.\n"
   ]
  },
  {
   "cell_type": "code",
   "execution_count": null,
   "id": "bc2fcb68",
   "metadata": {},
   "outputs": [],
   "source": []
  },
  {
   "cell_type": "markdown",
   "id": "82bb2865",
   "metadata": {},
   "source": [
    "- 정수로 이루어진 리스트 [1, 2, 3, 4, 5]에서 값이 3인 요소를 제거하여 결과를 출력하세요.\n"
   ]
  },
  {
   "cell_type": "code",
   "execution_count": null,
   "id": "c24a88dc",
   "metadata": {},
   "outputs": [],
   "source": []
  },
  {
   "cell_type": "markdown",
   "id": "33265a3f",
   "metadata": {},
   "source": [
    "- 정수로 이루어진 리스트 [1, 2, 3, 4, 5]에서 세 번째 요소를 제거하고 반환한 후, 결과를 출력하세요.\n"
   ]
  },
  {
   "cell_type": "code",
   "execution_count": null,
   "id": "3ec3f482",
   "metadata": {},
   "outputs": [],
   "source": []
  },
  {
   "cell_type": "markdown",
   "id": "c0acde75",
   "metadata": {},
   "source": [
    "- 정수로 이루어진 리스트 [1, 2, 2, 3, 2, 4, 2, 5]에서 값이 2인 요소의 개수를 계산하여 출력하세요.\n"
   ]
  },
  {
   "cell_type": "code",
   "execution_count": null,
   "id": "a552a3dd",
   "metadata": {},
   "outputs": [],
   "source": []
  },
  {
   "cell_type": "markdown",
   "id": "f857640e",
   "metadata": {},
   "source": [
    "- 리스트 [1, 2, 3]과 [4, 5, 6]을 합쳐서 출력하세요."
   ]
  },
  {
   "cell_type": "code",
   "execution_count": null,
   "id": "ba776f44",
   "metadata": {},
   "outputs": [],
   "source": []
  },
  {
   "cell_type": "markdown",
   "id": "3cbaeea5",
   "metadata": {},
   "source": [
    "# 튜플 자료형"
   ]
  },
  {
   "cell_type": "markdown",
   "id": "e5eea2ef",
   "metadata": {},
   "source": [
    "# 딕셔너리 자료형"
   ]
  },
  {
   "cell_type": "markdown",
   "id": "9fae70fd",
   "metadata": {},
   "source": [
    "# 집합 자료형"
   ]
  },
  {
   "cell_type": "markdown",
   "id": "4dc7b137",
   "metadata": {},
   "source": [
    "# 불 자료형"
   ]
  },
  {
   "cell_type": "markdown",
   "id": "4ca99b91",
   "metadata": {},
   "source": [
    "# 자료형의 값을 저장하는 공간, 변수"
   ]
  },
  {
   "cell_type": "code",
   "execution_count": null,
   "id": "f333b0ac",
   "metadata": {},
   "outputs": [],
   "source": []
  }
 ],
 "metadata": {
  "kernelspec": {
   "display_name": "Python 3 (ipykernel)",
   "language": "python",
   "name": "python3"
  },
  "language_info": {
   "codemirror_mode": {
    "name": "ipython",
    "version": 3
   },
   "file_extension": ".py",
   "mimetype": "text/x-python",
   "name": "python",
   "nbconvert_exporter": "python",
   "pygments_lexer": "ipython3",
   "version": "3.10.9"
  },
  "toc": {
   "base_numbering": 1,
   "nav_menu": {},
   "number_sections": true,
   "sideBar": true,
   "skip_h1_title": false,
   "title_cell": "Table of Contents",
   "title_sidebar": "Contents",
   "toc_cell": false,
   "toc_position": {},
   "toc_section_display": true,
   "toc_window_display": false
  }
 },
 "nbformat": 4,
 "nbformat_minor": 5
}
