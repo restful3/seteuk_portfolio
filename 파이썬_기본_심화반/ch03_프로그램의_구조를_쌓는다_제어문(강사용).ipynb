{
 "cells": [
  {
   "cell_type": "markdown",
   "id": "9d8c166f",
   "metadata": {},
   "source": [
    "- 03장에서는 if, while, for 등의 제어문에 대해서 배운다. 제어문을 배우기 전에 집을 짓는 일을 생각해 보자. 집을 지을 때 나무, 돌, 시멘트 등은 재료가 되고 철근은 집의 뼈대가 된다. 프로그램을 만드는 것도 집 짓기와 매우 비슷한 면이 있다. 나무, 돌, 시멘트와 같은 재료는 자료형이 되고 집의 뼈대를 이루는 철근은 03장에서 알아볼 제어문에 해당한다. 자료형을 바탕으로 제어문을 이용하여 프로그램의 구조를 만들어 보자."
   ]
  },
  {
   "cell_type": "markdown",
   "id": "af46d688",
   "metadata": {},
   "source": [
    "# if문\n",
    "- 먼저 대표적인 조건문인 if 문부터 알아보자.\n",
    "\n",
    "## if 문은 왜 필요할까?\n",
    "- 다음과 같은 상상을 해 보자.\n",
    "\n",
    "> ‘돈이 있으면 택시를 타고 가고, 돈이 없으면 걸어간다.’\n",
    "\n",
    "- 우리 모두에게 일어날 수 있는 상황 중 하나이다. 프로그래밍도 사람이 하는 것이므로 위 문장처럼 주어진 조건을 판단한 후 그 상황에 맞게 처리해야 할 경우가 생긴다. 이렇듯 프로그래밍에서 조건을 판단하여 해당 조건에 맞는 상황을 수행하는 데 쓰는 것이 바로 if 문이다.\n",
    "\n",
    "- 파이썬에서는 위와 같은 상황을 다음과 같이 표현할 수 있다.\n",
    "\n"
   ]
  },
  {
   "cell_type": "code",
   "execution_count": 1,
   "id": "bd912d07",
   "metadata": {
    "scrolled": true
   },
   "outputs": [
    {
     "name": "stdout",
     "output_type": "stream",
     "text": [
      "택시를 타고 가라\n"
     ]
    }
   ],
   "source": [
    "money = True\n",
    "if money:\n",
    "    print(\"택시를 타고 가라\")\n",
    "else:\n",
    "    print(\"걸어 가라\")"
   ]
  },
  {
   "cell_type": "markdown",
   "id": "de499124",
   "metadata": {},
   "source": [
    "- money에 True를 대입했으므로 money는 참이다. 따라서 if 문 다음 문장이 수행되어 '택시를 타고 가라'가 출력된다.\n",
    "\n",
    "- 다음 순서도는 ‘택시를 타고 가라’라는 문장이 출력되는 과정을 보여 준다. 이렇게 프로그램 실행 과정을 순서도로 그려 보면 훨씬 이해하기 쉽다.\n",
    "\n",
    "<img src=\"https://wikidocs.net/images/page/20/03_1_if1.png\">\n",
    "\n",
    "**IDLE 셸을 쓴다면 주의하세요**\n",
    "\n",
    "- 프롬프트(>>>)가 보이는 이 책의 예제는 반드시 IDLE 셸이 아닌 파이썬 셸에서 실행하도록 하자. IDLE 셸에서는 줄 바꿈 표시(...)가 보이지 않아 들여쓰기 오류를 범할 가능성이 크다.\n",
    "\n",
    "- 하지만 파이썬 3.10부터는 IDLE 셸의 프롬프트(>>>)와 줄 바꿈 표시(...)가 왼쪽의 분리된 영역에 나타나도록 개선되었다.\n",
    "\n",
    "<img src=\"https://wikidocs.net/images/page/20/03_1_idle.png\">\n",
    "\n",
    "- 따라서 파이썬 3.10 이상의 버전을 사용한다면 이 책의 예제를 IDLE 셸에서 실행해도 괜찮다.\n",
    "\n",
    "\n",
    "## if 문의 기본 구조\n",
    "\n",
    "- 다음은 if와 else를 사용한 조건문의 기본 구조이다.\n",
    "\n",
    "```python\n",
    "\n",
    "if 조건문:\n",
    "    수행할_문장1\n",
    "    수행할_문장2\n",
    "    ...\n",
    "else:\n",
    "    수행할_문장A\n",
    "    수행할_문장B\n",
    "    ...\n",
    "    \n",
    "```    \n",
    "\n",
    "- 조건문을 테스트해서 참이면 if 문 바로 다음 문장(if 블록)들을 수행하고 조건문이 거짓이면 else 문 다음 문장(else 블록)들을 수행하게 된다. 따라서 else 문은 if 문 없이 독립적으로 사용할 수 없다.\n",
    "\n",
    "## 들여쓰기 방법 알아보기\n",
    "- if 문을 만들 때는 if 조건문: 바로 다음 문장부터 if 문에 속하는 모든 문장에 들여쓰기(indentation)를 해야 한다. 다음 예를 보면 조건문이 참일 경우 ‘수행할_문장1’을 들여쓰기했고 ‘수행할_문장2’와 ‘수행할_문장3’도 들여쓰기했다. 다른 프로그래밍 언어를 사용해 온 사람들은 파이썬에서 ‘수행할_문장’을 들여쓰기하는 것을 무시하는 경우가 많으므로 더 주의해야 한다.\n",
    "\n",
    "```python\n",
    "\n",
    "if 조건문:\n",
    "    수행할_문장1\n",
    "    수행할_문장2\n",
    "    수행할_문장3\n",
    "\n",
    "```\n",
    "\n",
    "- 다음처럼 작성하면 오류가 발생한다. ‘수행할_문장2’를 들여쓰기하지 않았기 때문이다.\n",
    "\n",
    "```python\n",
    "\n",
    "if 조건문:\n",
    "    수행할_문장1\n",
    "수행할_문장2\n",
    "    수행할_문장3\n",
    "\n",
    "```    \n",
    "\n",
    "- IDLE 에디터에서 다음과 같이 작성하여 실행해 보자. 여기에서는 오류가 발생하는지 확인만 하면 되므로 IDLE 에디터 창에 코드를 작성하고 [F5]를 눌러 바로 실행하자.\n",
    "\n",
    "```python\n",
    "\n",
    "# indent_error.py\n",
    "money = True\n",
    "if money:\n",
    "    print(\"택시를\")\n",
    "print(\"타고\")\n",
    "    print(\"가라\")\n",
    "\n",
    "```    "
   ]
  },
  {
   "cell_type": "code",
   "execution_count": 3,
   "id": "40163475",
   "metadata": {},
   "outputs": [
    {
     "ename": "IndentationError",
     "evalue": "unexpected indent (1841204671.py, line 5)",
     "output_type": "error",
     "traceback": [
      "\u001b[0;36m  Cell \u001b[0;32mIn[3], line 5\u001b[0;36m\u001b[0m\n\u001b[0;31m    print(\"가라\")\u001b[0m\n\u001b[0m    ^\u001b[0m\n\u001b[0;31mIndentationError\u001b[0m\u001b[0;31m:\u001b[0m unexpected indent\n"
     ]
    }
   ],
   "source": [
    "money = True\n",
    "if money:\n",
    "    print(\"택시를\")\n",
    "print(\"타고\")\n",
    "    print(\"가라\")"
   ]
  },
  {
   "cell_type": "markdown",
   "id": "b1c625cb",
   "metadata": {},
   "source": [
    "<img src= \"https://wikidocs.net/images/page/20/03_1_indent_error1.png\">\n",
    "\n",
    "> 들여쓰기 오류가 발생하는 것을 확인할 수 있다.\n",
    "\n",
    "- 다음과 같은 경우에도 오류가 발생한다. ‘수행할_문장3’을 들여쓰기했지만, ‘수행할_문장1’이나 ‘수행할_문장2’와 들여쓰기의 깊이가 다르다. 즉, 들여쓰기는 언제나 같은 깊이로 해야 한다.\n",
    "\n",
    "```python\n",
    "if 조건문:\n",
    "    수행할_문장1\n",
    "    수행할_문장2\n",
    "        수행할_문장3\n",
    "```\n",
    "\n",
    "- IDLE 에디터에서 다음과 같이 작성하여 실행해 보자.\n",
    "\n",
    "```python\n",
    "\n",
    "# indent_error2.py\n",
    "money = True\n",
    "if money:\n",
    "    print(\"택시를\")\n",
    "    print(\"타고\")\n",
    "        print(\"가라\")\n",
    "        \n",
    "```\n",
    "\n"
   ]
  },
  {
   "cell_type": "code",
   "execution_count": 3,
   "id": "efe1f61c",
   "metadata": {},
   "outputs": [
    {
     "ename": "IndentationError",
     "evalue": "unexpected indent (73570325.py, line 5)",
     "output_type": "error",
     "traceback": [
      "\u001b[0;36m  Cell \u001b[0;32mIn[3], line 5\u001b[0;36m\u001b[0m\n\u001b[0;31m    print(\"가라\")\u001b[0m\n\u001b[0m    ^\u001b[0m\n\u001b[0;31mIndentationError\u001b[0m\u001b[0;31m:\u001b[0m unexpected indent\n"
     ]
    }
   ],
   "source": [
    "money = True\n",
    "if money:\n",
    "    print(\"택시를\")\n",
    "    print(\"타고\")\n",
    "        print(\"가라\")"
   ]
  },
  {
   "cell_type": "markdown",
   "id": "ef1d201a",
   "metadata": {},
   "source": [
    "<img src=\"https://wikidocs.net/images/page/20/03_1_indent_error2.png\">\n",
    "\n",
    "- 마찬가지로 들여쓰기 오류가 발생하는 것을 확인할 수 있다.\n",
    "\n",
    "- 그렇다면 들여쓰기는 공백 문자([Spacebar])로 하는 것이 좋을까, 탭 문자([Tab])로 하는 것이 좋을까? 이에 대한 논란은 파이썬을 사용하는 사람들 사이에서 아직도 계속되고 있다. 공백 문자로 하자는 쪽과 탭 문자로 하자는 쪽 모두가 동의하는 내용은 2가지를 혼용해서 쓰지 말자는 것이다. 공백 문자로 할 것이라면 공백으로 통일하고, 탭 문자로 할 것이라면 탭으로 통일하자는 말이다. 탭이나 공백은 프로그램 소스에서 눈으로 보이는 것이 아니기 때문에 혼용해서 쓰면 오류의 원인이 되므로 주의하자.\n",
    "\n",
    "> 요즘 파이썬 커뮤니티에서는 들여쓰기를 할 때 공백 문자 4개를 사용하는 것을 권장한다. 또한 파이썬 에디터는 대부분 탭 문자로 들여쓰기를 하더라도 탭 문자를 공백 문자 4개로 자동 변환하는 기능을 갖추고 있다.\n",
    "\n",
    "\n",
    "**조건문 다음에 콜론(:)을 잊지 말자!**\n",
    "- if 조건문 뒤에는 반드시 콜론(:)이 붙는다. 어떤 특별한 의미가 있다기보다는 파이썬의 문법 구조이다. 왜 하필 콜론(:)인지 궁금하다면 파이썬을 만든 귀도에게 직접 물어봐야 할 것이다. 앞으로 배울 while이나 for, def, class도 역시 문장의 끝에 콜론(:)이 항상 들어간다. 초보자들은 이 콜론(:)을 빠뜨리는 경우가 많으므로 특히 주의하자.\n",
    "\n",
    "- 파이썬이 다른 언어보다 보기 쉽고 소스 코드가 간결한 이유는 바로 콜론(:)을 사용하여 들여쓰기를 하도록 만들었기 때문이다. 하지만 이는 숙련된 프로그래머들이 파이썬을 처음 접할 때 제일 혼란스러워하는 부분이기도 하다. 다른 언어에서는 if 문에 속한 문장들을 {}로 감싸지만, 파이썬에서는 들여쓰기로 해결한다는 점을 기억하자.\n",
    "\n",
    "## 조건문이란 무엇인가?\n",
    "- if 조건문에서 ‘조건문’이란 참과 거짓을 판단하는 문장을 말한다.\n",
    "\n",
    "- 앞에서 살펴본 택시 예제에서 조건문은 money가 된다.\n",
    "\n",
    "```python\n",
    "money = True\n",
    "if money:\n",
    "```\n",
    "\n",
    "- money는 True이기 때문에 조건이 참이 되어 if 문 다음 문장을 수행한다.\n",
    "\n",
    "### 비교 연산자\n",
    "- 이번에는 조건문에 비교 연산자(<, >, ==, !=, >=, <=)를 쓰는 방법에 대해 알아보자.\n",
    "\n",
    "- 다음 표는 비교 연산자를 잘 설명해 준다.\n",
    "\n",
    "| 비교 연산자 | 설명                      |\n",
    "|-------------|---------------------------|\n",
    "| x < y       | x가 y보다 작다.           |\n",
    "| x > y       | x가 y보다 크다.           |\n",
    "| x == y      | x와 y가 같다.             |\n",
    "| x != y      | x와 y가 같지 않다.        |\n",
    "| x >= y      | x가 y보다 크거나 같다.    |\n",
    "| x <= y      | x가 y보다 작거나 같다.    |\n",
    "\n",
    "- 이제 이 연산자를 어떻게 사용하는지 알아보자.\n",
    "\n"
   ]
  },
  {
   "cell_type": "code",
   "execution_count": 4,
   "id": "7cba3af3",
   "metadata": {},
   "outputs": [
    {
     "data": {
      "text/plain": [
       "True"
      ]
     },
     "execution_count": 4,
     "metadata": {},
     "output_type": "execute_result"
    }
   ],
   "source": [
    "x = 3\n",
    "y = 2\n",
    "x > y"
   ]
  },
  {
   "cell_type": "markdown",
   "id": "e5d8b0cb",
   "metadata": {},
   "source": [
    "- x에 3, y에 2를 대입한 후 x > y라는 조건문을 수행하면 True를 리턴한다. x > y 조건문이 참이기 때문이다."
   ]
  },
  {
   "cell_type": "code",
   "execution_count": 5,
   "id": "60e5ce2e",
   "metadata": {},
   "outputs": [
    {
     "data": {
      "text/plain": [
       "False"
      ]
     },
     "execution_count": 5,
     "metadata": {},
     "output_type": "execute_result"
    }
   ],
   "source": [
    "x < y"
   ]
  },
  {
   "cell_type": "markdown",
   "id": "4ef676c3",
   "metadata": {},
   "source": [
    "- 위 조건문은 거짓이기 때문에 False를 리턴한다.\n",
    "\n"
   ]
  },
  {
   "cell_type": "code",
   "execution_count": 6,
   "id": "b7a50567",
   "metadata": {},
   "outputs": [
    {
     "data": {
      "text/plain": [
       "False"
      ]
     },
     "execution_count": 6,
     "metadata": {},
     "output_type": "execute_result"
    }
   ],
   "source": [
    "x == y"
   ]
  },
  {
   "cell_type": "markdown",
   "id": "e4b6999b",
   "metadata": {},
   "source": [
    "- x와 y는 같지 않다. 따라서 위 조건문은 거짓이므로 False를 리턴한다.\n",
    "\n"
   ]
  },
  {
   "cell_type": "code",
   "execution_count": 7,
   "id": "1d9b0ca5",
   "metadata": {},
   "outputs": [
    {
     "data": {
      "text/plain": [
       "True"
      ]
     },
     "execution_count": 7,
     "metadata": {},
     "output_type": "execute_result"
    }
   ],
   "source": [
    "x != y"
   ]
  },
  {
   "cell_type": "markdown",
   "id": "80531fc8",
   "metadata": {},
   "source": [
    "- x와 y는 같지 않다. 따라서 위 조건문은 참이므로 True를 리턴한다.\n",
    "\n",
    "- 사용법을 알아봤으므로 이제 응용해 보자. 앞에서 살펴본 택시 예제를 다음처럼 바꾸려면 어떻게 해야 할까?\n",
    "\n",
    "> 만약 3000원 이상의 돈을 가지고 있으면 택시를 타고 가고, 그렇지 않으면 걸어가라.\n",
    "\n",
    "- 이 상황은 다음처럼 프로그래밍할 수 있다.\n",
    "\n"
   ]
  },
  {
   "cell_type": "code",
   "execution_count": 8,
   "id": "cabf8613",
   "metadata": {},
   "outputs": [
    {
     "name": "stdout",
     "output_type": "stream",
     "text": [
      "걸어가라\n"
     ]
    }
   ],
   "source": [
    "money = 2000\n",
    "if money >= 3000:\n",
    "    print(\"택시를 타고 가라\")\n",
    "else:\n",
    "    print(\"걸어가라\")"
   ]
  },
  {
   "cell_type": "markdown",
   "id": "5c79ec15",
   "metadata": {},
   "source": [
    "- money >= 3000 조건문이 거짓이 되기 때문에 else 문 다음 문장을 수행하게 된다.\n"
   ]
  },
  {
   "cell_type": "markdown",
   "id": "0eba2e2b",
   "metadata": {},
   "source": [
    "### and, or, not\n",
    "\n",
    "- 조건을 판단하기 위해 사용하는 다른 연산자로는 and, or, not이 있다. 각각의 연산자는 다음처럼 동작한다.\n",
    "\n",
    "| 연산자    | 설명                              |\n",
    "|-----------|-----------------------------------|\n",
    "| x or y    | x와 y 둘 중 하나만 참이어도 참이다. |\n",
    "| x and y   | x와 y 모두 참이어야 참이다.       |\n",
    "| not x     | x가 거짓이면 참이다.              |\n",
    "\n",
    "- 다음 예를 통해 or 연산자의 사용법을 알아보자.\n",
    "\n",
    "> 돈이 3000원 이상 있거나 카드가 있다면 택시를 타고 가고, 그렇지 않으면 걸어가라.\n"
   ]
  },
  {
   "cell_type": "code",
   "execution_count": 9,
   "id": "2de1367c",
   "metadata": {},
   "outputs": [
    {
     "name": "stdout",
     "output_type": "stream",
     "text": [
      "택시를 타고 가라\n"
     ]
    }
   ],
   "source": [
    "money = 2000\n",
    "card = True\n",
    "if money >= 3000 or card:\n",
    "    print(\"택시를 타고 가라\")\n",
    "else:\n",
    "    print(\"걸어가라\")"
   ]
  },
  {
   "cell_type": "markdown",
   "id": "13567ff9",
   "metadata": {},
   "source": [
    "- money는 2000이지만, card가 True이기 때문에 money >= 3000 or card 조건문이 참이 된다. 따라서 if 문에 속한 ‘택시를 타고 가라’ 문장이 출력된다.\n",
    "\n",
    "### in, not in\n",
    "\n",
    "- 파이썬은 다른 프로그래밍 언어에서 쉽게 볼 수 없는 재미있는 조건문도 제공한다. 바로 다음과 같은 것들이다.\n",
    "\n",
    "| In              | Not In          |\n",
    "|-----------------|-----------------|\n",
    "| x in 리스트     | x not in 리스트 |\n",
    "| x in 튜플       | x not in 튜플   |\n",
    "| x in 문자열     | x not in 문자열 |\n",
    "\n",
    "\n",
    "- 영어 단어 in의 뜻이 ‘~안에’라는 것을 생각해 보면 다음 예가 쉽게 이해될 것이다."
   ]
  },
  {
   "cell_type": "code",
   "execution_count": 10,
   "id": "5133a6bc",
   "metadata": {},
   "outputs": [
    {
     "data": {
      "text/plain": [
       "True"
      ]
     },
     "execution_count": 10,
     "metadata": {},
     "output_type": "execute_result"
    }
   ],
   "source": [
    "1 in [1, 2, 3]"
   ]
  },
  {
   "cell_type": "code",
   "execution_count": 13,
   "id": "ec26fda9",
   "metadata": {},
   "outputs": [
    {
     "data": {
      "text/plain": [
       "False"
      ]
     },
     "execution_count": 13,
     "metadata": {},
     "output_type": "execute_result"
    }
   ],
   "source": [
    "1 not in [1, 2, 3]"
   ]
  },
  {
   "cell_type": "markdown",
   "id": "2fd49eaa",
   "metadata": {},
   "source": [
    "- 앞에서 첫 번째 예는 ‘[1, 2, 3]이라는 리스트 안에 1이 있는가?’라는 조건문이다. 1은 [1, 2, 3] 안에 있으므로 참이 되어 True를 리턴한다. 두 번째 예는 ‘[1, 2, 3] 리스트 안에 1이 없는가?’라는 조건문이다. 1은 [1, 2, 3] 안에 있으므로 거짓이 되어 False를 리턴한다.\n",
    "\n",
    "- 다음은 튜플과 문자열에 in과 not in을 적용한 예이다. 각각의 결과가 나온 이유는 쉽게 유추할 수 있다.\n",
    "\n"
   ]
  },
  {
   "cell_type": "code",
   "execution_count": 12,
   "id": "3b13ed2e",
   "metadata": {},
   "outputs": [
    {
     "data": {
      "text/plain": [
       "True"
      ]
     },
     "execution_count": 12,
     "metadata": {},
     "output_type": "execute_result"
    }
   ],
   "source": [
    "'a' in ('a', 'b', 'c')"
   ]
  },
  {
   "cell_type": "code",
   "execution_count": 13,
   "id": "de906494",
   "metadata": {},
   "outputs": [
    {
     "data": {
      "text/plain": [
       "True"
      ]
     },
     "execution_count": 13,
     "metadata": {},
     "output_type": "execute_result"
    }
   ],
   "source": [
    "'j' not in 'python'"
   ]
  },
  {
   "cell_type": "markdown",
   "id": "fb17be33",
   "metadata": {},
   "source": [
    "- 이번에는 우리가 계속 사용해 온 택시 예제에 in을 적용해 보자.\n",
    "\n",
    "> 만약 주머니에 돈이 있으면 택시를 타고 가고, 없으면 걸어가라.\n"
   ]
  },
  {
   "cell_type": "code",
   "execution_count": 14,
   "id": "d79585e6",
   "metadata": {
    "scrolled": true
   },
   "outputs": [
    {
     "name": "stdout",
     "output_type": "stream",
     "text": [
      "택시를 타고 가라\n"
     ]
    }
   ],
   "source": [
    "pocket = ['paper', 'cellphone', 'money']\n",
    "if 'money' in pocket:\n",
    "    print(\"택시를 타고 가라\")\n",
    "else:\n",
    "    print(\"걸어가라\")"
   ]
  },
  {
   "cell_type": "markdown",
   "id": "172622ed",
   "metadata": {},
   "source": [
    "- ['paper', 'cellphone', 'money'] 리스트 안에 'money'가 있으므로 'money' in pocket은 참이 된다. 따라서 if 문에 속한 문장이 수행된다."
   ]
  },
  {
   "cell_type": "markdown",
   "id": "8ced92f7",
   "metadata": {},
   "source": [
    "**문제**\n",
    "- '주머니에 카드가 없다면 걸어가고, 있다면 버스틀 타고 가라'는 문장을 조건문으로 만들어 보자."
   ]
  },
  {
   "cell_type": "code",
   "execution_count": null,
   "id": "f3add818",
   "metadata": {},
   "outputs": [],
   "source": []
  },
  {
   "cell_type": "markdown",
   "id": "b1cc2369",
   "metadata": {},
   "source": [
    "**조건문에서 아무 일도 하지 않게 설정하고 싶다면?**\n",
    "- 가끔 조건문의 참, 거짓에 따라 실행할 행동을 정의할 때나 아무런 일도 하지 않도록 설정하고 싶을 때가 있다. 다음 예를 살펴 보자.\n",
    "\n",
    "> 주머니에 돈이 있으면 가만히 있고, 주머니에 돈이 없으면 카드를 꺼내라.\n",
    "\n",
    "- 이럴 때 사용하는 것이 바로 pass이다. 위 예를 pass를 적용해서 구현해 보자.\n",
    "\n",
    "```python\n",
    "\n",
    "pocket = ['paper', 'money', 'cellphone']\n",
    "if 'money' in pocket:\n",
    "    pass \n",
    "else:\n",
    "    print(\"카드를 꺼내라\")\n",
    "\n",
    "```\n",
    "- pocket 리스트 안에 money 문자열이 있기 때문에 if 문 다음 문장인 pass가 수행되고 아무런 결괏값도 보여 주지 않는다.\n"
   ]
  },
  {
   "cell_type": "markdown",
   "id": "67ce5421",
   "metadata": {},
   "source": [
    "## 다양한 조건을 판단하는 elif\n",
    "\n",
    "- if와 else만으로는 다양한 조건을 판단하기 어렵다. 다음 예를 보더라도 if와 else만으로는 조건을 판단하는 데 어려움을 겪게 된다는 것을 알 수 있다.\n",
    "\n",
    "> 주머니에 돈이 있으면 택시를 타고 가고, 주머니에 돈은 없지만 카드가 있으면 택시를 타고 가고, 돈도 없고 카드도 없으면 걸어가라.\n",
    "\n",
    "- 위 문장을 보면 조건을 판단하는 부분이 두 군데 있다. 먼저 주머니에 돈이 있는지를 판단해야 하고 주머니에 돈이 없으면 다시 카드가 있는지 판단해야 한다.\n",
    "\n",
    "- if와 else만으로 위 문장을 표현하려면 다음과 같이 할 수 있다.\n",
    "\n"
   ]
  },
  {
   "cell_type": "code",
   "execution_count": 15,
   "id": "47d688fa",
   "metadata": {},
   "outputs": [
    {
     "name": "stdout",
     "output_type": "stream",
     "text": [
      "택시를 타고가라\n"
     ]
    }
   ],
   "source": [
    "pocket = ['paper', 'cellphone']\n",
    "card = True\n",
    "if 'money' in pocket:\n",
    "    print(\"택시를 타고가라\")\n",
    "else:\n",
    "    if card:\n",
    "        print(\"택시를 타고가라\")\n",
    "    else:\n",
    "        print(\"걸어가라\")"
   ]
  },
  {
   "cell_type": "markdown",
   "id": "0f599b1e",
   "metadata": {},
   "source": [
    "- 언뜻 보기에도 이해하기 어렵고 산만한 느낌이 든다. 이런 복잡함을 해결하기 위해 파이썬에서는 다중 조건 판단을 가능하게 하는 elif를 사용한다.\n",
    "\n",
    "- 위 예에 elif를 사용하면 다음과 같이 바꿀 수 있다.\n",
    "\n"
   ]
  },
  {
   "cell_type": "code",
   "execution_count": 16,
   "id": "3a22e5e6",
   "metadata": {},
   "outputs": [
    {
     "name": "stdout",
     "output_type": "stream",
     "text": [
      "택시를 타고가라\n"
     ]
    }
   ],
   "source": [
    "pocket = ['paper', 'cellphone']\n",
    "card = True\n",
    "if 'money' in pocket:\n",
    "     print(\"택시를 타고가라\")\n",
    "elif card: \n",
    "     print(\"택시를 타고가라\")\n",
    "else:\n",
    "     print(\"걸어가라\")"
   ]
  },
  {
   "cell_type": "markdown",
   "id": "80c10186",
   "metadata": {},
   "source": [
    "- 즉, elif는 이전 조건문이 거짓일 때 수행된다. if, elif, else를 모두 사용할 때 기본 구조는 다음과 같다.\n",
    "\n",
    "```python\n",
    "if 조건문:\n",
    "    수행할_문장1 \n",
    "    수행할_문장2\n",
    "    ...\n",
    "elif 조건문:\n",
    "    수행할_문장1\n",
    "    수행할_문장2\n",
    "    ...\n",
    "elif 조건문:\n",
    "    수행할_문장1\n",
    "    수행할_문장2\n",
    "    ...\n",
    "...\n",
    "else:\n",
    "   수행할_문장1\n",
    "    수행할_문장2\n",
    "   ... \n",
    "```\n",
    "\n",
    "- 위에서 볼 수 있듯이 elif는 개수에 제한 없이 사용할 수 있다.\n",
    "\n",
    "<img src=\"https://wikidocs.net/images/page/20/03_1_if3.png\">\n",
    "\n",
    "**if 문을 한 줄로 작성하기**\n",
    "- 앞의 pass를 사용한 예를 보면 if 문 다음에 수행할 문장이 한 줄이고 else 문 다음에 수행할 문장도 한 줄밖에 되지 않는다.\n",
    "```python\n",
    "if 'money' in pocket:\n",
    "    pass \n",
    "else:\n",
    "    print(\"카드를 꺼내라\")\n",
    "```\n",
    "- 이렇게 수행할 문장이 한 줄일 때 좀 더 간략하게 코드를 작성하는 방법이 있다.\n",
    "```python\n",
    "pocket = ['paper', 'money', 'cellphone']\n",
    "if 'money' in pocket: pass\n",
    "else: print(\"카드를 꺼내라\")\n",
    "```\n",
    "- if 문 다음에 수행할 문장을 콜론(:) 뒤에 바로 적었다. else 문 역시 마찬가지이다."
   ]
  },
  {
   "cell_type": "markdown",
   "id": "9792abd7",
   "metadata": {},
   "source": [
    "## 조건부 표현식\n",
    "- 다음 코드를 살펴보자. score가 60 이상일 경우 message에 문자열 \"success\", 아닐 경우에는 문자열 \"failure\"를 대입하는 코드이다.\n",
    "```python\n",
    "if score >= 60:\n",
    "    message = \"success\"\n",
    "else:\n",
    "    message = \"failure\"\n",
    "```    \n",
    "- 파이썬의 조건부 표현식(conditional expression)을 사용하면 위 코드를 다음과 같이 간단히 표현할 수 있다.\n",
    "\n",
    "```python\n",
    "message = \"success\" if score >= 60 else \"failure\"\n",
    "```\n",
    "- 조건부 표현식은 다음과 같이 정의한다.\n",
    "\n",
    "> 변수 = 조건문이_참인_경우의_값 if 조건문 else 조건문이_거짓인_경우의_값\n",
    "- 조건부 표현식은 가독성에 유리하고 한 줄로 작성할 수 있어 활용성이 좋다."
   ]
  },
  {
   "cell_type": "markdown",
   "id": "f5109284",
   "metadata": {},
   "source": [
    "# while문\n",
    "- 문장을 반복해서 수행해야 할 경우 while 문을 사용한다. 그래서 while 문을 ‘반복문’이라고도 부른다.\n",
    "\n",
    "## while 문의 기본 구조\n",
    "- 다음은 while 문의 기본 구조이다.\n",
    "\n",
    "```python\n",
    "while 조건문:\n",
    "    수행할_문장1\n",
    "    수행할_문장2\n",
    "    수행할_문장3\n",
    "    ...\n",
    "\n",
    "```\n",
    "\n",
    "- while 문은 조건문이 참인 동안 while 문에 속한 문장들이 반복해서 수행된다.\n",
    "\n",
    "- ‘열 번 찍어 안 넘어가는 나무 없다’라는 속담을 파이썬 프로그램으로 만들면 다음과 같다.\n"
   ]
  },
  {
   "cell_type": "code",
   "execution_count": 17,
   "id": "4253e03e",
   "metadata": {},
   "outputs": [
    {
     "name": "stdout",
     "output_type": "stream",
     "text": [
      "나무를 1번 찍었습니다.\n",
      "나무를 2번 찍었습니다.\n",
      "나무를 3번 찍었습니다.\n",
      "나무를 4번 찍었습니다.\n",
      "나무를 5번 찍었습니다.\n",
      "나무를 6번 찍었습니다.\n",
      "나무를 7번 찍었습니다.\n",
      "나무를 8번 찍었습니다.\n",
      "나무를 9번 찍었습니다.\n",
      "나무를 10번 찍었습니다.\n",
      "나무 넘어갑니다.\n"
     ]
    }
   ],
   "source": [
    "treeHit = 0\n",
    "while treeHit < 10:\n",
    "    treeHit = treeHit +1\n",
    "    print(\"나무를 %d번 찍었습니다.\" % treeHit)\n",
    "    if treeHit == 10:\n",
    "        print(\"나무 넘어갑니다.\")"
   ]
  },
  {
   "cell_type": "markdown",
   "id": "b12592f0",
   "metadata": {},
   "source": [
    "- 위 예에서 while 문의 조건문은 treeHit < 10이다. 즉, treeHit가 10보다 작은 동안 while 문에 포함된 문장들을 계속 수행한다. whlie문 안의 문장을 보면 가장 먼저 treeHit = treeHit + 1로 treeHit 값이 계속 1씩 증가한다는 것을 알 수 있다. 그리고 나무를 treeHit번만큼 찍었다는 것을 알리는 문장을 출력하고 treeHit가 10이 되면 \"나무 넘어갑니다.\"라는 문장을 출력한다. 그러고 나면 treeHit < 10 조건문이 거짓이 되므로 while 문을 빠져나가게 된다.\n",
    "\n",
    "> treeHit = treeHit + 1은 프로그래밍을 할 때 매우 자주 사용하는 기법이다. treeHit 값을 1만큼씩 증가시킬 목적으로 사용하며 treeHit += 1처럼 작성해도 된다.\n",
    "\n",
    "- 다음은 while 문이 반복되는 과정을 순서대로 정리한 표이다. 이렇게 긴 과정을 소스 코드 단 5줄로 만들 수 있다니 놀랍지 않은가?\n",
    "\n",
    "| treeHit | 조건문      | 조건 판단 | 수행하는 문장                       | while문 |\n",
    "|---------|------------|-----------|-------------------------------------|---------|\n",
    "| 0       | 0 < 10     | 참        | 나무를 1번 찍었습니다.               | 반복    |\n",
    "| 1       | 1 < 10     | 참        | 나무를 2번 찍었습니다.               | 반복    |\n",
    "| 2       | 2 < 10     | 참        | 나무를 3번 찍었습니다.               | 반복    |\n",
    "| 3       | 3 < 10     | 참        | 나무를 4번 찍었습니다.               | 반복    |\n",
    "| 4       | 4 < 10     | 참        | 나무를 5번 찍었습니다.               | 반복    |\n",
    "| 5       | 5 < 10     | 참        | 나무를 6번 찍었습니다.               | 반복    |\n",
    "| 6       | 6 < 10     | 참        | 나무를 7번 찍었습니다.               | 반복    |\n",
    "| 7       | 7 < 10     | 참        | 나무를 8번 찍었습니다.               | 반복    |\n",
    "| 8       | 8 < 10     | 참        | 나무를 9번 찍었습니다.               | 반복    |\n",
    "| 9       | 9 < 10     | 참        | 나무를 10번 찍었습니다. 나무 넘어갑니다. | 반복    |\n",
    "| 10      | 10 < 10    | 거짓      |                                     | 종료    |\n"
   ]
  },
  {
   "cell_type": "markdown",
   "id": "2eda7e58",
   "metadata": {},
   "source": [
    "## while 문 만들기\n",
    "- 이번에는 여러 가지 선택지 중 하나를 선택해서 입력받는 예제를 만들어 보자. 먼저 다음과 같이 여러 줄짜리 문자열을 만들자.\n",
    "\n"
   ]
  },
  {
   "cell_type": "code",
   "execution_count": 15,
   "id": "def21709",
   "metadata": {},
   "outputs": [],
   "source": [
    "prompt = \"\"\"\n",
    "1. Add\n",
    "2. Del\n",
    "3. List\n",
    "4. Quit\n",
    "Enter number: \"\"\""
   ]
  },
  {
   "cell_type": "markdown",
   "id": "0b29f87a",
   "metadata": {},
   "source": [
    "- 이어서 number 변수에 0을 먼저 대입한다. 이렇게 변수를 먼저 설정해 놓지 않으면 다음에 나올 while 문의 조건문인 number != 4에서 변수가 존재하지 않는다는 오류가 발생한다.\n",
    "\n"
   ]
  },
  {
   "cell_type": "code",
   "execution_count": null,
   "id": "44b2f5cb",
   "metadata": {},
   "outputs": [],
   "source": [
    "number = 0\n",
    "while number != 4:\n",
    "    print(prompt)\n",
    "    number = int(input())"
   ]
  },
  {
   "cell_type": "markdown",
   "id": "3b9e7e0d",
   "metadata": {},
   "source": [
    "- while 문을 보면 number가 4가 아닌 동안 prompt를 출력하고 사용자로부터 번호를 입력받는다. 다음 결과 화면처럼 사용자가 값 4를 입력하지 않으면 계속해서 prompt를 출력한다.\n",
    "\n",
    "> 여기에서 number = int(input())는 사용자의 숫자 입력을 받아들이는 것이라고만 알아 두자. int나 input 함수에 대한 내용은 뒤에 나오는 내장 함수 부분에서 자세하게 다룬다.\n",
    "\n",
    "- 4를 입력하면 조건문이 거짓이 되어 while 문을 빠져나가게 된다.\n",
    "\n"
   ]
  },
  {
   "cell_type": "markdown",
   "id": "163c2774",
   "metadata": {},
   "source": [
    "## while 문 강제로 빠져나가기\n",
    "- while 문은 조건문이 참인 동안 계속 while 문 안의 내용을 반복적으로 수행한다. 하지만 강제로 while 문을 빠져나가고 싶을 때가 있다.\n",
    "\n",
    "- 예를 들어 커피 자판기를 생각해 보자. 자판기 안에 커피가 충분히 있을 때 동전을 넣으면 커피가 나온다. 그런데 자판기가 제대로 작동하려면 커피가 얼마나 남았는지 항상 검사해야 한다. 만약 커피가 떨어졌다면 판매를 중단하고 ‘판매 중지’ 문구를 사용자에게 보여 주어야 한다. 이렇게 판매를 강제로 멈추게 하는 것이 바로 break 문이다.\n",
    "\n",
    "<img src=\"https://wikidocs.net/images/page/21/03_2_coffee.png\">\n",
    "\n",
    "- 다음 예는 커피 자판기 이야기를 파이썬 프로그램으로 표현해 본 것이다.\n",
    "\n"
   ]
  },
  {
   "cell_type": "code",
   "execution_count": 17,
   "id": "8e609d67",
   "metadata": {},
   "outputs": [
    {
     "name": "stdout",
     "output_type": "stream",
     "text": [
      "돈을 받았으니 커피를 줍니다.\n",
      "남은 커피의 양은 9개입니다.\n",
      "돈을 받았으니 커피를 줍니다.\n",
      "남은 커피의 양은 8개입니다.\n",
      "돈을 받았으니 커피를 줍니다.\n",
      "남은 커피의 양은 7개입니다.\n",
      "돈을 받았으니 커피를 줍니다.\n",
      "남은 커피의 양은 6개입니다.\n",
      "돈을 받았으니 커피를 줍니다.\n",
      "남은 커피의 양은 5개입니다.\n",
      "돈을 받았으니 커피를 줍니다.\n",
      "남은 커피의 양은 4개입니다.\n",
      "돈을 받았으니 커피를 줍니다.\n",
      "남은 커피의 양은 3개입니다.\n",
      "돈을 받았으니 커피를 줍니다.\n",
      "남은 커피의 양은 2개입니다.\n",
      "돈을 받았으니 커피를 줍니다.\n",
      "남은 커피의 양은 1개입니다.\n",
      "돈을 받았으니 커피를 줍니다.\n",
      "남은 커피의 양은 0개입니다.\n",
      "커피가 다 떨어졌습니다. 판매를 중지합니다.\n"
     ]
    }
   ],
   "source": [
    "coffee = 10\n",
    "money = 300\n",
    "while money:\n",
    "    print(\"돈을 받았으니 커피를 줍니다.\")\n",
    "    coffee = coffee -1\n",
    "    print(\"남은 커피의 양은 %d개입니다.\" % coffee)\n",
    "    if coffee == 0:\n",
    "        print(\"커피가 다 떨어졌습니다. 판매를 중지합니다.\")\n",
    "        break"
   ]
  },
  {
   "cell_type": "markdown",
   "id": "056aab5b",
   "metadata": {},
   "source": [
    "- money가 300으로 고정되어 있고 while money:에서 조건문인 money는 0이 아니기 때문에 항상 참이다. 따라서 무한히 반복되는 무한 루프를 돌게 된다. 그리고 while 문의 내용을 한 번 수행할 때마다 coffee = coffee - 1에 의해 coffee의 개수가 1개씩 줄어든다. 만약 coffee가 0이 되면 if coffee == 0: 문장에서 coffee == 0이 참이 되므로 if 문 다음 문장 \"커피가 다 떨어졌습니다. 판매를 중지합니다.\"가 출력되고 break 문이 호출되어 while 문을 빠져나가게 된다.\n",
    "\n",
    "- 하지만 실제 자판기는 위 예처럼 작동하지는 않을 것이다. 다음은 자판기의 실제 작동 과정과 비슷하게 만들어 본 예이다. 다음 예는 조금 복잡하므로 대화형 인터프리터를 사용하지 말고 IDLE 에디터를 사용해서 작성해 보자.\n",
    "\n"
   ]
  },
  {
   "cell_type": "code",
   "execution_count": null,
   "id": "37818b62",
   "metadata": {},
   "outputs": [],
   "source": [
    "coffee = 10\n",
    "while True:\n",
    "    money = int(input(\"돈을 넣어 주세요: \"))\n",
    "    if money == 300:\n",
    "        print(\"커피를 줍니다.\")\n",
    "        coffee = coffee -1\n",
    "    elif money > 300:\n",
    "        print(\"거스름돈 %d를 주고 커피를 줍니다.\" % (money -300))\n",
    "        coffee = coffee -1\n",
    "    else:\n",
    "        print(\"돈을 다시 돌려주고 커피를 주지 않습니다.\")\n",
    "        print(\"남은 커피의 양은 %d개 입니다.\" % coffee)\n",
    "    if coffee == 0:\n",
    "        print(\"커피가 다 떨어졌습니다. 판매를 중지 합니다.\")\n",
    "        break"
   ]
  },
  {
   "cell_type": "markdown",
   "id": "b83900d0",
   "metadata": {},
   "source": [
    "- 위 프로그램 소스를 따로 설명하지는 않겠다. 여러분이 소스를 입력하면서 무슨 내용인지 이해할 수 있다면 지금까지 배운 if 문이나 while 문을 이해했다고 보면 된다. 만약 money = int(input(\"돈을 넣어 주세요: \")) 문장이 이해되지 않는다면 이 문장은 사용자로부터 값을 입력받는 부분이고 입력받은 숫자를 money 변수에 대입하는 것이라고만 알아 두자.\n",
    "\n",
    "- 이제 coffee.py 파일을 저장한 후 명령 프롬프트 창을 열어 프로그램을 직접 실행해 보자.\n",
    "\n",
    "> 프로그램 소스를 에디터로 작성해서 실행하는 방법이 기억나지 않는다면 01-6절을 참고하기 바란다.\n",
    "\n",
    "- 입력란에 여러 숫자를 입력해 보면서 결과를 확인하자.\n",
    "\n",
    "```python\n",
    "\n",
    "돈을 넣어 주세요: 500\n",
    "거스름돈 200를 주고 커피를 줍니다.\n",
    "돈을 넣어 주세요: 300\n",
    "커피를 줍니다.\n",
    "돈을 넣어 주세요: 100\n",
    "돈을 다시 돌려주고 커피를 주지 않습니다.\n",
    "남은 커피의 양은 8개입니다.\n",
    "돈을 넣어 주세요:\n",
    "    \n",
    "```"
   ]
  },
  {
   "cell_type": "markdown",
   "id": "4e81d7da",
   "metadata": {},
   "source": [
    "## while 문의 맨 처음으로 돌아가기\n",
    "- while 문 안의 문장을 수행할 때 입력 조건을 검사해서 조건에 맞지 않으면 while 문을 빠져나간다. 그런데 프로그래밍을 하다 보면 while 문을 빠져나가지 않고 while 문의 맨 처음(조건문)으로 다시 돌아가게 만들고 싶은 경우가 생기게 된다. 이때 사용하는 것이 바로 continue 문이다.\n",
    "\n",
    "- 1부터 10까지의 숫자 중에서 홀수만 출력하는 것을 while 문을 사용해서 작성한다고 생각해 보자. 어떤 방법이 좋을까?\n"
   ]
  },
  {
   "cell_type": "code",
   "execution_count": 21,
   "id": "d9f6cea3",
   "metadata": {},
   "outputs": [
    {
     "name": "stdout",
     "output_type": "stream",
     "text": [
      "1\n",
      "3\n",
      "5\n",
      "7\n",
      "9\n"
     ]
    }
   ],
   "source": [
    "a = 0\n",
    "while a < 10:\n",
    "    a = a + 1\n",
    "    if a % 2 == 0: continue\n",
    "    print(a)"
   ]
  },
  {
   "cell_type": "markdown",
   "id": "7074b7f6",
   "metadata": {},
   "source": [
    "- 위는 1부터 10까지의 숫자 중 홀수만 출력하는 예이다. a가 10보다 작은 동안 a는 1만큼씩 계속 증가한다. a % 2 == 0(a를 2로 나누었을 때 나머지가 0인 경우)이 참이 되는 경우는 a가 짝수일 때이다. 즉, a가 짝수이면 continue 문을 수행한다. 이 continue 문은 while 문의 맨 처음인 조건문(a < 10)으로 돌아가게 하는 명령어이다. 따라서 위 예에서 a가 짝수이면 print(a) 문장은 수행되지 않을 것이다.\n",
    "\n"
   ]
  },
  {
   "cell_type": "markdown",
   "id": "403fbc0e",
   "metadata": {},
   "source": [
    "**문제**\n",
    "- 1부터 10까지의 숫자 중에서 3의 배수를 뺀 나머지 값을 출력해 보자"
   ]
  },
  {
   "cell_type": "code",
   "execution_count": null,
   "id": "b1a94abf",
   "metadata": {},
   "outputs": [],
   "source": []
  },
  {
   "cell_type": "markdown",
   "id": "dc3e2192",
   "metadata": {},
   "source": [
    "## 무한 루프\n",
    "- 이번에는 무한 루프(endless loop)에 대해 알아보자. 무한 루프란 무한히 반복한다는 의미이다. 우리가 사용하는 일반 프로그램 중에서 무한 루프 개념을 사용하지 않는 프로그램은 거의 없다. 그만큼 자주 사용한다는 뜻이다.\n",
    "\n",
    "- 파이썬에서 무한 루프는 while 문으로 구현할 수 있다. 다음은 무한 루프의 기본 형태이다.\n",
    "```python\n",
    "while True: \n",
    "    수행할_문장1 \n",
    "    수행할_문장2\n",
    "    ...\n",
    "```\n",
    "\n",
    "- while 문의 조건문이 True이므로 항상 참이 된다. 따라서 while 문 안에 있는 문장들은 무한히 수행될 것이다.\n",
    "\n",
    "- 다음은 무한 루프의 예이다."
   ]
  },
  {
   "cell_type": "code",
   "execution_count": null,
   "id": "d9b8c0e5",
   "metadata": {},
   "outputs": [],
   "source": [
    "import time \n",
    "while True:\n",
    "    print(\"Ctrl+C를 눌러야 while문을 빠져나갈 수 있습니다.\")\n",
    "    time.sleep(1)"
   ]
  },
  {
   "cell_type": "markdown",
   "id": "7c4ef172",
   "metadata": {},
   "source": [
    "- 위 문장은 영원히 출력된다. 하지만 이 예처럼 아무 의미 없이 무한 루프를 돌리는 경우는 거의 없을 것이다. [Ctrl+C]를 눌러 빠져나가자.\n"
   ]
  },
  {
   "cell_type": "markdown",
   "id": "a8e82a33",
   "metadata": {},
   "source": [
    "# for문\n",
    "- 파이썬의 직관적인 특징을 가장 잘 보여 주는 것이 바로 이 for 문이다. while 문과 비슷한 반복문인 for 문은 문장 구조가 한눈에 들어온다는 장점이 있다. for 문을 잘 사용하면 프로그래밍이 즐거워질 것이다.\n",
    "\n",
    "## for 문의 기본 구조\n",
    "- for 문의 기본 구조는 다음과 같다.\n",
    "\n",
    "```python\n",
    "for 변수 in 리스트(또는 튜플, 문자열):\n",
    "    수행할_문장1\n",
    "    수행할_문장2\n",
    "    ...\n",
    "```    \n",
    "- 리스트나 튜플, 문자열의 첫 번째 요소부터 마지막 요소까지 차례로 변수에 대입되어 ‘수행할_문장1’, ‘수행할_문장2’ 등이 수행된다.\n",
    "\n",
    "## 예제를 통해 for 문 이해하기\n",
    "- for 문은 예제를 통해서 살펴보는 것이 가장 알기 쉽다. 다음 예제를 직접 입력해 보자.\n",
    "\n",
    "### 전형적인 for 문\n"
   ]
  },
  {
   "cell_type": "code",
   "execution_count": 26,
   "id": "3d1c13b6",
   "metadata": {},
   "outputs": [
    {
     "name": "stdout",
     "output_type": "stream",
     "text": [
      "one\n",
      "two\n",
      "three\n"
     ]
    }
   ],
   "source": [
    "test_list = ['one', 'two', 'three'] \n",
    "for i in test_list: \n",
    "    print(i)"
   ]
  },
  {
   "cell_type": "markdown",
   "id": "d6c02588",
   "metadata": {},
   "source": [
    "- ['one', 'two', 'three'] 리스트의 첫 번째 요소인 'one'이 먼저 i 변수에 대입된 후 print(i) 문장을 수행한다. 다음에 두 번째 요소 'two'가 i 변수에 대입된 후 print(i) 문장을 수행하고 리스트의 마지막 요소까지 이것을 반복한다.\n",
    "\n",
    "## 다양한 for 문의 사용"
   ]
  },
  {
   "cell_type": "code",
   "execution_count": 27,
   "id": "dbd9962c",
   "metadata": {},
   "outputs": [
    {
     "name": "stdout",
     "output_type": "stream",
     "text": [
      "3\n",
      "7\n",
      "11\n"
     ]
    }
   ],
   "source": [
    "a = [(1,2), (3,4), (5,6)]\n",
    "for (first, last) in a:\n",
    "    print(first + last)"
   ]
  },
  {
   "cell_type": "markdown",
   "id": "e0dc56fe",
   "metadata": {},
   "source": [
    "- 위 예는 a 리스트의 요솟값이 튜플이기 때문에 각각의 요소가 자동으로 (first, last) 변수에 대입된다.\n",
    "\n",
    "## for 문의 응용\n",
    "\n",
    "- for 문의 쓰임새를 알기 위해 다음과 같은 문제를 생각해 보자.\n",
    "\n",
    "> 총 5명의 학생이 시험을 보았는데 시험 점수가 60점 이상이면 합격이고 그렇지 않으면 불합격이다. 합격인지, 불합격인지 결과를 보여 주시오.\n",
    "\n",
    "-먼저 학생 5명의 시험 점수를 리스트로 표현해 보자.\n",
    "```python\n",
    "marks = [90, 25, 67, 45, 80]\n",
    "```\n",
    "- 1번 학생은 90점이고 5번 학생은 80점이다.\n",
    "\n",
    "- 이런 점수를 차례로 검사해서 합격했는지, 불합격했는지 통보해 주는 프로그램을 만들어 보자. IDLE 에디터로 작성하자.\n",
    "\n"
   ]
  },
  {
   "cell_type": "code",
   "execution_count": 28,
   "id": "e3a09bdf",
   "metadata": {},
   "outputs": [
    {
     "name": "stdout",
     "output_type": "stream",
     "text": [
      "1번 학생은 합격입니다.\n",
      "2번 학생은 불합격입니다.\n",
      "3번 학생은 합격입니다.\n",
      "4번 학생은 불합격입니다.\n",
      "5번 학생은 합격입니다.\n"
     ]
    }
   ],
   "source": [
    "marks = [90, 25, 67, 45, 80]   # 학생들의 시험 점수 리스트\n",
    "\n",
    "number = 0   # 학생에게 붙여 줄 번호\n",
    "for mark in marks:   # 90, 25, 67, 45, 80을 순서대로 mark에 대입\n",
    "    number = number +1 \n",
    "    if mark >= 60: \n",
    "        print(\"%d번 학생은 합격입니다.\" % number)\n",
    "    else: \n",
    "        print(\"%d번 학생은 불합격입니다.\" % number)"
   ]
  },
  {
   "cell_type": "markdown",
   "id": "76d014c6",
   "metadata": {},
   "source": [
    "- 각각의 학생에게 번호를 붙여 주기 위해 number 변수를 사용하였다. 점수 리스트 marks에서 차례로 점수를 꺼내어 mark라는 변수에 대입하고 for 문 안의 문장들을 수행한다. 먼저 for 문이 한 번씩 수행될 때마다 number는 1씩 증가한다.\n",
    "\n",
    "<img src=\"https://wikidocs.net/images/page/22/03_3_for1.png\">\n",
    "\n",
    "이 프로그램을 실행하면 mark가 60 이상일 때 합격 메시지를 출력하고 60을 넘지 않을 때 불합격 메시지를 출력한다. 명령 프롬프트 창을 열어 실행해 보자."
   ]
  },
  {
   "cell_type": "markdown",
   "id": "d296826e",
   "metadata": {},
   "source": [
    "## for 문과 continue 문\n",
    "- while 문에서 살펴본 continue 문을 for 문에서도 사용할 수 있다. 즉, for 문 안의 문장을 수행하는 도중 continue 문을 만나면 for 문의 처음으로 돌아가게 된다.\n",
    "\n",
    "- 앞에서 for 문 응용 예제를 그대로 사용해서 60점 이상인 사람에게는 축하 메시지를 보내고 나머지 사람에게는 아무런 메시지도 전하지 않는 프로그램을 IDLE 에디터로 작성해 보자."
   ]
  },
  {
   "cell_type": "code",
   "execution_count": 25,
   "id": "086f1adc",
   "metadata": {},
   "outputs": [
    {
     "name": "stdout",
     "output_type": "stream",
     "text": [
      "1번 학생 축하합니다. 합격입니다. \n",
      "3번 학생 축하합니다. 합격입니다. \n",
      "5번 학생 축하합니다. 합격입니다. \n"
     ]
    }
   ],
   "source": [
    "marks = [90, 25, 67, 45, 80]\n",
    "\n",
    "number = 0 \n",
    "for mark in marks: \n",
    "    number = number +1 \n",
    "    if mark < 60:\n",
    "        continue \n",
    "    # print(\"%d번 학생 축하합니다. 합격입니다. \" % number)\n",
    "    print(f\"{number}번 학생 축하합니다. 합격입니다.\")"
   ]
  },
  {
   "cell_type": "markdown",
   "id": "96a9feb7",
   "metadata": {},
   "source": [
    "- 점수가 60점 이하인 학생인 경우에는 mark < 60이 참이 되어 continue 문이 수행된다. 따라서 축하 메시지를 출력하는 부분인 print 문을 수행하지 않고 for 문의 처음으로 돌아가게 된다.\n",
    "\n"
   ]
  },
  {
   "cell_type": "markdown",
   "id": "0e52a00a",
   "metadata": {},
   "source": [
    "## for 문과 함께 자주 사용하는 range 함수\n",
    "- for 문은 숫자 리스트를 자동으로 만들어 주는 range 함수와 함께 사용하는 경우가 많다. 다음은 range 함수의 간단한 사용법이다.\n",
    "\n"
   ]
  },
  {
   "cell_type": "code",
   "execution_count": 27,
   "id": "0dc5c765",
   "metadata": {},
   "outputs": [
    {
     "data": {
      "text/plain": [
       "range(0, 10)"
      ]
     },
     "execution_count": 27,
     "metadata": {},
     "output_type": "execute_result"
    }
   ],
   "source": [
    "a = range(10)\n",
    "a"
   ]
  },
  {
   "cell_type": "markdown",
   "id": "3c3d54d6",
   "metadata": {},
   "source": [
    "- range(10)은 0부터 10 미만의 숫자를 포함하는 range 객체를 만들어 준다.\n",
    "\n",
    "- 시작 숫자와 끝 숫자를 지정하려면 range(시작_숫자, 끝_숫자) 형태를 사용하는데, 이때 끝 숫자는 포함되지 않는다.\n",
    "\n"
   ]
  },
  {
   "cell_type": "code",
   "execution_count": 28,
   "id": "8d6653e6",
   "metadata": {},
   "outputs": [
    {
     "data": {
      "text/plain": [
       "range(1, 11)"
      ]
     },
     "execution_count": 28,
     "metadata": {},
     "output_type": "execute_result"
    }
   ],
   "source": [
    "a = range(1, 11)\n",
    "a"
   ]
  },
  {
   "cell_type": "markdown",
   "id": "54dbfd99",
   "metadata": {},
   "source": [
    "### range 함수의 예시 살펴보기\n",
    "- for와 range 함수를 사용하면 1부터 10까지 더하는 것을 다음과 같이 쉽게 구현할 수 있다.\n",
    "\n"
   ]
  },
  {
   "cell_type": "code",
   "execution_count": 32,
   "id": "d9080c1f",
   "metadata": {},
   "outputs": [
    {
     "data": {
      "text/plain": [
       "55"
      ]
     },
     "execution_count": 32,
     "metadata": {},
     "output_type": "execute_result"
    }
   ],
   "source": [
    "add = 0 \n",
    "for i in range(1, 11): \n",
    "    add = add + i \n",
    "add    "
   ]
  },
  {
   "cell_type": "markdown",
   "id": "823b3736",
   "metadata": {},
   "source": [
    "- range(1, 11)은 숫자 1부터 10까지(1 이상 11 미만)의 숫자를 데이터로 가지는 객체이다. 따라서 위 예에서 i 변수에 숫자가 1부터 10까지 하나씩 차례로 대입되면서 add = add + i 문장을 반복적으로 수행하고 add는 최종적으로 55가 된다.\n",
    "\n",
    "- 또한 우리가 앞에서 살펴본 합격 축하 문장을 출력하는 예제도 range 함수를 사용해서 다음과 같이 바꿀 수 있다.\n",
    "\n"
   ]
  },
  {
   "cell_type": "code",
   "execution_count": 33,
   "id": "0df8bb66",
   "metadata": {},
   "outputs": [
    {
     "name": "stdout",
     "output_type": "stream",
     "text": [
      "1번 학생 축하합니다. 합격입니다.\n",
      "3번 학생 축하합니다. 합격입니다.\n",
      "5번 학생 축하합니다. 합격입니다.\n"
     ]
    }
   ],
   "source": [
    "marks = [90, 25, 67, 45, 80]\n",
    "for number in range(len(marks)):\n",
    "    if marks[number] < 60: \n",
    "        continue\n",
    "    print(\"%d번 학생 축하합니다. 합격입니다.\" % (number+1))"
   ]
  },
  {
   "cell_type": "markdown",
   "id": "426e1aa2",
   "metadata": {},
   "source": [
    "- len는 리스트 안의 요소 개수를 리턴하는 함수이다. 따라서 len(marks)는 5, range(len(marks))는 range(5)가 될 것이다. number 변수에는 차례로 0부터 4까지의 숫자가 대입되고 marks[number]는 차례대로 90, 25, 67, 45, 80 값을 가지게 된다. 결과는 marks2.py 예제와 동일하다.\n",
    "\n"
   ]
  },
  {
   "cell_type": "markdown",
   "id": "21fec032",
   "metadata": {},
   "source": [
    "**문제**\n",
    "- for문과 range 함수를 사용하여 1부터 100까지 더해보자"
   ]
  },
  {
   "cell_type": "code",
   "execution_count": null,
   "id": "5b8c5d4e",
   "metadata": {},
   "outputs": [],
   "source": []
  },
  {
   "cell_type": "markdown",
   "id": "bbe4f9ee",
   "metadata": {},
   "source": [
    "### for와 range를 이용한 구구단\n",
    "- for와 range 함수를 사용하면 소스 코드 단 4줄만으로 구구단을 출력할 수 있다. 들여쓰기에 주의하면서 입력해 보자.\n",
    "\n"
   ]
  },
  {
   "cell_type": "code",
   "execution_count": 39,
   "id": "073fa8cd-2d7e-4414-a3ce-2707047afec7",
   "metadata": {},
   "outputs": [
    {
     "name": "stdout",
     "output_type": "stream",
     "text": [
      "ddd ccc "
     ]
    }
   ],
   "source": [
    "print('ddd',end=\" \")\n",
    "print('ccc',end=\" \")"
   ]
  },
  {
   "cell_type": "code",
   "execution_count": 34,
   "id": "b9a7877d",
   "metadata": {},
   "outputs": [
    {
     "name": "stdout",
     "output_type": "stream",
     "text": [
      "2 4 6 8 10 12 14 16 18 \n",
      "3 6 9 12 15 18 21 24 27 \n",
      "4 8 12 16 20 24 28 32 36 \n",
      "5 10 15 20 25 30 35 40 45 \n",
      "6 12 18 24 30 36 42 48 54 \n",
      "7 14 21 28 35 42 49 56 63 \n",
      "8 16 24 32 40 48 56 64 72 \n",
      "9 18 27 36 45 54 63 72 81 \n"
     ]
    }
   ],
   "source": [
    "for i in range(2,10):        # 1번 for문\n",
    "    for j in range(1, 10):   # 2번 for문\n",
    "        print(i*j, end=\" \") \n",
    "    print('') "
   ]
  },
  {
   "cell_type": "code",
   "execution_count": null,
   "id": "15e3c09a-d254-4567-8175-222ceb61a186",
   "metadata": {},
   "outputs": [],
   "source": []
  },
  {
   "cell_type": "markdown",
   "id": "58f321a4",
   "metadata": {},
   "source": [
    "- 위 예를 보면 for 문을 두 번 사용했다. 1번 for 문에서 2부터 9까지의 숫자(range(2, 10))가 차례대로 i에 대입된다. i가 처음 2일 때 2번 for 문을 만나게 된다. 2번 for 문에서 1부터 9까지의 숫자(range(1, 10))가 j에 대입되고 그다음 문장인 print(i*j, end=\" \")를 수행한다. 따라서 i가 2일 때 2 * 1, 2 * 2, 2 * 3, … 2 * 9까지 차례대로 수행되며 그 값을 출력하게 된다. 그다음으로 i가 3일 때 역시 2일 때와 마찬가지로 수행될 것이고 i가 9일 때까지 계속 반복된다.\n",
    "\n",
    "<img src=\"https://wikidocs.net/images/page/22/03_3_for2.png\">\n",
    "\n",
    "- print(i*j, end=\" \")와 같이 print 함수에 end 파라미터를 설정한 이유는 해당 결괏값을 출력할 때 다음 줄로 넘기지 않고 그 줄에 계속 출력하기 위해서이다. 그다음에 이어지는 print('')는 2단, 3단 등을 구분하기 위해 사용했다. 두 번째 for 문이 끝나면 결괏값을 다음 줄부터 출력하게 하는 역할을 한다.\n",
    "\n",
    "> - print 문의 end 매개변수에는 줄바꿈 문자(\\n)가 기본값으로 설정되어 있다.\n",
    "> - print 문은 04-2에서 보다 자세히 다룬다."
   ]
  },
  {
   "cell_type": "markdown",
   "id": "d6a247f9",
   "metadata": {},
   "source": [
    "## 리스트 컴프리헨션 사용하기\n",
    "- 리스트 안에 for 문을 포함하는 리스트 컴프리헨션(list comprehension)을 사용하면 좀 더 편리하고 직관적인 프로그램을 만들 수 있다. 다음 예제를 살펴보자.\n",
    "\n"
   ]
  },
  {
   "cell_type": "code",
   "execution_count": 35,
   "id": "b1c1cb49",
   "metadata": {},
   "outputs": [
    {
     "data": {
      "text/plain": [
       "[3, 6, 9, 12]"
      ]
     },
     "execution_count": 35,
     "metadata": {},
     "output_type": "execute_result"
    }
   ],
   "source": [
    "a = [1,2,3,4]\n",
    "result = []\n",
    "for num in a:\n",
    "    result.append(num*3)\n",
    "result    "
   ]
  },
  {
   "cell_type": "markdown",
   "id": "d07f43f9",
   "metadata": {},
   "source": [
    "- 위 예제에서는 a 리스트의 각 항목에 3을 곱한 결과를 result 리스트에 담았다.\n",
    "\n",
    "- 리스트 컴프리헨션을 사용하면 다음과 같이 좀 더 간단하게 작성할 수 있다."
   ]
  },
  {
   "cell_type": "code",
   "execution_count": 36,
   "id": "d2e5febc",
   "metadata": {},
   "outputs": [
    {
     "data": {
      "text/plain": [
       "[3, 6, 9, 12]"
      ]
     },
     "execution_count": 36,
     "metadata": {},
     "output_type": "execute_result"
    }
   ],
   "source": [
    "a = [1,2,3,4]\n",
    "result = [num * 3 for num in a]\n",
    "result    "
   ]
  },
  {
   "cell_type": "markdown",
   "id": "28b49712",
   "metadata": {},
   "source": [
    "- 만약 [1, 2, 3, 4] 중에서 짝수에만 3을 곱하여 담고 싶다면 리스트 컴프리헨션 안에 ‘if 조건문’을 사용하면 된다.\n",
    "\n"
   ]
  },
  {
   "cell_type": "code",
   "execution_count": 37,
   "id": "73ac6d3e",
   "metadata": {},
   "outputs": [
    {
     "data": {
      "text/plain": [
       "[6, 12]"
      ]
     },
     "execution_count": 37,
     "metadata": {},
     "output_type": "execute_result"
    }
   ],
   "source": [
    "a = [1,2,3,4]\n",
    "result = [num * 3 for num in a if num % 2 == 0]\n",
    "result    "
   ]
  },
  {
   "cell_type": "markdown",
   "id": "c77123e0",
   "metadata": {},
   "source": [
    "- 리스트 컴프리헨션의 문법은 다음과 같다. ‘if 조건문’ 부분은 앞의 예제에서 볼 수 있듯이 생략할 수 있다.\n",
    "\n",
    "```python\n",
    "[표현식 for 항목 in 반복_가능_객체 if 조건문]\n",
    "```\n",
    "\n",
    "- 조금 복잡하지만, for 문을 2개 이상 사용하는 것도 가능하다. for 문을 여러 개 사용할 때의 문법은 다음과 같다.\n",
    "\n",
    "```python\n",
    "[표현식 for 항목1 in 반복_가능_객체1 if 조건문1\n",
    "      for 항목2 in 반복_가능_객체2 if 조건문2\n",
    "      ...\n",
    "      for 항목n in 반복_가능_객체n if 조건문n]\n",
    "```\n",
    "\n",
    "- 만약 구구단의 모든 결과를 리스트에 담고 싶다면 리스트 컴프리헨션을 사용하여 다음과 같이 간단하게 구현할 수도 있다.\n",
    "\n"
   ]
  },
  {
   "cell_type": "code",
   "execution_count": 39,
   "id": "1153b589",
   "metadata": {},
   "outputs": [
    {
     "name": "stdout",
     "output_type": "stream",
     "text": [
      "[2, 4, 6, 8, 10, 12, 14, 16, 18, 3, 6, 9, 12, 15, 18, 21, 24, 27, 4, 8, 12, 16, 20, 24, 28, 32, 36, 5, 10, 15, 20, 25, 30, 35, 40, 45, 6, 12, 18, 24, 30, 36, 42, 48, 54, 7, 14, 21, 28, 35, 42, 49, 56, 63, 8, 16, 24, 32, 40, 48, 56, 64, 72, 9, 18, 27, 36, 45, 54, 63, 72, 81]\n"
     ]
    }
   ],
   "source": [
    "result = [x*y for x in range(2,10)\n",
    "              for y in range(1,10)]\n",
    "print(result)"
   ]
  },
  {
   "cell_type": "markdown",
   "id": "963c13c7",
   "metadata": {},
   "source": [
    "- 지금까지 우리는 프로그램 흐름을 제어하는 if 문, while 문, for 문에 대해 알아보았다. 아마도 여러분은 while 문과 for 문을 보면서 2가지가 매우 비슷하다는 느낌을 받았을 것이다. 실제로 for 문으로 작성한 코드를 while 문으로 바꿀 수 있는 경우도 많고 while 문을 for 문으로 바꾸어서 사용할 수 있는 경우도 많다.\n",
    "\n"
   ]
  },
  {
   "cell_type": "markdown",
   "id": "27aaac84",
   "metadata": {},
   "source": [
    "# 되새김 문제"
   ]
  },
  {
   "cell_type": "markdown",
   "id": "9f1eb5c0",
   "metadata": {},
   "source": [
    "## 조건문의 참과 거짓\n",
    "- 다음 코드의 결과값은 무엇일까?\n",
    "\n",
    "```python\n",
    "a = \"Life is too short, you need python\"\n",
    "\n",
    "if \"wife\" in a: print(\"wife\")\n",
    "elif \"python\" in a and \"you\" not in a: print(\"python\")\n",
    "elif \"shirt\" not in a: print(\"shirt\")\n",
    "elif \"need\" in a : print(\"need\")\n",
    "else: print(\"none\")    \n",
    "```"
   ]
  },
  {
   "cell_type": "code",
   "execution_count": null,
   "id": "040105f8",
   "metadata": {},
   "outputs": [],
   "source": []
  },
  {
   "cell_type": "markdown",
   "id": "f2abac3c",
   "metadata": {},
   "source": [
    "## 3의 배수의 합 구하기\n",
    "- while문을 사용해, 1부터 1000까지의 자연수 중 3의 배수의 합을 구해보자\n",
    "\n",
    "- 힌트\n",
    "```python\n",
    "result = 0\n",
    "i = 1\n",
    "while 1<=1000:\n",
    "    if xxxx:\n",
    "        result += i\n",
    "    i += 1\n",
    "    \n",
    "print(result)    \n",
    "```"
   ]
  },
  {
   "cell_type": "code",
   "execution_count": null,
   "id": "2d285624",
   "metadata": {},
   "outputs": [],
   "source": []
  },
  {
   "cell_type": "markdown",
   "id": "ae5898f1",
   "metadata": {},
   "source": [
    "## 별 표시하기\n",
    "- while문을 사용해 다음과 같이 별(\\*)을 표시하는 프로그램을 작성해 보자\n",
    "- 힌트\n",
    "```python\n",
    "i = 0\n",
    "while True:\n",
    "    i += 1 # while문을 수행 할 때 1씩 증가 \n",
    "    if xxx : break # i 값이 5를 초과 하면 while 문을 벗어난다\n",
    "    print(xxx) # i값의 개수만큼 '*' 출력\n",
    "```\n",
    "\n",
    "- 출력 결과\n",
    "```python\n",
    "*\n",
    "**\n",
    "***\n",
    "****\n",
    "*****\n",
    "```\n",
    "\n"
   ]
  },
  {
   "cell_type": "code",
   "execution_count": null,
   "id": "ded83271",
   "metadata": {},
   "outputs": [],
   "source": []
  },
  {
   "cell_type": "markdown",
   "id": "f44c38b3",
   "metadata": {},
   "source": [
    "## 1부터 100까지 출력하기\n",
    "- for문을 사용해 1부터 100까지의 숫자를 출력해 보자\n",
    "- 힌트\n",
    "```python\n",
    "for i in xxxx:\n",
    "    print(i\n",
    "```"
   ]
  },
  {
   "cell_type": "code",
   "execution_count": null,
   "id": "522eb25a",
   "metadata": {},
   "outputs": [],
   "source": []
  },
  {
   "cell_type": "markdown",
   "id": "07bceade",
   "metadata": {},
   "source": [
    "## 평균 점수 구하기\n",
    "- A 학급에 총 10명의 학생이 있다. 이 학생들의 중간고사 점수는 다음과 같다.\n",
    "> [70, 60, 55, 75, 95, 90, 80, 80, 85, 100]\n",
    "- for 문을 사용 A학급의 평균을 구하자\n",
    "- 힌트\n",
    "```python\n",
    "A = [70, 60, 55, 75, 95, 90, 80, 80, 85, 100]\n",
    "total = 0\n",
    "for score in A:\n",
    "    total += xxxx\n",
    "average = xxxx\n",
    "print(average)\n",
    "```"
   ]
  },
  {
   "cell_type": "code",
   "execution_count": null,
   "id": "f9035668",
   "metadata": {},
   "outputs": [],
   "source": []
  },
  {
   "cell_type": "markdown",
   "id": "1d222a2e",
   "metadata": {},
   "source": [
    "## 리스트 컴프리헨션 사용하기\n",
    "- 다음 소스 코드는 리스트의 요소 중 홀수만 골라 2를 곱한 값을 result 리스트에 담는 예제이다\n",
    "```python\n",
    "numbers = [1, 2, 3, 4, 5]\n",
    "result = []\n",
    "for n in numbers:\n",
    "    if n%2 == 1:\n",
    "        result.append(n*2)\n",
    "```\n",
    "- 이 코드를 리스트 컴프리핸션을 사용해 표현해 보자\n",
    "```python\n",
    "numbers = [1, 2, 3, 4, 5]\n",
    "result = xxxx\n",
    "print(result)\n",
    "```"
   ]
  },
  {
   "cell_type": "code",
   "execution_count": null,
   "id": "bff38312",
   "metadata": {},
   "outputs": [],
   "source": []
  }
 ],
 "metadata": {
  "kernelspec": {
   "display_name": "Python 3 (ipykernel)",
   "language": "python",
   "name": "python3"
  },
  "language_info": {
   "codemirror_mode": {
    "name": "ipython",
    "version": 3
   },
   "file_extension": ".py",
   "mimetype": "text/x-python",
   "name": "python",
   "nbconvert_exporter": "python",
   "pygments_lexer": "ipython3",
   "version": "3.10.14"
  },
  "toc": {
   "base_numbering": 1,
   "nav_menu": {},
   "number_sections": true,
   "sideBar": true,
   "skip_h1_title": false,
   "title_cell": "Table of Contents",
   "title_sidebar": "Contents",
   "toc_cell": false,
   "toc_position": {
    "height": "calc(100% - 180px)",
    "left": "10px",
    "top": "150px",
    "width": "241.917px"
   },
   "toc_section_display": true,
   "toc_window_display": true
  }
 },
 "nbformat": 4,
 "nbformat_minor": 5
}
